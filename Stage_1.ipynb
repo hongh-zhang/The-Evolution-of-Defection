{
 "cells": [
  {
   "cell_type": "code",
   "execution_count": 1,
   "id": "hidden-sixth",
   "metadata": {},
   "outputs": [],
   "source": [
    "%load_ext autoreload\n",
    "%autoreload 2"
   ]
  },
  {
   "cell_type": "code",
   "execution_count": 2,
   "id": "amazing-electricity",
   "metadata": {},
   "outputs": [],
   "source": [
    "import gc\n",
    "import numpy as np\n",
    "import axelrod as axl\n",
    "from time import time\n",
    "from pprint import pprint\n",
    "import matplotlib.pyplot as plt\n",
    "from itertools import permutations\n",
    "from collections import namedtuple, deque\n",
    "\n",
    "np.set_printoptions(precision=3)\n",
    "\n",
    "# the following imports are from network / axl_utils folder\n",
    "import network\n",
    "from axl_utils import NNplayer, State, set_match, set_play"
   ]
  },
  {
   "cell_type": "code",
   "execution_count": 3,
   "id": "phantom-inside",
   "metadata": {},
   "outputs": [],
   "source": [
    "C = axl.Action.C\n",
    "D = axl.Action.D\n",
    "\n",
    "# config game rules\n",
    "GAME_LEN = 20 + 1\n",
    "GAME = axl.Game(r=3, s=0, t=5, p=1)\n",
    "Match = set_match(game=GAME, turns=GAME_LEN)\n",
    "play = set_play(Match)"
   ]
  },
  {
   "cell_type": "code",
   "execution_count": 4,
   "id": "celtic-danish",
   "metadata": {},
   "outputs": [
    {
     "name": "stdout",
     "output_type": "stream",
     "text": [
      "[(3, 3), (3, 3), (5, 0), (0, 5), (5, 0), (1, 1), (1, 1), (0, 5), (3, 3), (5, 0), (0, 5), (5, 0), (0, 5), (3, 3), (5, 0), (0, 5), (5, 0), (1, 1), (0, 5), (5, 0)]\n",
      "Player 1 score = 50\n",
      "Player 2 score = 45\n"
     ]
    },
    {
     "data": {
      "text/plain": [
       "<axelrod.match.Match at 0x23891977d00>"
      ]
     },
     "execution_count": 4,
     "metadata": {},
     "output_type": "execute_result"
    }
   ],
   "source": [
    "# the play function set up match between 2 players, print the result then return the match object\n",
    "game = play(axl.Prober4(), axl.TitForTat())\n",
    "game"
   ]
  },
  {
   "cell_type": "code",
   "execution_count": 5,
   "id": "cd140c92-09ae-489d-b65e-439334887219",
   "metadata": {},
   "outputs": [
    {
     "name": "stdout",
     "output_type": "stream",
     "text": [
      "[[[-1 -1 -1 -1 -1 -1 -1 -1 -1 -1 -1 -1 -1 -1 -1 -1 -1 -1 -1 -1  1]\n",
      "  [-1 -1 -1 -1 -1 -1 -1 -1 -1 -1 -1 -1 -1 -1 -1 -1 -1 -1 -1 -1  0]]]\n"
     ]
    }
   ],
   "source": [
    "# this is how we define state, in 2d array    (3d for batch training)\n",
    "\n",
    "s = State(GAME_LEN)\n",
    "s.push(C, D)\n",
    "print(s.values())"
   ]
  },
  {
   "cell_type": "markdown",
   "id": "7ae1a802-2d70-47ef-95c1-105aebe6b7cd",
   "metadata": {},
   "source": [
    "### Section 1: DQN"
   ]
  },
  {
   "cell_type": "code",
   "execution_count": 6,
   "id": "sunset-latex",
   "metadata": {},
   "outputs": [],
   "source": [
    "dqn = network.DQN([\n",
    "                    network.Flatten_layer(),\n",
    "                    network.Linear_layer(GAME_LEN*2, 100),\n",
    "                    network.Activation_layer('ReLU'),\n",
    "                    network.Linear_layer(100, 200),\n",
    "                    network.Activation_layer('ReLU'),\n",
    "                    network.Linear_layer(200, 100),\n",
    "                    network.Activation_layer('ReLU'),\n",
    "                    network.Linear_layer(100, 2),\n",
    "                    ],\n",
    "            network.ReplayMemory(2000), gamma=0.9, greedy=0.2)\n",
    "p1 = NNplayer(dqn, State(GAME_LEN))\n",
    "del dqn\n",
    "gc.collect()\n",
    "\n",
    "param = {\"lr\": 1e-4, 'batch': 64, \"mode\": \"train\", \"eps\": 1e-16, \"epoch\": 0, 't': 1, 'clip': 1.0,\n",
    "         'optimizer': ('Adam', 0.9, 0.999), 'regularizer': None, \"loss_fn\":\"mse\"}"
   ]
  },
  {
   "cell_type": "code",
   "execution_count": 7,
   "id": "e0ff68de-e82a-4b48-b3c5-ee94c93e5021",
   "metadata": {
    "scrolled": true,
    "tags": []
   },
   "outputs": [
    {
     "name": "stdout",
     "output_type": "stream",
     "text": [
      "[[ 0.423 -0.389]]\n",
      "[[ 0.245 -0.885]]\n",
      "[[-0.409 -0.327]]\n",
      "[[-0.277 -0.208]]\n",
      "[[-0.87   0.432]]\n",
      "[[-0.377  0.318]]\n",
      "[[-0.858 -0.49 ]]\n",
      "[[-0.908  0.655]]\n",
      "[[-0.215  0.708]]\n",
      "[[-0.008  0.804]]\n",
      "[[0.582 0.184]]\n",
      "[[0.35  0.309]]\n",
      "[[-0.567  0.838]]\n",
      "[[-0.825  0.605]]\n",
      "[[-1.047  0.146]]\n",
      "[[-0.044  0.265]]\n",
      "[[0.388 0.709]]\n",
      "[[-0.309  0.544]]\n",
      "[[-0.299 -0.28 ]]\n",
      "[[0.207 0.502]]\n",
      "[[0.923 0.353]]\n"
     ]
    }
   ],
   "source": [
    "with p1:\n",
    "    players = (p1, axl.TitForTat())\n",
    "    game = Match(players)\n",
    "    game.play()\n",
    "    \n",
    "# initial Q_value predictions:"
   ]
  },
  {
   "cell_type": "code",
   "execution_count": 8,
   "id": "b07b1e17-0946-4374-9408-ec08dda8c1bb",
   "metadata": {},
   "outputs": [],
   "source": [
    "# initial experience\n",
    "# high greedy -> more random exploration\n",
    "\n",
    "p1.set_greedy(0.8)\n",
    "for i in range(60):\n",
    "    players = (p1, axl.TitForTat())\n",
    "    game = Match(players)\n",
    "    game.play()\n",
    "p1.set_greedy(0.2)"
   ]
  },
  {
   "cell_type": "code",
   "execution_count": 9,
   "id": "6c178b65-3778-4265-a506-9e248211325f",
   "metadata": {},
   "outputs": [
    {
     "name": "stdout",
     "output_type": "stream",
     "text": [
      "28.35\n",
      "27.95\n",
      "27.50\n",
      "27.00\n",
      "26.44\n",
      "25.82\n",
      "25.14\n",
      "24.37\n",
      "23.53\n",
      "22.59\n",
      "21.54\n",
      "20.38\n",
      "19.09\n",
      "17.65\n",
      "16.06\n",
      "14.29\n",
      "12.32\n",
      "10.13\n",
      "7.70\n",
      "5.00\n",
      "0.00\n"
     ]
    }
   ],
   "source": [
    "# theoritical Q values\n",
    "# assuming the player cooperate til the last turn, then defect\n",
    "# annuity with cashflow = 3.0, interest rate = 1/9, periods = 20 turns\n",
    "# then compensate the defection in 2nd last turn, and set last turn to 0.0\n",
    "true_Q = np.array([3.0/(1/9) * (1.0 - 1.0/(1.0+1/9)**(19-i)) + 5.0 if i<20 else 0.0 for i in range(21)])\n",
    "[print(f'{i:.2f}') for i in true_Q];"
   ]
  },
  {
   "cell_type": "code",
   "execution_count": 10,
   "id": "808f28f2-d526-4f78-b7ee-5fc158c90f8f",
   "metadata": {
    "scrolled": true,
    "tags": []
   },
   "outputs": [
    {
     "name": "stdout",
     "output_type": "stream",
     "text": [
      "loss: [0.227 0.286],            time: +4.50 sec\n",
      "loss: [0.179 0.15 ],            time: +4.20 sec\n",
      "loss: [0.11  0.106],            time: +4.91 sec\n",
      "loss: [0.085 0.083],            time: +7.20 sec\n",
      "loss: [0.07  0.072],            time: +7.02 sec\n",
      "loss: [0.071 0.058],            time: +5.11 sec\n",
      "loss: [0.049 0.039],            time: +5.25 sec\n",
      "loss: [0.038 0.036],            time: +5.67 sec\n",
      "loss: [0.034 0.028],            time: +5.25 sec\n",
      "loss: [0.028 0.032],            time: +5.39 sec\n",
      "loss: [0.025 0.037],            time: +6.02 sec\n",
      "loss: [0.024 0.028],            time: +5.54 sec\n",
      "loss: [0.031 0.033],            time: +5.40 sec\n",
      "loss: [0.027 0.035],            time: +5.20 sec\n",
      "loss: [0.022 0.031],            time: +5.35 sec\n",
      "loss: [0.029 0.028],            time: +5.34 sec\n",
      "loss: [0.017 0.019],            time: +5.37 sec\n",
      "loss: [0.015 0.026],            time: +5.23 sec\n",
      "loss: [0.019 0.02 ],            time: +5.37 sec\n",
      "loss: [0.025 0.028],            time: +5.22 sec\n"
     ]
    }
   ],
   "source": [
    "# training loop\n",
    "\n",
    "score_ls = []\n",
    "errors = []\n",
    "for _ in range(20):\n",
    "    start = time()\n",
    "    p1.train(30, param)\n",
    "    \n",
    "    # collect new experience with trained network\n",
    "    [Match((p1, axl.TitForTat())).play() for _ in range(10)]\n",
    "    \n",
    "    print(f'loss: {p1.network.loss},            time: +{time()-start:.2f} sec')\n",
    "    \n",
    "    # calculating Q-value error for later use\n",
    "    # a bit tedious here but I'm too lazy to fix\n",
    "    values = []\n",
    "    state = State(21)\n",
    "    for i in range(21):\n",
    "        value = p1.network(state.values())[0]\n",
    "        values.append(value[0])\n",
    "        state.push(C, C)\n",
    "    error = true_Q - np.array(values)\n",
    "    errors.append(error)\n",
    "\n",
    "\n",
    "# left: running loss for cooperation\n",
    "# right: running loss for defection"
   ]
  },
  {
   "cell_type": "code",
   "execution_count": 17,
   "id": "46870776-b3e2-4bcd-a08f-c06c96624cca",
   "metadata": {},
   "outputs": [
    {
     "name": "stdout",
     "output_type": "stream",
     "text": [
      "[[26.802 26.088]]\n",
      "[[26.197 25.516]]\n",
      "[[25.703 25.018]]\n",
      "[[25.354 24.596]]\n",
      "[[24.855 24.235]]\n",
      "[[24.379 23.688]]\n",
      "[[23.76  23.144]]\n",
      "[[22.982 22.266]]\n",
      "[[22.1   21.403]]\n",
      "[[21.271 20.635]]\n",
      "[[20.265 19.622]]\n",
      "[[19.209 18.491]]\n",
      "[[18.098 17.327]]\n",
      "[[16.696 16.07 ]]\n",
      "[[15.202 14.506]]\n",
      "[[13.542 12.828]]\n",
      "[[11.762 11.109]]\n",
      "[[9.75  9.069]]\n",
      "[[7.49  5.873]]\n",
      "[[2.992 4.995]]\n",
      "[[-0.011 -0.024]]\n",
      "[(3, 3), (3, 3), (3, 3), (3, 3), (3, 3), (3, 3), (3, 3), (3, 3), (3, 3), (3, 3), (3, 3), (3, 3), (3, 3), (3, 3), (3, 3), (3, 3), (3, 3), (3, 3), (3, 3), (5, 0)]\n",
      "Player 1 score = 62\n",
      "Player 2 score = 57\n"
     ]
    }
   ],
   "source": [
    "with p1:\n",
    "    play(p1, axl.TitForTat())\n",
    "# predicted Q-values:"
   ]
  },
  {
   "cell_type": "code",
   "execution_count": 18,
   "id": "a093cf70-eea9-4400-84b7-8daa6f0ba6b2",
   "metadata": {},
   "outputs": [
    {
     "data": {
      "image/png": "[encoded data removed]",
      "text/plain": [
       "<Figure size 800x640 with 1 Axes>"
      ]
     },
     "metadata": {
      "needs_background": "light"
     },
     "output_type": "display_data"
    }
   ],
   "source": [
    "# training loss\n",
    "# the beauty of double DQN\n",
    "p1.plot()"
   ]
  },
  {
   "cell_type": "code",
   "execution_count": 19,
   "id": "c9a99d06-7b2c-4d10-b023-13c1d7a476f4",
   "metadata": {},
   "outputs": [
    {
     "data": {
      "image/png": "[encoded data removed]",
      "text/plain": [
       "<Figure size 800x640 with 1 Axes>"
      ]
     },
     "metadata": {
      "needs_background": "light"
     },
     "output_type": "display_data"
    }
   ],
   "source": [
    "# zoom in first 200 epochs\n",
    "p1.plot(min_ran=0, max_ran=200)"
   ]
  },
  {
   "cell_type": "code",
   "execution_count": 20,
   "id": "a7772e27-5179-4999-bf0c-c97540442489",
   "metadata": {},
   "outputs": [
    {
     "data": {
      "image/png": "[encoded data removed]",
      "text/plain": [
       "<Figure size 800x640 with 1 Axes>"
      ]
     },
     "metadata": {
      "needs_background": "light"
     },
     "output_type": "display_data"
    }
   ],
   "source": [
    "# visualizing the recursion nature of Bellman's equation,\n",
    "# where the later states has to be learnt prior to learning preceding states\n",
    "\n",
    "# plotting the error between our prediction against the theoritical Q-value\n",
    "errors = np.array(errors)\n",
    "plt.figure(figsize=(10, 8), dpi=80)\n",
    "plt.scatter(range(len(errors)), errors[:,0], c='r', marker='x', label='1st turn')\n",
    "plt.scatter(range(len(errors)), errors[:,9], c='g', marker='x', label='10th turn')\n",
    "plt.scatter(range(len(errors)), [e[19]-2 for e in errors], c='b', marker='x', label='20th turn')  # compensate for defection\n",
    "plt.legend(loc='upper right')\n",
    "plt.xlabel('Epochs')\n",
    "plt.ylabel('Q-value Error')\n",
    "plt.show()"
   ]
  },
  {
   "cell_type": "markdown",
   "id": "c058f015-1b6b-4657-a3aa-bb16bdbd1466",
   "metadata": {},
   "source": [
    "### Section 2: DQN without fixed target (single DQN)"
   ]
  },
  {
   "cell_type": "code",
   "execution_count": 25,
   "id": "4fe1c92a-48c9-4815-9ae5-8480617cc997",
   "metadata": {
    "scrolled": true,
    "tags": []
   },
   "outputs": [
    {
     "name": "stdout",
     "output_type": "stream",
     "text": [
      "loss: [1.372 4.137],            time: +0.43 sec\n",
      "loss: [1.868 4.592],            time: +0.50 sec\n",
      "loss: [1.927 4.346],            time: +0.52 sec\n",
      "loss: [1.883 4.423],            time: +0.56 sec\n",
      "loss: [1.872 4.107],            time: +0.54 sec\n",
      "loss: [1.863 3.571],            time: +0.59 sec\n",
      "loss: [2.133 2.841],            time: +0.61 sec\n",
      "loss: [2.365 2.798],            time: +0.55 sec\n",
      "loss: [2.612 2.599],            time: +0.53 sec\n",
      "loss: [2.685 2.296],            time: +0.50 sec\n",
      "loss: [2.971 2.434],            time: +0.51 sec\n",
      "loss: [3.436 2.496],            time: +0.48 sec\n",
      "loss: [3.591 2.286],            time: +0.45 sec\n",
      "loss: [4.201 2.306],            time: +0.51 sec\n",
      "loss: [4.6   2.385],            time: +0.45 sec\n",
      "loss: [5.193 2.581],            time: +0.47 sec\n",
      "loss: [5.871 3.072],            time: +0.46 sec\n",
      "loss: [6.179 3.74 ],            time: +0.48 sec\n",
      "loss: [6.936 4.41 ],            time: +0.51 sec\n",
      "loss: [7.79  5.411],            time: +0.57 sec\n",
      "loss: [9.105 6.268],            time: +0.54 sec\n",
      "loss: [10.63   7.022],            time: +0.49 sec\n",
      "loss: [11.613  7.612],            time: +0.54 sec\n",
      "loss: [13.217  8.839],            time: +0.53 sec\n",
      "loss: [13.88   9.476],            time: +0.47 sec\n",
      "loss: [15.165 10.603],            time: +0.57 sec\n",
      "loss: [13.729 11.806],            time: +0.52 sec\n",
      "loss: [15.274 13.626],            time: +0.52 sec\n",
      "loss: [13.978 15.43 ],            time: +0.55 sec\n",
      "loss: [16.771 18.792],            time: +0.53 sec\n",
      "loss: [19.575 21.884],            time: +0.46 sec\n",
      "loss: [18.28  23.833],            time: +0.46 sec\n",
      "loss: [21.489 28.392],            time: +0.50 sec\n",
      "loss: [23.994 31.192],            time: +0.50 sec\n",
      "loss: [25.775 34.073],            time: +0.48 sec\n",
      "loss: [27.581 38.894],            time: +0.50 sec\n",
      "loss: [30.294 41.576],            time: +0.54 sec\n",
      "loss: [35.158 44.518],            time: +0.50 sec\n",
      "loss: [38.818 48.662],            time: +0.48 sec\n",
      "loss: [44.191 50.166],            time: +0.50 sec\n",
      "loss: [48.116 56.491],            time: +0.52 sec\n",
      "loss: [55.705 57.613],            time: +0.53 sec\n",
      "loss: [63.572 66.485],            time: +0.55 sec\n",
      "loss: [71.809 75.507],            time: +0.54 sec\n",
      "loss: [81.091 82.816],            time: +0.53 sec\n",
      "loss: [84.789 82.648],            time: +0.47 sec\n",
      "loss: [ 94.956 103.147],            time: +0.51 sec\n",
      "loss: [102.751 105.882],            time: +0.46 sec\n",
      "loss: [106.929 110.547],            time: +0.53 sec\n",
      "loss: [115.459 128.485],            time: +0.45 sec\n",
      "loss: [126.767 140.35 ],            time: +0.47 sec\n",
      "loss: [137.478 145.06 ],            time: +0.45 sec\n",
      "loss: [141.675 143.493],            time: +0.54 sec\n",
      "loss: [154.143 146.781],            time: +0.56 sec\n",
      "loss: [162.454 146.944],            time: +0.56 sec\n",
      "loss: [173.413 164.139],            time: +0.46 sec\n",
      "loss: [201.119 193.023],            time: +0.45 sec\n",
      "loss: [211.696 203.29 ],            time: +0.53 sec\n",
      "loss: [229.227 188.778],            time: +0.54 sec\n",
      "loss: [241.372 209.785],            time: +0.47 sec\n",
      "loss: [259.271 207.078],            time: +0.49 sec\n",
      "loss: [277.46  254.987],            time: +0.48 sec\n",
      "loss: [294.763 212.415],            time: +0.47 sec\n",
      "loss: [317.948 234.813],            time: +0.48 sec\n",
      "loss: [336.558 304.519],            time: +0.45 sec\n",
      "loss: [349.052 281.937],            time: +0.50 sec\n",
      "loss: [377.447 333.299],            time: +0.52 sec\n",
      "loss: [398.755 393.347],            time: +0.45 sec\n",
      "loss: [433.757 476.574],            time: +0.45 sec\n",
      "loss: [464.159 500.281],            time: +0.46 sec\n",
      "loss: [508.592 545.868],            time: +0.46 sec\n",
      "loss: [547.707 678.539],            time: +0.48 sec\n",
      "loss: [560.606 714.961],            time: +0.46 sec\n",
      "loss: [654.17  748.667],            time: +0.45 sec\n",
      "loss: [696.183 794.11 ],            time: +0.52 sec\n",
      "loss: [783.828 833.276],            time: +0.46 sec\n",
      "loss: [865.357 831.823],            time: +0.48 sec\n",
      "loss: [951.351 823.095],            time: +0.50 sec\n",
      "loss: [1057.993  873.976],            time: +0.49 sec\n",
      "loss: [1127.189  908.138],            time: +0.66 sec\n",
      "loss: [1239.916  995.886],            time: +0.55 sec\n",
      "loss: [1254.943 1016.795],            time: +0.59 sec\n",
      "loss: [1350.332 1024.905],            time: +0.50 sec\n",
      "loss: [1418.561  989.218],            time: +0.56 sec\n",
      "loss: [1471.348 1011.504],            time: +0.49 sec\n",
      "loss: [1638.082 1049.771],            time: +0.49 sec\n",
      "loss: [1565.074 1056.739],            time: +0.62 sec\n",
      "loss: [1587.955 1081.554],            time: +0.51 sec\n",
      "loss: [1570.405 1083.948],            time: +0.48 sec\n",
      "loss: [1688.71  1111.805],            time: +0.51 sec\n",
      "loss: [1763.202 1183.302],            time: +0.50 sec\n",
      "loss: [1510.476 1215.124],            time: +0.47 sec\n",
      "loss: [1683.585 1286.674],            time: +0.51 sec\n",
      "loss: [1464.602 1334.386],            time: +0.46 sec\n",
      "loss: [1648.56  1448.393],            time: +0.47 sec\n",
      "loss: [1318.34  1525.475],            time: +0.68 sec\n",
      "loss: [1682.833 1609.124],            time: +0.67 sec\n",
      "loss: [1750.473 1681.87 ],            time: +0.60 sec\n",
      "loss: [1579.482 1730.354],            time: +0.65 sec\n",
      "loss: [1711.566 1788.951],            time: +0.62 sec\n"
     ]
    }
   ],
   "source": [
    "dqn2 = network.DQN([\n",
    "                    network.Flatten_layer(),\n",
    "                    network.Linear_layer(GAME_LEN*2, 100, bias=0.01),\n",
    "                    network.Activation_layer('ReLU'),\n",
    "                    network.Linear_layer(100, 200),\n",
    "                    network.Activation_layer('ReLU'),\n",
    "                    network.Linear_layer(200, 100),\n",
    "                    network.Activation_layer('ReLU'),\n",
    "                    network.Linear_layer(100, 2),\n",
    "                    ],\n",
    "            network.ReplayMemory(2000), gamma=0.9, greedy=0.2)\n",
    "p2 = NNplayer(dqn2, State(GAME_LEN))\n",
    "del dqn2\n",
    "gc.collect()\n",
    "\n",
    "param = {\"lr\": 1e-4, 'batch': 64, \"mode\": \"train\", \"eps\": 1e-16, \"epoch\": 0, 't': 1, 'clip': 1.0,\n",
    "         'optimizer': ('Adam', 0.9, 0.999), 'regularizer': None, \"loss_fn\":\"mse\"}\n",
    "\n",
    "p2.set_greedy(0.8)\n",
    "for i in range(60):\n",
    "    players = (p2, axl.TitForTat())\n",
    "    game = Match(players)\n",
    "    game.play()\n",
    "p2.set_greedy(0.2)\n",
    "\n",
    "for _ in range(100):\n",
    "    start = time()\n",
    "    \n",
    "    p2.train(1, param)  # my train function updates target net at the end via deepcopy, we can overwrite this by\n",
    "    p2.network.target_net = p2.network.policy_net  # SHALLOW COPY policy net to target net\n",
    "    \n",
    "    [Match((p2, axl.TitForTat())).play() for _ in range(10)]\n",
    "    print(f'loss: {p2.network.loss},            time: +{time()-start:.2f} sec')"
   ]
  },
  {
   "cell_type": "code",
   "execution_count": 26,
   "id": "6a7517cb-0c5c-44e2-aeb5-f2c907cfc1ca",
   "metadata": {},
   "outputs": [
    {
     "data": {
      "image/png": "[encoded data removed]",
      "text/plain": [
       "<Figure size 800x640 with 1 Axes>"
      ]
     },
     "metadata": {
      "needs_background": "light"
     },
     "output_type": "display_data"
    }
   ],
   "source": [
    "p2.plot()"
   ]
  },
  {
   "cell_type": "code",
   "execution_count": 27,
   "id": "16412a30-5e00-4f12-a0b7-78ef04388d86",
   "metadata": {},
   "outputs": [
    {
     "name": "stdout",
     "output_type": "stream",
     "text": [
      "[[ -1.125 506.687]]\n",
      "[[-1753.156 -1110.922]]\n",
      "[[ 863.245 1387.122]]\n",
      "[[4346.188 4717.895]]\n",
      "[[-2608.388 -1928.316]]\n",
      "[[ 701.706 1243.7  ]]\n",
      "[[1787.485 2249.329]]\n",
      "[[1732.33  2207.551]]\n",
      "[[-1187.527  -589.858]]\n",
      "[[104.231 625.798]]\n",
      "[[-258.622  251.594]]\n",
      "[[521.191 978.212]]\n",
      "[[1433.155 1789.808]]\n",
      "[[ 701.215 1058.789]]\n",
      "[[-485.435  -92.778]]\n",
      "[[-556.248 -210.785]]\n",
      "[[371.641 615.445]]\n",
      "[[-472.9   -226.942]]\n",
      "[[205.934 351.298]]\n",
      "[[507.168 596.36 ]]\n",
      "[[202.38 256.72]]\n",
      "[(5, 0), (1, 1), (1, 1), (1, 1), (1, 1), (1, 1), (1, 1), (1, 1), (1, 1), (1, 1), (1, 1), (1, 1), (1, 1), (1, 1), (1, 1), (1, 1), (1, 1), (1, 1), (1, 1), (1, 1)]\n",
      "Player 1 score = 24\n",
      "Player 2 score = 19\n"
     ]
    }
   ],
   "source": [
    "# result:\n",
    "with p2:\n",
    "    play(p2, axl.TitForTat())\n",
    "    \n",
    "# incorrect Q-values -> bad policy"
   ]
  },
  {
   "cell_type": "code",
   "execution_count": 28,
   "id": "67b0965d-648b-46d6-b0b3-1c0da4c08e11",
   "metadata": {},
   "outputs": [],
   "source": [
    "del p2"
   ]
  },
  {
   "cell_type": "markdown",
   "id": "b63ca61c-56ce-4fbf-9e45-64793bb1e5b3",
   "metadata": {
    "tags": []
   },
   "source": [
    "### Section 3: testing the off-policyness"
   ]
  },
  {
   "cell_type": "code",
   "execution_count": 29,
   "id": "f635e6ca-462f-4a45-84b7-49f11babd630",
   "metadata": {},
   "outputs": [],
   "source": [
    "from axl_utils.extract import extract"
   ]
  },
  {
   "cell_type": "code",
   "execution_count": 30,
   "id": "1f11f83d-fee2-4c0f-9bda-edb4505f5e7f",
   "metadata": {},
   "outputs": [],
   "source": [
    "# collecting experience from axl.Random\n",
    "memory = network.ReplayMemory(10000)\n",
    "for _ in range(500):\n",
    "    game = play(axl.Random(), axl.TitForTat(), show=False)\n",
    "    extract(game, memory)"
   ]
  },
  {
   "cell_type": "code",
   "execution_count": 31,
   "id": "660f2888-e127-4be6-8700-d92c1b01665b",
   "metadata": {},
   "outputs": [],
   "source": [
    "dqn3 = network.DQN([\n",
    "                    network.Flatten_layer(),\n",
    "                    network.Linear_layer(GAME_LEN*2, 100, bias=0.01),\n",
    "                    network.Activation_layer('ReLU'),\n",
    "                    network.Linear_layer(100, 200),\n",
    "                    network.Activation_layer('ReLU'),\n",
    "                    network.Linear_layer(200, 100),\n",
    "                    network.Activation_layer('ReLU'),\n",
    "                    network.Linear_layer(100, 2),\n",
    "                    ],\n",
    "            memory, gamma=0.9, greedy=0.2)  # <- feeding the memory from axl.Random\n",
    "p3 = NNplayer(dqn3, State(GAME_LEN))\n",
    "del dqn3\n",
    "gc.collect()\n",
    "\n",
    "param = {\"lr\": 1e-4, 'batch': 64, \"mode\": \"train\", \"eps\": 1e-16, \"epoch\": 0, 't': 1, 'clip': 1.0,\n",
    "         'optimizer': ('Adam', 0.9, 0.999), 'regularizer': None, \"loss_fn\":\"mse\"}"
   ]
  },
  {
   "cell_type": "code",
   "execution_count": 32,
   "id": "62712d1a-2adc-4f97-b279-6519d86e719a",
   "metadata": {
    "scrolled": true,
    "tags": []
   },
   "outputs": [
    {
     "name": "stdout",
     "output_type": "stream",
     "text": [
      "loss: [0.271 0.289],            time: +5.57 sec\n",
      "loss: [0.255 0.227],            time: +4.72 sec\n",
      "loss: [0.193 0.186],            time: +5.11 sec\n",
      "loss: [0.155 0.174],            time: +4.65 sec\n",
      "loss: [0.143 0.146],            time: +4.75 sec\n",
      "loss: [0.128 0.154],            time: +4.53 sec\n",
      "loss: [0.116 0.127],            time: +4.81 sec\n",
      "loss: [0.113 0.121],            time: +5.62 sec\n",
      "loss: [0.105 0.109],            time: +6.22 sec\n",
      "loss: [0.102 0.103],            time: +5.80 sec\n",
      "loss: [0.085 0.091],            time: +5.51 sec\n",
      "loss: [0.087 0.09 ],            time: +6.71 sec\n",
      "loss: [0.092 0.093],            time: +4.43 sec\n",
      "loss: [0.072 0.083],            time: +6.04 sec\n",
      "loss: [0.075 0.077],            time: +5.50 sec\n",
      "loss: [0.067 0.071],            time: +5.97 sec\n",
      "loss: [0.062 0.067],            time: +5.77 sec\n",
      "loss: [0.07  0.064],            time: +5.91 sec\n",
      "loss: [0.065 0.064],            time: +4.83 sec\n",
      "loss: [0.057 0.061],            time: +6.46 sec\n"
     ]
    }
   ],
   "source": [
    "for _ in range(20):\n",
    "    start = time()\n",
    "    p3.train(5, param)\n",
    "    print(f'loss: {p3.network.loss},            time: +{time()-start:.2f} sec')"
   ]
  },
  {
   "cell_type": "code",
   "execution_count": 33,
   "id": "a721478a-0a95-4123-a67a-02b8f2da5907",
   "metadata": {},
   "outputs": [
    {
     "name": "stdout",
     "output_type": "stream",
     "text": [
      "[[26.541 25.857]]\n",
      "[[26.162 25.454]]\n",
      "[[25.569 24.847]]\n",
      "[[25.047 24.444]]\n",
      "[[24.489 23.89 ]]\n",
      "[[23.897 23.322]]\n",
      "[[23.264 22.635]]\n",
      "[[22.448 21.951]]\n",
      "[[21.727 21.075]]\n",
      "[[20.986 20.482]]\n",
      "[[20.041 19.657]]\n",
      "[[18.895 18.59 ]]\n",
      "[[17.738 17.058]]\n",
      "[[16.347 15.723]]\n",
      "[[15.261 14.463]]\n",
      "[[13.677 13.017]]\n",
      "[[11.579 10.78 ]]\n",
      "[[9.771 9.2  ]]\n",
      "[[7.693 6.159]]\n",
      "[[2.95  5.112]]\n",
      "[[0.074 0.197]]\n",
      "[(3, 3), (3, 3), (3, 3), (3, 3), (3, 3), (3, 3), (3, 3), (3, 3), (3, 3), (3, 3), (3, 3), (3, 3), (3, 3), (3, 3), (3, 3), (3, 3), (3, 3), (3, 3), (3, 3), (5, 0)]\n",
      "Player 1 score = 62\n",
      "Player 2 score = 57\n"
     ]
    }
   ],
   "source": [
    "with p3:\n",
    "    play(p3, axl.TitForTat())\n",
    "    \n",
    "# learns exactly the same"
   ]
  },
  {
   "cell_type": "code",
   "execution_count": 34,
   "id": "90bd9834-c0c0-4329-bf1a-59eb73b7bfbe",
   "metadata": {},
   "outputs": [],
   "source": [
    "del p3"
   ]
  },
  {
   "cell_type": "markdown",
   "id": "d3c1ed14-9aa9-4f58-8418-0fca4d19543a",
   "metadata": {},
   "source": [
    "### Section 4: but what did it learn?"
   ]
  },
  {
   "cell_type": "code",
   "execution_count": 25,
   "id": "0da9e622-893e-43cd-96c8-4b15f4972676",
   "metadata": {},
   "outputs": [
    {
     "name": "stdout",
     "output_type": "stream",
     "text": [
      "[(0, 5), (0, 5), (3, 3), (3, 3), (0, 5), (0, 5), (0, 5), (0, 5), (0, 5), (0, 5), (0, 5), (0, 5), (0, 5), (0, 5), (0, 5), (0, 5), (0, 5), (0, 5), (0, 5), (1, 1)]\n",
      "Player 1 score = 7\n",
      "Player 2 score = 92\n"
     ]
    }
   ],
   "source": [
    "# might be an obvious question but let's see what happens if our DQN meets provocative defection\n",
    "\n",
    "p1.network.greedy = 0.0\n",
    "play(p1, axl.HardProber());  # hard prober defects forever if its opponent does not retaliate"
   ]
  },
  {
   "cell_type": "code",
   "execution_count": 26,
   "id": "bb34e617-c1e0-44c6-9624-25abe13ff14c",
   "metadata": {},
   "outputs": [
    {
     "name": "stdout",
     "output_type": "stream",
     "text": [
      "[(0, 5), (0, 5), (3, 3), (3, 3), (0, 5), (0, 5), (0, 5), (0, 5), (0, 5), (0, 5), (0, 5), (0, 5), (0, 5), (0, 5), (0, 5), (0, 5), (0, 5), (0, 5), (0, 5), (0, 5)]\n",
      "Player 1 score = 6\n",
      "Player 2 score = 96\n"
     ]
    }
   ],
   "source": [
    "play(axl.Cooperator(), axl.HardProber());  # => our DQN is basically a naive cooperator"
   ]
  },
  {
   "cell_type": "code",
   "execution_count": 27,
   "id": "464fa231-ebe7-40a3-9041-6a97128f170a",
   "metadata": {},
   "outputs": [
    {
     "name": "stdout",
     "output_type": "stream",
     "text": [
      "[(0, 5), (1, 1), (5, 0), (3, 3), (3, 3), (3, 3), (3, 3), (3, 3), (3, 3), (3, 3), (3, 3), (3, 3), (3, 3), (3, 3), (3, 3), (3, 3), (3, 3), (3, 3), (3, 3), (3, 3)]\n",
      "Player 1 score = 57\n",
      "Player 2 score = 57\n"
     ]
    }
   ],
   "source": [
    "play(axl.TitForTat(), axl.HardProber());  # while TFT can generalize well to any opponent"
   ]
  },
  {
   "cell_type": "code",
   "execution_count": 28,
   "id": "09be710f-a8fe-44e3-b8ad-0ffd3478afa0",
   "metadata": {},
   "outputs": [],
   "source": [
    "# => continue exploration on Stage 2"
   ]
  },
  {
   "cell_type": "markdown",
   "id": "5bc259d0-6dfe-4e3e-b968-faad8fb1c4b4",
   "metadata": {},
   "source": [
    "### Section 5: learning TFT with 2 perceptrons"
   ]
  },
  {
   "cell_type": "code",
   "execution_count": 29,
   "id": "2b9c3805-7f27-4acd-9cbb-8435c102016a",
   "metadata": {},
   "outputs": [],
   "source": [
    "# possible states of last turn\n",
    "# where [1,1] means mutual cooperation\n",
    "X = np.array([[1,1],[0,1],[1,0],[0,0]])\n",
    "\n",
    "# target\n",
    "# => copy opponent's action\n",
    "y = np.array([[1],[1],[0],[0]])\n",
    "\n",
    "nn = network.NeuralNetwork([network.Linear_layer(2, 1)])\n",
    "param = {\"lr\": 3e-2, 'batch': 2, \"mode\": \"train\", \"eps\": 1e-16, \"epoch\": 0, 't': 1, 'clip': 1.0,\n",
    "         'optimizer': ('Adam', 0.9, 0.999), 'regularizer': None, \"loss_fn\":\"mse\"}"
   ]
  },
  {
   "cell_type": "code",
   "execution_count": 30,
   "id": "d306868a-df19-4a3a-87d1-1929d1abaf48",
   "metadata": {
    "scrolled": true,
    "tags": []
   },
   "outputs": [
    {
     "name": "stdout",
     "output_type": "stream",
     "text": [
      "Average loss = 0.595053, elapsed time = 0.00.\n",
      "Epoch 0, Accuracy = 0.5\n",
      "Average loss = 0.533621, elapsed time = 0.00.\n",
      "Epoch 1, Accuracy = 0.5\n",
      "Average loss = 0.494105, elapsed time = 0.00.\n",
      "Epoch 2, Accuracy = 0.5\n",
      "Average loss = 0.429417, elapsed time = 0.00.\n",
      "Epoch 3, Accuracy = 0.5\n",
      "Average loss = 0.385835, elapsed time = 0.00.\n",
      "Epoch 4, Accuracy = 0.75\n",
      "Average loss = 0.349568, elapsed time = 0.00.\n",
      "Epoch 5, Accuracy = 0.75\n",
      "Average loss = 0.322200, elapsed time = 0.00.\n",
      "Epoch 6, Accuracy = 0.5\n",
      "Average loss = 0.277924, elapsed time = 0.00.\n",
      "Epoch 7, Accuracy = 0.5\n",
      "Average loss = 0.250987, elapsed time = 0.00.\n",
      "Epoch 8, Accuracy = 0.5\n",
      "Average loss = 0.231781, elapsed time = 0.00.\n",
      "Epoch 9, Accuracy = 0.5\n",
      "Average loss = 0.209439, elapsed time = 0.00.\n",
      "Epoch 10, Accuracy = 0.75\n",
      "Average loss = 0.181862, elapsed time = 0.00.\n",
      "Epoch 11, Accuracy = 0.75\n",
      "Average loss = 0.166591, elapsed time = 0.00.\n",
      "Epoch 12, Accuracy = 0.75\n",
      "Average loss = 0.150162, elapsed time = 0.00.\n",
      "Epoch 13, Accuracy = 0.75\n",
      "Average loss = 0.130683, elapsed time = 0.00.\n",
      "Epoch 14, Accuracy = 0.75\n",
      "Average loss = 0.117350, elapsed time = 0.00.\n",
      "Epoch 15, Accuracy = 1.0\n",
      "Average loss = 0.102573, elapsed time = 0.00.\n",
      "Epoch 16, Accuracy = 1.0\n",
      "Average loss = 0.087371, elapsed time = 0.00.\n",
      "Epoch 17, Accuracy = 1.0\n",
      "Average loss = 0.077461, elapsed time = 0.00.\n",
      "Epoch 18, Accuracy = 1.0\n",
      "Average loss = 0.066445, elapsed time = 0.00.\n",
      "Epoch 19, Accuracy = 1.0\n",
      "Average loss = 0.056621, elapsed time = 0.00.\n",
      "Epoch 20, Accuracy = 1.0\n",
      "Average loss = 0.046490, elapsed time = 0.00.\n",
      "Epoch 21, Accuracy = 1.0\n",
      "Average loss = 0.039231, elapsed time = 0.00.\n",
      "Epoch 22, Accuracy = 1.0\n",
      "Average loss = 0.032787, elapsed time = 0.00.\n",
      "Epoch 23, Accuracy = 1.0\n",
      "Average loss = 0.028396, elapsed time = 0.00.\n",
      "Epoch 24, Accuracy = 1.0\n",
      "Average loss = 0.022409, elapsed time = 0.00.\n",
      "Epoch 25, Accuracy = 1.0\n",
      "Average loss = 0.017450, elapsed time = 0.00.\n",
      "Epoch 26, Accuracy = 1.0\n",
      "Average loss = 0.015746, elapsed time = 0.00.\n",
      "Epoch 27, Accuracy = 1.0\n",
      "Average loss = 0.012184, elapsed time = 0.00.\n",
      "Epoch 28, Accuracy = 1.0\n",
      "Average loss = 0.010146, elapsed time = 0.00.\n",
      "Epoch 29, Accuracy = 1.0\n",
      "Average loss = 0.007512, elapsed time = 0.00.\n",
      "Epoch 30, Accuracy = 1.0\n",
      "Average loss = 0.006080, elapsed time = 0.00.\n",
      "Epoch 31, Accuracy = 1.0\n",
      "Average loss = 0.004421, elapsed time = 0.00.\n",
      "Epoch 32, Accuracy = 1.0\n",
      "Average loss = 0.003826, elapsed time = 0.00.\n",
      "Epoch 33, Accuracy = 1.0\n",
      "Average loss = 0.002893, elapsed time = 0.00.\n",
      "Epoch 34, Accuracy = 1.0\n",
      "Average loss = 0.001914, elapsed time = 0.00.\n",
      "Epoch 35, Accuracy = 1.0\n",
      "Average loss = 0.001445, elapsed time = 0.00.\n",
      "Epoch 36, Accuracy = 1.0\n",
      "Average loss = 0.001151, elapsed time = 0.00.\n",
      "Epoch 37, Accuracy = 1.0\n",
      "Average loss = 0.000795, elapsed time = 0.00.\n",
      "Epoch 38, Accuracy = 1.0\n",
      "Average loss = 0.000489, elapsed time = 0.00.\n",
      "Epoch 39, Accuracy = 1.0\n"
     ]
    }
   ],
   "source": [
    "for i in range(40):\n",
    "    nn.train(X, y, param)\n",
    "    yhat = np.round(nn(X))\n",
    "    acc = np.sum(yhat==y) / len(y)\n",
    "    print(f\"Epoch {i}, Accuracy = {acc}\")"
   ]
  },
  {
   "cell_type": "code",
   "execution_count": 31,
   "id": "ff93d5d5-c8be-4d7e-b2f5-60339ea67292",
   "metadata": {},
   "outputs": [],
   "source": [
    "# but this is more of a policy-gradient approach\n",
    "# the regression nature of DQNs make it impossible to employ simple architecture"
   ]
  },
  {
   "cell_type": "code",
   "execution_count": null,
   "id": "ab68e357-4319-4f75-a1e4-c93bfa60a786",
   "metadata": {},
   "outputs": [],
   "source": []
  }
 ],
 "metadata": {
  "kernelspec": {
   "display_name": "Python 3 (ipykernel)",
   "language": "python",
   "name": "python3"
  },
  "language_info": {
   "codemirror_mode": {
    "name": "ipython",
    "version": 3
   },
   "file_extension": ".py",
   "mimetype": "text/x-python",
   "name": "python",
   "nbconvert_exporter": "python",
   "pygments_lexer": "ipython3",
   "version": "3.8.10"
  }
 },
 "nbformat": 4,
 "nbformat_minor": 5
}
