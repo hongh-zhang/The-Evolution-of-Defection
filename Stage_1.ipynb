{
 "cells": [
  {
   "cell_type": "code",
   "execution_count": 1,
   "id": "hidden-sixth",
   "metadata": {},
   "outputs": [],
   "source": [
    "%load_ext autoreload\n",
    "%autoreload 2"
   ]
  },
  {
   "cell_type": "code",
   "execution_count": 2,
   "id": "amazing-electricity",
   "metadata": {},
   "outputs": [],
   "source": [
    "import gc\n",
    "import numpy as np\n",
    "import axelrod as axl  # https://axelrod.readthedocs.io/en/stable/index.html\n",
    "from time import time\n",
    "from pprint import pprint\n",
    "import matplotlib.pyplot as plt\n",
    "#from itertools import permutations\n",
    "#from collections import namedtuple, deque\n",
    "\n",
    "np.set_printoptions(precision=3)\n",
    "\n",
    "# the following imports are from network / axl_utils folder\n",
    "import network\n",
    "from axl_utils import NNplayer, State, set_match, set_play"
   ]
  },
  {
   "cell_type": "code",
   "execution_count": 3,
   "id": "phantom-inside",
   "metadata": {},
   "outputs": [],
   "source": [
    "C = axl.Action.C\n",
    "D = axl.Action.D\n",
    "\n",
    "# config game rules\n",
    "# set_match & set_play function could be found inside axl_utils/game.py\n",
    "GAME_LEN = 20 + 1\n",
    "GAME = axl.Game(r=3, s=0, t=5, p=1)\n",
    "Match = set_match(game=GAME, turns=GAME_LEN)\n",
    "play = set_play(Match)"
   ]
  },
  {
   "cell_type": "code",
   "execution_count": 4,
   "id": "celtic-danish",
   "metadata": {},
   "outputs": [
    {
     "name": "stdout",
     "output_type": "stream",
     "text": [
      "[(3, 3), (3, 3), (5, 0), (0, 5), (5, 0), (1, 1), (1, 1), (0, 5), (3, 3), (5, 0), (0, 5), (5, 0), (0, 5), (3, 3), (5, 0), (0, 5), (5, 0), (1, 1), (0, 5), (5, 0)]\n",
      "Player 1 score = 50\n",
      "Player 2 score = 45\n"
     ]
    },
    {
     "data": {
      "text/plain": [
       "<axelrod.match.Match at 0x24512d88f40>"
      ]
     },
     "execution_count": 4,
     "metadata": {},
     "output_type": "execute_result"
    }
   ],
   "source": [
    "# the play function set up match between 2 players, print the result then return the match object\n",
    "game = play(axl.Prober4(), axl.TitForTat())\n",
    "game"
   ]
  },
  {
   "cell_type": "code",
   "execution_count": 5,
   "id": "cd140c92-09ae-489d-b65e-439334887219",
   "metadata": {},
   "outputs": [
    {
     "name": "stdout",
     "output_type": "stream",
     "text": [
      "[[[-1 -1 -1 -1 -1 -1 -1 -1 -1 -1 -1 -1 -1 -1 -1 -1 -1 -1 -1 -1  1]\n",
      "  [-1 -1 -1 -1 -1 -1 -1 -1 -1 -1 -1 -1 -1 -1 -1 -1 -1 -1 -1 -1  0]]]\n"
     ]
    }
   ],
   "source": [
    "# State class could be found under axl_utils/nnplayer.py\n",
    "\n",
    "# this is how we define state, in 2d arrays    (3d here for batch training)\n",
    "# the upper row is the action history of player 1 (usually our DQN)\n",
    "# lower is its opponent\n",
    "# '1' represent cooperation\n",
    "# '0' represent defection\n",
    "# '-1' means the turn has not happened yet\n",
    "s = State(GAME_LEN)\n",
    "s.push(C, D)\n",
    "print(s.values())"
   ]
  },
  {
   "cell_type": "markdown",
   "id": "7ae1a802-2d70-47ef-95c1-105aebe6b7cd",
   "metadata": {},
   "source": [
    "### Section 1: DQN"
   ]
  },
  {
   "cell_type": "code",
   "execution_count": 6,
   "id": "sunset-latex",
   "metadata": {},
   "outputs": [],
   "source": [
    "# DQN class is inside network/dqn.py\n",
    "# it defines how the network make decision + how it learns\n",
    "\n",
    "dqn = network.DQN([\n",
    "                    network.Flatten_layer(),\n",
    "                    network.Linear_layer(GAME_LEN*2, 100),\n",
    "                    network.Activation_layer('ReLU'),\n",
    "                    network.Linear_layer(100, 200),\n",
    "                    network.Activation_layer('ReLU'),\n",
    "                    network.Linear_layer(200, 100),\n",
    "                    network.Activation_layer('ReLU'),\n",
    "                    network.Linear_layer(100, 2),\n",
    "                    ],\n",
    "            network.ReplayMemory(2000), gamma=0.9, greedy=0.2)\n",
    "\n",
    "# NNplayer class is inside axl_utils/nnplayer.py\n",
    "# it integrates our DQN with the axl library\n",
    "# to allow it play under axl's environment\n",
    "\n",
    "p1 = NNplayer(dqn, State(GAME_LEN))\n",
    "del dqn\n",
    "gc.collect()\n",
    "\n",
    "param = {\"lr\": 1e-4, 'batch': 64, \"mode\": \"train\", \"eps\": 1e-16, \"epoch\": 0, 't': 1, 'clip': 1.0,\n",
    "         'optimizer': ('Adam', 0.9, 0.999), 'regularizer': None, \"loss_fn\":\"mse\"}"
   ]
  },
  {
   "cell_type": "code",
   "execution_count": 7,
   "id": "e0ff68de-e82a-4b48-b3c5-ee94c93e5021",
   "metadata": {
    "scrolled": true,
    "tags": []
   },
   "outputs": [
    {
     "name": "stdout",
     "output_type": "stream",
     "text": [
      "[[ 1.511 -0.936]]\n",
      "[[ 0.704 -0.422]]\n",
      "[[ 1.38  -0.825]]\n",
      "[[ 0.809 -1.205]]\n",
      "[[-0.194 -0.434]]\n",
      "[[-0.448 -0.39 ]]\n",
      "[[-0.412 -1.175]]\n",
      "[[-0.232 -1.195]]\n",
      "[[ 0.972 -0.711]]\n",
      "[[ 0.589 -1.403]]\n",
      "[[ 1.956 -1.072]]\n",
      "[[ 1.185 -0.599]]\n",
      "[[ 1.831 -0.883]]\n",
      "[[ 1.46  -1.036]]\n",
      "[[ 0.93  -1.188]]\n",
      "[[ 2.445 -1.203]]\n",
      "[[ 2.147 -1.062]]\n",
      "[[ 2.758 -1.137]]\n",
      "[[ 3.052 -0.939]]\n",
      "[[1.882 0.093]]\n",
      "[[3.461e+00 5.299e-04]]\n"
     ]
    }
   ],
   "source": [
    "# 'with' statement makes my DQN enter test mode\n",
    "# where its episilon-greedy is set to 0 (no random exploration)\n",
    "# + printing our the estimated Q-value\n",
    "\n",
    "with p1:\n",
    "    players = (p1, axl.TitForTat())\n",
    "    game = Match(players)\n",
    "    game.play()\n",
    "    \n",
    "# initial Q_value predictions:"
   ]
  },
  {
   "cell_type": "code",
   "execution_count": 8,
   "id": "b07b1e17-0946-4374-9408-ec08dda8c1bb",
   "metadata": {},
   "outputs": [],
   "source": [
    "# initial experience\n",
    "# high greedy -> more random exploration\n",
    "\n",
    "p1.set_greedy(0.8)\n",
    "for i in range(60):\n",
    "    players = (p1, axl.TitForTat())\n",
    "    game = Match(players)\n",
    "    game.play()\n",
    "p1.set_greedy(0.2)"
   ]
  },
  {
   "cell_type": "code",
   "execution_count": 9,
   "id": "6c178b65-3778-4265-a506-9e248211325f",
   "metadata": {},
   "outputs": [
    {
     "name": "stdout",
     "output_type": "stream",
     "text": [
      "28.35\n",
      "27.95\n",
      "27.50\n",
      "27.00\n",
      "26.44\n",
      "25.82\n",
      "25.14\n",
      "24.37\n",
      "23.53\n",
      "22.59\n",
      "21.54\n",
      "20.38\n",
      "19.09\n",
      "17.65\n",
      "16.06\n",
      "14.29\n",
      "12.32\n",
      "10.13\n",
      "7.70\n",
      "5.00\n",
      "0.00\n"
     ]
    }
   ],
   "source": [
    "# theoritical Q values\n",
    "# assuming the player cooperate til the last turn, then defect\n",
    "# apply annuity formula with cashflow = 3.0, interest rate = 1/9, periods = 20 turns\n",
    "# * the (1/9) come from our hyperparameter gamma, which is set to 0.9 by default\n",
    "# then compensate the defection in 2nd last turn, and hard code the last turn to 0.0\n",
    "true_Q = np.array([3.0/(1/9) * (1.0 - 1.0/(1.0+1/9)**(19-i)) + 5.0 if i<20 else 0.0 for i in range(21)])\n",
    "[print(f'{i:.2f}') for i in true_Q];"
   ]
  },
  {
   "cell_type": "code",
   "execution_count": 10,
   "id": "808f28f2-d526-4f78-b7ee-5fc158c90f8f",
   "metadata": {
    "scrolled": true,
    "tags": []
   },
   "outputs": [
    {
     "name": "stdout",
     "output_type": "stream",
     "text": [
      "loss: [0.231 0.342],            time: +3.17 sec\n",
      "loss: [0.178 0.184],            time: +3.75 sec\n",
      "loss: [0.12  0.126],            time: +4.38 sec\n",
      "loss: [0.089 0.088],            time: +4.61 sec\n",
      "loss: [0.065 0.06 ],            time: +4.91 sec\n",
      "loss: [0.055 0.053],            time: +4.80 sec\n",
      "loss: [0.039 0.041],            time: +4.78 sec\n",
      "loss: [0.037 0.033],            time: +4.93 sec\n",
      "loss: [0.033 0.029],            time: +4.62 sec\n",
      "loss: [0.024 0.023],            time: +4.62 sec\n",
      "loss: [0.034 0.031],            time: +4.61 sec\n",
      "loss: [0.022 0.027],            time: +4.59 sec\n",
      "loss: [0.021 0.025],            time: +4.76 sec\n",
      "loss: [0.022 0.032],            time: +4.66 sec\n",
      "loss: [0.023 0.018],            time: +4.65 sec\n",
      "loss: [0.022 0.019],            time: +4.67 sec\n",
      "loss: [0.016 0.018],            time: +4.66 sec\n",
      "loss: [0.016 0.025],            time: +4.64 sec\n",
      "loss: [0.013 0.015],            time: +4.86 sec\n",
      "loss: [0.016 0.019],            time: +4.62 sec\n"
     ]
    }
   ],
   "source": [
    "# training loop\n",
    "\n",
    "score_ls = []\n",
    "errors = []\n",
    "for _ in range(20):\n",
    "    start = time()\n",
    "    \n",
    "    # calling train method bound to NNplayer/DQN class\n",
    "    # detailed documentation are there\n",
    "    p1.train(30, param)\n",
    "    \n",
    "    # collect new experience with trained network\n",
    "    [Match((p1, axl.TitForTat())).play() for _ in range(10)]\n",
    "    \n",
    "    print(f'loss: {p1.network.loss},            time: +{time()-start:.2f} sec')\n",
    "    \n",
    "    # calculating Q-value error for later use\n",
    "    # a bit tedious here but I'm too lazy to fix\n",
    "    values = []\n",
    "    state = State(21)\n",
    "    for i in range(21):\n",
    "        value = p1.network(state.values())[0]\n",
    "        values.append(value[0])\n",
    "        state.push(C, C)\n",
    "    error = true_Q - np.array(values)\n",
    "    errors.append(error)\n",
    "\n",
    "\n",
    "# left: running loss for cooperation\n",
    "# right: running loss for defection"
   ]
  },
  {
   "cell_type": "code",
   "execution_count": 11,
   "id": "46870776-b3e2-4bcd-a08f-c06c96624cca",
   "metadata": {},
   "outputs": [
    {
     "name": "stdout",
     "output_type": "stream",
     "text": [
      "[[26.955 26.297]]\n",
      "[[26.106 25.486]]\n",
      "[[25.715 25.134]]\n",
      "[[25.344 24.651]]\n",
      "[[24.85  24.186]]\n",
      "[[24.287 23.63 ]]\n",
      "[[23.652 22.936]]\n",
      "[[22.931 22.255]]\n",
      "[[22.124 21.398]]\n",
      "[[21.223 20.548]]\n",
      "[[20.281 19.608]]\n",
      "[[19.169 18.566]]\n",
      "[[18.024 17.354]]\n",
      "[[16.674 16.056]]\n",
      "[[15.19  14.501]]\n",
      "[[13.575 12.848]]\n",
      "[[11.756 11.086]]\n",
      "[[9.799 9.376]]\n",
      "[[7.532 5.861]]\n",
      "[[2.994 5.013]]\n",
      "[[-0.011  0.015]]\n",
      "[(3, 3), (3, 3), (3, 3), (3, 3), (3, 3), (3, 3), (3, 3), (3, 3), (3, 3), (3, 3), (3, 3), (3, 3), (3, 3), (3, 3), (3, 3), (3, 3), (3, 3), (3, 3), (3, 3), (5, 0)]\n",
      "Player 1 score = 62\n",
      "Player 2 score = 57\n"
     ]
    }
   ],
   "source": [
    "with p1:\n",
    "    play(p1, axl.TitForTat())\n",
    "# predicted Q-values after training:"
   ]
  },
  {
   "cell_type": "code",
   "execution_count": 12,
   "id": "a093cf70-eea9-4400-84b7-8daa6f0ba6b2",
   "metadata": {},
   "outputs": [
    {
     "data": {
      "image/png": "[encoded data removed]",
      "text/plain": [
       "<Figure size 800x640 with 1 Axes>"
      ]
     },
     "metadata": {
      "needs_background": "light"
     },
     "output_type": "display_data"
    }
   ],
   "source": [
    "# training loss\n",
    "# the beauty of double DQN\n",
    "p1.plot()"
   ]
  },
  {
   "cell_type": "code",
   "execution_count": 13,
   "id": "c9a99d06-7b2c-4d10-b023-13c1d7a476f4",
   "metadata": {},
   "outputs": [
    {
     "data": {
      "image/png": "[encoded data removed]",
      "text/plain": [
       "<Figure size 800x640 with 1 Axes>"
      ]
     },
     "metadata": {
      "needs_background": "light"
     },
     "output_type": "display_data"
    }
   ],
   "source": [
    "# zoom in first 200 epochs... for fun!\n",
    "p1.plot(min_ran=0, max_ran=200)"
   ]
  },
  {
   "cell_type": "code",
   "execution_count": 14,
   "id": "a7772e27-5179-4999-bf0c-c97540442489",
   "metadata": {},
   "outputs": [
    {
     "data": {
      "image/png": "[encoded data removed]",
      "text/plain": [
       "<Figure size 800x640 with 1 Axes>"
      ]
     },
     "metadata": {
      "needs_background": "light"
     },
     "output_type": "display_data"
    }
   ],
   "source": [
    "# visualizing the recursion nature of Bellman's equation,\n",
    "# where the later states has to be learnt prior to learning preceding states\n",
    "\n",
    "# plotting the error between our prediction against the theoritical Q-value\n",
    "errors = np.array(errors)\n",
    "plt.figure(figsize=(10, 8), dpi=80)\n",
    "plt.scatter(range(len(errors)), errors[:,0], c='r', marker='x', label='1st turn')\n",
    "plt.scatter(range(len(errors)), errors[:,9], c='g', marker='x', label='10th turn')\n",
    "plt.scatter(range(len(errors)), [e[19]-2 for e in errors], c='b', marker='x', label='20th turn')  # compensate for defection\n",
    "plt.legend(loc='upper right')\n",
    "plt.xlabel('Epochs')\n",
    "plt.ylabel('Q-value Error')\n",
    "plt.show()\n",
    "\n",
    "# due to the recursion\n",
    "# V(current) is dependant on V(next)\n",
    "# meaning that 1st turn will not be correctly learnt until 2nd got the right value\n",
    "# resulting in the gaps below\n",
    "\n",
    "# this is similar to how tabular Q learning works via dynamic programming"
   ]
  },
  {
   "cell_type": "markdown",
   "id": "c058f015-1b6b-4657-a3aa-bb16bdbd1466",
   "metadata": {},
   "source": [
    "### Section 2: DQN without fixed target (single DQN)"
   ]
  },
  {
   "cell_type": "code",
   "execution_count": 15,
   "id": "4fe1c92a-48c9-4815-9ae5-8480617cc997",
   "metadata": {
    "scrolled": true,
    "tags": []
   },
   "outputs": [
    {
     "name": "stdout",
     "output_type": "stream",
     "text": [
      "loss: [1.51  3.514],            time: +0.34 sec\n",
      "loss: [1.972 3.432],            time: +0.34 sec\n",
      "loss: [2.059 2.848],            time: +0.38 sec\n",
      "loss: [2.185 2.747],            time: +0.36 sec\n",
      "loss: [2.285 2.454],            time: +0.39 sec\n",
      "loss: [2.372 2.624],            time: +0.38 sec\n",
      "loss: [2.645 2.742],            time: +0.39 sec\n",
      "loss: [2.813 3.079],            time: +0.38 sec\n",
      "loss: [3.216 3.378],            time: +0.37 sec\n",
      "loss: [3.554 3.781],            time: +0.37 sec\n",
      "loss: [3.945 4.257],            time: +0.37 sec\n",
      "loss: [4.383 4.886],            time: +0.38 sec\n",
      "loss: [5.042 5.765],            time: +0.37 sec\n",
      "loss: [5.564 6.587],            time: +0.37 sec\n",
      "loss: [6.324 7.658],            time: +0.38 sec\n",
      "loss: [6.986 8.813],            time: +0.39 sec\n",
      "loss: [8.163 9.875],            time: +0.38 sec\n",
      "loss: [ 9.299 10.708],            time: +0.37 sec\n",
      "loss: [10.364 12.08 ],            time: +0.38 sec\n",
      "loss: [11.87 13.17],            time: +0.38 sec\n",
      "loss: [12.672 13.405],            time: +0.48 sec\n",
      "loss: [14.307 14.059],            time: +0.40 sec\n",
      "loss: [16.304 15.855],            time: +0.48 sec\n",
      "loss: [17.775 16.516],            time: +0.43 sec\n",
      "loss: [20.784 18.557],            time: +0.41 sec\n",
      "loss: [24.377 19.857],            time: +0.52 sec\n",
      "loss: [28.779 23.318],            time: +0.40 sec\n",
      "loss: [33.29  23.956],            time: +0.48 sec\n",
      "loss: [37.916 27.983],            time: +0.43 sec\n",
      "loss: [45.344 34.546],            time: +0.44 sec\n",
      "loss: [53.767 42.466],            time: +0.38 sec\n",
      "loss: [65.574 50.374],            time: +0.37 sec\n",
      "loss: [73.146 59.247],            time: +0.37 sec\n",
      "loss: [87.474 70.346],            time: +0.38 sec\n",
      "loss: [103.629  82.741],            time: +0.38 sec\n",
      "loss: [116.198  88.169],            time: +0.37 sec\n",
      "loss: [133.461 100.134],            time: +0.37 sec\n",
      "loss: [147.309 113.212],            time: +0.37 sec\n",
      "loss: [170.107 127.482],            time: +0.37 sec\n",
      "loss: [177.897 138.337],            time: +0.39 sec\n",
      "loss: [186.507 146.978],            time: +0.43 sec\n",
      "loss: [175.882 153.555],            time: +0.41 sec\n",
      "loss: [189.717 170.346],            time: +0.57 sec\n",
      "loss: [216.757 182.569],            time: +0.41 sec\n",
      "loss: [185.377 196.104],            time: +0.49 sec\n",
      "loss: [196.592 218.589],            time: +0.40 sec\n",
      "loss: [210.251 240.982],            time: +0.45 sec\n",
      "loss: [224.086 267.735],            time: +0.48 sec\n",
      "loss: [266.926 287.29 ],            time: +0.38 sec\n",
      "loss: [315.903 312.515],            time: +0.38 sec\n",
      "loss: [348.258 339.335],            time: +0.37 sec\n",
      "loss: [403.076 380.333],            time: +0.37 sec\n",
      "loss: [443.239 406.732],            time: +0.37 sec\n",
      "loss: [475.906 436.182],            time: +0.35 sec\n",
      "loss: [480.806 462.261],            time: +0.36 sec\n",
      "loss: [523.526 506.421],            time: +0.36 sec\n",
      "loss: [558.02  544.194],            time: +0.40 sec\n",
      "loss: [551.128 599.64 ],            time: +0.37 sec\n",
      "loss: [626.422 658.509],            time: +0.37 sec\n",
      "loss: [747.921 702.755],            time: +0.41 sec\n",
      "loss: [770.209 748.678],            time: +0.48 sec\n",
      "loss: [723.996 809.183],            time: +0.38 sec\n",
      "loss: [847.733 874.256],            time: +0.37 sec\n",
      "loss: [927.313 929.248],            time: +0.37 sec\n",
      "loss: [ 892.315 1009.919],            time: +0.41 sec\n",
      "loss: [1098.738 1058.608],            time: +0.47 sec\n",
      "loss: [1202.124 1173.305],            time: +0.49 sec\n",
      "loss: [1325.257 1215.771],            time: +0.46 sec\n",
      "loss: [1357.581 1312.82 ],            time: +0.52 sec\n",
      "loss: [1454.206 1375.711],            time: +0.42 sec\n",
      "loss: [1654.563 1429.686],            time: +0.45 sec\n",
      "loss: [1656.505 1515.19 ],            time: +0.53 sec\n",
      "loss: [1705.598 1641.659],            time: +0.60 sec\n",
      "loss: [1854.616 1713.228],            time: +0.39 sec\n",
      "loss: [2014.401 1811.191],            time: +0.40 sec\n",
      "loss: [1974.023 1879.306],            time: +0.39 sec\n",
      "loss: [2080.53  1871.137],            time: +0.45 sec\n",
      "loss: [2137.211 1882.821],            time: +0.40 sec\n",
      "loss: [2341.689 1969.678],            time: +0.46 sec\n",
      "loss: [2595.303 2069.94 ],            time: +0.47 sec\n",
      "loss: [2543.065 2104.265],            time: +0.46 sec\n",
      "loss: [2677.797 2133.422],            time: +0.38 sec\n",
      "loss: [2801.524 2247.377],            time: +0.44 sec\n",
      "loss: [2829.79 2442.42],            time: +0.43 sec\n",
      "loss: [2842.906 2647.718],            time: +0.45 sec\n",
      "loss: [2984.338 2887.081],            time: +0.52 sec\n",
      "loss: [3106.94  3175.688],            time: +0.48 sec\n",
      "loss: [3199.297 3511.654],            time: +0.48 sec\n",
      "loss: [3131.706 3774.144],            time: +0.38 sec\n",
      "loss: [3264.389 4207.617],            time: +0.43 sec\n",
      "loss: [3243.047 4454.288],            time: +0.40 sec\n",
      "loss: [3372.46  4621.099],            time: +0.40 sec\n",
      "loss: [3402.609 4992.665],            time: +0.37 sec\n",
      "loss: [3512.011 4874.161],            time: +0.38 sec\n",
      "loss: [3467.676 5061.654],            time: +0.48 sec\n",
      "loss: [3551.394 5227.329],            time: +0.38 sec\n",
      "loss: [3746.135 4697.523],            time: +0.39 sec\n",
      "loss: [3892.707 4420.189],            time: +0.38 sec\n",
      "loss: [4055.902 3939.053],            time: +0.38 sec\n",
      "loss: [4455.542 4321.659],            time: +0.38 sec\n"
     ]
    }
   ],
   "source": [
    "dqn2 = network.DQN([\n",
    "                    network.Flatten_layer(),\n",
    "                    network.Linear_layer(GAME_LEN*2, 100),\n",
    "                    network.Activation_layer('ReLU'),\n",
    "                    network.Linear_layer(100, 200),\n",
    "                    network.Activation_layer('ReLU'),\n",
    "                    network.Linear_layer(200, 100),\n",
    "                    network.Activation_layer('ReLU'),\n",
    "                    network.Linear_layer(100, 2),\n",
    "                    ],\n",
    "            network.ReplayMemory(2000), gamma=0.9, greedy=0.2)\n",
    "p2 = NNplayer(dqn2, State(GAME_LEN))\n",
    "del dqn2\n",
    "gc.collect()\n",
    "\n",
    "param = {\"lr\": 1e-4, 'batch': 64, \"mode\": \"train\", \"eps\": 1e-16, \"epoch\": 0, 't': 1, 'clip': 1.0,\n",
    "         'optimizer': ('Adam', 0.9, 0.999), 'regularizer': None, \"loss_fn\":\"mse\"}\n",
    "\n",
    "p2.set_greedy(0.8)\n",
    "for i in range(60):\n",
    "    players = (p2, axl.TitForTat())\n",
    "    game = Match(players)\n",
    "    game.play()\n",
    "p2.set_greedy(0.2)\n",
    "\n",
    "for _ in range(100):\n",
    "    start = time()\n",
    "    \n",
    "    p2.train(1, param)  # my train function updates target net at the end via deepcopy, we can overwrite this by\n",
    "    p2.network.target_net = p2.network.policy_net  # shallow copy policy net to target net\n",
    "    \n",
    "    [Match((p2, axl.TitForTat())).play() for _ in range(10)]\n",
    "    print(f'loss: {p2.network.loss},            time: +{time()-start:.2f} sec')"
   ]
  },
  {
   "cell_type": "code",
   "execution_count": 16,
   "id": "6a7517cb-0c5c-44e2-aeb5-f2c907cfc1ca",
   "metadata": {},
   "outputs": [
    {
     "data": {
      "image/png": "[encoded data removed]",
      "text/plain": [
       "<Figure size 800x640 with 1 Axes>"
      ]
     },
     "metadata": {
      "needs_background": "light"
     },
     "output_type": "display_data"
    }
   ],
   "source": [
    "# see how loss grows exponentially without fixed target\n",
    "p2.plot()"
   ]
  },
  {
   "cell_type": "code",
   "execution_count": 17,
   "id": "16412a30-5e00-4f12-a0b7-78ef04388d86",
   "metadata": {},
   "outputs": [
    {
     "name": "stdout",
     "output_type": "stream",
     "text": [
      "[[2780.609 1741.922]]\n",
      "[[8518.04  7414.198]]\n",
      "[[ -116.303 -1184.296]]\n",
      "[[3516.549 2199.775]]\n",
      "[[3318.781 1919.155]]\n",
      "[[5507.247 3966.481]]\n",
      "[[ 815.681 -635.327]]\n",
      "[[6233.829 4576.818]]\n",
      "[[1242.365 -305.742]]\n",
      "[[6834.516 5161.826]]\n",
      "[[ 506.483 -966.064]]\n",
      "[[6360.957 4792.69 ]]\n",
      "[[6425.17  4962.641]]\n",
      "[[1621.369  332.853]]\n",
      "[[3582.337 2360.319]]\n",
      "[[ 681.904 -345.433]]\n",
      "[[1543.85  672.2 ]]\n",
      "[[975.745 297.994]]\n",
      "[[1177.599  612.909]]\n",
      "[[404.185   0.488]]\n",
      "[[-154.498 -454.127]]\n",
      "[(3, 3), (3, 3), (3, 3), (3, 3), (3, 3), (3, 3), (3, 3), (3, 3), (3, 3), (3, 3), (3, 3), (3, 3), (3, 3), (3, 3), (3, 3), (3, 3), (3, 3), (3, 3), (3, 3), (3, 3)]\n",
      "Player 1 score = 60\n",
      "Player 2 score = 60\n"
     ]
    }
   ],
   "source": [
    "# result:\n",
    "with p2:\n",
    "    play(p2, axl.TitForTat())\n",
    "    \n",
    "# incorrect Q-values -> bad/random policy\n",
    "# (run this section serveral time to see how the policy is effectively random)"
   ]
  },
  {
   "cell_type": "code",
   "execution_count": 18,
   "id": "67b0965d-648b-46d6-b0b3-1c0da4c08e11",
   "metadata": {},
   "outputs": [],
   "source": [
    "del p2"
   ]
  },
  {
   "cell_type": "markdown",
   "id": "b63ca61c-56ce-4fbf-9e45-64793bb1e5b3",
   "metadata": {
    "tags": []
   },
   "source": [
    "### Section 3: testing the off-policyness"
   ]
  },
  {
   "cell_type": "code",
   "execution_count": 19,
   "id": "f635e6ca-462f-4a45-84b7-49f11babd630",
   "metadata": {},
   "outputs": [],
   "source": [
    "from axl_utils.extract import extract"
   ]
  },
  {
   "cell_type": "code",
   "execution_count": 20,
   "id": "1f11f83d-fee2-4c0f-9bda-edb4505f5e7f",
   "metadata": {},
   "outputs": [
    {
     "name": "stdout",
     "output_type": "stream",
     "text": [
      "10000\n"
     ]
    }
   ],
   "source": [
    "# collecting experience from axl.Random\n",
    "memory = network.ReplayMemory(10000)\n",
    "for _ in range(500):\n",
    "    game = play(axl.Random(), axl.TitForTat(), show=False)\n",
    "    extract(game, memory)\n",
    "    \n",
    "print(len(memory))\n",
    "# we can then pass this memory into a fresh DQN"
   ]
  },
  {
   "cell_type": "code",
   "execution_count": 21,
   "id": "660f2888-e127-4be6-8700-d92c1b01665b",
   "metadata": {},
   "outputs": [],
   "source": [
    "dqn3 = network.DQN([\n",
    "                    network.Flatten_layer(),\n",
    "                    network.Linear_layer(GAME_LEN*2, 100, bias=0.01),\n",
    "                    network.Activation_layer('ReLU'),\n",
    "                    network.Linear_layer(100, 200),\n",
    "                    network.Activation_layer('ReLU'),\n",
    "                    network.Linear_layer(200, 100),\n",
    "                    network.Activation_layer('ReLU'),\n",
    "                    network.Linear_layer(100, 2),\n",
    "                    ],\n",
    "            memory, gamma=0.9, greedy=0.2)  # <- feeding the memory from axl.Random\n",
    "p3 = NNplayer(dqn3, State(GAME_LEN))\n",
    "del dqn3\n",
    "gc.collect()\n",
    "\n",
    "param = {\"lr\": 1e-4, 'batch': 64, \"mode\": \"train\", \"eps\": 1e-16, \"epoch\": 0, 't': 1, 'clip': 1.0,\n",
    "         'optimizer': ('Adam', 0.9, 0.999), 'regularizer': None, \"loss_fn\":\"mse\"}"
   ]
  },
  {
   "cell_type": "code",
   "execution_count": 22,
   "id": "62712d1a-2adc-4f97-b279-6519d86e719a",
   "metadata": {
    "scrolled": true,
    "tags": []
   },
   "outputs": [
    {
     "name": "stdout",
     "output_type": "stream",
     "text": [
      "loss: [0.317 0.366],            time: +4.12 sec\n",
      "loss: [0.29  0.279],            time: +4.47 sec\n",
      "loss: [0.21  0.222],            time: +4.15 sec\n",
      "loss: [0.159 0.201],            time: +4.23 sec\n",
      "loss: [0.158 0.156],            time: +4.19 sec\n",
      "loss: [0.132 0.145],            time: +3.97 sec\n",
      "loss: [0.123 0.138],            time: +4.00 sec\n",
      "loss: [0.109 0.118],            time: +3.91 sec\n",
      "loss: [0.107 0.111],            time: +3.94 sec\n",
      "loss: [0.102 0.104],            time: +4.05 sec\n",
      "loss: [0.1   0.103],            time: +3.99 sec\n",
      "loss: [0.085 0.083],            time: +3.98 sec\n",
      "loss: [0.083 0.084],            time: +3.92 sec\n",
      "loss: [0.077 0.075],            time: +3.93 sec\n",
      "loss: [0.073 0.071],            time: +3.97 sec\n",
      "loss: [0.071 0.078],            time: +3.93 sec\n",
      "loss: [0.062 0.065],            time: +3.91 sec\n",
      "loss: [0.063 0.062],            time: +3.90 sec\n",
      "loss: [0.056 0.057],            time: +3.87 sec\n",
      "loss: [0.058 0.057],            time: +3.95 sec\n"
     ]
    }
   ],
   "source": [
    "for _ in range(20):\n",
    "    start = time()\n",
    "    p3.train(5, param)\n",
    "    print(f'loss: {p3.network.loss},            time: +{time()-start:.2f} sec')"
   ]
  },
  {
   "cell_type": "code",
   "execution_count": 23,
   "id": "a721478a-0a95-4123-a67a-02b8f2da5907",
   "metadata": {},
   "outputs": [
    {
     "name": "stdout",
     "output_type": "stream",
     "text": [
      "[[26.491 25.881]]\n",
      "[[25.888 25.273]]\n",
      "[[25.23  24.587]]\n",
      "[[24.614 24.022]]\n",
      "[[24.131 23.505]]\n",
      "[[23.559 22.814]]\n",
      "[[22.982 22.31 ]]\n",
      "[[22.343 21.699]]\n",
      "[[21.656 20.905]]\n",
      "[[21.018 20.433]]\n",
      "[[20.135 19.365]]\n",
      "[[19.131 18.531]]\n",
      "[[17.886 17.082]]\n",
      "[[16.639 16.172]]\n",
      "[[14.958 14.428]]\n",
      "[[13.285 12.732]]\n",
      "[[11.676 11.115]]\n",
      "[[9.532 8.882]]\n",
      "[[7.364 5.808]]\n",
      "[[2.203 4.337]]\n",
      "[[-0.106  0.144]]\n",
      "[(3, 3), (3, 3), (3, 3), (3, 3), (3, 3), (3, 3), (3, 3), (3, 3), (3, 3), (3, 3), (3, 3), (3, 3), (3, 3), (3, 3), (3, 3), (3, 3), (3, 3), (3, 3), (3, 3), (5, 0)]\n",
      "Player 1 score = 62\n",
      "Player 2 score = 57\n"
     ]
    }
   ],
   "source": [
    "with p3:\n",
    "    play(p3, axl.TitForTat())\n",
    "    \n",
    "# learns well, without ever playing the game"
   ]
  },
  {
   "cell_type": "code",
   "execution_count": 24,
   "id": "90bd9834-c0c0-4329-bf1a-59eb73b7bfbe",
   "metadata": {},
   "outputs": [],
   "source": [
    "del p3"
   ]
  },
  {
   "cell_type": "markdown",
   "id": "d3c1ed14-9aa9-4f58-8418-0fca4d19543a",
   "metadata": {},
   "source": [
    "### Section 4: but what did it learn?"
   ]
  },
  {
   "cell_type": "code",
   "execution_count": 25,
   "id": "0da9e622-893e-43cd-96c8-4b15f4972676",
   "metadata": {},
   "outputs": [
    {
     "name": "stdout",
     "output_type": "stream",
     "text": [
      "[(0, 5), (0, 5), (3, 3), (3, 3), (0, 5), (0, 5), (0, 5), (0, 5), (0, 5), (0, 5), (0, 5), (0, 5), (0, 5), (0, 5), (0, 5), (0, 5), (0, 5), (0, 5), (0, 5), (1, 1)]\n",
      "Player 1 score = 7\n",
      "Player 2 score = 92\n"
     ]
    }
   ],
   "source": [
    "# might be an obvious question but let's see what happens if our DQN meets provocative defection\n",
    "\n",
    "p1.network.greedy = 0.0\n",
    "play(p1, axl.HardProber());  # hard prober defects forever if its opponent does not retaliate"
   ]
  },
  {
   "cell_type": "code",
   "execution_count": 26,
   "id": "bb34e617-c1e0-44c6-9624-25abe13ff14c",
   "metadata": {},
   "outputs": [
    {
     "name": "stdout",
     "output_type": "stream",
     "text": [
      "[(0, 5), (0, 5), (3, 3), (3, 3), (0, 5), (0, 5), (0, 5), (0, 5), (0, 5), (0, 5), (0, 5), (0, 5), (0, 5), (0, 5), (0, 5), (0, 5), (0, 5), (0, 5), (0, 5), (0, 5)]\n",
      "Player 1 score = 6\n",
      "Player 2 score = 96\n"
     ]
    }
   ],
   "source": [
    "play(axl.Cooperator(), axl.HardProber());  # => our DQN is basically a naive cooperator"
   ]
  },
  {
   "cell_type": "code",
   "execution_count": 27,
   "id": "464fa231-ebe7-40a3-9041-6a97128f170a",
   "metadata": {},
   "outputs": [
    {
     "name": "stdout",
     "output_type": "stream",
     "text": [
      "[(0, 5), (1, 1), (5, 0), (3, 3), (3, 3), (3, 3), (3, 3), (3, 3), (3, 3), (3, 3), (3, 3), (3, 3), (3, 3), (3, 3), (3, 3), (3, 3), (3, 3), (3, 3), (3, 3), (3, 3)]\n",
      "Player 1 score = 57\n",
      "Player 2 score = 57\n"
     ]
    }
   ],
   "source": [
    "play(axl.TitForTat(), axl.HardProber());  # while TFT can generalize well to any opponent"
   ]
  },
  {
   "cell_type": "code",
   "execution_count": 28,
   "id": "09be710f-a8fe-44e3-b8ad-0ffd3478afa0",
   "metadata": {},
   "outputs": [],
   "source": [
    "# => continue exploration on Stage 2"
   ]
  },
  {
   "cell_type": "markdown",
   "id": "5bc259d0-6dfe-4e3e-b968-faad8fb1c4b4",
   "metadata": {},
   "source": [
    "### Section 5: learning TFT with 2 perceptrons"
   ]
  },
  {
   "cell_type": "code",
   "execution_count": 29,
   "id": "2b9c3805-7f27-4acd-9cbb-8435c102016a",
   "metadata": {},
   "outputs": [],
   "source": [
    "# possible states of last turn\n",
    "# where [1,1] means mutual cooperation\n",
    "last_turn = np.array([[1,1],[0,1],[1,0],[0,0]])\n",
    "\n",
    "# target\n",
    "# => copy opponent's action\n",
    "action = np.array([[1],[1],[0],[0]])\n",
    "\n",
    "nn = network.NeuralNetwork([network.Linear_layer(2, 1)])\n",
    "param = {\"lr\": 3e-2, 'batch': 2, \"mode\": \"train\", \"eps\": 1e-16, \"epoch\": 0, 't': 1, 'clip': 1.0,\n",
    "         'optimizer': ('Adam', 0.9, 0.999), 'regularizer': None, \"loss_fn\":\"mse\"}"
   ]
  },
  {
   "cell_type": "code",
   "execution_count": 30,
   "id": "d306868a-df19-4a3a-87d1-1929d1abaf48",
   "metadata": {
    "scrolled": true,
    "tags": []
   },
   "outputs": [
    {
     "name": "stdout",
     "output_type": "stream",
     "text": [
      "Average loss = 1.848310, elapsed time = 0.00.\n",
      "Epoch 0, Accuracy = 0.5\n",
      "Average loss = 1.664073, elapsed time = 0.00.\n",
      "Epoch 1, Accuracy = 0.5\n",
      "Average loss = 1.437929, elapsed time = 0.00.\n",
      "Epoch 2, Accuracy = 0.5\n",
      "Average loss = 1.282943, elapsed time = 0.00.\n",
      "Epoch 3, Accuracy = 0.5\n",
      "Average loss = 1.110351, elapsed time = 0.00.\n",
      "Epoch 4, Accuracy = 0.5\n",
      "Average loss = 0.968368, elapsed time = 0.00.\n",
      "Epoch 5, Accuracy = 0.5\n",
      "Average loss = 0.837737, elapsed time = 0.00.\n",
      "Epoch 6, Accuracy = 0.25\n",
      "Average loss = 0.771027, elapsed time = 0.00.\n",
      "Epoch 7, Accuracy = 0.25\n",
      "Average loss = 0.640915, elapsed time = 0.00.\n",
      "Epoch 8, Accuracy = 0.25\n",
      "Average loss = 0.575231, elapsed time = 0.00.\n",
      "Epoch 9, Accuracy = 0.25\n",
      "Average loss = 0.527869, elapsed time = 0.00.\n",
      "Epoch 10, Accuracy = 0.25\n",
      "Average loss = 0.474028, elapsed time = 0.00.\n",
      "Epoch 11, Accuracy = 0.25\n",
      "Average loss = 0.463023, elapsed time = 0.00.\n",
      "Epoch 12, Accuracy = 0.25\n",
      "Average loss = 0.435756, elapsed time = 0.00.\n",
      "Epoch 13, Accuracy = 0.25\n",
      "Average loss = 0.421904, elapsed time = 0.00.\n",
      "Epoch 14, Accuracy = 0.25\n",
      "Average loss = 0.400429, elapsed time = 0.00.\n",
      "Epoch 15, Accuracy = 0.25\n",
      "Average loss = 0.385011, elapsed time = 0.00.\n",
      "Epoch 16, Accuracy = 0.25\n",
      "Average loss = 0.370628, elapsed time = 0.00.\n",
      "Epoch 17, Accuracy = 0.25\n",
      "Average loss = 0.351920, elapsed time = 0.00.\n",
      "Epoch 18, Accuracy = 0.25\n",
      "Average loss = 0.338038, elapsed time = 0.00.\n",
      "Epoch 19, Accuracy = 0.25\n",
      "Average loss = 0.319710, elapsed time = 0.00.\n",
      "Epoch 20, Accuracy = 0.5\n",
      "Average loss = 0.305201, elapsed time = 0.00.\n",
      "Epoch 21, Accuracy = 0.5\n",
      "Average loss = 0.281635, elapsed time = 0.00.\n",
      "Epoch 22, Accuracy = 0.5\n",
      "Average loss = 0.264061, elapsed time = 0.00.\n",
      "Epoch 23, Accuracy = 0.5\n",
      "Average loss = 0.247093, elapsed time = 0.00.\n",
      "Epoch 24, Accuracy = 0.75\n",
      "Average loss = 0.238661, elapsed time = 0.00.\n",
      "Epoch 25, Accuracy = 0.75\n",
      "Average loss = 0.219759, elapsed time = 0.00.\n",
      "Epoch 26, Accuracy = 0.75\n",
      "Average loss = 0.200107, elapsed time = 0.00.\n",
      "Epoch 27, Accuracy = 0.75\n",
      "Average loss = 0.188609, elapsed time = 0.00.\n",
      "Epoch 28, Accuracy = 0.75\n",
      "Average loss = 0.177749, elapsed time = 0.00.\n",
      "Epoch 29, Accuracy = 0.75\n",
      "Average loss = 0.165149, elapsed time = 0.00.\n",
      "Epoch 30, Accuracy = 1.0\n",
      "Average loss = 0.157390, elapsed time = 0.00.\n",
      "Epoch 31, Accuracy = 1.0\n",
      "Average loss = 0.145341, elapsed time = 0.00.\n",
      "Epoch 32, Accuracy = 1.0\n",
      "Average loss = 0.138980, elapsed time = 0.00.\n",
      "Epoch 33, Accuracy = 1.0\n",
      "Average loss = 0.129057, elapsed time = 0.00.\n",
      "Epoch 34, Accuracy = 1.0\n",
      "Average loss = 0.120639, elapsed time = 0.00.\n",
      "Epoch 35, Accuracy = 1.0\n",
      "Average loss = 0.113245, elapsed time = 0.00.\n",
      "Epoch 36, Accuracy = 1.0\n",
      "Average loss = 0.104339, elapsed time = 0.00.\n",
      "Epoch 37, Accuracy = 1.0\n",
      "Average loss = 0.097490, elapsed time = 0.00.\n",
      "Epoch 38, Accuracy = 1.0\n",
      "Average loss = 0.091761, elapsed time = 0.00.\n",
      "Epoch 39, Accuracy = 1.0\n"
     ]
    }
   ],
   "source": [
    "for i in range(40):\n",
    "    nn.train(last_turn, action, param)\n",
    "    action_ = np.round(nn(last_turn))\n",
    "    accuracy = np.sum(action_==action) / len(action)\n",
    "    print(f\"Epoch {i}, Accuracy = {accuracy}\")"
   ]
  },
  {
   "cell_type": "code",
   "execution_count": 31,
   "id": "ff93d5d5-c8be-4d7e-b2f5-60339ea67292",
   "metadata": {},
   "outputs": [],
   "source": [
    "# but this is more of a policy-gradient approach\n",
    "# the regression nature of DQNs make it impossible to employ simple architecture"
   ]
  },
  {
   "cell_type": "code",
   "execution_count": null,
   "id": "ab68e357-4319-4f75-a1e4-c93bfa60a786",
   "metadata": {},
   "outputs": [],
   "source": []
  }
 ],
 "metadata": {
  "kernelspec": {
   "display_name": "Python 3 (ipykernel)",
   "language": "python",
   "name": "python3"
  },
  "language_info": {
   "codemirror_mode": {
    "name": "ipython",
    "version": 3
   },
   "file_extension": ".py",
   "mimetype": "text/x-python",
   "name": "python",
   "nbconvert_exporter": "python",
   "pygments_lexer": "ipython3",
   "version": "3.8.10"
  }
 },
 "nbformat": 4,
 "nbformat_minor": 5
}
