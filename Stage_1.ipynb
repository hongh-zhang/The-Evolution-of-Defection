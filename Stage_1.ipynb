{
 "cells": [
  {
   "cell_type": "code",
   "execution_count": 1,
   "id": "abf5587c-e92b-47dc-991c-b58d944046c9",
   "metadata": {},
   "outputs": [],
   "source": [
    "# a notebook for verifying DQN implementation\n",
    "# + investigate how (well) it learns\n",
    "\n",
    "# remember to install the Axelrod library before running the following code\n",
    "# also, have a look on network.ipynb first"
   ]
  },
  {
   "cell_type": "code",
   "execution_count": 2,
   "id": "amazing-electricity",
   "metadata": {},
   "outputs": [],
   "source": [
    "%load_ext autoreload\n",
    "%autoreload 2\n",
    "\n",
    "import gc\n",
    "import numpy as np\n",
    "import axelrod as axl  # https://axelrod.readthedocs.io/en/stable/index.html\n",
    "from time import time\n",
    "from pprint import pprint\n",
    "import matplotlib.pyplot as plt\n",
    "\n",
    "np.set_printoptions(precision=3)\n",
    "\n",
    "# the following imports are from network / axl_utils folder\n",
    "import network\n",
    "from axl_utils import NNplayer, State, set_match, set_play"
   ]
  },
  {
   "cell_type": "code",
   "execution_count": 3,
   "id": "phantom-inside",
   "metadata": {},
   "outputs": [],
   "source": [
    "C = axl.Action.C\n",
    "D = axl.Action.D\n",
    "\n",
    "# config game rules\n",
    "# set_match & set_play function could be found inside axl_utils/game.py\n",
    "GAME_LEN = 20 + 1\n",
    "GAME = axl.Game(r=3, s=0, t=5, p=1)\n",
    "Match = set_match(game=GAME, turns=GAME_LEN)\n",
    "play = set_play(Match)"
   ]
  },
  {
   "cell_type": "code",
   "execution_count": 4,
   "id": "celtic-danish",
   "metadata": {},
   "outputs": [
    {
     "name": "stdout",
     "output_type": "stream",
     "text": [
      "[(3, 3), (3, 3), (5, 0), (0, 5), (5, 0), (1, 1), (1, 1), (0, 5), (3, 3), (5, 0), (0, 5), (5, 0), (0, 5), (3, 3), (5, 0), (0, 5), (5, 0), (1, 1), (0, 5), (5, 0)]\n",
      "Player 1 score = 50\n",
      "Player 2 score = 45\n"
     ]
    },
    {
     "data": {
      "text/plain": [
       "<axelrod.match.Match at 0x295dcb10e50>"
      ]
     },
     "execution_count": 4,
     "metadata": {},
     "output_type": "execute_result"
    }
   ],
   "source": [
    "# the play function set up match between 2 players, print the result then return the match object\n",
    "game = play(axl.Prober4(), axl.TitForTat())\n",
    "game"
   ]
  },
  {
   "cell_type": "markdown",
   "id": "027fef86-1a2b-4105-80c5-68f47184b1a4",
   "metadata": {},
   "source": [
    "### Section 0: data"
   ]
  },
  {
   "cell_type": "code",
   "execution_count": 5,
   "id": "cd140c92-09ae-489d-b65e-439334887219",
   "metadata": {},
   "outputs": [
    {
     "name": "stdout",
     "output_type": "stream",
     "text": [
      "(1) current state\n",
      "[[[-1 -1 -1 -1 -1 -1 -1 -1 -1 -1 -1 -1 -1 -1 -1 -1 -1 -1 -1 -1 -1]\n",
      "  [-1 -1 -1 -1 -1 -1 -1 -1 -1 -1 -1 -1 -1 -1 -1 -1 -1 -1 -1 -1 -1]]]\n",
      "\n",
      "(2) next state\n",
      "[[[-1.  -1.  -1.  -1.  -1.  -1.  -1.  -1.  -1.  -1.  -1.  -1.  -1.  -1.\n",
      "   -1.  -1.  -1.  -1.  -1.  -1.   1. ]\n",
      "  [-1.  -1.  -1.  -1.  -1.  -1.  -1.  -1.  -1.  -1.  -1.  -1.  -1.  -1.\n",
      "   -1.  -1.  -1.  -1.  -1.  -1.   0.1]]]\n",
      "\n",
      "(3) Transition\n",
      "Transition(state=array([[[-1, -1, -1, -1, -1, -1, -1, -1, -1, -1, -1, -1, -1, -1, -1, -1,\n",
      "         -1, -1, -1, -1, -1],\n",
      "        [-1, -1, -1, -1, -1, -1, -1, -1, -1, -1, -1, -1, -1, -1, -1, -1,\n",
      "         -1, -1, -1, -1, -1]]]), action=C, next_state=array([[[-1. , -1. , -1. , -1. , -1. , -1. , -1. , -1. , -1. , -1. ,\n",
      "         -1. , -1. , -1. , -1. , -1. , -1. , -1. , -1. , -1. , -1. ,\n",
      "          1. ],\n",
      "        [-1. , -1. , -1. , -1. , -1. , -1. , -1. , -1. , -1. , -1. ,\n",
      "         -1. , -1. , -1. , -1. , -1. , -1. , -1. , -1. , -1. , -1. ,\n",
      "          0.1]]]), reward=0)\n",
      "\n",
      "(4) Memory\n",
      "deque([Transition(state=array([[[-1, -1, -1, -1, -1, -1, -1, -1, -1, -1, -1, -1, -1, -1, -1, -1,\n",
      "         -1, -1, -1, -1, -1],\n",
      "        [-1, -1, -1, -1, -1, -1, -1, -1, -1, -1, -1, -1, -1, -1, -1, -1,\n",
      "         -1, -1, -1, -1, -1]]]),\n",
      "action=C, next_state=array([[[-1. , -1. , -1. , -1. , -1. , -1. , -1. , -1. , -1. , -1. ,\n",
      "         -1. , -1. , -1. , -1. , -1. , -1. , -1. , -1. , -1. , -1. ,\n",
      "          1. ],\n",
      "        [-1. , -1. , -1. , -1. , -1. , -1. , -1. , -1. , -1. , -1. ,\n",
      "         -1. , -1. , -1. , -1. , -1. , -1. , -1. , -1. , -1. , -1. ,\n",
      "          0.1]]]),\n",
      "reward=0),\n",
      "Transition(state=array([[[-1, -1, -1, -1, -1, -1, -1, -1, -1, -1, -1, -1, -1, -1, -1, -1,\n",
      "         -1, -1, -1, -1, -1],\n",
      "        [-1, -1, -1, -1, -1, -1, -1, -1, -1, -1, -1, -1, -1, -1, -1, -1,\n",
      "         -1, -1, -1, -1, -1]]]),\n",
      "action=C, next_state=array([[[-1. , -1. , -1. , -1. , -1. , -1. , -1. , -1. , -1. , -1. ,\n",
      "         -1. , -1. , -1. , -1. , -1. , -1. , -1. , -1. , -1. , -1. ,\n",
      "          1. ],\n",
      "        [-1. , -1. , -1. , -1. , -1. , -1. , -1. , -1. , -1. , -1. ,\n",
      "         -1. , -1. , -1. , -1. , -1. , -1. , -1. , -1. , -1. , -1. ,\n",
      "          0.1]]]),\n",
      "reward=0)], maxlen=2)\n"
     ]
    }
   ],
   "source": [
    "# an brief intro to the data\n",
    "\n",
    "# State class could be found under axl_utils/nnplayer.py\n",
    "# create a state container by\n",
    "state = State(GAME_LEN, C=1, D=0.1, N=-1)\n",
    "# the hyperparameters specify how we encode the environment\n",
    "# '1' represent cooperation\n",
    "# '0.1' represent defection\n",
    "# '-1' means the turn has not happened yet\n",
    "\n",
    "# this created a empty state that looks like this\n",
    "current_state = state.values()\n",
    "print(\"(1) current state\")\n",
    "print(current_state)\n",
    "\n",
    "\n",
    "# assume we have a interaction between players, where we cooperated, and the opponent defected\n",
    "# thus our action = C\n",
    "# reward = 0 from the standard payoff matrix\n",
    "action = C\n",
    "reward = 0\n",
    "# to record this interaction into the state:\n",
    "state.push(C, D)\n",
    "\n",
    "# updated state looks like this\n",
    "next_state = state.values()\n",
    "print(\"\\n(2) next state\")\n",
    "print(next_state)\n",
    "# New interactions are pushed to the *END* of the array\n",
    "# this way the latest interaction is always fixed on the same positioin\n",
    "# I hope this would help our algorithm to learn tit-for-tat\n",
    "\n",
    "\n",
    "# Transition records what occured in the game, for our neural network to learn\n",
    "# a Transition = (current_state, action, next_state, reward)\n",
    "# so the above transition would be\n",
    "from network.dqn import Transition\n",
    "transition = Transition(current_state, action, next_state, reward)\n",
    "print(\"\\n(3) Transition\")\n",
    "print(transition)\n",
    "# these form the data in this project\n",
    "\n",
    "\n",
    "# a ReplayMemory is just a container to store the Transitions and feed to our neural network\n",
    "memory = network.ReplayMemory(2)  # <- control the size\n",
    "[memory.push(*transition) for i in '1234'];\n",
    "print(\"\\n(4) Memory\")\n",
    "print(memory)\n",
    "\n",
    "# (check the code in axl_utils/nnplayer.py & network/dqn for details)\n",
    "\n",
    "del memory, transition, Transition, current_state, action, next_state, reward"
   ]
  },
  {
   "cell_type": "markdown",
   "id": "7ae1a802-2d70-47ef-95c1-105aebe6b7cd",
   "metadata": {},
   "source": [
    "### Section 1: DQN"
   ]
  },
  {
   "cell_type": "code",
   "execution_count": 6,
   "id": "sunset-latex",
   "metadata": {},
   "outputs": [],
   "source": [
    "# DQN class is inside network/dqn.py\n",
    "# it defines how the network make decision + how it learns\n",
    "# the implementation are not mentioned in this notebook\n",
    "# please have a look at the .py file directly\n",
    "# I've commented most of them\n",
    "\n",
    "dqn = network.DQN([\n",
    "                    network.Flatten_layer(),\n",
    "                    network.Linear_layer(GAME_LEN*2, 100),\n",
    "                    network.Activation_layer('ReLU'),\n",
    "                    network.Linear_layer(100, 200),\n",
    "                    network.Activation_layer('ReLU'),\n",
    "                    network.Linear_layer(200, 100),\n",
    "                    network.Activation_layer('ReLU'),\n",
    "                    network.Linear_layer(100, 2),\n",
    "                    ],\n",
    "            network.ReplayMemory(2000), gamma=0.9, greedy=0.2)\n",
    "\n",
    "# NNplayer class is inside axl_utils/nnplayer.py\n",
    "# it integrates our DQN with the axl library\n",
    "# to allow it play under axl's environment\n",
    "\n",
    "p1 = NNplayer(dqn, State(GAME_LEN))\n",
    "del dqn\n",
    "gc.collect()\n",
    "\n",
    "param = {\"lr\": 1e-4, 'batch': 64, \"mode\": \"train\", \"eps\": 1e-16, \"epoch\": 0, 't': 1, 'clip': 1.0,\n",
    "         'optimizer': ('Adam', 0.9, 0.999), 'regularizer': None, \"loss_fn\":\"mse\"}"
   ]
  },
  {
   "cell_type": "code",
   "execution_count": 7,
   "id": "e0ff68de-e82a-4b48-b3c5-ee94c93e5021",
   "metadata": {
    "scrolled": true,
    "tags": []
   },
   "outputs": [
    {
     "name": "stdout",
     "output_type": "stream",
     "text": [
      "[[-0.209 -0.299]]\n",
      "[[ 0.356 -0.105]]\n",
      "[[ 0.604 -0.605]]\n",
      "[[ 0.956 -0.371]]\n",
      "[[ 1.47  -1.321]]\n",
      "[[ 0.954 -0.429]]\n",
      "[[ 0.592 -0.333]]\n",
      "[[ 0.755 -0.752]]\n",
      "[[ 1.271 -1.549]]\n",
      "[[ 0.99  -1.541]]\n",
      "[[ 1.099 -0.905]]\n",
      "[[ 1.329 -0.569]]\n",
      "[[ 1.587 -0.244]]\n",
      "[[ 1.128 -1.079]]\n",
      "[[ 0.783 -1.978]]\n",
      "[[ 1.039 -2.579]]\n",
      "[[ 1.109 -1.833]]\n",
      "[[ 2.248 -1.75 ]]\n",
      "[[ 2.191 -1.789]]\n",
      "[[ 1.881 -2.187]]\n",
      "[[ 1.112 -2.521]]\n"
     ]
    }
   ],
   "source": [
    "# 'with' statement makes my DQN enter test mode\n",
    "# where its episilon-greedy is set to 0 (no random exploration)\n",
    "# + printing our the estimated Q-value\n",
    "\n",
    "with p1:\n",
    "    players = (p1, axl.TitForTat())\n",
    "    game = Match(players)\n",
    "    game.play()\n",
    "    \n",
    "# initial Q_value predictions:"
   ]
  },
  {
   "cell_type": "code",
   "execution_count": 8,
   "id": "b07b1e17-0946-4374-9408-ec08dda8c1bb",
   "metadata": {},
   "outputs": [],
   "source": [
    "# collecting initial experience\n",
    "# high greedy -> more random exploration\n",
    "\n",
    "p1.network.greedy= 0.8\n",
    "for i in range(60):\n",
    "    players = (p1, axl.TitForTat())\n",
    "    game = Match(players)\n",
    "    game.play()\n",
    "p1.network.greedy= 0.2"
   ]
  },
  {
   "cell_type": "code",
   "execution_count": 9,
   "id": "6c178b65-3778-4265-a506-9e248211325f",
   "metadata": {},
   "outputs": [
    {
     "name": "stdout",
     "output_type": "stream",
     "text": [
      "28.35\n",
      "27.95\n",
      "27.50\n",
      "27.00\n",
      "26.44\n",
      "25.82\n",
      "25.14\n",
      "24.37\n",
      "23.53\n",
      "22.59\n",
      "21.54\n",
      "20.38\n",
      "19.09\n",
      "17.65\n",
      "16.06\n",
      "14.29\n",
      "12.32\n",
      "10.13\n",
      "7.70\n",
      "5.00\n",
      "0.00\n"
     ]
    }
   ],
   "source": [
    "# theoritical Q values\n",
    "# assuming the player cooperate til the last turn, then defect\n",
    "# apply annuity formula with cashflow = 3.0, interest rate = 1/9, periods = 20 turns\n",
    "# * the (1/9) come from our hyperparameter gamma, which is set to 0.9 by default\n",
    "# then compensate the defection in 2nd last turn, and hard code the 21st turn to 0.0 (last turn must be 0 for DQN to learn)\n",
    "true_Q = np.array([3.0/(1/9) * (1.0 - 1.0/(1.0+1/9)**(19-i)) + 5.0 if i<20 else 0.0 for i in range(21)])\n",
    "[print(f'{i:.2f}') for i in true_Q];"
   ]
  },
  {
   "cell_type": "code",
   "execution_count": 10,
   "id": "808f28f2-d526-4f78-b7ee-5fc158c90f8f",
   "metadata": {
    "scrolled": true,
    "tags": []
   },
   "outputs": [
    {
     "name": "stdout",
     "output_type": "stream",
     "text": [
      "loss: [0.369 0.707],            time: +3.92 sec\n",
      "loss: [0.19  0.194],            time: +4.49 sec\n",
      "loss: [0.124 0.13 ],            time: +5.20 sec\n",
      "loss: [0.084 0.094],            time: +7.18 sec\n",
      "loss: [0.068 0.074],            time: +6.93 sec\n",
      "loss: [0.061 0.056],            time: +7.15 sec\n",
      "loss: [0.056 0.05 ],            time: +6.20 sec\n",
      "loss: [0.04  0.035],            time: +7.04 sec\n",
      "loss: [0.032 0.027],            time: +6.40 sec\n",
      "loss: [0.038 0.032],            time: +6.40 sec\n",
      "loss: [0.04  0.041],            time: +6.34 sec\n",
      "loss: [0.029 0.033],            time: +7.40 sec\n",
      "loss: [0.022 0.029],            time: +5.87 sec\n",
      "loss: [0.023 0.03 ],            time: +5.77 sec\n",
      "loss: [0.023 0.025],            time: +6.83 sec\n",
      "loss: [0.023 0.027],            time: +6.29 sec\n",
      "loss: [0.025 0.023],            time: +6.41 sec\n",
      "loss: [0.026 0.03 ],            time: +7.92 sec\n",
      "loss: [0.018 0.021],            time: +7.15 sec\n",
      "loss: [0.015 0.019],            time: +6.68 sec\n"
     ]
    }
   ],
   "source": [
    "# training loop\n",
    "\n",
    "score_ls = []\n",
    "errors = []\n",
    "for _ in range(20):\n",
    "    start = time()\n",
    "    \n",
    "    # calling train method bound to NNplayer/DQN class\n",
    "    # detailed documentation are in .py files\n",
    "    p1.train(30, param)\n",
    "    \n",
    "    # collect new experience with the trained network\n",
    "    [Match((p1, axl.TitForTat())).play() for _ in range(10)]\n",
    "    \n",
    "    print(f'loss: {p1.network.loss},            time: +{time()-start:.2f} sec')\n",
    "    \n",
    "    # calculating Q-value error for later use\n",
    "    # a bit tedious here but I'm too lazy to fix\n",
    "    values = []\n",
    "    state = State(21)\n",
    "    for i in range(21):\n",
    "        value = p1.network(state.values())[0]\n",
    "        if i != 19:\n",
    "            values.append(value[0])\n",
    "        else:\n",
    "            values.append(value[1])  # defection on 20th turn\n",
    "        state.push(C, C) \n",
    "    error = true_Q - np.array(values)\n",
    "    errors.append(error)\n",
    "\n",
    "\n",
    "# left: running loss for cooperation\n",
    "# right: running loss for defection"
   ]
  },
  {
   "cell_type": "code",
   "execution_count": 11,
   "id": "46870776-b3e2-4bcd-a08f-c06c96624cca",
   "metadata": {},
   "outputs": [
    {
     "name": "stdout",
     "output_type": "stream",
     "text": [
      "[[26.67  26.021]]\n",
      "[[26.095 25.479]]\n",
      "[[25.744 25.063]]\n",
      "[[25.404 24.683]]\n",
      "[[24.924 24.148]]\n",
      "[[24.367 23.649]]\n",
      "[[23.701 22.981]]\n",
      "[[22.956 22.205]]\n",
      "[[22.147 21.418]]\n",
      "[[21.287 20.527]]\n",
      "[[20.319 19.563]]\n",
      "[[19.223 18.495]]\n",
      "[[17.988 17.273]]\n",
      "[[16.68  15.974]]\n",
      "[[15.226 14.492]]\n",
      "[[13.592 12.888]]\n",
      "[[11.785 11.037]]\n",
      "[[9.703 8.898]]\n",
      "[[7.529 5.757]]\n",
      "[[2.992 5.037]]\n",
      "[[0.002 0.012]]\n",
      "[(3, 3), (3, 3), (3, 3), (3, 3), (3, 3), (3, 3), (3, 3), (3, 3), (3, 3), (3, 3), (3, 3), (3, 3), (3, 3), (3, 3), (3, 3), (3, 3), (3, 3), (3, 3), (3, 3), (5, 0)]\n",
      "Player 1 score = 62\n",
      "Player 2 score = 57\n"
     ]
    }
   ],
   "source": [
    "with p1:\n",
    "    play(p1, axl.TitForTat())\n",
    "# predicted Q-values after training:\n",
    "\n",
    "# * 21st turn is dropped by my 'play' function\n",
    "# because our DQN cannot learn it\n",
    "# so the following results are for a 20 turn IPD"
   ]
  },
  {
   "cell_type": "code",
   "execution_count": 12,
   "id": "a093cf70-eea9-4400-84b7-8daa6f0ba6b2",
   "metadata": {},
   "outputs": [
    {
     "data": {
      "image/png": "[encoded data removed]",
      "text/plain": [
       "<Figure size 800x640 with 1 Axes>"
      ]
     },
     "metadata": {
      "needs_background": "light"
     },
     "output_type": "display_data"
    }
   ],
   "source": [
    "# training loss\n",
    "# the beauty of double DQN\n",
    "p1.plot()"
   ]
  },
  {
   "cell_type": "code",
   "execution_count": 13,
   "id": "c9a99d06-7b2c-4d10-b023-13c1d7a476f4",
   "metadata": {},
   "outputs": [
    {
     "data": {
      "image/png": "[encoded data removed]",
      "text/plain": [
       "<Figure size 640x480 with 1 Axes>"
      ]
     },
     "metadata": {
      "needs_background": "light"
     },
     "output_type": "display_data"
    }
   ],
   "source": [
    "# visualize how fit our estimated Q-values is compared to theoretical values\n",
    "plt.figure(figsize=(8, 6), dpi=80)\n",
    "plt.plot(range(21), true_Q, '--', c='tab:blue', label='theoritical Q-values')\n",
    "plt.plot(range(21), values, c='tab:red', label='estimated Q-values')\n",
    "plt.xlabel('Turns')\n",
    "plt.ylabel('Q-values')\n",
    "plt.legend(loc='upper right')\n",
    "plt.show()"
   ]
  },
  {
   "cell_type": "code",
   "execution_count": 15,
   "id": "a7772e27-5179-4999-bf0c-c97540442489",
   "metadata": {},
   "outputs": [
    {
     "data": {
      "image/png": "[encoded data removed]",
      "text/plain": [
       "<Figure size 800x640 with 1 Axes>"
      ]
     },
     "metadata": {
      "needs_background": "light"
     },
     "output_type": "display_data"
    }
   ],
   "source": [
    "# visualizing the recursion nature of Bellman's equation,\n",
    "# where the later states has to be learnt prior to learning preceding states\n",
    "\n",
    "# plotting the error between our prediction against the theoritical Q-value\n",
    "errors = np.array(errors)\n",
    "plt.figure(figsize=(10, 8), dpi=80)\n",
    "plt.scatter(range(len(errors)), errors[:,0], c='tab:orange', marker='x', label='1st turn')\n",
    "plt.scatter(range(len(errors)), errors[:,4], c='tab:blue', marker='x', label='5th turn')\n",
    "plt.scatter(range(len(errors)), errors[:,9], c='tab:red', marker='x', label='10th turn')\n",
    "plt.scatter(range(len(errors)), errors[:,14], c='tab:blue', marker='x', label='15th turn')\n",
    "plt.scatter(range(len(errors)), errors[:,19], c='tab:orange', marker='x', label='20th turn')\n",
    "plt.legend(loc='upper right')\n",
    "plt.xlabel('Epochs')\n",
    "plt.ylabel('Q-value Error')\n",
    "plt.show()\n",
    "\n",
    "# due to the recursion\n",
    "# V(current) is dependent on V(next)\n",
    "# meaning that 1st turn will not be correctly learnt until the 2nd got the right value\n",
    "# resulting in the gaps below\n",
    "\n",
    "# this is similar to how tabular Q learning works via dynamic programming"
   ]
  },
  {
   "cell_type": "markdown",
   "id": "c058f015-1b6b-4657-a3aa-bb16bdbd1466",
   "metadata": {},
   "source": [
    "### Section 2: DQN without fixed target (single DQN)"
   ]
  },
  {
   "cell_type": "code",
   "execution_count": 16,
   "id": "4fe1c92a-48c9-4815-9ae5-8480617cc997",
   "metadata": {
    "scrolled": true,
    "tags": []
   },
   "outputs": [
    {
     "name": "stdout",
     "output_type": "stream",
     "text": [
      "loss: [1.493 3.313],            time: +0.45 sec\n",
      "loss: [1.94  3.703],            time: +0.51 sec\n",
      "loss: [2.027 3.496],            time: +0.55 sec\n",
      "loss: [2.076 3.163],            time: +0.56 sec\n",
      "loss: [2.16  2.796],            time: +0.51 sec\n",
      "loss: [2.158 2.613],            time: +0.50 sec\n",
      "loss: [2.119 2.535],            time: +0.60 sec\n",
      "loss: [2.19  2.618],            time: +0.55 sec\n",
      "loss: [2.408 2.814],            time: +0.56 sec\n",
      "loss: [2.292 2.905],            time: +0.67 sec\n",
      "loss: [2.423 2.99 ],            time: +0.58 sec\n",
      "loss: [2.479 3.08 ],            time: +0.56 sec\n",
      "loss: [2.666 3.18 ],            time: +0.49 sec\n",
      "loss: [2.943 3.455],            time: +0.48 sec\n",
      "loss: [3.393 3.779],            time: +0.52 sec\n",
      "loss: [3.828 4.338],            time: +0.56 sec\n",
      "loss: [4.57  4.911],            time: +0.62 sec\n",
      "loss: [5.437 5.282],            time: +0.63 sec\n",
      "loss: [6.191 6.096],            time: +0.52 sec\n",
      "loss: [7.247 6.974],            time: +0.54 sec\n",
      "loss: [8.185 7.638],            time: +0.60 sec\n",
      "loss: [8.767 8.672],            time: +0.57 sec\n",
      "loss: [10.32  10.339],            time: +0.53 sec\n",
      "loss: [11.056 11.894],            time: +0.61 sec\n",
      "loss: [12.84  13.604],            time: +0.46 sec\n",
      "loss: [14.251 14.583],            time: +0.48 sec\n",
      "loss: [15.653 16.856],            time: +0.53 sec\n",
      "loss: [17.197 18.173],            time: +0.62 sec\n",
      "loss: [18.315 20.364],            time: +0.59 sec\n",
      "loss: [20.698 22.887],            time: +0.51 sec\n",
      "loss: [24.031 23.735],            time: +0.52 sec\n",
      "loss: [26.911 26.261],            time: +0.49 sec\n",
      "loss: [29.399 29.794],            time: +0.46 sec\n",
      "loss: [31.25  31.649],            time: +0.53 sec\n",
      "loss: [36.857 37.1  ],            time: +0.48 sec\n",
      "loss: [40.282 41.957],            time: +0.52 sec\n",
      "loss: [46.418 45.964],            time: +0.49 sec\n",
      "loss: [50.826 52.47 ],            time: +0.46 sec\n",
      "loss: [58.466 60.373],            time: +0.49 sec\n",
      "loss: [63.877 68.637],            time: +0.46 sec\n",
      "loss: [68.281 78.652],            time: +0.54 sec\n",
      "loss: [74.884 88.402],            time: +0.48 sec\n",
      "loss: [82.985 91.591],            time: +0.54 sec\n",
      "loss: [90.741 97.502],            time: +0.50 sec\n",
      "loss: [ 97.493 110.373],            time: +0.53 sec\n",
      "loss: [111.083 132.761],            time: +0.50 sec\n",
      "loss: [116.869 142.897],            time: +0.59 sec\n",
      "loss: [128.557 145.384],            time: +0.56 sec\n",
      "loss: [141.238 160.907],            time: +0.64 sec\n",
      "loss: [156.813 140.501],            time: +0.52 sec\n",
      "loss: [172.252 166.029],            time: +0.50 sec\n",
      "loss: [185.646 191.79 ],            time: +0.47 sec\n",
      "loss: [209.012 196.079],            time: +0.47 sec\n",
      "loss: [224.614 210.374],            time: +0.45 sec\n",
      "loss: [243.79  233.797],            time: +0.49 sec\n",
      "loss: [265.298 231.6  ],            time: +0.46 sec\n",
      "loss: [285.664 231.456],            time: +0.48 sec\n",
      "loss: [305.54  278.607],            time: +0.46 sec\n",
      "loss: [327.99  281.452],            time: +0.46 sec\n",
      "loss: [346.123 321.954],            time: +0.44 sec\n",
      "loss: [389.819 392.562],            time: +0.45 sec\n",
      "loss: [424.732 445.14 ],            time: +0.49 sec\n",
      "loss: [466.063 574.168],            time: +0.48 sec\n",
      "loss: [520.268 653.219],            time: +0.45 sec\n",
      "loss: [601.965 709.72 ],            time: +0.49 sec\n",
      "loss: [679.937 798.07 ],            time: +0.45 sec\n",
      "loss: [801.643 897.178],            time: +0.47 sec\n",
      "loss: [ 910.257 1017.176],            time: +0.45 sec\n",
      "loss: [1088.022 1053.07 ],            time: +0.48 sec\n",
      "loss: [1165.024 1075.586],            time: +0.46 sec\n",
      "loss: [1303.401 1055.675],            time: +0.45 sec\n",
      "loss: [1463.603 1110.69 ],            time: +0.45 sec\n",
      "loss: [1564.366 1119.934],            time: +0.46 sec\n",
      "loss: [1673.394 1129.044],            time: +0.44 sec\n",
      "loss: [1726.847 1114.84 ],            time: +0.43 sec\n",
      "loss: [1637.583 1113.815],            time: +0.48 sec\n",
      "loss: [1381.354 1155.088],            time: +0.45 sec\n",
      "loss: [1190.394 1125.539],            time: +0.47 sec\n",
      "loss: [1154.808 1177.854],            time: +0.49 sec\n",
      "loss: [1286.81  1270.619],            time: +0.54 sec\n",
      "loss: [1303.24 1325.39],            time: +0.46 sec\n",
      "loss: [1225.846 1402.027],            time: +0.52 sec\n",
      "loss: [1414.402 1497.994],            time: +0.49 sec\n",
      "loss: [1526.655 1614.203],            time: +0.48 sec\n",
      "loss: [1796.179 1723.502],            time: +0.49 sec\n",
      "loss: [2054.746 1774.064],            time: +0.49 sec\n",
      "loss: [1928.393 1915.674],            time: +0.48 sec\n",
      "loss: [2142.587 2018.547],            time: +0.47 sec\n",
      "loss: [2377.461 2162.645],            time: +0.44 sec\n",
      "loss: [2309.308 2220.108],            time: +0.45 sec\n",
      "loss: [2756.861 2430.612],            time: +0.48 sec\n",
      "loss: [2729.888 2572.375],            time: +0.45 sec\n",
      "loss: [2715.461 2712.832],            time: +0.47 sec\n",
      "loss: [2574.529 2741.229],            time: +0.45 sec\n",
      "loss: [2966.077 2979.661],            time: +0.47 sec\n",
      "loss: [3132.733 3175.673],            time: +0.44 sec\n",
      "loss: [3368.419 3100.568],            time: +0.44 sec\n",
      "loss: [3577.263 3430.847],            time: +0.45 sec\n",
      "loss: [3160.437 3593.374],            time: +0.45 sec\n",
      "loss: [3582.762 3766.335],            time: +0.46 sec\n"
     ]
    }
   ],
   "source": [
    "dqn2 = network.DQN([\n",
    "                    network.Flatten_layer(),\n",
    "                    network.Linear_layer(GAME_LEN*2, 100),\n",
    "                    network.Activation_layer('ReLU'),\n",
    "                    network.Linear_layer(100, 200),\n",
    "                    network.Activation_layer('ReLU'),\n",
    "                    network.Linear_layer(200, 100),\n",
    "                    network.Activation_layer('ReLU'),\n",
    "                    network.Linear_layer(100, 2),\n",
    "                    ],\n",
    "            network.ReplayMemory(2000), gamma=0.9, greedy=0.2)\n",
    "p2 = NNplayer(dqn2, State(GAME_LEN))\n",
    "del dqn2\n",
    "gc.collect()\n",
    "\n",
    "param = {\"lr\": 1e-4, 'batch': 64, \"mode\": \"train\", \"eps\": 1e-16, \"epoch\": 0, 't': 1, 'clip': 1.0,\n",
    "         'optimizer': ('Adam', 0.9, 0.999), 'regularizer': None, \"loss_fn\":\"mse\"}\n",
    "\n",
    "p2.set_greedy(0.8)\n",
    "for i in range(60):\n",
    "    players = (p2, axl.TitForTat())\n",
    "    game = Match(players)\n",
    "    game.play()\n",
    "p2.set_greedy(0.2)\n",
    "\n",
    "for _ in range(100):\n",
    "    start = time()\n",
    "    \n",
    "    p2.train(1, param)  # my train function updates target net at the end via deepcopy, we can overwrite this by\n",
    "    p2.network.target_net = p2.network.policy_net  # shallow copy policy net to target net\n",
    "    \n",
    "    [Match((p2, axl.TitForTat())).play() for _ in range(10)]\n",
    "    print(f'loss: {p2.network.loss},            time: +{time()-start:.2f} sec')"
   ]
  },
  {
   "cell_type": "code",
   "execution_count": 17,
   "id": "6a7517cb-0c5c-44e2-aeb5-f2c907cfc1ca",
   "metadata": {},
   "outputs": [
    {
     "data": {
      "image/png": "[encoded data removed]",
      "text/plain": [
       "<Figure size 800x640 with 1 Axes>"
      ]
     },
     "metadata": {
      "needs_background": "light"
     },
     "output_type": "display_data"
    }
   ],
   "source": [
    "# see how loss grows exponentially without fixed target\n",
    "p2.plot()"
   ]
  },
  {
   "cell_type": "code",
   "execution_count": 18,
   "id": "16412a30-5e00-4f12-a0b7-78ef04388d86",
   "metadata": {},
   "outputs": [
    {
     "name": "stdout",
     "output_type": "stream",
     "text": [
      "[[1484.81  1756.586]]\n",
      "[[3787.568 4196.109]]\n",
      "[[-2805.456 -2747.947]]\n",
      "[[4496.396 4946.291]]\n",
      "[[-1128.209  -940.792]]\n",
      "[[2593.19  2958.945]]\n",
      "[[-1241.739 -1059.703]]\n",
      "[[4550.811 5033.437]]\n",
      "[[-2649.448 -2529.644]]\n",
      "[[2577.042 2951.366]]\n",
      "[[1319.323 1623.369]]\n",
      "[[ 882.255 1162.805]]\n",
      "[[-505.132 -306.398]]\n",
      "[[3308.446 3684.287]]\n",
      "[[-731.209 -547.447]]\n",
      "[[-980.153 -836.561]]\n",
      "[[2614.487 2904.018]]\n",
      "[[-962.169 -860.475]]\n",
      "[[ 62.687 176.906]]\n",
      "[[ 908.529 1028.151]]\n",
      "[[1192.086 1307.542]]\n",
      "[(5, 0), (1, 1), (1, 1), (1, 1), (1, 1), (1, 1), (1, 1), (1, 1), (1, 1), (1, 1), (1, 1), (1, 1), (1, 1), (1, 1), (1, 1), (1, 1), (1, 1), (1, 1), (1, 1), (1, 1)]\n",
      "Player 1 score = 24\n",
      "Player 2 score = 19\n"
     ]
    }
   ],
   "source": [
    "# result:\n",
    "with p2:\n",
    "    play(p2, axl.TitForTat())\n",
    "    \n",
    "# incorrect Q-values -> bad/random policy\n",
    "# (run this section serveral time to see how the policy is effectively random)"
   ]
  },
  {
   "cell_type": "code",
   "execution_count": 19,
   "id": "67b0965d-648b-46d6-b0b3-1c0da4c08e11",
   "metadata": {},
   "outputs": [],
   "source": [
    "del p2"
   ]
  },
  {
   "cell_type": "markdown",
   "id": "b63ca61c-56ce-4fbf-9e45-64793bb1e5b3",
   "metadata": {
    "tags": []
   },
   "source": [
    "### Section 3: testing the off-policyness"
   ]
  },
  {
   "cell_type": "code",
   "execution_count": 20,
   "id": "f635e6ca-462f-4a45-84b7-49f11babd630",
   "metadata": {},
   "outputs": [],
   "source": [
    "from axl_utils.extract import extract"
   ]
  },
  {
   "cell_type": "code",
   "execution_count": 21,
   "id": "1f11f83d-fee2-4c0f-9bda-edb4505f5e7f",
   "metadata": {},
   "outputs": [
    {
     "name": "stdout",
     "output_type": "stream",
     "text": [
      "10000\n"
     ]
    }
   ],
   "source": [
    "# collecting experience from axl.Random\n",
    "memory = network.ReplayMemory(10000)\n",
    "for _ in range(500):\n",
    "    game = play(axl.Random(), axl.TitForTat(), show=False)\n",
    "    extract(game, memory)\n",
    "    \n",
    "print(len(memory))\n",
    "# we can then pass this memory into a fresh DQN"
   ]
  },
  {
   "cell_type": "code",
   "execution_count": 22,
   "id": "660f2888-e127-4be6-8700-d92c1b01665b",
   "metadata": {},
   "outputs": [],
   "source": [
    "dqn3 = network.DQN([\n",
    "                    network.Flatten_layer(),\n",
    "                    network.Linear_layer(GAME_LEN*2, 100, bias=0.01),\n",
    "                    network.Activation_layer('ReLU'),\n",
    "                    network.Linear_layer(100, 200),\n",
    "                    network.Activation_layer('ReLU'),\n",
    "                    network.Linear_layer(200, 100),\n",
    "                    network.Activation_layer('ReLU'),\n",
    "                    network.Linear_layer(100, 2),\n",
    "                    ],\n",
    "            memory, gamma=0.9, greedy=0.2)  # <- feeding the memory from above\n",
    "p3 = NNplayer(dqn3, State(GAME_LEN))\n",
    "del dqn3\n",
    "gc.collect()\n",
    "\n",
    "param = {\"lr\": 1e-4, 'batch': 64, \"mode\": \"train\", \"eps\": 1e-16, \"epoch\": 0, 't': 1, 'clip': 1.0,\n",
    "         'optimizer': ('Adam', 0.9, 0.999), 'regularizer': None, \"loss_fn\":\"mse\"}"
   ]
  },
  {
   "cell_type": "code",
   "execution_count": 23,
   "id": "62712d1a-2adc-4f97-b279-6519d86e719a",
   "metadata": {
    "scrolled": true,
    "tags": []
   },
   "outputs": [
    {
     "name": "stdout",
     "output_type": "stream",
     "text": [
      "loss: [0.266 0.378],            time: +4.97 sec\n",
      "loss: [0.253 0.278],            time: +5.21 sec\n",
      "loss: [0.201 0.208],            time: +6.21 sec\n",
      "loss: [0.179 0.189],            time: +4.98 sec\n",
      "loss: [0.144 0.151],            time: +5.29 sec\n",
      "loss: [0.127 0.146],            time: +4.49 sec\n",
      "loss: [0.12 0.13],            time: +5.51 sec\n",
      "loss: [0.114 0.122],            time: +5.13 sec\n",
      "loss: [0.104 0.109],            time: +5.42 sec\n",
      "loss: [0.1   0.111],            time: +5.12 sec\n",
      "loss: [0.093 0.1  ],            time: +5.37 sec\n",
      "loss: [0.086 0.09 ],            time: +4.71 sec\n",
      "loss: [0.078 0.086],            time: +4.80 sec\n",
      "loss: [0.075 0.078],            time: +5.38 sec\n",
      "loss: [0.071 0.079],            time: +5.35 sec\n",
      "loss: [0.068 0.077],            time: +5.43 sec\n",
      "loss: [0.066 0.071],            time: +5.54 sec\n",
      "loss: [0.062 0.065],            time: +5.47 sec\n",
      "loss: [0.06  0.071],            time: +5.36 sec\n",
      "loss: [0.058 0.068],            time: +5.26 sec\n"
     ]
    }
   ],
   "source": [
    "for _ in range(20):\n",
    "    start = time()\n",
    "    p3.train(5, param)\n",
    "    print(f'loss: {p3.network.loss},            time: +{time()-start:.2f} sec')"
   ]
  },
  {
   "cell_type": "code",
   "execution_count": 24,
   "id": "a721478a-0a95-4123-a67a-02b8f2da5907",
   "metadata": {},
   "outputs": [
    {
     "name": "stdout",
     "output_type": "stream",
     "text": [
      "[[26.902 26.153]]\n",
      "[[26.318 25.535]]\n",
      "[[25.707 25.074]]\n",
      "[[25.177 24.446]]\n",
      "[[24.624 23.855]]\n",
      "[[23.998 23.272]]\n",
      "[[23.377 22.702]]\n",
      "[[22.667 21.868]]\n",
      "[[21.909 21.147]]\n",
      "[[20.937 20.228]]\n",
      "[[20.124 19.563]]\n",
      "[[18.927 18.438]]\n",
      "[[17.922 17.274]]\n",
      "[[16.671 15.945]]\n",
      "[[15.05  14.345]]\n",
      "[[13.622 12.809]]\n",
      "[[11.646 10.991]]\n",
      "[[9.576 8.977]]\n",
      "[[7.639 6.172]]\n",
      "[[3.11  5.389]]\n",
      "[[0.131 0.042]]\n",
      "[(3, 3), (3, 3), (3, 3), (3, 3), (3, 3), (3, 3), (3, 3), (3, 3), (3, 3), (3, 3), (3, 3), (3, 3), (3, 3), (3, 3), (3, 3), (3, 3), (3, 3), (3, 3), (3, 3), (5, 0)]\n",
      "Player 1 score = 62\n",
      "Player 2 score = 57\n"
     ]
    }
   ],
   "source": [
    "with p3:\n",
    "    play(p3, axl.TitForTat())\n",
    "    \n",
    "# learns well, without ever playing the game"
   ]
  },
  {
   "cell_type": "code",
   "execution_count": 25,
   "id": "90bd9834-c0c0-4329-bf1a-59eb73b7bfbe",
   "metadata": {},
   "outputs": [],
   "source": [
    "del p3"
   ]
  },
  {
   "cell_type": "markdown",
   "id": "d3c1ed14-9aa9-4f58-8418-0fca4d19543a",
   "metadata": {},
   "source": [
    "### Section 4: but what did it learn?"
   ]
  },
  {
   "cell_type": "code",
   "execution_count": 26,
   "id": "0da9e622-893e-43cd-96c8-4b15f4972676",
   "metadata": {},
   "outputs": [
    {
     "name": "stdout",
     "output_type": "stream",
     "text": [
      "[(0, 5), (0, 5), (3, 3), (3, 3), (0, 5), (0, 5), (0, 5), (0, 5), (0, 5), (0, 5), (0, 5), (0, 5), (0, 5), (0, 5), (0, 5), (0, 5), (0, 5), (0, 5), (0, 5), (1, 1)]\n",
      "Player 1 score = 7\n",
      "Player 2 score = 92\n"
     ]
    }
   ],
   "source": [
    "# might be an obvious question but let's see what happens if our DQN meets provocative defection\n",
    "\n",
    "p1.network.greedy = 0.0\n",
    "play(p1, axl.HardProber());  # hard prober defects forever if its opponent does not retaliate"
   ]
  },
  {
   "cell_type": "code",
   "execution_count": 27,
   "id": "bb34e617-c1e0-44c6-9624-25abe13ff14c",
   "metadata": {},
   "outputs": [
    {
     "name": "stdout",
     "output_type": "stream",
     "text": [
      "[(0, 5), (0, 5), (3, 3), (3, 3), (0, 5), (0, 5), (0, 5), (0, 5), (0, 5), (0, 5), (0, 5), (0, 5), (0, 5), (0, 5), (0, 5), (0, 5), (0, 5), (0, 5), (0, 5), (0, 5)]\n",
      "Player 1 score = 6\n",
      "Player 2 score = 96\n"
     ]
    }
   ],
   "source": [
    "play(axl.Cooperator(), axl.HardProber());  # => our DQN is basically a naive cooperator"
   ]
  },
  {
   "cell_type": "code",
   "execution_count": 28,
   "id": "464fa231-ebe7-40a3-9041-6a97128f170a",
   "metadata": {},
   "outputs": [
    {
     "name": "stdout",
     "output_type": "stream",
     "text": [
      "[(0, 5), (1, 1), (5, 0), (3, 3), (3, 3), (3, 3), (3, 3), (3, 3), (3, 3), (3, 3), (3, 3), (3, 3), (3, 3), (3, 3), (3, 3), (3, 3), (3, 3), (3, 3), (3, 3), (3, 3)]\n",
      "Player 1 score = 57\n",
      "Player 2 score = 57\n"
     ]
    }
   ],
   "source": [
    "play(axl.TitForTat(), axl.HardProber());  # while TFT can generalize well to any opponent"
   ]
  },
  {
   "cell_type": "code",
   "execution_count": 29,
   "id": "09be710f-a8fe-44e3-b8ad-0ffd3478afa0",
   "metadata": {},
   "outputs": [],
   "source": [
    "# => continue exploration on Stage 2"
   ]
  },
  {
   "cell_type": "markdown",
   "id": "5bc259d0-6dfe-4e3e-b968-faad8fb1c4b4",
   "metadata": {},
   "source": [
    "### Section 5: learning TFT with 2 perceptrons"
   ]
  },
  {
   "cell_type": "code",
   "execution_count": 30,
   "id": "2b9c3805-7f27-4acd-9cbb-8435c102016a",
   "metadata": {},
   "outputs": [],
   "source": [
    "# possible states of last turn\n",
    "# where [1,1] means mutual cooperation\n",
    "last_turn = np.array([[1,1],[0,1],[1,0],[0,0]])\n",
    "\n",
    "# target\n",
    "# => copy opponent's action\n",
    "action = np.array([[1],[1],[0],[0]])\n",
    "\n",
    "nn = network.NeuralNetwork([network.Linear_layer(2, 1)])\n",
    "param = {\"lr\": 3e-2, 'batch': 2, \"mode\": \"train\", \"eps\": 1e-16, \"epoch\": 0, 't': 1, 'clip': 1.0,\n",
    "         'optimizer': ('Adam', 0.9, 0.999), 'regularizer': None, \"loss_fn\":\"mse\"}"
   ]
  },
  {
   "cell_type": "code",
   "execution_count": 31,
   "id": "d306868a-df19-4a3a-87d1-1929d1abaf48",
   "metadata": {
    "scrolled": true,
    "tags": []
   },
   "outputs": [
    {
     "name": "stdout",
     "output_type": "stream",
     "text": [
      "Average loss = 0.324177, elapsed time = 0.00.\n",
      "Epoch 0, Accuracy = 0.75\n",
      "Average loss = 0.230611, elapsed time = 0.00.\n",
      "Epoch 1, Accuracy = 0.75\n",
      "Average loss = 0.137042, elapsed time = 0.00.\n",
      "Epoch 2, Accuracy = 0.75\n",
      "Average loss = 0.077147, elapsed time = 0.00.\n",
      "Epoch 3, Accuracy = 1.0\n",
      "Average loss = 0.051214, elapsed time = 0.00.\n",
      "Epoch 4, Accuracy = 1.0\n",
      "Average loss = 0.025074, elapsed time = 0.00.\n",
      "Epoch 5, Accuracy = 1.0\n",
      "Average loss = 0.024392, elapsed time = 0.00.\n",
      "Epoch 6, Accuracy = 1.0\n",
      "Average loss = 0.028575, elapsed time = 0.00.\n",
      "Epoch 7, Accuracy = 1.0\n",
      "Average loss = 0.034685, elapsed time = 0.00.\n",
      "Epoch 8, Accuracy = 1.0\n",
      "Average loss = 0.039249, elapsed time = 0.00.\n",
      "Epoch 9, Accuracy = 1.0\n",
      "Average loss = 0.039893, elapsed time = 0.00.\n",
      "Epoch 10, Accuracy = 1.0\n",
      "Average loss = 0.034930, elapsed time = 0.00.\n",
      "Epoch 11, Accuracy = 1.0\n",
      "Average loss = 0.028569, elapsed time = 0.00.\n",
      "Epoch 12, Accuracy = 1.0\n",
      "Average loss = 0.022309, elapsed time = 0.00.\n",
      "Epoch 13, Accuracy = 1.0\n",
      "Average loss = 0.015157, elapsed time = 0.00.\n",
      "Epoch 14, Accuracy = 1.0\n",
      "Average loss = 0.011066, elapsed time = 0.00.\n",
      "Epoch 15, Accuracy = 1.0\n",
      "Average loss = 0.008688, elapsed time = 0.00.\n",
      "Epoch 16, Accuracy = 1.0\n",
      "Average loss = 0.008031, elapsed time = 0.00.\n",
      "Epoch 17, Accuracy = 1.0\n",
      "Average loss = 0.008713, elapsed time = 0.00.\n",
      "Epoch 18, Accuracy = 1.0\n",
      "Average loss = 0.008609, elapsed time = 0.00.\n",
      "Epoch 19, Accuracy = 1.0\n",
      "Average loss = 0.008570, elapsed time = 0.00.\n",
      "Epoch 20, Accuracy = 1.0\n",
      "Average loss = 0.007464, elapsed time = 0.00.\n",
      "Epoch 21, Accuracy = 1.0\n",
      "Average loss = 0.005550, elapsed time = 0.00.\n",
      "Epoch 22, Accuracy = 1.0\n",
      "Average loss = 0.004705, elapsed time = 0.00.\n",
      "Epoch 23, Accuracy = 1.0\n",
      "Average loss = 0.002951, elapsed time = 0.00.\n",
      "Epoch 24, Accuracy = 1.0\n",
      "Average loss = 0.002544, elapsed time = 0.00.\n",
      "Epoch 25, Accuracy = 1.0\n",
      "Average loss = 0.002103, elapsed time = 0.00.\n",
      "Epoch 26, Accuracy = 1.0\n",
      "Average loss = 0.001741, elapsed time = 0.00.\n",
      "Epoch 27, Accuracy = 1.0\n",
      "Average loss = 0.001693, elapsed time = 0.00.\n",
      "Epoch 28, Accuracy = 1.0\n",
      "Average loss = 0.001434, elapsed time = 0.00.\n",
      "Epoch 29, Accuracy = 1.0\n",
      "Average loss = 0.001273, elapsed time = 0.00.\n",
      "Epoch 30, Accuracy = 1.0\n",
      "Average loss = 0.000984, elapsed time = 0.00.\n",
      "Epoch 31, Accuracy = 1.0\n",
      "Average loss = 0.000624, elapsed time = 0.00.\n",
      "Epoch 32, Accuracy = 1.0\n",
      "Average loss = 0.000472, elapsed time = 0.00.\n",
      "Epoch 33, Accuracy = 1.0\n",
      "Average loss = 0.000336, elapsed time = 0.00.\n",
      "Epoch 34, Accuracy = 1.0\n",
      "Average loss = 0.000220, elapsed time = 0.00.\n",
      "Epoch 35, Accuracy = 1.0\n",
      "Average loss = 0.000196, elapsed time = 0.00.\n",
      "Epoch 36, Accuracy = 1.0\n",
      "Average loss = 0.000186, elapsed time = 0.00.\n",
      "Epoch 37, Accuracy = 1.0\n",
      "Average loss = 0.000152, elapsed time = 0.00.\n",
      "Epoch 38, Accuracy = 1.0\n",
      "Average loss = 0.000119, elapsed time = 0.00.\n",
      "Epoch 39, Accuracy = 1.0\n"
     ]
    }
   ],
   "source": [
    "for i in range(40):\n",
    "    nn.train(last_turn, action, param)\n",
    "    action_ = np.round(nn(last_turn))\n",
    "    accuracy = np.sum(action_==action) / len(action)\n",
    "    print(f\"Epoch {i}, Accuracy = {accuracy}\")"
   ]
  },
  {
   "cell_type": "code",
   "execution_count": 32,
   "id": "ff93d5d5-c8be-4d7e-b2f5-60339ea67292",
   "metadata": {},
   "outputs": [],
   "source": [
    "# but obviously this is human-learning instead of machine learning\n",
    "# will the DQN figure this out by itself?\n",
    "\n",
    "# also, the architecture is more of a policy-gradient approach\n",
    "# the regression nature of DQNs make it impossible to employ simple architecture"
   ]
  },
  {
   "cell_type": "code",
   "execution_count": null,
   "id": "ab68e357-4319-4f75-a1e4-c93bfa60a786",
   "metadata": {},
   "outputs": [],
   "source": []
  }
 ],
 "metadata": {
  "kernelspec": {
   "display_name": "Python 3 (ipykernel)",
   "language": "python",
   "name": "python3"
  },
  "language_info": {
   "codemirror_mode": {
    "name": "ipython",
    "version": 3
   },
   "file_extension": ".py",
   "mimetype": "text/x-python",
   "name": "python",
   "nbconvert_exporter": "python",
   "pygments_lexer": "ipython3",
   "version": "3.8.10"
  }
 },
 "nbformat": 4,
 "nbformat_minor": 5
}
