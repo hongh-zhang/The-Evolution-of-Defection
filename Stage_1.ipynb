{
 "cells": [
  {
   "cell_type": "code",
   "execution_count": 1,
   "id": "hidden-sixth",
   "metadata": {},
   "outputs": [],
   "source": [
    "%load_ext autoreload\n",
    "%autoreload 2"
   ]
  },
  {
   "cell_type": "code",
   "execution_count": 2,
   "id": "amazing-electricity",
   "metadata": {},
   "outputs": [],
   "source": [
    "import gc\n",
    "import numpy as np\n",
    "import axelrod as axl  # https://axelrod.readthedocs.io/en/stable/index.html\n",
    "from time import time\n",
    "from pprint import pprint\n",
    "import matplotlib.pyplot as plt\n",
    "\n",
    "np.set_printoptions(precision=3)\n",
    "\n",
    "# the following imports are from network / axl_utils folder\n",
    "import network\n",
    "from axl_utils import NNplayer, State, set_match, set_play"
   ]
  },
  {
   "cell_type": "code",
   "execution_count": 3,
   "id": "phantom-inside",
   "metadata": {},
   "outputs": [],
   "source": [
    "C = axl.Action.C\n",
    "D = axl.Action.D\n",
    "\n",
    "# config game rules\n",
    "# set_match & set_play function could be found inside axl_utils/game.py\n",
    "GAME_LEN = 20 + 1\n",
    "GAME = axl.Game(r=3, s=0, t=5, p=1)\n",
    "Match = set_match(game=GAME, turns=GAME_LEN)\n",
    "play = set_play(Match)"
   ]
  },
  {
   "cell_type": "code",
   "execution_count": 4,
   "id": "celtic-danish",
   "metadata": {},
   "outputs": [
    {
     "name": "stdout",
     "output_type": "stream",
     "text": [
      "[(3, 3), (3, 3), (5, 0), (0, 5), (5, 0), (1, 1), (1, 1), (0, 5), (3, 3), (5, 0), (0, 5), (5, 0), (0, 5), (3, 3), (5, 0), (0, 5), (5, 0), (1, 1), (0, 5), (5, 0)]\n",
      "Player 1 score = 50\n",
      "Player 2 score = 45\n"
     ]
    },
    {
     "data": {
      "text/plain": [
       "<axelrod.match.Match at 0x19f929e6bb0>"
      ]
     },
     "execution_count": 4,
     "metadata": {},
     "output_type": "execute_result"
    }
   ],
   "source": [
    "# the play function set up match between 2 players, print the result then return the match object\n",
    "game = play(axl.Prober4(), axl.TitForTat())\n",
    "game"
   ]
  },
  {
   "cell_type": "markdown",
   "id": "027fef86-1a2b-4105-80c5-68f47184b1a4",
   "metadata": {},
   "source": [
    "### Section 0: data"
   ]
  },
  {
   "cell_type": "code",
   "execution_count": 14,
   "id": "cd140c92-09ae-489d-b65e-439334887219",
   "metadata": {},
   "outputs": [
    {
     "name": "stdout",
     "output_type": "stream",
     "text": [
      "(1) current state\n",
      "[[[-1 -1 -1 -1 -1 -1 -1 -1 -1 -1 -1 -1 -1 -1 -1 -1 -1 -1 -1 -1 -1]\n",
      "  [-1 -1 -1 -1 -1 -1 -1 -1 -1 -1 -1 -1 -1 -1 -1 -1 -1 -1 -1 -1 -1]]]\n",
      "\n",
      "(2) next state\n",
      "[[[-1.  -1.  -1.  -1.  -1.  -1.  -1.  -1.  -1.  -1.  -1.  -1.  -1.  -1.\n",
      "   -1.  -1.  -1.  -1.  -1.  -1.   1. ]\n",
      "  [-1.  -1.  -1.  -1.  -1.  -1.  -1.  -1.  -1.  -1.  -1.  -1.  -1.  -1.\n",
      "   -1.  -1.  -1.  -1.  -1.  -1.   0.1]]]\n",
      "\n",
      "(3) Transition\n",
      "Transition(state=array([[[-1, -1, -1, -1, -1, -1, -1, -1, -1, -1, -1, -1, -1, -1, -1, -1,\n",
      "         -1, -1, -1, -1, -1],\n",
      "        [-1, -1, -1, -1, -1, -1, -1, -1, -1, -1, -1, -1, -1, -1, -1, -1,\n",
      "         -1, -1, -1, -1, -1]]]), action=C, next_state=array([[[-1. , -1. , -1. , -1. , -1. , -1. , -1. , -1. , -1. , -1. ,\n",
      "         -1. , -1. , -1. , -1. , -1. , -1. , -1. , -1. , -1. , -1. ,\n",
      "          1. ],\n",
      "        [-1. , -1. , -1. , -1. , -1. , -1. , -1. , -1. , -1. , -1. ,\n",
      "         -1. , -1. , -1. , -1. , -1. , -1. , -1. , -1. , -1. , -1. ,\n",
      "          0.1]]]), reward=0)\n",
      "\n",
      "(4) Memory\n",
      "deque([Transition(state=array([[[-1, -1, -1, -1, -1, -1, -1, -1, -1, -1, -1, -1, -1, -1, -1, -1,\n",
      "         -1, -1, -1, -1, -1],\n",
      "        [-1, -1, -1, -1, -1, -1, -1, -1, -1, -1, -1, -1, -1, -1, -1, -1,\n",
      "         -1, -1, -1, -1, -1]]]),\n",
      "action=C, next_state=array([[[-1. , -1. , -1. , -1. , -1. , -1. , -1. , -1. , -1. , -1. ,\n",
      "         -1. , -1. , -1. , -1. , -1. , -1. , -1. , -1. , -1. , -1. ,\n",
      "          1. ],\n",
      "        [-1. , -1. , -1. , -1. , -1. , -1. , -1. , -1. , -1. , -1. ,\n",
      "         -1. , -1. , -1. , -1. , -1. , -1. , -1. , -1. , -1. , -1. ,\n",
      "          0.1]]]),\n",
      "reward=0),\n",
      "Transition(state=array([[[-1, -1, -1, -1, -1, -1, -1, -1, -1, -1, -1, -1, -1, -1, -1, -1,\n",
      "         -1, -1, -1, -1, -1],\n",
      "        [-1, -1, -1, -1, -1, -1, -1, -1, -1, -1, -1, -1, -1, -1, -1, -1,\n",
      "         -1, -1, -1, -1, -1]]]),\n",
      "action=C, next_state=array([[[-1. , -1. , -1. , -1. , -1. , -1. , -1. , -1. , -1. , -1. ,\n",
      "         -1. , -1. , -1. , -1. , -1. , -1. , -1. , -1. , -1. , -1. ,\n",
      "          1. ],\n",
      "        [-1. , -1. , -1. , -1. , -1. , -1. , -1. , -1. , -1. , -1. ,\n",
      "         -1. , -1. , -1. , -1. , -1. , -1. , -1. , -1. , -1. , -1. ,\n",
      "          0.1]]]),\n",
      "reward=0)], maxlen=2)\n"
     ]
    }
   ],
   "source": [
    "# an brief intro to the data\n",
    "\n",
    "# State class could be found under axl_utils/nnplayer.py\n",
    "# create a state container by\n",
    "state = State(GAME_LEN)\n",
    "\n",
    "# this creates a empty state that looks like this\n",
    "current_state = state.values()\n",
    "print(\"(1) current state\")\n",
    "print(current_state)\n",
    "# '1' represent cooperation\n",
    "# '0.1' represent defection\n",
    "# '-1' means the turn has not happened yet\n",
    "\n",
    "# assume we have a interaction between players, where one cooperated, and the other defected\n",
    "# and the action would thus be C\n",
    "# reward = 0 \n",
    "action = C\n",
    "reward = 0  # from payoff matrix\n",
    "# to record this into the state:\n",
    "state.push(C, D)\n",
    "\n",
    "# updated state looks like this\n",
    "next_state = state.values()\n",
    "print(\"\\n(2) next state\")\n",
    "print(next_state)\n",
    "# New interactions are pushed to the *END* of the array\n",
    "# this way the latest interaction is always fixed on the same positioin\n",
    "# I hope this would help our algorithm to learn tit-for-tat\n",
    "\n",
    "\n",
    "# Transition records what occured in the game, for our neural network to learn\n",
    "# a Transition = (current_state, action, next_state, reward)\n",
    "# so this transition would be\n",
    "from network.dqn import Transition\n",
    "transition = Transition(current_state, action, next_state, reward)\n",
    "print(\"\\n(3) Transition\")\n",
    "print(transition)\n",
    "# these form the data in this project\n",
    "\n",
    "\n",
    "# a ReplayMemory is just a container to store the Transitions and feed to our neural network\n",
    "memory = network.ReplayMemory(2)  # <- control the size\n",
    "[memory.push(*transition) for i in '1234'];\n",
    "print(\"\\n(4) Memory\")\n",
    "print(memory)\n",
    "\n",
    "del memory, transition, Transition, current_state, action, next_state, reward"
   ]
  },
  {
   "cell_type": "markdown",
   "id": "7ae1a802-2d70-47ef-95c1-105aebe6b7cd",
   "metadata": {},
   "source": [
    "### Section 1: DQN"
   ]
  },
  {
   "cell_type": "code",
   "execution_count": 6,
   "id": "sunset-latex",
   "metadata": {},
   "outputs": [],
   "source": [
    "# DQN class is inside network/dqn.py\n",
    "# it defines how the network make decision + how it learns\n",
    "\n",
    "dqn = network.DQN([\n",
    "                    network.Flatten_layer(),\n",
    "                    network.Linear_layer(GAME_LEN*2, 100),\n",
    "                    network.Activation_layer('ReLU'),\n",
    "                    network.Linear_layer(100, 200),\n",
    "                    network.Activation_layer('ReLU'),\n",
    "                    network.Linear_layer(200, 100),\n",
    "                    network.Activation_layer('ReLU'),\n",
    "                    network.Linear_layer(100, 2),\n",
    "                    ],\n",
    "            network.ReplayMemory(2000), gamma=0.9, greedy=0.2)\n",
    "\n",
    "# NNplayer class is inside axl_utils/nnplayer.py\n",
    "# it integrates our DQN with the axl library\n",
    "# to allow it play under axl's environment\n",
    "\n",
    "p1 = NNplayer(dqn, State(GAME_LEN))\n",
    "del dqn\n",
    "gc.collect()\n",
    "\n",
    "param = {\"lr\": 1e-4, 'batch': 64, \"mode\": \"train\", \"eps\": 1e-16, \"epoch\": 0, 't': 1, 'clip': 1.0,\n",
    "         'optimizer': ('Adam', 0.9, 0.999), 'regularizer': None, \"loss_fn\":\"mse\"}"
   ]
  },
  {
   "cell_type": "code",
   "execution_count": 7,
   "id": "e0ff68de-e82a-4b48-b3c5-ee94c93e5021",
   "metadata": {
    "scrolled": true,
    "tags": []
   },
   "outputs": [
    {
     "name": "stdout",
     "output_type": "stream",
     "text": [
      "[[ 0.817 -0.064]]\n",
      "[[ 0.533 -0.691]]\n",
      "[[-0.288 -0.615]]\n",
      "[[-0.24   0.249]]\n",
      "[[-0.65 -0.06]]\n",
      "[[-0.448  1.126]]\n",
      "[[-0.088  1.109]]\n",
      "[[-0.618  2.344]]\n",
      "[[-1.412  1.524]]\n",
      "[[-1.527  0.956]]\n",
      "[[-1.007  1.236]]\n",
      "[[-0.33  -0.227]]\n",
      "[[-0.198  0.139]]\n",
      "[[-0.583  0.329]]\n",
      "[[-1.128  0.14 ]]\n",
      "[[0.111 0.13 ]]\n",
      "[[ 0.427 -0.592]]\n",
      "[[ 0.185 -0.195]]\n",
      "[[-0.468 -0.758]]\n",
      "[[-0.36   0.263]]\n",
      "[[-0.725 -0.663]]\n"
     ]
    }
   ],
   "source": [
    "# 'with' statement makes my DQN enter test mode\n",
    "# where its episilon-greedy is set to 0 (no random exploration)\n",
    "# + printing our the estimated Q-value\n",
    "\n",
    "with p1:\n",
    "    players = (p1, axl.TitForTat())\n",
    "    game = Match(players)\n",
    "    game.play()\n",
    "    \n",
    "# initial Q_value predictions:"
   ]
  },
  {
   "cell_type": "code",
   "execution_count": 8,
   "id": "b07b1e17-0946-4374-9408-ec08dda8c1bb",
   "metadata": {},
   "outputs": [],
   "source": [
    "# initial experience\n",
    "# high greedy -> more random exploration\n",
    "\n",
    "p1.set_greedy(0.8)\n",
    "for i in range(60):\n",
    "    players = (p1, axl.TitForTat())\n",
    "    game = Match(players)\n",
    "    game.play()\n",
    "p1.set_greedy(0.2)"
   ]
  },
  {
   "cell_type": "code",
   "execution_count": 9,
   "id": "6c178b65-3778-4265-a506-9e248211325f",
   "metadata": {},
   "outputs": [
    {
     "name": "stdout",
     "output_type": "stream",
     "text": [
      "28.35\n",
      "27.95\n",
      "27.50\n",
      "27.00\n",
      "26.44\n",
      "25.82\n",
      "25.14\n",
      "24.37\n",
      "23.53\n",
      "22.59\n",
      "21.54\n",
      "20.38\n",
      "19.09\n",
      "17.65\n",
      "16.06\n",
      "14.29\n",
      "12.32\n",
      "10.13\n",
      "7.70\n",
      "5.00\n",
      "0.00\n"
     ]
    }
   ],
   "source": [
    "# theoritical Q values\n",
    "# assuming the player cooperate til the last turn, then defect\n",
    "# apply annuity formula with cashflow = 3.0, interest rate = 1/9, periods = 20 turns\n",
    "# * the (1/9) come from our hyperparameter gamma, which is set to 0.9 by default\n",
    "# then compensate the defection in 2nd last turn, and hard code the last turn to 0.0\n",
    "true_Q = np.array([3.0/(1/9) * (1.0 - 1.0/(1.0+1/9)**(19-i)) + 5.0 if i<20 else 0.0 for i in range(21)])\n",
    "[print(f'{i:.2f}') for i in true_Q];"
   ]
  },
  {
   "cell_type": "code",
   "execution_count": 10,
   "id": "808f28f2-d526-4f78-b7ee-5fc158c90f8f",
   "metadata": {
    "scrolled": true,
    "tags": []
   },
   "outputs": [
    {
     "name": "stdout",
     "output_type": "stream",
     "text": [
      "loss: [0.313 0.334],            time: +3.76 sec\n",
      "loss: [0.198 0.169],            time: +4.62 sec\n",
      "loss: [0.134 0.143],            time: +4.82 sec\n",
      "loss: [0.087 0.108],            time: +5.67 sec\n",
      "loss: [0.076 0.076],            time: +7.17 sec\n",
      "loss: [0.058 0.066],            time: +5.85 sec\n",
      "loss: [0.042 0.043],            time: +6.36 sec\n",
      "loss: [0.034 0.04 ],            time: +6.78 sec\n",
      "loss: [0.031 0.032],            time: +6.25 sec\n",
      "loss: [0.034 0.04 ],            time: +6.10 sec\n",
      "loss: [0.032 0.037],            time: +6.04 sec\n",
      "loss: [0.028 0.038],            time: +5.59 sec\n",
      "loss: [0.024 0.031],            time: +6.30 sec\n",
      "loss: [0.026 0.035],            time: +6.08 sec\n",
      "loss: [0.023 0.037],            time: +5.55 sec\n",
      "loss: [0.025 0.032],            time: +6.49 sec\n",
      "loss: [0.023 0.025],            time: +6.65 sec\n",
      "loss: [0.023 0.026],            time: +6.23 sec\n",
      "loss: [0.018 0.033],            time: +5.90 sec\n",
      "loss: [0.023 0.03 ],            time: +5.64 sec\n"
     ]
    }
   ],
   "source": [
    "# training loop\n",
    "\n",
    "score_ls = []\n",
    "errors = []\n",
    "for _ in range(20):\n",
    "    start = time()\n",
    "    \n",
    "    # calling train method bound to NNplayer/DQN class\n",
    "    # detailed documentation are there\n",
    "    p1.train(30, param)\n",
    "    \n",
    "    # collect new experience with trained network\n",
    "    [Match((p1, axl.TitForTat())).play() for _ in range(10)]\n",
    "    \n",
    "    print(f'loss: {p1.network.loss},            time: +{time()-start:.2f} sec')\n",
    "    \n",
    "    # calculating Q-value error for later use\n",
    "    # a bit tedious here but I'm too lazy to fix\n",
    "    values = []\n",
    "    state = State(21)\n",
    "    for i in range(21):\n",
    "        value = p1.network(state.values())[0]\n",
    "        if i != 19:\n",
    "            values.append(value[0])\n",
    "        else:\n",
    "            values.append(value[1])  # defection on last turn\n",
    "        state.push(C, C) \n",
    "    error = true_Q - np.array(values)\n",
    "    errors.append(error)\n",
    "\n",
    "\n",
    "# left: running loss for cooperation\n",
    "# right: running loss for defection"
   ]
  },
  {
   "cell_type": "code",
   "execution_count": 11,
   "id": "46870776-b3e2-4bcd-a08f-c06c96624cca",
   "metadata": {},
   "outputs": [
    {
     "name": "stdout",
     "output_type": "stream",
     "text": [
      "[[26.374 25.718]]\n",
      "[[25.852 25.278]]\n",
      "[[25.567 25.016]]\n",
      "[[25.243 24.599]]\n",
      "[[24.75  24.112]]\n",
      "[[24.133 23.426]]\n",
      "[[23.552 22.755]]\n",
      "[[22.862 22.157]]\n",
      "[[22.079 21.316]]\n",
      "[[21.277 20.576]]\n",
      "[[20.253 19.516]]\n",
      "[[19.228 18.51 ]]\n",
      "[[18.022 17.307]]\n",
      "[[16.752 16.101]]\n",
      "[[15.264 14.512]]\n",
      "[[13.562 12.834]]\n",
      "[[11.78  11.053]]\n",
      "[[9.786 9.1  ]]\n",
      "[[7.559 5.892]]\n",
      "[[2.799 5.029]]\n",
      "[[-0.001  0.015]]\n",
      "[(3, 3), (3, 3), (3, 3), (3, 3), (3, 3), (3, 3), (3, 3), (3, 3), (3, 3), (3, 3), (3, 3), (3, 3), (3, 3), (3, 3), (3, 3), (3, 3), (3, 3), (3, 3), (3, 3), (5, 0)]\n",
      "Player 1 score = 62\n",
      "Player 2 score = 57\n"
     ]
    }
   ],
   "source": [
    "with p1:\n",
    "    play(p1, axl.TitForTat())\n",
    "# predicted Q-values after training:"
   ]
  },
  {
   "cell_type": "code",
   "execution_count": 12,
   "id": "a093cf70-eea9-4400-84b7-8daa6f0ba6b2",
   "metadata": {},
   "outputs": [
    {
     "data": {
      "image/png": "[encoded data removed]",
      "text/plain": [
       "<Figure size 800x640 with 1 Axes>"
      ]
     },
     "metadata": {
      "needs_background": "light"
     },
     "output_type": "display_data"
    }
   ],
   "source": [
    "# training loss\n",
    "# the beauty of double DQN\n",
    "p1.plot()"
   ]
  },
  {
   "cell_type": "code",
   "execution_count": 13,
   "id": "c9a99d06-7b2c-4d10-b023-13c1d7a476f4",
   "metadata": {},
   "outputs": [
    {
     "data": {
      "image/png": "[encoded data removed]",
      "text/plain": [
       "<Figure size 640x480 with 1 Axes>"
      ]
     },
     "metadata": {
      "needs_background": "light"
     },
     "output_type": "display_data"
    }
   ],
   "source": [
    "plt.figure(figsize=(8, 6), dpi=80)\n",
    "plt.plot(range(21), true_Q, '--', c='tab:blue', label='theoritical Q-values')\n",
    "plt.plot(range(21), values, c='tab:red', label='estimated Q-values')\n",
    "plt.xlabel('Turns')\n",
    "plt.ylabel('Q-values')\n",
    "plt.legend(loc='upper right')\n",
    "plt.show()"
   ]
  },
  {
   "cell_type": "code",
   "execution_count": 14,
   "id": "a7772e27-5179-4999-bf0c-c97540442489",
   "metadata": {},
   "outputs": [
    {
     "data": {
      "image/png": "[encoded data removed]",
      "text/plain": [
       "<Figure size 800x640 with 1 Axes>"
      ]
     },
     "metadata": {
      "needs_background": "light"
     },
     "output_type": "display_data"
    }
   ],
   "source": [
    "# visualizing the recursion nature of Bellman's equation,\n",
    "# where the later states has to be learnt prior to learning preceding states\n",
    "\n",
    "# plotting the error between our prediction against the theoritical Q-value\n",
    "errors = np.array(errors)\n",
    "plt.figure(figsize=(10, 8), dpi=80)\n",
    "plt.scatter(range(len(errors)), errors[:,0], c='black', marker='x', label='1st turn')\n",
    "plt.scatter(range(len(errors)), errors[:,4], c='dimgrey', marker='x', label='5th turn')\n",
    "plt.scatter(range(len(errors)), errors[:,9], c='grey', marker='x', label='10th turn')\n",
    "plt.scatter(range(len(errors)), errors[:,14], c='darkgrey', marker='x', label='15th turn')\n",
    "plt.scatter(range(len(errors)), errors[:,19], c='lightgrey', marker='x', label='20th turn')\n",
    "plt.legend(loc='upper right')\n",
    "plt.xlabel('Epochs')\n",
    "plt.ylabel('Q-value Error')\n",
    "plt.show()\n",
    "\n",
    "# due to the recursion\n",
    "# V(current) is dependent on V(next)\n",
    "# meaning that 1st turn will not be correctly learnt until 2nd got the right value\n",
    "# resulting in the gaps below\n",
    "\n",
    "# this is similar to how tabular Q learning works via dynamic programming"
   ]
  },
  {
   "cell_type": "markdown",
   "id": "c058f015-1b6b-4657-a3aa-bb16bdbd1466",
   "metadata": {},
   "source": [
    "### Section 2: DQN without fixed target (single DQN)"
   ]
  },
  {
   "cell_type": "code",
   "execution_count": 15,
   "id": "4fe1c92a-48c9-4815-9ae5-8480617cc997",
   "metadata": {
    "scrolled": true,
    "tags": []
   },
   "outputs": [
    {
     "name": "stdout",
     "output_type": "stream",
     "text": [
      "loss: [2.114 1.832],            time: +0.40 sec\n",
      "loss: [2.933 2.208],            time: +0.43 sec\n",
      "loss: [2.886 2.019],            time: +0.44 sec\n",
      "loss: [2.528 2.031],            time: +0.50 sec\n",
      "loss: [2.419 2.1  ],            time: +0.46 sec\n",
      "loss: [2.477 2.171],            time: +0.52 sec\n",
      "loss: [2.343 2.268],            time: +0.47 sec\n",
      "loss: [2.728 2.472],            time: +0.48 sec\n",
      "loss: [2.291 2.641],            time: +0.47 sec\n",
      "loss: [2.831 2.925],            time: +0.46 sec\n",
      "loss: [2.856 3.166],            time: +0.45 sec\n",
      "loss: [3.12  3.722],            time: +0.54 sec\n",
      "loss: [3.327 4.022],            time: +0.50 sec\n",
      "loss: [3.589 4.468],            time: +0.52 sec\n",
      "loss: [3.859 5.213],            time: +0.46 sec\n",
      "loss: [4.039 5.96 ],            time: +0.48 sec\n",
      "loss: [4.275 6.591],            time: +0.53 sec\n",
      "loss: [4.756 7.587],            time: +0.49 sec\n",
      "loss: [5.356 8.249],            time: +0.51 sec\n",
      "loss: [6.176 9.012],            time: +0.44 sec\n",
      "loss: [6.875 9.857],            time: +0.45 sec\n",
      "loss: [ 7.55  10.789],            time: +0.48 sec\n",
      "loss: [ 8.482 12.021],            time: +0.59 sec\n",
      "loss: [10.27  12.449],            time: +0.48 sec\n",
      "loss: [11.354 12.86 ],            time: +0.47 sec\n",
      "loss: [13.173 14.583],            time: +0.50 sec\n",
      "loss: [15.337 15.898],            time: +0.54 sec\n",
      "loss: [16.945 16.774],            time: +0.52 sec\n",
      "loss: [18.099 18.375],            time: +0.46 sec\n",
      "loss: [22.406 19.884],            time: +0.50 sec\n",
      "loss: [25.315 21.682],            time: +0.46 sec\n",
      "loss: [28.325 23.647],            time: +0.47 sec\n",
      "loss: [32.157 27.198],            time: +0.52 sec\n",
      "loss: [35.266 29.398],            time: +0.53 sec\n",
      "loss: [38.066 32.654],            time: +0.56 sec\n",
      "loss: [43.552 34.387],            time: +0.57 sec\n",
      "loss: [49.517 37.974],            time: +0.54 sec\n",
      "loss: [54.666 41.994],            time: +0.60 sec\n",
      "loss: [60.592 48.316],            time: +0.69 sec\n",
      "loss: [66.068 45.576],            time: +0.51 sec\n",
      "loss: [73.632 57.187],            time: +0.50 sec\n",
      "loss: [84.309 62.905],            time: +0.50 sec\n",
      "loss: [92.465 70.468],            time: +0.58 sec\n",
      "loss: [102.592  81.205],            time: +0.47 sec\n",
      "loss: [118.203  90.817],            time: +0.50 sec\n",
      "loss: [127.022 104.424],            time: +0.49 sec\n",
      "loss: [144.388 110.383],            time: +0.53 sec\n",
      "loss: [160.666 118.718],            time: +0.58 sec\n",
      "loss: [173.803 129.417],            time: +0.62 sec\n",
      "loss: [187.945 142.782],            time: +0.56 sec\n",
      "loss: [203.841 147.632],            time: +0.55 sec\n",
      "loss: [218.402 164.712],            time: +0.57 sec\n",
      "loss: [245.447 170.574],            time: +0.59 sec\n",
      "loss: [250.457 193.688],            time: +0.55 sec\n",
      "loss: [262.963 210.951],            time: +0.47 sec\n",
      "loss: [273.46  230.074],            time: +0.49 sec\n",
      "loss: [261.437 244.758],            time: +0.47 sec\n",
      "loss: [256.371 265.726],            time: +0.49 sec\n",
      "loss: [295.6  278.44],            time: +0.45 sec\n",
      "loss: [294.321 302.28 ],            time: +0.49 sec\n",
      "loss: [334.439 332.258],            time: +0.50 sec\n",
      "loss: [354.781 346.046],            time: +0.61 sec\n",
      "loss: [398.754 388.427],            time: +0.47 sec\n",
      "loss: [422.452 405.887],            time: +0.51 sec\n",
      "loss: [422.096 446.47 ],            time: +0.52 sec\n",
      "loss: [478.578 469.901],            time: +0.52 sec\n",
      "loss: [480.068 503.978],            time: +0.70 sec\n",
      "loss: [546.752 539.988],            time: +0.61 sec\n",
      "loss: [541.959 585.419],            time: +0.46 sec\n",
      "loss: [594.651 616.396],            time: +0.50 sec\n",
      "loss: [516.899 644.317],            time: +0.58 sec\n",
      "loss: [705.735 690.948],            time: +0.50 sec\n",
      "loss: [778.766 744.894],            time: +0.56 sec\n",
      "loss: [771.972 772.871],            time: +0.56 sec\n",
      "loss: [820.887 853.411],            time: +0.49 sec\n",
      "loss: [962.962 897.054],            time: +0.52 sec\n",
      "loss: [1041.8    974.651],            time: +0.53 sec\n",
      "loss: [1126.801 1013.239],            time: +0.48 sec\n",
      "loss: [1341.223 1089.382],            time: +0.57 sec\n",
      "loss: [1434.357 1142.429],            time: +0.48 sec\n",
      "loss: [1647.667 1248.787],            time: +0.48 sec\n",
      "loss: [1752.052 1412.316],            time: +0.48 sec\n",
      "loss: [1825.768 1479.395],            time: +0.45 sec\n",
      "loss: [1958.975 1579.872],            time: +0.53 sec\n",
      "loss: [2062.532 1746.503],            time: +0.47 sec\n",
      "loss: [2130.452 1955.039],            time: +0.49 sec\n",
      "loss: [2263.679 2186.508],            time: +0.46 sec\n",
      "loss: [2315.35  2305.609],            time: +0.46 sec\n",
      "loss: [2187.205 2582.019],            time: +0.46 sec\n",
      "loss: [2234.669 2866.604],            time: +0.49 sec\n",
      "loss: [2236.325 3044.227],            time: +0.51 sec\n",
      "loss: [2248.271 3305.   ],            time: +0.56 sec\n",
      "loss: [2215.942 3413.422],            time: +0.55 sec\n",
      "loss: [2243.816 3792.224],            time: +0.55 sec\n",
      "loss: [2261.635 3617.774],            time: +0.50 sec\n",
      "loss: [2362.174 3620.899],            time: +0.59 sec\n",
      "loss: [2314.561 3226.278],            time: +0.61 sec\n",
      "loss: [2448.901 3224.003],            time: +0.56 sec\n",
      "loss: [2552.143 2395.351],            time: +0.64 sec\n",
      "loss: [2681.857 2666.314],            time: +0.57 sec\n"
     ]
    }
   ],
   "source": [
    "dqn2 = network.DQN([\n",
    "                    network.Flatten_layer(),\n",
    "                    network.Linear_layer(GAME_LEN*2, 100),\n",
    "                    network.Activation_layer('ReLU'),\n",
    "                    network.Linear_layer(100, 200),\n",
    "                    network.Activation_layer('ReLU'),\n",
    "                    network.Linear_layer(200, 100),\n",
    "                    network.Activation_layer('ReLU'),\n",
    "                    network.Linear_layer(100, 2),\n",
    "                    ],\n",
    "            network.ReplayMemory(2000), gamma=0.9, greedy=0.2)\n",
    "p2 = NNplayer(dqn2, State(GAME_LEN))\n",
    "del dqn2\n",
    "gc.collect()\n",
    "\n",
    "param = {\"lr\": 1e-4, 'batch': 64, \"mode\": \"train\", \"eps\": 1e-16, \"epoch\": 0, 't': 1, 'clip': 1.0,\n",
    "         'optimizer': ('Adam', 0.9, 0.999), 'regularizer': None, \"loss_fn\":\"mse\"}\n",
    "\n",
    "p2.set_greedy(0.8)\n",
    "for i in range(60):\n",
    "    players = (p2, axl.TitForTat())\n",
    "    game = Match(players)\n",
    "    game.play()\n",
    "p2.set_greedy(0.2)\n",
    "\n",
    "for _ in range(100):\n",
    "    start = time()\n",
    "    \n",
    "    p2.train(1, param)  # my train function updates target net at the end via deepcopy, we can overwrite this by\n",
    "    p2.network.target_net = p2.network.policy_net  # shallow copy policy net to target net\n",
    "    \n",
    "    [Match((p2, axl.TitForTat())).play() for _ in range(10)]\n",
    "    print(f'loss: {p2.network.loss},            time: +{time()-start:.2f} sec')"
   ]
  },
  {
   "cell_type": "code",
   "execution_count": 16,
   "id": "6a7517cb-0c5c-44e2-aeb5-f2c907cfc1ca",
   "metadata": {},
   "outputs": [
    {
     "data": {
      "image/png": "[encoded data removed]",
      "text/plain": [
       "<Figure size 800x640 with 1 Axes>"
      ]
     },
     "metadata": {
      "needs_background": "light"
     },
     "output_type": "display_data"
    }
   ],
   "source": [
    "# see how loss grows exponentially without fixed target\n",
    "p2.plot()"
   ]
  },
  {
   "cell_type": "code",
   "execution_count": 17,
   "id": "16412a30-5e00-4f12-a0b7-78ef04388d86",
   "metadata": {},
   "outputs": [
    {
     "name": "stdout",
     "output_type": "stream",
     "text": [
      "[[3097.326 2613.673]]\n",
      "[[5736.065 5182.708]]\n",
      "[[-1125.962 -1521.474]]\n",
      "[[4107.724 3486.16 ]]\n",
      "[[6306.712 5605.391]]\n",
      "[[-1252.292 -1719.868]]\n",
      "[[2399.26  1765.281]]\n",
      "[[3065.007 2381.196]]\n",
      "[[2058.152 1352.007]]\n",
      "[[ -897.301 -1463.329]]\n",
      "[[2132.314 1414.995]]\n",
      "[[2370.267 1643.727]]\n",
      "[[3550.831 2821.086]]\n",
      "[[ 457.242 -151.695]]\n",
      "[[1124.796  532.58 ]]\n",
      "[[2975.576 2382.679]]\n",
      "[[498.029   8.526]]\n",
      "[[1302.382  846.888]]\n",
      "[[-339.873 -680.261]]\n",
      "[[847.798 548.672]]\n",
      "[[-566.197 -741.781]]\n",
      "[(3, 3), (3, 3), (3, 3), (3, 3), (3, 3), (3, 3), (3, 3), (3, 3), (3, 3), (3, 3), (3, 3), (3, 3), (3, 3), (3, 3), (3, 3), (3, 3), (3, 3), (3, 3), (3, 3), (3, 3)]\n",
      "Player 1 score = 60\n",
      "Player 2 score = 60\n"
     ]
    }
   ],
   "source": [
    "# result:\n",
    "with p2:\n",
    "    play(p2, axl.TitForTat())\n",
    "    \n",
    "# incorrect Q-values -> bad/random policy\n",
    "# (run this section serveral time to see how the policy is effectively random)"
   ]
  },
  {
   "cell_type": "code",
   "execution_count": 18,
   "id": "67b0965d-648b-46d6-b0b3-1c0da4c08e11",
   "metadata": {},
   "outputs": [],
   "source": [
    "del p2"
   ]
  },
  {
   "cell_type": "markdown",
   "id": "b63ca61c-56ce-4fbf-9e45-64793bb1e5b3",
   "metadata": {
    "tags": []
   },
   "source": [
    "### Section 3: testing the off-policyness"
   ]
  },
  {
   "cell_type": "code",
   "execution_count": 19,
   "id": "f635e6ca-462f-4a45-84b7-49f11babd630",
   "metadata": {},
   "outputs": [],
   "source": [
    "from axl_utils.extract import extract"
   ]
  },
  {
   "cell_type": "code",
   "execution_count": 20,
   "id": "1f11f83d-fee2-4c0f-9bda-edb4505f5e7f",
   "metadata": {},
   "outputs": [
    {
     "name": "stdout",
     "output_type": "stream",
     "text": [
      "10000\n"
     ]
    }
   ],
   "source": [
    "# collecting experience from axl.Random\n",
    "memory = network.ReplayMemory(10000)\n",
    "for _ in range(500):\n",
    "    game = play(axl.Random(), axl.TitForTat(), show=False)\n",
    "    extract(game, memory)\n",
    "    \n",
    "print(len(memory))\n",
    "# we can then pass this memory into a fresh DQN"
   ]
  },
  {
   "cell_type": "code",
   "execution_count": 21,
   "id": "660f2888-e127-4be6-8700-d92c1b01665b",
   "metadata": {},
   "outputs": [],
   "source": [
    "dqn3 = network.DQN([\n",
    "                    network.Flatten_layer(),\n",
    "                    network.Linear_layer(GAME_LEN*2, 100, bias=0.01),\n",
    "                    network.Activation_layer('ReLU'),\n",
    "                    network.Linear_layer(100, 200),\n",
    "                    network.Activation_layer('ReLU'),\n",
    "                    network.Linear_layer(200, 100),\n",
    "                    network.Activation_layer('ReLU'),\n",
    "                    network.Linear_layer(100, 2),\n",
    "                    ],\n",
    "            memory, gamma=0.9, greedy=0.2)  # <- feeding the memory from axl.Random\n",
    "p3 = NNplayer(dqn3, State(GAME_LEN))\n",
    "del dqn3\n",
    "gc.collect()\n",
    "\n",
    "param = {\"lr\": 1e-4, 'batch': 64, \"mode\": \"train\", \"eps\": 1e-16, \"epoch\": 0, 't': 1, 'clip': 1.0,\n",
    "         'optimizer': ('Adam', 0.9, 0.999), 'regularizer': None, \"loss_fn\":\"mse\"}"
   ]
  },
  {
   "cell_type": "code",
   "execution_count": 22,
   "id": "62712d1a-2adc-4f97-b279-6519d86e719a",
   "metadata": {
    "scrolled": true,
    "tags": []
   },
   "outputs": [
    {
     "name": "stdout",
     "output_type": "stream",
     "text": [
      "loss: [0.274 0.297],            time: +4.57 sec\n",
      "loss: [0.219 0.234],            time: +5.15 sec\n",
      "loss: [0.185 0.202],            time: +4.46 sec\n",
      "loss: [0.154 0.161],            time: +4.87 sec\n",
      "loss: [0.134 0.147],            time: +6.02 sec\n",
      "loss: [0.131 0.133],            time: +5.27 sec\n",
      "loss: [0.117 0.124],            time: +4.96 sec\n",
      "loss: [0.101 0.114],            time: +6.69 sec\n",
      "loss: [0.102 0.104],            time: +6.02 sec\n",
      "loss: [0.093 0.104],            time: +5.16 sec\n",
      "loss: [0.092 0.099],            time: +5.04 sec\n",
      "loss: [0.099 0.088],            time: +5.14 sec\n",
      "loss: [0.071 0.088],            time: +6.16 sec\n",
      "loss: [0.074 0.077],            time: +5.43 sec\n",
      "loss: [0.07  0.078],            time: +5.56 sec\n",
      "loss: [0.063 0.069],            time: +4.96 sec\n",
      "loss: [0.063 0.075],            time: +5.47 sec\n",
      "loss: [0.058 0.066],            time: +6.76 sec\n",
      "loss: [0.058 0.064],            time: +5.25 sec\n",
      "loss: [0.063 0.056],            time: +5.82 sec\n"
     ]
    }
   ],
   "source": [
    "for _ in range(20):\n",
    "    start = time()\n",
    "    p3.train(5, param)\n",
    "    print(f'loss: {p3.network.loss},            time: +{time()-start:.2f} sec')"
   ]
  },
  {
   "cell_type": "code",
   "execution_count": 23,
   "id": "a721478a-0a95-4123-a67a-02b8f2da5907",
   "metadata": {},
   "outputs": [
    {
     "name": "stdout",
     "output_type": "stream",
     "text": [
      "[[26.647 25.927]]\n",
      "[[26.141 25.402]]\n",
      "[[25.572 24.86 ]]\n",
      "[[25.048 24.334]]\n",
      "[[24.461 23.764]]\n",
      "[[23.857 23.166]]\n",
      "[[23.192 22.542]]\n",
      "[[22.427 21.724]]\n",
      "[[21.787 21.07 ]]\n",
      "[[20.916 20.382]]\n",
      "[[19.992 19.398]]\n",
      "[[18.829 18.147]]\n",
      "[[17.426 16.626]]\n",
      "[[16.108 15.447]]\n",
      "[[14.891 14.023]]\n",
      "[[13.36  12.753]]\n",
      "[[11.284 10.862]]\n",
      "[[9.597 9.169]]\n",
      "[[7.492 6.284]]\n",
      "[[2.925 4.919]]\n",
      "[[0.293 0.038]]\n",
      "[(3, 3), (3, 3), (3, 3), (3, 3), (3, 3), (3, 3), (3, 3), (3, 3), (3, 3), (3, 3), (3, 3), (3, 3), (3, 3), (3, 3), (3, 3), (3, 3), (3, 3), (3, 3), (3, 3), (5, 0)]\n",
      "Player 1 score = 62\n",
      "Player 2 score = 57\n"
     ]
    }
   ],
   "source": [
    "with p3:\n",
    "    play(p3, axl.TitForTat())\n",
    "    \n",
    "# learns well, without ever playing the game"
   ]
  },
  {
   "cell_type": "code",
   "execution_count": 24,
   "id": "90bd9834-c0c0-4329-bf1a-59eb73b7bfbe",
   "metadata": {},
   "outputs": [],
   "source": [
    "del p3"
   ]
  },
  {
   "cell_type": "markdown",
   "id": "d3c1ed14-9aa9-4f58-8418-0fca4d19543a",
   "metadata": {},
   "source": [
    "### Section 4: but what did it learn?"
   ]
  },
  {
   "cell_type": "code",
   "execution_count": 25,
   "id": "0da9e622-893e-43cd-96c8-4b15f4972676",
   "metadata": {},
   "outputs": [
    {
     "name": "stdout",
     "output_type": "stream",
     "text": [
      "[(0, 5), (0, 5), (3, 3), (3, 3), (0, 5), (0, 5), (0, 5), (0, 5), (0, 5), (0, 5), (0, 5), (0, 5), (0, 5), (0, 5), (0, 5), (0, 5), (0, 5), (0, 5), (0, 5), (1, 1)]\n",
      "Player 1 score = 7\n",
      "Player 2 score = 92\n"
     ]
    }
   ],
   "source": [
    "# might be an obvious question but let's see what happens if our DQN meets provocative defection\n",
    "\n",
    "p1.network.greedy = 0.0\n",
    "play(p1, axl.HardProber());  # hard prober defects forever if its opponent does not retaliate"
   ]
  },
  {
   "cell_type": "code",
   "execution_count": 26,
   "id": "bb34e617-c1e0-44c6-9624-25abe13ff14c",
   "metadata": {},
   "outputs": [
    {
     "name": "stdout",
     "output_type": "stream",
     "text": [
      "[(0, 5), (0, 5), (3, 3), (3, 3), (0, 5), (0, 5), (0, 5), (0, 5), (0, 5), (0, 5), (0, 5), (0, 5), (0, 5), (0, 5), (0, 5), (0, 5), (0, 5), (0, 5), (0, 5), (0, 5)]\n",
      "Player 1 score = 6\n",
      "Player 2 score = 96\n"
     ]
    }
   ],
   "source": [
    "play(axl.Cooperator(), axl.HardProber());  # => our DQN is basically a naive cooperator"
   ]
  },
  {
   "cell_type": "code",
   "execution_count": 27,
   "id": "464fa231-ebe7-40a3-9041-6a97128f170a",
   "metadata": {},
   "outputs": [
    {
     "name": "stdout",
     "output_type": "stream",
     "text": [
      "[(0, 5), (1, 1), (5, 0), (3, 3), (3, 3), (3, 3), (3, 3), (3, 3), (3, 3), (3, 3), (3, 3), (3, 3), (3, 3), (3, 3), (3, 3), (3, 3), (3, 3), (3, 3), (3, 3), (3, 3)]\n",
      "Player 1 score = 57\n",
      "Player 2 score = 57\n"
     ]
    }
   ],
   "source": [
    "play(axl.TitForTat(), axl.HardProber());  # while TFT can generalize well to any opponent"
   ]
  },
  {
   "cell_type": "code",
   "execution_count": 28,
   "id": "09be710f-a8fe-44e3-b8ad-0ffd3478afa0",
   "metadata": {},
   "outputs": [],
   "source": [
    "# => continue exploration on Stage 2"
   ]
  },
  {
   "cell_type": "markdown",
   "id": "5bc259d0-6dfe-4e3e-b968-faad8fb1c4b4",
   "metadata": {},
   "source": [
    "### Section 5: learning TFT with 2 perceptrons"
   ]
  },
  {
   "cell_type": "code",
   "execution_count": 29,
   "id": "2b9c3805-7f27-4acd-9cbb-8435c102016a",
   "metadata": {},
   "outputs": [],
   "source": [
    "# possible states of last turn\n",
    "# where [1,1] means mutual cooperation\n",
    "last_turn = np.array([[1,1],[0,1],[1,0],[0,0]])\n",
    "\n",
    "# target\n",
    "# => copy opponent's action\n",
    "action = np.array([[1],[1],[0],[0]])\n",
    "\n",
    "nn = network.NeuralNetwork([network.Linear_layer(2, 1)])\n",
    "param = {\"lr\": 3e-2, 'batch': 2, \"mode\": \"train\", \"eps\": 1e-16, \"epoch\": 0, 't': 1, 'clip': 1.0,\n",
    "         'optimizer': ('Adam', 0.9, 0.999), 'regularizer': None, \"loss_fn\":\"mse\"}"
   ]
  },
  {
   "cell_type": "code",
   "execution_count": 30,
   "id": "d306868a-df19-4a3a-87d1-1929d1abaf48",
   "metadata": {
    "scrolled": true,
    "tags": []
   },
   "outputs": [
    {
     "name": "stdout",
     "output_type": "stream",
     "text": [
      "Average loss = 0.577315, elapsed time = 0.00.\n",
      "Epoch 0, Accuracy = 0.5\n",
      "Average loss = 0.461369, elapsed time = 0.00.\n",
      "Epoch 1, Accuracy = 0.5\n",
      "Average loss = 0.338558, elapsed time = 0.00.\n",
      "Epoch 2, Accuracy = 0.5\n",
      "Average loss = 0.290008, elapsed time = 0.00.\n",
      "Epoch 3, Accuracy = 0.5\n",
      "Average loss = 0.224684, elapsed time = 0.00.\n",
      "Epoch 4, Accuracy = 0.75\n",
      "Average loss = 0.184917, elapsed time = 0.00.\n",
      "Epoch 5, Accuracy = 0.75\n",
      "Average loss = 0.162287, elapsed time = 0.00.\n",
      "Epoch 6, Accuracy = 0.75\n",
      "Average loss = 0.148244, elapsed time = 0.00.\n",
      "Epoch 7, Accuracy = 0.75\n",
      "Average loss = 0.143882, elapsed time = 0.00.\n",
      "Epoch 8, Accuracy = 0.75\n",
      "Average loss = 0.138592, elapsed time = 0.00.\n",
      "Epoch 9, Accuracy = 0.75\n",
      "Average loss = 0.132955, elapsed time = 0.00.\n",
      "Epoch 10, Accuracy = 0.75\n",
      "Average loss = 0.124107, elapsed time = 0.00.\n",
      "Epoch 11, Accuracy = 0.75\n",
      "Average loss = 0.112047, elapsed time = 0.00.\n",
      "Epoch 12, Accuracy = 0.75\n",
      "Average loss = 0.097148, elapsed time = 0.00.\n",
      "Epoch 13, Accuracy = 1.0\n",
      "Average loss = 0.084170, elapsed time = 0.00.\n",
      "Epoch 14, Accuracy = 1.0\n",
      "Average loss = 0.074723, elapsed time = 0.00.\n",
      "Epoch 15, Accuracy = 1.0\n",
      "Average loss = 0.063022, elapsed time = 0.00.\n",
      "Epoch 16, Accuracy = 1.0\n",
      "Average loss = 0.050623, elapsed time = 0.00.\n",
      "Epoch 17, Accuracy = 1.0\n",
      "Average loss = 0.045961, elapsed time = 0.00.\n",
      "Epoch 18, Accuracy = 1.0\n",
      "Average loss = 0.039877, elapsed time = 0.00.\n",
      "Epoch 19, Accuracy = 1.0\n",
      "Average loss = 0.035139, elapsed time = 0.00.\n",
      "Epoch 20, Accuracy = 1.0\n",
      "Average loss = 0.032006, elapsed time = 0.00.\n",
      "Epoch 21, Accuracy = 1.0\n",
      "Average loss = 0.028378, elapsed time = 0.00.\n",
      "Epoch 22, Accuracy = 1.0\n",
      "Average loss = 0.024516, elapsed time = 0.00.\n",
      "Epoch 23, Accuracy = 1.0\n",
      "Average loss = 0.021264, elapsed time = 0.00.\n",
      "Epoch 24, Accuracy = 1.0\n",
      "Average loss = 0.018124, elapsed time = 0.00.\n",
      "Epoch 25, Accuracy = 1.0\n",
      "Average loss = 0.015258, elapsed time = 0.00.\n",
      "Epoch 26, Accuracy = 1.0\n",
      "Average loss = 0.013107, elapsed time = 0.00.\n",
      "Epoch 27, Accuracy = 1.0\n",
      "Average loss = 0.010577, elapsed time = 0.00.\n",
      "Epoch 28, Accuracy = 1.0\n",
      "Average loss = 0.009185, elapsed time = 0.00.\n",
      "Epoch 29, Accuracy = 1.0\n",
      "Average loss = 0.007712, elapsed time = 0.00.\n",
      "Epoch 30, Accuracy = 1.0\n",
      "Average loss = 0.006908, elapsed time = 0.00.\n",
      "Epoch 31, Accuracy = 1.0\n",
      "Average loss = 0.005839, elapsed time = 0.00.\n",
      "Epoch 32, Accuracy = 1.0\n",
      "Average loss = 0.005198, elapsed time = 0.00.\n",
      "Epoch 33, Accuracy = 1.0\n",
      "Average loss = 0.004445, elapsed time = 0.00.\n",
      "Epoch 34, Accuracy = 1.0\n",
      "Average loss = 0.003789, elapsed time = 0.00.\n",
      "Epoch 35, Accuracy = 1.0\n",
      "Average loss = 0.003392, elapsed time = 0.00.\n",
      "Epoch 36, Accuracy = 1.0\n",
      "Average loss = 0.002580, elapsed time = 0.00.\n",
      "Epoch 37, Accuracy = 1.0\n",
      "Average loss = 0.002198, elapsed time = 0.00.\n",
      "Epoch 38, Accuracy = 1.0\n",
      "Average loss = 0.001998, elapsed time = 0.00.\n",
      "Epoch 39, Accuracy = 1.0\n"
     ]
    }
   ],
   "source": [
    "for i in range(40):\n",
    "    nn.train(last_turn, action, param)\n",
    "    action_ = np.round(nn(last_turn))\n",
    "    accuracy = np.sum(action_==action) / len(action)\n",
    "    print(f\"Epoch {i}, Accuracy = {accuracy}\")"
   ]
  },
  {
   "cell_type": "code",
   "execution_count": 31,
   "id": "ff93d5d5-c8be-4d7e-b2f5-60339ea67292",
   "metadata": {},
   "outputs": [],
   "source": [
    "# but obviously this is human-learning instead of machine learning\n",
    "# will the DQN figure this out by itself?\n",
    "\n",
    "# also, this is more of a policy-gradient approach\n",
    "# the regression nature of DQNs make it impossible to employ simple architecture"
   ]
  },
  {
   "cell_type": "code",
   "execution_count": null,
   "id": "ab68e357-4319-4f75-a1e4-c93bfa60a786",
   "metadata": {},
   "outputs": [],
   "source": []
  }
 ],
 "metadata": {
  "kernelspec": {
   "display_name": "Python 3 (ipykernel)",
   "language": "python",
   "name": "python3"
  },
  "language_info": {
   "codemirror_mode": {
    "name": "ipython",
    "version": 3
   },
   "file_extension": ".py",
   "mimetype": "text/x-python",
   "name": "python",
   "nbconvert_exporter": "python",
   "pygments_lexer": "ipython3",
   "version": "3.8.10"
  }
 },
 "nbformat": 4,
 "nbformat_minor": 5
}
