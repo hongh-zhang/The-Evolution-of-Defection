{
 "cells": [
  {
   "cell_type": "code",
   "execution_count": 1,
   "id": "practical-ethics",
   "metadata": {},
   "outputs": [],
   "source": [
    "%load_ext autoreload\n",
    "%autoreload 2"
   ]
  },
  {
   "cell_type": "code",
   "execution_count": 2,
   "id": "super-wilson",
   "metadata": {},
   "outputs": [],
   "source": [
    "import network\n",
    "\n",
    "import numpy as np\n",
    "import pandas as pd"
   ]
  },
  {
   "cell_type": "code",
   "execution_count": 3,
   "id": "governmental-neutral",
   "metadata": {},
   "outputs": [
    {
     "data": {
      "text/plain": [
       "['Activation_layer',\n",
       " 'BatchNorm_layer',\n",
       " 'Dropout_layer',\n",
       " 'Linear_layer',\n",
       " 'NeuralNetwork',\n",
       " '__builtins__',\n",
       " '__cached__',\n",
       " '__doc__',\n",
       " '__file__',\n",
       " '__loader__',\n",
       " '__name__',\n",
       " '__package__',\n",
       " '__path__',\n",
       " '__spec__',\n",
       " 'layers',\n",
       " 'network']"
      ]
     },
     "execution_count": 3,
     "metadata": {},
     "output_type": "execute_result"
    }
   ],
   "source": [
    "dir(network)"
   ]
  },
  {
   "cell_type": "code",
   "execution_count": 4,
   "id": "executive-format",
   "metadata": {},
   "outputs": [],
   "source": [
    "nn = network.NeuralNetwork([\n",
    "                    network.Linear_layer(784, 200, bias=False),\n",
    "                    network.BatchNorm_layer(200),\n",
    "                    network.Activation_layer(function='ReLU'),\n",
    "                    network.Dropout_layer(0.5),\n",
    "\n",
    "                    network.Linear_layer(200, 10, bias=False),\n",
    "                    network.Activation_layer(function='softmax')\n",
    "                    ])\n",
    "param = {\"lr\": 3e-4, 'batch': 16, \"momentum\": 0.9, \"mode\": \"train\", \"eps\": 1e-9, \"beta\":(0.9, 0.999), \n",
    "         \"epoch\": 0, 'method': 'adam', 't': 1, 'clip': 1.0, 'decay': 0.01}"
   ]
  },
  {
   "cell_type": "code",
   "execution_count": 5,
   "id": "sharp-description",
   "metadata": {},
   "outputs": [
    {
     "name": "stdout",
     "output_type": "stream",
     "text": [
      "True labels: [7 2 1 0 4 1 4 9 5 9]\n"
     ]
    }
   ],
   "source": [
    "train = pd.read_csv(\"mnist_train_small.csv\", header=None)\n",
    "test = pd.read_csv(\"mnist_test_small.csv\", header=None)\n",
    "\n",
    "X, X_t = (np.array(data.iloc[:, 1:])/255.0*0.99+0.01 for data in (train, test))\n",
    "y, y_t = (np.array(np.eye(10)[data.iloc[:,0].to_numpy((int))]) for data in (train, test))\n",
    "\n",
    "print(\"True labels:\", np.argmax(y_t, axis=1))"
   ]
  },
  {
   "cell_type": "code",
   "execution_count": 6,
   "id": "opposed-portuguese",
   "metadata": {},
   "outputs": [
    {
     "name": "stdout",
     "output_type": "stream",
     "text": [
      "Prediction after initialization:  [6 4 4 4 4 4 4 5 4 3]\n"
     ]
    }
   ],
   "source": [
    "print(\"Prediction after initialization: \", nn(X_t))"
   ]
  },
  {
   "cell_type": "code",
   "execution_count": 7,
   "id": "natural-horizontal",
   "metadata": {
    "scrolled": true,
    "tags": []
   },
   "outputs": [
    {
     "name": "stdout",
     "output_type": "stream",
     "text": [
      "Average loss = 0.098956.\n",
      "Average loss = 0.098194.\n",
      "Average loss = 0.097160.\n",
      "Average loss = 0.095633.\n",
      "Average loss = 0.094563.\n",
      "Average loss = 0.093338.\n",
      "Average loss = 0.091823.\n",
      "Average loss = 0.091824.\n",
      "Average loss = 0.090884.\n",
      "Average loss = 0.091656.\n",
      "Average loss = 0.091471.\n",
      "Average loss = 0.091026.\n",
      "Average loss = 0.090393.\n",
      "Average loss = 0.089994.\n",
      "Average loss = 0.090616.\n",
      "Average loss = 0.090041.\n",
      "Average loss = 0.090441.\n",
      "Average loss = 0.090505.\n",
      "Average loss = 0.090757.\n",
      "Average loss = 0.091414.\n"
     ]
    }
   ],
   "source": [
    "for _ in range(20):\n",
    "    nn.train(X, y, param)"
   ]
  },
  {
   "cell_type": "code",
   "execution_count": 8,
   "id": "julian-width",
   "metadata": {},
   "outputs": [
    {
     "data": {
      "text/plain": [
       "array([7, 3, 1, 0, 4, 1, 4, 4, 4, 9], dtype=int64)"
      ]
     },
     "execution_count": 8,
     "metadata": {},
     "output_type": "execute_result"
    }
   ],
   "source": [
    "nn(X_t)"
   ]
  },
  {
   "cell_type": "code",
   "execution_count": 9,
   "id": "active-tackle",
   "metadata": {},
   "outputs": [
    {
     "data": {
      "text/plain": [
       "array([7, 2, 1, 0, 4, 1, 4, 9, 5, 9], dtype=int64)"
      ]
     },
     "execution_count": 9,
     "metadata": {},
     "output_type": "execute_result"
    }
   ],
   "source": [
    "np.argmax(y_t, axis=1)"
   ]
  },
  {
   "cell_type": "code",
   "execution_count": null,
   "id": "arabic-psychology",
   "metadata": {},
   "outputs": [],
   "source": []
  }
 ],
 "metadata": {
  "kernelspec": {
   "display_name": "Python 3 (ipykernel)",
   "language": "python",
   "name": "python3"
  },
  "language_info": {
   "codemirror_mode": {
    "name": "ipython",
    "version": 3
   },
   "file_extension": ".py",
   "mimetype": "text/x-python",
   "name": "python",
   "nbconvert_exporter": "python",
   "pygments_lexer": "ipython3",
   "version": "3.8.10"
  }
 },
 "nbformat": 4,
 "nbformat_minor": 5
}
