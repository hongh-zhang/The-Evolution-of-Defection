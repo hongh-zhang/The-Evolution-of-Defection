{
 "cells": [
  {
   "cell_type": "code",
   "execution_count": 1,
   "id": "confused-blackberry",
   "metadata": {},
   "outputs": [],
   "source": [
    "\n",
    "\n",
    "import random\n",
    "import pickle\n",
    "import numpy as np\n",
    "import axelrod as axl\n",
    "from itertools import permutations\n",
    "from collections import namedtuple, deque"
   ]
  },
  {
   "cell_type": "code",
   "execution_count": 1,
   "id": "analyzed-lyric",
   "metadata": {},
   "outputs": [],
   "source": [
    "%load_ext autoreload\n",
    "%autoreload 2"
   ]
  },
  {
   "cell_type": "code",
   "execution_count": 69,
   "id": "suspended-cement",
   "metadata": {},
   "outputs": [],
   "source": [
    "import network"
   ]
  },
  {
   "cell_type": "code",
   "execution_count": 70,
   "id": "descending-planning",
   "metadata": {},
   "outputs": [
    {
     "data": {
      "text/plain": [
       "['Activation_layer',\n",
       " 'BatchNorm_layer',\n",
       " 'Dropout_layer',\n",
       " 'Linear_layer',\n",
       " 'NeuralNetwork',\n",
       " '__builtins__',\n",
       " '__cached__',\n",
       " '__file__',\n",
       " '__loader__',\n",
       " '__name__',\n",
       " '__package__',\n",
       " '__path__',\n",
       " '__spec__']"
      ]
     },
     "execution_count": 70,
     "metadata": {},
     "output_type": "execute_result"
    }
   ],
   "source": [
    "dir(network)"
   ]
  },
  {
   "cell_type": "code",
   "execution_count": 71,
   "id": "aggressive-generator",
   "metadata": {},
   "outputs": [],
   "source": [
    "nn = network.NeuralNetwork([\n",
    "                    network.Linear_layer(784, 200, bias=False),\n",
    "                    network.BatchNorm_layer(200),\n",
    "                    network.Activation_layer(function='ReLU'),\n",
    "                    network.Dropout_layer(0.5),\n",
    "                    \n",
    "\n",
    "                    network.Linear_layer(200, 10, bias=False),\n",
    "                    network.Activation_layer(function='softmax')\n",
    "                    ])\n",
    "param = {\"lr\": 3e-4, 'batch': 16, \"momentum\": 0.9, \"mode\": \"train\", \"eps\": 1e-9, \"beta\":(0.9, 0.999), \n",
    "         \"epoch\": 0, 'method': 'adam', 't': 1, 'clip': 1.0, 'decay': 0.01}"
   ]
  },
  {
   "cell_type": "code",
   "execution_count": 72,
   "id": "informational-great",
   "metadata": {},
   "outputs": [],
   "source": [
    "import pandas as pd\n",
    "import numpy as np\n",
    "train = pd.read_csv(\"mnist_train_small.csv\", header=None)\n",
    "test = pd.read_csv(\"mnist_test_small.csv\", header=None)\n",
    "\n",
    "X, X_t = (np.array(data.iloc[:, 1:])/255.0*0.99+0.01 for data in (train, test))\n",
    "y, y_t = (np.array(np.eye(10)[data.iloc[:,0].to_numpy((int))]) for data in (train, test))\n"
   ]
  },
  {
   "cell_type": "code",
   "execution_count": 95,
   "id": "continued-decline",
   "metadata": {},
   "outputs": [
    {
     "name": "stdout",
     "output_type": "stream",
     "text": [
      "Average loss = 0.009491.\n"
     ]
    }
   ],
   "source": [
    "nn.train(X, y, param)"
   ]
  },
  {
   "cell_type": "code",
   "execution_count": 97,
   "id": "authorized-causing",
   "metadata": {},
   "outputs": [
    {
     "data": {
      "text/plain": [
       "array([7, 2, 1, 0, 4, 1, 9, 4, 4, 9], dtype=int64)"
      ]
     },
     "execution_count": 97,
     "metadata": {},
     "output_type": "execute_result"
    }
   ],
   "source": [
    "nn(X_t)"
   ]
  },
  {
   "cell_type": "code",
   "execution_count": 98,
   "id": "perfect-spending",
   "metadata": {},
   "outputs": [
    {
     "data": {
      "text/plain": [
       "array([7, 2, 1, 0, 4, 1, 4, 9, 5, 9], dtype=int64)"
      ]
     },
     "execution_count": 98,
     "metadata": {},
     "output_type": "execute_result"
    }
   ],
   "source": [
    "np.argmax(y_t, axis=1)"
   ]
  },
  {
   "cell_type": "code",
   "execution_count": null,
   "id": "charged-payday",
   "metadata": {},
   "outputs": [],
   "source": []
  }
 ],
 "metadata": {
  "kernelspec": {
   "display_name": "Python 3 (ipykernel)",
   "language": "python",
   "name": "python3"
  },
  "language_info": {
   "codemirror_mode": {
    "name": "ipython",
    "version": 3
   },
   "file_extension": ".py",
   "mimetype": "text/x-python",
   "name": "python",
   "nbconvert_exporter": "python",
   "pygments_lexer": "ipython3",
   "version": "3.8.10"
  }
 },
 "nbformat": 4,
 "nbformat_minor": 5
}
