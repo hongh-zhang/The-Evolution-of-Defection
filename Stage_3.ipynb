{
 "cells": [
  {
   "cell_type": "code",
   "execution_count": 1,
   "id": "46d7d506",
   "metadata": {
    "colab": {
     "base_uri": "https://localhost:8080/",
     "height": 907
    },
    "executionInfo": {
     "elapsed": 31385,
     "status": "ok",
     "timestamp": 1635200683469,
     "user": {
      "displayName": "Honghao Zhang",
      "photoUrl": "https://lh3.googleusercontent.com/a/default-user=s64",
      "userId": "02252697543396033058"
     },
     "user_tz": -660
    },
    "id": "pTsiLdkLwhAH",
    "outputId": "3fa8a67a-b4c5-4ca2-b951-da7a2e1eeeb8",
    "scrolled": true,
    "tags": []
   },
   "outputs": [],
   "source": [
    "# colab setup\n",
    "\n",
    "if False:\n",
    "    from google.colab import drive\n",
    "    drive.mount('/content/drive/')\n",
    "    path = \"/content/drive/MyDrive/The-Evolution-of-Defection/\"\n",
    "\n",
    "    import sys\n",
    "    sys.path.append(path)\n",
    "\n",
    "    %pip install --ignore-installed PyYAML\n",
    "    %pip install axelrod"
   ]
  },
  {
   "cell_type": "code",
   "execution_count": 1,
   "id": "793ad089",
   "metadata": {
    "executionInfo": {
     "elapsed": 10748,
     "status": "ok",
     "timestamp": 1635200758580,
     "user": {
      "displayName": "Honghao Zhang",
      "photoUrl": "https://lh3.googleusercontent.com/a/default-user=s64",
      "userId": "02252697543396033058"
     },
     "user_tz": -660
    },
    "id": "HIfG-6Kcy2Yp"
   },
   "outputs": [],
   "source": [
    "import gc\n",
    "import dill\n",
    "import numpy as np\n",
    "import pandas as pd\n",
    "import axelrod as axl\n",
    "from time import time\n",
    "from copy import deepcopy\n",
    "from pprint import pprint\n",
    "import matplotlib.pyplot as plt\n",
    "\n",
    "\n",
    "np.set_printoptions(precision=3)\n",
    "pd.options.display.float_format = \"{:,.2f}\".format\n",
    "\n",
    "import network\n",
    "from axl_utils import NNplayer, State, set_match, set_play, Tournament"
   ]
  },
  {
   "cell_type": "code",
   "execution_count": 2,
   "id": "a8663844",
   "metadata": {
    "executionInfo": {
     "elapsed": 305,
     "status": "ok",
     "timestamp": 1635200771483,
     "user": {
      "displayName": "Honghao Zhang",
      "photoUrl": "https://lh3.googleusercontent.com/a/default-user=s64",
      "userId": "02252697543396033058"
     },
     "user_tz": -660
    },
    "id": "0df2a1e4-2e30-4b2d-843a-1cd85b975cbb"
   },
   "outputs": [],
   "source": [
    "GAME_LEN = 20 + 1\n",
    "C = axl.Action.C\n",
    "D = axl.Action.D\n",
    "GAME = axl.Game(r=3, s=0, t=5, p=1)\n",
    "Match = set_match(game=GAME, turns=GAME_LEN)\n",
    "play = set_play(Match)\n",
    "\n",
    "# exponentially decaying epsilon greedy\n",
    "# greedy in each iteration will be 0.35 * 0.98 ^[i] + 0.05\n",
    "greedy = (0.35, 0.98, 0.05)\n",
    "\n",
    "headers = \"Rank,Name,Median_score,Cooperation_rating,Wins,Initial_C_rate,CC_rate,CD_rate,DC_rate,DD_rate,CC_to_C_rate,CD_to_C_rate,DC_to_C_rate,DD_to_C_rate\".split(',')"
   ]
  },
  {
   "cell_type": "markdown",
   "id": "aa6ecebd-4dd4-419b-95b6-baf8169063d6",
   "metadata": {},
   "source": [
    "# Attempt 1\n",
    "training from scratch"
   ]
  },
  {
   "cell_type": "code",
   "execution_count": 5,
   "id": "1ec548c3",
   "metadata": {
    "executionInfo": {
     "elapsed": 396,
     "status": "ok",
     "timestamp": 1635200887880,
     "user": {
      "displayName": "Honghao Zhang",
      "photoUrl": "https://lh3.googleusercontent.com/a/default-user=s64",
      "userId": "02252697543396033058"
     },
     "user_tz": -660
    },
    "id": "2718d67f-b9f7-40bb-9119-afab7ae40851"
   },
   "outputs": [],
   "source": [
    "# initializing\n",
    "dqn = network.DQN([\n",
    "                    network.Flatten_layer(),\n",
    "                    network.Linear_layer(GAME_LEN*2, 400),\n",
    "                    network.Activation_layer('ReLU'),\n",
    "                    network.Linear_layer(400, 200),\n",
    "                    network.Activation_layer('ReLU'),\n",
    "                    network.Linear_layer(200, 40),\n",
    "                    network.Activation_layer('ReLU'),\n",
    "                    network.Linear_layer(40, 2),\n",
    "                    ],\n",
    "            network.ReplayMemory(4000), gamma=0.9, greedy=0.2)\n",
    "p1 = NNplayer(dqn, State(GAME_LEN), name='DQN1')\n",
    "\n",
    "dqn = network.DQN([\n",
    "                    network.Flatten_layer(),\n",
    "                    network.Linear_layer(GAME_LEN*2, 400),\n",
    "                    network.Activation_layer('ReLU'),\n",
    "                    network.Linear_layer(400, 200),\n",
    "                    network.Activation_layer('ReLU'),\n",
    "                    network.Linear_layer(200, 40),\n",
    "                    network.Activation_layer('ReLU'),\n",
    "                    network.Linear_layer(40, 2),\n",
    "                    ],\n",
    "            network.ReplayMemory(4000), gamma=0.9, greedy=0.2)\n",
    "p2 = NNplayer(dqn, State(GAME_LEN), name='DQN2')\n",
    "del dqn\n",
    "gc.collect()\n",
    "\n",
    "param1 = {\"lr\": 3e-4, 'batch': 128, \"mode\": \"train\", \"eps\": 1e-16, \"epoch\": 0, 't': 1, 'clip': 1.0,\n",
    "      'optimizer': ('Adam', 0.9, 0.999), 'regularizer': ('l2', 1e-3), \"loss_fn\":\"mse\"}\n",
    "param2 = deepcopy(param1)"
   ]
  },
  {
   "cell_type": "code",
   "execution_count": 6,
   "id": "f29b00f3",
   "metadata": {
    "colab": {
     "base_uri": "https://localhost:8080/",
     "height": 144
    },
    "executionInfo": {
     "elapsed": 850,
     "status": "ok",
     "timestamp": 1635200890203,
     "user": {
      "displayName": "Honghao Zhang",
      "photoUrl": "https://lh3.googleusercontent.com/a/default-user=s64",
      "userId": "02252697543396033058"
     },
     "user_tz": -660
    },
    "id": "VYGjBzrukHro",
    "outputId": "01be2fab-d085-4e52-abee-f4332546e3e5"
   },
   "outputs": [
    {
     "name": "stderr",
     "output_type": "stream",
     "text": [
      "Playing matches: 100%|███████████████████████████████████████████████████████████████████| 3/3 [00:00<00:00, 44.12it/s]\n",
      "Analysing: 100%|██████████████████████████████████████████████████████████████████████| 25/25 [00:00<00:00, 129.54it/s]\n"
     ]
    },
    {
     "data": {
      "text/html": [
       "<div>\n",
       "<style scoped>\n",
       "    .dataframe tbody tr th:only-of-type {\n",
       "        vertical-align: middle;\n",
       "    }\n",
       "\n",
       "    .dataframe tbody tr th {\n",
       "        vertical-align: top;\n",
       "    }\n",
       "\n",
       "    .dataframe thead th {\n",
       "        text-align: right;\n",
       "    }\n",
       "</style>\n",
       "<table border=\"1\" class=\"dataframe\">\n",
       "  <thead>\n",
       "    <tr style=\"text-align: right;\">\n",
       "      <th></th>\n",
       "      <th>Rank</th>\n",
       "      <th>Name</th>\n",
       "      <th>Median_score</th>\n",
       "      <th>Cooperation_rating</th>\n",
       "      <th>Wins</th>\n",
       "      <th>Initial_C_rate</th>\n",
       "      <th>CC_rate</th>\n",
       "      <th>CD_rate</th>\n",
       "      <th>DC_rate</th>\n",
       "      <th>DD_rate</th>\n",
       "      <th>CC_to_C_rate</th>\n",
       "      <th>CD_to_C_rate</th>\n",
       "      <th>DC_to_C_rate</th>\n",
       "      <th>DD_to_C_rate</th>\n",
       "    </tr>\n",
       "  </thead>\n",
       "  <tbody>\n",
       "    <tr>\n",
       "      <th>1</th>\n",
       "      <td>1</td>\n",
       "      <td>DQN1</td>\n",
       "      <td>2.40</td>\n",
       "      <td>0.65</td>\n",
       "      <td>0.0</td>\n",
       "      <td>1.0</td>\n",
       "      <td>0.35</td>\n",
       "      <td>0.30</td>\n",
       "      <td>0.25</td>\n",
       "      <td>0.1</td>\n",
       "      <td>0.857143</td>\n",
       "      <td>0.833333</td>\n",
       "      <td>0.000000</td>\n",
       "      <td>0.5</td>\n",
       "    </tr>\n",
       "    <tr>\n",
       "      <th>0</th>\n",
       "      <td>0</td>\n",
       "      <td>DQN2</td>\n",
       "      <td>2.65</td>\n",
       "      <td>0.60</td>\n",
       "      <td>1.0</td>\n",
       "      <td>0.0</td>\n",
       "      <td>0.35</td>\n",
       "      <td>0.25</td>\n",
       "      <td>0.30</td>\n",
       "      <td>0.1</td>\n",
       "      <td>0.428571</td>\n",
       "      <td>0.750000</td>\n",
       "      <td>0.666667</td>\n",
       "      <td>1.0</td>\n",
       "    </tr>\n",
       "  </tbody>\n",
       "</table>\n",
       "</div>"
      ],
      "text/plain": [
       "   Rank  Name  Median_score  Cooperation_rating  Wins  Initial_C_rate  \\\n",
       "1     1  DQN1          2.40                0.65   0.0             1.0   \n",
       "0     0  DQN2          2.65                0.60   1.0             0.0   \n",
       "\n",
       "   CC_rate  CD_rate  DC_rate  DD_rate  CC_to_C_rate  CD_to_C_rate  \\\n",
       "1     0.35     0.30     0.25      0.1      0.857143      0.833333   \n",
       "0     0.35     0.25     0.30      0.1      0.428571      0.750000   \n",
       "\n",
       "   DC_to_C_rate  DD_to_C_rate  \n",
       "1      0.000000           0.5  \n",
       "0      0.666667           1.0  "
      ]
     },
     "execution_count": 6,
     "metadata": {},
     "output_type": "execute_result"
    }
   ],
   "source": [
    "tournament = Tournament((p1, p2), game=GAME, turns=GAME_LEN)\n",
    "results = tournament.play()\n",
    "summary = results.summarise()\n",
    "pd.DataFrame(map(list, summary), columns=headers).sort_values(\"Name\")"
   ]
  },
  {
   "cell_type": "code",
   "execution_count": 7,
   "id": "e7ed89c8",
   "metadata": {
    "colab": {
     "background_save": true,
     "base_uri": "https://localhost:8080/"
    },
    "id": "6acd6ac4-9d06-4285-8671-0ced34b2505a",
    "scrolled": true
   },
   "outputs": [
    {
     "name": "stdout",
     "output_type": "stream",
     "text": [
      "--------Iter 1--------\n",
      "[0.292 0.202]\n",
      "[0.205 0.504]\n",
      "+ 668.10 sec\n"
     ]
    },
    {
     "name": "stderr",
     "output_type": "stream",
     "text": [
      "Playing matches: 100%|███████████████████████████████████████████████████████████████████| 3/3 [00:00<00:00, 36.14it/s]\n",
      "Analysing: 100%|██████████████████████████████████████████████████████████████████████| 25/25 [00:00<00:00, 162.34it/s]\n"
     ]
    },
    {
     "name": "stdout",
     "output_type": "stream",
     "text": [
      "      Median_score  Cooperation_rating\n",
      "Name                                  \n",
      "DQN1           0.7                 0.3\n",
      "DQN2           2.2                 0.0\n",
      "--------Iter 2--------\n",
      "[0.228 0.627]\n",
      "[0.293 0.429]\n",
      "+ 715.01 sec\n",
      "--------Iter 3--------\n",
      "[0.281 0.383]\n",
      "[0.24 0.33]\n",
      "+ 602.17 sec\n"
     ]
    },
    {
     "name": "stderr",
     "output_type": "stream",
     "text": [
      "Playing matches: 100%|███████████████████████████████████████████████████████████████████| 3/3 [00:00<00:00, 36.01it/s]\n",
      "Analysing: 100%|██████████████████████████████████████████████████████████████████████| 25/25 [00:00<00:00, 171.21it/s]\n"
     ]
    },
    {
     "name": "stdout",
     "output_type": "stream",
     "text": [
      "      Median_score  Cooperation_rating\n",
      "Name                                  \n",
      "DQN1           1.8                 0.3\n",
      "DQN2           1.8                 0.3\n",
      "--------Iter 4--------\n",
      "[0.287 0.315]\n",
      "[0.282 0.305]\n",
      "+ 722.85 sec\n",
      "--------Iter 5--------\n",
      "[0.403 0.47 ]\n",
      "[0.238 0.362]\n",
      "+ 702.93 sec\n"
     ]
    },
    {
     "name": "stderr",
     "output_type": "stream",
     "text": [
      "Playing matches: 100%|███████████████████████████████████████████████████████████████████| 3/3 [00:00<00:00, 16.48it/s]\n",
      "Analysing: 100%|███████████████████████████████████████████████████████████████████████| 25/25 [00:00<00:00, 58.00it/s]\n"
     ]
    },
    {
     "name": "stdout",
     "output_type": "stream",
     "text": [
      "      Median_score  Cooperation_rating\n",
      "Name                                  \n",
      "DQN1          2.35                0.25\n",
      "DQN2          1.60                0.40\n",
      "--------Iter 6--------\n",
      "[0.186 0.273]\n",
      "[0.237 0.396]\n",
      "+ 1011.50 sec\n",
      "--------Iter 7--------\n",
      "[0.469 0.317]\n",
      "[0.269 0.304]\n",
      "+ 1049.20 sec\n"
     ]
    },
    {
     "name": "stderr",
     "output_type": "stream",
     "text": [
      "Playing matches: 100%|███████████████████████████████████████████████████████████████████| 3/3 [00:00<00:00, 17.55it/s]\n",
      "Analysing: 100%|███████████████████████████████████████████████████████████████████████| 25/25 [00:00<00:00, 92.67it/s]\n"
     ]
    },
    {
     "name": "stdout",
     "output_type": "stream",
     "text": [
      "      Median_score  Cooperation_rating\n",
      "Name                                  \n",
      "DQN1          1.35                0.20\n",
      "DQN2          1.60                0.15\n",
      "--------Iter 8--------\n"
     ]
    },
    {
     "ename": "KeyboardInterrupt",
     "evalue": "",
     "output_type": "error",
     "traceback": [
      "\u001b[1;31m---------------------------------------------------------------------------\u001b[0m",
      "\u001b[1;31mKeyboardInterrupt\u001b[0m                         Traceback (most recent call last)",
      "\u001b[1;32m~\\AppData\\Local\\Temp/ipykernel_3056/2247100641.py\u001b[0m in \u001b[0;36m<module>\u001b[1;34m\u001b[0m\n\u001b[0;32m     34\u001b[0m     \u001b[1;31m# train\u001b[0m\u001b[1;33m\u001b[0m\u001b[1;33m\u001b[0m\u001b[1;33m\u001b[0m\u001b[0m\n\u001b[0;32m     35\u001b[0m     \u001b[1;32mfor\u001b[0m \u001b[0m_\u001b[0m \u001b[1;32min\u001b[0m \u001b[0mrange\u001b[0m\u001b[1;33m(\u001b[0m\u001b[1;36m10\u001b[0m\u001b[1;33m)\u001b[0m\u001b[1;33m:\u001b[0m\u001b[1;33m\u001b[0m\u001b[1;33m\u001b[0m\u001b[0m\n\u001b[1;32m---> 36\u001b[1;33m         \u001b[0mp1\u001b[0m\u001b[1;33m.\u001b[0m\u001b[0mtrain\u001b[0m\u001b[1;33m(\u001b[0m\u001b[1;36m100\u001b[0m\u001b[1;33m,\u001b[0m \u001b[0mparam1\u001b[0m\u001b[1;33m)\u001b[0m\u001b[1;33m\u001b[0m\u001b[1;33m\u001b[0m\u001b[0m\n\u001b[0m\u001b[0;32m     37\u001b[0m         \u001b[0mp2\u001b[0m\u001b[1;33m.\u001b[0m\u001b[0mtrain\u001b[0m\u001b[1;33m(\u001b[0m\u001b[1;36m100\u001b[0m\u001b[1;33m,\u001b[0m \u001b[0mparam2\u001b[0m\u001b[1;33m)\u001b[0m\u001b[1;33m\u001b[0m\u001b[1;33m\u001b[0m\u001b[0m\n\u001b[0;32m     38\u001b[0m         \u001b[0mparam1\u001b[0m\u001b[1;33m[\u001b[0m\u001b[1;34m'lr'\u001b[0m\u001b[1;33m]\u001b[0m \u001b[1;33m=\u001b[0m \u001b[0mparam2\u001b[0m\u001b[1;33m[\u001b[0m\u001b[1;34m'lr'\u001b[0m\u001b[1;33m]\u001b[0m \u001b[1;33m=\u001b[0m \u001b[0mparam1\u001b[0m\u001b[1;33m[\u001b[0m\u001b[1;34m'lr'\u001b[0m\u001b[1;33m]\u001b[0m \u001b[1;33m*\u001b[0m \u001b[1;36m0.9\u001b[0m\u001b[1;33m\u001b[0m\u001b[1;33m\u001b[0m\u001b[0m\n",
      "\u001b[1;32m~\\Documents\\一个普通的文件夹.exe\\Unimelb\\2021 S2\\ANN\\Project\\The-Evolution-of-Defection\\axl_utils\\nnplayer.py\u001b[0m in \u001b[0;36mtrain\u001b[1;34m(self, *args, **kwargs)\u001b[0m\n\u001b[0;32m    137\u001b[0m \u001b[1;33m\u001b[0m\u001b[0m\n\u001b[0;32m    138\u001b[0m     \u001b[1;32mdef\u001b[0m \u001b[0mtrain\u001b[0m\u001b[1;33m(\u001b[0m\u001b[0mself\u001b[0m\u001b[1;33m,\u001b[0m \u001b[1;33m*\u001b[0m\u001b[0margs\u001b[0m\u001b[1;33m,\u001b[0m \u001b[1;33m**\u001b[0m\u001b[0mkwargs\u001b[0m\u001b[1;33m)\u001b[0m\u001b[1;33m:\u001b[0m\u001b[1;33m\u001b[0m\u001b[1;33m\u001b[0m\u001b[0m\n\u001b[1;32m--> 139\u001b[1;33m         \u001b[0mself\u001b[0m\u001b[1;33m.\u001b[0m\u001b[0mnetwork\u001b[0m\u001b[1;33m.\u001b[0m\u001b[0mtrain\u001b[0m\u001b[1;33m(\u001b[0m\u001b[1;33m*\u001b[0m\u001b[0margs\u001b[0m\u001b[1;33m,\u001b[0m \u001b[1;33m**\u001b[0m\u001b[0mkwargs\u001b[0m\u001b[1;33m)\u001b[0m\u001b[1;33m\u001b[0m\u001b[1;33m\u001b[0m\u001b[0m\n\u001b[0m\u001b[0;32m    140\u001b[0m \u001b[1;33m\u001b[0m\u001b[0m\n\u001b[0;32m    141\u001b[0m     \u001b[1;32mdef\u001b[0m \u001b[0mplot\u001b[0m\u001b[1;33m(\u001b[0m\u001b[0mself\u001b[0m\u001b[1;33m,\u001b[0m \u001b[1;33m**\u001b[0m\u001b[0mkwargs\u001b[0m\u001b[1;33m)\u001b[0m\u001b[1;33m:\u001b[0m\u001b[1;33m\u001b[0m\u001b[1;33m\u001b[0m\u001b[0m\n",
      "\u001b[1;32m~\\Documents\\一个普通的文件夹.exe\\Unimelb\\2021 S2\\ANN\\Project\\The-Evolution-of-Defection\\network\\dqn.py\u001b[0m in \u001b[0;36mtrain\u001b[1;34m(self, epochs, param, loss_targ)\u001b[0m\n\u001b[0;32m    283\u001b[0m \u001b[1;33m\u001b[0m\u001b[0m\n\u001b[0;32m    284\u001b[0m             \u001b[1;31m# pass to learn\u001b[0m\u001b[1;33m\u001b[0m\u001b[1;33m\u001b[0m\u001b[1;33m\u001b[0m\u001b[0m\n\u001b[1;32m--> 285\u001b[1;33m             \u001b[0mself\u001b[0m\u001b[1;33m.\u001b[0m\u001b[0mlearn\u001b[0m\u001b[1;33m(\u001b[0m\u001b[1;33m(\u001b[0m\u001b[0mss\u001b[0m\u001b[1;33m,\u001b[0m \u001b[0mss_\u001b[0m\u001b[1;33m,\u001b[0m \u001b[0mats\u001b[0m\u001b[1;33m,\u001b[0m \u001b[0mrs\u001b[0m\u001b[1;33m)\u001b[0m\u001b[1;33m,\u001b[0m \u001b[0mparam\u001b[0m\u001b[1;33m)\u001b[0m\u001b[1;33m\u001b[0m\u001b[1;33m\u001b[0m\u001b[0m\n\u001b[0m\u001b[0;32m    286\u001b[0m \u001b[1;33m\u001b[0m\u001b[0m\n\u001b[0;32m    287\u001b[0m             \u001b[1;31m# terminate training loss change is small enough\u001b[0m\u001b[1;33m\u001b[0m\u001b[1;33m\u001b[0m\u001b[1;33m\u001b[0m\u001b[0m\n",
      "\u001b[1;32m~\\Documents\\一个普通的文件夹.exe\\Unimelb\\2021 S2\\ANN\\Project\\The-Evolution-of-Defection\\network\\dqn.py\u001b[0m in \u001b[0;36mlearn\u001b[1;34m(self, data, param)\u001b[0m\n\u001b[0;32m    242\u001b[0m             \u001b[0mloss\u001b[0m\u001b[1;33m,\u001b[0m \u001b[0m_\u001b[0m \u001b[1;33m=\u001b[0m \u001b[0mself\u001b[0m\u001b[1;33m.\u001b[0m\u001b[0mpolicy_net\u001b[0m\u001b[1;33m.\u001b[0m\u001b[0mloss_fn\u001b[0m\u001b[1;33m(\u001b[0m\u001b[0mE_values\u001b[0m\u001b[1;33m,\u001b[0m \u001b[0mQ_values\u001b[0m\u001b[1;33m)\u001b[0m\u001b[1;33m\u001b[0m\u001b[1;33m\u001b[0m\u001b[0m\n\u001b[0;32m    243\u001b[0m             \u001b[0mloss\u001b[0m \u001b[1;33m=\u001b[0m \u001b[0mloss\u001b[0m \u001b[1;33m*\u001b[0m \u001b[0mat\u001b[0m  \u001b[1;31m# relocate loss to the action taken, only\u001b[0m\u001b[1;33m\u001b[0m\u001b[1;33m\u001b[0m\u001b[0m\n\u001b[1;32m--> 244\u001b[1;33m             \u001b[0mself\u001b[0m\u001b[1;33m.\u001b[0m\u001b[0mpolicy_net\u001b[0m\u001b[1;33m.\u001b[0m\u001b[0mbackprop\u001b[0m\u001b[1;33m(\u001b[0m\u001b[0mloss\u001b[0m\u001b[1;33m,\u001b[0m \u001b[0mparam\u001b[0m\u001b[1;33m)\u001b[0m\u001b[1;33m\u001b[0m\u001b[1;33m\u001b[0m\u001b[0m\n\u001b[0m\u001b[0;32m    245\u001b[0m \u001b[1;33m\u001b[0m\u001b[0m\n\u001b[0;32m    246\u001b[0m             \u001b[1;31m# track training loss\u001b[0m\u001b[1;33m\u001b[0m\u001b[1;33m\u001b[0m\u001b[1;33m\u001b[0m\u001b[0m\n",
      "\u001b[1;32m~\\Documents\\一个普通的文件夹.exe\\Unimelb\\2021 S2\\ANN\\Project\\The-Evolution-of-Defection\\network\\network.py\u001b[0m in \u001b[0;36mbackprop\u001b[1;34m(self, dout, param)\u001b[0m\n\u001b[0;32m    134\u001b[0m                 \u001b[0mdout\u001b[0m \u001b[1;33m=\u001b[0m \u001b[0mdout\u001b[0m \u001b[1;33m/\u001b[0m \u001b[0mmagnitude\u001b[0m \u001b[1;33m*\u001b[0m \u001b[0mclip\u001b[0m\u001b[1;33m\u001b[0m\u001b[1;33m\u001b[0m\u001b[0m\n\u001b[0;32m    135\u001b[0m             \u001b[1;31m# pass to layer and compute the error to the next layer\u001b[0m\u001b[1;33m\u001b[0m\u001b[1;33m\u001b[0m\u001b[1;33m\u001b[0m\u001b[0m\n\u001b[1;32m--> 136\u001b[1;33m             \u001b[0mdout\u001b[0m \u001b[1;33m=\u001b[0m \u001b[0mlayer\u001b[0m\u001b[1;33m.\u001b[0m\u001b[0mbackward\u001b[0m\u001b[1;33m(\u001b[0m\u001b[0mdout\u001b[0m\u001b[1;33m,\u001b[0m \u001b[0mparam\u001b[0m\u001b[1;33m)\u001b[0m\u001b[1;33m\u001b[0m\u001b[1;33m\u001b[0m\u001b[0m\n\u001b[0m\u001b[0;32m    137\u001b[0m \u001b[1;33m\u001b[0m\u001b[0m\n\u001b[0;32m    138\u001b[0m     \u001b[1;32mdef\u001b[0m \u001b[0mvalidate\u001b[0m\u001b[1;33m(\u001b[0m\u001b[0mself\u001b[0m\u001b[1;33m,\u001b[0m \u001b[0mX_t\u001b[0m\u001b[1;33m,\u001b[0m \u001b[0my_t\u001b[0m\u001b[1;33m,\u001b[0m \u001b[0mparam\u001b[0m\u001b[1;33m)\u001b[0m\u001b[1;33m:\u001b[0m\u001b[1;33m\u001b[0m\u001b[1;33m\u001b[0m\u001b[0m\n",
      "\u001b[1;32m~\\Documents\\一个普通的文件夹.exe\\Unimelb\\2021 S2\\ANN\\Project\\The-Evolution-of-Defection\\network\\layers\\linear.py\u001b[0m in \u001b[0;36mbackward\u001b[1;34m(self, dout, param)\u001b[0m\n\u001b[0;32m     88\u001b[0m         \u001b[1;31m# update self\u001b[0m\u001b[1;33m\u001b[0m\u001b[1;33m\u001b[0m\u001b[1;33m\u001b[0m\u001b[0m\n\u001b[0;32m     89\u001b[0m         \u001b[0mdw\u001b[0m \u001b[1;33m=\u001b[0m \u001b[0mnp\u001b[0m\u001b[1;33m.\u001b[0m\u001b[0mdot\u001b[0m\u001b[1;33m(\u001b[0m\u001b[0mself\u001b[0m\u001b[1;33m.\u001b[0m\u001b[0minput\u001b[0m\u001b[1;33m.\u001b[0m\u001b[0mT\u001b[0m\u001b[1;33m,\u001b[0m \u001b[0mdout\u001b[0m\u001b[1;33m)\u001b[0m\u001b[1;33m\u001b[0m\u001b[1;33m\u001b[0m\u001b[0m\n\u001b[1;32m---> 90\u001b[1;33m         \u001b[0mself\u001b[0m\u001b[1;33m.\u001b[0m\u001b[0mweights\u001b[0m\u001b[1;33m,\u001b[0m \u001b[0mself\u001b[0m\u001b[1;33m.\u001b[0m\u001b[0mm1\u001b[0m\u001b[1;33m,\u001b[0m \u001b[0mself\u001b[0m\u001b[1;33m.\u001b[0m\u001b[0mm2\u001b[0m \u001b[1;33m=\u001b[0m \u001b[0mself\u001b[0m\u001b[1;33m.\u001b[0m\u001b[0moptimizer\u001b[0m\u001b[1;33m.\u001b[0m\u001b[0moptimize\u001b[0m\u001b[1;33m(\u001b[0m\u001b[0mself\u001b[0m\u001b[1;33m.\u001b[0m\u001b[0mweights\u001b[0m\u001b[1;33m,\u001b[0m \u001b[0mdw\u001b[0m\u001b[1;33m,\u001b[0m \u001b[0mself\u001b[0m\u001b[1;33m.\u001b[0m\u001b[0mm1\u001b[0m\u001b[1;33m,\u001b[0m \u001b[0mself\u001b[0m\u001b[1;33m.\u001b[0m\u001b[0mm2\u001b[0m\u001b[1;33m,\u001b[0m \u001b[0mparam\u001b[0m\u001b[1;33m)\u001b[0m\u001b[1;33m\u001b[0m\u001b[1;33m\u001b[0m\u001b[0m\n\u001b[0m\u001b[0;32m     91\u001b[0m \u001b[1;33m\u001b[0m\u001b[0m\n\u001b[0;32m     92\u001b[0m         \u001b[1;32mreturn\u001b[0m \u001b[0mdx\u001b[0m\u001b[1;33m\u001b[0m\u001b[1;33m\u001b[0m\u001b[0m\n",
      "\u001b[1;32m~\\Documents\\一个普通的文件夹.exe\\Unimelb\\2021 S2\\ANN\\Project\\The-Evolution-of-Defection\\network\\layers\\layer.py\u001b[0m in \u001b[0;36moptimize\u001b[1;34m(w, dw, m1, m2, param)\u001b[0m\n\u001b[0;32m    121\u001b[0m                 \u001b[1;32mdef\u001b[0m \u001b[0moptimize\u001b[0m\u001b[1;33m(\u001b[0m\u001b[0mw\u001b[0m\u001b[1;33m,\u001b[0m \u001b[0mdw\u001b[0m\u001b[1;33m,\u001b[0m \u001b[0mm1\u001b[0m\u001b[1;33m,\u001b[0m \u001b[0mm2\u001b[0m\u001b[1;33m,\u001b[0m \u001b[0mparam\u001b[0m\u001b[1;33m)\u001b[0m\u001b[1;33m:\u001b[0m\u001b[1;33m\u001b[0m\u001b[1;33m\u001b[0m\u001b[0m\n\u001b[0;32m    122\u001b[0m                     \u001b[0mdw\u001b[0m\u001b[1;33m,\u001b[0m \u001b[0mm1\u001b[0m\u001b[1;33m,\u001b[0m \u001b[0mm2\u001b[0m \u001b[1;33m=\u001b[0m \u001b[0moptimizer_inner\u001b[0m\u001b[1;33m(\u001b[0m\u001b[0mdw\u001b[0m\u001b[1;33m,\u001b[0m \u001b[0mm1\u001b[0m\u001b[1;33m,\u001b[0m \u001b[0mm2\u001b[0m\u001b[1;33m,\u001b[0m \u001b[0mparam\u001b[0m\u001b[1;33m)\u001b[0m\u001b[1;33m\u001b[0m\u001b[1;33m\u001b[0m\u001b[0m\n\u001b[1;32m--> 123\u001b[1;33m                     \u001b[1;32mreturn\u001b[0m \u001b[0mw\u001b[0m \u001b[1;33m-\u001b[0m \u001b[0mself\u001b[0m\u001b[1;33m.\u001b[0m\u001b[0mlr\u001b[0m \u001b[1;33m*\u001b[0m \u001b[1;33m(\u001b[0m\u001b[0mdw\u001b[0m \u001b[1;33m-\u001b[0m \u001b[1;33m(\u001b[0m\u001b[0mdecay\u001b[0m\u001b[1;33m/\u001b[0m\u001b[1;33m(\u001b[0m\u001b[1;36m2\u001b[0m \u001b[1;33m*\u001b[0m \u001b[0mself\u001b[0m\u001b[1;33m.\u001b[0m\u001b[0mbatch\u001b[0m\u001b[1;33m)\u001b[0m \u001b[1;33m*\u001b[0m \u001b[0mw\u001b[0m\u001b[1;33m)\u001b[0m\u001b[1;33m)\u001b[0m\u001b[1;33m,\u001b[0m \u001b[0mm1\u001b[0m\u001b[1;33m,\u001b[0m \u001b[0mm2\u001b[0m\u001b[1;33m\u001b[0m\u001b[1;33m\u001b[0m\u001b[0m\n\u001b[0m\u001b[0;32m    124\u001b[0m \u001b[1;33m\u001b[0m\u001b[0m\n\u001b[0;32m    125\u001b[0m             \u001b[1;32melse\u001b[0m\u001b[1;33m:\u001b[0m\u001b[1;33m\u001b[0m\u001b[1;33m\u001b[0m\u001b[0m\n",
      "\u001b[1;31mKeyboardInterrupt\u001b[0m: "
     ]
    }
   ],
   "source": [
    "# initialize experience\n",
    "[Match((p1, p2)).play() for _ in range(200)]\n",
    "\n",
    "ls = []\n",
    "for i in range(30):\n",
    "\n",
    "    if i % 2 == 0:\n",
    "      # test in tournament\n",
    "        with p1:\n",
    "            with p2:\n",
    "                p1.network.verbosity = p2.network.verbosity = False\n",
    "                tournament = Tournament((p1, p2), game=GAME, turns=GAME_LEN)\n",
    "                results = tournament.play()\n",
    "                summary = pd.DataFrame(map(list, results.summarise()), columns=headers).set_index('Name')\n",
    "                ls.append(summary)\n",
    "\n",
    "        print(summary.loc[['DQN1','DQN2'], ['Median_score', 'Cooperation_rating']])\n",
    "\n",
    "        # save\n",
    "        with open('data/s3/tn_results.pkl', \"wb\") as file:\n",
    "            dill.dump(ls, file)\n",
    "        with open(f'data/s3/p1_{i}.pkl', \"wb\") as file:\n",
    "            dill.dump(p1, file)\n",
    "        with open(f'data/s3/p2_{i}.pkl', \"wb\") as file:\n",
    "            dill.dump(p2, file)\n",
    "\n",
    "    print(f'--------Iter {i}--------')\n",
    "    start = time()\n",
    "\n",
    "    # get experience\n",
    "    [Match((p1, p2)).play() for _ in range(200)]\n",
    "    \n",
    "    # train\n",
    "    for _ in range(8):\n",
    "        p1.train(100, param1)\n",
    "        p2.train(100, param2)\n",
    "        param1['lr'] = param2['lr'] = param1['lr'] * 0.9\n",
    "    param1['lr'] = param2['lr'] = 3e-4\n",
    "    print(p1.network.loss)\n",
    "    print(p2.network.loss)\n",
    "    \n",
    "    if i >= 10:\n",
    "        g = (greedy[0] * greedy[1] ** i) + greedy[2]\n",
    "        p1.set_greedy(g)\n",
    "        p2.set_greedy(g)\n",
    "    print(f\"+ {time() - start:.2f} sec\")"
   ]
  },
  {
   "cell_type": "markdown",
   "id": "f085651c-076e-49a9-8d31-56eb89f7e826",
   "metadata": {},
   "source": [
    "### Results 1"
   ]
  },
  {
   "cell_type": "code",
   "execution_count": null,
   "id": "06344230-6385-4630-b04b-a4522aaa0175",
   "metadata": {},
   "outputs": [],
   "source": [
    "p1.network.greedy = p2.network.greedy = 0.0\n",
    "play(p1, p2)"
   ]
  },
  {
   "cell_type": "code",
   "execution_count": 8,
   "id": "4855f969-7c0c-4167-a2a5-3af1190e9915",
   "metadata": {},
   "outputs": [
    {
     "data": {
      "image/png": "[encoded data removed]",
      "text/plain": [
       "<Figure size 800x640 with 1 Axes>"
      ]
     },
     "metadata": {
      "needs_background": "light"
     },
     "output_type": "display_data"
    }
   ],
   "source": [
    "p1.plot(min_ran=0, max_ran=2000)"
   ]
  },
  {
   "cell_type": "markdown",
   "id": "caf21162-d30b-4506-9ba5-8fcbb2ac2acf",
   "metadata": {},
   "source": [
    "# Attempt 2\n",
    "importing the trained model from stage 2"
   ]
  },
  {
   "cell_type": "code",
   "execution_count": 34,
   "id": "1a2fdfe9-7b45-4d14-af77-04e8ecc92832",
   "metadata": {},
   "outputs": [],
   "source": [
    "with open(\"data/s2/p1_94.pkl\", \"rb\") as file:\n",
    "    p1 = dill.load(file)\n",
    "    \n",
    "with open(\"data/s2/p1_98.pkl\", \"rb\") as file:\n",
    "    p2 = dill.load(file)\n",
    "    \n",
    "\n",
    "p1.network.replay = network.ReplayMemory(4000)\n",
    "p2.network.replay = network.ReplayMemory(4000)\n",
    "p1.network.loss_ls = []\n",
    "p2.network.loss_ls = []\n",
    "p1.name = 'DQN1'\n",
    "p2.name = 'DQN2'\n",
    "\n",
    "param1 = {\"lr\": 1e-4, 'batch': 128, \"mode\": \"train\", \"eps\": 1e-16, \"epoch\": 0, 't': 1, 'clip': 1.0,\n",
    "      'optimizer': ('Adam', 0.9, 0.999), 'regularizer': ('l2', 1e-3), \"loss_fn\":\"mse\"}\n",
    "param2 = deepcopy(param1)"
   ]
  },
  {
   "cell_type": "code",
   "execution_count": 35,
   "id": "4c71feb8-29ad-4a3d-8173-aeb7b2253962",
   "metadata": {
    "scrolled": true,
    "tags": []
   },
   "outputs": [
    {
     "name": "stderr",
     "output_type": "stream",
     "text": [
      "Playing matches:  67%|████████████████████████████████████████████▋                      | 2/3 [00:00<00:00, 15.68it/s]"
     ]
    },
    {
     "name": "stdout",
     "output_type": "stream",
     "text": [
      "[[26.404 22.293]]\n",
      "[[26.404 22.293]]\n",
      "[[25.248 24.752]]\n",
      "[[25.248 24.752]]\n",
      "[[24.609 24.588]]\n",
      "[[24.609 24.588]]\n",
      "[[23.719 24.334]]\n",
      "[[23.719 24.334]]\n",
      "[[14.593 12.985]]\n",
      "[[14.593 12.985]]\n",
      "[[19.266 19.35 ]]\n",
      "[[19.266 19.35 ]]\n",
      "[[12.878 10.656]]\n",
      "[[12.878 10.656]]\n",
      "[[14.211 13.57 ]]\n",
      "[[14.211 13.57 ]]\n",
      "[[11.14  10.916]]\n",
      "[[11.14  10.916]]\n",
      "[[6.63  5.556]]\n",
      "[[6.63  5.556]]\n",
      "[[ 0.388 -0.695]]\n",
      "[[ 0.388 -0.695]]\n",
      "[[-0.341 -0.327]]\n",
      "[[-0.341 -0.327]]\n",
      "[[-0.419 -0.358]]\n",
      "[[-0.419 -0.358]]\n",
      "[[0.548 0.994]]\n",
      "[[0.548 0.994]]\n",
      "[[-0.233 -0.02 ]]\n",
      "[[-0.233 -0.02 ]]\n",
      "[[-0.247  0.416]]\n",
      "[[-0.247  0.416]]\n",
      "[[ 0.041 -0.063]]\n",
      "[[ 0.041 -0.063]]\n",
      "[[-0.022 -0.51 ]]\n",
      "[[-0.022 -0.51 ]]\n",
      "[[ 0.118 -0.135]]\n",
      "[[ 0.118 -0.135]]\n",
      "[[0.33  0.078]]\n",
      "[[0.33  0.078]]\n",
      "[[0.11  0.711]]\n",
      "[[0.11  0.711]]\n",
      "[[26.404 22.293]]\n",
      "[[25.576 25.064]]\n",
      "[[26.022 22.961]]\n",
      "[[26.654 26.351]]\n",
      "[[25.248 24.752]]\n",
      "[[24.792 22.714]]\n",
      "[[25.117 22.87 ]]\n",
      "[[26.545 25.628]]\n",
      "[[24.609 24.588]]\n",
      "[[25.161 24.243]]\n",
      "[[24.874 24.703]]\n",
      "[[24.763 24.163]]\n",
      "[[23.719 24.334]]\n",
      "[[23.102 22.988]]\n",
      "[[24.253 24.369]]\n",
      "[[17.345 18.222]]\n",
      "[[17.816 16.496]]\n",
      "[[14.221 14.398]]\n",
      "[[18.532 17.096]]\n",
      "[[15.562 15.004]]\n",
      "[[19.072 18.75 ]]\n",
      "[[18.487 19.378]]\n",
      "[[16.316 15.277]]\n",
      "[[19.677 18.813]]\n",
      "[[16.481 15.039]]\n",
      "[[19.668 21.496]]\n",
      "[[12.87  11.698]]\n",
      "[[17.75  16.307]]\n",
      "[[13.667 11.649]]\n",
      "[[16.319 16.637]]\n",
      "[[11.192  8.684]]\n",
      "[[14.253 13.443]]\n",
      "[[10.145  8.296]]\n",
      "[[12.824 13.785]]\n",
      "[[6.446 5.884]]\n",
      "[[9.941 8.725]]\n",
      "[[5.961 5.123]]\n",
      "[[7.066 7.922]]\n",
      "[[2.516 3.714]]\n",
      "[[2.87  5.528]]\n",
      "[[-0.097 -0.356]]\n",
      "[[0.181 0.258]]\n",
      "[[25.576 25.064]]\n",
      "[[25.576 25.064]]\n",
      "[[24.792 22.714]]\n",
      "[[24.792 22.714]]\n",
      "[[25.161 24.243]]\n",
      "[[25.161 24.243]]\n",
      "[[23.102 22.988]]\n",
      "[[23.102 22.988]]\n",
      "[[21.242 21.894]]\n",
      "[[21.242 21.894]]\n",
      "[[15.987 13.776]]\n",
      "[[15.987 13.776]]\n",
      "[[17.882 17.351]]\n",
      "[[17.882 17.351]]\n",
      "[[14.492 13.964]]\n",
      "[[14.492 13.964]]\n",
      "[[11.222 10.636]]\n",
      "[[11.222 10.636]]\n",
      "[[7.423 5.455]]\n",
      "[[7.423 5.455]]\n",
      "[[ 0.031 -0.084]]\n",
      "[[ 0.031 -0.084]]\n",
      "[[-0.962 -0.871]]\n",
      "[[-0.962 -0.871]]\n",
      "[[-0.594  0.144]]\n",
      "[[-0.594  0.144]]\n",
      "[[-0.995 -0.375]]\n"
     ]
    },
    {
     "name": "stderr",
     "output_type": "stream",
     "text": [
      "Playing matches: 100%|███████████████████████████████████████████████████████████████████| 3/3 [00:00<00:00, 14.46it/s]\n"
     ]
    },
    {
     "name": "stdout",
     "output_type": "stream",
     "text": [
      "[[-0.995 -0.375]]\n",
      "[[-0.215  0.362]]\n",
      "[[-0.215  0.362]]\n",
      "[[-0.236 -0.178]]\n",
      "[[-0.236 -0.178]]\n",
      "[[0.108 0.012]]\n",
      "[[0.108 0.012]]\n",
      "[[ 0.002 -0.479]]\n",
      "[[ 0.002 -0.479]]\n",
      "[[ 0.077 -0.21 ]]\n",
      "[[ 0.077 -0.21 ]]\n",
      "[[0.003 0.021]]\n",
      "[[0.003 0.021]]\n",
      "[[-0.635 -0.647]]\n",
      "[[-0.635 -0.647]]\n"
     ]
    },
    {
     "name": "stderr",
     "output_type": "stream",
     "text": [
      "Analysing: 100%|██████████████████████████████████████████████████████████████████████| 25/25 [00:00<00:00, 106.84it/s]\n"
     ]
    },
    {
     "data": {
      "text/html": [
       "<div>\n",
       "<style scoped>\n",
       "    .dataframe tbody tr th:only-of-type {\n",
       "        vertical-align: middle;\n",
       "    }\n",
       "\n",
       "    .dataframe tbody tr th {\n",
       "        vertical-align: top;\n",
       "    }\n",
       "\n",
       "    .dataframe thead th {\n",
       "        text-align: right;\n",
       "    }\n",
       "</style>\n",
       "<table border=\"1\" class=\"dataframe\">\n",
       "  <thead>\n",
       "    <tr style=\"text-align: right;\">\n",
       "      <th></th>\n",
       "      <th>Rank</th>\n",
       "      <th>Name</th>\n",
       "      <th>Median_score</th>\n",
       "      <th>Cooperation_rating</th>\n",
       "      <th>Wins</th>\n",
       "      <th>Initial_C_rate</th>\n",
       "      <th>CC_rate</th>\n",
       "      <th>CD_rate</th>\n",
       "      <th>DC_rate</th>\n",
       "      <th>DD_rate</th>\n",
       "      <th>CC_to_C_rate</th>\n",
       "      <th>CD_to_C_rate</th>\n",
       "      <th>DC_to_C_rate</th>\n",
       "      <th>DD_to_C_rate</th>\n",
       "    </tr>\n",
       "  </thead>\n",
       "  <tbody>\n",
       "    <tr>\n",
       "      <th>1</th>\n",
       "      <td>1</td>\n",
       "      <td>DQN1</td>\n",
       "      <td>2.00</td>\n",
       "      <td>0.85</td>\n",
       "      <td>0.0</td>\n",
       "      <td>1.0</td>\n",
       "      <td>0.55</td>\n",
       "      <td>0.30</td>\n",
       "      <td>0.05</td>\n",
       "      <td>0.1</td>\n",
       "      <td>0.909091</td>\n",
       "      <td>0.833333</td>\n",
       "      <td>0.000000</td>\n",
       "      <td>1.0</td>\n",
       "    </tr>\n",
       "    <tr>\n",
       "      <th>0</th>\n",
       "      <td>0</td>\n",
       "      <td>DQN2</td>\n",
       "      <td>3.25</td>\n",
       "      <td>0.60</td>\n",
       "      <td>1.0</td>\n",
       "      <td>1.0</td>\n",
       "      <td>0.55</td>\n",
       "      <td>0.05</td>\n",
       "      <td>0.30</td>\n",
       "      <td>0.1</td>\n",
       "      <td>0.545455</td>\n",
       "      <td>0.000000</td>\n",
       "      <td>0.833333</td>\n",
       "      <td>0.0</td>\n",
       "    </tr>\n",
       "  </tbody>\n",
       "</table>\n",
       "</div>"
      ],
      "text/plain": [
       "   Rank  Name  Median_score  Cooperation_rating  Wins  Initial_C_rate  \\\n",
       "1     1  DQN1          2.00                0.85   0.0             1.0   \n",
       "0     0  DQN2          3.25                0.60   1.0             1.0   \n",
       "\n",
       "   CC_rate  CD_rate  DC_rate  DD_rate  CC_to_C_rate  CD_to_C_rate  \\\n",
       "1     0.55     0.30     0.05      0.1      0.909091      0.833333   \n",
       "0     0.55     0.05     0.30      0.1      0.545455      0.000000   \n",
       "\n",
       "   DC_to_C_rate  DD_to_C_rate  \n",
       "1      0.000000           1.0  \n",
       "0      0.833333           0.0  "
      ]
     },
     "execution_count": 35,
     "metadata": {},
     "output_type": "execute_result"
    }
   ],
   "source": [
    "with p1:\n",
    "    with p2:\n",
    "        tournament = Tournament((p1, p2), game=GAME, turns=GAME_LEN)\n",
    "        results = tournament.play()\n",
    "        summary = results.summarise()\n",
    "        headers = \"Rank,Name,Median_score,Cooperation_rating,Wins,Initial_C_rate,CC_rate,CD_rate,DC_rate,DD_rate,CC_to_C_rate,CD_to_C_rate,DC_to_C_rate,DD_to_C_rate\".split(',')\n",
    "pd.DataFrame(map(list, summary), columns=headers).sort_values(\"Name\")"
   ]
  },
  {
   "cell_type": "code",
   "execution_count": null,
   "id": "aa9bc300-9390-40ce-95d2-2601fc9743e7",
   "metadata": {
    "scrolled": true,
    "tags": []
   },
   "outputs": [
    {
     "name": "stderr",
     "output_type": "stream",
     "text": [
      "Playing matches: 100%|███████████████████████████████████████████████████████████████████| 3/3 [00:00<00:00, 33.33it/s]\n",
      "Analysing: 100%|███████████████████████████████████████████████████████████████████████| 25/25 [00:00<00:00, 50.30it/s]\n"
     ]
    },
    {
     "name": "stdout",
     "output_type": "stream",
     "text": [
      "      Median_score  Cooperation_rating\n",
      "Name                                  \n",
      "DQN1          1.30                0.20\n",
      "DQN2          1.55                0.15\n",
      "--------Iter 0--------\n",
      "[0.635 0.905]\n",
      "[0.757 1.03 ]\n",
      "+ 390.92 sec\n",
      "--------Iter 1--------\n",
      "[0.63  1.004]\n",
      "[0.705 0.986]\n",
      "+ 365.10 sec\n"
     ]
    },
    {
     "name": "stderr",
     "output_type": "stream",
     "text": [
      "Playing matches: 100%|███████████████████████████████████████████████████████████████████| 3/3 [00:00<00:00, 23.68it/s]\n",
      "Analysing: 100%|██████████████████████████████████████████████████████████████████████| 25/25 [00:00<00:00, 118.41it/s]\n"
     ]
    },
    {
     "name": "stdout",
     "output_type": "stream",
     "text": [
      "      Median_score  Cooperation_rating\n",
      "Name                                  \n",
      "DQN1          1.45                0.25\n",
      "DQN2          1.70                0.20\n",
      "--------Iter 2--------\n",
      "[0.651 1.101]\n",
      "[0.759 0.884]\n",
      "+ 361.06 sec\n",
      "--------Iter 3--------\n",
      "[0.596 0.9  ]\n",
      "[0.887 0.938]\n",
      "+ 359.94 sec\n"
     ]
    },
    {
     "name": "stderr",
     "output_type": "stream",
     "text": [
      "Playing matches: 100%|███████████████████████████████████████████████████████████████████| 3/3 [00:00<00:00, 24.14it/s]\n",
      "Analysing: 100%|██████████████████████████████████████████████████████████████████████| 25/25 [00:00<00:00, 116.82it/s]\n"
     ]
    },
    {
     "name": "stdout",
     "output_type": "stream",
     "text": [
      "      Median_score  Cooperation_rating\n",
      "Name                                  \n",
      "DQN1          1.35                0.25\n",
      "DQN2          1.85                0.15\n",
      "--------Iter 4--------\n",
      "[0.593 0.879]\n",
      "[0.696 0.948]\n",
      "+ 365.71 sec\n",
      "--------Iter 5--------\n",
      "[0.693 0.934]\n",
      "[0.61  0.933]\n",
      "+ 362.54 sec\n"
     ]
    },
    {
     "name": "stderr",
     "output_type": "stream",
     "text": [
      "Playing matches: 100%|███████████████████████████████████████████████████████████████████| 3/3 [00:00<00:00, 24.59it/s]\n",
      "Analysing: 100%|██████████████████████████████████████████████████████████████████████| 25/25 [00:00<00:00, 106.38it/s]\n"
     ]
    },
    {
     "name": "stdout",
     "output_type": "stream",
     "text": [
      "      Median_score  Cooperation_rating\n",
      "Name                                  \n",
      "DQN1          1.25                0.15\n",
      "DQN2          1.50                0.10\n",
      "--------Iter 6--------\n",
      "[0.926 0.992]\n",
      "[0.595 0.83 ]\n",
      "+ 360.81 sec\n",
      "--------Iter 7--------\n",
      "[0.775 0.936]\n",
      "[0.591 0.83 ]\n",
      "+ 364.30 sec\n"
     ]
    },
    {
     "name": "stderr",
     "output_type": "stream",
     "text": [
      "Playing matches: 100%|███████████████████████████████████████████████████████████████████| 3/3 [00:00<00:00, 22.11it/s]\n",
      "Analysing: 100%|██████████████████████████████████████████████████████████████████████| 25/25 [00:00<00:00, 114.18it/s]\n"
     ]
    },
    {
     "name": "stdout",
     "output_type": "stream",
     "text": [
      "      Median_score  Cooperation_rating\n",
      "Name                                  \n",
      "DQN1          1.30                0.35\n",
      "DQN2          2.05                0.20\n",
      "--------Iter 8--------\n",
      "[0.796 0.921]\n",
      "[0.812 1.064]\n",
      "+ 362.99 sec\n",
      "--------Iter 9--------\n",
      "[0.719 0.823]\n",
      "[0.79  1.041]\n",
      "+ 362.22 sec\n"
     ]
    },
    {
     "name": "stderr",
     "output_type": "stream",
     "text": [
      "Playing matches: 100%|███████████████████████████████████████████████████████████████████| 3/3 [00:00<00:00, 22.34it/s]\n",
      "Analysing: 100%|███████████████████████████████████████████████████████████████████████| 25/25 [00:00<00:00, 92.96it/s]\n"
     ]
    },
    {
     "name": "stdout",
     "output_type": "stream",
     "text": [
      "      Median_score  Cooperation_rating\n",
      "Name                                  \n",
      "DQN1           1.3                0.25\n",
      "DQN2           1.8                0.15\n",
      "--------Iter 10--------\n",
      "[0.716 0.921]\n",
      "[0.752 0.947]\n",
      "+ 365.03 sec\n",
      "--------Iter 11--------\n",
      "[0.629 1.006]\n",
      "[0.84 1.04]\n",
      "+ 365.10 sec\n"
     ]
    },
    {
     "name": "stderr",
     "output_type": "stream",
     "text": [
      "Playing matches: 100%|███████████████████████████████████████████████████████████████████| 3/3 [00:00<00:00, 21.28it/s]\n",
      "Analysing: 100%|███████████████████████████████████████████████████████████████████████| 25/25 [00:00<00:00, 99.21it/s]\n"
     ]
    },
    {
     "name": "stdout",
     "output_type": "stream",
     "text": [
      "      Median_score  Cooperation_rating\n",
      "Name                                  \n",
      "DQN1           0.9                 0.1\n",
      "DQN2           1.4                 0.0\n",
      "--------Iter 12--------\n",
      "[0.814 1.052]\n",
      "[0.814 1.103]\n",
      "+ 363.63 sec\n",
      "--------Iter 13--------\n",
      "[0.932 0.911]\n",
      "[0.61  0.839]\n",
      "+ 363.17 sec\n"
     ]
    },
    {
     "name": "stderr",
     "output_type": "stream",
     "text": [
      "Playing matches: 100%|███████████████████████████████████████████████████████████████████| 3/3 [00:00<00:00, 24.79it/s]\n",
      "Analysing: 100%|██████████████████████████████████████████████████████████████████████| 25/25 [00:00<00:00, 120.19it/s]\n"
     ]
    },
    {
     "name": "stdout",
     "output_type": "stream",
     "text": [
      "      Median_score  Cooperation_rating\n",
      "Name                                  \n",
      "DQN1          1.55                0.05\n",
      "DQN2          1.05                0.15\n",
      "--------Iter 14--------\n",
      "[0.671 0.836]\n",
      "[0.553 0.996]\n",
      "+ 365.32 sec\n",
      "--------Iter 15--------\n",
      "[0.729 0.954]\n",
      "[0.505 0.694]\n",
      "+ 364.76 sec\n"
     ]
    },
    {
     "name": "stderr",
     "output_type": "stream",
     "text": [
      "Playing matches: 100%|███████████████████████████████████████████████████████████████████| 3/3 [00:00<00:00, 34.47it/s]\n",
      "Analysing: 100%|██████████████████████████████████████████████████████████████████████| 25/25 [00:00<00:00, 178.58it/s]\n"
     ]
    },
    {
     "name": "stdout",
     "output_type": "stream",
     "text": [
      "      Median_score  Cooperation_rating\n",
      "Name                                  \n",
      "DQN1          1.20                0.00\n",
      "DQN2          0.95                0.05\n",
      "--------Iter 16--------\n",
      "[0.638 0.754]\n",
      "[0.565 0.778]\n",
      "+ 368.58 sec\n",
      "--------Iter 17--------\n",
      "[0.757 0.728]\n",
      "[0.759 1.007]\n",
      "+ 362.87 sec\n"
     ]
    },
    {
     "name": "stderr",
     "output_type": "stream",
     "text": [
      "Playing matches: 100%|███████████████████████████████████████████████████████████████████| 3/3 [00:00<00:00, 21.82it/s]\n",
      "Analysing: 100%|██████████████████████████████████████████████████████████████████████| 25/25 [00:00<00:00, 109.23it/s]\n"
     ]
    },
    {
     "name": "stdout",
     "output_type": "stream",
     "text": [
      "      Median_score  Cooperation_rating\n",
      "Name                                  \n",
      "DQN1          1.10                0.10\n",
      "DQN2          1.35                0.05\n",
      "--------Iter 18--------\n",
      "[0.73  0.774]\n",
      "[0.821 1.132]\n",
      "+ 363.17 sec\n",
      "--------Iter 19--------\n",
      "[0.709 0.87 ]\n",
      "[0.778 1.183]\n",
      "+ 363.69 sec\n"
     ]
    },
    {
     "name": "stderr",
     "output_type": "stream",
     "text": [
      "Playing matches: 100%|███████████████████████████████████████████████████████████████████| 3/3 [00:00<00:00, 24.59it/s]\n",
      "Analysing: 100%|██████████████████████████████████████████████████████████████████████| 25/25 [00:00<00:00, 112.11it/s]\n"
     ]
    },
    {
     "name": "stdout",
     "output_type": "stream",
     "text": [
      "      Median_score  Cooperation_rating\n",
      "Name                                  \n",
      "DQN1          1.20                0.00\n",
      "DQN2          0.95                0.05\n",
      "--------Iter 20--------\n",
      "[0.754 0.859]\n",
      "[0.716 1.246]\n",
      "+ 364.31 sec\n",
      "--------Iter 21--------\n",
      "[0.695 0.827]\n",
      "[0.532 0.783]\n",
      "+ 364.59 sec\n"
     ]
    },
    {
     "name": "stderr",
     "output_type": "stream",
     "text": [
      "Playing matches: 100%|███████████████████████████████████████████████████████████████████| 3/3 [00:00<00:00, 23.44it/s]\n",
      "Analysing: 100%|██████████████████████████████████████████████████████████████████████| 25/25 [00:00<00:00, 107.76it/s]\n"
     ]
    },
    {
     "name": "stdout",
     "output_type": "stream",
     "text": [
      "      Median_score  Cooperation_rating\n",
      "Name                                  \n",
      "DQN1          0.95                0.05\n",
      "DQN2          1.20                0.00\n",
      "--------Iter 22--------\n",
      "[0.623 0.747]\n",
      "[0.446 0.776]\n",
      "+ 364.57 sec\n",
      "--------Iter 23--------\n",
      "[0.56  0.625]\n",
      "[0.477 0.709]\n",
      "+ 361.12 sec\n"
     ]
    },
    {
     "name": "stderr",
     "output_type": "stream",
     "text": [
      "Playing matches: 100%|███████████████████████████████████████████████████████████████████| 3/3 [00:00<00:00, 22.39it/s]\n",
      "Analysing: 100%|███████████████████████████████████████████████████████████████████████| 25/25 [00:00<00:00, 82.24it/s]\n"
     ]
    },
    {
     "name": "stdout",
     "output_type": "stream",
     "text": [
      "      Median_score  Cooperation_rating\n",
      "Name                                  \n",
      "DQN1           0.9                 0.1\n",
      "DQN2           1.4                 0.0\n",
      "--------Iter 24--------\n",
      "[0.527 0.609]\n",
      "[0.481 0.638]\n",
      "+ 367.57 sec\n",
      "--------Iter 25--------\n",
      "[0.704 0.594]\n",
      "[0.549 0.63 ]\n",
      "+ 365.77 sec\n"
     ]
    },
    {
     "name": "stderr",
     "output_type": "stream",
     "text": [
      "Playing matches: 100%|███████████████████████████████████████████████████████████████████| 3/3 [00:00<00:00, 24.59it/s]\n",
      "Analysing: 100%|███████████████████████████████████████████████████████████████████████| 25/25 [00:00<00:00, 99.41it/s]\n"
     ]
    },
    {
     "name": "stdout",
     "output_type": "stream",
     "text": [
      "      Median_score  Cooperation_rating\n",
      "Name                                  \n",
      "DQN1          1.10                0.10\n",
      "DQN2          1.35                0.05\n",
      "--------Iter 26--------\n",
      "[0.866 0.795]\n",
      "[0.62  0.651]\n",
      "+ 363.31 sec\n",
      "--------Iter 27--------\n",
      "[0.646 0.782]\n",
      "[0.539 0.744]\n",
      "+ 367.50 sec\n"
     ]
    },
    {
     "name": "stderr",
     "output_type": "stream",
     "text": [
      "Playing matches: 100%|███████████████████████████████████████████████████████████████████| 3/3 [00:00<00:00, 28.04it/s]\n",
      "Analysing: 100%|██████████████████████████████████████████████████████████████████████| 25/25 [00:00<00:00, 106.84it/s]\n"
     ]
    },
    {
     "name": "stdout",
     "output_type": "stream",
     "text": [
      "      Median_score  Cooperation_rating\n",
      "Name                                  \n",
      "DQN1          1.20                0.15\n",
      "DQN2          1.45                0.10\n",
      "--------Iter 28--------\n",
      "[0.883 0.763]\n",
      "[0.577 0.727]\n",
      "+ 367.41 sec\n",
      "--------Iter 29--------\n",
      "[0.903 0.643]\n",
      "[0.517 0.653]\n",
      "+ 364.72 sec\n"
     ]
    },
    {
     "name": "stderr",
     "output_type": "stream",
     "text": [
      "Playing matches: 100%|███████████████████████████████████████████████████████████████████| 3/3 [00:00<00:00, 23.28it/s]\n",
      "Analysing: 100%|██████████████████████████████████████████████████████████████████████| 25/25 [00:00<00:00, 111.61it/s]\n"
     ]
    },
    {
     "name": "stdout",
     "output_type": "stream",
     "text": [
      "      Median_score  Cooperation_rating\n",
      "Name                                  \n",
      "DQN1           0.9                 0.1\n",
      "DQN2           1.4                 0.0\n",
      "--------Iter 30--------\n",
      "[0.458 0.505]\n",
      "[0.506 0.658]\n",
      "+ 365.80 sec\n",
      "--------Iter 31--------\n"
     ]
    }
   ],
   "source": [
    "[Match((p1, p2)).play() for _ in range(200)]\n",
    "\n",
    "ls = []\n",
    "greedy = (0.2, 0.97, 0.05)\n",
    "\n",
    "for i in range(30):\n",
    "\n",
    "    if i % 2 == 0:\n",
    "      # test in tournament\n",
    "        with p1:\n",
    "            with p2:\n",
    "                p1.network.verbosity = p2.network.verbosity = False\n",
    "                tournament = Tournament((p1, p2), game=GAME, turns=GAME_LEN)\n",
    "                results = tournament.play()\n",
    "                summary = pd.DataFrame(map(list, results.summarise()), columns=headers).set_index('Name')\n",
    "                ls.append(summary)\n",
    "\n",
    "        print(summary.loc[['DQN1','DQN2'], ['Median_score', 'Cooperation_rating']])\n",
    "\n",
    "        # save\n",
    "        with open('data/s3/tn_results_2.pkl', \"wb\") as file:\n",
    "            dill.dump(ls, file)\n",
    "        with open(f'data/s3/p1_2_{i}.pkl', \"wb\") as file:\n",
    "            dill.dump(p1, file)\n",
    "        with open(f'data/s3/p2_2_{i}.pkl', \"wb\") as file:\n",
    "            dill.dump(p2, file)\n",
    "\n",
    "    print(f'--------Iter {i}--------')\n",
    "    start = time()\n",
    "\n",
    "    # get experience\n",
    "    [Match((p1, p2)).play() for _ in range(200)]\n",
    "    \n",
    "    # train\n",
    "    for _ in range(8):\n",
    "        p1.train(80, param1)\n",
    "        p2.train(80, param2)\n",
    "        param1['lr'] = param2['lr'] = param1['lr'] * 0.9\n",
    "    param1['lr'] = param2['lr'] = 1e-4\n",
    "    print(p1.network.loss)\n",
    "    print(p2.network.loss)\n",
    "    \n",
    "    g = (greedy[0] * greedy[1] ** i) + greedy[2]\n",
    "    p1.set_greedy(g)\n",
    "    p2.set_greedy(g)\n",
    "    print(f\"+ {time() - start:.2f} sec\")"
   ]
  },
  {
   "cell_type": "markdown",
   "id": "22b1176b-b6a6-4c55-bc76-fdd2c826441a",
   "metadata": {},
   "source": [
    "### results 2"
   ]
  },
  {
   "cell_type": "code",
   "execution_count": 3,
   "id": "4ca8afe7-a41e-4fb2-bed4-9e14f6b4bba4",
   "metadata": {},
   "outputs": [],
   "source": [
    "with open(\"data/s3/tn_results_2.pkl\", \"rb\") as file:\n",
    "    ls = dill.load(file)"
   ]
  },
  {
   "cell_type": "code",
   "execution_count": 4,
   "id": "25c94441-bc06-4404-8ab4-cb8e7c2ee89c",
   "metadata": {
    "scrolled": true,
    "tags": []
   },
   "outputs": [
    {
     "data": {
      "text/plain": [
       "[      Rank  Median_score  Cooperation_rating  Wins  Initial_C_rate  CC_rate  \\\n",
       " Name                                                                          \n",
       " DQN1     0          2.90                0.95  0.00            1.00     0.95   \n",
       " DQN2     1          2.90                0.95  0.00            1.00     0.95   \n",
       " \n",
       "       CD_rate  DC_rate  DD_rate  CC_to_C_rate  CD_to_C_rate  DC_to_C_rate  \\\n",
       " Name                                                                        \n",
       " DQN1     0.00     0.00     0.05          0.95             0             0   \n",
       " DQN2     0.00     0.00     0.05          0.95             0             0   \n",
       " \n",
       "       DD_to_C_rate  \n",
       " Name                \n",
       " DQN1             0  \n",
       " DQN2             0  ,\n",
       "       Rank  Median_score  Cooperation_rating  Wins  Initial_C_rate  CC_rate  \\\n",
       " Name                                                                          \n",
       " DQN2     0          2.45                0.35  1.00            1.00     0.20   \n",
       " DQN1     1          1.70                0.50  0.00            0.00     0.20   \n",
       " \n",
       "       CD_rate  DC_rate  DD_rate  CC_to_C_rate  CD_to_C_rate  DC_to_C_rate  \\\n",
       " Name                                                                        \n",
       " DQN2     0.15     0.30     0.35          0.00          0.00          0.60   \n",
       " DQN1     0.30     0.15     0.35          0.75          0.40          0.33   \n",
       " \n",
       "       DD_to_C_rate  \n",
       " Name                \n",
       " DQN2          0.43  \n",
       " DQN1          0.57  ,\n",
       "       Rank  Median_score  Cooperation_rating  Wins  Initial_C_rate  CC_rate  \\\n",
       " Name                                                                          \n",
       " DQN2     0          2.25                0.40  1.00            0.00     0.15   \n",
       " DQN1     1          2.00                0.45  0.00            1.00     0.15   \n",
       " \n",
       "       CD_rate  DC_rate  DD_rate  CC_to_C_rate  CD_to_C_rate  DC_to_C_rate  \\\n",
       " Name                                                                        \n",
       " DQN2     0.25     0.30     0.30             0          0.80          0.17   \n",
       " DQN1     0.30     0.25     0.30             0          0.50          0.80   \n",
       " \n",
       "       DD_to_C_rate  \n",
       " Name                \n",
       " DQN2          0.60  \n",
       " DQN1          0.20  ,\n",
       "       Rank  Median_score  Cooperation_rating  Wins  Initial_C_rate  CC_rate  \\\n",
       " Name                                                                          \n",
       " DQN1     0          1.90                0.25  1.00            0.00     0.05   \n",
       " DQN2     1          1.65                0.30  0.00            0.00     0.05   \n",
       " \n",
       "       CD_rate  DC_rate  DD_rate  CC_to_C_rate  CD_to_C_rate  DC_to_C_rate  \\\n",
       " Name                                                                        \n",
       " DQN1     0.20     0.25     0.50          0.00          0.00          0.40   \n",
       " DQN2     0.25     0.20     0.50          1.00          0.20          0.00   \n",
       " \n",
       "       DD_to_C_rate  \n",
       " Name                \n",
       " DQN1          0.30  \n",
       " DQN2          0.40  ,\n",
       "       Rank  Median_score  Cooperation_rating  Wins  Initial_C_rate  CC_rate  \\\n",
       " Name                                                                          \n",
       " DQN1     0          2.25                0.25  1.00            0.00     0.10   \n",
       " DQN2     1          1.50                0.40  0.00            1.00     0.10   \n",
       " \n",
       "       CD_rate  DC_rate  DD_rate  CC_to_C_rate  CD_to_C_rate  DC_to_C_rate  \\\n",
       " Name                                                                        \n",
       " DQN1     0.15     0.30     0.45          0.50          0.33          0.20   \n",
       " DQN2     0.30     0.15     0.45          0.50          0.60          0.33   \n",
       " \n",
       "       DD_to_C_rate  \n",
       " Name                \n",
       " DQN1          0.22  \n",
       " DQN2          0.22  ,\n",
       "       Rank  Median_score  Cooperation_rating  Wins  Initial_C_rate  CC_rate  \\\n",
       " Name                                                                          \n",
       " DQN1     0          1.85                0.30  0.00            1.00     0.05   \n",
       " DQN2     1          1.85                0.30  0.00            0.00     0.05   \n",
       " \n",
       "       CD_rate  DC_rate  DD_rate  CC_to_C_rate  CD_to_C_rate  DC_to_C_rate  \\\n",
       " Name                                                                        \n",
       " DQN1     0.25     0.25     0.45             0             0          0.60   \n",
       " DQN2     0.25     0.25     0.45             0             0          0.50   \n",
       " \n",
       "       DD_to_C_rate  \n",
       " Name                \n",
       " DQN1          0.22  \n",
       " DQN2          0.44  ,\n",
       "       Rank  Median_score  Cooperation_rating  Wins  Initial_C_rate  CC_rate  \\\n",
       " Name                                                                          \n",
       " DQN2     0          1.65                0.15  1.00            0.00     0.00   \n",
       " DQN1     1          1.40                0.20  0.00            0.00     0.00   \n",
       " \n",
       "       CD_rate  DC_rate  DD_rate  CC_to_C_rate  CD_to_C_rate  DC_to_C_rate  \\\n",
       " Name                                                                        \n",
       " DQN2     0.15     0.20     0.65             0          0.33             0   \n",
       " DQN1     0.20     0.15     0.65             0          0.25             0   \n",
       " \n",
       "       DD_to_C_rate  \n",
       " Name                \n",
       " DQN2          0.17  \n",
       " DQN1          0.25  ,\n",
       "       Rank  Median_score  Cooperation_rating  Wins  Initial_C_rate  CC_rate  \\\n",
       " Name                                                                          \n",
       " DQN2     0          1.60                0.00  1.00            0.00     0.00   \n",
       " DQN1     1          0.85                0.15  0.00            0.00     0.00   \n",
       " \n",
       "       CD_rate  DC_rate  DD_rate  CC_to_C_rate  CD_to_C_rate  DC_to_C_rate  \\\n",
       " Name                                                                        \n",
       " DQN2     0.00     0.15     0.85             0          0.00             0   \n",
       " DQN1     0.15     0.00     0.85             0          0.67             0   \n",
       " \n",
       "       DD_to_C_rate  \n",
       " Name                \n",
       " DQN2          0.00  \n",
       " DQN1          0.06  ,\n",
       "       Rank  Median_score  Cooperation_rating  Wins  Initial_C_rate  CC_rate  \\\n",
       " Name                                                                          \n",
       " DQN2     0          1.50                0.10  1.00            0.00     0.00   \n",
       " DQN1     1          1.25                0.15  0.00            0.00     0.00   \n",
       " \n",
       "       CD_rate  DC_rate  DD_rate  CC_to_C_rate  CD_to_C_rate  DC_to_C_rate  \\\n",
       " Name                                                                        \n",
       " DQN2     0.10     0.15     0.75             0          0.50             0   \n",
       " DQN1     0.15     0.10     0.75             0          0.00             0   \n",
       " \n",
       "       DD_to_C_rate  \n",
       " Name                \n",
       " DQN2          0.07  \n",
       " DQN1          0.21  ,\n",
       "       Rank  Median_score  Cooperation_rating  Wins  Initial_C_rate  CC_rate  \\\n",
       " Name                                                                          \n",
       " DQN2     0          2.10                0.05  1.00            0.00     0.05   \n",
       " DQN1     1          0.85                0.30  0.00            0.00     0.05   \n",
       " \n",
       "       CD_rate  DC_rate  DD_rate  CC_to_C_rate  CD_to_C_rate  DC_to_C_rate  \\\n",
       " Name                                                                        \n",
       " DQN2     0.00     0.25     0.70             0          0.00          0.20   \n",
       " DQN1     0.25     0.00     0.70             0          0.60          0.00   \n",
       " \n",
       "       DD_to_C_rate  \n",
       " Name                \n",
       " DQN2          0.00  \n",
       " DQN1          0.23  ,\n",
       "       Rank  Median_score  Cooperation_rating  Wins  Initial_C_rate  CC_rate  \\\n",
       " Name                                                                          \n",
       " DQN1     0          1.70                0.25  0.00            1.00     0.05   \n",
       " DQN2     1          1.70                0.25  0.00            0.00     0.05   \n",
       " \n",
       "       CD_rate  DC_rate  DD_rate  CC_to_C_rate  CD_to_C_rate  DC_to_C_rate  \\\n",
       " Name                                                                        \n",
       " DQN1     0.20     0.20     0.55          0.00          0.00          0.25   \n",
       " DQN2     0.20     0.20     0.55          1.00          0.25          0.50   \n",
       " \n",
       "       DD_to_C_rate  \n",
       " Name                \n",
       " DQN1          0.30  \n",
       " DQN2          0.10  ,\n",
       "       Rank  Median_score  Cooperation_rating  Wins  Initial_C_rate  CC_rate  \\\n",
       " Name                                                                          \n",
       " DQN2     0          1.60                0.10  1.00            1.00     0.10   \n",
       " DQN1     1          1.10                0.20  0.00            1.00     0.10   \n",
       " \n",
       "       CD_rate  DC_rate  DD_rate  CC_to_C_rate  CD_to_C_rate  DC_to_C_rate  \\\n",
       " Name                                                                        \n",
       " DQN2     0.00     0.10     0.80             0             0             0   \n",
       " DQN1     0.10     0.00     0.80             0             0             0   \n",
       " \n",
       "       DD_to_C_rate  \n",
       " Name                \n",
       " DQN2          0.07  \n",
       " DQN1          0.20  ,\n",
       "       Rank  Median_score  Cooperation_rating  Wins  Initial_C_rate  CC_rate  \\\n",
       " Name                                                                          \n",
       " DQN1     0          1.20                0.00  1.00            0.00     0.00   \n",
       " DQN2     1          0.95                0.05  0.00            1.00     0.00   \n",
       " \n",
       "       CD_rate  DC_rate  DD_rate  CC_to_C_rate  CD_to_C_rate  DC_to_C_rate  \\\n",
       " Name                                                                        \n",
       " DQN1     0.00     0.05     0.95             0             0             0   \n",
       " DQN2     0.05     0.00     0.95             0             0             0   \n",
       " \n",
       "       DD_to_C_rate  \n",
       " Name                \n",
       " DQN1             0  \n",
       " DQN2             0  ,\n",
       "       Rank  Median_score  Cooperation_rating  Wins  Initial_C_rate  CC_rate  \\\n",
       " Name                                                                          \n",
       " DQN1     0          1.00                0.00  0.00            0.00     0.00   \n",
       " DQN2     1          1.00                0.00  0.00            0.00     0.00   \n",
       " \n",
       "       CD_rate  DC_rate  DD_rate  CC_to_C_rate  CD_to_C_rate  DC_to_C_rate  \\\n",
       " Name                                                                        \n",
       " DQN1     0.00     0.00     1.00             0             0             0   \n",
       " DQN2     0.00     0.00     1.00             0             0             0   \n",
       " \n",
       "       DD_to_C_rate  \n",
       " Name                \n",
       " DQN1             0  \n",
       " DQN2             0  ,\n",
       "       Rank  Median_score  Cooperation_rating  Wins  Initial_C_rate  CC_rate  \\\n",
       " Name                                                                          \n",
       " DQN1     0          1.00                0.00  0.00            0.00     0.00   \n",
       " DQN2     1          1.00                0.00  0.00            0.00     0.00   \n",
       " \n",
       "       CD_rate  DC_rate  DD_rate  CC_to_C_rate  CD_to_C_rate  DC_to_C_rate  \\\n",
       " Name                                                                        \n",
       " DQN1     0.00     0.00     1.00             0             0             0   \n",
       " DQN2     0.00     0.00     1.00             0             0             0   \n",
       " \n",
       "       DD_to_C_rate  \n",
       " Name                \n",
       " DQN1             0  \n",
       " DQN2             0  ,\n",
       "       Rank  Median_score  Cooperation_rating  Wins  Initial_C_rate  CC_rate  \\\n",
       " Name                                                                          \n",
       " DQN1     0          1.00                0.00  0.00            0.00     0.00   \n",
       " DQN2     1          1.00                0.00  0.00            0.00     0.00   \n",
       " \n",
       "       CD_rate  DC_rate  DD_rate  CC_to_C_rate  CD_to_C_rate  DC_to_C_rate  \\\n",
       " Name                                                                        \n",
       " DQN1     0.00     0.00     1.00             0             0             0   \n",
       " DQN2     0.00     0.00     1.00             0             0             0   \n",
       " \n",
       "       DD_to_C_rate  \n",
       " Name                \n",
       " DQN1             0  \n",
       " DQN2             0  ,\n",
       "       Rank  Median_score  Cooperation_rating  Wins  Initial_C_rate  CC_rate  \\\n",
       " Name                                                                          \n",
       " DQN1     0          1.00                0.00  0.00            0.00     0.00   \n",
       " DQN2     1          1.00                0.00  0.00            0.00     0.00   \n",
       " \n",
       "       CD_rate  DC_rate  DD_rate  CC_to_C_rate  CD_to_C_rate  DC_to_C_rate  \\\n",
       " Name                                                                        \n",
       " DQN1     0.00     0.00     1.00             0             0             0   \n",
       " DQN2     0.00     0.00     1.00             0             0             0   \n",
       " \n",
       "       DD_to_C_rate  \n",
       " Name                \n",
       " DQN1             0  \n",
       " DQN2             0  ,\n",
       "       Rank  Median_score  Cooperation_rating  Wins  Initial_C_rate  CC_rate  \\\n",
       " Name                                                                          \n",
       " DQN1     0          1.20                0.00  1.00            0.00     0.00   \n",
       " DQN2     1          0.95                0.05  0.00            1.00     0.00   \n",
       " \n",
       "       CD_rate  DC_rate  DD_rate  CC_to_C_rate  CD_to_C_rate  DC_to_C_rate  \\\n",
       " Name                                                                        \n",
       " DQN1     0.00     0.05     0.95             0             0             0   \n",
       " DQN2     0.05     0.00     0.95             0             0             0   \n",
       " \n",
       "       DD_to_C_rate  \n",
       " Name                \n",
       " DQN1             0  \n",
       " DQN2             0  ,\n",
       "       Rank  Median_score  Cooperation_rating  Wins  Initial_C_rate  CC_rate  \\\n",
       " Name                                                                          \n",
       " DQN1     0          1.00                0.00  0.00            0.00     0.00   \n",
       " DQN2     1          1.00                0.00  0.00            0.00     0.00   \n",
       " \n",
       "       CD_rate  DC_rate  DD_rate  CC_to_C_rate  CD_to_C_rate  DC_to_C_rate  \\\n",
       " Name                                                                        \n",
       " DQN1     0.00     0.00     1.00             0             0             0   \n",
       " DQN2     0.00     0.00     1.00             0             0             0   \n",
       " \n",
       "       DD_to_C_rate  \n",
       " Name                \n",
       " DQN1             0  \n",
       " DQN2             0  ,\n",
       "       Rank  Median_score  Cooperation_rating  Wins  Initial_C_rate  CC_rate  \\\n",
       " Name                                                                          \n",
       " DQN1     0          1.00                0.00  0.00            0.00     0.00   \n",
       " DQN2     1          1.00                0.00  0.00            0.00     0.00   \n",
       " \n",
       "       CD_rate  DC_rate  DD_rate  CC_to_C_rate  CD_to_C_rate  DC_to_C_rate  \\\n",
       " Name                                                                        \n",
       " DQN1     0.00     0.00     1.00             0             0             0   \n",
       " DQN2     0.00     0.00     1.00             0             0             0   \n",
       " \n",
       "       DD_to_C_rate  \n",
       " Name                \n",
       " DQN1             0  \n",
       " DQN2             0  ]"
      ]
     },
     "execution_count": 4,
     "metadata": {},
     "output_type": "execute_result"
    }
   ],
   "source": [
    "ls"
   ]
  },
  {
   "cell_type": "code",
   "execution_count": 11,
   "id": "bec2e2b2-a4bb-482d-b623-5eff18c528e9",
   "metadata": {},
   "outputs": [
    {
     "data": {
      "image/png": "[encoded data removed]",
      "text/plain": [
       "<Figure size 800x640 with 2 Axes>"
      ]
     },
     "metadata": {
      "needs_background": "light"
     },
     "output_type": "display_data"
    }
   ],
   "source": [
    "# extracting score from DQN & TFT\n",
    "scores1 = pd.DataFrame([l.loc['DQN1','Median_score'] for l in ls]).to_numpy().T[0]\n",
    "scores2 = pd.DataFrame([l.loc['DQN2','Median_score'] for l in ls]).to_numpy().T[0]\n",
    "x_axis = range(0, 100*8*40, 100*8*2)\n",
    "\n",
    "plt.figure(figsize=(10, 8), dpi=80)\n",
    "plt.plot(x_axis, scores1, c='tab:red', label='DQN1')\n",
    "plt.plot(x_axis, scores2, c='tab:blue', label='DQN2')\n",
    "plt.legend(loc='upper right')\n",
    "plt.set_xlabel('Epochs')\n",
    "plt.set_ylabel('Median Score')\n",
    "plt.title('Attempt 2')\n",
    "\n",
    "plt.show()"
   ]
  }
 ],
 "metadata": {
  "colab": {
   "collapsed_sections": [],
   "name": "Stage_3_Colab.ipynb",
   "version": ""
  },
  "kernelspec": {
   "display_name": "Python 3 (ipykernel)",
   "language": "python",
   "name": "python3"
  },
  "language_info": {
   "codemirror_mode": {
    "name": "ipython",
    "version": 3
   },
   "file_extension": ".py",
   "mimetype": "text/x-python",
   "name": "python",
   "nbconvert_exporter": "python",
   "pygments_lexer": "ipython3",
   "version": "3.8.10"
  }
 },
 "nbformat": 4,
 "nbformat_minor": 5
}
