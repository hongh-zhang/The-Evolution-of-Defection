{
 "cells": [
  {
   "cell_type": "code",
   "execution_count": 1,
   "id": "bddcb5dc-3557-47cc-825c-8008808d15b3",
   "metadata": {},
   "outputs": [],
   "source": [
    "# the correlate functions in conv1d_prototype is too slow for neural network\n",
    "\n",
    "# parallelization could be implemented on:\n",
    "# - 1d level, by using numpy.dot, which is already highly optimized\n",
    "# - 3d level (batch parallel), by multiprocessing libraries"
   ]
  },
  {
   "cell_type": "code",
   "execution_count": 2,
   "id": "7f05e51d-ca9c-4d57-b80a-de15df5f14a6",
   "metadata": {},
   "outputs": [],
   "source": [
    "import numpy as np"
   ]
  },
  {
   "cell_type": "markdown",
   "id": "0a81b5ed-c429-46e5-9e3e-2772d1280665",
   "metadata": {},
   "source": [
    "## 1d"
   ]
  },
  {
   "cell_type": "code",
   "execution_count": 5,
   "id": "0c5284a9-9b78-45be-8d02-b6347ab9d48e",
   "metadata": {},
   "outputs": [],
   "source": [
    "def correlate1(X, K):\n",
    "    \"\"\"1d correlation\"\"\"\n",
    "    \n",
    "    xw = len(X)\n",
    "    kw = len(K)\n",
    "    ow = xw - kw + 1\n",
    "    \n",
    "    if ow < 1:\n",
    "        return correlate1(K, X)\n",
    "    \n",
    "    # extract windows into ndarray\n",
    "    windows = np.array([X[i:i+kw] for i in range(ow)])\n",
    "    \n",
    "    # perform dot product\n",
    "    return np.dot(windows, K.T)\n",
    "\n",
    "def convolve1(X, K):\n",
    "    return correlate1(X, np.flip(K))"
   ]
  },
  {
   "cell_type": "code",
   "execution_count": 6,
   "id": "ebc7de3c-8940-407d-bacc-7bd1442dc163",
   "metadata": {},
   "outputs": [
    {
     "name": "stdout",
     "output_type": "stream",
     "text": [
      "[1 2 3 4 5 6 7]\n",
      "7.89 µs ± 526 ns per loop (mean ± std. dev. of 7 runs, 100000 loops each)\n"
     ]
    }
   ],
   "source": [
    "a = np.array([1,2,3,4,5,6,7,8])\n",
    "b = np.array([1,0])\n",
    "\n",
    "print(correlate1(a,b))\n",
    "%timeit correlate1(a,b)"
   ]
  },
  {
   "cell_type": "code",
   "execution_count": 39,
   "id": "78f8a2d4-d57a-4084-8955-1effe4204d68",
   "metadata": {},
   "outputs": [],
   "source": [
    "# old implementation\n",
    "def correlate12(X, K):\n",
    "    \"\"\"1d correlation\"\"\"\n",
    "    \n",
    "    xw = len(X)\n",
    "    kw = len(K)\n",
    "    ow = len(X) - len(K) + 1\n",
    "    \n",
    "    if ow >= 1:\n",
    "        return np.fromiter((np.sum(X[i:i+kw] * K) for i in range(ow)), dtype=float)\n",
    "    else:\n",
    "        return correlate1(K, X)"
   ]
  },
  {
   "cell_type": "code",
   "execution_count": 40,
   "id": "4da6392f-4f8c-4204-bb3e-978d6f3e6cb5",
   "metadata": {},
   "outputs": [
    {
     "name": "stdout",
     "output_type": "stream",
     "text": [
      "[1. 2. 3. 4. 5. 6. 7.]\n",
      "31.1 µs ± 250 ns per loop (mean ± std. dev. of 7 runs, 10000 loops each)\n"
     ]
    }
   ],
   "source": [
    "print(correlate12(a,b))\n",
    "%timeit correlate12(a,b)\n",
    "# 3-4x slower"
   ]
  },
  {
   "cell_type": "code",
   "execution_count": null,
   "id": "8d4f7961-ca72-4192-9134-c66c0de5af89",
   "metadata": {},
   "outputs": [],
   "source": [
    "# scipy built-in\n",
    "from scipy.signal import correlate\n",
    "print(correlate(a, b, mode='valid'))\n",
    "%timeit correlate(a, b, mode='valid')"
   ]
  },
  {
   "cell_type": "code",
   "execution_count": 89,
   "id": "ccedff61-71d5-4b1c-b5e7-b82b0c8ae83d",
   "metadata": {},
   "outputs": [
    {
     "name": "stdout",
     "output_type": "stream",
     "text": [
      "[1 2 3 4 5 6 7]\n",
      "1.33 µs ± 47.5 ns per loop (mean ± std. dev. of 7 runs, 1000000 loops each)\n"
     ]
    }
   ],
   "source": [
    "# numpy built-in\n",
    "print(np.correlate(a,b, mode='valid'))\n",
    "%timeit np.correlate(a,b,mode='valid')"
   ]
  },
  {
   "cell_type": "code",
   "execution_count": 28,
   "id": "5aff5d1c-1dac-40ef-bcf2-3712a08e9d99",
   "metadata": {},
   "outputs": [],
   "source": [
    "# ok i've gave up implementing by myself\n",
    "def correlate1(X, K, stride=1):\n",
    "\n",
    "    ow = len(X) - len(K)\n",
    "    assert ow % stride == 0, \"Invalid stride\"\n",
    "    \n",
    "    # somehow np.correlate is not commutative requiring manual fix\n",
    "    if ow >= 0:\n",
    "        return np.correlate(X, K, mode='valid')[::stride]\n",
    "    else:\n",
    "        return np.correlate(K, X, mode='valid')[::stride]   \n",
    "\n",
    "def convolve1(X, K, stride=1):\n",
    "    return correlate1(X, np.flip(K), stride=stride)"
   ]
  },
  {
   "cell_type": "code",
   "execution_count": 33,
   "id": "622321b9-b711-4f28-89da-03674e47bd13",
   "metadata": {},
   "outputs": [
    {
     "name": "stdout",
     "output_type": "stream",
     "text": [
      "[0 1 2 3 4 5 6 7 8 9]\n",
      "[0 1 2 3 4]\n"
     ]
    }
   ],
   "source": [
    "a = np.arange(10)\n",
    "print(a)\n",
    "b = np.arange(5)\n",
    "print(b)"
   ]
  },
  {
   "cell_type": "code",
   "execution_count": 38,
   "id": "5e624094-f76d-4cfe-bdb7-a73b0953e92a",
   "metadata": {},
   "outputs": [
    {
     "name": "stdout",
     "output_type": "stream",
     "text": [
      "[30 40 50 60 70 80]\n",
      "[30 80]\n"
     ]
    }
   ],
   "source": [
    "print(correlate1(a, b, stride=1))\n",
    "print(correlate1(a, b, stride=5))"
   ]
  },
  {
   "cell_type": "code",
   "execution_count": 11,
   "id": "375eafdd-baa5-4b4c-bce4-a8e50181f680",
   "metadata": {},
   "outputs": [
    {
     "data": {
      "text/plain": [
       "array([1, 3, 5, 7])"
      ]
     },
     "execution_count": 11,
     "metadata": {},
     "output_type": "execute_result"
    }
   ],
   "source": [
    "np.array([1,2,3,4,5,6,7])[::2]"
   ]
  },
  {
   "cell_type": "markdown",
   "id": "3cb6787a-32f7-4b62-887c-61115cbd0757",
   "metadata": {},
   "source": [
    "## 2d"
   ]
  },
  {
   "cell_type": "code",
   "execution_count": 42,
   "id": "fc3b66bf-e6ea-482a-ba83-7e907a634184",
   "metadata": {},
   "outputs": [],
   "source": [
    "def correlate2(xs, ks, stride=1):\n",
    "    \"\"\"1d correlation\"\"\"\n",
    "\n",
    "    ow = xs.shape[1] - ks.shape[1]\n",
    "    assert ow % stride == 0, \"Invalid stride\"\n",
    "    \n",
    "    if ow < 0:\n",
    "        return correlate2(ks, xs, stride=stride)\n",
    "    \n",
    "    # divide into 1d conrrelation\n",
    "    out = np.array([np.correlate(x, k, mode='valid')[::stride] for x, k in zip(xs, ks)])\n",
    "    \n",
    "    # sum into 1d output\n",
    "    return np.sum(out, axis=0)\n",
    "    \n",
    "def convolve2(xs, ks, stride=1):\n",
    "    return correlate2(xs, np.flip(ks, axis=1), stride=stride)"
   ]
  },
  {
   "cell_type": "code",
   "execution_count": 43,
   "id": "10cb646b-4568-4946-a7ba-897efe1f951b",
   "metadata": {},
   "outputs": [
    {
     "name": "stdout",
     "output_type": "stream",
     "text": [
      "[[ 0  1  2  3  4  5  6  7  8  9 10 11 12 13 14 15 16 17 18 19 20 21 22 23\n",
      "  24]\n",
      " [25 26 27 28 29 30 31 32 33 34 35 36 37 38 39 40 41 42 43 44 45 46 47 48\n",
      "  49]\n",
      " [50 51 52 53 54 55 56 57 58 59 60 61 62 63 64 65 66 67 68 69 70 71 72 73\n",
      "  74]\n",
      " [75 76 77 78 79 80 81 82 83 84 85 86 87 88 89 90 91 92 93 94 95 96 97 98\n",
      "  99]]\n",
      "[[ 0  1  2  3  4]\n",
      " [ 5  6  7  8  9]\n",
      " [10 11 12 13 14]\n",
      " [15 16 17 18 19]]\n"
     ]
    }
   ],
   "source": [
    "a = np.arange(100).reshape(4,25)\n",
    "print(a)\n",
    "b = np.arange(20).reshape(4,5)\n",
    "print(b)"
   ]
  },
  {
   "cell_type": "code",
   "execution_count": 48,
   "id": "ad52012e-0d97-4ae8-9e08-8ccb5a922d2c",
   "metadata": {},
   "outputs": [
    {
     "name": "stdout",
     "output_type": "stream",
     "text": [
      "[10670 11620 12570 13520 14470]\n"
     ]
    }
   ],
   "source": [
    "print(correlate2(a, b, stride=5))"
   ]
  },
  {
   "cell_type": "code",
   "execution_count": 52,
   "id": "40ab2273-81db-45b6-967a-ebb6892cd461",
   "metadata": {},
   "outputs": [],
   "source": [
    "def correlate3(xss, kss, stride=1):\n",
    "    xshape = xss.shape\n",
    "    kshape = kss.shape\n",
    "    \n",
    "    assert (len(xshape)==3 and len(kshape)==3), \"3d input required\"\n",
    "    assert xshape[1] == kshape[1], \"kernels not spanning input height\"\n",
    "    \n",
    "    return np.array([[correlate2(xs, ks, stride=stride) for ks in kss] for xs in xss])\n",
    "\n",
    "def convolve3(xss, kss, stride=1):\n",
    "    return correlate3(xss, np.flip(xss, axis=2), stride=stride)"
   ]
  },
  {
   "cell_type": "code",
   "execution_count": 55,
   "id": "f778249a-94be-4cfa-91ca-d34a81a66311",
   "metadata": {},
   "outputs": [
    {
     "name": "stdout",
     "output_type": "stream",
     "text": [
      "[[[ 0  1  2  3]\n",
      "  [ 4  5  6  7]]\n",
      "\n",
      " [[ 8  9 10 11]\n",
      "  [12 13 14 15]]]\n",
      "[[[0 1]\n",
      "  [2 3]]\n",
      "\n",
      " [[4 5]\n",
      "  [6 7]]]\n"
     ]
    }
   ],
   "source": [
    "a = np.arange(16).reshape(2,2,4)\n",
    "print(a)\n",
    "b = np.arange(8).reshape(2,2,2)\n",
    "print(b)"
   ]
  },
  {
   "cell_type": "code",
   "execution_count": 57,
   "id": "ece48779-9ec2-4377-a6e5-767a55b06d87",
   "metadata": {},
   "outputs": [
    {
     "data": {
      "text/plain": [
       "array([[[ 24,  36],\n",
       "        [ 64, 108]],\n",
       "\n",
       "       [[ 72,  84],\n",
       "        [240, 284]]])"
      ]
     },
     "execution_count": 57,
     "metadata": {},
     "output_type": "execute_result"
    }
   ],
   "source": [
    "correlate3(a, b, stride=2)"
   ]
  },
  {
   "cell_type": "code",
   "execution_count": null,
   "id": "68b034e4-7c02-4064-bff9-b5fecd6666ed",
   "metadata": {},
   "outputs": [],
   "source": []
  }
 ],
 "metadata": {
  "kernelspec": {
   "display_name": "Python 3 (ipykernel)",
   "language": "python",
   "name": "python3"
  },
  "language_info": {
   "codemirror_mode": {
    "name": "ipython",
    "version": 3
   },
   "file_extension": ".py",
   "mimetype": "text/x-python",
   "name": "python",
   "nbconvert_exporter": "python",
   "pygments_lexer": "ipython3",
   "version": "3.8.10"
  }
 },
 "nbformat": 4,
 "nbformat_minor": 5
}
