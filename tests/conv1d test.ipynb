{
 "cells": [
  {
   "cell_type": "code",
   "execution_count": 1,
   "id": "f717b047-122c-44ae-8a93-48774752883b",
   "metadata": {},
   "outputs": [],
   "source": [
    "%load_ext autoreload\n",
    "%autoreload 2\n",
    "\n",
    "import sys\n",
    "import os\n",
    "parent = os.path.dirname(os.path.abspath(''))\n",
    "sys.path.append(parent)\n",
    "\n",
    "\n",
    "import network\n",
    "\n",
    "import gc\n",
    "import pandas as pd\n",
    "import numpy as np\n",
    "from sklearn.metrics import accuracy_score"
   ]
  },
  {
   "cell_type": "code",
   "execution_count": 2,
   "id": "2d235007-5d94-493d-89df-b77d66e7cc6d",
   "metadata": {},
   "outputs": [
    {
     "data": {
      "text/plain": [
       "0"
      ]
     },
     "execution_count": 2,
     "metadata": {},
     "output_type": "execute_result"
    }
   ],
   "source": [
    "### MNIST classification\n",
    "\n",
    "# load\n",
    "train = pd.read_csv(\"mnist_train.csv\", header=None)\n",
    "test = pd.read_csv(\"mnist_test.csv\", header=None)\n",
    "\n",
    "# preprocess\n",
    "X   = train.iloc[:, 1:].to_numpy(np.float32) / 255.0 * 0.99 + 0.01\n",
    "X_t = test.iloc[:, 1:].to_numpy(np.float32) / 255.0 * 0.99 + 0.01\n",
    "\n",
    "# one hot encode\n",
    "# np.eye() creates an identity matrix\n",
    "# we then create the one hot matrix by referencing every element\n",
    "y   = np.eye(10)[train.iloc[:,0].to_numpy((int))]\n",
    "y_t = np.eye(10)[test.iloc[:,0].to_numpy((int))]\n",
    "y_true = np.argmax(y_t, axis=1)\n",
    "\n",
    "del test, train\n",
    "gc.collect()"
   ]
  },
  {
   "cell_type": "code",
   "execution_count": 3,
   "id": "fc88f6d1-8f9f-4567-9861-eb3c0be8a0a8",
   "metadata": {},
   "outputs": [],
   "source": [
    "X = X.reshape(-1,28,28)\n",
    "X_t = X_t.reshape(-1, 28, 28)"
   ]
  },
  {
   "cell_type": "code",
   "execution_count": 4,
   "id": "82990040-438c-4add-9e88-119ca96f43e5",
   "metadata": {},
   "outputs": [
    {
     "data": {
      "text/plain": [
       "(10000, 28, 28)"
      ]
     },
     "execution_count": 4,
     "metadata": {},
     "output_type": "execute_result"
    }
   ],
   "source": [
    "X_t.shape"
   ]
  },
  {
   "cell_type": "code",
   "execution_count": 25,
   "id": "1b434d03-0e52-4c7b-8c7f-13afbbc56aa6",
   "metadata": {},
   "outputs": [],
   "source": [
    "image = X_t[0][::2,::2]"
   ]
  },
  {
   "cell_type": "code",
   "execution_count": 26,
   "id": "e35f7c6d-5c7c-42ff-8511-8b32263e6bf6",
   "metadata": {},
   "outputs": [
    {
     "data": {
      "text/plain": [
       "<matplotlib.image.AxesImage at 0x230110b6460>"
      ]
     },
     "execution_count": 26,
     "metadata": {},
     "output_type": "execute_result"
    },
    {
     "data": {
      "image/png": "[encoded data removed]",
      "text/plain": [
       "<Figure size 432x288 with 1 Axes>"
      ]
     },
     "metadata": {
      "needs_background": "light"
     },
     "output_type": "display_data"
    }
   ],
   "source": [
    "import matplotlib as plt\n",
    "plt.pyplot.imshow(image.reshape(7, -1), cmap = plt.pyplot.get_cmap('Blues'))"
   ]
  },
  {
   "cell_type": "code",
   "execution_count": null,
   "id": "272e9fba-e9b1-45c3-abac-9ba311bdc7e2",
   "metadata": {},
   "outputs": [],
   "source": []
  },
  {
   "cell_type": "code",
   "execution_count": 18,
   "id": "43af2e36-02fa-43a8-b7db-e6c8ac177f9e",
   "metadata": {},
   "outputs": [],
   "source": [
    "# define network\n",
    "nn = network.NeuralNetwork([\n",
    "                    network.Conv1d_layer(28, 8, 8),\n",
    "                    network.Flatten_layer(),\n",
    "    \n",
    "                    network.Linear_layer(168, 10, bias=None),\n",
    "                    network.Activation_layer('fast_softmax')\n",
    "                    ])\n",
    "param = {\"lr\": 1e-4, 'batch': 16, \"mode\": \"train\", \"eps\": 1e-9, \"beta\":(0.9, 0.999), \n",
    "         \"epoch\": 0, 'optimizer': 'Adam', 't': 1, 'clip': 1.0, 'decay': 0.0}"
   ]
  },
  {
   "cell_type": "code",
   "execution_count": 20,
   "id": "f0853630-5445-44ed-8007-5a726f690ae8",
   "metadata": {},
   "outputs": [
    {
     "name": "stdout",
     "output_type": "stream",
     "text": [
      "Average loss = 14.380426, elapsed time = 25.613030672073364.\n",
      "Epoch 0, Performance = 72.54\n",
      "Average loss = 13.386456, elapsed time = 25.80136728286743.\n",
      "Epoch 1, Performance = 74.0\n",
      "Average loss = 12.655714, elapsed time = 25.084737062454224.\n",
      "Epoch 2, Performance = 75.48\n",
      "Average loss = 12.110813, elapsed time = 25.91892647743225.\n",
      "Epoch 3, Performance = 76.34\n",
      "Average loss = 11.672580, elapsed time = 25.09807014465332.\n",
      "Epoch 4, Performance = 77.14999999999999\n",
      "Average loss = 11.324829, elapsed time = 25.484854698181152.\n",
      "Epoch 5, Performance = 77.81\n",
      "Average loss = 11.034026, elapsed time = 26.01435422897339.\n",
      "Epoch 6, Performance = 78.31\n",
      "Average loss = 10.804274, elapsed time = 26.181746244430542.\n",
      "Epoch 7, Performance = 78.66\n",
      "Average loss = 10.608437, elapsed time = 25.10617971420288.\n",
      "Epoch 8, Performance = 78.92\n",
      "Average loss = 10.441172, elapsed time = 25.279813766479492.\n",
      "Epoch 9, Performance = 79.21000000000001\n",
      "Average loss = 10.303627, elapsed time = 26.72248673439026.\n",
      "Epoch 10, Performance = 79.43\n",
      "Average loss = 10.182075, elapsed time = 24.9302659034729.\n",
      "Epoch 11, Performance = 79.63\n",
      "Average loss = 10.075216, elapsed time = 25.958630561828613.\n",
      "Epoch 12, Performance = 79.75999999999999\n",
      "Average loss = 9.986641, elapsed time = 24.849637985229492.\n",
      "Epoch 13, Performance = 79.94\n",
      "Average loss = 9.908562, elapsed time = 26.024282455444336.\n",
      "Epoch 14, Performance = 80.16\n",
      "Average loss = 9.840151, elapsed time = 24.849830627441406.\n",
      "Epoch 15, Performance = 80.28999999999999\n",
      "Average loss = 9.779419, elapsed time = 26.33859086036682.\n",
      "Epoch 16, Performance = 80.47\n",
      "Average loss = 9.727030, elapsed time = 26.76344132423401.\n",
      "Epoch 17, Performance = 80.57\n",
      "Average loss = 9.679979, elapsed time = 25.350688219070435.\n",
      "Epoch 18, Performance = 80.67\n",
      "Average loss = 9.639133, elapsed time = 25.281137704849243.\n",
      "Epoch 19, Performance = 80.77\n",
      "Average loss = 9.602296, elapsed time = 25.703893661499023.\n",
      "Epoch 20, Performance = 80.84\n",
      "Average loss = 9.569899, elapsed time = 25.311140060424805.\n",
      "Epoch 21, Performance = 80.88\n",
      "Average loss = 9.540790, elapsed time = 25.60070514678955.\n",
      "Epoch 22, Performance = 80.99\n",
      "Average loss = 9.515636, elapsed time = 25.380929470062256.\n",
      "Epoch 23, Performance = 81.07\n",
      "Average loss = 9.492232, elapsed time = 26.128074645996094.\n",
      "Epoch 24, Performance = 81.07\n",
      "Average loss = 9.472279, elapsed time = 25.402713775634766.\n",
      "Epoch 25, Performance = 81.11\n",
      "Average loss = 9.454015, elapsed time = 25.350550889968872.\n",
      "Epoch 26, Performance = 81.14\n",
      "Average loss = 9.437907, elapsed time = 26.721609115600586.\n",
      "Epoch 27, Performance = 81.17\n",
      "Average loss = 9.423292, elapsed time = 25.459760427474976.\n",
      "Epoch 28, Performance = 81.19\n",
      "Average loss = 9.410389, elapsed time = 26.31159782409668.\n",
      "Epoch 29, Performance = 81.19\n",
      "Average loss = 9.398759, elapsed time = 25.160449028015137.\n",
      "Epoch 30, Performance = 81.23\n",
      "Average loss = 9.388185, elapsed time = 26.84823703765869.\n",
      "Epoch 31, Performance = 81.27\n",
      "Average loss = 9.379040, elapsed time = 26.089619874954224.\n",
      "Epoch 32, Performance = 81.28999999999999\n",
      "Average loss = 9.370757, elapsed time = 25.97365665435791.\n",
      "Epoch 33, Performance = 81.31\n",
      "Average loss = 9.363167, elapsed time = 25.119959354400635.\n",
      "Epoch 34, Performance = 81.31\n",
      "Average loss = 9.356500, elapsed time = 25.366249799728394.\n",
      "Epoch 35, Performance = 81.31\n",
      "Average loss = 9.350440, elapsed time = 25.490379095077515.\n",
      "Epoch 36, Performance = 81.31\n",
      "Average loss = 9.345058, elapsed time = 25.111416578292847.\n",
      "Epoch 37, Performance = 81.31\n",
      "Average loss = 9.340127, elapsed time = 25.59511971473694.\n",
      "Epoch 38, Performance = 81.32000000000001\n",
      "Average loss = 9.335773, elapsed time = 26.570038557052612.\n",
      "Epoch 39, Performance = 81.32000000000001\n",
      "Average loss = 9.331890, elapsed time = 25.743110179901123.\n",
      "Epoch 40, Performance = 81.32000000000001\n",
      "Average loss = 9.328340, elapsed time = 25.565013885498047.\n",
      "Epoch 41, Performance = 81.34\n",
      "Average loss = 9.325182, elapsed time = 25.94599676132202.\n",
      "Epoch 42, Performance = 81.34\n",
      "Average loss = 9.322299, elapsed time = 25.940086603164673.\n",
      "Epoch 43, Performance = 81.35\n",
      "Average loss = 9.319773, elapsed time = 25.07109808921814.\n",
      "Epoch 44, Performance = 81.35\n",
      "Average loss = 9.317445, elapsed time = 24.88604760169983.\n",
      "Epoch 45, Performance = 81.36\n",
      "Average loss = 9.315386, elapsed time = 26.23009490966797.\n",
      "Epoch 46, Performance = 81.37\n",
      "Average loss = 9.313534, elapsed time = 25.420266151428223.\n",
      "Epoch 47, Performance = 81.37\n",
      "Average loss = 9.311836, elapsed time = 25.405521631240845.\n",
      "Epoch 48, Performance = 81.38\n",
      "Average loss = 9.310360, elapsed time = 25.05427598953247.\n",
      "Epoch 49, Performance = 81.38\n"
     ]
    },
    {
     "data": {
      "text/plain": [
       "0"
      ]
     },
     "execution_count": 20,
     "metadata": {},
     "output_type": "execute_result"
    }
   ],
   "source": [
    "for i in range(50):\n",
    "    nn.train(X[:10000], y[:10000], param, loss_func='fast_cross_entropy')\n",
    "    yhat = nn(X_t, mode='classification')\n",
    "    accuracy = accuracy_score(y_true, yhat) * 100\n",
    "    print(f\"Epoch {i}, Performance = {accuracy}\")\n",
    "    param['lr'] *= 0.9\n",
    "gc.collect()"
   ]
  },
  {
   "cell_type": "code",
   "execution_count": 17,
   "id": "b871aab4-491e-4aad-9ecf-85ccc69c415f",
   "metadata": {},
   "outputs": [
    {
     "name": "stdout",
     "output_type": "stream",
     "text": [
      "Average loss = 20.157538, elapsed time = 25.863327741622925.\n",
      "Epoch 0, Performance = 80.51\n",
      "Average loss = 8.904244, elapsed time = 24.671323776245117.\n",
      "Epoch 1, Performance = 83.02000000000001\n",
      "Average loss = 7.717095, elapsed time = 25.293291091918945.\n",
      "Epoch 2, Performance = 85.28\n",
      "Average loss = 7.069407, elapsed time = 25.562554836273193.\n",
      "Epoch 3, Performance = 85.85000000000001\n",
      "Average loss = 6.766947, elapsed time = 26.296876668930054.\n",
      "Epoch 4, Performance = 86.53\n"
     ]
    },
    {
     "data": {
      "text/plain": [
       "66"
      ]
     },
     "execution_count": 17,
     "metadata": {},
     "output_type": "execute_result"
    }
   ],
   "source": [
    "for i in range(5):\n",
    "    nn.train(X[:10000], y[:10000], param, loss_func='fast_cross_entropy')\n",
    "    yhat = nn(X_t, mode='classification')\n",
    "    accuracy = accuracy_score(y_true, yhat) * 100\n",
    "    print(f\"Epoch {i}, Performance = {accuracy}\")\n",
    "    param['lr'] *= 0.9\n",
    "gc.collect()"
   ]
  },
  {
   "cell_type": "code",
   "execution_count": 7,
   "id": "c4ae38e4-d90f-4eb0-9ec4-19822e6b189c",
   "metadata": {},
   "outputs": [],
   "source": [
    "yhat = nn(X_t, mode=\"classification\")"
   ]
  },
  {
   "cell_type": "code",
   "execution_count": null,
   "id": "870a9710-af07-4ab8-9ecf-f893b3fafcc8",
   "metadata": {},
   "outputs": [],
   "source": []
  }
 ],
 "metadata": {
  "kernelspec": {
   "display_name": "Python 3 (ipykernel)",
   "language": "python",
   "name": "python3"
  },
  "language_info": {
   "codemirror_mode": {
    "name": "ipython",
    "version": 3
   },
   "file_extension": ".py",
   "mimetype": "text/x-python",
   "name": "python",
   "nbconvert_exporter": "python",
   "pygments_lexer": "ipython3",
   "version": "3.8.10"
  }
 },
 "nbformat": 4,
 "nbformat_minor": 5
}
