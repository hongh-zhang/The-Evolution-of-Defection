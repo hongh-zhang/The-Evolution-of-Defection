{
 "cells": [
  {
   "cell_type": "code",
   "execution_count": 2,
   "id": "religious-railway",
   "metadata": {},
   "outputs": [],
   "source": [
    "from libs.ANN import *\n",
    "from libs.Axl import *\n",
    "\n",
    "import random\n",
    "import pickle\n",
    "import numpy as np\n",
    "import axelrod as axl\n",
    "from itertools import permutations\n",
    "from collections import namedtuple, deque"
   ]
  },
  {
   "cell_type": "code",
   "execution_count": 3,
   "id": "skilled-candle",
   "metadata": {},
   "outputs": [],
   "source": [
    "import libs"
   ]
  },
  {
   "cell_type": "code",
   "execution_count": 4,
   "id": "olympic-idaho",
   "metadata": {},
   "outputs": [
    {
     "data": {
      "text/plain": [
       "<module 'libs' from 'C:\\\\Users\\\\25791\\\\Documents\\\\一个普通的文件夹.exe\\\\Unimelb\\\\2021 S2\\\\ANN\\\\Project\\\\Code\\\\libs\\\\__init__.py'>"
      ]
     },
     "execution_count": 4,
     "metadata": {},
     "output_type": "execute_result"
    }
   ],
   "source": [
    "libs"
   ]
  },
  {
   "cell_type": "code",
   "execution_count": 5,
   "id": "informative-charleston",
   "metadata": {},
   "outputs": [
    {
     "data": {
      "text/plain": [
       "['ANN',\n",
       " 'NeuralNetwork',\n",
       " '__builtins__',\n",
       " '__cached__',\n",
       " '__doc__',\n",
       " '__file__',\n",
       " '__loader__',\n",
       " '__name__',\n",
       " '__package__',\n",
       " '__path__',\n",
       " '__spec__',\n",
       " 'test']"
      ]
     },
     "execution_count": 5,
     "metadata": {},
     "output_type": "execute_result"
    }
   ],
   "source": [
    "dir(libs)"
   ]
  },
  {
   "cell_type": "code",
   "execution_count": 12,
   "id": "comfortable-virus",
   "metadata": {},
   "outputs": [],
   "source": [
    "import libs.ANN as ANN"
   ]
  },
  {
   "cell_type": "code",
   "execution_count": 14,
   "id": "virgin-certificate",
   "metadata": {},
   "outputs": [
    {
     "data": {
      "text/plain": [
       "['Activation_layer',\n",
       " 'BatchNorm_layer',\n",
       " 'Dropout_layer',\n",
       " 'Linear_layer',\n",
       " 'NeuralNetwork',\n",
       " 'StandardScaler',\n",
       " '__builtins__',\n",
       " '__cached__',\n",
       " '__doc__',\n",
       " '__file__',\n",
       " '__loader__',\n",
       " '__name__',\n",
       " '__package__',\n",
       " '__spec__',\n",
       " 'accuracy_score',\n",
       " 'expit',\n",
       " 'figure',\n",
       " 'gpu',\n",
       " 'load',\n",
       " 'np',\n",
       " 'pd',\n",
       " 'plt',\n",
       " 'scipy',\n",
       " 'sech',\n",
       " 'shuffle',\n",
       " 'stable_softmax',\n",
       " 'tanh',\n",
       " 'update_weights']"
      ]
     },
     "execution_count": 14,
     "metadata": {},
     "output_type": "execute_result"
    }
   ],
   "source": [
    "dir(ANN)"
   ]
  },
  {
   "cell_type": "code",
   "execution_count": 18,
   "id": "devoted-invention",
   "metadata": {},
   "outputs": [],
   "source": [
    "nn = libs.NeuralNetwork([ANN.Linear_layer(10, 10, bias=True),\n",
    "                         ANN.Activation_layer(function='ReLU')])"
   ]
  },
  {
   "cell_type": "code",
   "execution_count": 19,
   "id": "driving-honduras",
   "metadata": {},
   "outputs": [
    {
     "name": "stdout",
     "output_type": "stream",
     "text": [
      "--0--\n",
      "Printing linear layer\n",
      "Max = 1.2126822098845786\n",
      "FCL weights = [[ 0.18955762 -0.46243811 -0.68001762 -1.11711187 -0.08808716 -0.672958\n",
      "   1.21268221 -0.47588686 -0.24201788 -0.34033272]\n",
      " [ 0.36670822  0.48471366 -0.17568957 -0.011554   -0.40720006  0.09472935\n",
      "  -0.67652385 -0.43987702 -0.0061864   0.62640322]\n",
      " [-0.36392823  0.09288865 -0.5629634  -0.10178893 -0.16697645 -0.24718625\n",
      "   0.61667572  0.16975796 -0.05511789 -0.63912155]\n",
      " [-0.89469565  0.51881497 -0.70949771 -0.08857546 -0.76499011  0.5433557\n",
      "   0.35147223  0.20198349  0.71613864  0.03309428]\n",
      " [-0.26707552  0.32147541 -0.49707219 -0.92001274 -0.47839728 -0.88722334\n",
      "  -0.59433402  0.07128748 -0.65225268 -0.03827357]\n",
      " [ 0.61780621 -0.82906309 -0.24279563  0.05132291 -0.21408262 -0.09697037\n",
      "  -0.96737999  0.07539965  1.14994935  0.66447854]\n",
      " [-0.67624129 -0.15517442  0.23191355  0.37982703  0.87152456 -0.68511426\n",
      "  -0.66590242  0.13086572 -0.45259377  0.49821732]\n",
      " [ 0.07146409  0.16408529 -0.20219777 -0.22949533  0.30485521  0.90899514\n",
      "  -0.42071043  0.47449414  0.58402798 -0.13837334]\n",
      " [-0.47330867  0.08578378 -0.15347709  0.28928421  0.00936012 -0.17660908\n",
      "   0.2649004  -0.18362239 -0.39422613  0.06274892]\n",
      " [ 0.05843787  0.05937656  0.28198184 -0.17675845  0.03080777  0.33397012\n",
      "   0.06989286  0.54345929 -0.17264078 -0.00858246]\n",
      " [ 0.          0.          0.          0.          0.          0.\n",
      "   0.          0.          0.          0.        ]]\n",
      "FCL momentum = (array([[0., 0., 0., 0., 0., 0., 0., 0., 0., 0.],\n",
      "       [0., 0., 0., 0., 0., 0., 0., 0., 0., 0.],\n",
      "       [0., 0., 0., 0., 0., 0., 0., 0., 0., 0.],\n",
      "       [0., 0., 0., 0., 0., 0., 0., 0., 0., 0.],\n",
      "       [0., 0., 0., 0., 0., 0., 0., 0., 0., 0.],\n",
      "       [0., 0., 0., 0., 0., 0., 0., 0., 0., 0.],\n",
      "       [0., 0., 0., 0., 0., 0., 0., 0., 0., 0.],\n",
      "       [0., 0., 0., 0., 0., 0., 0., 0., 0., 0.],\n",
      "       [0., 0., 0., 0., 0., 0., 0., 0., 0., 0.],\n",
      "       [0., 0., 0., 0., 0., 0., 0., 0., 0., 0.],\n",
      "       [0., 0., 0., 0., 0., 0., 0., 0., 0., 0.]]), array([[0., 0., 0., 0., 0., 0., 0., 0., 0., 0.],\n",
      "       [0., 0., 0., 0., 0., 0., 0., 0., 0., 0.],\n",
      "       [0., 0., 0., 0., 0., 0., 0., 0., 0., 0.],\n",
      "       [0., 0., 0., 0., 0., 0., 0., 0., 0., 0.],\n",
      "       [0., 0., 0., 0., 0., 0., 0., 0., 0., 0.],\n",
      "       [0., 0., 0., 0., 0., 0., 0., 0., 0., 0.],\n",
      "       [0., 0., 0., 0., 0., 0., 0., 0., 0., 0.],\n",
      "       [0., 0., 0., 0., 0., 0., 0., 0., 0., 0.],\n",
      "       [0., 0., 0., 0., 0., 0., 0., 0., 0., 0.],\n",
      "       [0., 0., 0., 0., 0., 0., 0., 0., 0., 0.],\n",
      "       [0., 0., 0., 0., 0., 0., 0., 0., 0., 0.]]))\n",
      "--1--\n"
     ]
    }
   ],
   "source": [
    "nn.print_parameters()"
   ]
  },
  {
   "cell_type": "code",
   "execution_count": 4,
   "id": "engaging-attack",
   "metadata": {},
   "outputs": [
    {
     "ename": "AttributeError",
     "evalue": "module 'libs' has no attribute 'ANN'",
     "output_type": "error",
     "traceback": [
      "\u001b[1;31m---------------------------------------------------------------------------\u001b[0m",
      "\u001b[1;31mAttributeError\u001b[0m                            Traceback (most recent call last)",
      "\u001b[1;32m~\\AppData\\Local\\Temp/ipykernel_26368/3095803101.py\u001b[0m in \u001b[0;36m<module>\u001b[1;34m\u001b[0m\n\u001b[1;32m----> 1\u001b[1;33m \u001b[0mlibs\u001b[0m\u001b[1;33m.\u001b[0m\u001b[0mANN\u001b[0m\u001b[1;33m\u001b[0m\u001b[1;33m\u001b[0m\u001b[0m\n\u001b[0m",
      "\u001b[1;31mAttributeError\u001b[0m: module 'libs' has no attribute 'ANN'"
     ]
    }
   ],
   "source": [
    "libs.ANN"
   ]
  },
  {
   "cell_type": "code",
   "execution_count": 6,
   "id": "typical-vatican",
   "metadata": {},
   "outputs": [
    {
     "ename": "AttributeError",
     "evalue": "module 'libs' has no attribute 'ANN'",
     "output_type": "error",
     "traceback": [
      "\u001b[1;31m---------------------------------------------------------------------------\u001b[0m",
      "\u001b[1;31mAttributeError\u001b[0m                            Traceback (most recent call last)",
      "\u001b[1;32m~\\AppData\\Local\\Temp/ipykernel_10088/3130463881.py\u001b[0m in \u001b[0;36m<module>\u001b[1;34m\u001b[0m\n\u001b[1;32m----> 1\u001b[1;33m \u001b[0mlibs\u001b[0m\u001b[1;33m.\u001b[0m\u001b[0mANN\u001b[0m\u001b[1;33m.\u001b[0m\u001b[0mupdate_weights\u001b[0m\u001b[1;33m\u001b[0m\u001b[1;33m\u001b[0m\u001b[0m\n\u001b[0m",
      "\u001b[1;31mAttributeError\u001b[0m: module 'libs' has no attribute 'ANN'"
     ]
    }
   ],
   "source": [
    "libs.ANN.update_weights"
   ]
  },
  {
   "cell_type": "code",
   "execution_count": 10,
   "id": "comprehensive-corner",
   "metadata": {},
   "outputs": [],
   "source": [
    "import libs.ANN as ANN"
   ]
  },
  {
   "cell_type": "code",
   "execution_count": 11,
   "id": "authorized-attack",
   "metadata": {},
   "outputs": [
    {
     "data": {
      "text/plain": [
       "['Activation_layer',\n",
       " 'BatchNorm_layer',\n",
       " 'Dropout_layer',\n",
       " 'Linear_layer',\n",
       " 'NeuralNetwork',\n",
       " 'StandardScaler',\n",
       " '__builtins__',\n",
       " '__cached__',\n",
       " '__doc__',\n",
       " '__file__',\n",
       " '__loader__',\n",
       " '__name__',\n",
       " '__package__',\n",
       " '__spec__',\n",
       " 'accuracy_score',\n",
       " 'expit',\n",
       " 'figure',\n",
       " 'gpu',\n",
       " 'load',\n",
       " 'np',\n",
       " 'pd',\n",
       " 'plt',\n",
       " 'scipy',\n",
       " 'sech',\n",
       " 'shuffle',\n",
       " 'stable_softmax',\n",
       " 'tanh',\n",
       " 'update_weights']"
      ]
     },
     "execution_count": 11,
     "metadata": {},
     "output_type": "execute_result"
    }
   ],
   "source": [
    "dir(ANN)"
   ]
  },
  {
   "cell_type": "code",
   "execution_count": null,
   "id": "domestic-metabolism",
   "metadata": {},
   "outputs": [],
   "source": []
  }
 ],
 "metadata": {
  "kernelspec": {
   "display_name": "Python 3 (ipykernel)",
   "language": "python",
   "name": "python3"
  },
  "language_info": {
   "codemirror_mode": {
    "name": "ipython",
    "version": 3
   },
   "file_extension": ".py",
   "mimetype": "text/x-python",
   "name": "python",
   "nbconvert_exporter": "python",
   "pygments_lexer": "ipython3",
   "version": "3.8.10"
  }
 },
 "nbformat": 4,
 "nbformat_minor": 5
}
