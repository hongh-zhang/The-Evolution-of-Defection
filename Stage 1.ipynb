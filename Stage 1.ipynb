{
 "cells": [
  {
   "cell_type": "code",
   "execution_count": 1,
   "id": "hidden-sixth",
   "metadata": {},
   "outputs": [],
   "source": [
    "%load_ext autoreload\n",
    "%autoreload 2"
   ]
  },
  {
   "cell_type": "code",
   "execution_count": 2,
   "id": "amazing-electricity",
   "metadata": {},
   "outputs": [],
   "source": [
    "import gc\n",
    "import numpy as np\n",
    "import axelrod as axl\n",
    "from time import time\n",
    "from pprint import pprint\n",
    "import matplotlib.pyplot as plt\n",
    "from itertools import permutations\n",
    "from collections import namedtuple, deque\n",
    "\n",
    "np.set_printoptions(precision=3)\n",
    "\n",
    "# the following imports are from network / axl_utils folder\n",
    "import network\n",
    "from axl_utils import NNplayer, State, set_match, set_play"
   ]
  },
  {
   "cell_type": "code",
   "execution_count": 3,
   "id": "phantom-inside",
   "metadata": {},
   "outputs": [],
   "source": [
    "C = axl.Action.C\n",
    "D = axl.Action.D\n",
    "\n",
    "# config game rules\n",
    "GAME_LEN = 20 + 1\n",
    "GAME = axl.Game(r=3, s=0, t=5, p=1)\n",
    "Match = set_match(game=GAME, turns=GAME_LEN)\n",
    "play = set_play(Match)"
   ]
  },
  {
   "cell_type": "code",
   "execution_count": 4,
   "id": "celtic-danish",
   "metadata": {},
   "outputs": [
    {
     "name": "stdout",
     "output_type": "stream",
     "text": [
      "[(3, 3), (3, 3), (5, 0), (0, 5), (5, 0), (1, 1), (1, 1), (0, 5), (3, 3), (5, 0), (0, 5), (5, 0), (0, 5), (3, 3), (5, 0), (0, 5), (5, 0), (1, 1), (0, 5), (5, 0)]\n",
      "Player 1 score = 50\n",
      "Player 2 score = 45\n"
     ]
    },
    {
     "data": {
      "text/plain": [
       "<axelrod.match.Match at 0x2b9742dfd30>"
      ]
     },
     "execution_count": 4,
     "metadata": {},
     "output_type": "execute_result"
    }
   ],
   "source": [
    "# the play function set up match between 2 players, print the result then return the match object\n",
    "game = play(axl.Prober4(), axl.TitForTat())\n",
    "game"
   ]
  },
  {
   "cell_type": "code",
   "execution_count": 5,
   "id": "cd140c92-09ae-489d-b65e-439334887219",
   "metadata": {},
   "outputs": [
    {
     "name": "stdout",
     "output_type": "stream",
     "text": [
      "[[[-1 -1 -1 -1 -1 -1 -1 -1 -1 -1 -1 -1 -1 -1 -1 -1 -1 -1 -1 -1  1]\n",
      "  [-1 -1 -1 -1 -1 -1 -1 -1 -1 -1 -1 -1 -1 -1 -1 -1 -1 -1 -1 -1  0]]]\n"
     ]
    }
   ],
   "source": [
    "# this is how we define state, in 2d array    (3d for batch training)\n",
    "\n",
    "s = State(GAME_LEN)\n",
    "s.push(C, D)\n",
    "print(s.values())"
   ]
  },
  {
   "cell_type": "markdown",
   "id": "7ae1a802-2d70-47ef-95c1-105aebe6b7cd",
   "metadata": {},
   "source": [
    "### Section 1: DQN"
   ]
  },
  {
   "cell_type": "code",
   "execution_count": 6,
   "id": "sunset-latex",
   "metadata": {},
   "outputs": [],
   "source": [
    "dqn = network.DQN([\n",
    "                    network.Flatten_layer(),\n",
    "                    network.Linear_layer(GAME_LEN*2, 100),\n",
    "                    network.Activation_layer('ReLU'),\n",
    "                    network.Linear_layer(100, 200),\n",
    "                    network.Activation_layer('ReLU'),\n",
    "                    network.Linear_layer(200, 100),\n",
    "                    network.Activation_layer('ReLU'),\n",
    "                    network.Linear_layer(100, 2),\n",
    "                    ],\n",
    "            network.ReplayMemory(2000), gamma=0.9, greedy=0.2)\n",
    "p1 = NNplayer(dqn, State(GAME_LEN))\n",
    "del dqn\n",
    "gc.collect()\n",
    "\n",
    "param = {\"lr\": 1e-4, 'batch': 64, \"mode\": \"train\", \"eps\": 1e-16, \"epoch\": 0, 't': 1, 'clip': 1.0,\n",
    "         'optimizer': ('Adam', 0.9, 0.999), 'regularizer': None, \"loss_fn\":\"mse\"}"
   ]
  },
  {
   "cell_type": "code",
   "execution_count": 7,
   "id": "e0ff68de-e82a-4b48-b3c5-ee94c93e5021",
   "metadata": {
    "scrolled": true,
    "tags": []
   },
   "outputs": [
    {
     "name": "stdout",
     "output_type": "stream",
     "text": [
      "[[1.228 1.947]]\n",
      "[[0.492 1.687]]\n",
      "[[0.089 1.496]]\n",
      "[[-0.168  1.509]]\n",
      "[[0.278 1.149]]\n",
      "[[-0.21   1.737]]\n",
      "[[0.133 1.396]]\n",
      "[[-0.659  1.923]]\n",
      "[[0.166 1.398]]\n",
      "[[-0.096  1.643]]\n",
      "[[0.129 0.607]]\n",
      "[[-0.195  1.37 ]]\n",
      "[[0.384 1.061]]\n",
      "[[0.336 1.097]]\n",
      "[[0.325 0.674]]\n",
      "[[-0.088  0.997]]\n",
      "[[-0.454  0.889]]\n",
      "[[0.315 0.791]]\n",
      "[[0.002 0.312]]\n",
      "[[0.358 0.553]]\n",
      "[[-0.105  0.102]]\n"
     ]
    }
   ],
   "source": [
    "with p1:\n",
    "    players = (p1, axl.TitForTat())\n",
    "    game = Match(players)\n",
    "    game.play()\n",
    "    \n",
    "# initial Q_value predictions:"
   ]
  },
  {
   "cell_type": "code",
   "execution_count": 8,
   "id": "b07b1e17-0946-4374-9408-ec08dda8c1bb",
   "metadata": {},
   "outputs": [],
   "source": [
    "# initial experience\n",
    "# high greedy -> more random exploration\n",
    "\n",
    "p1.set_greedy(0.8)\n",
    "for i in range(60):\n",
    "    players = (p1, axl.TitForTat())\n",
    "    game = Match(players)\n",
    "    game.play()\n",
    "p1.set_greedy(0.2)"
   ]
  },
  {
   "cell_type": "code",
   "execution_count": 9,
   "id": "6c178b65-3778-4265-a506-9e248211325f",
   "metadata": {},
   "outputs": [
    {
     "name": "stdout",
     "output_type": "stream",
     "text": [
      "28.35\n",
      "27.95\n",
      "27.50\n",
      "27.00\n",
      "26.44\n",
      "25.82\n",
      "25.14\n",
      "24.37\n",
      "23.53\n",
      "22.59\n",
      "21.54\n",
      "20.38\n",
      "19.09\n",
      "17.65\n",
      "16.06\n",
      "14.29\n",
      "12.32\n",
      "10.13\n",
      "7.70\n",
      "5.00\n",
      "0.00\n"
     ]
    }
   ],
   "source": [
    "# theoritical Q values\n",
    "# assuming the player cooperate til the last turn, then defect\n",
    "true_Q = np.array([3.0+3.0/(1/9) * (1.0 - 1.0/(1.0+1/9)**(19-i)) + 2 for i in range(21)])\n",
    "true_Q[20] = 0.0\n",
    "[print(f'{i:.2f}') for i in true_Q];"
   ]
  },
  {
   "cell_type": "code",
   "execution_count": 10,
   "id": "808f28f2-d526-4f78-b7ee-5fc158c90f8f",
   "metadata": {
    "scrolled": true,
    "tags": []
   },
   "outputs": [
    {
     "name": "stdout",
     "output_type": "stream",
     "text": [
      "loss: [0.262 0.295],            time: +4.05 sec\n",
      "loss: [0.219 0.171],            time: +5.62 sec\n",
      "loss: [0.15  0.134],            time: +5.09 sec\n",
      "loss: [0.108 0.111],            time: +5.56 sec\n",
      "loss: [0.084 0.096],            time: +5.48 sec\n",
      "loss: [0.073 0.077],            time: +6.26 sec\n",
      "loss: [0.063 0.064],            time: +7.25 sec\n",
      "loss: [0.051 0.057],            time: +5.73 sec\n",
      "loss: [0.037 0.043],            time: +6.41 sec\n",
      "loss: [0.032 0.033],            time: +7.03 sec\n",
      "loss: [0.03  0.045],            time: +5.48 sec\n",
      "loss: [0.032 0.043],            time: +6.29 sec\n",
      "loss: [0.027 0.03 ],            time: +5.52 sec\n",
      "loss: [0.024 0.035],            time: +6.41 sec\n",
      "loss: [0.024 0.033],            time: +5.83 sec\n",
      "loss: [0.02  0.024],            time: +5.73 sec\n",
      "loss: [0.015 0.019],            time: +5.48 sec\n",
      "loss: [0.019 0.021],            time: +5.27 sec\n",
      "loss: [0.017 0.018],            time: +6.47 sec\n",
      "loss: [0.018 0.022],            time: +6.00 sec\n"
     ]
    }
   ],
   "source": [
    "# training loop\n",
    "\n",
    "score_ls = []\n",
    "errors = []\n",
    "for _ in range(20):\n",
    "    start = time()\n",
    "    p1.train(30, param)\n",
    "    \n",
    "    # collect new experience with trained network\n",
    "    [Match((p1, axl.TitForTat())).play() for _ in range(10)]\n",
    "    \n",
    "    print(f'loss: {p1.network.loss},            time: +{time()-start:.2f} sec')\n",
    "    \n",
    "    # calculating Q-value error for later use\n",
    "    # a bit tedious here but I'm too lazy to fix\n",
    "    values = []\n",
    "    state = State(21)\n",
    "    for i in range(21):\n",
    "        value = p1.network(state.values())[0]\n",
    "        values.append(value[0])\n",
    "        state.push(C, C)\n",
    "    error = true_Q - np.array(values)\n",
    "    errors.append(error)\n",
    "\n",
    "\n",
    "# left: running loss for cooperation\n",
    "# right: running loss for defection"
   ]
  },
  {
   "cell_type": "code",
   "execution_count": 11,
   "id": "46870776-b3e2-4bcd-a08f-c06c96624cca",
   "metadata": {},
   "outputs": [
    {
     "name": "stdout",
     "output_type": "stream",
     "text": [
      "[[26.526 25.857]]\n",
      "[[26.122 25.397]]\n",
      "[[25.857 25.162]]\n",
      "[[25.342 24.635]]\n",
      "[[24.831 23.972]]\n",
      "[[24.272 23.521]]\n",
      "[[23.622 22.965]]\n",
      "[[22.961 22.212]]\n",
      "[[22.137 21.426]]\n",
      "[[21.322 20.591]]\n",
      "[[20.313 19.658]]\n",
      "[[19.172 18.609]]\n",
      "[[18.009 17.308]]\n",
      "[[16.647 15.91 ]]\n",
      "[[15.2   14.524]]\n",
      "[[13.518 12.866]]\n",
      "[[11.752 11.214]]\n",
      "[[9.693 9.069]]\n",
      "[[7.456 5.789]]\n",
      "[[2.98  5.027]]\n",
      "[[-0.03   0.005]]\n",
      "[(3, 3), (3, 3), (3, 3), (3, 3), (3, 3), (3, 3), (3, 3), (3, 3), (3, 3), (3, 3), (3, 3), (3, 3), (3, 3), (3, 3), (3, 3), (3, 3), (3, 3), (3, 3), (3, 3), (5, 0)]\n",
      "Player 1 score = 62\n",
      "Player 2 score = 57\n"
     ]
    }
   ],
   "source": [
    "with p1:\n",
    "    play(p1, axl.TitForTat())\n",
    "# predicted Q-values:"
   ]
  },
  {
   "cell_type": "code",
   "execution_count": 12,
   "id": "a093cf70-eea9-4400-84b7-8daa6f0ba6b2",
   "metadata": {},
   "outputs": [
    {
     "data": {
      "image/png": "[encoded data removed]",
      "text/plain": [
       "<Figure size 800x640 with 1 Axes>"
      ]
     },
     "metadata": {
      "needs_background": "light"
     },
     "output_type": "display_data"
    }
   ],
   "source": [
    "# training loss\n",
    "# the beauty of double DQN\n",
    "p1.plot()"
   ]
  },
  {
   "cell_type": "code",
   "execution_count": 13,
   "id": "c9a99d06-7b2c-4d10-b023-13c1d7a476f4",
   "metadata": {},
   "outputs": [
    {
     "data": {
      "image/png": "[encoded data removed]",
      "text/plain": [
       "<Figure size 800x640 with 1 Axes>"
      ]
     },
     "metadata": {
      "needs_background": "light"
     },
     "output_type": "display_data"
    }
   ],
   "source": [
    "# zoom in first 200 epochs\n",
    "p1.plot(min_ran=0, max_ran=200)"
   ]
  },
  {
   "cell_type": "code",
   "execution_count": 14,
   "id": "a7772e27-5179-4999-bf0c-c97540442489",
   "metadata": {},
   "outputs": [
    {
     "data": {
      "image/png": "[encoded data removed]",
      "text/plain": [
       "<Figure size 800x640 with 1 Axes>"
      ]
     },
     "metadata": {
      "needs_background": "light"
     },
     "output_type": "display_data"
    }
   ],
   "source": [
    "# visualizing the recursion nature of Bellman's equation,\n",
    "# where the later states has to be learnt prior to learning preceding states\n",
    "\n",
    "# plotting the error between our prediction against the theoritical Q-value\n",
    "errors = np.array(errors)\n",
    "plt.figure(figsize=(10, 8), dpi=80)\n",
    "plt.scatter(range(len(errors)), errors[:,0], c='r', marker='x', label='1st turn')\n",
    "plt.scatter(range(len(errors)), errors[:,9], c='g', marker='x', label='10th turn')\n",
    "plt.scatter(range(len(errors)), errors[:,19], c='b', marker='x', label='20th turn')\n",
    "plt.legend(loc='upper right')\n",
    "plt.xlabel('Epochs')\n",
    "plt.ylabel('Q-value Error')\n",
    "plt.show()"
   ]
  },
  {
   "cell_type": "markdown",
   "id": "c058f015-1b6b-4657-a3aa-bb16bdbd1466",
   "metadata": {},
   "source": [
    "### Section 2: DQN without fixed target (single DQN)"
   ]
  },
  {
   "cell_type": "code",
   "execution_count": 15,
   "id": "4fe1c92a-48c9-4815-9ae5-8480617cc997",
   "metadata": {
    "scrolled": true,
    "tags": []
   },
   "outputs": [
    {
     "name": "stdout",
     "output_type": "stream",
     "text": [
      "loss: [1.822 1.955],            time: +0.42 sec\n",
      "loss: [2.227 2.45 ],            time: +0.45 sec\n",
      "loss: [2.397 2.151],            time: +0.48 sec\n",
      "loss: [2.587 1.925],            time: +0.45 sec\n",
      "loss: [2.433 1.762],            time: +0.46 sec\n",
      "loss: [2.407 1.8  ],            time: +0.44 sec\n",
      "loss: [2.161 1.684],            time: +0.55 sec\n",
      "loss: [2.113 1.735],            time: +0.44 sec\n",
      "loss: [1.939 1.806],            time: +0.45 sec\n",
      "loss: [2.141 1.752],            time: +0.51 sec\n",
      "loss: [1.761 1.724],            time: +0.51 sec\n",
      "loss: [1.595 1.776],            time: +0.45 sec\n",
      "loss: [1.815 1.991],            time: +0.44 sec\n",
      "loss: [1.888 2.068],            time: +0.60 sec\n",
      "loss: [1.823 2.159],            time: +0.62 sec\n",
      "loss: [1.979 2.294],            time: +0.63 sec\n",
      "loss: [2.111 2.499],            time: +0.53 sec\n",
      "loss: [2.035 2.703],            time: +0.46 sec\n",
      "loss: [2.087 3.019],            time: +0.46 sec\n",
      "loss: [2.334 3.331],            time: +0.50 sec\n",
      "loss: [2.503 3.729],            time: +0.50 sec\n",
      "loss: [2.655 4.163],            time: +0.62 sec\n",
      "loss: [2.623 4.276],            time: +0.64 sec\n",
      "loss: [3.127 4.907],            time: +0.54 sec\n",
      "loss: [3.288 5.02 ],            time: +0.86 sec\n",
      "loss: [3.547 5.484],            time: +0.65 sec\n",
      "loss: [3.768 5.752],            time: +0.48 sec\n",
      "loss: [3.772 5.986],            time: +0.59 sec\n",
      "loss: [3.875 6.45 ],            time: +0.54 sec\n",
      "loss: [4.121 6.565],            time: +0.72 sec\n",
      "loss: [4.167 6.688],            time: +0.64 sec\n",
      "loss: [4.32  6.963],            time: +0.63 sec\n",
      "loss: [4.305 7.092],            time: +0.60 sec\n",
      "loss: [4.394 7.134],            time: +0.63 sec\n",
      "loss: [4.233 7.479],            time: +0.48 sec\n",
      "loss: [4.304 7.796],            time: +0.45 sec\n",
      "loss: [4.658 7.915],            time: +0.50 sec\n",
      "loss: [4.747 7.758],            time: +0.45 sec\n",
      "loss: [4.889 7.863],            time: +0.53 sec\n",
      "loss: [5.352 7.615],            time: +0.51 sec\n",
      "loss: [5.71  8.167],            time: +0.52 sec\n",
      "loss: [6.453 7.955],            time: +0.58 sec\n",
      "loss: [6.652 8.159],            time: +0.47 sec\n",
      "loss: [7.268 8.394],            time: +0.47 sec\n",
      "loss: [7.762 8.733],            time: +0.48 sec\n",
      "loss: [8.38  8.859],            time: +0.47 sec\n",
      "loss: [8.938 8.994],            time: +0.46 sec\n",
      "loss: [9.903 9.87 ],            time: +0.45 sec\n",
      "loss: [10.027 10.271],            time: +0.45 sec\n",
      "loss: [10.302 10.767],            time: +0.48 sec\n",
      "loss: [10.92  10.892],            time: +0.49 sec\n",
      "loss: [11.115 11.182],            time: +0.45 sec\n",
      "loss: [12.253 10.96 ],            time: +0.49 sec\n",
      "loss: [12.309 11.091],            time: +0.46 sec\n",
      "loss: [12.585 11.24 ],            time: +0.46 sec\n",
      "loss: [12.386 11.382],            time: +0.53 sec\n",
      "loss: [12.381 11.508],            time: +0.47 sec\n",
      "loss: [11.671 10.997],            time: +0.48 sec\n",
      "loss: [12.724 11.489],            time: +0.58 sec\n",
      "loss: [10.694 12.006],            time: +0.53 sec\n",
      "loss: [10.903 12.333],            time: +0.57 sec\n",
      "loss: [11.813 12.926],            time: +0.52 sec\n",
      "loss: [13.551 14.354],            time: +0.51 sec\n",
      "loss: [13.83  15.566],            time: +0.62 sec\n",
      "loss: [17.25  17.386],            time: +0.59 sec\n",
      "loss: [19.592 17.981],            time: +0.48 sec\n",
      "loss: [22.334 18.775],            time: +0.49 sec\n",
      "loss: [21.738 20.545],            time: +0.44 sec\n",
      "loss: [21.008 22.255],            time: +0.52 sec\n",
      "loss: [21.042 23.64 ],            time: +0.47 sec\n",
      "loss: [21.309 24.051],            time: +0.53 sec\n",
      "loss: [20.434 25.43 ],            time: +0.41 sec\n",
      "loss: [21.234 23.192],            time: +0.38 sec\n",
      "loss: [21.207 22.001],            time: +0.46 sec\n",
      "loss: [19.82 21.59],            time: +0.68 sec\n",
      "loss: [18.927 19.76 ],            time: +0.65 sec\n",
      "loss: [19.281 18.803],            time: +0.93 sec\n",
      "loss: [19.28  20.352],            time: +0.64 sec\n",
      "loss: [20.073 20.946],            time: +0.53 sec\n",
      "loss: [19.636 20.492],            time: +0.52 sec\n",
      "loss: [20.06  19.147],            time: +0.60 sec\n",
      "loss: [21.476 21.627],            time: +0.64 sec\n",
      "loss: [21.772 23.212],            time: +0.66 sec\n",
      "loss: [22.746 23.26 ],            time: +0.65 sec\n",
      "loss: [23.124 21.207],            time: +0.54 sec\n",
      "loss: [23.303 22.273],            time: +0.59 sec\n",
      "loss: [24.632 21.166],            time: +0.64 sec\n",
      "loss: [25.313 21.751],            time: +0.67 sec\n",
      "loss: [25.936 22.125],            time: +0.70 sec\n",
      "loss: [27.208 29.066],            time: +0.66 sec\n",
      "loss: [28.308 30.851],            time: +0.69 sec\n",
      "loss: [29.908 32.876],            time: +0.64 sec\n",
      "loss: [31.782 34.615],            time: +0.76 sec\n",
      "loss: [33.554 36.635],            time: +0.76 sec\n",
      "loss: [35.378 37.898],            time: +0.78 sec\n",
      "loss: [37.47  38.885],            time: +0.63 sec\n",
      "loss: [38.437 38.205],            time: +0.59 sec\n",
      "loss: [41.408 37.917],            time: +0.65 sec\n",
      "loss: [43.302 37.331],            time: +0.75 sec\n",
      "loss: [46.817 36.805],            time: +0.74 sec\n"
     ]
    }
   ],
   "source": [
    "dqn2 = network.DQN([\n",
    "                    network.Flatten_layer(),\n",
    "                    network.Linear_layer(GAME_LEN*2, 100, bias=0.01),\n",
    "                    network.Activation_layer('ReLU'),\n",
    "                    network.Linear_layer(100, 200),\n",
    "                    network.Activation_layer('ReLU'),\n",
    "                    network.Linear_layer(200, 100),\n",
    "                    network.Activation_layer('ReLU'),\n",
    "                    network.Linear_layer(100, 2),\n",
    "                    ],\n",
    "            network.ReplayMemory(2000), gamma=0.9, greedy=0.2)\n",
    "p2 = NNplayer(dqn2, State(GAME_LEN))\n",
    "del dqn2\n",
    "gc.collect()\n",
    "\n",
    "param = {\"lr\": 1e-4, 'batch': 64, \"mode\": \"train\", \"eps\": 1e-16, \"epoch\": 0, 't': 1, 'clip': 1.0,\n",
    "         'optimizer': ('Adam', 0.9, 0.999), 'regularizer': None, \"loss_fn\":\"mse\"}\n",
    "\n",
    "p2.set_greedy(0.8)\n",
    "for i in range(60):\n",
    "    players = (p2, axl.TitForTat())\n",
    "    game = Match(players)\n",
    "    game.play()\n",
    "p2.set_greedy(0.2)\n",
    "\n",
    "for _ in range(100):\n",
    "    start = time()\n",
    "    \n",
    "    p2.train(1, param)  # my train function updates target net at the end via deepcopy, we can overwrite this by\n",
    "    p2.network.target_net = p2.network.policy_net  # SHALLOW COPY policy net to target net\n",
    "    \n",
    "    [Match((p2, axl.TitForTat())).play() for _ in range(10)]\n",
    "    print(f'loss: {p2.network.loss},            time: +{time()-start:.2f} sec')"
   ]
  },
  {
   "cell_type": "code",
   "execution_count": 16,
   "id": "6a7517cb-0c5c-44e2-aeb5-f2c907cfc1ca",
   "metadata": {},
   "outputs": [
    {
     "data": {
      "image/png": "[encoded data removed]",
      "text/plain": [
       "<Figure size 800x640 with 1 Axes>"
      ]
     },
     "metadata": {
      "needs_background": "light"
     },
     "output_type": "display_data"
    }
   ],
   "source": [
    "p2.plot()"
   ]
  },
  {
   "cell_type": "code",
   "execution_count": 17,
   "id": "16412a30-5e00-4f12-a0b7-78ef04388d86",
   "metadata": {},
   "outputs": [
    {
     "name": "stdout",
     "output_type": "stream",
     "text": [
      "[[36.439 45.556]]\n",
      "[[88.832 96.513]]\n",
      "[[ 4.199 16.066]]\n",
      "[[19.021 31.015]]\n",
      "[[41.975 51.612]]\n",
      "[[ 6.078 19.468]]\n",
      "[[23.156 35.663]]\n",
      "[[41.356 50.028]]\n",
      "[[ 2.875 18.037]]\n",
      "[[-4.144  7.739]]\n",
      "[[18.209 29.628]]\n",
      "[[ 3.233 14.346]]\n",
      "[[34.343 41.353]]\n",
      "[[ 5.834 17.592]]\n",
      "[[29.162 38.03 ]]\n",
      "[[11.025 20.182]]\n",
      "[[17.19  25.586]]\n",
      "[[10.738 18.161]]\n",
      "[[14.136 19.097]]\n",
      "[[1.385 7.389]]\n",
      "[[ 8.354 10.607]]\n",
      "[(5, 0), (1, 1), (1, 1), (1, 1), (1, 1), (1, 1), (1, 1), (1, 1), (1, 1), (1, 1), (1, 1), (1, 1), (1, 1), (1, 1), (1, 1), (1, 1), (1, 1), (1, 1), (1, 1), (1, 1)]\n",
      "Player 1 score = 24\n",
      "Player 2 score = 19\n"
     ]
    }
   ],
   "source": [
    "# result:\n",
    "with p2:\n",
    "    play(p2, axl.TitForTat())\n",
    "    \n",
    "# incorrect Q-values -> bad policy"
   ]
  },
  {
   "cell_type": "code",
   "execution_count": 18,
   "id": "67b0965d-648b-46d6-b0b3-1c0da4c08e11",
   "metadata": {},
   "outputs": [],
   "source": [
    "del p2"
   ]
  },
  {
   "cell_type": "markdown",
   "id": "b63ca61c-56ce-4fbf-9e45-64793bb1e5b3",
   "metadata": {
    "tags": []
   },
   "source": [
    "### Section 3: testing the off-policyness"
   ]
  },
  {
   "cell_type": "code",
   "execution_count": 19,
   "id": "f635e6ca-462f-4a45-84b7-49f11babd630",
   "metadata": {},
   "outputs": [],
   "source": [
    "from axl_utils.extract import extract"
   ]
  },
  {
   "cell_type": "code",
   "execution_count": 20,
   "id": "1f11f83d-fee2-4c0f-9bda-edb4505f5e7f",
   "metadata": {},
   "outputs": [],
   "source": [
    "# collecting experience from axl.Random\n",
    "memory = network.ReplayMemory(10000)\n",
    "for _ in range(500):\n",
    "    game = play(axl.Random(), axl.TitForTat(), show=False)\n",
    "    extract(game, memory)"
   ]
  },
  {
   "cell_type": "code",
   "execution_count": 21,
   "id": "660f2888-e127-4be6-8700-d92c1b01665b",
   "metadata": {},
   "outputs": [],
   "source": [
    "dqn3 = network.DQN([\n",
    "                    network.Flatten_layer(),\n",
    "                    network.Linear_layer(GAME_LEN*2, 100, bias=0.01),\n",
    "                    network.Activation_layer('ReLU'),\n",
    "                    network.Linear_layer(100, 200),\n",
    "                    network.Activation_layer('ReLU'),\n",
    "                    network.Linear_layer(200, 100),\n",
    "                    network.Activation_layer('ReLU'),\n",
    "                    network.Linear_layer(100, 2),\n",
    "                    ],\n",
    "            memory, gamma=0.9, greedy=0.2)  # <- feeding the memory from axl.Random\n",
    "p3 = NNplayer(dqn3, State(GAME_LEN))\n",
    "del dqn3\n",
    "gc.collect()\n",
    "\n",
    "param = {\"lr\": 1e-4, 'batch': 64, \"mode\": \"train\", \"eps\": 1e-16, \"epoch\": 0, 't': 1, 'clip': 1.0,\n",
    "         'optimizer': ('Adam', 0.9, 0.999), 'regularizer': None, \"loss_fn\":\"mse\"}"
   ]
  },
  {
   "cell_type": "code",
   "execution_count": 22,
   "id": "62712d1a-2adc-4f97-b279-6519d86e719a",
   "metadata": {
    "scrolled": true,
    "tags": []
   },
   "outputs": [
    {
     "name": "stdout",
     "output_type": "stream",
     "text": [
      "loss: [0.29  0.385],            time: +5.66 sec\n",
      "loss: [0.243 0.258],            time: +4.49 sec\n",
      "loss: [0.219 0.217],            time: +4.35 sec\n",
      "loss: [0.19  0.181],            time: +4.40 sec\n",
      "loss: [0.174 0.19 ],            time: +4.22 sec\n",
      "loss: [0.146 0.165],            time: +4.18 sec\n",
      "loss: [0.157 0.157],            time: +5.00 sec\n",
      "loss: [0.147 0.153],            time: +4.59 sec\n",
      "loss: [0.135 0.145],            time: +4.53 sec\n",
      "loss: [0.125 0.135],            time: +4.95 sec\n",
      "loss: [0.128 0.124],            time: +5.95 sec\n",
      "loss: [0.108 0.114],            time: +4.71 sec\n",
      "loss: [0.105 0.112],            time: +4.61 sec\n",
      "loss: [0.094 0.103],            time: +4.90 sec\n",
      "loss: [0.091 0.105],            time: +5.10 sec\n",
      "loss: [0.086 0.101],            time: +3.84 sec\n",
      "loss: [0.093 0.092],            time: +5.40 sec\n",
      "loss: [0.088 0.09 ],            time: +5.62 sec\n",
      "loss: [0.077 0.09 ],            time: +9.68 sec\n",
      "loss: [0.082 0.084],            time: +6.08 sec\n"
     ]
    }
   ],
   "source": [
    "for _ in range(20):\n",
    "    start = time()\n",
    "    p3.train(5, param)\n",
    "    print(f'loss: {p3.network.loss},            time: +{time()-start:.2f} sec')"
   ]
  },
  {
   "cell_type": "code",
   "execution_count": 23,
   "id": "a721478a-0a95-4123-a67a-02b8f2da5907",
   "metadata": {},
   "outputs": [
    {
     "name": "stdout",
     "output_type": "stream",
     "text": [
      "[[26.516 25.926]]\n",
      "[[26.102 25.462]]\n",
      "[[25.427 24.838]]\n",
      "[[24.809 24.171]]\n",
      "[[24.102 23.439]]\n",
      "[[23.453 22.814]]\n",
      "[[22.871 22.308]]\n",
      "[[22.274 21.584]]\n",
      "[[21.553 20.939]]\n",
      "[[20.851 20.085]]\n",
      "[[19.812 19.317]]\n",
      "[[18.911 18.562]]\n",
      "[[17.79  17.037]]\n",
      "[[16.075 15.566]]\n",
      "[[14.466 14.168]]\n",
      "[[12.871 12.381]]\n",
      "[[11.14  10.755]]\n",
      "[[9.548 9.245]]\n",
      "[[7.126 5.747]]\n",
      "[[2.986 4.941]]\n",
      "[[0.304 0.345]]\n",
      "[(3, 3), (3, 3), (3, 3), (3, 3), (3, 3), (3, 3), (3, 3), (3, 3), (3, 3), (3, 3), (3, 3), (3, 3), (3, 3), (3, 3), (3, 3), (3, 3), (3, 3), (3, 3), (3, 3), (5, 0)]\n",
      "Player 1 score = 62\n",
      "Player 2 score = 57\n"
     ]
    }
   ],
   "source": [
    "with p3:\n",
    "    play(p3, axl.TitForTat())\n",
    "    \n",
    "# learns exactly the same"
   ]
  },
  {
   "cell_type": "code",
   "execution_count": 24,
   "id": "90bd9834-c0c0-4329-bf1a-59eb73b7bfbe",
   "metadata": {},
   "outputs": [],
   "source": [
    "del p3"
   ]
  },
  {
   "cell_type": "markdown",
   "id": "d3c1ed14-9aa9-4f58-8418-0fca4d19543a",
   "metadata": {},
   "source": [
    "### Section 4: did it learn Tit-For-Tat?"
   ]
  },
  {
   "cell_type": "code",
   "execution_count": 25,
   "id": "0da9e622-893e-43cd-96c8-4b15f4972676",
   "metadata": {},
   "outputs": [
    {
     "name": "stdout",
     "output_type": "stream",
     "text": [
      "[(0, 5), (0, 5), (3, 3), (3, 3), (0, 5), (0, 5), (0, 5), (0, 5), (0, 5), (0, 5), (0, 5), (0, 5), (0, 5), (0, 5), (0, 5), (0, 5), (0, 5), (0, 5), (0, 5), (1, 1)]\n",
      "Player 1 score = 7\n",
      "Player 2 score = 92\n"
     ]
    }
   ],
   "source": [
    "# might be an obvious question but let's see what happens if our DQN meets provocative defection\n",
    "\n",
    "p1.network.greedy = 0.0\n",
    "play(p1, axl.HardProber());  # hard prober defects forever if its opponent does not retaliate"
   ]
  },
  {
   "cell_type": "code",
   "execution_count": 26,
   "id": "bb34e617-c1e0-44c6-9624-25abe13ff14c",
   "metadata": {},
   "outputs": [
    {
     "name": "stdout",
     "output_type": "stream",
     "text": [
      "[(0, 5), (0, 5), (3, 3), (3, 3), (0, 5), (0, 5), (0, 5), (0, 5), (0, 5), (0, 5), (0, 5), (0, 5), (0, 5), (0, 5), (0, 5), (0, 5), (0, 5), (0, 5), (0, 5), (0, 5)]\n",
      "Player 1 score = 6\n",
      "Player 2 score = 96\n"
     ]
    }
   ],
   "source": [
    "play(axl.Cooperator(), axl.HardProber());  # our DQN is basically a naive cooperator"
   ]
  },
  {
   "cell_type": "code",
   "execution_count": 27,
   "id": "464fa231-ebe7-40a3-9041-6a97128f170a",
   "metadata": {},
   "outputs": [
    {
     "name": "stdout",
     "output_type": "stream",
     "text": [
      "[(0, 5), (1, 1), (5, 0), (3, 3), (3, 3), (3, 3), (3, 3), (3, 3), (3, 3), (3, 3), (3, 3), (3, 3), (3, 3), (3, 3), (3, 3), (3, 3), (3, 3), (3, 3), (3, 3), (3, 3)]\n",
      "Player 1 score = 57\n",
      "Player 2 score = 57\n"
     ]
    }
   ],
   "source": [
    "play(axl.TitForTat(), axl.HardProber());  # while TFT can generalize well to any opponent"
   ]
  },
  {
   "cell_type": "code",
   "execution_count": 28,
   "id": "09be710f-a8fe-44e3-b8ad-0ffd3478afa0",
   "metadata": {},
   "outputs": [],
   "source": [
    "# => continue exploration on Stage 2"
   ]
  },
  {
   "cell_type": "code",
   "execution_count": null,
   "id": "0cb9e038-6e96-4bd0-ace8-42b08255e648",
   "metadata": {},
   "outputs": [],
   "source": []
  },
  {
   "cell_type": "code",
   "execution_count": 29,
   "id": "2b9c3805-7f27-4acd-9cbb-8435c102016a",
   "metadata": {},
   "outputs": [],
   "source": [
    "# training TFT with 2 perceptrons\n",
    "\n",
    "X = np.array([[1,1],[0,1],[1,0],[0,0]])  # possible states of last turn\n",
    "y = np.array([[1],[1],[0],[0]])          # copy opponent's action\n",
    "\n",
    "nn = network.NeuralNetwork([network.Linear_layer(2, 1)])\n",
    "param = {\"lr\": 3e-2, 'batch': 2, \"mode\": \"train\", \"eps\": 1e-16, \"epoch\": 0, 't': 1, 'clip': 1.0,\n",
    "         'optimizer': ('Adam', 0.9, 0.999), 'regularizer': None, \"loss_fn\":\"mse\"}"
   ]
  },
  {
   "cell_type": "code",
   "execution_count": 30,
   "id": "d306868a-df19-4a3a-87d1-1929d1abaf48",
   "metadata": {
    "scrolled": true,
    "tags": []
   },
   "outputs": [
    {
     "name": "stdout",
     "output_type": "stream",
     "text": [
      "Average loss = 0.595053, elapsed time = 0.00.\n",
      "Epoch 0, Accuracy = 0.5\n",
      "Average loss = 0.533621, elapsed time = 0.00.\n",
      "Epoch 1, Accuracy = 0.5\n",
      "Average loss = 0.494105, elapsed time = 0.00.\n",
      "Epoch 2, Accuracy = 0.5\n",
      "Average loss = 0.429417, elapsed time = 0.00.\n",
      "Epoch 3, Accuracy = 0.5\n",
      "Average loss = 0.385835, elapsed time = 0.00.\n",
      "Epoch 4, Accuracy = 0.75\n",
      "Average loss = 0.349568, elapsed time = 0.00.\n",
      "Epoch 5, Accuracy = 0.75\n",
      "Average loss = 0.322200, elapsed time = 0.00.\n",
      "Epoch 6, Accuracy = 0.5\n",
      "Average loss = 0.277924, elapsed time = 0.00.\n",
      "Epoch 7, Accuracy = 0.5\n",
      "Average loss = 0.250987, elapsed time = 0.00.\n",
      "Epoch 8, Accuracy = 0.5\n",
      "Average loss = 0.231781, elapsed time = 0.00.\n",
      "Epoch 9, Accuracy = 0.5\n",
      "Average loss = 0.209439, elapsed time = 0.00.\n",
      "Epoch 10, Accuracy = 0.75\n",
      "Average loss = 0.181862, elapsed time = 0.00.\n",
      "Epoch 11, Accuracy = 0.75\n",
      "Average loss = 0.166591, elapsed time = 0.00.\n",
      "Epoch 12, Accuracy = 0.75\n",
      "Average loss = 0.150162, elapsed time = 0.00.\n",
      "Epoch 13, Accuracy = 0.75\n",
      "Average loss = 0.130683, elapsed time = 0.00.\n",
      "Epoch 14, Accuracy = 0.75\n",
      "Average loss = 0.117350, elapsed time = 0.00.\n",
      "Epoch 15, Accuracy = 1.0\n",
      "Average loss = 0.102573, elapsed time = 0.00.\n",
      "Epoch 16, Accuracy = 1.0\n",
      "Average loss = 0.087371, elapsed time = 0.00.\n",
      "Epoch 17, Accuracy = 1.0\n",
      "Average loss = 0.077461, elapsed time = 0.00.\n",
      "Epoch 18, Accuracy = 1.0\n",
      "Average loss = 0.066445, elapsed time = 0.00.\n",
      "Epoch 19, Accuracy = 1.0\n",
      "Average loss = 0.056621, elapsed time = 0.00.\n",
      "Epoch 20, Accuracy = 1.0\n",
      "Average loss = 0.046490, elapsed time = 0.00.\n",
      "Epoch 21, Accuracy = 1.0\n",
      "Average loss = 0.039231, elapsed time = 0.00.\n",
      "Epoch 22, Accuracy = 1.0\n",
      "Average loss = 0.032787, elapsed time = 0.00.\n",
      "Epoch 23, Accuracy = 1.0\n",
      "Average loss = 0.028396, elapsed time = 0.00.\n",
      "Epoch 24, Accuracy = 1.0\n",
      "Average loss = 0.022409, elapsed time = 0.00.\n",
      "Epoch 25, Accuracy = 1.0\n",
      "Average loss = 0.017450, elapsed time = 0.00.\n",
      "Epoch 26, Accuracy = 1.0\n",
      "Average loss = 0.015746, elapsed time = 0.00.\n",
      "Epoch 27, Accuracy = 1.0\n",
      "Average loss = 0.012184, elapsed time = 0.00.\n",
      "Epoch 28, Accuracy = 1.0\n",
      "Average loss = 0.010146, elapsed time = 0.00.\n",
      "Epoch 29, Accuracy = 1.0\n",
      "Average loss = 0.007512, elapsed time = 0.00.\n",
      "Epoch 30, Accuracy = 1.0\n",
      "Average loss = 0.006080, elapsed time = 0.00.\n",
      "Epoch 31, Accuracy = 1.0\n",
      "Average loss = 0.004421, elapsed time = 0.00.\n",
      "Epoch 32, Accuracy = 1.0\n",
      "Average loss = 0.003826, elapsed time = 0.00.\n",
      "Epoch 33, Accuracy = 1.0\n",
      "Average loss = 0.002893, elapsed time = 0.00.\n",
      "Epoch 34, Accuracy = 1.0\n",
      "Average loss = 0.001914, elapsed time = 0.00.\n",
      "Epoch 35, Accuracy = 1.0\n",
      "Average loss = 0.001445, elapsed time = 0.00.\n",
      "Epoch 36, Accuracy = 1.0\n",
      "Average loss = 0.001151, elapsed time = 0.00.\n",
      "Epoch 37, Accuracy = 1.0\n",
      "Average loss = 0.000795, elapsed time = 0.00.\n",
      "Epoch 38, Accuracy = 1.0\n",
      "Average loss = 0.000489, elapsed time = 0.00.\n",
      "Epoch 39, Accuracy = 1.0\n"
     ]
    }
   ],
   "source": [
    "for i in range(40):\n",
    "    nn.train(X, y, param)\n",
    "    yhat = np.round(nn(X))\n",
    "    acc = np.sum(yhat==y) / len(y)\n",
    "    print(f\"Epoch {i}, Accuracy = {acc}\")"
   ]
  },
  {
   "cell_type": "code",
   "execution_count": 31,
   "id": "ff93d5d5-c8be-4d7e-b2f5-60339ea67292",
   "metadata": {},
   "outputs": [],
   "source": [
    "# but this is more of a policy-gradient approach\n",
    "# the regression nature of DQNs make it impossible to employ simple architecture"
   ]
  },
  {
   "cell_type": "code",
   "execution_count": null,
   "id": "ab68e357-4319-4f75-a1e4-c93bfa60a786",
   "metadata": {},
   "outputs": [],
   "source": []
  }
 ],
 "metadata": {
  "kernelspec": {
   "display_name": "Python 3 (ipykernel)",
   "language": "python",
   "name": "python3"
  },
  "language_info": {
   "codemirror_mode": {
    "name": "ipython",
    "version": 3
   },
   "file_extension": ".py",
   "mimetype": "text/x-python",
   "name": "python",
   "nbconvert_exporter": "python",
   "pygments_lexer": "ipython3",
   "version": "3.8.10"
  }
 },
 "nbformat": 4,
 "nbformat_minor": 5
}
