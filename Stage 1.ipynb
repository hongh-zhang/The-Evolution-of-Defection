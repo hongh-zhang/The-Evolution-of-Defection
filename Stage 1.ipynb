{
 "cells": [
  {
   "cell_type": "code",
   "execution_count": 1,
   "id": "hidden-sixth",
   "metadata": {},
   "outputs": [],
   "source": [
    "%load_ext autoreload\n",
    "%autoreload 2"
   ]
  },
  {
   "cell_type": "code",
   "execution_count": 2,
   "id": "amazing-electricity",
   "metadata": {},
   "outputs": [],
   "source": [
    "import gc\n",
    "import copy\n",
    "import random\n",
    "import numpy as np\n",
    "import axelrod as axl\n",
    "from time import time\n",
    "from pprint import pprint\n",
    "import matplotlib.pyplot as plt\n",
    "from itertools import permutations\n",
    "from collections import namedtuple, deque\n",
    "\n",
    "np.set_printoptions(precision=3)\n",
    "\n",
    "# the following imports are from network / axl_utils folder\n",
    "import network\n",
    "from network.dqn import DQN\n",
    "from network.replay import ReplayMemory\n",
    "from axl_utils.nnplayer import NNplayer, State\n",
    "from axl_utils.game import *"
   ]
  },
  {
   "cell_type": "code",
   "execution_count": 3,
   "id": "phantom-inside",
   "metadata": {},
   "outputs": [],
   "source": [
    "C = axl.Action.C\n",
    "D = axl.Action.D\n",
    "\n",
    "# config game rules\n",
    "GAME_LEN = 20 + 1\n",
    "GAME = axl.Game(r=3, s=0, t=5, p=1)\n",
    "Match = set_match(game=GAME, turns=GAME_LEN)\n",
    "play = set_play(Match)"
   ]
  },
  {
   "cell_type": "code",
   "execution_count": 4,
   "id": "celtic-danish",
   "metadata": {},
   "outputs": [
    {
     "name": "stdout",
     "output_type": "stream",
     "text": [
      "[(0, 5), (5, 0), (3, 3), (5, 0), (0, 5), (1, 1), (0, 5), (5, 0), (0, 5), (1, 1), (3, 3), (5, 0), (3, 3), (5, 0), (3, 3), (1, 1), (3, 3), (5, 0), (0, 5), (1, 1)]\n",
      "Player 1 score = 49\n",
      "Player 2 score = 44\n",
      "[(3, 3), (3, 3), (5, 0), (0, 5), (5, 0), (1, 1), (1, 1), (0, 5), (3, 3), (5, 0), (0, 5), (5, 0), (0, 5), (3, 3), (5, 0), (0, 5), (5, 0), (1, 1), (0, 5), (5, 0)]\n",
      "Player 1 score = 50\n",
      "Player 2 score = 45\n"
     ]
    }
   ],
   "source": [
    "# play sanity check\n",
    "play(axl.Alternator(), axl.Random())\n",
    "game = play(axl.Prober4(), axl.TitForTat())"
   ]
  },
  {
   "cell_type": "code",
   "execution_count": 5,
   "id": "cd140c92-09ae-489d-b65e-439334887219",
   "metadata": {},
   "outputs": [
    {
     "name": "stdout",
     "output_type": "stream",
     "text": [
      "[[[-1 -1 -1 -1 -1 -1 -1 -1 -1 -1 -1 -1 -1 -1 -1 -1 -1 -1 -1 -1 -1]\n",
      "  [-1 -1 -1 -1 -1 -1 -1 -1 -1 -1 -1 -1 -1 -1 -1 -1 -1 -1 -1 -1 -1]]]\n",
      "[deque([-1, -1, -1, -1, -1, -1, -1, -1, -1, -1, -1, -1, -1, -1, -1, -1, -1, -1, -1, -1, 1], maxlen=21),\n",
      " deque([-1, -1, -1, -1, -1, -1, -1, -1, -1, -1, -1, -1, -1, -1, -1, -1, -1, -1, -1, -1, 0], maxlen=21)]\n"
     ]
    }
   ],
   "source": [
    "# State sanity check\n",
    "s = State(GAME_LEN)\n",
    "print(s.values())\n",
    "\n",
    "s.push(C, D)\n",
    "print(s)"
   ]
  },
  {
   "cell_type": "markdown",
   "id": "7ae1a802-2d70-47ef-95c1-105aebe6b7cd",
   "metadata": {},
   "source": [
    "### Section 1: DQN"
   ]
  },
  {
   "cell_type": "code",
   "execution_count": 6,
   "id": "sunset-latex",
   "metadata": {},
   "outputs": [],
   "source": [
    "dqn = DQN([\n",
    "                    network.Flatten_layer(),\n",
    "                    network.Linear_layer(GAME_LEN*2, 100, bias=0.01),\n",
    "                    network.Activation_layer('ReLU'),\n",
    "                    network.Linear_layer(100, 200),\n",
    "                    network.Activation_layer('ReLU'),\n",
    "                    network.Linear_layer(200, 100),\n",
    "                    network.Activation_layer('ReLU'),\n",
    "                    network.Linear_layer(100, 2),\n",
    "                    ],\n",
    "            ReplayMemory(2000), gamma=0.9, greedy=0.2)\n",
    "p1 = NNplayer(dqn, State(GAME_LEN))\n",
    "del dqn\n",
    "gc.collect()\n",
    "\n",
    "param = {\"lr\": 1e-4, 'batch': 16, \"momentum\": 0.9, \"mode\": \"train\", \"eps\": 1e-16, \"beta\":(0.9, 0.999), \n",
    "         \"epoch\": 0, 'optimizer': 'adam', 't': 1, 'clip': 1.0, 'decay': 0.0, \"loss_fn\":\"mse\"}"
   ]
  },
  {
   "cell_type": "code",
   "execution_count": 7,
   "id": "e0ff68de-e82a-4b48-b3c5-ee94c93e5021",
   "metadata": {
    "scrolled": true,
    "tags": []
   },
   "outputs": [
    {
     "name": "stdout",
     "output_type": "stream",
     "text": [
      "[[-2.568 -0.657]]\n",
      "[[-2.739 -1.097]]\n",
      "[[-1.584 -0.952]]\n",
      "[[-1.435 -0.688]]\n",
      "[[-1.532 -0.976]]\n",
      "[[-0.819 -1.406]]\n",
      "[[-0.899 -0.69 ]]\n",
      "[[-1.421 -0.296]]\n",
      "[[-1.129 -0.662]]\n",
      "[[-1.103 -0.547]]\n",
      "[[-1.34 -0.66]]\n",
      "[[-1.429 -0.601]]\n",
      "[[-1.015 -1.69 ]]\n",
      "[[-1.425 -1.027]]\n",
      "[[-1.771 -1.053]]\n",
      "[[-2.247  0.116]]\n",
      "[[-0.396 -0.817]]\n",
      "[[-0.865 -0.501]]\n",
      "[[-1.139 -0.488]]\n",
      "[[-1.33  -0.799]]\n",
      "[[-1.412 -0.382]]\n"
     ]
    }
   ],
   "source": [
    "with p1:\n",
    "    players = (p1, axl.TitForTat())\n",
    "    game = Match(players)\n",
    "    game.play()\n",
    "    \n",
    "# initial Q_values:"
   ]
  },
  {
   "cell_type": "code",
   "execution_count": 8,
   "id": "b07b1e17-0946-4374-9408-ec08dda8c1bb",
   "metadata": {},
   "outputs": [],
   "source": [
    "# initial experience\n",
    "# high greedy -> more random exploration\n",
    "\n",
    "p1.set_greedy(0.8)\n",
    "for i in range(60):\n",
    "    players = (p1, axl.TitForTat())\n",
    "    game = Match(players)\n",
    "    game.play()\n",
    "p1.set_greedy(0.2)"
   ]
  },
  {
   "cell_type": "code",
   "execution_count": 9,
   "id": "6c178b65-3778-4265-a506-9e248211325f",
   "metadata": {},
   "outputs": [
    {
     "name": "stdout",
     "output_type": "stream",
     "text": [
      "28.35\n",
      "27.95\n",
      "27.50\n",
      "27.00\n",
      "26.44\n",
      "25.82\n",
      "25.14\n",
      "24.37\n",
      "23.53\n",
      "22.59\n",
      "21.54\n",
      "20.38\n",
      "19.09\n",
      "17.65\n",
      "16.06\n",
      "14.29\n",
      "12.32\n",
      "10.13\n",
      "7.70\n",
      "5.00\n"
     ]
    }
   ],
   "source": [
    "# theoritical Q values\n",
    "# assuming the player cooperate til the last turn, then defect\n",
    "for i in range(20):\n",
    "    print(f'{3.0+3.0/(1/9) * (1.0 - 1.0/(1.0+1/9)**(19-i)) + 2:.2f}')\n",
    "true_Q = np.array([3.0+3.0/(1/9) * (1.0 - 1.0/(1.0+1/9)**(19-i)) + 2 for i in range(21)])\n",
    "true_Q[20] = 0.0"
   ]
  },
  {
   "cell_type": "code",
   "execution_count": 10,
   "id": "808f28f2-d526-4f78-b7ee-5fc158c90f8f",
   "metadata": {
    "scrolled": true,
    "tags": []
   },
   "outputs": [
    {
     "name": "stdout",
     "output_type": "stream",
     "text": [
      "loss: [0.093 0.107],            time: +8.22 sec\n",
      "loss: [0.08  0.086],            time: +11.11 sec\n",
      "loss: [0.073 0.055],            time: +12.85 sec\n",
      "loss: [0.061 0.062],            time: +15.80 sec\n",
      "loss: [0.052 0.047],            time: +15.60 sec\n",
      "loss: [0.042 0.056],            time: +14.83 sec\n",
      "loss: [0.036 0.037],            time: +15.75 sec\n",
      "loss: [0.066 0.065],            time: +12.90 sec\n",
      "loss: [0.031 0.038],            time: +13.65 sec\n",
      "loss: [0.045 0.048],            time: +12.76 sec\n",
      "loss: [0.023 0.036],            time: +15.15 sec\n",
      "loss: [0.041 0.056],            time: +14.33 sec\n",
      "loss: [0.024 0.039],            time: +13.34 sec\n",
      "loss: [0.019 0.041],            time: +14.40 sec\n",
      "loss: [0.026 0.03 ],            time: +14.56 sec\n",
      "loss: [0.028 0.049],            time: +15.35 sec\n",
      "loss: [0.036 0.045],            time: +15.16 sec\n",
      "loss: [0.022 0.025],            time: +14.56 sec\n",
      "loss: [0.028 0.029],            time: +14.49 sec\n",
      "loss: [0.024 0.036],            time: +14.57 sec\n"
     ]
    }
   ],
   "source": [
    "# training loop\n",
    "\n",
    "score_ls = []\n",
    "errors = []\n",
    "for _ in range(20):\n",
    "    start = time()\n",
    "    p1.train(30, param)\n",
    "    \n",
    "    # collect new experience with trained network\n",
    "    [Match((p1, axl.TitForTat())).play() for _ in range(10)]\n",
    "    \n",
    "    print(f'loss: {p1.network.loss},            time: +{time()-start:.2f} sec')\n",
    "    \n",
    "    # calculating Q-value error for later use\n",
    "    # a bit tedious here but I'm too lazy to fix\n",
    "    values = []\n",
    "    state = State(21)\n",
    "    for i in range(21):\n",
    "        value = p1.network(state.values())[0]\n",
    "        values.append(value[0])\n",
    "        state.push(C, C)\n",
    "    error = true_Q - np.array(values)\n",
    "    errors.append(error)\n",
    "\n",
    "\n",
    "# left: running loss for cooperation\n",
    "# right: running loss for defection"
   ]
  },
  {
   "cell_type": "code",
   "execution_count": 11,
   "id": "46870776-b3e2-4bcd-a08f-c06c96624cca",
   "metadata": {},
   "outputs": [
    {
     "name": "stdout",
     "output_type": "stream",
     "text": [
      "[[26.398 25.742]]\n",
      "[[26.005 25.394]]\n",
      "[[25.75  25.094]]\n",
      "[[25.504 24.811]]\n",
      "[[24.945 24.274]]\n",
      "[[24.282 23.555]]\n",
      "[[23.651 22.93 ]]\n",
      "[[22.961 22.258]]\n",
      "[[22.207 21.391]]\n",
      "[[21.293 20.546]]\n",
      "[[20.372 19.644]]\n",
      "[[19.244 18.541]]\n",
      "[[18.148 17.445]]\n",
      "[[16.782 16.104]]\n",
      "[[15.32  14.538]]\n",
      "[[13.648 12.871]]\n",
      "[[11.896 11.119]]\n",
      "[[9.824 8.993]]\n",
      "[[7.562 5.969]]\n",
      "[[3.036 5.014]]\n",
      "[[ 0.002 -0.074]]\n",
      "[(3, 3), (3, 3), (3, 3), (3, 3), (3, 3), (3, 3), (3, 3), (3, 3), (3, 3), (3, 3), (3, 3), (3, 3), (3, 3), (3, 3), (3, 3), (3, 3), (3, 3), (3, 3), (3, 3), (5, 0)]\n",
      "Player 1 score = 62\n",
      "Player 2 score = 57\n"
     ]
    }
   ],
   "source": [
    "with p1:\n",
    "    play(p1, axl.TitForTat())\n",
    "# predicted Q-values:"
   ]
  },
  {
   "cell_type": "code",
   "execution_count": 12,
   "id": "a093cf70-eea9-4400-84b7-8daa6f0ba6b2",
   "metadata": {},
   "outputs": [
    {
     "data": {
      "image/png": "[encoded data removed]",
      "text/plain": [
       "<Figure size 800x640 with 1 Axes>"
      ]
     },
     "metadata": {
      "needs_background": "light"
     },
     "output_type": "display_data"
    }
   ],
   "source": [
    "# training loss\n",
    "p1.plot()"
   ]
  },
  {
   "cell_type": "code",
   "execution_count": 13,
   "id": "c9a99d06-7b2c-4d10-b023-13c1d7a476f4",
   "metadata": {},
   "outputs": [
    {
     "data": {
      "image/png": "[encoded data removed]",
      "text/plain": [
       "<Figure size 800x640 with 1 Axes>"
      ]
     },
     "metadata": {
      "needs_background": "light"
     },
     "output_type": "display_data"
    }
   ],
   "source": [
    "# training loss in first 200 epochs\n",
    "p1.plot(min_ran=0, max_ran=200)"
   ]
  },
  {
   "cell_type": "code",
   "execution_count": 14,
   "id": "a7772e27-5179-4999-bf0c-c97540442489",
   "metadata": {},
   "outputs": [
    {
     "data": {
      "image/png": "[encoded data removed]",
      "text/plain": [
       "<Figure size 800x640 with 1 Axes>"
      ]
     },
     "metadata": {
      "needs_background": "light"
     },
     "output_type": "display_data"
    }
   ],
   "source": [
    "# visualizing the recursion nature of Bellman's equation,\n",
    "# where the later states has to be learnt prior to learning preceding states\n",
    "\n",
    "# plotting the error between our prediction against the theoritical Q-value\n",
    "errors = np.array(errors)\n",
    "plt.figure(figsize=(10, 8), dpi=80)\n",
    "plt.scatter(range(len(errors)), errors[:,0], c='r', marker='x', label='1st turn')\n",
    "plt.scatter(range(len(errors)), errors[:,9], c='g', marker='x', label='10th turn')\n",
    "plt.scatter(range(len(errors)), errors[:,19], c='b', marker='x', label='20th turn')\n",
    "plt.legend(loc='upper right')\n",
    "plt.xlabel('Epochs')\n",
    "plt.ylabel('Q-value Error')\n",
    "plt.show()"
   ]
  },
  {
   "cell_type": "markdown",
   "id": "c058f015-1b6b-4657-a3aa-bb16bdbd1466",
   "metadata": {},
   "source": [
    "### Section 2: DQN without fixed target"
   ]
  },
  {
   "cell_type": "code",
   "execution_count": 15,
   "id": "4fe1c92a-48c9-4815-9ae5-8480617cc997",
   "metadata": {
    "scrolled": true,
    "tags": []
   },
   "outputs": [
    {
     "name": "stdout",
     "output_type": "stream",
     "text": [
      "loss: [1.288 1.895],            time: +0.61 sec\n",
      "loss: [2.569 2.198],            time: +0.66 sec\n",
      "loss: [2.589 2.152],            time: +0.69 sec\n",
      "loss: [2.785 2.866],            time: +0.74 sec\n",
      "loss: [2.735 2.935],            time: +0.86 sec\n",
      "loss: [3.068 3.226],            time: +0.86 sec\n",
      "loss: [3.265 3.311],            time: +0.89 sec\n",
      "loss: [3.262 4.062],            time: +0.80 sec\n",
      "loss: [3.458 3.978],            time: +0.74 sec\n",
      "loss: [3.811 4.189],            time: +0.86 sec\n",
      "loss: [3.74 5.05],            time: +0.83 sec\n",
      "loss: [4.108 5.615],            time: +0.84 sec\n",
      "loss: [4.811 6.442],            time: +0.80 sec\n",
      "loss: [5.312 7.449],            time: +0.79 sec\n",
      "loss: [5.216 9.122],            time: +0.93 sec\n",
      "loss: [ 6.873 11.148],            time: +0.95 sec\n",
      "loss: [ 7.317 11.966],            time: +0.70 sec\n",
      "loss: [ 8.407 11.578],            time: +0.70 sec\n",
      "loss: [ 9.167 14.819],            time: +0.69 sec\n",
      "loss: [10.047 19.018],            time: +0.72 sec\n",
      "loss: [11.806 16.186],            time: +0.78 sec\n",
      "loss: [12.981 23.88 ],            time: +0.66 sec\n",
      "loss: [15.014 23.251],            time: +0.84 sec\n",
      "loss: [18.007 24.976],            time: +0.69 sec\n",
      "loss: [18.778 27.635],            time: +0.86 sec\n",
      "loss: [18.685 29.566],            time: +0.73 sec\n",
      "loss: [22.825 32.334],            time: +0.67 sec\n",
      "loss: [25.971 25.253],            time: +0.68 sec\n",
      "loss: [27.647 31.718],            time: +0.66 sec\n",
      "loss: [31.458 25.953],            time: +0.68 sec\n",
      "loss: [34.282 36.086],            time: +0.67 sec\n",
      "loss: [39.594 26.968],            time: +0.66 sec\n",
      "loss: [44.947 37.259],            time: +0.69 sec\n",
      "loss: [46.711 42.115],            time: +0.73 sec\n",
      "loss: [52.806 45.672],            time: +0.71 sec\n",
      "loss: [55.912 47.048],            time: +0.73 sec\n",
      "loss: [60.734 56.046],            time: +0.72 sec\n",
      "loss: [63.979 61.636],            time: +0.67 sec\n",
      "loss: [81.397 67.521],            time: +0.67 sec\n",
      "loss: [84.526 74.01 ],            time: +0.66 sec\n",
      "loss: [70.642 74.586],            time: +0.66 sec\n",
      "loss: [100.095  82.991],            time: +0.65 sec\n",
      "loss: [92.436 94.381],            time: +0.74 sec\n",
      "loss: [95.49  93.069],            time: +0.66 sec\n",
      "loss: [ 76.706 106.456],            time: +0.69 sec\n",
      "loss: [ 88.51  125.735],            time: +0.70 sec\n",
      "loss: [107.065 126.451],            time: +0.71 sec\n",
      "loss: [114.203 137.3  ],            time: +0.67 sec\n",
      "loss: [145.1   150.899],            time: +0.70 sec\n",
      "loss: [134.614 173.48 ],            time: +0.67 sec\n",
      "loss: [127.042 181.896],            time: +0.65 sec\n",
      "loss: [151.152 191.097],            time: +0.79 sec\n",
      "loss: [238.203 200.269],            time: +0.68 sec\n",
      "loss: [308.959 245.84 ],            time: +0.88 sec\n",
      "loss: [361.744 271.333],            time: +0.79 sec\n",
      "loss: [359.003 278.637],            time: +0.93 sec\n",
      "loss: [419.473 335.706],            time: +0.98 sec\n",
      "loss: [408.403 388.441],            time: +0.91 sec\n",
      "loss: [499.2   425.445],            time: +0.82 sec\n",
      "loss: [468.274 507.035],            time: +0.88 sec\n",
      "loss: [495.561 533.521],            time: +0.75 sec\n",
      "loss: [513.004 553.086],            time: +0.87 sec\n",
      "loss: [463.234 606.942],            time: +1.23 sec\n",
      "loss: [460.158 735.507],            time: +1.31 sec\n",
      "loss: [505.09  862.099],            time: +0.85 sec\n",
      "loss: [459.648 648.901],            time: +0.91 sec\n",
      "loss: [467.095 844.86 ],            time: +0.94 sec\n",
      "loss: [499.79  852.456],            time: +0.70 sec\n",
      "loss: [538.453 513.989],            time: +0.90 sec\n",
      "loss: [524.915 539.47 ],            time: +0.72 sec\n",
      "loss: [535.297 590.214],            time: +0.82 sec\n",
      "loss: [584.338 610.078],            time: +1.08 sec\n",
      "loss: [642.433 569.675],            time: +1.00 sec\n",
      "loss: [629.125 636.541],            time: +1.04 sec\n",
      "loss: [710.513 709.124],            time: +0.85 sec\n",
      "loss: [740.382 805.164],            time: +0.98 sec\n",
      "loss: [777.914 468.1  ],            time: +1.01 sec\n",
      "loss: [806.2   620.911],            time: +0.89 sec\n",
      "loss: [871.047 648.653],            time: +0.84 sec\n",
      "loss: [896.522 628.154],            time: +1.11 sec\n",
      "loss: [946.206 353.97 ],            time: +1.07 sec\n",
      "loss: [1003.707  749.786],            time: +0.92 sec\n",
      "loss: [965.559 819.559],            time: +0.91 sec\n",
      "loss: [1113.403 1046.151],            time: +0.99 sec\n",
      "loss: [1072.982 1030.418],            time: +1.11 sec\n",
      "loss: [1159.36   955.886],            time: +0.92 sec\n",
      "loss: [1249.165  792.643],            time: +0.95 sec\n",
      "loss: [1188.991 1032.99 ],            time: +1.00 sec\n",
      "loss: [1334.661 1246.455],            time: +0.99 sec\n",
      "loss: [1353.848 1608.001],            time: +0.89 sec\n",
      "loss: [1537.924 1836.866],            time: +1.03 sec\n",
      "loss: [1699.105 2014.983],            time: +0.78 sec\n",
      "loss: [1749.518 2161.991],            time: +0.79 sec\n",
      "loss: [1764.005 2383.083],            time: +0.69 sec\n",
      "loss: [1942.382 2446.111],            time: +0.72 sec\n",
      "loss: [2083.828 2547.957],            time: +0.77 sec\n",
      "loss: [2237.692 2312.074],            time: +0.82 sec\n",
      "loss: [2290.853 2661.499],            time: +0.95 sec\n",
      "loss: [2583.889 2828.344],            time: +0.72 sec\n",
      "loss: [2696.239 2806.075],            time: +0.89 sec\n"
     ]
    }
   ],
   "source": [
    "dqn2 = DQN([\n",
    "                    network.Flatten_layer(),\n",
    "                    network.Linear_layer(GAME_LEN*2, 100, bias=0.01),\n",
    "                    network.Activation_layer('ReLU'),\n",
    "                    network.Linear_layer(100, 200),\n",
    "                    network.Activation_layer('ReLU'),\n",
    "                    network.Linear_layer(200, 100),\n",
    "                    network.Activation_layer('ReLU'),\n",
    "                    network.Linear_layer(100, 2),\n",
    "                    ],\n",
    "            ReplayMemory(2000), gamma=0.9, greedy=0.2)\n",
    "p2 = NNplayer(dqn2, State(GAME_LEN))\n",
    "del dqn2\n",
    "gc.collect()\n",
    "\n",
    "param = {\"lr\": 1e-4, 'batch': 16, \"momentum\": 0.9, \"mode\": \"train\", \"eps\": 1e-16, \"beta\":(0.9, 0.999), \n",
    "         \"epoch\": 0, 'optimizer': 'adam', 't': 1, 'clip': 1.0, 'decay': 0.0, \"loss_fn\":\"mse\"}\n",
    "\n",
    "p2.set_greedy(0.8)\n",
    "for i in range(60):\n",
    "    players = (p2, axl.TitForTat())\n",
    "    game = Match(players)\n",
    "    game.play()\n",
    "p2.set_greedy(0.2)\n",
    "\n",
    "for _ in range(100):\n",
    "    start = time()\n",
    "    \n",
    "    p2.train(1, param)  # my train function updates target net at the end via deepcopy, we can overwrite this by\n",
    "    p2.network.target_net = p2.network.policy_net  # SHALLOW COPY policy net to target net\n",
    "    \n",
    "    [Match((p2, axl.TitForTat())).play() for _ in range(10)]\n",
    "    print(f'loss: {p2.network.loss},            time: +{time()-start:.2f} sec')"
   ]
  },
  {
   "cell_type": "code",
   "execution_count": 16,
   "id": "6a7517cb-0c5c-44e2-aeb5-f2c907cfc1ca",
   "metadata": {},
   "outputs": [
    {
     "data": {
      "image/png": "[encoded data removed]",
      "text/plain": [
       "<Figure size 800x640 with 1 Axes>"
      ]
     },
     "metadata": {
      "needs_background": "light"
     },
     "output_type": "display_data"
    }
   ],
   "source": [
    "p2.plot()"
   ]
  },
  {
   "cell_type": "code",
   "execution_count": 17,
   "id": "67b0965d-648b-46d6-b0b3-1c0da4c08e11",
   "metadata": {},
   "outputs": [],
   "source": [
    "del p2"
   ]
  },
  {
   "cell_type": "markdown",
   "id": "b63ca61c-56ce-4fbf-9e45-64793bb1e5b3",
   "metadata": {
    "tags": []
   },
   "source": [
    "### Section 3: testing the off-policyness"
   ]
  },
  {
   "cell_type": "code",
   "execution_count": 18,
   "id": "f635e6ca-462f-4a45-84b7-49f11babd630",
   "metadata": {},
   "outputs": [],
   "source": [
    "from axl_utils.extract import extract"
   ]
  },
  {
   "cell_type": "code",
   "execution_count": 19,
   "id": "1f11f83d-fee2-4c0f-9bda-edb4505f5e7f",
   "metadata": {},
   "outputs": [],
   "source": [
    "# collecting experience from axl.Random\n",
    "memory = ReplayMemory(10000)\n",
    "for _ in range(500):\n",
    "    game = play(axl.Random(), axl.TitForTat(), show=False)\n",
    "    extract(game, memory)"
   ]
  },
  {
   "cell_type": "code",
   "execution_count": 20,
   "id": "660f2888-e127-4be6-8700-d92c1b01665b",
   "metadata": {},
   "outputs": [],
   "source": [
    "dqn3 = DQN([\n",
    "                    network.Flatten_layer(),\n",
    "                    network.Linear_layer(GAME_LEN*2, 100, bias=0.01),\n",
    "                    network.Activation_layer('ReLU'),\n",
    "                    network.Linear_layer(100, 200),\n",
    "                    network.Activation_layer('ReLU'),\n",
    "                    network.Linear_layer(200, 100),\n",
    "                    network.Activation_layer('ReLU'),\n",
    "                    network.Linear_layer(100, 2),\n",
    "                    ],\n",
    "            memory, gamma=0.9, greedy=0.2)\n",
    "p3 = NNplayer(dqn3, State(GAME_LEN))\n",
    "del dqn3\n",
    "gc.collect()\n",
    "\n",
    "param = {\"lr\": 1e-4, 'batch': 16, \"momentum\": 0.9, \"mode\": \"train\", \"eps\": 1e-16, \"beta\":(0.9, 0.999), \n",
    "         \"epoch\": 0, 'optimizer': 'adam', 't': 1, 'clip': 1.0, 'decay': 0.0, \"loss_fn\":\"mse\"}"
   ]
  },
  {
   "cell_type": "code",
   "execution_count": 21,
   "id": "62712d1a-2adc-4f97-b279-6519d86e719a",
   "metadata": {},
   "outputs": [
    {
     "name": "stdout",
     "output_type": "stream",
     "text": [
      "loss: [0.182 0.217],            time: +14.32 sec\n",
      "loss: [0.216 0.167],            time: +12.43 sec\n",
      "loss: [0.153 0.169],            time: +13.06 sec\n",
      "loss: [0.104 0.116],            time: +13.88 sec\n",
      "loss: [0.097 0.123],            time: +15.29 sec\n",
      "loss: [0.104 0.122],            time: +15.15 sec\n",
      "loss: [0.103 0.091],            time: +13.79 sec\n",
      "loss: [0.087 0.109],            time: +14.80 sec\n",
      "loss: [0.086 0.079],            time: +13.94 sec\n",
      "loss: [0.057 0.061],            time: +14.31 sec\n",
      "loss: [0.071 0.076],            time: +14.87 sec\n",
      "loss: [0.073 0.068],            time: +13.21 sec\n",
      "loss: [0.083 0.056],            time: +11.84 sec\n",
      "loss: [0.06  0.072],            time: +11.44 sec\n",
      "loss: [0.042 0.056],            time: +14.76 sec\n",
      "loss: [0.056 0.06 ],            time: +12.93 sec\n",
      "loss: [0.046 0.053],            time: +15.40 sec\n",
      "loss: [0.051 0.067],            time: +14.86 sec\n",
      "loss: [0.056 0.051],            time: +10.59 sec\n",
      "loss: [0.046 0.05 ],            time: +12.29 sec\n"
     ]
    }
   ],
   "source": [
    "for _ in range(20):\n",
    "    start = time()\n",
    "    p3.train(5, param)\n",
    "    print(f'loss: {p3.network.loss},            time: +{time()-start:.2f} sec')"
   ]
  },
  {
   "cell_type": "code",
   "execution_count": 22,
   "id": "a721478a-0a95-4123-a67a-02b8f2da5907",
   "metadata": {},
   "outputs": [
    {
     "name": "stdout",
     "output_type": "stream",
     "text": [
      "[[26.292 25.711]]\n",
      "[[25.933 25.376]]\n",
      "[[25.478 24.895]]\n",
      "[[25.106 24.488]]\n",
      "[[24.665 24.023]]\n",
      "[[23.994 23.429]]\n",
      "[[23.307 22.738]]\n",
      "[[22.685 22.063]]\n",
      "[[21.906 21.238]]\n",
      "[[20.904 20.283]]\n",
      "[[20.052 19.291]]\n",
      "[[18.892 18.208]]\n",
      "[[17.619 17.054]]\n",
      "[[16.282 15.718]]\n",
      "[[14.824 14.029]]\n",
      "[[13.224 12.777]]\n",
      "[[11.374 10.973]]\n",
      "[[9.463 9.045]]\n",
      "[[7.173 6.102]]\n",
      "[[3.098 4.966]]\n",
      "[[0.054 0.16 ]]\n",
      "[(3, 3), (3, 3), (3, 3), (3, 3), (3, 3), (3, 3), (3, 3), (3, 3), (3, 3), (3, 3), (3, 3), (3, 3), (3, 3), (3, 3), (3, 3), (3, 3), (3, 3), (3, 3), (3, 3), (5, 0)]\n",
      "Player 1 score = 62\n",
      "Player 2 score = 57\n"
     ]
    }
   ],
   "source": [
    "with p3:\n",
    "    play(p3, axl.TitForTat())"
   ]
  },
  {
   "cell_type": "code",
   "execution_count": 23,
   "id": "90bd9834-c0c0-4329-bf1a-59eb73b7bfbe",
   "metadata": {},
   "outputs": [],
   "source": [
    "del p3"
   ]
  },
  {
   "cell_type": "markdown",
   "id": "d3c1ed14-9aa9-4f58-8418-0fca4d19543a",
   "metadata": {},
   "source": [
    "### Section 4: did it learn Tit-For-Tat?"
   ]
  },
  {
   "cell_type": "code",
   "execution_count": 61,
   "id": "0da9e622-893e-43cd-96c8-4b15f4972676",
   "metadata": {},
   "outputs": [
    {
     "name": "stdout",
     "output_type": "stream",
     "text": [
      "[(0, 5), (0, 5), (3, 3), (3, 3), (0, 5), (0, 5), (0, 5), (0, 5), (0, 5), (0, 5), (0, 5), (0, 5), (0, 5), (0, 5), (0, 5), (0, 5), (0, 5), (0, 5), (0, 5), (1, 1)]\n",
      "Player 1 score = 7\n",
      "Player 2 score = 92\n"
     ]
    }
   ],
   "source": [
    "# might be an obvious question but let's see what happens if our DQN meets provocative defection\n",
    "\n",
    "p1.network.greedy = 0.0\n",
    "play(p1, axl.HardProber());  # hard prober defects forever if its opponent does not retaliate"
   ]
  },
  {
   "cell_type": "code",
   "execution_count": 62,
   "id": "bb34e617-c1e0-44c6-9624-25abe13ff14c",
   "metadata": {},
   "outputs": [
    {
     "name": "stdout",
     "output_type": "stream",
     "text": [
      "[(0, 5), (0, 5), (3, 3), (3, 3), (0, 5), (0, 5), (0, 5), (0, 5), (0, 5), (0, 5), (0, 5), (0, 5), (0, 5), (0, 5), (0, 5), (0, 5), (0, 5), (0, 5), (0, 5), (0, 5)]\n",
      "Player 1 score = 6\n",
      "Player 2 score = 96\n"
     ]
    }
   ],
   "source": [
    "play(axl.Cooperator(), axl.HardProber());  # our DQN is basically a naive cooperator"
   ]
  },
  {
   "cell_type": "code",
   "execution_count": 63,
   "id": "464fa231-ebe7-40a3-9041-6a97128f170a",
   "metadata": {},
   "outputs": [
    {
     "name": "stdout",
     "output_type": "stream",
     "text": [
      "[(0, 5), (1, 1), (5, 0), (3, 3), (3, 3), (3, 3), (3, 3), (3, 3), (3, 3), (3, 3), (3, 3), (3, 3), (3, 3), (3, 3), (3, 3), (3, 3), (3, 3), (3, 3), (3, 3), (3, 3)]\n",
      "Player 1 score = 57\n",
      "Player 2 score = 57\n"
     ]
    }
   ],
   "source": [
    "play(axl.TitForTat(), axl.HardProber());"
   ]
  },
  {
   "cell_type": "code",
   "execution_count": 50,
   "id": "09be710f-a8fe-44e3-b8ad-0ffd3478afa0",
   "metadata": {},
   "outputs": [],
   "source": [
    "# => continue the exploration on Stage 2"
   ]
  },
  {
   "cell_type": "code",
   "execution_count": null,
   "id": "0cb9e038-6e96-4bd0-ace8-42b08255e648",
   "metadata": {},
   "outputs": [],
   "source": []
  }
 ],
 "metadata": {
  "kernelspec": {
   "display_name": "Python 3 (ipykernel)",
   "language": "python",
   "name": "python3"
  },
  "language_info": {
   "codemirror_mode": {
    "name": "ipython",
    "version": 3
   },
   "file_extension": ".py",
   "mimetype": "text/x-python",
   "name": "python",
   "nbconvert_exporter": "python",
   "pygments_lexer": "ipython3",
   "version": "3.8.10"
  }
 },
 "nbformat": 4,
 "nbformat_minor": 5
}
