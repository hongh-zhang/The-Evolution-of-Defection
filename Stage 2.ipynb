{
 "cells": [
  {
   "cell_type": "code",
   "execution_count": 1,
   "id": "amazing-electricity",
   "metadata": {},
   "outputs": [],
   "source": [
    "import gc\n",
    "import dill\n",
    "import numpy as np\n",
    "import pandas as pd\n",
    "import axelrod as axl\n",
    "from time import time\n",
    "from pprint import pprint\n",
    "import matplotlib.pyplot as plt\n",
    "\n",
    "np.set_printoptions(precision=3)\n",
    "pd.options.display.float_format = \"{:,.2f}\".format\n",
    "\n",
    "# the following imports are from network / axl_utils folder\n",
    "import network\n",
    "from network.dqn import DQN\n",
    "from network.replay import ReplayMemory\n",
    "from axl_utils.nnplayer import NNplayer, State\n",
    "from axl_utils.game import *"
   ]
  },
  {
   "cell_type": "code",
   "execution_count": 2,
   "id": "phantom-inside",
   "metadata": {},
   "outputs": [],
   "source": [
    "C = axl.Action.C\n",
    "D = axl.Action.D\n",
    "\n",
    "# config game rules\n",
    "# doubled game length for some extra complexity\n",
    "GAME_LEN = 20 + 1\n",
    "GAME = axl.Game(r=3, s=0, t=5, p=1)\n",
    "Match = set_match(game=GAME, turns=GAME_LEN)\n",
    "play = set_play(Match)"
   ]
  },
  {
   "cell_type": "markdown",
   "id": "a52c8dfe-0bcc-41a3-a6e0-a682eda62389",
   "metadata": {
    "tags": []
   },
   "source": [
    "### this stage will use axl.tournament function to let our DQN play against multiple strategies\n",
    "\n",
    "Detailed documentation and more strategies can be found here: https://axelrod.readthedocs.io/en/stable/_modules/index.html"
   ]
  },
  {
   "cell_type": "code",
   "execution_count": 3,
   "id": "5ff6c86f-4076-48ff-af1f-16f73a8da301",
   "metadata": {},
   "outputs": [],
   "source": [
    "from axl_utils.tournament import Tournament"
   ]
  },
  {
   "cell_type": "code",
   "execution_count": 4,
   "id": "d14358c7-086c-478c-8910-8763d902b521",
   "metadata": {},
   "outputs": [
    {
     "name": "stderr",
     "output_type": "stream",
     "text": [
      "Playing matches: 100%|████████████████████████████████████████████████████████████████| 36/36 [00:00<00:00, 196.26it/s]\n",
      "Analysing: 100%|██████████████████████████████████████████████████████████████████████| 25/25 [00:00<00:00, 142.26it/s]\n"
     ]
    }
   ],
   "source": [
    "# to create a complex environment\n",
    "# I'm trying to encourage provocative defection     (against cooperative strategies)\n",
    "# and retaliative defection                         (against provocative)\n",
    "# while at the same time punish excessive defection (against retaliative)\n",
    "\n",
    "cooperative = (axl.Cooperator(), axl.TitFor2Tats())\n",
    "provocative = (axl.Prober(), axl.Prober4(), axl.RemorsefulProber())\n",
    "retaliative = (axl.TitForTat(), axl.Grudger(), axl.Punisher())\n",
    "noise       = ()  #(axl.Random(), axl.Alternator())\n",
    "\n",
    "players = [*cooperative, *provocative, *retaliative, *noise]\n",
    "tournament = Tournament(players, game=GAME, turns=GAME_LEN)\n",
    "results = tournament.play()"
   ]
  },
  {
   "cell_type": "code",
   "execution_count": 5,
   "id": "c813b9a9-6dec-4a09-9d82-b6154af2ef8d",
   "metadata": {},
   "outputs": [
    {
     "data": {
      "text/html": [
       "<div>\n",
       "<style scoped>\n",
       "    .dataframe tbody tr th:only-of-type {\n",
       "        vertical-align: middle;\n",
       "    }\n",
       "\n",
       "    .dataframe tbody tr th {\n",
       "        vertical-align: top;\n",
       "    }\n",
       "\n",
       "    .dataframe thead th {\n",
       "        text-align: right;\n",
       "    }\n",
       "</style>\n",
       "<table border=\"1\" class=\"dataframe\">\n",
       "  <thead>\n",
       "    <tr style=\"text-align: right;\">\n",
       "      <th></th>\n",
       "      <th>Rank</th>\n",
       "      <th>Name</th>\n",
       "      <th>Median_score</th>\n",
       "      <th>Cooperation_rating</th>\n",
       "      <th>Wins</th>\n",
       "      <th>Initial_C_rate</th>\n",
       "      <th>CC_rate</th>\n",
       "      <th>CD_rate</th>\n",
       "      <th>DC_rate</th>\n",
       "      <th>DD_rate</th>\n",
       "      <th>CC_to_C_rate</th>\n",
       "      <th>CD_to_C_rate</th>\n",
       "      <th>DC_to_C_rate</th>\n",
       "      <th>DD_to_C_rate</th>\n",
       "    </tr>\n",
       "  </thead>\n",
       "  <tbody>\n",
       "    <tr>\n",
       "      <th>0</th>\n",
       "      <td>0</td>\n",
       "      <td>Tit For Tat</td>\n",
       "      <td>2.82</td>\n",
       "      <td>0.88</td>\n",
       "      <td>0.00</td>\n",
       "      <td>1.00</td>\n",
       "      <td>0.78</td>\n",
       "      <td>0.10</td>\n",
       "      <td>0.09</td>\n",
       "      <td>0.03</td>\n",
       "      <td>1.00</td>\n",
       "      <td>0.00</td>\n",
       "      <td>1.00</td>\n",
       "      <td>0.00</td>\n",
       "    </tr>\n",
       "    <tr>\n",
       "      <th>1</th>\n",
       "      <td>1</td>\n",
       "      <td>Grudger</td>\n",
       "      <td>2.61</td>\n",
       "      <td>0.68</td>\n",
       "      <td>2.00</td>\n",
       "      <td>1.00</td>\n",
       "      <td>0.66</td>\n",
       "      <td>0.02</td>\n",
       "      <td>0.08</td>\n",
       "      <td>0.24</td>\n",
       "      <td>1.00</td>\n",
       "      <td>0.00</td>\n",
       "      <td>0.00</td>\n",
       "      <td>0.00</td>\n",
       "    </tr>\n",
       "    <tr>\n",
       "      <th>2</th>\n",
       "      <td>2</td>\n",
       "      <td>Remorseful Prober: 0.1</td>\n",
       "      <td>2.60</td>\n",
       "      <td>0.67</td>\n",
       "      <td>3.00</td>\n",
       "      <td>1.00</td>\n",
       "      <td>0.52</td>\n",
       "      <td>0.15</td>\n",
       "      <td>0.18</td>\n",
       "      <td>0.16</td>\n",
       "      <td>0.89</td>\n",
       "      <td>0.00</td>\n",
       "      <td>0.84</td>\n",
       "      <td>0.66</td>\n",
       "    </tr>\n",
       "    <tr>\n",
       "      <th>3</th>\n",
       "      <td>3</td>\n",
       "      <td>Punisher</td>\n",
       "      <td>2.56</td>\n",
       "      <td>0.67</td>\n",
       "      <td>2.00</td>\n",
       "      <td>1.00</td>\n",
       "      <td>0.65</td>\n",
       "      <td>0.02</td>\n",
       "      <td>0.08</td>\n",
       "      <td>0.26</td>\n",
       "      <td>1.00</td>\n",
       "      <td>0.00</td>\n",
       "      <td>0.00</td>\n",
       "      <td>0.00</td>\n",
       "    </tr>\n",
       "    <tr>\n",
       "      <th>4</th>\n",
       "      <td>4</td>\n",
       "      <td>Tit For 2 Tats</td>\n",
       "      <td>2.50</td>\n",
       "      <td>0.87</td>\n",
       "      <td>0.00</td>\n",
       "      <td>1.00</td>\n",
       "      <td>0.77</td>\n",
       "      <td>0.10</td>\n",
       "      <td>0.02</td>\n",
       "      <td>0.12</td>\n",
       "      <td>1.00</td>\n",
       "      <td>0.78</td>\n",
       "      <td>1.00</td>\n",
       "      <td>0.00</td>\n",
       "    </tr>\n",
       "    <tr>\n",
       "      <th>5</th>\n",
       "      <td>5</td>\n",
       "      <td>Prober 4</td>\n",
       "      <td>2.41</td>\n",
       "      <td>0.50</td>\n",
       "      <td>4.00</td>\n",
       "      <td>1.00</td>\n",
       "      <td>0.23</td>\n",
       "      <td>0.27</td>\n",
       "      <td>0.30</td>\n",
       "      <td>0.20</td>\n",
       "      <td>0.35</td>\n",
       "      <td>0.34</td>\n",
       "      <td>0.76</td>\n",
       "      <td>0.70</td>\n",
       "    </tr>\n",
       "    <tr>\n",
       "      <th>6</th>\n",
       "      <td>6</td>\n",
       "      <td>Prober</td>\n",
       "      <td>2.38</td>\n",
       "      <td>0.36</td>\n",
       "      <td>2.00</td>\n",
       "      <td>0.00</td>\n",
       "      <td>0.23</td>\n",
       "      <td>0.13</td>\n",
       "      <td>0.27</td>\n",
       "      <td>0.37</td>\n",
       "      <td>0.80</td>\n",
       "      <td>0.54</td>\n",
       "      <td>0.77</td>\n",
       "      <td>0.00</td>\n",
       "    </tr>\n",
       "    <tr>\n",
       "      <th>7</th>\n",
       "      <td>7</td>\n",
       "      <td>Cooperator</td>\n",
       "      <td>2.36</td>\n",
       "      <td>1.00</td>\n",
       "      <td>0.00</td>\n",
       "      <td>1.00</td>\n",
       "      <td>0.78</td>\n",
       "      <td>0.22</td>\n",
       "      <td>0.00</td>\n",
       "      <td>0.00</td>\n",
       "      <td>1.00</td>\n",
       "      <td>1.00</td>\n",
       "      <td>0.00</td>\n",
       "      <td>0.00</td>\n",
       "    </tr>\n",
       "  </tbody>\n",
       "</table>\n",
       "</div>"
      ],
      "text/plain": [
       "   Rank                    Name  Median_score  Cooperation_rating  Wins  \\\n",
       "0     0             Tit For Tat          2.82                0.88  0.00   \n",
       "1     1                 Grudger          2.61                0.68  2.00   \n",
       "2     2  Remorseful Prober: 0.1          2.60                0.67  3.00   \n",
       "3     3                Punisher          2.56                0.67  2.00   \n",
       "4     4          Tit For 2 Tats          2.50                0.87  0.00   \n",
       "5     5                Prober 4          2.41                0.50  4.00   \n",
       "6     6                  Prober          2.38                0.36  2.00   \n",
       "7     7              Cooperator          2.36                1.00  0.00   \n",
       "\n",
       "   Initial_C_rate  CC_rate  CD_rate  DC_rate  DD_rate  CC_to_C_rate  \\\n",
       "0            1.00     0.78     0.10     0.09     0.03          1.00   \n",
       "1            1.00     0.66     0.02     0.08     0.24          1.00   \n",
       "2            1.00     0.52     0.15     0.18     0.16          0.89   \n",
       "3            1.00     0.65     0.02     0.08     0.26          1.00   \n",
       "4            1.00     0.77     0.10     0.02     0.12          1.00   \n",
       "5            1.00     0.23     0.27     0.30     0.20          0.35   \n",
       "6            0.00     0.23     0.13     0.27     0.37          0.80   \n",
       "7            1.00     0.78     0.22     0.00     0.00          1.00   \n",
       "\n",
       "   CD_to_C_rate  DC_to_C_rate  DD_to_C_rate  \n",
       "0          0.00          1.00          0.00  \n",
       "1          0.00          0.00          0.00  \n",
       "2          0.00          0.84          0.66  \n",
       "3          0.00          0.00          0.00  \n",
       "4          0.78          1.00          0.00  \n",
       "5          0.34          0.76          0.70  \n",
       "6          0.54          0.77          0.00  \n",
       "7          1.00          0.00          0.00  "
      ]
     },
     "execution_count": 5,
     "metadata": {},
     "output_type": "execute_result"
    }
   ],
   "source": [
    "# tournament result\n",
    "# explanation of the elements can be found here: https://axelrod.readthedocs.io/en/stable/tutorials/advanced/tournament_results.html\n",
    "summary = results.summarise()\n",
    "headers = \"Rank,Name,Median_score,Cooperation_rating,Wins,Initial_C_rate,CC_rate,CD_rate,DC_rate,DD_rate,CC_to_C_rate,CD_to_C_rate,DC_to_C_rate,DD_to_C_rate\".split(',')\n",
    "pd.DataFrame(map(list, summary), columns=headers)\n",
    "\n",
    "# median score is based on normalized score, which represent the average return for each turn\n",
    "# e.g. if 2 player cooperates the whole game, this should be 3.00 for both"
   ]
  },
  {
   "cell_type": "code",
   "execution_count": 9,
   "id": "sunset-latex",
   "metadata": {},
   "outputs": [],
   "source": [
    "dqn = DQN([\n",
    "                    network.Flatten_layer(),\n",
    "                    network.Linear_layer(GAME_LEN*2, 300),\n",
    "                    network.Activation_layer('ReLU'),\n",
    "                    network.Linear_layer(300, 150),\n",
    "                    network.Activation_layer('ReLU'),\n",
    "                    network.Linear_layer(150, 80),\n",
    "                    network.Activation_layer('ReLU'),\n",
    "                    network.Linear_layer(80, 40),\n",
    "                    network.Activation_layer('ReLU'),\n",
    "                    network.Linear_layer(40, 2),\n",
    "                    ],\n",
    "            ReplayMemory(8000), gamma=0.9, greedy=0.2)\n",
    "p1 = NNplayer(dqn, State(GAME_LEN))\n",
    "del dqn\n",
    "gc.collect()\n",
    "\n",
    "param = {\"lr\": 1e-4, 'batch': 32, \"momentum\": 0.9, \"mode\": \"train\", \"eps\": 1e-16, \"beta\":(0.9, 0.999), \n",
    "         \"epoch\": 0, 'optimizer': 'adam', 't': 1, 'clip': 1.0, 'regularizer': ('l2', 1e-3), \"loss_fn\":\"mse\"}"
   ]
  },
  {
   "cell_type": "code",
   "execution_count": 10,
   "id": "247d058f-6b3e-4c79-aee2-22d2f32c7f7c",
   "metadata": {},
   "outputs": [],
   "source": [
    "from random import shuffle     \n",
    "\n",
    "def train_against(trainee, trainers, iterations=40):\n",
    "    shuffle(trainers)\n",
    "    for trainer in trainers:\n",
    "        for _  in range(iterations):\n",
    "            play(trainee, trainer, show=False)"
   ]
  },
  {
   "cell_type": "code",
   "execution_count": 11,
   "id": "1a91685e-ebba-4dd3-95a8-5d61d76f9513",
   "metadata": {},
   "outputs": [
    {
     "data": {
      "text/plain": [
       "6720"
      ]
     },
     "execution_count": 11,
     "metadata": {},
     "output_type": "execute_result"
    }
   ],
   "source": [
    "train_against(p1, players)\n",
    "len(p1.network.memory)      # 21(turns) * 10(# of players) * 40(iterations)"
   ]
  },
  {
   "cell_type": "code",
   "execution_count": null,
   "id": "d31930ce-764e-4bd5-84dc-64d5e19d26ac",
   "metadata": {},
   "outputs": [],
   "source": [
    "# train loop as usual\n",
    "for _ in range(10):\n",
    "    start = time()\n",
    "    p1.train(30, param)\n",
    "    \n",
    "    train_against(p1, players)\n",
    "    \n",
    "    print(f'loss: {p1.network.loss},            time: +{time()-start:.2f} sec')"
   ]
  },
  {
   "cell_type": "code",
   "execution_count": null,
   "id": "7ed5c152-337e-4687-b40c-27f7a1300240",
   "metadata": {},
   "outputs": [],
   "source": [
    "p1.plot()\n",
    "# but it seems our policy net didn't get enough training before the target net is updated\n",
    "# causing the divergence we've seen in stage 1 section 2\n",
    "\n",
    "# evident by the cyclic, overall upward trend in loss:"
   ]
  },
  {
   "cell_type": "code",
   "execution_count": 12,
   "id": "483e53a0-f6d0-4dd8-befe-182443e889f6",
   "metadata": {},
   "outputs": [
    {
     "name": "stdout",
     "output_type": "stream",
     "text": [
      "Network reinitialized.\n"
     ]
    }
   ],
   "source": [
    "p1.network.reset()\n",
    "param = {\"lr\": 7e-5, 'batch': 32, \"momentum\": 0.9, \"mode\": \"train\", \"eps\": 1e-16, \"beta\":(0.9, 0.999), \n",
    "         \"epoch\": 0, 'optimizer': 'adam', 't': 1, 'clip': 1.0, 'regularizer': ('l2', 1e-3), \"loss_fn\":\"mse\"}"
   ]
  },
  {
   "cell_type": "code",
   "execution_count": null,
   "id": "a599b314-66d5-41f4-ba9c-7df60fea20ea",
   "metadata": {
    "scrolled": true,
    "tags": []
   },
   "outputs": [
    {
     "name": "stdout",
     "output_type": "stream",
     "text": [
      "terminated at 87 epochs\n",
      "loss: [0.288 0.318],            time: +109.86 sec\n"
     ]
    },
    {
     "name": "stderr",
     "output_type": "stream",
     "text": [
      "Playing matches: 100%|████████████████████████████████████████████████████████████████| 45/45 [00:00<00:00, 134.33it/s]\n",
      "Analysing: 100%|██████████████████████████████████████████████████████████████████████| 25/25 [00:00<00:00, 142.86it/s]\n"
     ]
    },
    {
     "name": "stdout",
     "output_type": "stream",
     "text": [
      "terminated at 84 epochs\n",
      "loss: [0.195 0.293],            time: +114.98 sec\n"
     ]
    }
   ],
   "source": [
    "# time to take a nap\n",
    "ls = []\n",
    "loss_ls = []\n",
    "for i in range(80):\n",
    "    \n",
    "    start = time()\n",
    "    p1.train(250, param, loss_targ=0.03)\n",
    "    \n",
    "    train_against(p1, players)\n",
    "    \n",
    "    print(f'loss: {p1.network.loss},            time: +{time()-start:.2f} sec')\n",
    "    \n",
    "    # test DQN in tournament\n",
    "    if i % 2 == 0:\n",
    "        loss_ls.append(np.sum(p1.network.loss))\n",
    "        with p1:\n",
    "            p1.network.verbosity = False\n",
    "            tournament = Tournament([p1, *players], game=GAME, turns=GAME_LEN)\n",
    "            results = tournament.play()\n",
    "            summary = results.summarise()\n",
    "            ls.append(pd.DataFrame(map(list, summary), columns=headers))\n",
    "               \n",
    "        # backing up\n",
    "        with open('data/s2/tn_results.pkl', \"wb\") as file:\n",
    "            dill.dump(ls, file)\n",
    "\n",
    "        with open(f'data/s2/p1_{i}.pkl', \"wb\") as file:\n",
    "            dill.dump(p1, file)"
   ]
  },
  {
   "cell_type": "code",
   "execution_count": null,
   "id": "94cee15d-d71a-4918-a456-63f914fc258a",
   "metadata": {},
   "outputs": [],
   "source": [
    "p1.plot()"
   ]
  },
  {
   "cell_type": "code",
   "execution_count": null,
   "id": "eba288d3-915f-40a7-810b-4bce47c9f6a1",
   "metadata": {},
   "outputs": [],
   "source": [
    "p1.plot(min_ran=500, max_ran=800)"
   ]
  },
  {
   "cell_type": "code",
   "execution_count": null,
   "id": "c2cf0dc5-415e-484e-9228-4ff18e2e96bc",
   "metadata": {},
   "outputs": [],
   "source": [
    "with p1:\n",
    "    play(p1, axl.RemorsefulProber())"
   ]
  },
  {
   "cell_type": "code",
   "execution_count": null,
   "id": "336a5cea",
   "metadata": {},
   "outputs": [],
   "source": [
    "[x.set_index('Name', inplace=True) for x in ls];"
   ]
  },
  {
   "cell_type": "code",
   "execution_count": null,
   "id": "7cbd86be-d01e-4446-b8dc-a49006cd9970",
   "metadata": {},
   "outputs": [],
   "source": [
    "ls[2]"
   ]
  },
  {
   "cell_type": "code",
   "execution_count": null,
   "id": "c139d40c-59ec-41fe-be0a-001fb953753d",
   "metadata": {},
   "outputs": [],
   "source": [
    "things = ['Rank', 'Median_score', 'Cooperation_rating', 'Initial_C_rate', 'CC_to_C_rate', 'CD_to_C_rate']\n",
    "pd.DataFrame([[l.loc['NNplayer',t] for t in things] for l in ls], columns=things)"
   ]
  },
  {
   "cell_type": "code",
   "execution_count": null,
   "id": "39fd0d9a",
   "metadata": {},
   "outputs": [],
   "source": []
  }
 ],
 "metadata": {
  "kernelspec": {
   "display_name": "Python 3 (ipykernel)",
   "language": "python",
   "name": "python3"
  },
  "language_info": {
   "codemirror_mode": {
    "name": "ipython",
    "version": 3
   },
   "file_extension": ".py",
   "mimetype": "text/x-python",
   "name": "python",
   "nbconvert_exporter": "python",
   "pygments_lexer": "ipython3",
   "version": "3.8.10"
  }
 },
 "nbformat": 4,
 "nbformat_minor": 5
}
