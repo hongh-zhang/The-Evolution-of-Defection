{
 "cells": [
  {
   "cell_type": "code",
   "execution_count": 1,
   "id": "amazing-electricity",
   "metadata": {},
   "outputs": [],
   "source": [
    "import gc\n",
    "import dill\n",
    "import numpy as np\n",
    "import pandas as pd\n",
    "import axelrod as axl\n",
    "from time import time\n",
    "from pprint import pprint\n",
    "import matplotlib.pyplot as plt\n",
    "\n",
    "np.set_printoptions(precision=3)\n",
    "pd.options.display.float_format = \"{:,.2f}\".format\n",
    "\n",
    "# the following imports are from network / axl_utils folder\n",
    "import network\n",
    "from axl_utils.nnplayer import NNplayer, State\n",
    "from axl_utils.game import *"
   ]
  },
  {
   "cell_type": "code",
   "execution_count": 2,
   "id": "phantom-inside",
   "metadata": {},
   "outputs": [],
   "source": [
    "C = axl.Action.C\n",
    "D = axl.Action.D\n",
    "\n",
    "# config game rules\n",
    "# doubled game length for some extra complexity\n",
    "GAME_LEN = 20 + 1\n",
    "GAME = axl.Game(r=3, s=0, t=5, p=1)\n",
    "Match = set_match(game=GAME, turns=GAME_LEN)\n",
    "play = set_play(Match)"
   ]
  },
  {
   "cell_type": "code",
   "execution_count": 3,
   "id": "5ff6c86f-4076-48ff-af1f-16f73a8da301",
   "metadata": {},
   "outputs": [],
   "source": [
    "# import my modified tournament\n",
    "# which ignores the interaction in last turn\n",
    "from axl_utils.tournament import Tournament"
   ]
  },
  {
   "cell_type": "markdown",
   "id": "f45b2d4e-59df-4ebf-a22e-57e25cde45d3",
   "metadata": {
    "tags": []
   },
   "source": [
    "### this stage will use axl.tournament function to train DQN play against multiple strategies"
   ]
  },
  {
   "cell_type": "code",
   "execution_count": 4,
   "id": "79973df8-ec73-4f38-8273-fbb71c6fd4f7",
   "metadata": {},
   "outputs": [
    {
     "name": "stderr",
     "output_type": "stream",
     "text": [
      "Playing matches: 100%|██████████████████████████████████████████████████████████████████| 3/3 [00:00<00:00, 299.89it/s]\n",
      "Analysing: 100%|██████████████████████████████████████████████████████████████████████| 25/25 [00:00<00:00, 108.22it/s]\n"
     ]
    }
   ],
   "source": [
    "tournament = Tournament([axl.Defector(), axl.Cooperator()], game=GAME, turns=GAME_LEN)\n",
    "results = tournament.play()"
   ]
  },
  {
   "cell_type": "code",
   "execution_count": 5,
   "id": "c813b9a9-6dec-4a09-9d82-b6154af2ef8d",
   "metadata": {},
   "outputs": [
    {
     "data": {
      "text/html": [
       "<div>\n",
       "<style scoped>\n",
       "    .dataframe tbody tr th:only-of-type {\n",
       "        vertical-align: middle;\n",
       "    }\n",
       "\n",
       "    .dataframe tbody tr th {\n",
       "        vertical-align: top;\n",
       "    }\n",
       "\n",
       "    .dataframe thead th {\n",
       "        text-align: right;\n",
       "    }\n",
       "</style>\n",
       "<table border=\"1\" class=\"dataframe\">\n",
       "  <thead>\n",
       "    <tr style=\"text-align: right;\">\n",
       "      <th></th>\n",
       "      <th>Rank</th>\n",
       "      <th>Name</th>\n",
       "      <th>Median_score</th>\n",
       "      <th>Cooperation_rating</th>\n",
       "      <th>Wins</th>\n",
       "      <th>Initial_C_rate</th>\n",
       "      <th>CC_rate</th>\n",
       "      <th>CD_rate</th>\n",
       "      <th>DC_rate</th>\n",
       "      <th>DD_rate</th>\n",
       "      <th>CC_to_C_rate</th>\n",
       "      <th>CD_to_C_rate</th>\n",
       "      <th>DC_to_C_rate</th>\n",
       "      <th>DD_to_C_rate</th>\n",
       "    </tr>\n",
       "  </thead>\n",
       "  <tbody>\n",
       "    <tr>\n",
       "      <th>0</th>\n",
       "      <td>0</td>\n",
       "      <td>Defector</td>\n",
       "      <td>5.00</td>\n",
       "      <td>0.00</td>\n",
       "      <td>1.00</td>\n",
       "      <td>0.00</td>\n",
       "      <td>0.00</td>\n",
       "      <td>0.00</td>\n",
       "      <td>1.00</td>\n",
       "      <td>0.00</td>\n",
       "      <td>0</td>\n",
       "      <td>0.00</td>\n",
       "      <td>0</td>\n",
       "      <td>0</td>\n",
       "    </tr>\n",
       "    <tr>\n",
       "      <th>1</th>\n",
       "      <td>1</td>\n",
       "      <td>Cooperator</td>\n",
       "      <td>0.00</td>\n",
       "      <td>1.00</td>\n",
       "      <td>0.00</td>\n",
       "      <td>1.00</td>\n",
       "      <td>0.00</td>\n",
       "      <td>1.00</td>\n",
       "      <td>0.00</td>\n",
       "      <td>0.00</td>\n",
       "      <td>0</td>\n",
       "      <td>1.00</td>\n",
       "      <td>0</td>\n",
       "      <td>0</td>\n",
       "    </tr>\n",
       "  </tbody>\n",
       "</table>\n",
       "</div>"
      ],
      "text/plain": [
       "   Rank        Name  Median_score  Cooperation_rating  Wins  Initial_C_rate  \\\n",
       "0     0    Defector          5.00                0.00  1.00            0.00   \n",
       "1     1  Cooperator          0.00                1.00  0.00            1.00   \n",
       "\n",
       "   CC_rate  CD_rate  DC_rate  DD_rate  CC_to_C_rate  CD_to_C_rate  \\\n",
       "0     0.00     0.00     1.00     0.00             0          0.00   \n",
       "1     0.00     1.00     0.00     0.00             0          1.00   \n",
       "\n",
       "   DC_to_C_rate  DD_to_C_rate  \n",
       "0             0             0  \n",
       "1             0             0  "
      ]
     },
     "execution_count": 5,
     "metadata": {},
     "output_type": "execute_result"
    }
   ],
   "source": [
    "# example tournament result\n",
    "# explanation of the elements can be found here: https://axelrod.readthedocs.io/en/stable/tutorials/advanced/tournament_results.html\n",
    "summary = results.summarise()\n",
    "headers = \"Rank,Name,Median_score,Cooperation_rating,Wins,Initial_C_rate,CC_rate,CD_rate,DC_rate,DD_rate,CC_to_C_rate,CD_to_C_rate,DC_to_C_rate,DD_to_C_rate\".split(',')\n",
    "pd.DataFrame(map(list, summary), columns=headers)\n",
    "\n",
    "# median score is based on normalized score, which represent the average return for each turn\n",
    "# e.g. if 2 player cooperates the whole game, this should be 3.00 for both"
   ]
  },
  {
   "cell_type": "code",
   "execution_count": 6,
   "id": "d14358c7-086c-478c-8910-8763d902b521",
   "metadata": {},
   "outputs": [
    {
     "name": "stderr",
     "output_type": "stream",
     "text": [
      "Playing matches: 100%|████████████████████████████████████████████████████████████████| 36/36 [00:00<00:00, 155.85it/s]\n",
      "Analysing: 100%|██████████████████████████████████████████████████████████████████████| 25/25 [00:00<00:00, 109.18it/s]\n"
     ]
    },
    {
     "data": {
      "text/html": [
       "<div>\n",
       "<style scoped>\n",
       "    .dataframe tbody tr th:only-of-type {\n",
       "        vertical-align: middle;\n",
       "    }\n",
       "\n",
       "    .dataframe tbody tr th {\n",
       "        vertical-align: top;\n",
       "    }\n",
       "\n",
       "    .dataframe thead th {\n",
       "        text-align: right;\n",
       "    }\n",
       "</style>\n",
       "<table border=\"1\" class=\"dataframe\">\n",
       "  <thead>\n",
       "    <tr style=\"text-align: right;\">\n",
       "      <th></th>\n",
       "      <th>Rank</th>\n",
       "      <th>Name</th>\n",
       "      <th>Median_score</th>\n",
       "      <th>Cooperation_rating</th>\n",
       "      <th>Wins</th>\n",
       "      <th>Initial_C_rate</th>\n",
       "      <th>CC_rate</th>\n",
       "      <th>CD_rate</th>\n",
       "      <th>DC_rate</th>\n",
       "      <th>DD_rate</th>\n",
       "      <th>CC_to_C_rate</th>\n",
       "      <th>CD_to_C_rate</th>\n",
       "      <th>DC_to_C_rate</th>\n",
       "      <th>DD_to_C_rate</th>\n",
       "    </tr>\n",
       "  </thead>\n",
       "  <tbody>\n",
       "    <tr>\n",
       "      <th>0</th>\n",
       "      <td>0</td>\n",
       "      <td>Tit For Tat</td>\n",
       "      <td>2.83</td>\n",
       "      <td>0.90</td>\n",
       "      <td>0.00</td>\n",
       "      <td>1.00</td>\n",
       "      <td>0.80</td>\n",
       "      <td>0.09</td>\n",
       "      <td>0.08</td>\n",
       "      <td>0.02</td>\n",
       "      <td>1.00</td>\n",
       "      <td>0.00</td>\n",
       "      <td>1.00</td>\n",
       "      <td>0.00</td>\n",
       "    </tr>\n",
       "    <tr>\n",
       "      <th>1</th>\n",
       "      <td>1</td>\n",
       "      <td>Remorseful Prober: 0.1</td>\n",
       "      <td>2.64</td>\n",
       "      <td>0.69</td>\n",
       "      <td>3.00</td>\n",
       "      <td>1.00</td>\n",
       "      <td>0.56</td>\n",
       "      <td>0.13</td>\n",
       "      <td>0.15</td>\n",
       "      <td>0.16</td>\n",
       "      <td>0.91</td>\n",
       "      <td>0.00</td>\n",
       "      <td>0.91</td>\n",
       "      <td>0.80</td>\n",
       "    </tr>\n",
       "    <tr>\n",
       "      <th>2</th>\n",
       "      <td>2</td>\n",
       "      <td>Grudger</td>\n",
       "      <td>2.61</td>\n",
       "      <td>0.68</td>\n",
       "      <td>2.00</td>\n",
       "      <td>1.00</td>\n",
       "      <td>0.66</td>\n",
       "      <td>0.02</td>\n",
       "      <td>0.08</td>\n",
       "      <td>0.24</td>\n",
       "      <td>1.00</td>\n",
       "      <td>0.00</td>\n",
       "      <td>0.00</td>\n",
       "      <td>0.00</td>\n",
       "    </tr>\n",
       "    <tr>\n",
       "      <th>3</th>\n",
       "      <td>3</td>\n",
       "      <td>Punisher</td>\n",
       "      <td>2.56</td>\n",
       "      <td>0.66</td>\n",
       "      <td>2.00</td>\n",
       "      <td>1.00</td>\n",
       "      <td>0.64</td>\n",
       "      <td>0.02</td>\n",
       "      <td>0.08</td>\n",
       "      <td>0.26</td>\n",
       "      <td>1.00</td>\n",
       "      <td>0.00</td>\n",
       "      <td>0.00</td>\n",
       "      <td>0.00</td>\n",
       "    </tr>\n",
       "    <tr>\n",
       "      <th>4</th>\n",
       "      <td>4</td>\n",
       "      <td>Tit For 2 Tats</td>\n",
       "      <td>2.50</td>\n",
       "      <td>0.87</td>\n",
       "      <td>0.00</td>\n",
       "      <td>1.00</td>\n",
       "      <td>0.77</td>\n",
       "      <td>0.10</td>\n",
       "      <td>0.02</td>\n",
       "      <td>0.12</td>\n",
       "      <td>1.00</td>\n",
       "      <td>0.79</td>\n",
       "      <td>1.00</td>\n",
       "      <td>0.00</td>\n",
       "    </tr>\n",
       "    <tr>\n",
       "      <th>5</th>\n",
       "      <td>5</td>\n",
       "      <td>Prober 4</td>\n",
       "      <td>2.40</td>\n",
       "      <td>0.50</td>\n",
       "      <td>4.00</td>\n",
       "      <td>1.00</td>\n",
       "      <td>0.24</td>\n",
       "      <td>0.26</td>\n",
       "      <td>0.30</td>\n",
       "      <td>0.20</td>\n",
       "      <td>0.34</td>\n",
       "      <td>0.35</td>\n",
       "      <td>0.76</td>\n",
       "      <td>0.70</td>\n",
       "    </tr>\n",
       "    <tr>\n",
       "      <th>6</th>\n",
       "      <td>6</td>\n",
       "      <td>Prober</td>\n",
       "      <td>2.39</td>\n",
       "      <td>0.37</td>\n",
       "      <td>2.00</td>\n",
       "      <td>0.00</td>\n",
       "      <td>0.25</td>\n",
       "      <td>0.12</td>\n",
       "      <td>0.26</td>\n",
       "      <td>0.37</td>\n",
       "      <td>0.80</td>\n",
       "      <td>0.55</td>\n",
       "      <td>0.77</td>\n",
       "      <td>0.00</td>\n",
       "    </tr>\n",
       "    <tr>\n",
       "      <th>7</th>\n",
       "      <td>7</td>\n",
       "      <td>Cooperator</td>\n",
       "      <td>2.37</td>\n",
       "      <td>1.00</td>\n",
       "      <td>0.00</td>\n",
       "      <td>1.00</td>\n",
       "      <td>0.79</td>\n",
       "      <td>0.21</td>\n",
       "      <td>0.00</td>\n",
       "      <td>0.00</td>\n",
       "      <td>1.00</td>\n",
       "      <td>1.00</td>\n",
       "      <td>0.00</td>\n",
       "      <td>0.00</td>\n",
       "    </tr>\n",
       "  </tbody>\n",
       "</table>\n",
       "</div>"
      ],
      "text/plain": [
       "   Rank                    Name  Median_score  Cooperation_rating  Wins  \\\n",
       "0     0             Tit For Tat          2.83                0.90  0.00   \n",
       "1     1  Remorseful Prober: 0.1          2.64                0.69  3.00   \n",
       "2     2                 Grudger          2.61                0.68  2.00   \n",
       "3     3                Punisher          2.56                0.66  2.00   \n",
       "4     4          Tit For 2 Tats          2.50                0.87  0.00   \n",
       "5     5                Prober 4          2.40                0.50  4.00   \n",
       "6     6                  Prober          2.39                0.37  2.00   \n",
       "7     7              Cooperator          2.37                1.00  0.00   \n",
       "\n",
       "   Initial_C_rate  CC_rate  CD_rate  DC_rate  DD_rate  CC_to_C_rate  \\\n",
       "0            1.00     0.80     0.09     0.08     0.02          1.00   \n",
       "1            1.00     0.56     0.13     0.15     0.16          0.91   \n",
       "2            1.00     0.66     0.02     0.08     0.24          1.00   \n",
       "3            1.00     0.64     0.02     0.08     0.26          1.00   \n",
       "4            1.00     0.77     0.10     0.02     0.12          1.00   \n",
       "5            1.00     0.24     0.26     0.30     0.20          0.34   \n",
       "6            0.00     0.25     0.12     0.26     0.37          0.80   \n",
       "7            1.00     0.79     0.21     0.00     0.00          1.00   \n",
       "\n",
       "   CD_to_C_rate  DC_to_C_rate  DD_to_C_rate  \n",
       "0          0.00          1.00          0.00  \n",
       "1          0.00          0.91          0.80  \n",
       "2          0.00          0.00          0.00  \n",
       "3          0.00          0.00          0.00  \n",
       "4          0.79          1.00          0.00  \n",
       "5          0.35          0.76          0.70  \n",
       "6          0.55          0.77          0.00  \n",
       "7          1.00          0.00          0.00  "
      ]
     },
     "execution_count": 6,
     "metadata": {},
     "output_type": "execute_result"
    }
   ],
   "source": [
    "# this is the environment we'll be using\n",
    "\n",
    "# I'm trying to encourage provocative defection     (against cooperative)\n",
    "# and retaliative defection                         (against provocative)\n",
    "# while at the same time punish excessive defection (against retaliative)\n",
    "\n",
    "\n",
    "# documentation of the strategies can be found here\n",
    "# https://axelrod.readthedocs.io/en/stable/_modules/index.html\n",
    "\n",
    "cooperative = (axl.Cooperator(), axl.TitFor2Tats())\n",
    "provocative = (axl.Prober(), axl.Prober4(), axl.RemorsefulProber())\n",
    "retaliative = (axl.TitForTat(), axl.Grudger(), axl.Punisher())\n",
    "noise       = ()  #(axl.Random(), axl.Alternator())\n",
    "\n",
    "players = [*cooperative, *provocative, *retaliative, *noise]\n",
    "tournament = Tournament(players, game=GAME, turns=GAME_LEN)\n",
    "results = tournament.play()\n",
    "\n",
    "summary = results.summarise()\n",
    "pd.DataFrame(map(list, summary), columns=headers)"
   ]
  },
  {
   "cell_type": "code",
   "execution_count": 7,
   "id": "sunset-latex",
   "metadata": {},
   "outputs": [],
   "source": [
    "# DQN as usual\n",
    "# + a bit more complex architecture\n",
    "dqn = network.DQN([\n",
    "                    network.Flatten_layer(),\n",
    "                    network.Linear_layer(GAME_LEN*2, 300),\n",
    "                    network.Activation_layer('ReLU'),\n",
    "                    network.Linear_layer(300, 150),\n",
    "                    network.Activation_layer('ReLU'),\n",
    "                    network.Linear_layer(150, 80),\n",
    "                    network.Activation_layer('ReLU'),\n",
    "                    network.Linear_layer(80, 40),\n",
    "                    network.Activation_layer('ReLU'),\n",
    "                    network.Linear_layer(40, 2),\n",
    "                    ],\n",
    "            network.ReplayMemory(8000), gamma=0.9, greedy=0.2)\n",
    "p1 = NNplayer(dqn, State(GAME_LEN))\n",
    "del dqn\n",
    "gc.collect()\n",
    "\n",
    "param = {\"lr\": 3e-6, 'batch': 128, \"mode\": \"train\", \"eps\": 1e-16, \"epoch\": 0, 't': 1, 'clip': 1.0,\n",
    "         'optimizer': ('Adam', 0.9, 0.999), 'regularizer': ('l2', 1e-2), \"loss_fn\":\"mse\"}"
   ]
  },
  {
   "cell_type": "code",
   "execution_count": 8,
   "id": "247d058f-6b3e-4c79-aee2-22d2f32c7f7c",
   "metadata": {},
   "outputs": [],
   "source": [
    "from random import shuffle     \n",
    "\n",
    "# function to match the DQN against a list of opponents\n",
    "def train_against(player, opponents, iterations=40):\n",
    "    for _  in range(iterations):\n",
    "        shuffle(opponents)\n",
    "        for opponent in opponents:\n",
    "            play(player, opponent, show=False)"
   ]
  },
  {
   "cell_type": "code",
   "execution_count": 9,
   "id": "1a91685e-ebba-4dd3-95a8-5d61d76f9513",
   "metadata": {},
   "outputs": [
    {
     "data": {
      "text/plain": [
       "6720"
      ]
     },
     "execution_count": 9,
     "metadata": {},
     "output_type": "execute_result"
    }
   ],
   "source": [
    "train_against(p1, players)\n",
    "len(p1.network.memory)      # 21(turns) * 8(# of opponents) * 40(iterations)"
   ]
  },
  {
   "cell_type": "markdown",
   "id": "c69b3528-cee3-4558-8f14-b1d0c81908b6",
   "metadata": {},
   "source": [
    "## Training loop\n",
    "**takes ~ 4 hours to run**"
   ]
  },
  {
   "cell_type": "code",
   "execution_count": 10,
   "id": "a599b314-66d5-41f4-ba9c-7df60fea20ea",
   "metadata": {
    "scrolled": true,
    "tags": []
   },
   "outputs": [
    {
     "name": "stdout",
     "output_type": "stream",
     "text": [
      "loss: [0.592 0.866],            time: +127.34 sec\n"
     ]
    },
    {
     "name": "stderr",
     "output_type": "stream",
     "text": [
      "Playing matches: 100%|████████████████████████████████████████████████████████████████| 45/45 [00:00<00:00, 135.95it/s]\n",
      "Analysing: 100%|██████████████████████████████████████████████████████████████████████| 25/25 [00:00<00:00, 128.84it/s]\n"
     ]
    },
    {
     "name": "stdout",
     "output_type": "stream",
     "text": [
      "Rank           8.00\n",
      "Median_score   1.99\n",
      "Name: DQN, dtype: float64\n",
      "loss: [0.6   0.804],            time: +145.19 sec\n",
      "loss: [0.677 1.002],            time: +146.32 sec\n"
     ]
    },
    {
     "name": "stderr",
     "output_type": "stream",
     "text": [
      "Playing matches: 100%|█████████████████████████████████████████████████████████████████| 45/45 [00:00<00:00, 84.16it/s]\n",
      "Analysing: 100%|███████████████████████████████████████████████████████████████████████| 25/25 [00:00<00:00, 98.80it/s]\n"
     ]
    },
    {
     "name": "stdout",
     "output_type": "stream",
     "text": [
      "Rank           7.00\n",
      "Median_score   2.25\n",
      "Name: DQN, dtype: float64\n",
      "loss: [0.777 1.   ],            time: +131.05 sec\n",
      "loss: [0.818 0.805],            time: +115.55 sec\n"
     ]
    },
    {
     "name": "stderr",
     "output_type": "stream",
     "text": [
      "Playing matches: 100%|████████████████████████████████████████████████████████████████| 45/45 [00:00<00:00, 136.15it/s]\n",
      "Analysing: 100%|██████████████████████████████████████████████████████████████████████| 25/25 [00:00<00:00, 156.18it/s]\n"
     ]
    },
    {
     "name": "stdout",
     "output_type": "stream",
     "text": [
      "Rank           6.00\n",
      "Median_score   2.38\n",
      "Name: DQN, dtype: float64\n",
      "loss: [0.826 0.954],            time: +116.26 sec\n",
      "loss: [0.677 1.104],            time: +110.24 sec\n"
     ]
    },
    {
     "name": "stderr",
     "output_type": "stream",
     "text": [
      "Playing matches: 100%|████████████████████████████████████████████████████████████████| 45/45 [00:00<00:00, 141.49it/s]\n",
      "Analysing: 100%|██████████████████████████████████████████████████████████████████████| 25/25 [00:00<00:00, 161.26it/s]\n"
     ]
    },
    {
     "name": "stdout",
     "output_type": "stream",
     "text": [
      "Rank           4.00\n",
      "Median_score   2.43\n",
      "Name: DQN, dtype: float64\n",
      "loss: [1.331 0.836],            time: +109.70 sec\n",
      "loss: [1.109 1.127],            time: +111.54 sec\n"
     ]
    },
    {
     "name": "stderr",
     "output_type": "stream",
     "text": [
      "Playing matches: 100%|████████████████████████████████████████████████████████████████| 45/45 [00:00<00:00, 129.67it/s]\n",
      "Analysing: 100%|██████████████████████████████████████████████████████████████████████| 25/25 [00:00<00:00, 153.33it/s]\n"
     ]
    },
    {
     "name": "stdout",
     "output_type": "stream",
     "text": [
      "Rank           2.00\n",
      "Median_score   2.56\n",
      "Name: DQN, dtype: float64\n",
      "loss: [0.865 0.949],            time: +110.41 sec\n",
      "loss: [1.105 0.914],            time: +111.97 sec\n"
     ]
    },
    {
     "name": "stderr",
     "output_type": "stream",
     "text": [
      "Playing matches: 100%|████████████████████████████████████████████████████████████████| 45/45 [00:00<00:00, 139.94it/s]\n",
      "Analysing: 100%|██████████████████████████████████████████████████████████████████████| 25/25 [00:00<00:00, 152.44it/s]\n"
     ]
    },
    {
     "name": "stdout",
     "output_type": "stream",
     "text": [
      "Rank           5.00\n",
      "Median_score   2.42\n",
      "Name: DQN, dtype: float64\n",
      "loss: [1.234 1.003],            time: +112.90 sec\n",
      "loss: [1.371 0.844],            time: +109.61 sec\n"
     ]
    },
    {
     "name": "stderr",
     "output_type": "stream",
     "text": [
      "Playing matches: 100%|████████████████████████████████████████████████████████████████| 45/45 [00:00<00:00, 141.06it/s]\n",
      "Analysing: 100%|██████████████████████████████████████████████████████████████████████| 25/25 [00:00<00:00, 150.60it/s]\n"
     ]
    },
    {
     "name": "stdout",
     "output_type": "stream",
     "text": [
      "Rank           5.00\n",
      "Median_score   2.33\n",
      "Name: DQN, dtype: float64\n",
      "loss: [0.911 1.149],            time: +115.92 sec\n",
      "loss: [0.925 1.275],            time: +110.16 sec\n"
     ]
    },
    {
     "name": "stderr",
     "output_type": "stream",
     "text": [
      "Playing matches: 100%|████████████████████████████████████████████████████████████████| 45/45 [00:00<00:00, 138.89it/s]\n",
      "Analysing: 100%|██████████████████████████████████████████████████████████████████████| 25/25 [00:00<00:00, 130.91it/s]\n"
     ]
    },
    {
     "name": "stdout",
     "output_type": "stream",
     "text": [
      "Rank           7.00\n",
      "Median_score   2.33\n",
      "Name: DQN, dtype: float64\n",
      "loss: [0.987 1.099],            time: +112.32 sec\n",
      "loss: [0.971 1.323],            time: +110.42 sec\n"
     ]
    },
    {
     "name": "stderr",
     "output_type": "stream",
     "text": [
      "Playing matches: 100%|████████████████████████████████████████████████████████████████| 45/45 [00:00<00:00, 145.16it/s]\n",
      "Analysing: 100%|██████████████████████████████████████████████████████████████████████| 25/25 [00:00<00:00, 158.23it/s]\n"
     ]
    },
    {
     "name": "stdout",
     "output_type": "stream",
     "text": [
      "Rank           1.00\n",
      "Median_score   2.57\n",
      "Name: DQN, dtype: float64\n",
      "loss: [0.837 1.279],            time: +110.34 sec\n",
      "loss: [1.342 1.108],            time: +109.92 sec\n"
     ]
    },
    {
     "name": "stderr",
     "output_type": "stream",
     "text": [
      "Playing matches: 100%|████████████████████████████████████████████████████████████████| 45/45 [00:00<00:00, 139.91it/s]\n",
      "Analysing: 100%|██████████████████████████████████████████████████████████████████████| 25/25 [00:00<00:00, 168.91it/s]\n"
     ]
    },
    {
     "name": "stdout",
     "output_type": "stream",
     "text": [
      "Rank           1.00\n",
      "Median_score   2.64\n",
      "Name: DQN, dtype: float64\n",
      "loss: [0.9   1.504],            time: +111.06 sec\n",
      "loss: [0.857 1.574],            time: +108.71 sec\n"
     ]
    },
    {
     "name": "stderr",
     "output_type": "stream",
     "text": [
      "Playing matches: 100%|████████████████████████████████████████████████████████████████| 45/45 [00:00<00:00, 139.32it/s]\n",
      "Analysing: 100%|██████████████████████████████████████████████████████████████████████| 25/25 [00:00<00:00, 151.52it/s]\n"
     ]
    },
    {
     "name": "stdout",
     "output_type": "stream",
     "text": [
      "Rank           1.00\n",
      "Median_score   2.70\n",
      "Name: DQN, dtype: float64\n",
      "loss: [0.977 0.931],            time: +110.28 sec\n",
      "loss: [1.255 0.896],            time: +116.74 sec\n"
     ]
    },
    {
     "name": "stderr",
     "output_type": "stream",
     "text": [
      "Playing matches: 100%|████████████████████████████████████████████████████████████████| 45/45 [00:00<00:00, 140.62it/s]\n",
      "Analysing: 100%|██████████████████████████████████████████████████████████████████████| 25/25 [00:00<00:00, 149.67it/s]\n"
     ]
    },
    {
     "name": "stdout",
     "output_type": "stream",
     "text": [
      "Rank           1.00\n",
      "Median_score   2.62\n",
      "Name: DQN, dtype: float64\n",
      "loss: [1.168 0.988],            time: +112.14 sec\n",
      "loss: [1.067 1.014],            time: +111.51 sec\n"
     ]
    },
    {
     "name": "stderr",
     "output_type": "stream",
     "text": [
      "Playing matches: 100%|████████████████████████████████████████████████████████████████| 45/45 [00:00<00:00, 140.19it/s]\n",
      "Analysing: 100%|██████████████████████████████████████████████████████████████████████| 25/25 [00:00<00:00, 129.54it/s]\n"
     ]
    },
    {
     "name": "stdout",
     "output_type": "stream",
     "text": [
      "Rank           1.00\n",
      "Median_score   2.65\n",
      "Name: DQN, dtype: float64\n",
      "loss: [0.866 1.276],            time: +111.12 sec\n",
      "loss: [1.152 0.929],            time: +109.83 sec\n"
     ]
    },
    {
     "name": "stderr",
     "output_type": "stream",
     "text": [
      "Playing matches: 100%|████████████████████████████████████████████████████████████████| 45/45 [00:00<00:00, 141.50it/s]\n",
      "Analysing: 100%|██████████████████████████████████████████████████████████████████████| 25/25 [00:00<00:00, 157.23it/s]\n"
     ]
    },
    {
     "name": "stdout",
     "output_type": "stream",
     "text": [
      "Rank           1.00\n",
      "Median_score   2.55\n",
      "Name: DQN, dtype: float64\n",
      "loss: [1.073 1.151],            time: +113.41 sec\n",
      "loss: [1.285 0.97 ],            time: +108.52 sec\n"
     ]
    },
    {
     "name": "stderr",
     "output_type": "stream",
     "text": [
      "Playing matches: 100%|████████████████████████████████████████████████████████████████| 45/45 [00:00<00:00, 140.67it/s]\n",
      "Analysing: 100%|██████████████████████████████████████████████████████████████████████| 25/25 [00:00<00:00, 153.35it/s]\n"
     ]
    },
    {
     "name": "stdout",
     "output_type": "stream",
     "text": [
      "Rank           1.00\n",
      "Median_score   2.75\n",
      "Name: DQN, dtype: float64\n",
      "loss: [1.153 0.808],            time: +114.62 sec\n",
      "loss: [0.852 1.185],            time: +113.28 sec\n"
     ]
    },
    {
     "name": "stderr",
     "output_type": "stream",
     "text": [
      "Playing matches: 100%|████████████████████████████████████████████████████████████████| 45/45 [00:00<00:00, 142.58it/s]\n",
      "Analysing: 100%|██████████████████████████████████████████████████████████████████████| 25/25 [00:00<00:00, 149.70it/s]\n"
     ]
    },
    {
     "name": "stdout",
     "output_type": "stream",
     "text": [
      "Rank           1.00\n",
      "Median_score   2.65\n",
      "Name: DQN, dtype: float64\n",
      "loss: [0.951 1.169],            time: +111.89 sec\n",
      "loss: [0.852 1.281],            time: +113.59 sec\n"
     ]
    },
    {
     "name": "stderr",
     "output_type": "stream",
     "text": [
      "Playing matches: 100%|████████████████████████████████████████████████████████████████| 45/45 [00:00<00:00, 137.56it/s]\n",
      "Analysing: 100%|██████████████████████████████████████████████████████████████████████| 25/25 [00:00<00:00, 141.24it/s]\n"
     ]
    },
    {
     "name": "stdout",
     "output_type": "stream",
     "text": [
      "Rank           1.00\n",
      "Median_score   2.73\n",
      "Name: DQN, dtype: float64\n",
      "loss: [1.124 0.771],            time: +113.07 sec\n",
      "loss: [1.244 0.868],            time: +111.51 sec\n"
     ]
    },
    {
     "name": "stderr",
     "output_type": "stream",
     "text": [
      "Playing matches: 100%|████████████████████████████████████████████████████████████████| 45/45 [00:00<00:00, 141.51it/s]\n",
      "Analysing: 100%|██████████████████████████████████████████████████████████████████████| 25/25 [00:00<00:00, 136.25it/s]\n"
     ]
    },
    {
     "name": "stdout",
     "output_type": "stream",
     "text": [
      "Rank           0.00\n",
      "Median_score   2.86\n",
      "Name: DQN, dtype: float64\n",
      "loss: [0.988 0.854],            time: +113.93 sec\n",
      "loss: [1.245 1.117],            time: +112.44 sec\n"
     ]
    },
    {
     "name": "stderr",
     "output_type": "stream",
     "text": [
      "Playing matches: 100%|████████████████████████████████████████████████████████████████| 45/45 [00:00<00:00, 135.54it/s]\n",
      "Analysing: 100%|██████████████████████████████████████████████████████████████████████| 25/25 [00:00<00:00, 154.35it/s]\n"
     ]
    },
    {
     "name": "stdout",
     "output_type": "stream",
     "text": [
      "Rank           1.00\n",
      "Median_score   2.69\n",
      "Name: DQN, dtype: float64\n",
      "loss: [1.19  0.968],            time: +116.15 sec\n",
      "loss: [1.061 0.972],            time: +114.33 sec\n"
     ]
    },
    {
     "name": "stderr",
     "output_type": "stream",
     "text": [
      "Playing matches: 100%|████████████████████████████████████████████████████████████████| 45/45 [00:00<00:00, 134.72it/s]\n",
      "Analysing: 100%|██████████████████████████████████████████████████████████████████████| 25/25 [00:00<00:00, 155.25it/s]\n"
     ]
    },
    {
     "name": "stdout",
     "output_type": "stream",
     "text": [
      "Rank           1.00\n",
      "Median_score   2.68\n",
      "Name: DQN, dtype: float64\n",
      "loss: [1.065 1.146],            time: +112.03 sec\n",
      "loss: [1.283 0.962],            time: +110.91 sec\n"
     ]
    },
    {
     "name": "stderr",
     "output_type": "stream",
     "text": [
      "Playing matches: 100%|████████████████████████████████████████████████████████████████| 45/45 [00:00<00:00, 139.68it/s]\n",
      "Analysing: 100%|██████████████████████████████████████████████████████████████████████| 25/25 [00:00<00:00, 159.21it/s]\n"
     ]
    },
    {
     "name": "stdout",
     "output_type": "stream",
     "text": [
      "Rank           2.00\n",
      "Median_score   2.66\n",
      "Name: DQN, dtype: float64\n",
      "loss: [1.115 0.94 ],            time: +113.98 sec\n",
      "loss: [1.216 0.896],            time: +109.54 sec\n"
     ]
    },
    {
     "name": "stderr",
     "output_type": "stream",
     "text": [
      "Playing matches: 100%|████████████████████████████████████████████████████████████████| 45/45 [00:00<00:00, 134.31it/s]\n",
      "Analysing: 100%|██████████████████████████████████████████████████████████████████████| 25/25 [00:00<00:00, 149.63it/s]\n"
     ]
    },
    {
     "name": "stdout",
     "output_type": "stream",
     "text": [
      "Rank           1.00\n",
      "Median_score   2.71\n",
      "Name: DQN, dtype: float64\n",
      "loss: [1.191 0.993],            time: +113.30 sec\n",
      "loss: [1.106 1.034],            time: +108.84 sec\n"
     ]
    },
    {
     "name": "stderr",
     "output_type": "stream",
     "text": [
      "Playing matches: 100%|████████████████████████████████████████████████████████████████| 45/45 [00:00<00:00, 129.68it/s]\n",
      "Analysing: 100%|██████████████████████████████████████████████████████████████████████| 25/25 [00:00<00:00, 138.12it/s]\n"
     ]
    },
    {
     "name": "stdout",
     "output_type": "stream",
     "text": [
      "Rank           1.00\n",
      "Median_score   2.69\n",
      "Name: DQN, dtype: float64\n",
      "loss: [1.174 0.772],            time: +111.82 sec\n",
      "loss: [1.349 0.839],            time: +110.63 sec\n"
     ]
    },
    {
     "name": "stderr",
     "output_type": "stream",
     "text": [
      "Playing matches: 100%|████████████████████████████████████████████████████████████████| 45/45 [00:00<00:00, 140.61it/s]\n",
      "Analysing: 100%|██████████████████████████████████████████████████████████████████████| 25/25 [00:00<00:00, 164.47it/s]\n"
     ]
    },
    {
     "name": "stdout",
     "output_type": "stream",
     "text": [
      "Rank           1.00\n",
      "Median_score   2.73\n",
      "Name: DQN, dtype: float64\n",
      "loss: [1.241 0.941],            time: +113.43 sec\n",
      "loss: [1.013 0.999],            time: +110.24 sec\n"
     ]
    },
    {
     "name": "stderr",
     "output_type": "stream",
     "text": [
      "Playing matches: 100%|████████████████████████████████████████████████████████████████| 45/45 [00:00<00:00, 141.96it/s]\n",
      "Analysing: 100%|██████████████████████████████████████████████████████████████████████| 25/25 [00:00<00:00, 160.26it/s]\n"
     ]
    },
    {
     "name": "stdout",
     "output_type": "stream",
     "text": [
      "Rank           1.00\n",
      "Median_score   2.74\n",
      "Name: DQN, dtype: float64\n",
      "loss: [0.917 1.187],            time: +111.47 sec\n",
      "loss: [1.112 0.962],            time: +111.23 sec\n"
     ]
    },
    {
     "name": "stderr",
     "output_type": "stream",
     "text": [
      "Playing matches: 100%|████████████████████████████████████████████████████████████████| 45/45 [00:00<00:00, 139.74it/s]\n",
      "Analysing: 100%|██████████████████████████████████████████████████████████████████████| 25/25 [00:00<00:00, 182.49it/s]\n"
     ]
    },
    {
     "name": "stdout",
     "output_type": "stream",
     "text": [
      "Rank           1.00\n",
      "Median_score   2.73\n",
      "Name: DQN, dtype: float64\n",
      "loss: [1.386 0.992],            time: +113.29 sec\n",
      "loss: [1.253 0.83 ],            time: +112.14 sec\n"
     ]
    },
    {
     "name": "stderr",
     "output_type": "stream",
     "text": [
      "Playing matches: 100%|████████████████████████████████████████████████████████████████| 45/45 [00:00<00:00, 148.01it/s]\n",
      "Analysing: 100%|██████████████████████████████████████████████████████████████████████| 25/25 [00:00<00:00, 178.53it/s]\n"
     ]
    },
    {
     "name": "stdout",
     "output_type": "stream",
     "text": [
      "Rank           1.00\n",
      "Median_score   2.74\n",
      "Name: DQN, dtype: float64\n",
      "loss: [1.083 0.736],            time: +114.56 sec\n",
      "loss: [1.19 0.95],            time: +111.52 sec\n"
     ]
    },
    {
     "name": "stderr",
     "output_type": "stream",
     "text": [
      "Playing matches: 100%|████████████████████████████████████████████████████████████████| 45/45 [00:00<00:00, 126.75it/s]\n",
      "Analysing: 100%|██████████████████████████████████████████████████████████████████████| 25/25 [00:00<00:00, 161.29it/s]\n"
     ]
    },
    {
     "name": "stdout",
     "output_type": "stream",
     "text": [
      "Rank           1.00\n",
      "Median_score   2.73\n",
      "Name: DQN, dtype: float64\n",
      "loss: [1.22 0.92],            time: +111.61 sec\n",
      "loss: [1.801 0.823],            time: +111.87 sec\n"
     ]
    },
    {
     "name": "stderr",
     "output_type": "stream",
     "text": [
      "Playing matches: 100%|████████████████████████████████████████████████████████████████| 45/45 [00:00<00:00, 140.18it/s]\n",
      "Analysing: 100%|██████████████████████████████████████████████████████████████████████| 25/25 [00:00<00:00, 182.44it/s]\n"
     ]
    },
    {
     "name": "stdout",
     "output_type": "stream",
     "text": [
      "Rank           1.00\n",
      "Median_score   2.78\n",
      "Name: DQN, dtype: float64\n",
      "loss: [0.979 1.027],            time: +114.37 sec\n",
      "loss: [1.118 0.892],            time: +109.40 sec\n"
     ]
    },
    {
     "name": "stderr",
     "output_type": "stream",
     "text": [
      "Playing matches: 100%|████████████████████████████████████████████████████████████████| 45/45 [00:00<00:00, 144.68it/s]\n",
      "Analysing: 100%|██████████████████████████████████████████████████████████████████████| 25/25 [00:00<00:00, 183.79it/s]\n"
     ]
    },
    {
     "name": "stdout",
     "output_type": "stream",
     "text": [
      "Rank           1.00\n",
      "Median_score   2.74\n",
      "Name: DQN, dtype: float64\n",
      "loss: [1.258 0.776],            time: +112.15 sec\n",
      "loss: [1.411 0.655],            time: +109.03 sec\n"
     ]
    },
    {
     "name": "stderr",
     "output_type": "stream",
     "text": [
      "Playing matches: 100%|████████████████████████████████████████████████████████████████| 45/45 [00:00<00:00, 140.44it/s]\n",
      "Analysing: 100%|██████████████████████████████████████████████████████████████████████| 25/25 [00:00<00:00, 177.95it/s]\n"
     ]
    },
    {
     "name": "stdout",
     "output_type": "stream",
     "text": [
      "Rank           1.00\n",
      "Median_score   2.64\n",
      "Name: DQN, dtype: float64\n",
      "loss: [0.84  1.234],            time: +112.80 sec\n",
      "loss: [0.799 1.192],            time: +111.54 sec\n"
     ]
    },
    {
     "name": "stderr",
     "output_type": "stream",
     "text": [
      "Playing matches: 100%|████████████████████████████████████████████████████████████████| 45/45 [00:00<00:00, 136.35it/s]\n",
      "Analysing: 100%|██████████████████████████████████████████████████████████████████████| 25/25 [00:00<00:00, 187.86it/s]\n"
     ]
    },
    {
     "name": "stdout",
     "output_type": "stream",
     "text": [
      "Rank           1.00\n",
      "Median_score   2.80\n",
      "Name: DQN, dtype: float64\n",
      "loss: [1.125 0.936],            time: +114.12 sec\n",
      "loss: [1.258 0.649],            time: +112.39 sec\n"
     ]
    },
    {
     "name": "stderr",
     "output_type": "stream",
     "text": [
      "Playing matches: 100%|████████████████████████████████████████████████████████████████| 45/45 [00:00<00:00, 142.82it/s]\n",
      "Analysing: 100%|██████████████████████████████████████████████████████████████████████| 25/25 [00:00<00:00, 172.38it/s]\n"
     ]
    },
    {
     "name": "stdout",
     "output_type": "stream",
     "text": [
      "Rank           0.00\n",
      "Median_score   2.85\n",
      "Name: DQN, dtype: float64\n",
      "loss: [1.161 0.597],            time: +114.46 sec\n",
      "loss: [1.063 0.705],            time: +112.62 sec\n"
     ]
    },
    {
     "name": "stderr",
     "output_type": "stream",
     "text": [
      "Playing matches: 100%|████████████████████████████████████████████████████████████████| 45/45 [00:00<00:00, 142.86it/s]\n",
      "Analysing: 100%|██████████████████████████████████████████████████████████████████████| 25/25 [00:00<00:00, 183.82it/s]\n"
     ]
    },
    {
     "name": "stdout",
     "output_type": "stream",
     "text": [
      "Rank           1.00\n",
      "Median_score   2.69\n",
      "Name: DQN, dtype: float64\n",
      "loss: [0.809 1.16 ],            time: +113.80 sec\n",
      "loss: [1.025 1.15 ],            time: +111.82 sec\n"
     ]
    },
    {
     "name": "stderr",
     "output_type": "stream",
     "text": [
      "Playing matches: 100%|████████████████████████████████████████████████████████████████| 45/45 [00:00<00:00, 140.61it/s]\n",
      "Analysing: 100%|██████████████████████████████████████████████████████████████████████| 25/25 [00:00<00:00, 183.89it/s]\n"
     ]
    },
    {
     "name": "stdout",
     "output_type": "stream",
     "text": [
      "Rank           1.00\n",
      "Median_score   2.76\n",
      "Name: DQN, dtype: float64\n",
      "loss: [0.807 0.984],            time: +112.04 sec\n",
      "loss: [0.966 0.951],            time: +108.51 sec\n"
     ]
    },
    {
     "name": "stderr",
     "output_type": "stream",
     "text": [
      "Playing matches: 100%|████████████████████████████████████████████████████████████████| 45/45 [00:00<00:00, 140.05it/s]\n",
      "Analysing: 100%|██████████████████████████████████████████████████████████████████████| 25/25 [00:00<00:00, 171.20it/s]\n"
     ]
    },
    {
     "name": "stdout",
     "output_type": "stream",
     "text": [
      "Rank           1.00\n",
      "Median_score   2.75\n",
      "Name: DQN, dtype: float64\n",
      "loss: [1.02  0.872],            time: +116.24 sec\n",
      "loss: [1.24  0.847],            time: +109.79 sec\n"
     ]
    },
    {
     "name": "stderr",
     "output_type": "stream",
     "text": [
      "Playing matches: 100%|████████████████████████████████████████████████████████████████| 45/45 [00:00<00:00, 145.62it/s]\n",
      "Analysing: 100%|██████████████████████████████████████████████████████████████████████| 25/25 [00:00<00:00, 161.29it/s]\n"
     ]
    },
    {
     "name": "stdout",
     "output_type": "stream",
     "text": [
      "Rank           1.00\n",
      "Median_score   2.70\n",
      "Name: DQN, dtype: float64\n",
      "loss: [1.007 0.808],            time: +111.89 sec\n",
      "loss: [1.038 0.868],            time: +111.26 sec\n"
     ]
    },
    {
     "name": "stderr",
     "output_type": "stream",
     "text": [
      "Playing matches: 100%|████████████████████████████████████████████████████████████████| 45/45 [00:00<00:00, 141.05it/s]\n",
      "Analysing: 100%|██████████████████████████████████████████████████████████████████████| 25/25 [00:00<00:00, 181.12it/s]\n"
     ]
    },
    {
     "name": "stdout",
     "output_type": "stream",
     "text": [
      "Rank           1.00\n",
      "Median_score   2.75\n",
      "Name: DQN, dtype: float64\n",
      "loss: [0.968 1.034],            time: +108.95 sec\n",
      "loss: [1.278 0.874],            time: +111.68 sec\n"
     ]
    },
    {
     "name": "stderr",
     "output_type": "stream",
     "text": [
      "Playing matches: 100%|████████████████████████████████████████████████████████████████| 45/45 [00:00<00:00, 133.92it/s]\n",
      "Analysing: 100%|██████████████████████████████████████████████████████████████████████| 25/25 [00:00<00:00, 170.03it/s]\n"
     ]
    },
    {
     "name": "stdout",
     "output_type": "stream",
     "text": [
      "Rank           1.00\n",
      "Median_score   2.77\n",
      "Name: DQN, dtype: float64\n",
      "loss: [0.786 1.122],            time: +113.25 sec\n",
      "loss: [1.207 0.646],            time: +110.60 sec\n"
     ]
    },
    {
     "name": "stderr",
     "output_type": "stream",
     "text": [
      "Playing matches: 100%|████████████████████████████████████████████████████████████████| 45/45 [00:00<00:00, 133.66it/s]\n",
      "Analysing: 100%|██████████████████████████████████████████████████████████████████████| 25/25 [00:00<00:00, 183.79it/s]\n"
     ]
    },
    {
     "name": "stdout",
     "output_type": "stream",
     "text": [
      "Rank           1.00\n",
      "Median_score   2.76\n",
      "Name: DQN, dtype: float64\n",
      "loss: [0.8   1.023],            time: +115.46 sec\n",
      "loss: [0.881 1.059],            time: +112.62 sec\n"
     ]
    },
    {
     "name": "stderr",
     "output_type": "stream",
     "text": [
      "Playing matches: 100%|████████████████████████████████████████████████████████████████| 45/45 [00:00<00:00, 145.13it/s]\n",
      "Analysing: 100%|██████████████████████████████████████████████████████████████████████| 25/25 [00:00<00:00, 177.31it/s]\n"
     ]
    },
    {
     "name": "stdout",
     "output_type": "stream",
     "text": [
      "Rank           1.00\n",
      "Median_score   2.78\n",
      "Name: DQN, dtype: float64\n",
      "loss: [1.243 0.663],            time: +113.22 sec\n",
      "loss: [1.028 0.896],            time: +113.24 sec\n"
     ]
    },
    {
     "name": "stderr",
     "output_type": "stream",
     "text": [
      "Playing matches: 100%|████████████████████████████████████████████████████████████████| 45/45 [00:00<00:00, 136.63it/s]\n",
      "Analysing: 100%|██████████████████████████████████████████████████████████████████████| 25/25 [00:00<00:00, 178.59it/s]\n"
     ]
    },
    {
     "name": "stdout",
     "output_type": "stream",
     "text": [
      "Rank           0.00\n",
      "Median_score   2.85\n",
      "Name: DQN, dtype: float64\n",
      "loss: [1.058 0.719],            time: +113.18 sec\n",
      "loss: [1.035 0.833],            time: +112.35 sec\n"
     ]
    },
    {
     "name": "stderr",
     "output_type": "stream",
     "text": [
      "Playing matches: 100%|████████████████████████████████████████████████████████████████| 45/45 [00:00<00:00, 145.15it/s]\n",
      "Analysing: 100%|██████████████████████████████████████████████████████████████████████| 25/25 [00:00<00:00, 178.53it/s]\n"
     ]
    },
    {
     "name": "stdout",
     "output_type": "stream",
     "text": [
      "Rank           0.00\n",
      "Median_score   2.83\n",
      "Name: DQN, dtype: float64\n",
      "loss: [0.992 0.599],            time: +111.65 sec\n",
      "loss: [1.343 0.829],            time: +115.87 sec\n"
     ]
    },
    {
     "name": "stderr",
     "output_type": "stream",
     "text": [
      "Playing matches: 100%|████████████████████████████████████████████████████████████████| 45/45 [00:00<00:00, 134.91it/s]\n",
      "Analysing: 100%|██████████████████████████████████████████████████████████████████████| 25/25 [00:00<00:00, 165.53it/s]\n"
     ]
    },
    {
     "name": "stdout",
     "output_type": "stream",
     "text": [
      "Rank           1.00\n",
      "Median_score   2.78\n",
      "Name: DQN, dtype: float64\n",
      "loss: [1.136 0.855],            time: +118.58 sec\n",
      "loss: [1.752 0.597],            time: +117.52 sec\n"
     ]
    },
    {
     "name": "stderr",
     "output_type": "stream",
     "text": [
      "Playing matches: 100%|████████████████████████████████████████████████████████████████| 45/45 [00:00<00:00, 129.49it/s]\n",
      "Analysing: 100%|██████████████████████████████████████████████████████████████████████| 25/25 [00:00<00:00, 166.62it/s]\n"
     ]
    },
    {
     "name": "stdout",
     "output_type": "stream",
     "text": [
      "Rank           1.00\n",
      "Median_score   2.77\n",
      "Name: DQN, dtype: float64\n",
      "loss: [1.542 0.616],            time: +116.59 sec\n",
      "loss: [1.596 0.501],            time: +111.54 sec\n"
     ]
    },
    {
     "name": "stderr",
     "output_type": "stream",
     "text": [
      "Playing matches: 100%|████████████████████████████████████████████████████████████████| 45/45 [00:00<00:00, 146.59it/s]\n",
      "Analysing: 100%|██████████████████████████████████████████████████████████████████████| 25/25 [00:00<00:00, 174.79it/s]\n"
     ]
    },
    {
     "name": "stdout",
     "output_type": "stream",
     "text": [
      "Rank           0.00\n",
      "Median_score   2.93\n",
      "Name: DQN, dtype: float64\n",
      "loss: [1.143 0.698],            time: +109.00 sec\n",
      "loss: [1.231 0.579],            time: +109.56 sec\n"
     ]
    },
    {
     "name": "stderr",
     "output_type": "stream",
     "text": [
      "Playing matches: 100%|████████████████████████████████████████████████████████████████| 45/45 [00:00<00:00, 139.30it/s]\n",
      "Analysing: 100%|██████████████████████████████████████████████████████████████████████| 25/25 [00:00<00:00, 170.03it/s]\n"
     ]
    },
    {
     "name": "stdout",
     "output_type": "stream",
     "text": [
      "Rank           0.00\n",
      "Median_score   2.91\n",
      "Name: DQN, dtype: float64\n",
      "loss: [1.091 0.711],            time: +112.96 sec\n",
      "loss: [1.363 0.709],            time: +109.68 sec\n"
     ]
    },
    {
     "name": "stderr",
     "output_type": "stream",
     "text": [
      "Playing matches: 100%|████████████████████████████████████████████████████████████████| 45/45 [00:00<00:00, 145.16it/s]\n",
      "Analysing: 100%|██████████████████████████████████████████████████████████████████████| 25/25 [00:00<00:00, 183.78it/s]\n"
     ]
    },
    {
     "name": "stdout",
     "output_type": "stream",
     "text": [
      "Rank           0.00\n",
      "Median_score   2.93\n",
      "Name: DQN, dtype: float64\n",
      "loss: [0.877 0.917],            time: +112.83 sec\n",
      "loss: [0.865 1.352],            time: +112.88 sec\n"
     ]
    },
    {
     "name": "stderr",
     "output_type": "stream",
     "text": [
      "Playing matches: 100%|████████████████████████████████████████████████████████████████| 45/45 [00:00<00:00, 136.14it/s]\n",
      "Analysing: 100%|██████████████████████████████████████████████████████████████████████| 25/25 [00:00<00:00, 182.47it/s]\n"
     ]
    },
    {
     "name": "stdout",
     "output_type": "stream",
     "text": [
      "Rank           1.00\n",
      "Median_score   2.77\n",
      "Name: DQN, dtype: float64\n",
      "loss: [1.445 0.74 ],            time: +112.95 sec\n",
      "loss: [1.057 0.558],            time: +111.31 sec\n"
     ]
    },
    {
     "name": "stderr",
     "output_type": "stream",
     "text": [
      "Playing matches: 100%|████████████████████████████████████████████████████████████████| 45/45 [00:00<00:00, 138.05it/s]\n",
      "Analysing: 100%|██████████████████████████████████████████████████████████████████████| 25/25 [00:00<00:00, 176.06it/s]\n"
     ]
    },
    {
     "name": "stdout",
     "output_type": "stream",
     "text": [
      "Rank           0.00\n",
      "Median_score   2.88\n",
      "Name: DQN, dtype: float64\n",
      "loss: [1.08  0.619],            time: +112.73 sec\n"
     ]
    }
   ],
   "source": [
    "# time to take a nap\n",
    "ls = []\n",
    "loss_ls = []\n",
    "epoch_ls = []\n",
    "for i in range(100):\n",
    "    \n",
    "    start = time()\n",
    "    p1.train(200, param)\n",
    "    \n",
    "    train_against(p1, players)\n",
    "    \n",
    "    print(f'loss: {p1.network.loss},            time: +{time()-start:.2f} sec')\n",
    "    \n",
    "    # test DQN in tournament\n",
    "    if i % 2 == 0:\n",
    "        loss_ls.append(np.sum(p1.network.loss))\n",
    "        with p1:\n",
    "            p1.network.verbosity = False\n",
    "            tournament = Tournament([p1, *players], game=GAME, turns=GAME_LEN)\n",
    "            results = tournament.play()\n",
    "            summary = pd.DataFrame(map(list, results.summarise()), columns=headers).set_index('Name')\n",
    "            ls.append(summary)\n",
    "            epoch_ls.append(p1.network.loss_ls[-1][0])\n",
    "            \n",
    "        print(summary.loc['DQN', ['Rank', 'Median_score']])\n",
    "        \n",
    "        # backing up\n",
    "        with open('data/s2/tn_results.pkl', \"wb\") as file:\n",
    "            dill.dump(ls, file)\n",
    "\n",
    "        with open(f'data/s2/p1_{i}.pkl', \"wb\") as file:\n",
    "            dill.dump(p1, file)"
   ]
  },
  {
   "cell_type": "markdown",
   "id": "903df5c8-7307-48b7-9979-64708d6f9d90",
   "metadata": {},
   "source": [
    "## Results"
   ]
  },
  {
   "cell_type": "code",
   "execution_count": 12,
   "id": "c3edf455-b4c0-41c4-a83b-b2ae8b887fe0",
   "metadata": {},
   "outputs": [],
   "source": [
    "with open(\"data/s2/backup/tn_results.pkl\", \"rb\") as file:\n",
    "    ls = dill.load(file)\n",
    "    \n",
    "with open(\"data/s2/backup/p1_98.pkl\", \"rb\") as file:\n",
    "    p1 = dill.load(file)"
   ]
  },
  {
   "cell_type": "code",
   "execution_count": 7,
   "id": "00ccb2c3-9275-48bb-b1c6-f3b487572189",
   "metadata": {
    "scrolled": true,
    "tags": []
   },
   "outputs": [
    {
     "data": {
      "text/html": [
       "<div>\n",
       "<style scoped>\n",
       "    .dataframe tbody tr th:only-of-type {\n",
       "        vertical-align: middle;\n",
       "    }\n",
       "\n",
       "    .dataframe tbody tr th {\n",
       "        vertical-align: top;\n",
       "    }\n",
       "\n",
       "    .dataframe thead th {\n",
       "        text-align: right;\n",
       "    }\n",
       "</style>\n",
       "<table border=\"1\" class=\"dataframe\">\n",
       "  <thead>\n",
       "    <tr style=\"text-align: right;\">\n",
       "      <th></th>\n",
       "      <th>Rank</th>\n",
       "      <th>Median_score</th>\n",
       "      <th>Cooperation_rating</th>\n",
       "      <th>Wins</th>\n",
       "      <th>Initial_C_rate</th>\n",
       "      <th>CC_rate</th>\n",
       "      <th>CD_rate</th>\n",
       "      <th>DC_rate</th>\n",
       "      <th>DD_rate</th>\n",
       "      <th>CC_to_C_rate</th>\n",
       "      <th>CD_to_C_rate</th>\n",
       "      <th>DC_to_C_rate</th>\n",
       "      <th>DD_to_C_rate</th>\n",
       "    </tr>\n",
       "  </thead>\n",
       "  <tbody>\n",
       "    <tr>\n",
       "      <th>0</th>\n",
       "      <td>8.00</td>\n",
       "      <td>1.99</td>\n",
       "      <td>0.04</td>\n",
       "      <td>8.00</td>\n",
       "      <td>0.00</td>\n",
       "      <td>0.02</td>\n",
       "      <td>0.03</td>\n",
       "      <td>0.24</td>\n",
       "      <td>0.71</td>\n",
       "      <td>0.00</td>\n",
       "      <td>0.00</td>\n",
       "      <td>0.15</td>\n",
       "      <td>0.15</td>\n",
       "    </tr>\n",
       "    <tr>\n",
       "      <th>1</th>\n",
       "      <td>7.00</td>\n",
       "      <td>2.25</td>\n",
       "      <td>0.48</td>\n",
       "      <td>5.00</td>\n",
       "      <td>0.00</td>\n",
       "      <td>0.09</td>\n",
       "      <td>0.38</td>\n",
       "      <td>0.36</td>\n",
       "      <td>0.16</td>\n",
       "      <td>0.38</td>\n",
       "      <td>0.48</td>\n",
       "      <td>0.67</td>\n",
       "      <td>0.58</td>\n",
       "    </tr>\n",
       "    <tr>\n",
       "      <th>2</th>\n",
       "      <td>6.00</td>\n",
       "      <td>2.38</td>\n",
       "      <td>0.47</td>\n",
       "      <td>5.00</td>\n",
       "      <td>0.00</td>\n",
       "      <td>0.13</td>\n",
       "      <td>0.34</td>\n",
       "      <td>0.36</td>\n",
       "      <td>0.16</td>\n",
       "      <td>0.41</td>\n",
       "      <td>0.22</td>\n",
       "      <td>0.67</td>\n",
       "      <td>0.99</td>\n",
       "    </tr>\n",
       "    <tr>\n",
       "      <th>3</th>\n",
       "      <td>4.00</td>\n",
       "      <td>2.43</td>\n",
       "      <td>0.49</td>\n",
       "      <td>4.00</td>\n",
       "      <td>0.00</td>\n",
       "      <td>0.17</td>\n",
       "      <td>0.32</td>\n",
       "      <td>0.35</td>\n",
       "      <td>0.16</td>\n",
       "      <td>0.56</td>\n",
       "      <td>0.37</td>\n",
       "      <td>0.66</td>\n",
       "      <td>0.92</td>\n",
       "    </tr>\n",
       "    <tr>\n",
       "      <th>4</th>\n",
       "      <td>2.00</td>\n",
       "      <td>2.56</td>\n",
       "      <td>0.58</td>\n",
       "      <td>4.50</td>\n",
       "      <td>1.00</td>\n",
       "      <td>0.37</td>\n",
       "      <td>0.21</td>\n",
       "      <td>0.26</td>\n",
       "      <td>0.16</td>\n",
       "      <td>0.79</td>\n",
       "      <td>0.30</td>\n",
       "      <td>0.46</td>\n",
       "      <td>0.65</td>\n",
       "    </tr>\n",
       "    <tr>\n",
       "      <th>5</th>\n",
       "      <td>5.00</td>\n",
       "      <td>2.42</td>\n",
       "      <td>0.48</td>\n",
       "      <td>6.00</td>\n",
       "      <td>0.00</td>\n",
       "      <td>0.25</td>\n",
       "      <td>0.23</td>\n",
       "      <td>0.29</td>\n",
       "      <td>0.24</td>\n",
       "      <td>0.63</td>\n",
       "      <td>0.30</td>\n",
       "      <td>0.71</td>\n",
       "      <td>0.69</td>\n",
       "    </tr>\n",
       "    <tr>\n",
       "      <th>6</th>\n",
       "      <td>5.00</td>\n",
       "      <td>2.33</td>\n",
       "      <td>0.19</td>\n",
       "      <td>6.00</td>\n",
       "      <td>0.00</td>\n",
       "      <td>0.05</td>\n",
       "      <td>0.14</td>\n",
       "      <td>0.34</td>\n",
       "      <td>0.46</td>\n",
       "      <td>0.83</td>\n",
       "      <td>0.31</td>\n",
       "      <td>0.52</td>\n",
       "      <td>0.16</td>\n",
       "    </tr>\n",
       "    <tr>\n",
       "      <th>7</th>\n",
       "      <td>7.00</td>\n",
       "      <td>2.33</td>\n",
       "      <td>0.49</td>\n",
       "      <td>4.00</td>\n",
       "      <td>1.00</td>\n",
       "      <td>0.23</td>\n",
       "      <td>0.26</td>\n",
       "      <td>0.28</td>\n",
       "      <td>0.24</td>\n",
       "      <td>0.54</td>\n",
       "      <td>0.28</td>\n",
       "      <td>0.73</td>\n",
       "      <td>0.61</td>\n",
       "    </tr>\n",
       "    <tr>\n",
       "      <th>8</th>\n",
       "      <td>1.00</td>\n",
       "      <td>2.57</td>\n",
       "      <td>0.35</td>\n",
       "      <td>6.00</td>\n",
       "      <td>0.00</td>\n",
       "      <td>0.13</td>\n",
       "      <td>0.22</td>\n",
       "      <td>0.38</td>\n",
       "      <td>0.27</td>\n",
       "      <td>0.59</td>\n",
       "      <td>0.36</td>\n",
       "      <td>0.57</td>\n",
       "      <td>0.53</td>\n",
       "    </tr>\n",
       "    <tr>\n",
       "      <th>9</th>\n",
       "      <td>1.00</td>\n",
       "      <td>2.64</td>\n",
       "      <td>0.39</td>\n",
       "      <td>5.00</td>\n",
       "      <td>0.00</td>\n",
       "      <td>0.23</td>\n",
       "      <td>0.17</td>\n",
       "      <td>0.34</td>\n",
       "      <td>0.27</td>\n",
       "      <td>0.93</td>\n",
       "      <td>0.42</td>\n",
       "      <td>0.54</td>\n",
       "      <td>0.41</td>\n",
       "    </tr>\n",
       "    <tr>\n",
       "      <th>10</th>\n",
       "      <td>1.00</td>\n",
       "      <td>2.70</td>\n",
       "      <td>0.60</td>\n",
       "      <td>4.00</td>\n",
       "      <td>1.00</td>\n",
       "      <td>0.44</td>\n",
       "      <td>0.16</td>\n",
       "      <td>0.25</td>\n",
       "      <td>0.15</td>\n",
       "      <td>0.67</td>\n",
       "      <td>0.56</td>\n",
       "      <td>0.80</td>\n",
       "      <td>0.54</td>\n",
       "    </tr>\n",
       "    <tr>\n",
       "      <th>11</th>\n",
       "      <td>1.00</td>\n",
       "      <td>2.62</td>\n",
       "      <td>0.52</td>\n",
       "      <td>5.00</td>\n",
       "      <td>1.00</td>\n",
       "      <td>0.35</td>\n",
       "      <td>0.17</td>\n",
       "      <td>0.27</td>\n",
       "      <td>0.21</td>\n",
       "      <td>0.55</td>\n",
       "      <td>0.40</td>\n",
       "      <td>0.79</td>\n",
       "      <td>0.35</td>\n",
       "    </tr>\n",
       "    <tr>\n",
       "      <th>12</th>\n",
       "      <td>1.00</td>\n",
       "      <td>2.65</td>\n",
       "      <td>0.42</td>\n",
       "      <td>5.00</td>\n",
       "      <td>1.00</td>\n",
       "      <td>0.25</td>\n",
       "      <td>0.17</td>\n",
       "      <td>0.33</td>\n",
       "      <td>0.25</td>\n",
       "      <td>0.70</td>\n",
       "      <td>0.26</td>\n",
       "      <td>0.69</td>\n",
       "      <td>0.48</td>\n",
       "    </tr>\n",
       "    <tr>\n",
       "      <th>13</th>\n",
       "      <td>1.00</td>\n",
       "      <td>2.55</td>\n",
       "      <td>0.38</td>\n",
       "      <td>4.00</td>\n",
       "      <td>0.00</td>\n",
       "      <td>0.19</td>\n",
       "      <td>0.19</td>\n",
       "      <td>0.34</td>\n",
       "      <td>0.28</td>\n",
       "      <td>0.74</td>\n",
       "      <td>0.29</td>\n",
       "      <td>0.58</td>\n",
       "      <td>0.51</td>\n",
       "    </tr>\n",
       "    <tr>\n",
       "      <th>14</th>\n",
       "      <td>1.00</td>\n",
       "      <td>2.75</td>\n",
       "      <td>0.51</td>\n",
       "      <td>5.50</td>\n",
       "      <td>1.00</td>\n",
       "      <td>0.33</td>\n",
       "      <td>0.18</td>\n",
       "      <td>0.31</td>\n",
       "      <td>0.18</td>\n",
       "      <td>0.64</td>\n",
       "      <td>0.39</td>\n",
       "      <td>0.79</td>\n",
       "      <td>0.48</td>\n",
       "    </tr>\n",
       "    <tr>\n",
       "      <th>15</th>\n",
       "      <td>1.00</td>\n",
       "      <td>2.65</td>\n",
       "      <td>0.47</td>\n",
       "      <td>4.00</td>\n",
       "      <td>1.00</td>\n",
       "      <td>0.29</td>\n",
       "      <td>0.18</td>\n",
       "      <td>0.31</td>\n",
       "      <td>0.22</td>\n",
       "      <td>0.56</td>\n",
       "      <td>0.45</td>\n",
       "      <td>0.57</td>\n",
       "      <td>0.58</td>\n",
       "    </tr>\n",
       "    <tr>\n",
       "      <th>16</th>\n",
       "      <td>1.00</td>\n",
       "      <td>2.73</td>\n",
       "      <td>0.59</td>\n",
       "      <td>4.00</td>\n",
       "      <td>1.00</td>\n",
       "      <td>0.43</td>\n",
       "      <td>0.15</td>\n",
       "      <td>0.26</td>\n",
       "      <td>0.16</td>\n",
       "      <td>0.68</td>\n",
       "      <td>0.59</td>\n",
       "      <td>0.79</td>\n",
       "      <td>0.39</td>\n",
       "    </tr>\n",
       "    <tr>\n",
       "      <th>17</th>\n",
       "      <td>0.00</td>\n",
       "      <td>2.86</td>\n",
       "      <td>0.75</td>\n",
       "      <td>4.00</td>\n",
       "      <td>1.00</td>\n",
       "      <td>0.61</td>\n",
       "      <td>0.13</td>\n",
       "      <td>0.19</td>\n",
       "      <td>0.06</td>\n",
       "      <td>0.77</td>\n",
       "      <td>0.64</td>\n",
       "      <td>0.90</td>\n",
       "      <td>0.48</td>\n",
       "    </tr>\n",
       "    <tr>\n",
       "      <th>18</th>\n",
       "      <td>1.00</td>\n",
       "      <td>2.69</td>\n",
       "      <td>0.55</td>\n",
       "      <td>5.00</td>\n",
       "      <td>1.00</td>\n",
       "      <td>0.36</td>\n",
       "      <td>0.19</td>\n",
       "      <td>0.29</td>\n",
       "      <td>0.16</td>\n",
       "      <td>0.63</td>\n",
       "      <td>0.28</td>\n",
       "      <td>0.77</td>\n",
       "      <td>0.34</td>\n",
       "    </tr>\n",
       "    <tr>\n",
       "      <th>19</th>\n",
       "      <td>1.00</td>\n",
       "      <td>2.68</td>\n",
       "      <td>0.45</td>\n",
       "      <td>5.00</td>\n",
       "      <td>1.00</td>\n",
       "      <td>0.25</td>\n",
       "      <td>0.20</td>\n",
       "      <td>0.35</td>\n",
       "      <td>0.20</td>\n",
       "      <td>0.68</td>\n",
       "      <td>0.23</td>\n",
       "      <td>0.81</td>\n",
       "      <td>0.45</td>\n",
       "    </tr>\n",
       "    <tr>\n",
       "      <th>20</th>\n",
       "      <td>2.00</td>\n",
       "      <td>2.66</td>\n",
       "      <td>0.46</td>\n",
       "      <td>5.00</td>\n",
       "      <td>0.00</td>\n",
       "      <td>0.30</td>\n",
       "      <td>0.15</td>\n",
       "      <td>0.30</td>\n",
       "      <td>0.24</td>\n",
       "      <td>0.87</td>\n",
       "      <td>0.37</td>\n",
       "      <td>0.82</td>\n",
       "      <td>0.36</td>\n",
       "    </tr>\n",
       "    <tr>\n",
       "      <th>21</th>\n",
       "      <td>1.00</td>\n",
       "      <td>2.71</td>\n",
       "      <td>0.39</td>\n",
       "      <td>5.00</td>\n",
       "      <td>0.00</td>\n",
       "      <td>0.24</td>\n",
       "      <td>0.15</td>\n",
       "      <td>0.34</td>\n",
       "      <td>0.27</td>\n",
       "      <td>0.79</td>\n",
       "      <td>0.47</td>\n",
       "      <td>0.77</td>\n",
       "      <td>0.39</td>\n",
       "    </tr>\n",
       "    <tr>\n",
       "      <th>22</th>\n",
       "      <td>1.00</td>\n",
       "      <td>2.69</td>\n",
       "      <td>0.57</td>\n",
       "      <td>5.00</td>\n",
       "      <td>1.00</td>\n",
       "      <td>0.45</td>\n",
       "      <td>0.12</td>\n",
       "      <td>0.23</td>\n",
       "      <td>0.20</td>\n",
       "      <td>0.57</td>\n",
       "      <td>0.54</td>\n",
       "      <td>0.90</td>\n",
       "      <td>0.19</td>\n",
       "    </tr>\n",
       "    <tr>\n",
       "      <th>23</th>\n",
       "      <td>1.00</td>\n",
       "      <td>2.73</td>\n",
       "      <td>0.43</td>\n",
       "      <td>5.00</td>\n",
       "      <td>0.00</td>\n",
       "      <td>0.28</td>\n",
       "      <td>0.15</td>\n",
       "      <td>0.33</td>\n",
       "      <td>0.24</td>\n",
       "      <td>0.89</td>\n",
       "      <td>0.39</td>\n",
       "      <td>0.77</td>\n",
       "      <td>0.53</td>\n",
       "    </tr>\n",
       "    <tr>\n",
       "      <th>24</th>\n",
       "      <td>1.00</td>\n",
       "      <td>2.74</td>\n",
       "      <td>0.40</td>\n",
       "      <td>5.00</td>\n",
       "      <td>0.00</td>\n",
       "      <td>0.30</td>\n",
       "      <td>0.11</td>\n",
       "      <td>0.31</td>\n",
       "      <td>0.29</td>\n",
       "      <td>0.77</td>\n",
       "      <td>0.54</td>\n",
       "      <td>0.53</td>\n",
       "      <td>0.54</td>\n",
       "    </tr>\n",
       "    <tr>\n",
       "      <th>25</th>\n",
       "      <td>1.00</td>\n",
       "      <td>2.73</td>\n",
       "      <td>0.40</td>\n",
       "      <td>5.00</td>\n",
       "      <td>0.00</td>\n",
       "      <td>0.26</td>\n",
       "      <td>0.13</td>\n",
       "      <td>0.33</td>\n",
       "      <td>0.27</td>\n",
       "      <td>0.77</td>\n",
       "      <td>0.63</td>\n",
       "      <td>0.78</td>\n",
       "      <td>0.28</td>\n",
       "    </tr>\n",
       "    <tr>\n",
       "      <th>26</th>\n",
       "      <td>1.00</td>\n",
       "      <td>2.74</td>\n",
       "      <td>0.57</td>\n",
       "      <td>5.00</td>\n",
       "      <td>1.00</td>\n",
       "      <td>0.47</td>\n",
       "      <td>0.10</td>\n",
       "      <td>0.22</td>\n",
       "      <td>0.21</td>\n",
       "      <td>0.51</td>\n",
       "      <td>0.55</td>\n",
       "      <td>0.83</td>\n",
       "      <td>0.37</td>\n",
       "    </tr>\n",
       "    <tr>\n",
       "      <th>27</th>\n",
       "      <td>1.00</td>\n",
       "      <td>2.73</td>\n",
       "      <td>0.39</td>\n",
       "      <td>5.00</td>\n",
       "      <td>0.00</td>\n",
       "      <td>0.26</td>\n",
       "      <td>0.13</td>\n",
       "      <td>0.33</td>\n",
       "      <td>0.28</td>\n",
       "      <td>0.66</td>\n",
       "      <td>0.59</td>\n",
       "      <td>0.74</td>\n",
       "      <td>0.32</td>\n",
       "    </tr>\n",
       "    <tr>\n",
       "      <th>28</th>\n",
       "      <td>1.00</td>\n",
       "      <td>2.78</td>\n",
       "      <td>0.41</td>\n",
       "      <td>5.00</td>\n",
       "      <td>0.00</td>\n",
       "      <td>0.29</td>\n",
       "      <td>0.12</td>\n",
       "      <td>0.33</td>\n",
       "      <td>0.26</td>\n",
       "      <td>0.94</td>\n",
       "      <td>0.38</td>\n",
       "      <td>0.64</td>\n",
       "      <td>0.49</td>\n",
       "    </tr>\n",
       "    <tr>\n",
       "      <th>29</th>\n",
       "      <td>1.00</td>\n",
       "      <td>2.74</td>\n",
       "      <td>0.41</td>\n",
       "      <td>5.00</td>\n",
       "      <td>0.00</td>\n",
       "      <td>0.31</td>\n",
       "      <td>0.11</td>\n",
       "      <td>0.31</td>\n",
       "      <td>0.28</td>\n",
       "      <td>0.82</td>\n",
       "      <td>0.75</td>\n",
       "      <td>0.81</td>\n",
       "      <td>0.21</td>\n",
       "    </tr>\n",
       "    <tr>\n",
       "      <th>30</th>\n",
       "      <td>1.00</td>\n",
       "      <td>2.64</td>\n",
       "      <td>0.30</td>\n",
       "      <td>6.00</td>\n",
       "      <td>0.00</td>\n",
       "      <td>0.13</td>\n",
       "      <td>0.17</td>\n",
       "      <td>0.39</td>\n",
       "      <td>0.31</td>\n",
       "      <td>0.69</td>\n",
       "      <td>0.34</td>\n",
       "      <td>0.56</td>\n",
       "      <td>0.40</td>\n",
       "    </tr>\n",
       "    <tr>\n",
       "      <th>31</th>\n",
       "      <td>1.00</td>\n",
       "      <td>2.80</td>\n",
       "      <td>0.51</td>\n",
       "      <td>5.00</td>\n",
       "      <td>1.00</td>\n",
       "      <td>0.39</td>\n",
       "      <td>0.12</td>\n",
       "      <td>0.29</td>\n",
       "      <td>0.20</td>\n",
       "      <td>0.57</td>\n",
       "      <td>0.71</td>\n",
       "      <td>0.70</td>\n",
       "      <td>0.37</td>\n",
       "    </tr>\n",
       "    <tr>\n",
       "      <th>32</th>\n",
       "      <td>0.00</td>\n",
       "      <td>2.85</td>\n",
       "      <td>0.61</td>\n",
       "      <td>5.00</td>\n",
       "      <td>1.00</td>\n",
       "      <td>0.50</td>\n",
       "      <td>0.11</td>\n",
       "      <td>0.24</td>\n",
       "      <td>0.15</td>\n",
       "      <td>0.59</td>\n",
       "      <td>0.78</td>\n",
       "      <td>0.83</td>\n",
       "      <td>0.23</td>\n",
       "    </tr>\n",
       "    <tr>\n",
       "      <th>33</th>\n",
       "      <td>1.00</td>\n",
       "      <td>2.69</td>\n",
       "      <td>0.33</td>\n",
       "      <td>5.00</td>\n",
       "      <td>0.00</td>\n",
       "      <td>0.23</td>\n",
       "      <td>0.10</td>\n",
       "      <td>0.33</td>\n",
       "      <td>0.34</td>\n",
       "      <td>0.80</td>\n",
       "      <td>0.56</td>\n",
       "      <td>0.66</td>\n",
       "      <td>0.27</td>\n",
       "    </tr>\n",
       "    <tr>\n",
       "      <th>34</th>\n",
       "      <td>1.00</td>\n",
       "      <td>2.76</td>\n",
       "      <td>0.44</td>\n",
       "      <td>5.00</td>\n",
       "      <td>1.00</td>\n",
       "      <td>0.30</td>\n",
       "      <td>0.14</td>\n",
       "      <td>0.32</td>\n",
       "      <td>0.23</td>\n",
       "      <td>0.69</td>\n",
       "      <td>0.41</td>\n",
       "      <td>0.60</td>\n",
       "      <td>0.51</td>\n",
       "    </tr>\n",
       "    <tr>\n",
       "      <th>35</th>\n",
       "      <td>1.00</td>\n",
       "      <td>2.75</td>\n",
       "      <td>0.53</td>\n",
       "      <td>6.00</td>\n",
       "      <td>1.00</td>\n",
       "      <td>0.39</td>\n",
       "      <td>0.14</td>\n",
       "      <td>0.27</td>\n",
       "      <td>0.19</td>\n",
       "      <td>0.50</td>\n",
       "      <td>0.47</td>\n",
       "      <td>0.82</td>\n",
       "      <td>0.29</td>\n",
       "    </tr>\n",
       "    <tr>\n",
       "      <th>36</th>\n",
       "      <td>1.00</td>\n",
       "      <td>2.70</td>\n",
       "      <td>0.42</td>\n",
       "      <td>5.50</td>\n",
       "      <td>0.00</td>\n",
       "      <td>0.27</td>\n",
       "      <td>0.14</td>\n",
       "      <td>0.33</td>\n",
       "      <td>0.26</td>\n",
       "      <td>0.78</td>\n",
       "      <td>0.43</td>\n",
       "      <td>0.80</td>\n",
       "      <td>0.39</td>\n",
       "    </tr>\n",
       "    <tr>\n",
       "      <th>37</th>\n",
       "      <td>1.00</td>\n",
       "      <td>2.75</td>\n",
       "      <td>0.39</td>\n",
       "      <td>5.00</td>\n",
       "      <td>0.00</td>\n",
       "      <td>0.25</td>\n",
       "      <td>0.13</td>\n",
       "      <td>0.34</td>\n",
       "      <td>0.27</td>\n",
       "      <td>0.81</td>\n",
       "      <td>0.63</td>\n",
       "      <td>0.64</td>\n",
       "      <td>0.49</td>\n",
       "    </tr>\n",
       "    <tr>\n",
       "      <th>38</th>\n",
       "      <td>1.00</td>\n",
       "      <td>2.77</td>\n",
       "      <td>0.39</td>\n",
       "      <td>5.00</td>\n",
       "      <td>0.00</td>\n",
       "      <td>0.26</td>\n",
       "      <td>0.13</td>\n",
       "      <td>0.34</td>\n",
       "      <td>0.27</td>\n",
       "      <td>0.83</td>\n",
       "      <td>0.56</td>\n",
       "      <td>0.61</td>\n",
       "      <td>0.45</td>\n",
       "    </tr>\n",
       "    <tr>\n",
       "      <th>39</th>\n",
       "      <td>1.00</td>\n",
       "      <td>2.76</td>\n",
       "      <td>0.44</td>\n",
       "      <td>5.00</td>\n",
       "      <td>1.00</td>\n",
       "      <td>0.32</td>\n",
       "      <td>0.12</td>\n",
       "      <td>0.31</td>\n",
       "      <td>0.24</td>\n",
       "      <td>0.81</td>\n",
       "      <td>0.44</td>\n",
       "      <td>0.53</td>\n",
       "      <td>0.48</td>\n",
       "    </tr>\n",
       "    <tr>\n",
       "      <th>40</th>\n",
       "      <td>1.00</td>\n",
       "      <td>2.78</td>\n",
       "      <td>0.41</td>\n",
       "      <td>5.00</td>\n",
       "      <td>0.00</td>\n",
       "      <td>0.28</td>\n",
       "      <td>0.12</td>\n",
       "      <td>0.33</td>\n",
       "      <td>0.26</td>\n",
       "      <td>0.76</td>\n",
       "      <td>0.63</td>\n",
       "      <td>0.77</td>\n",
       "      <td>0.41</td>\n",
       "    </tr>\n",
       "    <tr>\n",
       "      <th>41</th>\n",
       "      <td>0.00</td>\n",
       "      <td>2.85</td>\n",
       "      <td>0.53</td>\n",
       "      <td>5.00</td>\n",
       "      <td>1.00</td>\n",
       "      <td>0.39</td>\n",
       "      <td>0.14</td>\n",
       "      <td>0.31</td>\n",
       "      <td>0.17</td>\n",
       "      <td>0.57</td>\n",
       "      <td>0.58</td>\n",
       "      <td>0.68</td>\n",
       "      <td>0.60</td>\n",
       "    </tr>\n",
       "    <tr>\n",
       "      <th>42</th>\n",
       "      <td>0.00</td>\n",
       "      <td>2.83</td>\n",
       "      <td>0.65</td>\n",
       "      <td>5.50</td>\n",
       "      <td>1.00</td>\n",
       "      <td>0.49</td>\n",
       "      <td>0.16</td>\n",
       "      <td>0.25</td>\n",
       "      <td>0.10</td>\n",
       "      <td>0.70</td>\n",
       "      <td>0.60</td>\n",
       "      <td>0.85</td>\n",
       "      <td>0.48</td>\n",
       "    </tr>\n",
       "    <tr>\n",
       "      <th>43</th>\n",
       "      <td>1.00</td>\n",
       "      <td>2.78</td>\n",
       "      <td>0.38</td>\n",
       "      <td>5.00</td>\n",
       "      <td>0.00</td>\n",
       "      <td>0.30</td>\n",
       "      <td>0.09</td>\n",
       "      <td>0.32</td>\n",
       "      <td>0.30</td>\n",
       "      <td>0.81</td>\n",
       "      <td>0.79</td>\n",
       "      <td>0.75</td>\n",
       "      <td>0.62</td>\n",
       "    </tr>\n",
       "    <tr>\n",
       "      <th>44</th>\n",
       "      <td>1.00</td>\n",
       "      <td>2.77</td>\n",
       "      <td>0.35</td>\n",
       "      <td>5.00</td>\n",
       "      <td>0.00</td>\n",
       "      <td>0.21</td>\n",
       "      <td>0.14</td>\n",
       "      <td>0.37</td>\n",
       "      <td>0.28</td>\n",
       "      <td>0.74</td>\n",
       "      <td>0.39</td>\n",
       "      <td>0.78</td>\n",
       "      <td>0.50</td>\n",
       "    </tr>\n",
       "    <tr>\n",
       "      <th>45</th>\n",
       "      <td>0.00</td>\n",
       "      <td>2.93</td>\n",
       "      <td>0.59</td>\n",
       "      <td>5.00</td>\n",
       "      <td>1.00</td>\n",
       "      <td>0.48</td>\n",
       "      <td>0.10</td>\n",
       "      <td>0.27</td>\n",
       "      <td>0.15</td>\n",
       "      <td>0.68</td>\n",
       "      <td>0.80</td>\n",
       "      <td>0.83</td>\n",
       "      <td>0.55</td>\n",
       "    </tr>\n",
       "    <tr>\n",
       "      <th>46</th>\n",
       "      <td>0.00</td>\n",
       "      <td>2.91</td>\n",
       "      <td>0.60</td>\n",
       "      <td>5.00</td>\n",
       "      <td>1.00</td>\n",
       "      <td>0.46</td>\n",
       "      <td>0.14</td>\n",
       "      <td>0.28</td>\n",
       "      <td>0.12</td>\n",
       "      <td>0.75</td>\n",
       "      <td>0.78</td>\n",
       "      <td>0.72</td>\n",
       "      <td>0.67</td>\n",
       "    </tr>\n",
       "    <tr>\n",
       "      <th>47</th>\n",
       "      <td>0.00</td>\n",
       "      <td>2.93</td>\n",
       "      <td>0.63</td>\n",
       "      <td>5.00</td>\n",
       "      <td>1.00</td>\n",
       "      <td>0.51</td>\n",
       "      <td>0.12</td>\n",
       "      <td>0.25</td>\n",
       "      <td>0.11</td>\n",
       "      <td>0.83</td>\n",
       "      <td>0.78</td>\n",
       "      <td>0.57</td>\n",
       "      <td>0.82</td>\n",
       "    </tr>\n",
       "    <tr>\n",
       "      <th>48</th>\n",
       "      <td>1.00</td>\n",
       "      <td>2.77</td>\n",
       "      <td>0.37</td>\n",
       "      <td>5.00</td>\n",
       "      <td>0.00</td>\n",
       "      <td>0.26</td>\n",
       "      <td>0.12</td>\n",
       "      <td>0.34</td>\n",
       "      <td>0.28</td>\n",
       "      <td>0.74</td>\n",
       "      <td>0.45</td>\n",
       "      <td>0.74</td>\n",
       "      <td>0.44</td>\n",
       "    </tr>\n",
       "    <tr>\n",
       "      <th>49</th>\n",
       "      <td>0.00</td>\n",
       "      <td>2.88</td>\n",
       "      <td>0.67</td>\n",
       "      <td>5.00</td>\n",
       "      <td>1.00</td>\n",
       "      <td>0.54</td>\n",
       "      <td>0.13</td>\n",
       "      <td>0.23</td>\n",
       "      <td>0.10</td>\n",
       "      <td>0.77</td>\n",
       "      <td>0.65</td>\n",
       "      <td>0.88</td>\n",
       "      <td>0.30</td>\n",
       "    </tr>\n",
       "  </tbody>\n",
       "</table>\n",
       "</div>"
      ],
      "text/plain": [
       "    Rank  Median_score  Cooperation_rating  Wins  Initial_C_rate  CC_rate  \\\n",
       "0   8.00          1.99                0.04  8.00            0.00     0.02   \n",
       "1   7.00          2.25                0.48  5.00            0.00     0.09   \n",
       "2   6.00          2.38                0.47  5.00            0.00     0.13   \n",
       "3   4.00          2.43                0.49  4.00            0.00     0.17   \n",
       "4   2.00          2.56                0.58  4.50            1.00     0.37   \n",
       "5   5.00          2.42                0.48  6.00            0.00     0.25   \n",
       "6   5.00          2.33                0.19  6.00            0.00     0.05   \n",
       "7   7.00          2.33                0.49  4.00            1.00     0.23   \n",
       "8   1.00          2.57                0.35  6.00            0.00     0.13   \n",
       "9   1.00          2.64                0.39  5.00            0.00     0.23   \n",
       "10  1.00          2.70                0.60  4.00            1.00     0.44   \n",
       "11  1.00          2.62                0.52  5.00            1.00     0.35   \n",
       "12  1.00          2.65                0.42  5.00            1.00     0.25   \n",
       "13  1.00          2.55                0.38  4.00            0.00     0.19   \n",
       "14  1.00          2.75                0.51  5.50            1.00     0.33   \n",
       "15  1.00          2.65                0.47  4.00            1.00     0.29   \n",
       "16  1.00          2.73                0.59  4.00            1.00     0.43   \n",
       "17  0.00          2.86                0.75  4.00            1.00     0.61   \n",
       "18  1.00          2.69                0.55  5.00            1.00     0.36   \n",
       "19  1.00          2.68                0.45  5.00            1.00     0.25   \n",
       "20  2.00          2.66                0.46  5.00            0.00     0.30   \n",
       "21  1.00          2.71                0.39  5.00            0.00     0.24   \n",
       "22  1.00          2.69                0.57  5.00            1.00     0.45   \n",
       "23  1.00          2.73                0.43  5.00            0.00     0.28   \n",
       "24  1.00          2.74                0.40  5.00            0.00     0.30   \n",
       "25  1.00          2.73                0.40  5.00            0.00     0.26   \n",
       "26  1.00          2.74                0.57  5.00            1.00     0.47   \n",
       "27  1.00          2.73                0.39  5.00            0.00     0.26   \n",
       "28  1.00          2.78                0.41  5.00            0.00     0.29   \n",
       "29  1.00          2.74                0.41  5.00            0.00     0.31   \n",
       "30  1.00          2.64                0.30  6.00            0.00     0.13   \n",
       "31  1.00          2.80                0.51  5.00            1.00     0.39   \n",
       "32  0.00          2.85                0.61  5.00            1.00     0.50   \n",
       "33  1.00          2.69                0.33  5.00            0.00     0.23   \n",
       "34  1.00          2.76                0.44  5.00            1.00     0.30   \n",
       "35  1.00          2.75                0.53  6.00            1.00     0.39   \n",
       "36  1.00          2.70                0.42  5.50            0.00     0.27   \n",
       "37  1.00          2.75                0.39  5.00            0.00     0.25   \n",
       "38  1.00          2.77                0.39  5.00            0.00     0.26   \n",
       "39  1.00          2.76                0.44  5.00            1.00     0.32   \n",
       "40  1.00          2.78                0.41  5.00            0.00     0.28   \n",
       "41  0.00          2.85                0.53  5.00            1.00     0.39   \n",
       "42  0.00          2.83                0.65  5.50            1.00     0.49   \n",
       "43  1.00          2.78                0.38  5.00            0.00     0.30   \n",
       "44  1.00          2.77                0.35  5.00            0.00     0.21   \n",
       "45  0.00          2.93                0.59  5.00            1.00     0.48   \n",
       "46  0.00          2.91                0.60  5.00            1.00     0.46   \n",
       "47  0.00          2.93                0.63  5.00            1.00     0.51   \n",
       "48  1.00          2.77                0.37  5.00            0.00     0.26   \n",
       "49  0.00          2.88                0.67  5.00            1.00     0.54   \n",
       "\n",
       "    CD_rate  DC_rate  DD_rate  CC_to_C_rate  CD_to_C_rate  DC_to_C_rate  \\\n",
       "0      0.03     0.24     0.71          0.00          0.00          0.15   \n",
       "1      0.38     0.36     0.16          0.38          0.48          0.67   \n",
       "2      0.34     0.36     0.16          0.41          0.22          0.67   \n",
       "3      0.32     0.35     0.16          0.56          0.37          0.66   \n",
       "4      0.21     0.26     0.16          0.79          0.30          0.46   \n",
       "5      0.23     0.29     0.24          0.63          0.30          0.71   \n",
       "6      0.14     0.34     0.46          0.83          0.31          0.52   \n",
       "7      0.26     0.28     0.24          0.54          0.28          0.73   \n",
       "8      0.22     0.38     0.27          0.59          0.36          0.57   \n",
       "9      0.17     0.34     0.27          0.93          0.42          0.54   \n",
       "10     0.16     0.25     0.15          0.67          0.56          0.80   \n",
       "11     0.17     0.27     0.21          0.55          0.40          0.79   \n",
       "12     0.17     0.33     0.25          0.70          0.26          0.69   \n",
       "13     0.19     0.34     0.28          0.74          0.29          0.58   \n",
       "14     0.18     0.31     0.18          0.64          0.39          0.79   \n",
       "15     0.18     0.31     0.22          0.56          0.45          0.57   \n",
       "16     0.15     0.26     0.16          0.68          0.59          0.79   \n",
       "17     0.13     0.19     0.06          0.77          0.64          0.90   \n",
       "18     0.19     0.29     0.16          0.63          0.28          0.77   \n",
       "19     0.20     0.35     0.20          0.68          0.23          0.81   \n",
       "20     0.15     0.30     0.24          0.87          0.37          0.82   \n",
       "21     0.15     0.34     0.27          0.79          0.47          0.77   \n",
       "22     0.12     0.23     0.20          0.57          0.54          0.90   \n",
       "23     0.15     0.33     0.24          0.89          0.39          0.77   \n",
       "24     0.11     0.31     0.29          0.77          0.54          0.53   \n",
       "25     0.13     0.33     0.27          0.77          0.63          0.78   \n",
       "26     0.10     0.22     0.21          0.51          0.55          0.83   \n",
       "27     0.13     0.33     0.28          0.66          0.59          0.74   \n",
       "28     0.12     0.33     0.26          0.94          0.38          0.64   \n",
       "29     0.11     0.31     0.28          0.82          0.75          0.81   \n",
       "30     0.17     0.39     0.31          0.69          0.34          0.56   \n",
       "31     0.12     0.29     0.20          0.57          0.71          0.70   \n",
       "32     0.11     0.24     0.15          0.59          0.78          0.83   \n",
       "33     0.10     0.33     0.34          0.80          0.56          0.66   \n",
       "34     0.14     0.32     0.23          0.69          0.41          0.60   \n",
       "35     0.14     0.27     0.19          0.50          0.47          0.82   \n",
       "36     0.14     0.33     0.26          0.78          0.43          0.80   \n",
       "37     0.13     0.34     0.27          0.81          0.63          0.64   \n",
       "38     0.13     0.34     0.27          0.83          0.56          0.61   \n",
       "39     0.12     0.31     0.24          0.81          0.44          0.53   \n",
       "40     0.12     0.33     0.26          0.76          0.63          0.77   \n",
       "41     0.14     0.31     0.17          0.57          0.58          0.68   \n",
       "42     0.16     0.25     0.10          0.70          0.60          0.85   \n",
       "43     0.09     0.32     0.30          0.81          0.79          0.75   \n",
       "44     0.14     0.37     0.28          0.74          0.39          0.78   \n",
       "45     0.10     0.27     0.15          0.68          0.80          0.83   \n",
       "46     0.14     0.28     0.12          0.75          0.78          0.72   \n",
       "47     0.12     0.25     0.11          0.83          0.78          0.57   \n",
       "48     0.12     0.34     0.28          0.74          0.45          0.74   \n",
       "49     0.13     0.23     0.10          0.77          0.65          0.88   \n",
       "\n",
       "    DD_to_C_rate  \n",
       "0           0.15  \n",
       "1           0.58  \n",
       "2           0.99  \n",
       "3           0.92  \n",
       "4           0.65  \n",
       "5           0.69  \n",
       "6           0.16  \n",
       "7           0.61  \n",
       "8           0.53  \n",
       "9           0.41  \n",
       "10          0.54  \n",
       "11          0.35  \n",
       "12          0.48  \n",
       "13          0.51  \n",
       "14          0.48  \n",
       "15          0.58  \n",
       "16          0.39  \n",
       "17          0.48  \n",
       "18          0.34  \n",
       "19          0.45  \n",
       "20          0.36  \n",
       "21          0.39  \n",
       "22          0.19  \n",
       "23          0.53  \n",
       "24          0.54  \n",
       "25          0.28  \n",
       "26          0.37  \n",
       "27          0.32  \n",
       "28          0.49  \n",
       "29          0.21  \n",
       "30          0.40  \n",
       "31          0.37  \n",
       "32          0.23  \n",
       "33          0.27  \n",
       "34          0.51  \n",
       "35          0.29  \n",
       "36          0.39  \n",
       "37          0.49  \n",
       "38          0.45  \n",
       "39          0.48  \n",
       "40          0.41  \n",
       "41          0.60  \n",
       "42          0.48  \n",
       "43          0.62  \n",
       "44          0.50  \n",
       "45          0.55  \n",
       "46          0.67  \n",
       "47          0.82  \n",
       "48          0.44  \n",
       "49          0.30  "
      ]
     },
     "execution_count": 7,
     "metadata": {},
     "output_type": "execute_result"
    }
   ],
   "source": [
    "pd.DataFrame([l.loc['DQN'] for l in ls], index=range(50))"
   ]
  },
  {
   "cell_type": "code",
   "execution_count": 16,
   "id": "e68790bc-f11c-4bb9-81b8-aced6f290a3b",
   "metadata": {},
   "outputs": [],
   "source": [
    "d_score = pd.DataFrame([l.loc['DQN','Median_score'] for l in ls]).to_numpy().T[0]\n",
    "t_score = pd.DataFrame([l.loc['Tit For Tat','Median_score'] for l in ls]).to_numpy().T[0]"
   ]
  },
  {
   "cell_type": "code",
   "execution_count": 147,
   "id": "d4a38b6a-eb7c-4260-9837-dbc82b0f07d2",
   "metadata": {},
   "outputs": [
    {
     "data": {
      "image/png": "[encoded data removed]",
      "text/plain": [
       "<Figure size 800x640 with 2 Axes>"
      ]
     },
     "metadata": {
      "needs_background": "light"
     },
     "output_type": "display_data"
    }
   ],
   "source": [
    "fig, ax1 = plt.subplots(figsize=(10, 8), dpi=80)\n",
    "ax2 = ax1.twinx()\n",
    "\n",
    "ax1.scatter(range(0,20000,400), d_score, c='tab:red', marker='x', label='DQN')\n",
    "ax1.scatter(range(0,20000,400), t_score, c='tab:blue', marker='+', label='Tit-For-Tat')\n",
    "ax1.plot(range(0,20000,400), d_score, c='tab:red')\n",
    "ax1.plot(range(0,20000,400), t_score, c='tab:blue')\n",
    "ax1.set_ylim([1.9, 3.0])\n",
    "\n",
    "ax2.scatter(*zip(*[(i[0], i[1][0]) for i in p1.network.loss_ls[::3]]), c='tab:green', marker='x', label='Cooperation', alpha=.6, s=3)\n",
    "ax2.scatter(*zip(*[(i[0], i[1][1]) for i in p1.network.loss_ls[::3]]), c='tab:orange', marker='+', label='Defection', alpha=.6, s=3)\n",
    "ax2.set_ylim([0.0, 3.0])\n",
    "\n",
    "ax1.set_xlabel('Epochs', fontsize=12)\n",
    "ax1.set_ylabel('Tournament Score', fontsize=15)\n",
    "ax1.legend(loc='upper left')\n",
    "\n",
    "ax2.set_ylabel('MSE Loss', fontsize=12)\n",
    "ax2.legend(loc='lower right')\n",
    "\n",
    "plt.show()"
   ]
  },
  {
   "cell_type": "code",
   "execution_count": 148,
   "id": "3d53cbaf-b638-490c-b7a9-4feb7c9ab2f6",
   "metadata": {},
   "outputs": [
    {
     "data": {
      "image/png": "[encoded data removed]",
      "text/plain": [
       "<Figure size 800x640 with 1 Axes>"
      ]
     },
     "metadata": {
      "needs_background": "light"
     },
     "output_type": "display_data"
    }
   ],
   "source": [
    "plt.figure(figsize=(10, 8), dpi=80)\n",
    "plt.scatter(range(0,20000,400), d_score, c='tab:red', marker='x', label='DQN')\n",
    "plt.scatter(range(0,20000,400), t_score, c='tab:blue', marker='+', label='Tit-For-Tat')\n",
    "plt.plot(range(0,20000,400), d_score, c='tab:red')\n",
    "plt.plot(range(0,20000,400), t_score, c='tab:blue')\n",
    "plt.xlabel('Epochs')\n",
    "plt.ylabel('Median Score')\n",
    "plt.legend(loc='upper left')\n",
    "plt.show()"
   ]
  },
  {
   "cell_type": "code",
   "execution_count": 39,
   "id": "f83180bc-072f-455d-a826-c876c8275b50",
   "metadata": {},
   "outputs": [],
   "source": [
    "p1.set_greedy(0)\n",
    "p1.network.verbosity = False"
   ]
  },
  {
   "cell_type": "code",
   "execution_count": 40,
   "id": "1c924824-8e1e-4003-a724-c01cc05b1434",
   "metadata": {},
   "outputs": [
    {
     "name": "stdout",
     "output_type": "stream",
     "text": [
      "Prober\n",
      "[(3, 3), (3, 3), (3, 3), (3, 3), (3, 3), (3, 3), (3, 3), (5, 0), (0, 5), (0, 5), (3, 3), (3, 3), (3, 3), (3, 3), (3, 3), (3, 3), (0, 5), (5, 0), (0, 5), (5, 0)]\n",
      "Player 1 score = 54\n",
      "Player 2 score = 59\n",
      "\n",
      "TFT\n",
      "[(3, 3), (3, 3), (3, 3), (3, 3), (3, 3), (3, 3), (3, 3), (5, 0), (0, 5), (3, 3), (3, 3), (5, 0), (0, 5), (3, 3), (3, 3), (3, 3), (3, 3), (3, 3), (3, 3), (5, 0)]\n",
      "Player 1 score = 60\n",
      "Player 2 score = 55\n",
      "\n",
      "Alternator\n",
      "[(3, 3), (0, 5), (5, 0), (0, 5), (3, 3), (0, 5), (3, 3), (1, 1), (3, 3), (1, 1), (3, 3), (0, 5), (5, 0), (0, 5), (3, 3), (0, 5), (3, 3), (0, 5), (3, 3), (1, 1)]\n",
      "Player 1 score = 37\n",
      "Player 2 score = 62\n"
     ]
    }
   ],
   "source": [
    "print(\"Prober\")\n",
    "play(p1, axl.RemorsefulProber(0.2));\n",
    "\n",
    "print(\"\\nTFT\")\n",
    "play(p1, axl.TitForTat());\n",
    "\n",
    "print(\"\\nAlternator\")\n",
    "play(p1, axl.Alternator());"
   ]
  },
  {
   "cell_type": "markdown",
   "id": "38d922ef-4d86-4671-8d7b-27df207ee8db",
   "metadata": {},
   "source": [
    "### Extra training"
   ]
  },
  {
   "cell_type": "code",
   "execution_count": 11,
   "id": "10b77db6-5d69-48a9-a4f1-5156a704b998",
   "metadata": {},
   "outputs": [],
   "source": [
    "with open(\"data/s2/p1_98.pkl\", \"rb\") as file:\n",
    "    p1 = dill.load(file)\n",
    "\n",
    "with open(\"data/s2/tn_results.pkl\", \"rb\") as file:\n",
    "    ls = dill.load(file)"
   ]
  },
  {
   "cell_type": "code",
   "execution_count": 12,
   "id": "241d025b-7ca2-4b33-988d-954607abee3d",
   "metadata": {
    "scrolled": true,
    "tags": []
   },
   "outputs": [
    {
     "name": "stdout",
     "output_type": "stream",
     "text": [
      "loss: [1.08  0.538],            time: +127.65 sec\n"
     ]
    },
    {
     "name": "stderr",
     "output_type": "stream",
     "text": [
      "Playing matches: 100%|█████████████████████████████████████████████████████████████████| 45/45 [00:00<00:00, 80.74it/s]\n",
      "Analysing: 100%|███████████████████████████████████████████████████████████████████████| 25/25 [00:00<00:00, 76.46it/s]\n"
     ]
    },
    {
     "name": "stdout",
     "output_type": "stream",
     "text": [
      "Rank           1.00\n",
      "Median_score   2.76\n",
      "Name: DQN, dtype: float64\n",
      "loss: [1.045 0.794],            time: +111.58 sec\n",
      "loss: [1.456 0.656],            time: +132.58 sec\n"
     ]
    },
    {
     "name": "stderr",
     "output_type": "stream",
     "text": [
      "Playing matches: 100%|█████████████████████████████████████████████████████████████████| 45/45 [00:00<00:00, 58.52it/s]\n",
      "Analysing: 100%|███████████████████████████████████████████████████████████████████████| 25/25 [00:00<00:00, 72.68it/s]\n"
     ]
    },
    {
     "name": "stdout",
     "output_type": "stream",
     "text": [
      "Rank           1.00\n",
      "Median_score   2.81\n",
      "Name: DQN, dtype: float64\n",
      "loss: [1.14  0.753],            time: +125.54 sec\n",
      "loss: [1.267 0.772],            time: +112.55 sec\n"
     ]
    },
    {
     "name": "stderr",
     "output_type": "stream",
     "text": [
      "Playing matches: 100%|█████████████████████████████████████████████████████████████████| 45/45 [00:00<00:00, 98.68it/s]\n",
      "Analysing: 100%|██████████████████████████████████████████████████████████████████████| 25/25 [00:00<00:00, 104.60it/s]\n"
     ]
    },
    {
     "name": "stdout",
     "output_type": "stream",
     "text": [
      "Rank           1.00\n",
      "Median_score   2.78\n",
      "Name: DQN, dtype: float64\n",
      "loss: [0.958 1.023],            time: +111.67 sec\n",
      "loss: [0.995 1.046],            time: +111.90 sec\n"
     ]
    },
    {
     "name": "stderr",
     "output_type": "stream",
     "text": [
      "Playing matches: 100%|█████████████████████████████████████████████████████████████████| 45/45 [00:00<00:00, 93.56it/s]\n",
      "Analysing: 100%|███████████████████████████████████████████████████████████████████████| 25/25 [00:00<00:00, 92.59it/s]\n"
     ]
    },
    {
     "name": "stdout",
     "output_type": "stream",
     "text": [
      "Rank           0.00\n",
      "Median_score   2.86\n",
      "Name: DQN, dtype: float64\n",
      "loss: [1.161 0.686],            time: +116.14 sec\n",
      "loss: [1.003 1.068],            time: +111.92 sec\n"
     ]
    },
    {
     "name": "stderr",
     "output_type": "stream",
     "text": [
      "Playing matches: 100%|████████████████████████████████████████████████████████████████| 45/45 [00:00<00:00, 100.75it/s]\n",
      "Analysing: 100%|██████████████████████████████████████████████████████████████████████| 25/25 [00:00<00:00, 107.76it/s]\n"
     ]
    },
    {
     "name": "stdout",
     "output_type": "stream",
     "text": [
      "Rank           0.00\n",
      "Median_score   2.81\n",
      "Name: DQN, dtype: float64\n",
      "loss: [0.882 0.931],            time: +110.88 sec\n",
      "loss: [1.314 0.799],            time: +110.60 sec\n"
     ]
    },
    {
     "name": "stderr",
     "output_type": "stream",
     "text": [
      "Playing matches: 100%|█████████████████████████████████████████████████████████████████| 45/45 [00:00<00:00, 92.40it/s]\n",
      "Analysing: 100%|███████████████████████████████████████████████████████████████████████| 25/25 [00:00<00:00, 95.79it/s]\n"
     ]
    },
    {
     "name": "stdout",
     "output_type": "stream",
     "text": [
      "Rank           1.00\n",
      "Median_score   2.80\n",
      "Name: DQN, dtype: float64\n",
      "loss: [1.362 0.732],            time: +113.99 sec\n",
      "loss: [1.433 0.659],            time: +114.03 sec\n"
     ]
    },
    {
     "name": "stderr",
     "output_type": "stream",
     "text": [
      "Playing matches: 100%|█████████████████████████████████████████████████████████████████| 45/45 [00:00<00:00, 92.54it/s]\n",
      "Analysing: 100%|██████████████████████████████████████████████████████████████████████| 25/25 [00:00<00:00, 106.96it/s]\n"
     ]
    },
    {
     "name": "stdout",
     "output_type": "stream",
     "text": [
      "Rank           1.00\n",
      "Median_score   2.73\n",
      "Name: DQN, dtype: float64\n",
      "loss: [1.352 0.657],            time: +114.56 sec\n",
      "loss: [1.509 0.629],            time: +114.60 sec\n"
     ]
    },
    {
     "name": "stderr",
     "output_type": "stream",
     "text": [
      "Playing matches: 100%|█████████████████████████████████████████████████████████████████| 45/45 [00:00<00:00, 94.28it/s]\n",
      "Analysing: 100%|██████████████████████████████████████████████████████████████████████| 25/25 [00:00<00:00, 105.04it/s]\n"
     ]
    },
    {
     "name": "stdout",
     "output_type": "stream",
     "text": [
      "Rank           0.00\n",
      "Median_score   2.92\n",
      "Name: DQN, dtype: float64\n",
      "loss: [1.013 0.613],            time: +115.06 sec\n",
      "loss: [1.134 0.493],            time: +114.48 sec\n"
     ]
    },
    {
     "name": "stderr",
     "output_type": "stream",
     "text": [
      "Playing matches: 100%|█████████████████████████████████████████████████████████████████| 45/45 [00:00<00:00, 93.99it/s]\n",
      "Analysing: 100%|██████████████████████████████████████████████████████████████████████| 25/25 [00:00<00:00, 102.46it/s]\n"
     ]
    },
    {
     "name": "stdout",
     "output_type": "stream",
     "text": [
      "Rank           1.00\n",
      "Median_score   2.76\n",
      "Name: DQN, dtype: float64\n",
      "loss: [1.45 0.75],            time: +112.09 sec\n",
      "loss: [0.964 1.   ],            time: +113.40 sec\n"
     ]
    },
    {
     "name": "stderr",
     "output_type": "stream",
     "text": [
      "Playing matches: 100%|████████████████████████████████████████████████████████████████| 45/45 [00:00<00:00, 101.35it/s]\n",
      "Analysing: 100%|███████████████████████████████████████████████████████████████████████| 25/25 [00:00<00:00, 90.38it/s]\n"
     ]
    },
    {
     "name": "stdout",
     "output_type": "stream",
     "text": [
      "Rank           1.00\n",
      "Median_score   2.75\n",
      "Name: DQN, dtype: float64\n",
      "loss: [0.618 1.183],            time: +115.09 sec\n",
      "loss: [1.084 0.996],            time: +111.20 sec\n"
     ]
    },
    {
     "name": "stderr",
     "output_type": "stream",
     "text": [
      "Playing matches: 100%|█████████████████████████████████████████████████████████████████| 45/45 [00:00<00:00, 88.03it/s]\n",
      "Analysing: 100%|██████████████████████████████████████████████████████████████████████| 25/25 [00:00<00:00, 107.03it/s]\n"
     ]
    },
    {
     "name": "stdout",
     "output_type": "stream",
     "text": [
      "Rank           0.00\n",
      "Median_score   2.92\n",
      "Name: DQN, dtype: float64\n",
      "loss: [0.882 1.001],            time: +114.14 sec\n",
      "loss: [1.043 0.725],            time: +114.02 sec\n"
     ]
    },
    {
     "name": "stderr",
     "output_type": "stream",
     "text": [
      "Playing matches: 100%|█████████████████████████████████████████████████████████████████| 45/45 [00:00<00:00, 92.49it/s]\n",
      "Analysing: 100%|██████████████████████████████████████████████████████████████████████| 25/25 [00:00<00:00, 112.11it/s]\n"
     ]
    },
    {
     "name": "stdout",
     "output_type": "stream",
     "text": [
      "Rank           1.00\n",
      "Median_score   2.78\n",
      "Name: DQN, dtype: float64\n",
      "loss: [1.218 0.596],            time: +115.07 sec\n",
      "loss: [1.185 0.703],            time: +112.84 sec\n"
     ]
    },
    {
     "name": "stderr",
     "output_type": "stream",
     "text": [
      "Playing matches: 100%|█████████████████████████████████████████████████████████████████| 45/45 [00:00<00:00, 93.29it/s]\n",
      "Analysing: 100%|██████████████████████████████████████████████████████████████████████| 25/25 [00:00<00:00, 109.17it/s]\n"
     ]
    },
    {
     "name": "stdout",
     "output_type": "stream",
     "text": [
      "Rank           0.00\n",
      "Median_score   2.92\n",
      "Name: DQN, dtype: float64\n",
      "loss: [0.997 0.926],            time: +114.93 sec\n",
      "loss: [1.099 0.962],            time: +112.10 sec\n"
     ]
    },
    {
     "name": "stderr",
     "output_type": "stream",
     "text": [
      "Playing matches: 100%|█████████████████████████████████████████████████████████████████| 45/45 [00:00<00:00, 97.40it/s]\n",
      "Analysing: 100%|██████████████████████████████████████████████████████████████████████| 25/25 [00:00<00:00, 102.04it/s]\n"
     ]
    },
    {
     "name": "stdout",
     "output_type": "stream",
     "text": [
      "Rank           0.00\n",
      "Median_score   2.92\n",
      "Name: DQN, dtype: float64\n",
      "loss: [0.965 0.728],            time: +115.76 sec\n",
      "loss: [1.252 0.572],            time: +113.80 sec\n"
     ]
    },
    {
     "name": "stderr",
     "output_type": "stream",
     "text": [
      "Playing matches: 100%|█████████████████████████████████████████████████████████████████| 45/45 [00:00<00:00, 98.47it/s]\n",
      "Analysing: 100%|██████████████████████████████████████████████████████████████████████| 25/25 [00:00<00:00, 113.76it/s]\n"
     ]
    },
    {
     "name": "stdout",
     "output_type": "stream",
     "text": [
      "Rank           0.00\n",
      "Median_score   2.96\n",
      "Name: DQN, dtype: float64\n",
      "loss: [1.285 0.599],            time: +115.51 sec\n",
      "loss: [1.444 0.483],            time: +113.25 sec\n"
     ]
    },
    {
     "name": "stderr",
     "output_type": "stream",
     "text": [
      "Playing matches: 100%|█████████████████████████████████████████████████████████████████| 45/45 [00:00<00:00, 93.13it/s]\n",
      "Analysing: 100%|██████████████████████████████████████████████████████████████████████| 25/25 [00:00<00:00, 103.35it/s]\n"
     ]
    },
    {
     "name": "stdout",
     "output_type": "stream",
     "text": [
      "Rank           1.00\n",
      "Median_score   2.82\n",
      "Name: DQN, dtype: float64\n",
      "loss: [1.519 0.47 ],            time: +112.53 sec\n",
      "loss: [1.264 0.521],            time: +113.45 sec\n"
     ]
    },
    {
     "name": "stderr",
     "output_type": "stream",
     "text": [
      "Playing matches: 100%|█████████████████████████████████████████████████████████████████| 45/45 [00:00<00:00, 94.72it/s]\n",
      "Analysing: 100%|██████████████████████████████████████████████████████████████████████| 25/25 [00:00<00:00, 104.67it/s]\n"
     ]
    },
    {
     "name": "stdout",
     "output_type": "stream",
     "text": [
      "Rank           1.00\n",
      "Median_score   2.78\n",
      "Name: DQN, dtype: float64\n",
      "loss: [1.649 0.709],            time: +115.05 sec\n",
      "loss: [1.517 0.684],            time: +114.98 sec\n"
     ]
    },
    {
     "name": "stderr",
     "output_type": "stream",
     "text": [
      "Playing matches: 100%|█████████████████████████████████████████████████████████████████| 45/45 [00:00<00:00, 92.40it/s]\n",
      "Analysing: 100%|██████████████████████████████████████████████████████████████████████| 25/25 [00:00<00:00, 105.04it/s]\n"
     ]
    },
    {
     "name": "stdout",
     "output_type": "stream",
     "text": [
      "Rank           1.00\n",
      "Median_score   2.77\n",
      "Name: DQN, dtype: float64\n",
      "loss: [1.312 0.868],            time: +114.01 sec\n",
      "loss: [1.428 0.865],            time: +113.71 sec\n"
     ]
    },
    {
     "name": "stderr",
     "output_type": "stream",
     "text": [
      "Playing matches: 100%|█████████████████████████████████████████████████████████████████| 45/45 [00:00<00:00, 91.22it/s]\n",
      "Analysing: 100%|██████████████████████████████████████████████████████████████████████| 25/25 [00:00<00:00, 101.21it/s]\n"
     ]
    },
    {
     "name": "stdout",
     "output_type": "stream",
     "text": [
      "Rank           1.00\n",
      "Median_score   2.74\n",
      "Name: DQN, dtype: float64\n",
      "loss: [1.534 0.645],            time: +116.51 sec\n",
      "loss: [1.36  0.516],            time: +115.61 sec\n"
     ]
    },
    {
     "name": "stderr",
     "output_type": "stream",
     "text": [
      "Playing matches: 100%|████████████████████████████████████████████████████████████████| 45/45 [00:00<00:00, 105.39it/s]\n",
      "Analysing: 100%|██████████████████████████████████████████████████████████████████████| 25/25 [00:00<00:00, 105.49it/s]\n"
     ]
    },
    {
     "name": "stdout",
     "output_type": "stream",
     "text": [
      "Rank           1.00\n",
      "Median_score   2.75\n",
      "Name: DQN, dtype: float64\n",
      "loss: [1.264 0.517],            time: +113.10 sec\n",
      "loss: [1.263 0.486],            time: +115.59 sec\n"
     ]
    },
    {
     "name": "stderr",
     "output_type": "stream",
     "text": [
      "Playing matches: 100%|█████████████████████████████████████████████████████████████████| 45/45 [00:00<00:00, 89.66it/s]\n",
      "Analysing: 100%|██████████████████████████████████████████████████████████████████████| 25/25 [00:00<00:00, 102.46it/s]\n"
     ]
    },
    {
     "name": "stdout",
     "output_type": "stream",
     "text": [
      "Rank           0.00\n",
      "Median_score   2.94\n",
      "Name: DQN, dtype: float64\n",
      "loss: [1.141 0.556],            time: +112.25 sec\n",
      "loss: [1.023 0.778],            time: +114.38 sec\n"
     ]
    },
    {
     "name": "stderr",
     "output_type": "stream",
     "text": [
      "Playing matches: 100%|█████████████████████████████████████████████████████████████████| 45/45 [00:00<00:00, 93.50it/s]\n",
      "Analysing: 100%|███████████████████████████████████████████████████████████████████████| 25/25 [00:00<00:00, 94.34it/s]\n"
     ]
    },
    {
     "name": "stdout",
     "output_type": "stream",
     "text": [
      "Rank           0.00\n",
      "Median_score   2.95\n",
      "Name: DQN, dtype: float64\n",
      "loss: [1.129 0.724],            time: +113.50 sec\n",
      "loss: [0.953 0.555],            time: +114.47 sec\n"
     ]
    },
    {
     "name": "stderr",
     "output_type": "stream",
     "text": [
      "Playing matches: 100%|█████████████████████████████████████████████████████████████████| 45/45 [00:00<00:00, 94.05it/s]\n",
      "Analysing: 100%|██████████████████████████████████████████████████████████████████████| 25/25 [00:00<00:00, 104.28it/s]\n"
     ]
    },
    {
     "name": "stdout",
     "output_type": "stream",
     "text": [
      "Rank           0.00\n",
      "Median_score   2.88\n",
      "Name: DQN, dtype: float64\n",
      "loss: [0.82  1.187],            time: +113.50 sec\n",
      "loss: [1.08  0.737],            time: +115.72 sec\n"
     ]
    },
    {
     "name": "stderr",
     "output_type": "stream",
     "text": [
      "Playing matches: 100%|█████████████████████████████████████████████████████████████████| 45/45 [00:00<00:00, 88.16it/s]\n",
      "Analysing: 100%|██████████████████████████████████████████████████████████████████████| 25/25 [00:00<00:00, 105.04it/s]\n"
     ]
    },
    {
     "name": "stdout",
     "output_type": "stream",
     "text": [
      "Rank           0.00\n",
      "Median_score   2.93\n",
      "Name: DQN, dtype: float64\n",
      "loss: [0.94  0.851],            time: +113.74 sec\n",
      "loss: [1.362 0.608],            time: +114.38 sec\n"
     ]
    },
    {
     "name": "stderr",
     "output_type": "stream",
     "text": [
      "Playing matches: 100%|█████████████████████████████████████████████████████████████████| 45/45 [00:00<00:00, 92.70it/s]\n",
      "Analysing: 100%|██████████████████████████████████████████████████████████████████████| 25/25 [00:00<00:00, 102.04it/s]\n"
     ]
    },
    {
     "name": "stdout",
     "output_type": "stream",
     "text": [
      "Rank           1.00\n",
      "Median_score   2.75\n",
      "Name: DQN, dtype: float64\n",
      "loss: [1.212 0.859],            time: +115.46 sec\n",
      "loss: [1.339 0.581],            time: +113.57 sec\n"
     ]
    },
    {
     "name": "stderr",
     "output_type": "stream",
     "text": [
      "Playing matches: 100%|█████████████████████████████████████████████████████████████████| 45/45 [00:00<00:00, 93.58it/s]\n",
      "Analysing: 100%|██████████████████████████████████████████████████████████████████████| 25/25 [00:00<00:00, 114.68it/s]\n"
     ]
    },
    {
     "name": "stdout",
     "output_type": "stream",
     "text": [
      "Rank           1.00\n",
      "Median_score   2.76\n",
      "Name: DQN, dtype: float64\n",
      "loss: [0.74  1.171],            time: +115.13 sec\n",
      "loss: [1.245 0.698],            time: +115.36 sec\n"
     ]
    },
    {
     "name": "stderr",
     "output_type": "stream",
     "text": [
      "Playing matches: 100%|█████████████████████████████████████████████████████████████████| 45/45 [00:00<00:00, 94.73it/s]\n",
      "Analysing: 100%|██████████████████████████████████████████████████████████████████████| 25/25 [00:00<00:00, 105.04it/s]\n"
     ]
    },
    {
     "name": "stdout",
     "output_type": "stream",
     "text": [
      "Rank           1.00\n",
      "Median_score   2.82\n",
      "Name: DQN, dtype: float64\n",
      "loss: [1.168 0.833],            time: +114.39 sec\n",
      "loss: [0.896 1.027],            time: +113.85 sec\n"
     ]
    },
    {
     "name": "stderr",
     "output_type": "stream",
     "text": [
      "Playing matches: 100%|█████████████████████████████████████████████████████████████████| 45/45 [00:00<00:00, 94.36it/s]\n",
      "Analysing: 100%|██████████████████████████████████████████████████████████████████████| 25/25 [00:00<00:00, 112.62it/s]\n"
     ]
    },
    {
     "name": "stdout",
     "output_type": "stream",
     "text": [
      "Rank           0.00\n",
      "Median_score   2.93\n",
      "Name: DQN, dtype: float64\n",
      "loss: [1.156 0.694],            time: +114.09 sec\n",
      "loss: [1.216 0.543],            time: +112.19 sec\n"
     ]
    },
    {
     "name": "stderr",
     "output_type": "stream",
     "text": [
      "Playing matches: 100%|█████████████████████████████████████████████████████████████████| 45/45 [00:00<00:00, 95.99it/s]\n",
      "Analysing: 100%|██████████████████████████████████████████████████████████████████████| 25/25 [00:00<00:00, 114.39it/s]\n"
     ]
    },
    {
     "name": "stdout",
     "output_type": "stream",
     "text": [
      "Rank           1.00\n",
      "Median_score   2.75\n",
      "Name: DQN, dtype: float64\n",
      "loss: [1.265 0.808],            time: +114.28 sec\n",
      "loss: [1.036 0.857],            time: +113.83 sec\n"
     ]
    },
    {
     "name": "stderr",
     "output_type": "stream",
     "text": [
      "Playing matches: 100%|█████████████████████████████████████████████████████████████████| 45/45 [00:00<00:00, 96.06it/s]\n",
      "Analysing: 100%|██████████████████████████████████████████████████████████████████████| 25/25 [00:00<00:00, 112.40it/s]\n"
     ]
    },
    {
     "name": "stdout",
     "output_type": "stream",
     "text": [
      "Rank           1.00\n",
      "Median_score   2.73\n",
      "Name: DQN, dtype: float64\n",
      "loss: [1.258 0.679],            time: +113.83 sec\n",
      "loss: [1.088 0.983],            time: +112.32 sec\n"
     ]
    },
    {
     "name": "stderr",
     "output_type": "stream",
     "text": [
      "Playing matches: 100%|█████████████████████████████████████████████████████████████████| 45/45 [00:00<00:00, 79.48it/s]\n",
      "Analysing: 100%|███████████████████████████████████████████████████████████████████████| 25/25 [00:00<00:00, 80.91it/s]\n"
     ]
    },
    {
     "name": "stdout",
     "output_type": "stream",
     "text": [
      "Rank           0.00\n",
      "Median_score   2.90\n",
      "Name: DQN, dtype: float64\n",
      "loss: [0.778 0.959],            time: +114.88 sec\n",
      "loss: [0.962 0.696],            time: +113.01 sec\n"
     ]
    },
    {
     "name": "stderr",
     "output_type": "stream",
     "text": [
      "Playing matches: 100%|█████████████████████████████████████████████████████████████████| 45/45 [00:00<00:00, 92.78it/s]\n",
      "Analysing: 100%|██████████████████████████████████████████████████████████████████████| 25/25 [00:00<00:00, 110.37it/s]\n"
     ]
    },
    {
     "name": "stdout",
     "output_type": "stream",
     "text": [
      "Rank           0.00\n",
      "Median_score   2.82\n",
      "Name: DQN, dtype: float64\n",
      "loss: [1.523 0.64 ],            time: +114.12 sec\n",
      "loss: [0.981 0.96 ],            time: +115.43 sec\n"
     ]
    },
    {
     "name": "stderr",
     "output_type": "stream",
     "text": [
      "Playing matches: 100%|█████████████████████████████████████████████████████████████████| 45/45 [00:00<00:00, 90.54it/s]\n",
      "Analysing: 100%|███████████████████████████████████████████████████████████████████████| 25/25 [00:00<00:00, 98.81it/s]\n"
     ]
    },
    {
     "name": "stdout",
     "output_type": "stream",
     "text": [
      "Rank           0.00\n",
      "Median_score   2.93\n",
      "Name: DQN, dtype: float64\n",
      "loss: [1.255 0.649],            time: +113.62 sec\n",
      "loss: [0.953 0.735],            time: +111.94 sec\n"
     ]
    },
    {
     "name": "stderr",
     "output_type": "stream",
     "text": [
      "Playing matches: 100%|█████████████████████████████████████████████████████████████████| 45/45 [00:00<00:00, 94.03it/s]\n",
      "Analysing: 100%|██████████████████████████████████████████████████████████████████████| 25/25 [00:00<00:00, 111.07it/s]\n"
     ]
    },
    {
     "name": "stdout",
     "output_type": "stream",
     "text": [
      "Rank           0.00\n",
      "Median_score   2.79\n",
      "Name: DQN, dtype: float64\n",
      "loss: [1.063 1.062],            time: +115.04 sec\n",
      "loss: [1.014 0.905],            time: +113.83 sec\n"
     ]
    },
    {
     "name": "stderr",
     "output_type": "stream",
     "text": [
      "Playing matches: 100%|█████████████████████████████████████████████████████████████████| 45/45 [00:00<00:00, 94.52it/s]\n",
      "Analysing: 100%|██████████████████████████████████████████████████████████████████████| 25/25 [00:00<00:00, 111.61it/s]\n"
     ]
    },
    {
     "name": "stdout",
     "output_type": "stream",
     "text": [
      "Rank           0.00\n",
      "Median_score   2.92\n",
      "Name: DQN, dtype: float64\n",
      "loss: [0.86  0.728],            time: +113.77 sec\n",
      "loss: [1.168 0.703],            time: +114.85 sec\n"
     ]
    },
    {
     "name": "stderr",
     "output_type": "stream",
     "text": [
      "Playing matches: 100%|█████████████████████████████████████████████████████████████████| 45/45 [00:00<00:00, 96.36it/s]\n",
      "Analysing: 100%|██████████████████████████████████████████████████████████████████████| 25/25 [00:00<00:00, 110.13it/s]\n"
     ]
    },
    {
     "name": "stdout",
     "output_type": "stream",
     "text": [
      "Rank           0.00\n",
      "Median_score   2.92\n",
      "Name: DQN, dtype: float64\n",
      "loss: [1.186 0.644],            time: +114.48 sec\n",
      "loss: [1.096 0.662],            time: +111.97 sec\n"
     ]
    },
    {
     "name": "stderr",
     "output_type": "stream",
     "text": [
      "Playing matches: 100%|█████████████████████████████████████████████████████████████████| 45/45 [00:00<00:00, 96.21it/s]\n",
      "Analysing: 100%|██████████████████████████████████████████████████████████████████████| 25/25 [00:00<00:00, 113.12it/s]\n"
     ]
    },
    {
     "name": "stdout",
     "output_type": "stream",
     "text": [
      "Rank           1.00\n",
      "Median_score   2.79\n",
      "Name: DQN, dtype: float64\n",
      "loss: [1.566 0.648],            time: +114.56 sec\n",
      "loss: [1.084 1.077],            time: +110.65 sec\n"
     ]
    },
    {
     "name": "stderr",
     "output_type": "stream",
     "text": [
      "Playing matches: 100%|█████████████████████████████████████████████████████████████████| 45/45 [00:00<00:00, 93.60it/s]\n",
      "Analysing: 100%|██████████████████████████████████████████████████████████████████████| 25/25 [00:00<00:00, 110.62it/s]\n"
     ]
    },
    {
     "name": "stdout",
     "output_type": "stream",
     "text": [
      "Rank           1.00\n",
      "Median_score   2.79\n",
      "Name: DQN, dtype: float64\n",
      "loss: [1.425 0.597],            time: +115.10 sec\n",
      "loss: [0.984 1.009],            time: +113.21 sec\n"
     ]
    },
    {
     "name": "stderr",
     "output_type": "stream",
     "text": [
      "Playing matches: 100%|█████████████████████████████████████████████████████████████████| 45/45 [00:00<00:00, 92.81it/s]\n",
      "Analysing: 100%|██████████████████████████████████████████████████████████████████████| 25/25 [00:00<00:00, 111.11it/s]\n"
     ]
    },
    {
     "name": "stdout",
     "output_type": "stream",
     "text": [
      "Rank           1.00\n",
      "Median_score   2.78\n",
      "Name: DQN, dtype: float64\n",
      "loss: [1.097 0.897],            time: +114.64 sec\n",
      "loss: [1.277 0.662],            time: +115.32 sec\n"
     ]
    },
    {
     "name": "stderr",
     "output_type": "stream",
     "text": [
      "Playing matches: 100%|████████████████████████████████████████████████████████████████| 45/45 [00:00<00:00, 103.21it/s]\n",
      "Analysing: 100%|██████████████████████████████████████████████████████████████████████| 25/25 [00:00<00:00, 113.12it/s]\n"
     ]
    },
    {
     "name": "stdout",
     "output_type": "stream",
     "text": [
      "Rank           0.00\n",
      "Median_score   2.81\n",
      "Name: DQN, dtype: float64\n",
      "loss: [0.749 1.245],            time: +112.47 sec\n",
      "loss: [1.047 0.802],            time: +113.26 sec\n"
     ]
    },
    {
     "name": "stderr",
     "output_type": "stream",
     "text": [
      "Playing matches: 100%|█████████████████████████████████████████████████████████████████| 45/45 [00:00<00:00, 95.54it/s]\n",
      "Analysing: 100%|███████████████████████████████████████████████████████████████████████| 25/25 [00:00<00:00, 96.90it/s]\n"
     ]
    },
    {
     "name": "stdout",
     "output_type": "stream",
     "text": [
      "Rank           0.00\n",
      "Median_score   2.90\n",
      "Name: DQN, dtype: float64\n",
      "loss: [1.083 0.629],            time: +114.51 sec\n",
      "loss: [1.201 0.753],            time: +117.66 sec\n"
     ]
    },
    {
     "name": "stderr",
     "output_type": "stream",
     "text": [
      "Playing matches: 100%|█████████████████████████████████████████████████████████████████| 45/45 [00:00<00:00, 80.50it/s]\n",
      "Analysing: 100%|██████████████████████████████████████████████████████████████████████| 25/25 [00:00<00:00, 101.21it/s]\n"
     ]
    },
    {
     "name": "stdout",
     "output_type": "stream",
     "text": [
      "Rank           1.00\n",
      "Median_score   2.66\n",
      "Name: DQN, dtype: float64\n",
      "loss: [0.92  1.257],            time: +115.18 sec\n",
      "loss: [0.835 0.899],            time: +112.50 sec\n"
     ]
    },
    {
     "name": "stderr",
     "output_type": "stream",
     "text": [
      "Playing matches: 100%|█████████████████████████████████████████████████████████████████| 45/45 [00:00<00:00, 94.70it/s]\n",
      "Analysing: 100%|██████████████████████████████████████████████████████████████████████| 25/25 [00:00<00:00, 102.04it/s]\n"
     ]
    },
    {
     "name": "stdout",
     "output_type": "stream",
     "text": [
      "Rank           1.00\n",
      "Median_score   2.79\n",
      "Name: DQN, dtype: float64\n",
      "loss: [1.323 0.901],            time: +111.07 sec\n",
      "loss: [0.908 0.976],            time: +115.62 sec\n"
     ]
    },
    {
     "name": "stderr",
     "output_type": "stream",
     "text": [
      "Playing matches: 100%|█████████████████████████████████████████████████████████████████| 45/45 [00:00<00:00, 93.10it/s]\n",
      "Analysing: 100%|██████████████████████████████████████████████████████████████████████| 25/25 [00:00<00:00, 102.88it/s]\n"
     ]
    },
    {
     "name": "stdout",
     "output_type": "stream",
     "text": [
      "Rank           0.00\n",
      "Median_score   2.93\n",
      "Name: DQN, dtype: float64\n",
      "loss: [0.816 1.032],            time: +114.00 sec\n",
      "loss: [0.955 0.934],            time: +116.13 sec\n"
     ]
    },
    {
     "name": "stderr",
     "output_type": "stream",
     "text": [
      "Playing matches: 100%|█████████████████████████████████████████████████████████████████| 45/45 [00:00<00:00, 92.40it/s]\n",
      "Analysing: 100%|██████████████████████████████████████████████████████████████████████| 25/25 [00:00<00:00, 105.86it/s]\n"
     ]
    },
    {
     "name": "stdout",
     "output_type": "stream",
     "text": [
      "Rank           0.00\n",
      "Median_score   2.95\n",
      "Name: DQN, dtype: float64\n",
      "loss: [1.107 0.621],            time: +115.72 sec\n",
      "loss: [0.916 1.163],            time: +114.27 sec\n"
     ]
    },
    {
     "name": "stderr",
     "output_type": "stream",
     "text": [
      "Playing matches: 100%|█████████████████████████████████████████████████████████████████| 45/45 [00:00<00:00, 93.18it/s]\n",
      "Analysing: 100%|██████████████████████████████████████████████████████████████████████| 25/25 [00:00<00:00, 108.70it/s]\n"
     ]
    },
    {
     "name": "stdout",
     "output_type": "stream",
     "text": [
      "Rank           1.00\n",
      "Median_score   2.78\n",
      "Name: DQN, dtype: float64\n",
      "loss: [1.637 0.644],            time: +114.33 sec\n",
      "loss: [1.377 0.624],            time: +113.58 sec\n"
     ]
    },
    {
     "name": "stderr",
     "output_type": "stream",
     "text": [
      "Playing matches: 100%|█████████████████████████████████████████████████████████████████| 45/45 [00:00<00:00, 98.46it/s]\n",
      "Analysing: 100%|██████████████████████████████████████████████████████████████████████| 25/25 [00:00<00:00, 115.21it/s]\n"
     ]
    },
    {
     "name": "stdout",
     "output_type": "stream",
     "text": [
      "Rank           0.00\n",
      "Median_score   2.94\n",
      "Name: DQN, dtype: float64\n",
      "loss: [0.852 0.55 ],            time: +113.71 sec\n",
      "loss: [0.928 0.669],            time: +114.67 sec\n"
     ]
    },
    {
     "name": "stderr",
     "output_type": "stream",
     "text": [
      "Playing matches: 100%|█████████████████████████████████████████████████████████████████| 45/45 [00:00<00:00, 92.58it/s]\n",
      "Analysing: 100%|██████████████████████████████████████████████████████████████████████| 25/25 [00:00<00:00, 112.11it/s]\n"
     ]
    },
    {
     "name": "stdout",
     "output_type": "stream",
     "text": [
      "Rank           0.00\n",
      "Median_score   2.81\n",
      "Name: DQN, dtype: float64\n",
      "loss: [0.941 1.141],            time: +113.76 sec\n",
      "loss: [0.994 0.917],            time: +115.19 sec\n"
     ]
    },
    {
     "name": "stderr",
     "output_type": "stream",
     "text": [
      "Playing matches: 100%|█████████████████████████████████████████████████████████████████| 45/45 [00:00<00:00, 91.84it/s]\n",
      "Analysing: 100%|██████████████████████████████████████████████████████████████████████| 25/25 [00:00<00:00, 109.30it/s]\n"
     ]
    },
    {
     "name": "stdout",
     "output_type": "stream",
     "text": [
      "Rank           0.00\n",
      "Median_score   3.00\n",
      "Name: DQN, dtype: float64\n",
      "loss: [0.876 0.57 ],            time: +114.32 sec\n",
      "loss: [0.876 0.978],            time: +113.78 sec\n"
     ]
    },
    {
     "name": "stderr",
     "output_type": "stream",
     "text": [
      "Playing matches: 100%|█████████████████████████████████████████████████████████████████| 45/45 [00:00<00:00, 93.87it/s]\n",
      "Analysing: 100%|██████████████████████████████████████████████████████████████████████| 25/25 [00:00<00:00, 120.19it/s]\n"
     ]
    },
    {
     "name": "stdout",
     "output_type": "stream",
     "text": [
      "Rank           0.00\n",
      "Median_score   2.88\n",
      "Name: DQN, dtype: float64\n",
      "loss: [0.728 1.12 ],            time: +114.85 sec\n"
     ]
    }
   ],
   "source": [
    "# time to take a nap\n",
    "loss_ls = []\n",
    "epoch_ls = []\n",
    "for i in range(100, 200):\n",
    "    \n",
    "    start = time()\n",
    "    p1.train(200, param)\n",
    "    \n",
    "    train_against(p1, players)\n",
    "    \n",
    "    print(f'loss: {p1.network.loss},            time: +{time()-start:.2f} sec')\n",
    "    \n",
    "    # test DQN in tournament\n",
    "    if i % 2 == 0:\n",
    "        loss_ls.append(np.sum(p1.network.loss))\n",
    "        with p1:\n",
    "            p1.network.verbosity = False\n",
    "            tournament = Tournament([p1, *players], game=GAME, turns=GAME_LEN)\n",
    "            results = tournament.play()\n",
    "            summary = pd.DataFrame(map(list, results.summarise()), columns=headers).set_index('Name')\n",
    "            ls.append(summary)\n",
    "            epoch_ls.append(p1.network.epoch)\n",
    "            \n",
    "        print(summary.loc['DQN', ['Rank', 'Median_score']])\n",
    "        \n",
    "        # backing up\n",
    "        with open('data/s2/tn_results2.pkl', \"wb\") as file:\n",
    "            dill.dump(ls, file)\n",
    "\n",
    "        with open(f'data/s2/p1_{i}.pkl', \"wb\") as file:\n",
    "            dill.dump(p1, file)"
   ]
  },
  {
   "cell_type": "code",
   "execution_count": 14,
   "id": "bf0aa441-5736-4842-b39d-0fa0e3686d85",
   "metadata": {},
   "outputs": [
    {
     "data": {
      "text/html": [
       "<div>\n",
       "<style scoped>\n",
       "    .dataframe tbody tr th:only-of-type {\n",
       "        vertical-align: middle;\n",
       "    }\n",
       "\n",
       "    .dataframe tbody tr th {\n",
       "        vertical-align: top;\n",
       "    }\n",
       "\n",
       "    .dataframe thead th {\n",
       "        text-align: right;\n",
       "    }\n",
       "</style>\n",
       "<table border=\"1\" class=\"dataframe\">\n",
       "  <thead>\n",
       "    <tr style=\"text-align: right;\">\n",
       "      <th></th>\n",
       "      <th>Rank</th>\n",
       "      <th>Median_score</th>\n",
       "      <th>Cooperation_rating</th>\n",
       "      <th>Wins</th>\n",
       "      <th>Initial_C_rate</th>\n",
       "      <th>CC_rate</th>\n",
       "      <th>CD_rate</th>\n",
       "      <th>DC_rate</th>\n",
       "      <th>DD_rate</th>\n",
       "      <th>CC_to_C_rate</th>\n",
       "      <th>CD_to_C_rate</th>\n",
       "      <th>DC_to_C_rate</th>\n",
       "      <th>DD_to_C_rate</th>\n",
       "    </tr>\n",
       "  </thead>\n",
       "  <tbody>\n",
       "    <tr>\n",
       "      <th>0</th>\n",
       "      <td>8.00</td>\n",
       "      <td>1.99</td>\n",
       "      <td>0.04</td>\n",
       "      <td>8.00</td>\n",
       "      <td>0.00</td>\n",
       "      <td>0.02</td>\n",
       "      <td>0.03</td>\n",
       "      <td>0.24</td>\n",
       "      <td>0.71</td>\n",
       "      <td>0.00</td>\n",
       "      <td>0.00</td>\n",
       "      <td>0.15</td>\n",
       "      <td>0.15</td>\n",
       "    </tr>\n",
       "    <tr>\n",
       "      <th>1</th>\n",
       "      <td>7.00</td>\n",
       "      <td>2.25</td>\n",
       "      <td>0.48</td>\n",
       "      <td>5.00</td>\n",
       "      <td>0.00</td>\n",
       "      <td>0.09</td>\n",
       "      <td>0.38</td>\n",
       "      <td>0.36</td>\n",
       "      <td>0.16</td>\n",
       "      <td>0.38</td>\n",
       "      <td>0.48</td>\n",
       "      <td>0.67</td>\n",
       "      <td>0.58</td>\n",
       "    </tr>\n",
       "    <tr>\n",
       "      <th>2</th>\n",
       "      <td>6.00</td>\n",
       "      <td>2.38</td>\n",
       "      <td>0.47</td>\n",
       "      <td>5.00</td>\n",
       "      <td>0.00</td>\n",
       "      <td>0.13</td>\n",
       "      <td>0.34</td>\n",
       "      <td>0.36</td>\n",
       "      <td>0.16</td>\n",
       "      <td>0.41</td>\n",
       "      <td>0.22</td>\n",
       "      <td>0.67</td>\n",
       "      <td>0.99</td>\n",
       "    </tr>\n",
       "    <tr>\n",
       "      <th>3</th>\n",
       "      <td>4.00</td>\n",
       "      <td>2.43</td>\n",
       "      <td>0.49</td>\n",
       "      <td>4.00</td>\n",
       "      <td>0.00</td>\n",
       "      <td>0.17</td>\n",
       "      <td>0.32</td>\n",
       "      <td>0.35</td>\n",
       "      <td>0.16</td>\n",
       "      <td>0.56</td>\n",
       "      <td>0.37</td>\n",
       "      <td>0.66</td>\n",
       "      <td>0.92</td>\n",
       "    </tr>\n",
       "    <tr>\n",
       "      <th>4</th>\n",
       "      <td>2.00</td>\n",
       "      <td>2.56</td>\n",
       "      <td>0.58</td>\n",
       "      <td>4.50</td>\n",
       "      <td>1.00</td>\n",
       "      <td>0.37</td>\n",
       "      <td>0.21</td>\n",
       "      <td>0.26</td>\n",
       "      <td>0.16</td>\n",
       "      <td>0.79</td>\n",
       "      <td>0.30</td>\n",
       "      <td>0.46</td>\n",
       "      <td>0.65</td>\n",
       "    </tr>\n",
       "    <tr>\n",
       "      <th>...</th>\n",
       "      <td>...</td>\n",
       "      <td>...</td>\n",
       "      <td>...</td>\n",
       "      <td>...</td>\n",
       "      <td>...</td>\n",
       "      <td>...</td>\n",
       "      <td>...</td>\n",
       "      <td>...</td>\n",
       "      <td>...</td>\n",
       "      <td>...</td>\n",
       "      <td>...</td>\n",
       "      <td>...</td>\n",
       "      <td>...</td>\n",
       "    </tr>\n",
       "    <tr>\n",
       "      <th>95</th>\n",
       "      <td>1.00</td>\n",
       "      <td>2.78</td>\n",
       "      <td>0.37</td>\n",
       "      <td>5.00</td>\n",
       "      <td>0.00</td>\n",
       "      <td>0.25</td>\n",
       "      <td>0.12</td>\n",
       "      <td>0.35</td>\n",
       "      <td>0.28</td>\n",
       "      <td>0.79</td>\n",
       "      <td>0.49</td>\n",
       "      <td>0.74</td>\n",
       "      <td>0.18</td>\n",
       "    </tr>\n",
       "    <tr>\n",
       "      <th>96</th>\n",
       "      <td>0.00</td>\n",
       "      <td>2.94</td>\n",
       "      <td>0.76</td>\n",
       "      <td>5.00</td>\n",
       "      <td>1.00</td>\n",
       "      <td>0.66</td>\n",
       "      <td>0.10</td>\n",
       "      <td>0.18</td>\n",
       "      <td>0.07</td>\n",
       "      <td>0.85</td>\n",
       "      <td>0.83</td>\n",
       "      <td>0.97</td>\n",
       "      <td>0.22</td>\n",
       "    </tr>\n",
       "    <tr>\n",
       "      <th>97</th>\n",
       "      <td>0.00</td>\n",
       "      <td>2.81</td>\n",
       "      <td>0.37</td>\n",
       "      <td>5.00</td>\n",
       "      <td>0.00</td>\n",
       "      <td>0.27</td>\n",
       "      <td>0.10</td>\n",
       "      <td>0.34</td>\n",
       "      <td>0.29</td>\n",
       "      <td>0.86</td>\n",
       "      <td>0.51</td>\n",
       "      <td>0.51</td>\n",
       "      <td>0.49</td>\n",
       "    </tr>\n",
       "    <tr>\n",
       "      <th>98</th>\n",
       "      <td>0.00</td>\n",
       "      <td>3.00</td>\n",
       "      <td>0.84</td>\n",
       "      <td>7.00</td>\n",
       "      <td>1.00</td>\n",
       "      <td>0.80</td>\n",
       "      <td>0.04</td>\n",
       "      <td>0.11</td>\n",
       "      <td>0.05</td>\n",
       "      <td>0.95</td>\n",
       "      <td>0.67</td>\n",
       "      <td>0.95</td>\n",
       "      <td>0.32</td>\n",
       "    </tr>\n",
       "    <tr>\n",
       "      <th>99</th>\n",
       "      <td>0.00</td>\n",
       "      <td>2.88</td>\n",
       "      <td>0.45</td>\n",
       "      <td>5.00</td>\n",
       "      <td>1.00</td>\n",
       "      <td>0.35</td>\n",
       "      <td>0.10</td>\n",
       "      <td>0.32</td>\n",
       "      <td>0.23</td>\n",
       "      <td>0.75</td>\n",
       "      <td>0.48</td>\n",
       "      <td>0.65</td>\n",
       "      <td>0.58</td>\n",
       "    </tr>\n",
       "  </tbody>\n",
       "</table>\n",
       "<p>100 rows × 13 columns</p>\n",
       "</div>"
      ],
      "text/plain": [
       "    Rank  Median_score  Cooperation_rating  Wins  Initial_C_rate  CC_rate  \\\n",
       "0   8.00          1.99                0.04  8.00            0.00     0.02   \n",
       "1   7.00          2.25                0.48  5.00            0.00     0.09   \n",
       "2   6.00          2.38                0.47  5.00            0.00     0.13   \n",
       "3   4.00          2.43                0.49  4.00            0.00     0.17   \n",
       "4   2.00          2.56                0.58  4.50            1.00     0.37   \n",
       "..   ...           ...                 ...   ...             ...      ...   \n",
       "95  1.00          2.78                0.37  5.00            0.00     0.25   \n",
       "96  0.00          2.94                0.76  5.00            1.00     0.66   \n",
       "97  0.00          2.81                0.37  5.00            0.00     0.27   \n",
       "98  0.00          3.00                0.84  7.00            1.00     0.80   \n",
       "99  0.00          2.88                0.45  5.00            1.00     0.35   \n",
       "\n",
       "    CD_rate  DC_rate  DD_rate  CC_to_C_rate  CD_to_C_rate  DC_to_C_rate  \\\n",
       "0      0.03     0.24     0.71          0.00          0.00          0.15   \n",
       "1      0.38     0.36     0.16          0.38          0.48          0.67   \n",
       "2      0.34     0.36     0.16          0.41          0.22          0.67   \n",
       "3      0.32     0.35     0.16          0.56          0.37          0.66   \n",
       "4      0.21     0.26     0.16          0.79          0.30          0.46   \n",
       "..      ...      ...      ...           ...           ...           ...   \n",
       "95     0.12     0.35     0.28          0.79          0.49          0.74   \n",
       "96     0.10     0.18     0.07          0.85          0.83          0.97   \n",
       "97     0.10     0.34     0.29          0.86          0.51          0.51   \n",
       "98     0.04     0.11     0.05          0.95          0.67          0.95   \n",
       "99     0.10     0.32     0.23          0.75          0.48          0.65   \n",
       "\n",
       "    DD_to_C_rate  \n",
       "0           0.15  \n",
       "1           0.58  \n",
       "2           0.99  \n",
       "3           0.92  \n",
       "4           0.65  \n",
       "..           ...  \n",
       "95          0.18  \n",
       "96          0.22  \n",
       "97          0.49  \n",
       "98          0.32  \n",
       "99          0.58  \n",
       "\n",
       "[100 rows x 13 columns]"
      ]
     },
     "execution_count": 14,
     "metadata": {},
     "output_type": "execute_result"
    }
   ],
   "source": [
    "pd.DataFrame([l.loc['DQN'] for l in ls], index=range(100))"
   ]
  },
  {
   "cell_type": "code",
   "execution_count": 22,
   "id": "28bc36cb-b312-4240-b205-e730481514c1",
   "metadata": {},
   "outputs": [],
   "source": [
    "cr = pd.DataFrame([l.loc['DQN','Cooperation_rating'] for l in ls]).to_numpy().T[0]"
   ]
  },
  {
   "cell_type": "code",
   "execution_count": 24,
   "id": "e119201e-02f6-4dc9-9ac0-689ee64916ae",
   "metadata": {},
   "outputs": [
    {
     "data": {
      "text/plain": [
       "<matplotlib.collections.PathCollection at 0x17c62b2f5e0>"
      ]
     },
     "execution_count": 24,
     "metadata": {},
     "output_type": "execute_result"
    },
    {
     "data": {
      "image/png": "[encoded data removed]",
      "text/plain": [
       "<Figure size 432x288 with 1 Axes>"
      ]
     },
     "metadata": {
      "needs_background": "light"
     },
     "output_type": "display_data"
    }
   ],
   "source": [
    "plt.scatter(range(0,40000,400), cr, c='tab:red', marker='x', label='DQN')"
   ]
  },
  {
   "cell_type": "code",
   "execution_count": 25,
   "id": "2b2bd364-fdd0-4ab6-b1a8-602a8942d06f",
   "metadata": {},
   "outputs": [
    {
     "data": {
      "image/png": "[encoded data removed]",
      "text/plain": [
       "<Figure size 800x640 with 1 Axes>"
      ]
     },
     "metadata": {
      "needs_background": "light"
     },
     "output_type": "display_data"
    }
   ],
   "source": [
    "d_score = pd.DataFrame([l.loc['DQN','Median_score'] for l in ls]).to_numpy().T[0]\n",
    "t_score = pd.DataFrame([l.loc['Tit For Tat','Median_score'] for l in ls]).to_numpy().T[0]\n",
    "\n",
    "plt.figure(figsize=(10, 8), dpi=80)\n",
    "plt.scatter(range(0,40000,400), d_score, c='tab:red', marker='x', label='DQN')\n",
    "plt.scatter(range(0,40000,400), t_score, c='tab:blue', marker='+', label='Tit-For-Tat')\n",
    "#plt.plot(range(0,40000,400), d_score, c='tab:red')\n",
    "plt.plot(range(0,40000,400), t_score, '--', c='tab:blue')\n",
    "plt.xlabel('Epochs')\n",
    "plt.ylabel('Median Score')\n",
    "plt.legend(loc='upper left')\n",
    "plt.show()"
   ]
  },
  {
   "cell_type": "code",
   "execution_count": 21,
   "id": "b863330c-c0cd-47c6-84fd-dbdae80b14e6",
   "metadata": {},
   "outputs": [
    {
     "data": {
      "image/png": "[encoded data removed]",
      "text/plain": [
       "<Figure size 800x640 with 1 Axes>"
      ]
     },
     "metadata": {
      "needs_background": "light"
     },
     "output_type": "display_data"
    }
   ],
   "source": [
    "p1.plot()"
   ]
  },
  {
   "cell_type": "code",
   "execution_count": 20,
   "id": "f665ab1d-92db-4c9b-8196-dbf6f40965f9",
   "metadata": {},
   "outputs": [
    {
     "data": {
      "image/png": "[encoded data removed]",
      "text/plain": [
       "<Figure size 800x640 with 1 Axes>"
      ]
     },
     "metadata": {
      "needs_background": "light"
     },
     "output_type": "display_data"
    }
   ],
   "source": [
    "p1.plot(min_ran=24000,max_ran=26000)"
   ]
  }
 ],
 "metadata": {
  "kernelspec": {
   "display_name": "Python 3 (ipykernel)",
   "language": "python",
   "name": "python3"
  },
  "language_info": {
   "codemirror_mode": {
    "name": "ipython",
    "version": 3
   },
   "file_extension": ".py",
   "mimetype": "text/x-python",
   "name": "python",
   "nbconvert_exporter": "python",
   "pygments_lexer": "ipython3",
   "version": "3.8.10"
  }
 },
 "nbformat": 4,
 "nbformat_minor": 5
}
