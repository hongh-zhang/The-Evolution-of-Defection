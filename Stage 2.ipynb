{
 "cells": [
  {
   "cell_type": "code",
   "execution_count": 1,
   "id": "amazing-electricity",
   "metadata": {},
   "outputs": [],
   "source": [
    "import gc\n",
    "import dill\n",
    "import numpy as np\n",
    "import pandas as pd\n",
    "import axelrod as axl\n",
    "from time import time\n",
    "from pprint import pprint\n",
    "import matplotlib.pyplot as plt\n",
    "\n",
    "np.set_printoptions(precision=3)\n",
    "pd.options.display.float_format = \"{:,.2f}\".format\n",
    "\n",
    "# the following imports are from network / axl_utils folder\n",
    "import network\n",
    "from network.dqn import DQN\n",
    "from network.replay import ReplayMemory\n",
    "from axl_utils.nnplayer import NNplayer, State\n",
    "from axl_utils.game import *"
   ]
  },
  {
   "cell_type": "code",
   "execution_count": 2,
   "id": "phantom-inside",
   "metadata": {},
   "outputs": [],
   "source": [
    "C = axl.Action.C\n",
    "D = axl.Action.D\n",
    "\n",
    "# config game rules\n",
    "# doubled game length for some extra complexity\n",
    "GAME_LEN = 20 + 1\n",
    "GAME = axl.Game(r=3, s=0, t=5, p=1)\n",
    "Match = set_match(game=GAME, turns=GAME_LEN)\n",
    "play = set_play(Match)"
   ]
  },
  {
   "cell_type": "markdown",
   "id": "a52c8dfe-0bcc-41a3-a6e0-a682eda62389",
   "metadata": {
    "tags": []
   },
   "source": [
    "### this stage will use axl.tournament function to let our DQN play against multiple strategies\n",
    "\n",
    "Detailed documentation and more strategies can be found here: https://axelrod.readthedocs.io/en/stable/_modules/index.html"
   ]
  },
  {
   "cell_type": "code",
   "execution_count": 3,
   "id": "5ff6c86f-4076-48ff-af1f-16f73a8da301",
   "metadata": {},
   "outputs": [],
   "source": [
    "from axl_utils.tournament import Tournament"
   ]
  },
  {
   "cell_type": "code",
   "execution_count": 4,
   "id": "d14358c7-086c-478c-8910-8763d902b521",
   "metadata": {},
   "outputs": [
    {
     "name": "stderr",
     "output_type": "stream",
     "text": [
      "Playing matches: 100%|████████████████████████████████████████████████████████████████| 36/36 [00:00<00:00, 215.54it/s]\n",
      "Analysing: 100%|██████████████████████████████████████████████████████████████████████| 25/25 [00:00<00:00, 139.67it/s]\n"
     ]
    }
   ],
   "source": [
    "# to create a complex environment\n",
    "# I'm trying to encourage provocative defection     (against cooperative strategies)\n",
    "# and retaliative defection                         (against provocative)\n",
    "# while at the same time punish excessive defection (against retaliative)\n",
    "\n",
    "cooperative = (axl.Cooperator(), axl.TitFor2Tats())\n",
    "provocative = (axl.Prober(), axl.Prober4(), axl.RemorsefulProber())\n",
    "retaliative = (axl.TitForTat(), axl.Grudger(), axl.Punisher())\n",
    "noise       = ()  #(axl.Random(), axl.Alternator())\n",
    "\n",
    "players = [*cooperative, *provocative, *retaliative, *noise]\n",
    "tournament = Tournament(players, game=GAME, turns=GAME_LEN)\n",
    "results = tournament.play()"
   ]
  },
  {
   "cell_type": "code",
   "execution_count": 5,
   "id": "c813b9a9-6dec-4a09-9d82-b6154af2ef8d",
   "metadata": {},
   "outputs": [
    {
     "data": {
      "text/html": [
       "<div>\n",
       "<style scoped>\n",
       "    .dataframe tbody tr th:only-of-type {\n",
       "        vertical-align: middle;\n",
       "    }\n",
       "\n",
       "    .dataframe tbody tr th {\n",
       "        vertical-align: top;\n",
       "    }\n",
       "\n",
       "    .dataframe thead th {\n",
       "        text-align: right;\n",
       "    }\n",
       "</style>\n",
       "<table border=\"1\" class=\"dataframe\">\n",
       "  <thead>\n",
       "    <tr style=\"text-align: right;\">\n",
       "      <th></th>\n",
       "      <th>Rank</th>\n",
       "      <th>Name</th>\n",
       "      <th>Median_score</th>\n",
       "      <th>Cooperation_rating</th>\n",
       "      <th>Wins</th>\n",
       "      <th>Initial_C_rate</th>\n",
       "      <th>CC_rate</th>\n",
       "      <th>CD_rate</th>\n",
       "      <th>DC_rate</th>\n",
       "      <th>DD_rate</th>\n",
       "      <th>CC_to_C_rate</th>\n",
       "      <th>CD_to_C_rate</th>\n",
       "      <th>DC_to_C_rate</th>\n",
       "      <th>DD_to_C_rate</th>\n",
       "    </tr>\n",
       "  </thead>\n",
       "  <tbody>\n",
       "    <tr>\n",
       "      <th>0</th>\n",
       "      <td>0</td>\n",
       "      <td>Tit For Tat</td>\n",
       "      <td>2.83</td>\n",
       "      <td>0.89</td>\n",
       "      <td>0.00</td>\n",
       "      <td>1.00</td>\n",
       "      <td>0.80</td>\n",
       "      <td>0.09</td>\n",
       "      <td>0.08</td>\n",
       "      <td>0.03</td>\n",
       "      <td>1.00</td>\n",
       "      <td>0.00</td>\n",
       "      <td>1.00</td>\n",
       "      <td>0.00</td>\n",
       "    </tr>\n",
       "    <tr>\n",
       "      <th>1</th>\n",
       "      <td>1</td>\n",
       "      <td>Grudger</td>\n",
       "      <td>2.60</td>\n",
       "      <td>0.67</td>\n",
       "      <td>2.00</td>\n",
       "      <td>1.00</td>\n",
       "      <td>0.65</td>\n",
       "      <td>0.02</td>\n",
       "      <td>0.08</td>\n",
       "      <td>0.25</td>\n",
       "      <td>1.00</td>\n",
       "      <td>0.00</td>\n",
       "      <td>0.00</td>\n",
       "      <td>0.00</td>\n",
       "    </tr>\n",
       "    <tr>\n",
       "      <th>2</th>\n",
       "      <td>2</td>\n",
       "      <td>Remorseful Prober: 0.1</td>\n",
       "      <td>2.58</td>\n",
       "      <td>0.65</td>\n",
       "      <td>3.00</td>\n",
       "      <td>1.00</td>\n",
       "      <td>0.52</td>\n",
       "      <td>0.14</td>\n",
       "      <td>0.17</td>\n",
       "      <td>0.18</td>\n",
       "      <td>0.90</td>\n",
       "      <td>0.00</td>\n",
       "      <td>0.85</td>\n",
       "      <td>0.42</td>\n",
       "    </tr>\n",
       "    <tr>\n",
       "      <th>3</th>\n",
       "      <td>3</td>\n",
       "      <td>Punisher</td>\n",
       "      <td>2.52</td>\n",
       "      <td>0.66</td>\n",
       "      <td>2.00</td>\n",
       "      <td>1.00</td>\n",
       "      <td>0.64</td>\n",
       "      <td>0.02</td>\n",
       "      <td>0.08</td>\n",
       "      <td>0.26</td>\n",
       "      <td>1.00</td>\n",
       "      <td>0.00</td>\n",
       "      <td>0.00</td>\n",
       "      <td>0.00</td>\n",
       "    </tr>\n",
       "    <tr>\n",
       "      <th>4</th>\n",
       "      <td>4</td>\n",
       "      <td>Tit For 2 Tats</td>\n",
       "      <td>2.50</td>\n",
       "      <td>0.87</td>\n",
       "      <td>0.00</td>\n",
       "      <td>1.00</td>\n",
       "      <td>0.77</td>\n",
       "      <td>0.10</td>\n",
       "      <td>0.02</td>\n",
       "      <td>0.11</td>\n",
       "      <td>1.00</td>\n",
       "      <td>0.76</td>\n",
       "      <td>1.00</td>\n",
       "      <td>0.00</td>\n",
       "    </tr>\n",
       "    <tr>\n",
       "      <th>5</th>\n",
       "      <td>5</td>\n",
       "      <td>Prober 4</td>\n",
       "      <td>2.40</td>\n",
       "      <td>0.50</td>\n",
       "      <td>4.00</td>\n",
       "      <td>1.00</td>\n",
       "      <td>0.24</td>\n",
       "      <td>0.26</td>\n",
       "      <td>0.30</td>\n",
       "      <td>0.20</td>\n",
       "      <td>0.35</td>\n",
       "      <td>0.34</td>\n",
       "      <td>0.75</td>\n",
       "      <td>0.71</td>\n",
       "    </tr>\n",
       "    <tr>\n",
       "      <th>6</th>\n",
       "      <td>6</td>\n",
       "      <td>Prober</td>\n",
       "      <td>2.38</td>\n",
       "      <td>0.36</td>\n",
       "      <td>2.00</td>\n",
       "      <td>0.00</td>\n",
       "      <td>0.23</td>\n",
       "      <td>0.13</td>\n",
       "      <td>0.26</td>\n",
       "      <td>0.38</td>\n",
       "      <td>0.80</td>\n",
       "      <td>0.54</td>\n",
       "      <td>0.77</td>\n",
       "      <td>0.00</td>\n",
       "    </tr>\n",
       "    <tr>\n",
       "      <th>7</th>\n",
       "      <td>7</td>\n",
       "      <td>Cooperator</td>\n",
       "      <td>2.36</td>\n",
       "      <td>1.00</td>\n",
       "      <td>0.00</td>\n",
       "      <td>1.00</td>\n",
       "      <td>0.79</td>\n",
       "      <td>0.21</td>\n",
       "      <td>0.00</td>\n",
       "      <td>0.00</td>\n",
       "      <td>1.00</td>\n",
       "      <td>1.00</td>\n",
       "      <td>0.00</td>\n",
       "      <td>0.00</td>\n",
       "    </tr>\n",
       "  </tbody>\n",
       "</table>\n",
       "</div>"
      ],
      "text/plain": [
       "   Rank                    Name  Median_score  Cooperation_rating  Wins  \\\n",
       "0     0             Tit For Tat          2.83                0.89  0.00   \n",
       "1     1                 Grudger          2.60                0.67  2.00   \n",
       "2     2  Remorseful Prober: 0.1          2.58                0.65  3.00   \n",
       "3     3                Punisher          2.52                0.66  2.00   \n",
       "4     4          Tit For 2 Tats          2.50                0.87  0.00   \n",
       "5     5                Prober 4          2.40                0.50  4.00   \n",
       "6     6                  Prober          2.38                0.36  2.00   \n",
       "7     7              Cooperator          2.36                1.00  0.00   \n",
       "\n",
       "   Initial_C_rate  CC_rate  CD_rate  DC_rate  DD_rate  CC_to_C_rate  \\\n",
       "0            1.00     0.80     0.09     0.08     0.03          1.00   \n",
       "1            1.00     0.65     0.02     0.08     0.25          1.00   \n",
       "2            1.00     0.52     0.14     0.17     0.18          0.90   \n",
       "3            1.00     0.64     0.02     0.08     0.26          1.00   \n",
       "4            1.00     0.77     0.10     0.02     0.11          1.00   \n",
       "5            1.00     0.24     0.26     0.30     0.20          0.35   \n",
       "6            0.00     0.23     0.13     0.26     0.38          0.80   \n",
       "7            1.00     0.79     0.21     0.00     0.00          1.00   \n",
       "\n",
       "   CD_to_C_rate  DC_to_C_rate  DD_to_C_rate  \n",
       "0          0.00          1.00          0.00  \n",
       "1          0.00          0.00          0.00  \n",
       "2          0.00          0.85          0.42  \n",
       "3          0.00          0.00          0.00  \n",
       "4          0.76          1.00          0.00  \n",
       "5          0.34          0.75          0.71  \n",
       "6          0.54          0.77          0.00  \n",
       "7          1.00          0.00          0.00  "
      ]
     },
     "execution_count": 5,
     "metadata": {},
     "output_type": "execute_result"
    }
   ],
   "source": [
    "# tournament result\n",
    "# explanation of the elements can be found here: https://axelrod.readthedocs.io/en/stable/tutorials/advanced/tournament_results.html\n",
    "summary = results.summarise()\n",
    "headers = \"Rank,Name,Median_score,Cooperation_rating,Wins,Initial_C_rate,CC_rate,CD_rate,DC_rate,DD_rate,CC_to_C_rate,CD_to_C_rate,DC_to_C_rate,DD_to_C_rate\".split(',')\n",
    "pd.DataFrame(map(list, summary), columns=headers)\n",
    "\n",
    "# median score is based on normalized score, which represent the average return for each turn\n",
    "# e.g. if 2 player cooperates the whole game, this should be 3.00 for both"
   ]
  },
  {
   "cell_type": "code",
   "execution_count": 6,
   "id": "sunset-latex",
   "metadata": {},
   "outputs": [],
   "source": [
    "dqn = DQN([\n",
    "                    network.Flatten_layer(),\n",
    "                    network.Linear_layer(GAME_LEN*2, 300),\n",
    "                    network.Activation_layer('ReLU'),\n",
    "                    network.Linear_layer(300, 150),\n",
    "                    network.Activation_layer('ReLU'),\n",
    "                    network.Linear_layer(150, 80),\n",
    "                    network.Activation_layer('ReLU'),\n",
    "                    network.Linear_layer(80, 40),\n",
    "                    network.Activation_layer('ReLU'),\n",
    "                    network.Linear_layer(40, 2),\n",
    "                    ],\n",
    "            ReplayMemory(8000), gamma=0.9, greedy=0.2)\n",
    "p1 = NNplayer(dqn, State(GAME_LEN))\n",
    "del dqn\n",
    "gc.collect()\n",
    "\n",
    "param = {\"lr\": 1e-4, 'batch': 32, \"momentum\": 0.9, \"mode\": \"train\", \"eps\": 1e-16, \"beta\":(0.9, 0.999), \n",
    "         \"epoch\": 0, 'optimizer': 'adam', 't': 1, 'clip': 1.0, 'regularizer': ('l2', 1e-3), \"loss_fn\":\"mse\"}"
   ]
  },
  {
   "cell_type": "code",
   "execution_count": 7,
   "id": "247d058f-6b3e-4c79-aee2-22d2f32c7f7c",
   "metadata": {},
   "outputs": [],
   "source": [
    "from random import shuffle     \n",
    "\n",
    "def train_against(trainee, trainers, iterations=40):\n",
    "    shuffle(trainers)\n",
    "    for trainer in trainers:\n",
    "        for _  in range(iterations):\n",
    "            play(trainee, trainer, show=False)"
   ]
  },
  {
   "cell_type": "code",
   "execution_count": 8,
   "id": "1a91685e-ebba-4dd3-95a8-5d61d76f9513",
   "metadata": {},
   "outputs": [
    {
     "data": {
      "text/plain": [
       "6720"
      ]
     },
     "execution_count": 8,
     "metadata": {},
     "output_type": "execute_result"
    }
   ],
   "source": [
    "train_against(p1, players)\n",
    "len(p1.network.memory)      # 21(turns) * 10(# of players) * 40(iterations)"
   ]
  },
  {
   "cell_type": "code",
   "execution_count": null,
   "id": "d31930ce-764e-4bd5-84dc-64d5e19d26ac",
   "metadata": {},
   "outputs": [],
   "source": [
    "# train loop as usual\n",
    "for _ in range(10):\n",
    "    start = time()\n",
    "    p1.train(30, param)\n",
    "    \n",
    "    train_against(p1, players)\n",
    "    \n",
    "    print(f'loss: {p1.network.loss},            time: +{time()-start:.2f} sec')"
   ]
  },
  {
   "cell_type": "code",
   "execution_count": null,
   "id": "7ed5c152-337e-4687-b40c-27f7a1300240",
   "metadata": {},
   "outputs": [],
   "source": [
    "p1.plot()\n",
    "# but it seems our policy net didn't get enough training before the target net is updated\n",
    "# causing the divergence we've seen in stage 1 section 2\n",
    "\n",
    "# evident by the cyclic, overall upward trend in loss:"
   ]
  },
  {
   "cell_type": "code",
   "execution_count": 9,
   "id": "483e53a0-f6d0-4dd8-befe-182443e889f6",
   "metadata": {},
   "outputs": [
    {
     "name": "stdout",
     "output_type": "stream",
     "text": [
      "Network reinitialized.\n"
     ]
    }
   ],
   "source": [
    "p1.network.reset()\n",
    "param = {\"lr\": 7e-5, 'batch': 32, \"momentum\": 0.9, \"mode\": \"train\", \"eps\": 1e-16, \"beta\":(0.9, 0.999), \n",
    "         \"epoch\": 0, 'optimizer': 'adam', 't': 1, 'clip': 1.0, 'regularizer': ('l2', 1e-3), \"loss_fn\":\"mse\"}"
   ]
  },
  {
   "cell_type": "code",
   "execution_count": 10,
   "id": "a599b314-66d5-41f4-ba9c-7df60fea20ea",
   "metadata": {
    "scrolled": true,
    "tags": []
   },
   "outputs": [
    {
     "name": "stdout",
     "output_type": "stream",
     "text": [
      "terminated at 166 epochs\n",
      "loss: [0.228 0.224],            time: +195.02 sec\n"
     ]
    },
    {
     "name": "stderr",
     "output_type": "stream",
     "text": [
      "Playing matches: 100%|████████████████████████████████████████████████████████████████| 45/45 [00:00<00:00, 137.18it/s]\n",
      "Analysing: 100%|██████████████████████████████████████████████████████████████████████| 25/25 [00:00<00:00, 148.81it/s]\n"
     ]
    },
    {
     "name": "stdout",
     "output_type": "stream",
     "text": [
      "terminated at 99 epochs\n",
      "loss: [0.249 0.306],            time: +136.85 sec\n",
      "terminated at 84 epochs\n",
      "loss: [0.436 0.261],            time: +117.73 sec\n"
     ]
    },
    {
     "name": "stderr",
     "output_type": "stream",
     "text": [
      "Playing matches: 100%|████████████████████████████████████████████████████████████████| 45/45 [00:00<00:00, 135.29it/s]\n",
      "Analysing: 100%|██████████████████████████████████████████████████████████████████████| 25/25 [00:00<00:00, 147.06it/s]\n"
     ]
    },
    {
     "name": "stdout",
     "output_type": "stream",
     "text": [
      "terminated at 194 epochs\n",
      "loss: [0.426 0.259],            time: +262.97 sec\n",
      "terminated at 172 epochs\n",
      "loss: [0.512 0.509],            time: +236.46 sec\n"
     ]
    },
    {
     "name": "stderr",
     "output_type": "stream",
     "text": [
      "Playing matches: 100%|████████████████████████████████████████████████████████████████| 45/45 [00:00<00:00, 125.10it/s]\n",
      "Analysing: 100%|██████████████████████████████████████████████████████████████████████| 25/25 [00:00<00:00, 136.59it/s]\n"
     ]
    },
    {
     "name": "stdout",
     "output_type": "stream",
     "text": [
      "terminated at 118 epochs\n",
      "loss: [0.9   0.323],            time: +163.03 sec\n",
      "loss: [0.461 0.264],            time: +341.17 sec\n"
     ]
    },
    {
     "name": "stderr",
     "output_type": "stream",
     "text": [
      "Playing matches: 100%|████████████████████████████████████████████████████████████████| 45/45 [00:00<00:00, 137.19it/s]\n",
      "Analysing: 100%|██████████████████████████████████████████████████████████████████████| 25/25 [00:00<00:00, 151.51it/s]\n"
     ]
    },
    {
     "name": "stdout",
     "output_type": "stream",
     "text": [
      "terminated at 85 epochs\n",
      "loss: [0.679 0.477],            time: +119.98 sec\n",
      "terminated at 95 epochs\n",
      "loss: [0.699 0.716],            time: +132.82 sec\n"
     ]
    },
    {
     "name": "stderr",
     "output_type": "stream",
     "text": [
      "Playing matches: 100%|████████████████████████████████████████████████████████████████| 45/45 [00:00<00:00, 134.46it/s]\n",
      "Analysing: 100%|██████████████████████████████████████████████████████████████████████| 25/25 [00:00<00:00, 158.23it/s]\n"
     ]
    },
    {
     "name": "stdout",
     "output_type": "stream",
     "text": [
      "terminated at 89 epochs\n",
      "loss: [0.499 0.598],            time: +123.59 sec\n",
      "loss: [0.653 0.397],            time: +342.31 sec\n"
     ]
    },
    {
     "name": "stderr",
     "output_type": "stream",
     "text": [
      "Playing matches: 100%|████████████████████████████████████████████████████████████████| 45/45 [00:00<00:00, 134.72it/s]\n",
      "Analysing: 100%|██████████████████████████████████████████████████████████████████████| 25/25 [00:00<00:00, 139.67it/s]\n"
     ]
    },
    {
     "name": "stdout",
     "output_type": "stream",
     "text": [
      "loss: [0.833 0.456],            time: +340.34 sec\n",
      "terminated at 131 epochs\n",
      "loss: [0.618 0.731],            time: +178.66 sec\n"
     ]
    },
    {
     "name": "stderr",
     "output_type": "stream",
     "text": [
      "Playing matches: 100%|████████████████████████████████████████████████████████████████| 45/45 [00:00<00:00, 133.93it/s]\n",
      "Analysing: 100%|██████████████████████████████████████████████████████████████████████| 25/25 [00:00<00:00, 150.60it/s]\n"
     ]
    },
    {
     "name": "stdout",
     "output_type": "stream",
     "text": [
      "terminated at 148 epochs\n",
      "loss: [0.757 0.543],            time: +205.75 sec\n",
      "terminated at 98 epochs\n",
      "loss: [1.067 0.579],            time: +138.32 sec\n"
     ]
    },
    {
     "name": "stderr",
     "output_type": "stream",
     "text": [
      "Playing matches: 100%|████████████████████████████████████████████████████████████████| 45/45 [00:00<00:00, 130.71it/s]\n",
      "Analysing: 100%|██████████████████████████████████████████████████████████████████████| 25/25 [00:00<00:00, 150.60it/s]\n"
     ]
    },
    {
     "name": "stdout",
     "output_type": "stream",
     "text": [
      "terminated at 99 epochs\n",
      "loss: [0.663 0.445],            time: +141.44 sec\n",
      "terminated at 135 epochs\n",
      "loss: [0.503 0.44 ],            time: +188.94 sec\n"
     ]
    },
    {
     "name": "stderr",
     "output_type": "stream",
     "text": [
      "Playing matches: 100%|████████████████████████████████████████████████████████████████| 45/45 [00:00<00:00, 141.22it/s]\n",
      "Analysing: 100%|██████████████████████████████████████████████████████████████████████| 25/25 [00:00<00:00, 150.03it/s]\n"
     ]
    },
    {
     "name": "stdout",
     "output_type": "stream",
     "text": [
      "terminated at 160 epochs\n",
      "loss: [1.007 0.901],            time: +224.65 sec\n",
      "terminated at 224 epochs\n",
      "loss: [0.745 0.502],            time: +314.04 sec\n"
     ]
    },
    {
     "name": "stderr",
     "output_type": "stream",
     "text": [
      "Playing matches: 100%|████████████████████████████████████████████████████████████████| 45/45 [00:00<00:00, 137.67it/s]\n",
      "Analysing: 100%|██████████████████████████████████████████████████████████████████████| 25/25 [00:00<00:00, 156.25it/s]\n"
     ]
    },
    {
     "name": "stdout",
     "output_type": "stream",
     "text": [
      "terminated at 180 epochs\n",
      "loss: [0.843 0.359],            time: +251.47 sec\n",
      "terminated at 106 epochs\n",
      "loss: [0.653 0.604],            time: +151.71 sec\n"
     ]
    },
    {
     "name": "stderr",
     "output_type": "stream",
     "text": [
      "Playing matches: 100%|████████████████████████████████████████████████████████████████| 45/45 [00:00<00:00, 134.74it/s]\n",
      "Analysing: 100%|██████████████████████████████████████████████████████████████████████| 25/25 [00:00<00:00, 150.60it/s]\n"
     ]
    },
    {
     "name": "stdout",
     "output_type": "stream",
     "text": [
      "loss: [0.796 0.573],            time: +346.69 sec\n",
      "terminated at 108 epochs\n",
      "loss: [0.983 0.499],            time: +152.44 sec\n"
     ]
    },
    {
     "name": "stderr",
     "output_type": "stream",
     "text": [
      "Playing matches: 100%|████████████████████████████████████████████████████████████████| 45/45 [00:00<00:00, 132.60it/s]\n",
      "Analysing: 100%|██████████████████████████████████████████████████████████████████████| 25/25 [00:00<00:00, 149.70it/s]\n"
     ]
    },
    {
     "name": "stdout",
     "output_type": "stream",
     "text": [
      "terminated at 99 epochs\n",
      "loss: [0.59  0.533],            time: +142.11 sec\n",
      "terminated at 116 epochs\n",
      "loss: [0.829 0.464],            time: +161.05 sec\n"
     ]
    },
    {
     "name": "stderr",
     "output_type": "stream",
     "text": [
      "Playing matches: 100%|████████████████████████████████████████████████████████████████| 45/45 [00:00<00:00, 135.62it/s]\n",
      "Analysing: 100%|██████████████████████████████████████████████████████████████████████| 25/25 [00:00<00:00, 111.59it/s]\n"
     ]
    },
    {
     "name": "stdout",
     "output_type": "stream",
     "text": [
      "terminated at 232 epochs\n",
      "loss: [1.041 0.499],            time: +325.29 sec\n",
      "terminated at 115 epochs\n",
      "loss: [1.154 0.582],            time: +163.34 sec\n"
     ]
    },
    {
     "name": "stderr",
     "output_type": "stream",
     "text": [
      "Playing matches: 100%|████████████████████████████████████████████████████████████████| 45/45 [00:00<00:00, 139.83it/s]\n",
      "Analysing: 100%|██████████████████████████████████████████████████████████████████████| 25/25 [00:00<00:00, 154.32it/s]\n"
     ]
    },
    {
     "name": "stdout",
     "output_type": "stream",
     "text": [
      "terminated at 217 epochs\n",
      "loss: [0.978 0.377],            time: +304.59 sec\n",
      "terminated at 175 epochs\n",
      "loss: [0.415 0.636],            time: +247.66 sec\n"
     ]
    },
    {
     "name": "stderr",
     "output_type": "stream",
     "text": [
      "Playing matches: 100%|████████████████████████████████████████████████████████████████| 45/45 [00:00<00:00, 133.77it/s]\n",
      "Analysing: 100%|██████████████████████████████████████████████████████████████████████| 25/25 [00:00<00:00, 159.22it/s]\n"
     ]
    },
    {
     "name": "stdout",
     "output_type": "stream",
     "text": [
      "terminated at 171 epochs\n",
      "loss: [0.764 0.414],            time: +240.95 sec\n",
      "terminated at 190 epochs\n",
      "loss: [0.557 0.614],            time: +273.21 sec\n"
     ]
    },
    {
     "name": "stderr",
     "output_type": "stream",
     "text": [
      "Playing matches: 100%|████████████████████████████████████████████████████████████████| 45/45 [00:00<00:00, 134.47it/s]\n",
      "Analysing: 100%|██████████████████████████████████████████████████████████████████████| 25/25 [00:00<00:00, 152.44it/s]\n"
     ]
    },
    {
     "name": "stdout",
     "output_type": "stream",
     "text": [
      "terminated at 166 epochs\n",
      "loss: [0.66  0.945],            time: +236.22 sec\n",
      "terminated at 237 epochs\n",
      "loss: [0.62  0.705],            time: +345.57 sec\n"
     ]
    },
    {
     "name": "stderr",
     "output_type": "stream",
     "text": [
      "Playing matches: 100%|████████████████████████████████████████████████████████████████| 45/45 [00:00<00:00, 131.81it/s]\n",
      "Analysing: 100%|██████████████████████████████████████████████████████████████████████| 25/25 [00:00<00:00, 149.71it/s]\n"
     ]
    },
    {
     "name": "stdout",
     "output_type": "stream",
     "text": [
      "terminated at 129 epochs\n",
      "loss: [1.006 0.628],            time: +187.00 sec\n",
      "terminated at 129 epochs\n",
      "loss: [0.697 0.472],            time: +187.98 sec\n"
     ]
    },
    {
     "name": "stderr",
     "output_type": "stream",
     "text": [
      "Playing matches: 100%|████████████████████████████████████████████████████████████████| 45/45 [00:00<00:00, 132.74it/s]\n",
      "Analysing: 100%|██████████████████████████████████████████████████████████████████████| 25/25 [00:00<00:00, 144.51it/s]\n"
     ]
    },
    {
     "name": "stdout",
     "output_type": "stream",
     "text": [
      "terminated at 137 epochs\n",
      "loss: [0.591 0.789],            time: +208.90 sec\n",
      "terminated at 191 epochs\n",
      "loss: [0.779 0.384],            time: +296.56 sec\n"
     ]
    },
    {
     "name": "stderr",
     "output_type": "stream",
     "text": [
      "Playing matches: 100%|████████████████████████████████████████████████████████████████| 45/45 [00:00<00:00, 128.96it/s]\n",
      "Analysing: 100%|██████████████████████████████████████████████████████████████████████| 25/25 [00:00<00:00, 142.86it/s]\n"
     ]
    },
    {
     "name": "stdout",
     "output_type": "stream",
     "text": [
      "terminated at 93 epochs\n",
      "loss: [1.115 0.471],            time: +137.47 sec\n",
      "loss: [1.4   0.495],            time: +358.26 sec\n"
     ]
    },
    {
     "name": "stderr",
     "output_type": "stream",
     "text": [
      "Playing matches: 100%|████████████████████████████████████████████████████████████████| 45/45 [00:00<00:00, 137.60it/s]\n",
      "Analysing: 100%|██████████████████████████████████████████████████████████████████████| 25/25 [00:00<00:00, 154.32it/s]\n"
     ]
    },
    {
     "name": "stdout",
     "output_type": "stream",
     "text": [
      "terminated at 137 epochs\n",
      "loss: [0.688 0.981],            time: +197.86 sec\n",
      "terminated at 180 epochs\n",
      "loss: [0.722 0.595],            time: +260.00 sec\n"
     ]
    },
    {
     "name": "stderr",
     "output_type": "stream",
     "text": [
      "Playing matches: 100%|████████████████████████████████████████████████████████████████| 45/45 [00:00<00:00, 131.19it/s]\n",
      "Analysing: 100%|██████████████████████████████████████████████████████████████████████| 25/25 [00:00<00:00, 131.58it/s]\n"
     ]
    },
    {
     "name": "stdout",
     "output_type": "stream",
     "text": [
      "terminated at 85 epochs\n",
      "loss: [0.648 0.713],            time: +124.25 sec\n",
      "terminated at 111 epochs\n",
      "loss: [0.861 0.561],            time: +162.69 sec\n"
     ]
    },
    {
     "name": "stderr",
     "output_type": "stream",
     "text": [
      "Playing matches: 100%|████████████████████████████████████████████████████████████████| 45/45 [00:00<00:00, 132.44it/s]\n",
      "Analysing: 100%|██████████████████████████████████████████████████████████████████████| 25/25 [00:00<00:00, 149.68it/s]\n"
     ]
    },
    {
     "name": "stdout",
     "output_type": "stream",
     "text": [
      "terminated at 173 epochs\n",
      "loss: [0.699 0.569],            time: +251.65 sec\n",
      "terminated at 139 epochs\n",
      "loss: [0.757 0.811],            time: +203.88 sec\n"
     ]
    },
    {
     "name": "stderr",
     "output_type": "stream",
     "text": [
      "Playing matches: 100%|████████████████████████████████████████████████████████████████| 45/45 [00:00<00:00, 138.30it/s]\n",
      "Analysing: 100%|██████████████████████████████████████████████████████████████████████| 25/25 [00:00<00:00, 148.78it/s]\n"
     ]
    },
    {
     "name": "stdout",
     "output_type": "stream",
     "text": [
      "terminated at 178 epochs\n",
      "loss: [0.617 0.992],            time: +265.20 sec\n",
      "loss: [0.446 0.646],            time: +374.32 sec\n"
     ]
    },
    {
     "name": "stderr",
     "output_type": "stream",
     "text": [
      "Playing matches: 100%|████████████████████████████████████████████████████████████████| 45/45 [00:00<00:00, 128.94it/s]\n",
      "Analysing: 100%|██████████████████████████████████████████████████████████████████████| 25/25 [00:00<00:00, 137.73it/s]\n"
     ]
    },
    {
     "name": "stdout",
     "output_type": "stream",
     "text": [
      "loss: [0.983 0.686],            time: +373.11 sec\n",
      "terminated at 87 epochs\n",
      "loss: [0.587 0.777],            time: +134.25 sec\n"
     ]
    },
    {
     "name": "stderr",
     "output_type": "stream",
     "text": [
      "Playing matches: 100%|████████████████████████████████████████████████████████████████| 45/45 [00:00<00:00, 136.78it/s]\n",
      "Analysing: 100%|██████████████████████████████████████████████████████████████████████| 25/25 [00:00<00:00, 142.83it/s]\n"
     ]
    },
    {
     "name": "stdout",
     "output_type": "stream",
     "text": [
      "loss: [0.559 0.684],            time: +366.21 sec\n",
      "loss: [0.806 0.569],            time: +366.13 sec\n"
     ]
    },
    {
     "name": "stderr",
     "output_type": "stream",
     "text": [
      "Playing matches: 100%|████████████████████████████████████████████████████████████████| 45/45 [00:00<00:00, 135.01it/s]\n",
      "Analysing: 100%|██████████████████████████████████████████████████████████████████████| 25/25 [00:00<00:00, 179.77it/s]\n"
     ]
    },
    {
     "name": "stdout",
     "output_type": "stream",
     "text": [
      "terminated at 91 epochs\n",
      "loss: [1.071 0.481],            time: +135.37 sec\n",
      "terminated at 209 epochs\n",
      "loss: [1.036 0.44 ],            time: +308.00 sec\n"
     ]
    },
    {
     "name": "stderr",
     "output_type": "stream",
     "text": [
      "Playing matches: 100%|████████████████████████████████████████████████████████████████| 45/45 [00:00<00:00, 142.94it/s]\n",
      "Analysing: 100%|██████████████████████████████████████████████████████████████████████| 25/25 [00:00<00:00, 173.62it/s]\n"
     ]
    },
    {
     "name": "stdout",
     "output_type": "stream",
     "text": [
      "terminated at 191 epochs\n",
      "loss: [0.876 0.385],            time: +284.14 sec\n",
      "loss: [0.545 0.602],            time: +364.78 sec\n"
     ]
    },
    {
     "name": "stderr",
     "output_type": "stream",
     "text": [
      "Playing matches: 100%|████████████████████████████████████████████████████████████████| 45/45 [00:00<00:00, 143.77it/s]\n",
      "Analysing: 100%|██████████████████████████████████████████████████████████████████████| 25/25 [00:00<00:00, 162.34it/s]\n"
     ]
    },
    {
     "name": "stdout",
     "output_type": "stream",
     "text": [
      "loss: [0.721 0.394],            time: +370.12 sec\n",
      "terminated at 138 epochs\n",
      "loss: [0.788 0.693],            time: +207.57 sec\n"
     ]
    },
    {
     "name": "stderr",
     "output_type": "stream",
     "text": [
      "Playing matches: 100%|████████████████████████████████████████████████████████████████| 45/45 [00:00<00:00, 141.05it/s]\n",
      "Analysing: 100%|██████████████████████████████████████████████████████████████████████| 25/25 [00:00<00:00, 166.63it/s]\n"
     ]
    },
    {
     "name": "stdout",
     "output_type": "stream",
     "text": [
      "terminated at 222 epochs\n",
      "loss: [0.773 0.427],            time: +334.74 sec\n",
      "terminated at 99 epochs\n",
      "loss: [0.495 0.973],            time: +152.95 sec\n"
     ]
    },
    {
     "name": "stderr",
     "output_type": "stream",
     "text": [
      "Playing matches: 100%|████████████████████████████████████████████████████████████████| 45/45 [00:00<00:00, 142.84it/s]\n",
      "Analysing: 100%|██████████████████████████████████████████████████████████████████████| 25/25 [00:00<00:00, 181.80it/s]\n"
     ]
    },
    {
     "name": "stdout",
     "output_type": "stream",
     "text": [
      "loss: [0.612 1.054],            time: +377.57 sec\n",
      "loss: [0.645 0.576],            time: +380.04 sec\n"
     ]
    },
    {
     "name": "stderr",
     "output_type": "stream",
     "text": [
      "Playing matches: 100%|████████████████████████████████████████████████████████████████| 45/45 [00:00<00:00, 132.60it/s]\n",
      "Analysing: 100%|██████████████████████████████████████████████████████████████████████| 25/25 [00:00<00:00, 170.04it/s]\n"
     ]
    },
    {
     "name": "stdout",
     "output_type": "stream",
     "text": [
      "loss: [0.495 0.723],            time: +379.61 sec\n",
      "terminated at 139 epochs\n",
      "loss: [0.622 0.852],            time: +213.43 sec\n"
     ]
    },
    {
     "name": "stderr",
     "output_type": "stream",
     "text": [
      "Playing matches: 100%|████████████████████████████████████████████████████████████████| 45/45 [00:00<00:00, 140.52it/s]\n",
      "Analysing: 100%|██████████████████████████████████████████████████████████████████████| 25/25 [00:00<00:00, 173.61it/s]\n"
     ]
    },
    {
     "name": "stdout",
     "output_type": "stream",
     "text": [
      "terminated at 180 epochs\n",
      "loss: [0.95  0.433],            time: +276.99 sec\n",
      "terminated at 145 epochs\n",
      "loss: [1.107 0.502],            time: +223.05 sec\n"
     ]
    },
    {
     "name": "stderr",
     "output_type": "stream",
     "text": [
      "Playing matches: 100%|████████████████████████████████████████████████████████████████| 45/45 [00:00<00:00, 142.86it/s]\n",
      "Analysing: 100%|██████████████████████████████████████████████████████████████████████| 25/25 [00:00<00:00, 161.27it/s]\n"
     ]
    },
    {
     "name": "stdout",
     "output_type": "stream",
     "text": [
      "terminated at 203 epochs\n",
      "loss: [0.819 0.536],            time: +308.82 sec\n",
      "loss: [0.671 0.52 ],            time: +380.96 sec\n"
     ]
    },
    {
     "name": "stderr",
     "output_type": "stream",
     "text": [
      "Playing matches: 100%|████████████████████████████████████████████████████████████████| 45/45 [00:00<00:00, 101.58it/s]\n",
      "Analysing: 100%|██████████████████████████████████████████████████████████████████████| 25/25 [00:00<00:00, 114.68it/s]\n"
     ]
    },
    {
     "name": "stdout",
     "output_type": "stream",
     "text": [
      "terminated at 94 epochs\n",
      "loss: [0.507 1.43 ],            time: +146.56 sec\n",
      "terminated at 106 epochs\n",
      "loss: [0.524 0.826],            time: +162.94 sec\n"
     ]
    },
    {
     "name": "stderr",
     "output_type": "stream",
     "text": [
      "Playing matches: 100%|████████████████████████████████████████████████████████████████| 45/45 [00:00<00:00, 140.91it/s]\n",
      "Analysing: 100%|██████████████████████████████████████████████████████████████████████| 25/25 [00:00<00:00, 162.30it/s]\n"
     ]
    },
    {
     "name": "stdout",
     "output_type": "stream",
     "text": [
      "loss: [0.832 0.829],            time: +382.14 sec\n",
      "loss: [0.495 0.373],            time: +386.85 sec\n"
     ]
    },
    {
     "name": "stderr",
     "output_type": "stream",
     "text": [
      "Playing matches: 100%|████████████████████████████████████████████████████████████████| 45/45 [00:00<00:00, 122.26it/s]\n",
      "Analysing: 100%|██████████████████████████████████████████████████████████████████████| 25/25 [00:00<00:00, 171.20it/s]\n"
     ]
    },
    {
     "name": "stdout",
     "output_type": "stream",
     "text": [
      "terminated at 164 epochs\n",
      "loss: [0.463 0.814],            time: +258.54 sec\n",
      "loss: [0.799 0.756],            time: +388.09 sec\n"
     ]
    },
    {
     "name": "stderr",
     "output_type": "stream",
     "text": [
      "Playing matches: 100%|████████████████████████████████████████████████████████████████| 45/45 [00:00<00:00, 119.04it/s]\n",
      "Analysing: 100%|██████████████████████████████████████████████████████████████████████| 25/25 [00:00<00:00, 150.57it/s]\n"
     ]
    },
    {
     "name": "stdout",
     "output_type": "stream",
     "text": [
      "loss: [0.533 0.568],            time: +390.35 sec\n",
      "loss: [0.736 0.324],            time: +389.65 sec\n"
     ]
    },
    {
     "name": "stderr",
     "output_type": "stream",
     "text": [
      "Playing matches: 100%|████████████████████████████████████████████████████████████████| 45/45 [00:00<00:00, 142.41it/s]\n",
      "Analysing: 100%|██████████████████████████████████████████████████████████████████████| 25/25 [00:00<00:00, 166.63it/s]\n"
     ]
    },
    {
     "name": "stdout",
     "output_type": "stream",
     "text": [
      "loss: [0.449 1.183],            time: +390.35 sec\n",
      "terminated at 214 epochs\n",
      "loss: [1.092 0.981],            time: +338.64 sec\n"
     ]
    },
    {
     "name": "stderr",
     "output_type": "stream",
     "text": [
      "Playing matches: 100%|████████████████████████████████████████████████████████████████| 45/45 [00:00<00:00, 137.61it/s]\n",
      "Analysing: 100%|██████████████████████████████████████████████████████████████████████| 25/25 [00:00<00:00, 160.22it/s]\n"
     ]
    },
    {
     "name": "stdout",
     "output_type": "stream",
     "text": [
      "terminated at 115 epochs\n",
      "loss: [0.551 0.942],            time: +184.05 sec\n",
      "terminated at 182 epochs\n",
      "loss: [0.774 0.659],            time: +291.52 sec\n"
     ]
    },
    {
     "name": "stderr",
     "output_type": "stream",
     "text": [
      "Playing matches: 100%|████████████████████████████████████████████████████████████████| 45/45 [00:00<00:00, 136.59it/s]\n",
      "Analysing: 100%|██████████████████████████████████████████████████████████████████████| 25/25 [00:00<00:00, 173.19it/s]\n"
     ]
    },
    {
     "name": "stdout",
     "output_type": "stream",
     "text": [
      "terminated at 122 epochs\n",
      "loss: [1.499 0.636],            time: +198.34 sec\n",
      "terminated at 100 epochs\n",
      "loss: [1.189 0.538],            time: +162.94 sec\n"
     ]
    },
    {
     "name": "stderr",
     "output_type": "stream",
     "text": [
      "Playing matches: 100%|████████████████████████████████████████████████████████████████| 45/45 [00:00<00:00, 144.22it/s]\n",
      "Analysing: 100%|██████████████████████████████████████████████████████████████████████| 25/25 [00:00<00:00, 152.43it/s]\n"
     ]
    },
    {
     "name": "stdout",
     "output_type": "stream",
     "text": [
      "terminated at 188 epochs\n",
      "loss: [0.809 0.8  ],            time: +306.35 sec\n",
      "terminated at 129 epochs\n",
      "loss: [0.881 0.575],            time: +210.40 sec\n"
     ]
    },
    {
     "name": "stderr",
     "output_type": "stream",
     "text": [
      "Playing matches: 100%|████████████████████████████████████████████████████████████████| 45/45 [00:00<00:00, 145.63it/s]\n",
      "Analysing: 100%|██████████████████████████████████████████████████████████████████████| 25/25 [00:00<00:00, 170.07it/s]\n"
     ]
    },
    {
     "name": "stdout",
     "output_type": "stream",
     "text": [
      "terminated at 130 epochs\n",
      "loss: [0.752 0.617],            time: +212.44 sec\n",
      "terminated at 178 epochs\n",
      "loss: [0.707 0.663],            time: +290.22 sec\n"
     ]
    },
    {
     "name": "stderr",
     "output_type": "stream",
     "text": [
      "Playing matches: 100%|████████████████████████████████████████████████████████████████| 45/45 [00:00<00:00, 143.30it/s]\n",
      "Analysing: 100%|██████████████████████████████████████████████████████████████████████| 25/25 [00:00<00:00, 177.31it/s]\n"
     ]
    },
    {
     "name": "stdout",
     "output_type": "stream",
     "text": [
      "loss: [0.325 0.354],            time: +405.43 sec\n",
      "terminated at 208 epochs\n",
      "loss: [0.95  0.452],            time: +337.63 sec\n"
     ]
    },
    {
     "name": "stderr",
     "output_type": "stream",
     "text": [
      "Playing matches: 100%|████████████████████████████████████████████████████████████████| 45/45 [00:00<00:00, 142.17it/s]\n",
      "Analysing: 100%|██████████████████████████████████████████████████████████████████████| 25/25 [00:00<00:00, 178.55it/s]\n"
     ]
    },
    {
     "name": "stdout",
     "output_type": "stream",
     "text": [
      "terminated at 89 epochs\n",
      "loss: [0.592 0.641],            time: +145.30 sec\n",
      "terminated at 131 epochs\n",
      "loss: [0.723 0.759],            time: +213.08 sec\n"
     ]
    },
    {
     "name": "stderr",
     "output_type": "stream",
     "text": [
      "Playing matches: 100%|████████████████████████████████████████████████████████████████| 45/45 [00:00<00:00, 146.09it/s]\n",
      "Analysing: 100%|██████████████████████████████████████████████████████████████████████| 25/25 [00:00<00:00, 178.57it/s]\n"
     ]
    },
    {
     "name": "stdout",
     "output_type": "stream",
     "text": [
      "terminated at 143 epochs\n",
      "loss: [1.313 0.583],            time: +233.25 sec\n",
      "terminated at 111 epochs\n",
      "loss: [0.743 0.696],            time: +188.98 sec\n"
     ]
    },
    {
     "name": "stderr",
     "output_type": "stream",
     "text": [
      "Playing matches: 100%|████████████████████████████████████████████████████████████████| 45/45 [00:00<00:00, 142.57it/s]\n",
      "Analysing: 100%|██████████████████████████████████████████████████████████████████████| 25/25 [00:00<00:00, 171.15it/s]\n"
     ]
    },
    {
     "name": "stdout",
     "output_type": "stream",
     "text": [
      "terminated at 225 epochs\n",
      "loss: [0.612 0.65 ],            time: +357.45 sec\n",
      "terminated at 203 epochs\n",
      "loss: [0.872 0.524],            time: +324.53 sec\n"
     ]
    },
    {
     "name": "stderr",
     "output_type": "stream",
     "text": [
      "Playing matches: 100%|████████████████████████████████████████████████████████████████| 45/45 [00:00<00:00, 139.30it/s]\n",
      "Analysing: 100%|██████████████████████████████████████████████████████████████████████| 25/25 [00:00<00:00, 165.53it/s]\n"
     ]
    },
    {
     "name": "stdout",
     "output_type": "stream",
     "text": [
      "loss: [0.465 0.469],            time: +400.75 sec\n",
      "terminated at 118 epochs\n",
      "loss: [0.987 0.539],            time: +193.12 sec\n"
     ]
    },
    {
     "name": "stderr",
     "output_type": "stream",
     "text": [
      "Playing matches: 100%|████████████████████████████████████████████████████████████████| 45/45 [00:00<00:00, 123.63it/s]\n",
      "Analysing: 100%|██████████████████████████████████████████████████████████████████████| 25/25 [00:00<00:00, 159.24it/s]\n"
     ]
    },
    {
     "name": "stdout",
     "output_type": "stream",
     "text": [
      "terminated at 89 epochs\n",
      "loss: [1.411 0.533],            time: +144.89 sec\n",
      "terminated at 85 epochs\n",
      "loss: [1.007 0.634],            time: +139.00 sec\n"
     ]
    },
    {
     "name": "stderr",
     "output_type": "stream",
     "text": [
      "Playing matches: 100%|████████████████████████████████████████████████████████████████| 45/45 [00:00<00:00, 145.16it/s]\n",
      "Analysing: 100%|██████████████████████████████████████████████████████████████████████| 25/25 [00:00<00:00, 166.68it/s]\n"
     ]
    },
    {
     "name": "stdout",
     "output_type": "stream",
     "text": [
      "terminated at 153 epochs\n",
      "loss: [0.886 0.608],            time: +251.12 sec\n",
      "loss: [0.838 0.415],            time: +408.16 sec\n"
     ]
    },
    {
     "name": "stderr",
     "output_type": "stream",
     "text": [
      "Playing matches: 100%|████████████████████████████████████████████████████████████████| 45/45 [00:00<00:00, 142.04it/s]\n",
      "Analysing: 100%|██████████████████████████████████████████████████████████████████████| 25/25 [00:00<00:00, 176.06it/s]\n"
     ]
    },
    {
     "name": "stdout",
     "output_type": "stream",
     "text": [
      "terminated at 104 epochs\n",
      "loss: [0.714 0.551],            time: +173.53 sec\n"
     ]
    }
   ],
   "source": [
    "# time to take a nap\n",
    "ls = []\n",
    "loss_ls = []\n",
    "for i in range(100):\n",
    "    \n",
    "    start = time()\n",
    "    p1.train(250, param, loss_targ=0.02)\n",
    "    \n",
    "    train_against(p1, players)\n",
    "    \n",
    "    print(f'loss: {p1.network.loss},            time: +{time()-start:.2f} sec')\n",
    "    \n",
    "    # test DQN in tournament\n",
    "    if i % 2 == 0:\n",
    "        loss_ls.append(np.sum(p1.network.loss))\n",
    "        with p1:\n",
    "            p1.network.verbosity = False\n",
    "            tournament = Tournament([p1, *players], game=GAME, turns=GAME_LEN)\n",
    "            results = tournament.play()\n",
    "            summary = results.summarise()\n",
    "            ls.append(pd.DataFrame(map(list, summary), columns=headers))\n",
    "               \n",
    "        # backing up\n",
    "        with open('data/s2/tn_results.pkl', \"wb\") as file:\n",
    "            dill.dump(ls, file)\n",
    "\n",
    "        with open(f'data/s2/p1_{i}.pkl', \"wb\") as file:\n",
    "            dill.dump(p1, file)"
   ]
  },
  {
   "cell_type": "code",
   "execution_count": 11,
   "id": "94cee15d-d71a-4918-a456-63f914fc258a",
   "metadata": {},
   "outputs": [
    {
     "data": {
      "image/png": "[encoded data removed]",
      "text/plain": [
       "<Figure size 800x640 with 1 Axes>"
      ]
     },
     "metadata": {
      "needs_background": "light"
     },
     "output_type": "display_data"
    }
   ],
   "source": [
    "p1.plot()"
   ]
  },
  {
   "cell_type": "code",
   "execution_count": 12,
   "id": "eba288d3-915f-40a7-810b-4bce47c9f6a1",
   "metadata": {},
   "outputs": [
    {
     "data": {
      "image/png": "[encoded data removed]",
      "text/plain": [
       "<Figure size 800x640 with 1 Axes>"
      ]
     },
     "metadata": {
      "needs_background": "light"
     },
     "output_type": "display_data"
    }
   ],
   "source": [
    "p1.plot(min_ran=500, max_ran=800)"
   ]
  },
  {
   "cell_type": "code",
   "execution_count": 13,
   "id": "c2cf0dc5-415e-484e-9228-4ff18e2e96bc",
   "metadata": {},
   "outputs": [
    {
     "name": "stdout",
     "output_type": "stream",
     "text": [
      "[[27.429 28.712]]\n",
      "[[34.354 27.181]]\n",
      "[[11.592  9.87 ]]\n",
      "[[26.44  26.418]]\n",
      "[[22.83  26.943]]\n",
      "[[24.808 22.602]]\n",
      "[[25.688 26.197]]\n",
      "[[22.233 21.721]]\n",
      "[[24.38  18.916]]\n",
      "[[12.986  9.662]]\n",
      "[[20.064 19.45 ]]\n",
      "[[13.656 12.72 ]]\n",
      "[[22.345 15.883]]\n",
      "[[11.931 12.679]]\n",
      "[[10.856  8.678]]\n",
      "[[10.22   9.088]]\n",
      "[[7.872 9.328]]\n",
      "[[4.706 5.46 ]]\n",
      "[[-0.347  1.97 ]]\n",
      "[[-0.258  1.247]]\n",
      "[[0.384 0.384]]\n",
      "[(5, 0), (0, 5), (3, 3), (3, 3), (5, 0), (0, 5), (5, 0), (0, 5), (0, 5), (3, 3), (0, 5), (0, 5), (3, 3), (5, 0), (0, 5), (3, 3), (5, 0), (1, 1), (1, 1), (1, 1)]\n",
      "Player 1 score = 43\n",
      "Player 2 score = 53\n"
     ]
    }
   ],
   "source": [
    "with p1:\n",
    "    play(p1, axl.RemorsefulProber())"
   ]
  },
  {
   "cell_type": "code",
   "execution_count": 14,
   "id": "336a5cea",
   "metadata": {},
   "outputs": [],
   "source": [
    "[x.set_index('Name', inplace=True) for x in ls];"
   ]
  },
  {
   "cell_type": "code",
   "execution_count": 15,
   "id": "c139d40c-59ec-41fe-be0a-001fb953753d",
   "metadata": {},
   "outputs": [
    {
     "data": {
      "text/html": [
       "<div>\n",
       "<style scoped>\n",
       "    .dataframe tbody tr th:only-of-type {\n",
       "        vertical-align: middle;\n",
       "    }\n",
       "\n",
       "    .dataframe tbody tr th {\n",
       "        vertical-align: top;\n",
       "    }\n",
       "\n",
       "    .dataframe thead th {\n",
       "        text-align: right;\n",
       "    }\n",
       "</style>\n",
       "<table border=\"1\" class=\"dataframe\">\n",
       "  <thead>\n",
       "    <tr style=\"text-align: right;\">\n",
       "      <th></th>\n",
       "      <th>Rank</th>\n",
       "      <th>Median_score</th>\n",
       "      <th>Cooperation_rating</th>\n",
       "      <th>Initial_C_rate</th>\n",
       "      <th>CC_to_C_rate</th>\n",
       "      <th>CD_to_C_rate</th>\n",
       "    </tr>\n",
       "  </thead>\n",
       "  <tbody>\n",
       "    <tr>\n",
       "      <th>0</th>\n",
       "      <td>8</td>\n",
       "      <td>2.06</td>\n",
       "      <td>0.07</td>\n",
       "      <td>0.00</td>\n",
       "      <td>0.00</td>\n",
       "      <td>0.50</td>\n",
       "    </tr>\n",
       "    <tr>\n",
       "      <th>1</th>\n",
       "      <td>1</td>\n",
       "      <td>2.54</td>\n",
       "      <td>0.46</td>\n",
       "      <td>1.00</td>\n",
       "      <td>0.28</td>\n",
       "      <td>0.50</td>\n",
       "    </tr>\n",
       "    <tr>\n",
       "      <th>2</th>\n",
       "      <td>3</td>\n",
       "      <td>2.52</td>\n",
       "      <td>0.39</td>\n",
       "      <td>0.00</td>\n",
       "      <td>0.40</td>\n",
       "      <td>0.41</td>\n",
       "    </tr>\n",
       "    <tr>\n",
       "      <th>3</th>\n",
       "      <td>1</td>\n",
       "      <td>2.72</td>\n",
       "      <td>0.44</td>\n",
       "      <td>1.00</td>\n",
       "      <td>0.42</td>\n",
       "      <td>0.29</td>\n",
       "    </tr>\n",
       "    <tr>\n",
       "      <th>4</th>\n",
       "      <td>1</td>\n",
       "      <td>2.62</td>\n",
       "      <td>0.34</td>\n",
       "      <td>0.00</td>\n",
       "      <td>0.55</td>\n",
       "      <td>0.68</td>\n",
       "    </tr>\n",
       "    <tr>\n",
       "      <th>5</th>\n",
       "      <td>1</td>\n",
       "      <td>2.77</td>\n",
       "      <td>0.59</td>\n",
       "      <td>1.00</td>\n",
       "      <td>0.66</td>\n",
       "      <td>0.47</td>\n",
       "    </tr>\n",
       "    <tr>\n",
       "      <th>6</th>\n",
       "      <td>1</td>\n",
       "      <td>2.71</td>\n",
       "      <td>0.46</td>\n",
       "      <td>1.00</td>\n",
       "      <td>0.74</td>\n",
       "      <td>0.37</td>\n",
       "    </tr>\n",
       "    <tr>\n",
       "      <th>7</th>\n",
       "      <td>1</td>\n",
       "      <td>2.69</td>\n",
       "      <td>0.59</td>\n",
       "      <td>1.00</td>\n",
       "      <td>0.60</td>\n",
       "      <td>0.66</td>\n",
       "    </tr>\n",
       "    <tr>\n",
       "      <th>8</th>\n",
       "      <td>1</td>\n",
       "      <td>2.72</td>\n",
       "      <td>0.43</td>\n",
       "      <td>1.00</td>\n",
       "      <td>0.42</td>\n",
       "      <td>0.58</td>\n",
       "    </tr>\n",
       "    <tr>\n",
       "      <th>9</th>\n",
       "      <td>1</td>\n",
       "      <td>2.83</td>\n",
       "      <td>0.60</td>\n",
       "      <td>1.00</td>\n",
       "      <td>0.63</td>\n",
       "      <td>0.64</td>\n",
       "    </tr>\n",
       "    <tr>\n",
       "      <th>10</th>\n",
       "      <td>1</td>\n",
       "      <td>2.74</td>\n",
       "      <td>0.65</td>\n",
       "      <td>1.00</td>\n",
       "      <td>0.73</td>\n",
       "      <td>0.62</td>\n",
       "    </tr>\n",
       "    <tr>\n",
       "      <th>11</th>\n",
       "      <td>0</td>\n",
       "      <td>2.95</td>\n",
       "      <td>0.80</td>\n",
       "      <td>1.00</td>\n",
       "      <td>0.92</td>\n",
       "      <td>0.53</td>\n",
       "    </tr>\n",
       "    <tr>\n",
       "      <th>12</th>\n",
       "      <td>1</td>\n",
       "      <td>2.66</td>\n",
       "      <td>0.41</td>\n",
       "      <td>0.00</td>\n",
       "      <td>0.57</td>\n",
       "      <td>0.43</td>\n",
       "    </tr>\n",
       "    <tr>\n",
       "      <th>13</th>\n",
       "      <td>1</td>\n",
       "      <td>2.76</td>\n",
       "      <td>0.49</td>\n",
       "      <td>1.00</td>\n",
       "      <td>0.53</td>\n",
       "      <td>0.53</td>\n",
       "    </tr>\n",
       "    <tr>\n",
       "      <th>14</th>\n",
       "      <td>1</td>\n",
       "      <td>2.76</td>\n",
       "      <td>0.59</td>\n",
       "      <td>1.00</td>\n",
       "      <td>0.76</td>\n",
       "      <td>0.36</td>\n",
       "    </tr>\n",
       "    <tr>\n",
       "      <th>15</th>\n",
       "      <td>2</td>\n",
       "      <td>2.57</td>\n",
       "      <td>0.35</td>\n",
       "      <td>0.00</td>\n",
       "      <td>0.39</td>\n",
       "      <td>0.42</td>\n",
       "    </tr>\n",
       "    <tr>\n",
       "      <th>16</th>\n",
       "      <td>3</td>\n",
       "      <td>2.55</td>\n",
       "      <td>0.46</td>\n",
       "      <td>0.00</td>\n",
       "      <td>0.60</td>\n",
       "      <td>0.41</td>\n",
       "    </tr>\n",
       "    <tr>\n",
       "      <th>17</th>\n",
       "      <td>0</td>\n",
       "      <td>2.79</td>\n",
       "      <td>0.45</td>\n",
       "      <td>1.00</td>\n",
       "      <td>0.43</td>\n",
       "      <td>0.37</td>\n",
       "    </tr>\n",
       "    <tr>\n",
       "      <th>18</th>\n",
       "      <td>1</td>\n",
       "      <td>2.66</td>\n",
       "      <td>0.44</td>\n",
       "      <td>1.00</td>\n",
       "      <td>0.47</td>\n",
       "      <td>0.53</td>\n",
       "    </tr>\n",
       "    <tr>\n",
       "      <th>19</th>\n",
       "      <td>0</td>\n",
       "      <td>2.87</td>\n",
       "      <td>0.61</td>\n",
       "      <td>1.00</td>\n",
       "      <td>0.69</td>\n",
       "      <td>0.54</td>\n",
       "    </tr>\n",
       "    <tr>\n",
       "      <th>20</th>\n",
       "      <td>2</td>\n",
       "      <td>2.55</td>\n",
       "      <td>0.35</td>\n",
       "      <td>0.00</td>\n",
       "      <td>0.82</td>\n",
       "      <td>0.30</td>\n",
       "    </tr>\n",
       "    <tr>\n",
       "      <th>21</th>\n",
       "      <td>2</td>\n",
       "      <td>2.62</td>\n",
       "      <td>0.45</td>\n",
       "      <td>1.00</td>\n",
       "      <td>0.48</td>\n",
       "      <td>0.37</td>\n",
       "    </tr>\n",
       "    <tr>\n",
       "      <th>22</th>\n",
       "      <td>1</td>\n",
       "      <td>2.66</td>\n",
       "      <td>0.46</td>\n",
       "      <td>1.00</td>\n",
       "      <td>0.50</td>\n",
       "      <td>0.53</td>\n",
       "    </tr>\n",
       "    <tr>\n",
       "      <th>23</th>\n",
       "      <td>1</td>\n",
       "      <td>2.62</td>\n",
       "      <td>0.38</td>\n",
       "      <td>0.00</td>\n",
       "      <td>0.53</td>\n",
       "      <td>0.33</td>\n",
       "    </tr>\n",
       "    <tr>\n",
       "      <th>24</th>\n",
       "      <td>1</td>\n",
       "      <td>2.67</td>\n",
       "      <td>0.45</td>\n",
       "      <td>1.00</td>\n",
       "      <td>0.40</td>\n",
       "      <td>0.63</td>\n",
       "    </tr>\n",
       "    <tr>\n",
       "      <th>25</th>\n",
       "      <td>1</td>\n",
       "      <td>2.67</td>\n",
       "      <td>0.57</td>\n",
       "      <td>1.00</td>\n",
       "      <td>0.56</td>\n",
       "      <td>0.53</td>\n",
       "    </tr>\n",
       "    <tr>\n",
       "      <th>26</th>\n",
       "      <td>1</td>\n",
       "      <td>2.67</td>\n",
       "      <td>0.50</td>\n",
       "      <td>1.00</td>\n",
       "      <td>0.39</td>\n",
       "      <td>0.59</td>\n",
       "    </tr>\n",
       "    <tr>\n",
       "      <th>27</th>\n",
       "      <td>1</td>\n",
       "      <td>2.74</td>\n",
       "      <td>0.59</td>\n",
       "      <td>1.00</td>\n",
       "      <td>0.64</td>\n",
       "      <td>0.56</td>\n",
       "    </tr>\n",
       "    <tr>\n",
       "      <th>28</th>\n",
       "      <td>1</td>\n",
       "      <td>2.72</td>\n",
       "      <td>0.54</td>\n",
       "      <td>1.00</td>\n",
       "      <td>0.74</td>\n",
       "      <td>0.56</td>\n",
       "    </tr>\n",
       "    <tr>\n",
       "      <th>29</th>\n",
       "      <td>3</td>\n",
       "      <td>2.58</td>\n",
       "      <td>0.42</td>\n",
       "      <td>0.00</td>\n",
       "      <td>0.69</td>\n",
       "      <td>0.68</td>\n",
       "    </tr>\n",
       "    <tr>\n",
       "      <th>30</th>\n",
       "      <td>4</td>\n",
       "      <td>2.44</td>\n",
       "      <td>0.37</td>\n",
       "      <td>1.00</td>\n",
       "      <td>0.36</td>\n",
       "      <td>0.38</td>\n",
       "    </tr>\n",
       "    <tr>\n",
       "      <th>31</th>\n",
       "      <td>1</td>\n",
       "      <td>2.65</td>\n",
       "      <td>0.43</td>\n",
       "      <td>0.00</td>\n",
       "      <td>0.44</td>\n",
       "      <td>0.44</td>\n",
       "    </tr>\n",
       "    <tr>\n",
       "      <th>32</th>\n",
       "      <td>1</td>\n",
       "      <td>2.68</td>\n",
       "      <td>0.44</td>\n",
       "      <td>1.00</td>\n",
       "      <td>0.61</td>\n",
       "      <td>0.54</td>\n",
       "    </tr>\n",
       "    <tr>\n",
       "      <th>33</th>\n",
       "      <td>1</td>\n",
       "      <td>2.62</td>\n",
       "      <td>0.34</td>\n",
       "      <td>0.00</td>\n",
       "      <td>0.55</td>\n",
       "      <td>0.50</td>\n",
       "    </tr>\n",
       "    <tr>\n",
       "      <th>34</th>\n",
       "      <td>1</td>\n",
       "      <td>2.61</td>\n",
       "      <td>0.44</td>\n",
       "      <td>0.00</td>\n",
       "      <td>0.62</td>\n",
       "      <td>0.48</td>\n",
       "    </tr>\n",
       "    <tr>\n",
       "      <th>35</th>\n",
       "      <td>4</td>\n",
       "      <td>2.57</td>\n",
       "      <td>0.51</td>\n",
       "      <td>1.00</td>\n",
       "      <td>0.43</td>\n",
       "      <td>0.51</td>\n",
       "    </tr>\n",
       "    <tr>\n",
       "      <th>36</th>\n",
       "      <td>1</td>\n",
       "      <td>2.65</td>\n",
       "      <td>0.48</td>\n",
       "      <td>1.00</td>\n",
       "      <td>0.43</td>\n",
       "      <td>0.62</td>\n",
       "    </tr>\n",
       "    <tr>\n",
       "      <th>37</th>\n",
       "      <td>4</td>\n",
       "      <td>2.52</td>\n",
       "      <td>0.37</td>\n",
       "      <td>0.00</td>\n",
       "      <td>0.54</td>\n",
       "      <td>0.53</td>\n",
       "    </tr>\n",
       "    <tr>\n",
       "      <th>38</th>\n",
       "      <td>4</td>\n",
       "      <td>2.43</td>\n",
       "      <td>0.44</td>\n",
       "      <td>1.00</td>\n",
       "      <td>0.54</td>\n",
       "      <td>0.52</td>\n",
       "    </tr>\n",
       "    <tr>\n",
       "      <th>39</th>\n",
       "      <td>2</td>\n",
       "      <td>2.51</td>\n",
       "      <td>0.46</td>\n",
       "      <td>0.00</td>\n",
       "      <td>0.49</td>\n",
       "      <td>0.71</td>\n",
       "    </tr>\n",
       "    <tr>\n",
       "      <th>40</th>\n",
       "      <td>1</td>\n",
       "      <td>2.69</td>\n",
       "      <td>0.51</td>\n",
       "      <td>1.00</td>\n",
       "      <td>0.63</td>\n",
       "      <td>0.46</td>\n",
       "    </tr>\n",
       "    <tr>\n",
       "      <th>41</th>\n",
       "      <td>4</td>\n",
       "      <td>2.48</td>\n",
       "      <td>0.54</td>\n",
       "      <td>1.00</td>\n",
       "      <td>0.77</td>\n",
       "      <td>0.38</td>\n",
       "    </tr>\n",
       "    <tr>\n",
       "      <th>42</th>\n",
       "      <td>0</td>\n",
       "      <td>2.92</td>\n",
       "      <td>0.82</td>\n",
       "      <td>1.00</td>\n",
       "      <td>0.87</td>\n",
       "      <td>0.39</td>\n",
       "    </tr>\n",
       "    <tr>\n",
       "      <th>43</th>\n",
       "      <td>1</td>\n",
       "      <td>2.64</td>\n",
       "      <td>0.38</td>\n",
       "      <td>0.00</td>\n",
       "      <td>0.42</td>\n",
       "      <td>0.65</td>\n",
       "    </tr>\n",
       "    <tr>\n",
       "      <th>44</th>\n",
       "      <td>4</td>\n",
       "      <td>2.51</td>\n",
       "      <td>0.42</td>\n",
       "      <td>0.00</td>\n",
       "      <td>0.46</td>\n",
       "      <td>0.66</td>\n",
       "    </tr>\n",
       "    <tr>\n",
       "      <th>45</th>\n",
       "      <td>1</td>\n",
       "      <td>2.60</td>\n",
       "      <td>0.40</td>\n",
       "      <td>1.00</td>\n",
       "      <td>0.66</td>\n",
       "      <td>0.46</td>\n",
       "    </tr>\n",
       "    <tr>\n",
       "      <th>46</th>\n",
       "      <td>0</td>\n",
       "      <td>2.85</td>\n",
       "      <td>0.71</td>\n",
       "      <td>1.00</td>\n",
       "      <td>0.76</td>\n",
       "      <td>0.51</td>\n",
       "    </tr>\n",
       "    <tr>\n",
       "      <th>47</th>\n",
       "      <td>1</td>\n",
       "      <td>2.61</td>\n",
       "      <td>0.44</td>\n",
       "      <td>1.00</td>\n",
       "      <td>0.54</td>\n",
       "      <td>0.77</td>\n",
       "    </tr>\n",
       "    <tr>\n",
       "      <th>48</th>\n",
       "      <td>1</td>\n",
       "      <td>2.61</td>\n",
       "      <td>0.43</td>\n",
       "      <td>0.00</td>\n",
       "      <td>0.51</td>\n",
       "      <td>0.53</td>\n",
       "    </tr>\n",
       "    <tr>\n",
       "      <th>49</th>\n",
       "      <td>1</td>\n",
       "      <td>2.67</td>\n",
       "      <td>0.46</td>\n",
       "      <td>1.00</td>\n",
       "      <td>0.52</td>\n",
       "      <td>0.35</td>\n",
       "    </tr>\n",
       "  </tbody>\n",
       "</table>\n",
       "</div>"
      ],
      "text/plain": [
       "    Rank  Median_score  Cooperation_rating  Initial_C_rate  CC_to_C_rate  \\\n",
       "0      8          2.06                0.07            0.00          0.00   \n",
       "1      1          2.54                0.46            1.00          0.28   \n",
       "2      3          2.52                0.39            0.00          0.40   \n",
       "3      1          2.72                0.44            1.00          0.42   \n",
       "4      1          2.62                0.34            0.00          0.55   \n",
       "5      1          2.77                0.59            1.00          0.66   \n",
       "6      1          2.71                0.46            1.00          0.74   \n",
       "7      1          2.69                0.59            1.00          0.60   \n",
       "8      1          2.72                0.43            1.00          0.42   \n",
       "9      1          2.83                0.60            1.00          0.63   \n",
       "10     1          2.74                0.65            1.00          0.73   \n",
       "11     0          2.95                0.80            1.00          0.92   \n",
       "12     1          2.66                0.41            0.00          0.57   \n",
       "13     1          2.76                0.49            1.00          0.53   \n",
       "14     1          2.76                0.59            1.00          0.76   \n",
       "15     2          2.57                0.35            0.00          0.39   \n",
       "16     3          2.55                0.46            0.00          0.60   \n",
       "17     0          2.79                0.45            1.00          0.43   \n",
       "18     1          2.66                0.44            1.00          0.47   \n",
       "19     0          2.87                0.61            1.00          0.69   \n",
       "20     2          2.55                0.35            0.00          0.82   \n",
       "21     2          2.62                0.45            1.00          0.48   \n",
       "22     1          2.66                0.46            1.00          0.50   \n",
       "23     1          2.62                0.38            0.00          0.53   \n",
       "24     1          2.67                0.45            1.00          0.40   \n",
       "25     1          2.67                0.57            1.00          0.56   \n",
       "26     1          2.67                0.50            1.00          0.39   \n",
       "27     1          2.74                0.59            1.00          0.64   \n",
       "28     1          2.72                0.54            1.00          0.74   \n",
       "29     3          2.58                0.42            0.00          0.69   \n",
       "30     4          2.44                0.37            1.00          0.36   \n",
       "31     1          2.65                0.43            0.00          0.44   \n",
       "32     1          2.68                0.44            1.00          0.61   \n",
       "33     1          2.62                0.34            0.00          0.55   \n",
       "34     1          2.61                0.44            0.00          0.62   \n",
       "35     4          2.57                0.51            1.00          0.43   \n",
       "36     1          2.65                0.48            1.00          0.43   \n",
       "37     4          2.52                0.37            0.00          0.54   \n",
       "38     4          2.43                0.44            1.00          0.54   \n",
       "39     2          2.51                0.46            0.00          0.49   \n",
       "40     1          2.69                0.51            1.00          0.63   \n",
       "41     4          2.48                0.54            1.00          0.77   \n",
       "42     0          2.92                0.82            1.00          0.87   \n",
       "43     1          2.64                0.38            0.00          0.42   \n",
       "44     4          2.51                0.42            0.00          0.46   \n",
       "45     1          2.60                0.40            1.00          0.66   \n",
       "46     0          2.85                0.71            1.00          0.76   \n",
       "47     1          2.61                0.44            1.00          0.54   \n",
       "48     1          2.61                0.43            0.00          0.51   \n",
       "49     1          2.67                0.46            1.00          0.52   \n",
       "\n",
       "    CD_to_C_rate  \n",
       "0           0.50  \n",
       "1           0.50  \n",
       "2           0.41  \n",
       "3           0.29  \n",
       "4           0.68  \n",
       "5           0.47  \n",
       "6           0.37  \n",
       "7           0.66  \n",
       "8           0.58  \n",
       "9           0.64  \n",
       "10          0.62  \n",
       "11          0.53  \n",
       "12          0.43  \n",
       "13          0.53  \n",
       "14          0.36  \n",
       "15          0.42  \n",
       "16          0.41  \n",
       "17          0.37  \n",
       "18          0.53  \n",
       "19          0.54  \n",
       "20          0.30  \n",
       "21          0.37  \n",
       "22          0.53  \n",
       "23          0.33  \n",
       "24          0.63  \n",
       "25          0.53  \n",
       "26          0.59  \n",
       "27          0.56  \n",
       "28          0.56  \n",
       "29          0.68  \n",
       "30          0.38  \n",
       "31          0.44  \n",
       "32          0.54  \n",
       "33          0.50  \n",
       "34          0.48  \n",
       "35          0.51  \n",
       "36          0.62  \n",
       "37          0.53  \n",
       "38          0.52  \n",
       "39          0.71  \n",
       "40          0.46  \n",
       "41          0.38  \n",
       "42          0.39  \n",
       "43          0.65  \n",
       "44          0.66  \n",
       "45          0.46  \n",
       "46          0.51  \n",
       "47          0.77  \n",
       "48          0.53  \n",
       "49          0.35  "
      ]
     },
     "execution_count": 15,
     "metadata": {},
     "output_type": "execute_result"
    }
   ],
   "source": [
    "things = ['Rank', 'Median_score', 'Cooperation_rating', 'Initial_C_rate', 'CC_to_C_rate', 'CD_to_C_rate']\n",
    "pd.DataFrame([[l.loc['NNplayer',t] for t in things] for l in ls], columns=things)"
   ]
  },
  {
   "cell_type": "code",
   "execution_count": 16,
   "id": "39fd0d9a",
   "metadata": {},
   "outputs": [
    {
     "data": {
      "text/html": [
       "<div>\n",
       "<style scoped>\n",
       "    .dataframe tbody tr th:only-of-type {\n",
       "        vertical-align: middle;\n",
       "    }\n",
       "\n",
       "    .dataframe tbody tr th {\n",
       "        vertical-align: top;\n",
       "    }\n",
       "\n",
       "    .dataframe thead th {\n",
       "        text-align: right;\n",
       "    }\n",
       "</style>\n",
       "<table border=\"1\" class=\"dataframe\">\n",
       "  <thead>\n",
       "    <tr style=\"text-align: right;\">\n",
       "      <th></th>\n",
       "      <th>Rank</th>\n",
       "      <th>Median_score</th>\n",
       "      <th>Cooperation_rating</th>\n",
       "      <th>Wins</th>\n",
       "      <th>Initial_C_rate</th>\n",
       "      <th>CC_rate</th>\n",
       "      <th>CD_rate</th>\n",
       "      <th>DC_rate</th>\n",
       "      <th>DD_rate</th>\n",
       "      <th>CC_to_C_rate</th>\n",
       "      <th>CD_to_C_rate</th>\n",
       "      <th>DC_to_C_rate</th>\n",
       "      <th>DD_to_C_rate</th>\n",
       "    </tr>\n",
       "    <tr>\n",
       "      <th>Name</th>\n",
       "      <th></th>\n",
       "      <th></th>\n",
       "      <th></th>\n",
       "      <th></th>\n",
       "      <th></th>\n",
       "      <th></th>\n",
       "      <th></th>\n",
       "      <th></th>\n",
       "      <th></th>\n",
       "      <th></th>\n",
       "      <th></th>\n",
       "      <th></th>\n",
       "      <th></th>\n",
       "    </tr>\n",
       "  </thead>\n",
       "  <tbody>\n",
       "    <tr>\n",
       "      <th>NNplayer</th>\n",
       "      <td>0</td>\n",
       "      <td>2.92</td>\n",
       "      <td>0.82</td>\n",
       "      <td>7.00</td>\n",
       "      <td>1.00</td>\n",
       "      <td>0.74</td>\n",
       "      <td>0.08</td>\n",
       "      <td>0.13</td>\n",
       "      <td>0.05</td>\n",
       "      <td>0.87</td>\n",
       "      <td>0.39</td>\n",
       "      <td>0.52</td>\n",
       "      <td>0.75</td>\n",
       "    </tr>\n",
       "    <tr>\n",
       "      <th>Tit For Tat</th>\n",
       "      <td>1</td>\n",
       "      <td>2.84</td>\n",
       "      <td>0.91</td>\n",
       "      <td>0.00</td>\n",
       "      <td>1.00</td>\n",
       "      <td>0.83</td>\n",
       "      <td>0.08</td>\n",
       "      <td>0.07</td>\n",
       "      <td>0.02</td>\n",
       "      <td>1.00</td>\n",
       "      <td>0.00</td>\n",
       "      <td>1.00</td>\n",
       "      <td>0.00</td>\n",
       "    </tr>\n",
       "    <tr>\n",
       "      <th>Grudger</th>\n",
       "      <td>2</td>\n",
       "      <td>2.64</td>\n",
       "      <td>0.71</td>\n",
       "      <td>2.00</td>\n",
       "      <td>1.00</td>\n",
       "      <td>0.69</td>\n",
       "      <td>0.02</td>\n",
       "      <td>0.07</td>\n",
       "      <td>0.22</td>\n",
       "      <td>1.00</td>\n",
       "      <td>0.00</td>\n",
       "      <td>0.00</td>\n",
       "      <td>0.00</td>\n",
       "    </tr>\n",
       "    <tr>\n",
       "      <th>Remorseful Prober: 0.1</th>\n",
       "      <td>3</td>\n",
       "      <td>2.63</td>\n",
       "      <td>0.70</td>\n",
       "      <td>3.00</td>\n",
       "      <td>1.00</td>\n",
       "      <td>0.57</td>\n",
       "      <td>0.12</td>\n",
       "      <td>0.15</td>\n",
       "      <td>0.15</td>\n",
       "      <td>0.90</td>\n",
       "      <td>0.00</td>\n",
       "      <td>0.86</td>\n",
       "      <td>0.54</td>\n",
       "    </tr>\n",
       "    <tr>\n",
       "      <th>Punisher</th>\n",
       "      <td>4</td>\n",
       "      <td>2.58</td>\n",
       "      <td>0.71</td>\n",
       "      <td>2.00</td>\n",
       "      <td>1.00</td>\n",
       "      <td>0.69</td>\n",
       "      <td>0.02</td>\n",
       "      <td>0.07</td>\n",
       "      <td>0.22</td>\n",
       "      <td>1.00</td>\n",
       "      <td>0.00</td>\n",
       "      <td>0.00</td>\n",
       "      <td>0.00</td>\n",
       "    </tr>\n",
       "    <tr>\n",
       "      <th>Tit For 2 Tats</th>\n",
       "      <td>5</td>\n",
       "      <td>2.54</td>\n",
       "      <td>0.89</td>\n",
       "      <td>0.00</td>\n",
       "      <td>1.00</td>\n",
       "      <td>0.79</td>\n",
       "      <td>0.09</td>\n",
       "      <td>0.01</td>\n",
       "      <td>0.10</td>\n",
       "      <td>1.00</td>\n",
       "      <td>0.77</td>\n",
       "      <td>1.00</td>\n",
       "      <td>0.00</td>\n",
       "    </tr>\n",
       "    <tr>\n",
       "      <th>Cooperator</th>\n",
       "      <td>6</td>\n",
       "      <td>2.42</td>\n",
       "      <td>1.00</td>\n",
       "      <td>0.00</td>\n",
       "      <td>1.00</td>\n",
       "      <td>0.81</td>\n",
       "      <td>0.19</td>\n",
       "      <td>0.00</td>\n",
       "      <td>0.00</td>\n",
       "      <td>1.00</td>\n",
       "      <td>1.00</td>\n",
       "      <td>0.00</td>\n",
       "      <td>0.00</td>\n",
       "    </tr>\n",
       "    <tr>\n",
       "      <th>Prober</th>\n",
       "      <td>7</td>\n",
       "      <td>2.37</td>\n",
       "      <td>0.39</td>\n",
       "      <td>2.00</td>\n",
       "      <td>0.00</td>\n",
       "      <td>0.22</td>\n",
       "      <td>0.16</td>\n",
       "      <td>0.27</td>\n",
       "      <td>0.34</td>\n",
       "      <td>0.83</td>\n",
       "      <td>0.46</td>\n",
       "      <td>0.80</td>\n",
       "      <td>0.00</td>\n",
       "    </tr>\n",
       "    <tr>\n",
       "      <th>Prober 4</th>\n",
       "      <td>8</td>\n",
       "      <td>2.34</td>\n",
       "      <td>0.50</td>\n",
       "      <td>3.50</td>\n",
       "      <td>1.00</td>\n",
       "      <td>0.22</td>\n",
       "      <td>0.28</td>\n",
       "      <td>0.29</td>\n",
       "      <td>0.21</td>\n",
       "      <td>0.39</td>\n",
       "      <td>0.32</td>\n",
       "      <td>0.74</td>\n",
       "      <td>0.71</td>\n",
       "    </tr>\n",
       "  </tbody>\n",
       "</table>\n",
       "</div>"
      ],
      "text/plain": [
       "                        Rank  Median_score  Cooperation_rating  Wins  \\\n",
       "Name                                                                   \n",
       "NNplayer                   0          2.92                0.82  7.00   \n",
       "Tit For Tat                1          2.84                0.91  0.00   \n",
       "Grudger                    2          2.64                0.71  2.00   \n",
       "Remorseful Prober: 0.1     3          2.63                0.70  3.00   \n",
       "Punisher                   4          2.58                0.71  2.00   \n",
       "Tit For 2 Tats             5          2.54                0.89  0.00   \n",
       "Cooperator                 6          2.42                1.00  0.00   \n",
       "Prober                     7          2.37                0.39  2.00   \n",
       "Prober 4                   8          2.34                0.50  3.50   \n",
       "\n",
       "                        Initial_C_rate  CC_rate  CD_rate  DC_rate  DD_rate  \\\n",
       "Name                                                                         \n",
       "NNplayer                          1.00     0.74     0.08     0.13     0.05   \n",
       "Tit For Tat                       1.00     0.83     0.08     0.07     0.02   \n",
       "Grudger                           1.00     0.69     0.02     0.07     0.22   \n",
       "Remorseful Prober: 0.1            1.00     0.57     0.12     0.15     0.15   \n",
       "Punisher                          1.00     0.69     0.02     0.07     0.22   \n",
       "Tit For 2 Tats                    1.00     0.79     0.09     0.01     0.10   \n",
       "Cooperator                        1.00     0.81     0.19     0.00     0.00   \n",
       "Prober                            0.00     0.22     0.16     0.27     0.34   \n",
       "Prober 4                          1.00     0.22     0.28     0.29     0.21   \n",
       "\n",
       "                        CC_to_C_rate  CD_to_C_rate  DC_to_C_rate  DD_to_C_rate  \n",
       "Name                                                                            \n",
       "NNplayer                        0.87          0.39          0.52          0.75  \n",
       "Tit For Tat                     1.00          0.00          1.00          0.00  \n",
       "Grudger                         1.00          0.00          0.00          0.00  \n",
       "Remorseful Prober: 0.1          0.90          0.00          0.86          0.54  \n",
       "Punisher                        1.00          0.00          0.00          0.00  \n",
       "Tit For 2 Tats                  1.00          0.77          1.00          0.00  \n",
       "Cooperator                      1.00          1.00          0.00          0.00  \n",
       "Prober                          0.83          0.46          0.80          0.00  \n",
       "Prober 4                        0.39          0.32          0.74          0.71  "
      ]
     },
     "execution_count": 16,
     "metadata": {},
     "output_type": "execute_result"
    }
   ],
   "source": [
    "ls[42]"
   ]
  },
  {
   "cell_type": "code",
   "execution_count": 17,
   "id": "d3ff3f8b-4356-4de0-a804-e9dc1909d757",
   "metadata": {},
   "outputs": [
    {
     "data": {
      "text/html": [
       "<div>\n",
       "<style scoped>\n",
       "    .dataframe tbody tr th:only-of-type {\n",
       "        vertical-align: middle;\n",
       "    }\n",
       "\n",
       "    .dataframe tbody tr th {\n",
       "        vertical-align: top;\n",
       "    }\n",
       "\n",
       "    .dataframe thead th {\n",
       "        text-align: right;\n",
       "    }\n",
       "</style>\n",
       "<table border=\"1\" class=\"dataframe\">\n",
       "  <thead>\n",
       "    <tr style=\"text-align: right;\">\n",
       "      <th></th>\n",
       "      <th>Rank</th>\n",
       "      <th>Median_score</th>\n",
       "      <th>Cooperation_rating</th>\n",
       "      <th>Wins</th>\n",
       "      <th>Initial_C_rate</th>\n",
       "      <th>CC_rate</th>\n",
       "      <th>CD_rate</th>\n",
       "      <th>DC_rate</th>\n",
       "      <th>DD_rate</th>\n",
       "      <th>CC_to_C_rate</th>\n",
       "      <th>CD_to_C_rate</th>\n",
       "      <th>DC_to_C_rate</th>\n",
       "      <th>DD_to_C_rate</th>\n",
       "    </tr>\n",
       "    <tr>\n",
       "      <th>Name</th>\n",
       "      <th></th>\n",
       "      <th></th>\n",
       "      <th></th>\n",
       "      <th></th>\n",
       "      <th></th>\n",
       "      <th></th>\n",
       "      <th></th>\n",
       "      <th></th>\n",
       "      <th></th>\n",
       "      <th></th>\n",
       "      <th></th>\n",
       "      <th></th>\n",
       "      <th></th>\n",
       "    </tr>\n",
       "  </thead>\n",
       "  <tbody>\n",
       "    <tr>\n",
       "      <th>NNplayer</th>\n",
       "      <td>0</td>\n",
       "      <td>2.95</td>\n",
       "      <td>0.80</td>\n",
       "      <td>7.00</td>\n",
       "      <td>1.00</td>\n",
       "      <td>0.74</td>\n",
       "      <td>0.07</td>\n",
       "      <td>0.14</td>\n",
       "      <td>0.06</td>\n",
       "      <td>0.92</td>\n",
       "      <td>0.53</td>\n",
       "      <td>0.48</td>\n",
       "      <td>0.83</td>\n",
       "    </tr>\n",
       "    <tr>\n",
       "      <th>Tit For Tat</th>\n",
       "      <td>1</td>\n",
       "      <td>2.83</td>\n",
       "      <td>0.90</td>\n",
       "      <td>0.00</td>\n",
       "      <td>1.00</td>\n",
       "      <td>0.81</td>\n",
       "      <td>0.09</td>\n",
       "      <td>0.08</td>\n",
       "      <td>0.02</td>\n",
       "      <td>1.00</td>\n",
       "      <td>0.00</td>\n",
       "      <td>1.00</td>\n",
       "      <td>0.00</td>\n",
       "    </tr>\n",
       "    <tr>\n",
       "      <th>Grudger</th>\n",
       "      <td>2</td>\n",
       "      <td>2.62</td>\n",
       "      <td>0.71</td>\n",
       "      <td>2.00</td>\n",
       "      <td>1.00</td>\n",
       "      <td>0.68</td>\n",
       "      <td>0.03</td>\n",
       "      <td>0.07</td>\n",
       "      <td>0.22</td>\n",
       "      <td>1.00</td>\n",
       "      <td>0.00</td>\n",
       "      <td>0.00</td>\n",
       "      <td>0.00</td>\n",
       "    </tr>\n",
       "    <tr>\n",
       "      <th>Punisher</th>\n",
       "      <td>3</td>\n",
       "      <td>2.61</td>\n",
       "      <td>0.70</td>\n",
       "      <td>2.00</td>\n",
       "      <td>1.00</td>\n",
       "      <td>0.68</td>\n",
       "      <td>0.02</td>\n",
       "      <td>0.07</td>\n",
       "      <td>0.23</td>\n",
       "      <td>1.00</td>\n",
       "      <td>0.00</td>\n",
       "      <td>0.00</td>\n",
       "      <td>0.00</td>\n",
       "    </tr>\n",
       "    <tr>\n",
       "      <th>Remorseful Prober: 0.1</th>\n",
       "      <td>4</td>\n",
       "      <td>2.57</td>\n",
       "      <td>0.67</td>\n",
       "      <td>3.50</td>\n",
       "      <td>1.00</td>\n",
       "      <td>0.53</td>\n",
       "      <td>0.14</td>\n",
       "      <td>0.17</td>\n",
       "      <td>0.16</td>\n",
       "      <td>0.88</td>\n",
       "      <td>0.00</td>\n",
       "      <td>0.94</td>\n",
       "      <td>0.51</td>\n",
       "    </tr>\n",
       "    <tr>\n",
       "      <th>Tit For 2 Tats</th>\n",
       "      <td>5</td>\n",
       "      <td>2.55</td>\n",
       "      <td>0.89</td>\n",
       "      <td>0.00</td>\n",
       "      <td>1.00</td>\n",
       "      <td>0.80</td>\n",
       "      <td>0.09</td>\n",
       "      <td>0.01</td>\n",
       "      <td>0.10</td>\n",
       "      <td>1.00</td>\n",
       "      <td>0.81</td>\n",
       "      <td>1.00</td>\n",
       "      <td>0.00</td>\n",
       "    </tr>\n",
       "    <tr>\n",
       "      <th>Cooperator</th>\n",
       "      <td>6</td>\n",
       "      <td>2.43</td>\n",
       "      <td>1.00</td>\n",
       "      <td>0.00</td>\n",
       "      <td>1.00</td>\n",
       "      <td>0.81</td>\n",
       "      <td>0.19</td>\n",
       "      <td>0.00</td>\n",
       "      <td>0.00</td>\n",
       "      <td>1.00</td>\n",
       "      <td>1.00</td>\n",
       "      <td>0.00</td>\n",
       "      <td>0.00</td>\n",
       "    </tr>\n",
       "    <tr>\n",
       "      <th>Prober</th>\n",
       "      <td>7</td>\n",
       "      <td>2.40</td>\n",
       "      <td>0.41</td>\n",
       "      <td>2.00</td>\n",
       "      <td>0.00</td>\n",
       "      <td>0.27</td>\n",
       "      <td>0.14</td>\n",
       "      <td>0.25</td>\n",
       "      <td>0.33</td>\n",
       "      <td>0.83</td>\n",
       "      <td>0.49</td>\n",
       "      <td>0.80</td>\n",
       "      <td>0.00</td>\n",
       "    </tr>\n",
       "    <tr>\n",
       "      <th>Prober 4</th>\n",
       "      <td>8</td>\n",
       "      <td>2.25</td>\n",
       "      <td>0.50</td>\n",
       "      <td>4.00</td>\n",
       "      <td>1.00</td>\n",
       "      <td>0.22</td>\n",
       "      <td>0.28</td>\n",
       "      <td>0.27</td>\n",
       "      <td>0.23</td>\n",
       "      <td>0.36</td>\n",
       "      <td>0.34</td>\n",
       "      <td>0.72</td>\n",
       "      <td>0.72</td>\n",
       "    </tr>\n",
       "  </tbody>\n",
       "</table>\n",
       "</div>"
      ],
      "text/plain": [
       "                        Rank  Median_score  Cooperation_rating  Wins  \\\n",
       "Name                                                                   \n",
       "NNplayer                   0          2.95                0.80  7.00   \n",
       "Tit For Tat                1          2.83                0.90  0.00   \n",
       "Grudger                    2          2.62                0.71  2.00   \n",
       "Punisher                   3          2.61                0.70  2.00   \n",
       "Remorseful Prober: 0.1     4          2.57                0.67  3.50   \n",
       "Tit For 2 Tats             5          2.55                0.89  0.00   \n",
       "Cooperator                 6          2.43                1.00  0.00   \n",
       "Prober                     7          2.40                0.41  2.00   \n",
       "Prober 4                   8          2.25                0.50  4.00   \n",
       "\n",
       "                        Initial_C_rate  CC_rate  CD_rate  DC_rate  DD_rate  \\\n",
       "Name                                                                         \n",
       "NNplayer                          1.00     0.74     0.07     0.14     0.06   \n",
       "Tit For Tat                       1.00     0.81     0.09     0.08     0.02   \n",
       "Grudger                           1.00     0.68     0.03     0.07     0.22   \n",
       "Punisher                          1.00     0.68     0.02     0.07     0.23   \n",
       "Remorseful Prober: 0.1            1.00     0.53     0.14     0.17     0.16   \n",
       "Tit For 2 Tats                    1.00     0.80     0.09     0.01     0.10   \n",
       "Cooperator                        1.00     0.81     0.19     0.00     0.00   \n",
       "Prober                            0.00     0.27     0.14     0.25     0.33   \n",
       "Prober 4                          1.00     0.22     0.28     0.27     0.23   \n",
       "\n",
       "                        CC_to_C_rate  CD_to_C_rate  DC_to_C_rate  DD_to_C_rate  \n",
       "Name                                                                            \n",
       "NNplayer                        0.92          0.53          0.48          0.83  \n",
       "Tit For Tat                     1.00          0.00          1.00          0.00  \n",
       "Grudger                         1.00          0.00          0.00          0.00  \n",
       "Punisher                        1.00          0.00          0.00          0.00  \n",
       "Remorseful Prober: 0.1          0.88          0.00          0.94          0.51  \n",
       "Tit For 2 Tats                  1.00          0.81          1.00          0.00  \n",
       "Cooperator                      1.00          1.00          0.00          0.00  \n",
       "Prober                          0.83          0.49          0.80          0.00  \n",
       "Prober 4                        0.36          0.34          0.72          0.72  "
      ]
     },
     "execution_count": 17,
     "metadata": {},
     "output_type": "execute_result"
    }
   ],
   "source": [
    "ls[11]"
   ]
  },
  {
   "cell_type": "code",
   "execution_count": 26,
   "id": "8f7fc820-b721-4f77-a674-7f6e667d4eac",
   "metadata": {},
   "outputs": [],
   "source": [
    "with open('data/s2/p1_22.pkl', \"rb\") as file:\n",
    "    p2 = dill.load(file)"
   ]
  },
  {
   "cell_type": "code",
   "execution_count": 27,
   "id": "cb8e67ba-5b82-4de2-a1ee-38c651110e59",
   "metadata": {},
   "outputs": [
    {
     "name": "stdout",
     "output_type": "stream",
     "text": [
      "[[34.898 23.856]]\n",
      "[[31.354 24.304]]\n",
      "[[26.937 25.924]]\n",
      "[[24.432 22.898]]\n",
      "[[26.381 21.109]]\n",
      "[[25.442 22.267]]\n",
      "[[21.726 16.985]]\n",
      "[[24.041 21.975]]\n",
      "[[21.903 20.028]]\n",
      "[[22.829 22.421]]\n",
      "[[21.719 21.687]]\n",
      "[[18.322 17.668]]\n",
      "[[18.543 17.636]]\n",
      "[[15.413 14.933]]\n",
      "[[15.467 14.943]]\n",
      "[[12.685 11.656]]\n",
      "[[12.275 12.269]]\n",
      "[[8.877 6.66 ]]\n",
      "[[6.251 4.576]]\n",
      "[[3.094 5.264]]\n",
      "[[0.032 0.117]]\n",
      "[(3, 3), (3, 3), (3, 3), (3, 3), (3, 3), (3, 3), (3, 3), (3, 3), (3, 3), (3, 3), (3, 3), (3, 3), (3, 3), (3, 3), (3, 3), (3, 3), (3, 3), (3, 3), (3, 3), (5, 0)]\n",
      "Player 1 score = 62\n",
      "Player 2 score = 57\n"
     ]
    }
   ],
   "source": [
    "with p2:\n",
    "    play(p2, axl.TitForTat())"
   ]
  },
  {
   "cell_type": "code",
   "execution_count": 34,
   "id": "2e8eb1da-8cd8-4dc5-9589-909548bc407d",
   "metadata": {},
   "outputs": [
    {
     "name": "stdout",
     "output_type": "stream",
     "text": [
      "[[34.898 23.856]]\n",
      "[[31.354 24.304]]\n",
      "[[26.937 25.924]]\n",
      "[[19.085 22.753]]\n",
      "[[19.633 18.303]]\n",
      "[[22.086 23.376]]\n",
      "[[21.278 23.36 ]]\n",
      "[[18.674 24.803]]\n",
      "[[20.894 22.183]]\n",
      "[[17.617 20.271]]\n",
      "[[18.191 20.234]]\n",
      "[[13.86  18.416]]\n",
      "[[18.562 18.761]]\n",
      "[[12.321 14.455]]\n",
      "[[ 8.826 11.024]]\n",
      "[[ 9.986 11.884]]\n",
      "[[5.706 8.155]]\n",
      "[[5.617 6.106]]\n",
      "[[3.693 5.996]]\n",
      "[[0.091 1.007]]\n",
      "[[ 0.038 -0.008]]\n",
      "[(3, 3), (3, 3), (0, 5), (5, 0), (0, 5), (1, 1), (1, 1), (5, 0), (5, 0), (1, 1), (5, 0), (1, 1), (5, 0), (5, 0), (1, 1), (5, 0), (1, 1), (1, 1), (5, 0), (1, 1)]\n",
      "Player 1 score = 54\n",
      "Player 2 score = 24\n"
     ]
    }
   ],
   "source": [
    "with p2:\n",
    "    play(p2, axl.Prober4())"
   ]
  },
  {
   "cell_type": "code",
   "execution_count": 35,
   "id": "3cc56cd5-57a7-409f-be00-3f29b72588e5",
   "metadata": {},
   "outputs": [
    {
     "name": "stdout",
     "output_type": "stream",
     "text": [
      "[(3, 3), (3, 3), (0, 5), (5, 0), (0, 5), (1, 1), (1, 1), (5, 0), (3, 3), (0, 5), (5, 0), (0, 5), (5, 0), (3, 3), (0, 5), (5, 0), (0, 5), (1, 1), (5, 0), (0, 5)]\n",
      "Player 1 score = 45\n",
      "Player 2 score = 50\n"
     ]
    },
    {
     "data": {
      "text/plain": [
       "<axelrod.match.Match at 0x120ed0645b0>"
      ]
     },
     "execution_count": 35,
     "metadata": {},
     "output_type": "execute_result"
    }
   ],
   "source": [
    "play(axl.TitForTat(), axl.Prober4())"
   ]
  },
  {
   "cell_type": "code",
   "execution_count": 32,
   "id": "f4b2b199-f76e-48f1-be1e-92177aee7f46",
   "metadata": {},
   "outputs": [
    {
     "name": "stdout",
     "output_type": "stream",
     "text": [
      "[[34.898 23.856]]\n",
      "[[31.354 24.304]]\n",
      "[[26.937 25.924]]\n",
      "[[24.432 22.898]]\n",
      "[[20.453 23.871]]\n",
      "[[20.096 24.348]]\n",
      "[[16.509 15.396]]\n",
      "[[19.811 19.817]]\n",
      "[[16.574 15.772]]\n",
      "[[18.442 19.874]]\n",
      "[[16.423 11.457]]\n",
      "[[16.443 13.023]]\n",
      "[[18.502 18.831]]\n",
      "[[12.27  10.316]]\n",
      "[[12.479 11.07 ]]\n",
      "[[15.122 15.259]]\n",
      "[[8.431 7.104]]\n",
      "[[9.243 7.781]]\n",
      "[[6.047 4.746]]\n",
      "[[4.071 6.018]]\n",
      "[[0.154 0.064]]\n",
      "[(3, 3), (3, 3), (3, 3), (0, 5), (5, 0), (1, 1), (0, 5), (5, 0), (0, 5), (1, 1), (3, 3), (3, 3), (5, 0), (0, 5), (3, 3), (5, 0), (0, 5), (3, 3), (3, 3), (5, 0)]\n",
      "Player 1 score = 51\n",
      "Player 2 score = 51\n"
     ]
    }
   ],
   "source": [
    "with p2:\n",
    "    play(p2, axl.RemorsefulProber())"
   ]
  },
  {
   "cell_type": "code",
   "execution_count": 36,
   "id": "b6390b79-4eae-46be-b27b-7bd56762bf53",
   "metadata": {},
   "outputs": [
    {
     "name": "stderr",
     "output_type": "stream",
     "text": [
      "Playing matches: 100%|█████████████████████████████████████████████████████████████████| 45/45 [00:00<00:00, 84.27it/s]\n",
      "Analysing: 100%|██████████████████████████████████████████████████████████████████████| 25/25 [00:00<00:00, 126.25it/s]\n"
     ]
    }
   ],
   "source": [
    "with p2:\n",
    "    p2.network.verbosity = False\n",
    "    tournament = Tournament([p2, *players], game=GAME, turns=GAME_LEN)\n",
    "    results = tournament.play()\n",
    "    summary = results.summarise()"
   ]
  },
  {
   "cell_type": "code",
   "execution_count": 38,
   "id": "ff3a7b6b-566e-4ed8-8c58-bad3ed3192a5",
   "metadata": {},
   "outputs": [
    {
     "data": {
      "text/html": [
       "<div>\n",
       "<style scoped>\n",
       "    .dataframe tbody tr th:only-of-type {\n",
       "        vertical-align: middle;\n",
       "    }\n",
       "\n",
       "    .dataframe tbody tr th {\n",
       "        vertical-align: top;\n",
       "    }\n",
       "\n",
       "    .dataframe thead th {\n",
       "        text-align: right;\n",
       "    }\n",
       "</style>\n",
       "<table border=\"1\" class=\"dataframe\">\n",
       "  <thead>\n",
       "    <tr style=\"text-align: right;\">\n",
       "      <th></th>\n",
       "      <th>Rank</th>\n",
       "      <th>Name</th>\n",
       "      <th>Median_score</th>\n",
       "      <th>Cooperation_rating</th>\n",
       "      <th>Wins</th>\n",
       "      <th>Initial_C_rate</th>\n",
       "      <th>CC_rate</th>\n",
       "      <th>CD_rate</th>\n",
       "      <th>DC_rate</th>\n",
       "      <th>DD_rate</th>\n",
       "      <th>CC_to_C_rate</th>\n",
       "      <th>CD_to_C_rate</th>\n",
       "      <th>DC_to_C_rate</th>\n",
       "      <th>DD_to_C_rate</th>\n",
       "    </tr>\n",
       "  </thead>\n",
       "  <tbody>\n",
       "    <tr>\n",
       "      <th>0</th>\n",
       "      <td>0</td>\n",
       "      <td>NNplayer</td>\n",
       "      <td>2.97</td>\n",
       "      <td>0.81</td>\n",
       "      <td>7.00</td>\n",
       "      <td>1.00</td>\n",
       "      <td>0.75</td>\n",
       "      <td>0.06</td>\n",
       "      <td>0.13</td>\n",
       "      <td>0.06</td>\n",
       "      <td>0.93</td>\n",
       "      <td>0.55</td>\n",
       "      <td>0.42</td>\n",
       "      <td>0.89</td>\n",
       "    </tr>\n",
       "    <tr>\n",
       "      <th>1</th>\n",
       "      <td>1</td>\n",
       "      <td>Tit For Tat</td>\n",
       "      <td>2.83</td>\n",
       "      <td>0.89</td>\n",
       "      <td>0.00</td>\n",
       "      <td>1.00</td>\n",
       "      <td>0.80</td>\n",
       "      <td>0.10</td>\n",
       "      <td>0.08</td>\n",
       "      <td>0.02</td>\n",
       "      <td>1.00</td>\n",
       "      <td>0.00</td>\n",
       "      <td>1.00</td>\n",
       "      <td>0.00</td>\n",
       "    </tr>\n",
       "    <tr>\n",
       "      <th>2</th>\n",
       "      <td>2</td>\n",
       "      <td>Punisher</td>\n",
       "      <td>2.62</td>\n",
       "      <td>0.71</td>\n",
       "      <td>2.00</td>\n",
       "      <td>1.00</td>\n",
       "      <td>0.69</td>\n",
       "      <td>0.02</td>\n",
       "      <td>0.07</td>\n",
       "      <td>0.22</td>\n",
       "      <td>1.00</td>\n",
       "      <td>0.00</td>\n",
       "      <td>0.00</td>\n",
       "      <td>0.00</td>\n",
       "    </tr>\n",
       "    <tr>\n",
       "      <th>3</th>\n",
       "      <td>3</td>\n",
       "      <td>Remorseful Prober: 0.1</td>\n",
       "      <td>2.61</td>\n",
       "      <td>0.68</td>\n",
       "      <td>3.00</td>\n",
       "      <td>1.00</td>\n",
       "      <td>0.54</td>\n",
       "      <td>0.14</td>\n",
       "      <td>0.16</td>\n",
       "      <td>0.16</td>\n",
       "      <td>0.89</td>\n",
       "      <td>0.00</td>\n",
       "      <td>0.89</td>\n",
       "      <td>0.47</td>\n",
       "    </tr>\n",
       "    <tr>\n",
       "      <th>4</th>\n",
       "      <td>4</td>\n",
       "      <td>Grudger</td>\n",
       "      <td>2.58</td>\n",
       "      <td>0.71</td>\n",
       "      <td>2.00</td>\n",
       "      <td>1.00</td>\n",
       "      <td>0.68</td>\n",
       "      <td>0.02</td>\n",
       "      <td>0.07</td>\n",
       "      <td>0.23</td>\n",
       "      <td>1.00</td>\n",
       "      <td>0.00</td>\n",
       "      <td>0.00</td>\n",
       "      <td>0.00</td>\n",
       "    </tr>\n",
       "    <tr>\n",
       "      <th>5</th>\n",
       "      <td>5</td>\n",
       "      <td>Tit For 2 Tats</td>\n",
       "      <td>2.56</td>\n",
       "      <td>0.89</td>\n",
       "      <td>0.00</td>\n",
       "      <td>1.00</td>\n",
       "      <td>0.80</td>\n",
       "      <td>0.09</td>\n",
       "      <td>0.01</td>\n",
       "      <td>0.10</td>\n",
       "      <td>1.00</td>\n",
       "      <td>0.81</td>\n",
       "      <td>1.00</td>\n",
       "      <td>0.00</td>\n",
       "    </tr>\n",
       "    <tr>\n",
       "      <th>6</th>\n",
       "      <td>6</td>\n",
       "      <td>Cooperator</td>\n",
       "      <td>2.43</td>\n",
       "      <td>1.00</td>\n",
       "      <td>0.00</td>\n",
       "      <td>1.00</td>\n",
       "      <td>0.81</td>\n",
       "      <td>0.19</td>\n",
       "      <td>0.00</td>\n",
       "      <td>0.00</td>\n",
       "      <td>1.00</td>\n",
       "      <td>1.00</td>\n",
       "      <td>0.00</td>\n",
       "      <td>0.00</td>\n",
       "    </tr>\n",
       "    <tr>\n",
       "      <th>7</th>\n",
       "      <td>7</td>\n",
       "      <td>Prober</td>\n",
       "      <td>2.40</td>\n",
       "      <td>0.41</td>\n",
       "      <td>2.00</td>\n",
       "      <td>0.00</td>\n",
       "      <td>0.27</td>\n",
       "      <td>0.14</td>\n",
       "      <td>0.25</td>\n",
       "      <td>0.33</td>\n",
       "      <td>0.83</td>\n",
       "      <td>0.49</td>\n",
       "      <td>0.80</td>\n",
       "      <td>0.00</td>\n",
       "    </tr>\n",
       "    <tr>\n",
       "      <th>8</th>\n",
       "      <td>8</td>\n",
       "      <td>Prober 4</td>\n",
       "      <td>2.24</td>\n",
       "      <td>0.50</td>\n",
       "      <td>4.00</td>\n",
       "      <td>1.00</td>\n",
       "      <td>0.22</td>\n",
       "      <td>0.28</td>\n",
       "      <td>0.27</td>\n",
       "      <td>0.23</td>\n",
       "      <td>0.36</td>\n",
       "      <td>0.34</td>\n",
       "      <td>0.72</td>\n",
       "      <td>0.72</td>\n",
       "    </tr>\n",
       "  </tbody>\n",
       "</table>\n",
       "</div>"
      ],
      "text/plain": [
       "   Rank                    Name  Median_score  Cooperation_rating  Wins  \\\n",
       "0     0                NNplayer          2.97                0.81  7.00   \n",
       "1     1             Tit For Tat          2.83                0.89  0.00   \n",
       "2     2                Punisher          2.62                0.71  2.00   \n",
       "3     3  Remorseful Prober: 0.1          2.61                0.68  3.00   \n",
       "4     4                 Grudger          2.58                0.71  2.00   \n",
       "5     5          Tit For 2 Tats          2.56                0.89  0.00   \n",
       "6     6              Cooperator          2.43                1.00  0.00   \n",
       "7     7                  Prober          2.40                0.41  2.00   \n",
       "8     8                Prober 4          2.24                0.50  4.00   \n",
       "\n",
       "   Initial_C_rate  CC_rate  CD_rate  DC_rate  DD_rate  CC_to_C_rate  \\\n",
       "0            1.00     0.75     0.06     0.13     0.06          0.93   \n",
       "1            1.00     0.80     0.10     0.08     0.02          1.00   \n",
       "2            1.00     0.69     0.02     0.07     0.22          1.00   \n",
       "3            1.00     0.54     0.14     0.16     0.16          0.89   \n",
       "4            1.00     0.68     0.02     0.07     0.23          1.00   \n",
       "5            1.00     0.80     0.09     0.01     0.10          1.00   \n",
       "6            1.00     0.81     0.19     0.00     0.00          1.00   \n",
       "7            0.00     0.27     0.14     0.25     0.33          0.83   \n",
       "8            1.00     0.22     0.28     0.27     0.23          0.36   \n",
       "\n",
       "   CD_to_C_rate  DC_to_C_rate  DD_to_C_rate  \n",
       "0          0.55          0.42          0.89  \n",
       "1          0.00          1.00          0.00  \n",
       "2          0.00          0.00          0.00  \n",
       "3          0.00          0.89          0.47  \n",
       "4          0.00          0.00          0.00  \n",
       "5          0.81          1.00          0.00  \n",
       "6          1.00          0.00          0.00  \n",
       "7          0.49          0.80          0.00  \n",
       "8          0.34          0.72          0.72  "
      ]
     },
     "execution_count": 38,
     "metadata": {},
     "output_type": "execute_result"
    }
   ],
   "source": [
    "pd.DataFrame(map(list, summary), columns=headers)"
   ]
  },
  {
   "cell_type": "code",
   "execution_count": null,
   "id": "cd0a48d3-472b-47c1-a8ba-94e2042cea84",
   "metadata": {},
   "outputs": [],
   "source": []
  }
 ],
 "metadata": {
  "kernelspec": {
   "display_name": "Python 3 (ipykernel)",
   "language": "python",
   "name": "python3"
  },
  "language_info": {
   "codemirror_mode": {
    "name": "ipython",
    "version": 3
   },
   "file_extension": ".py",
   "mimetype": "text/x-python",
   "name": "python",
   "nbconvert_exporter": "python",
   "pygments_lexer": "ipython3",
   "version": "3.8.10"
  }
 },
 "nbformat": 4,
 "nbformat_minor": 5
}
