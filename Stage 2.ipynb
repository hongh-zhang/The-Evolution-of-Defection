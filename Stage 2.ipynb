{
 "cells": [
  {
   "cell_type": "code",
   "execution_count": 1,
   "id": "hidden-sixth",
   "metadata": {},
   "outputs": [],
   "source": [
    "%load_ext autoreload\n",
    "%autoreload 2"
   ]
  },
  {
   "cell_type": "code",
   "execution_count": 12,
   "id": "amazing-electricity",
   "metadata": {},
   "outputs": [],
   "source": [
    "import gc\n",
    "import copy\n",
    "import random\n",
    "import numpy as np\n",
    "import axelrod as axl\n",
    "from time import time\n",
    "from pprint import pprint\n",
    "from itertools import permutations\n",
    "from collections import namedtuple, deque\n",
    "\n",
    "np.set_printoptions(precision=3)\n",
    "\n",
    "# the following imports are from network / axl_utils folder\n",
    "import network\n",
    "from network.dqn import DQN\n",
    "from network.replay import ReplayMemory\n",
    "from axl_utils.nnplayer import NNplayer, State\n",
    "from axl_utils.game import set_match, set_play"
   ]
  },
  {
   "cell_type": "code",
   "execution_count": 13,
   "id": "phantom-inside",
   "metadata": {},
   "outputs": [],
   "source": [
    "C = axl.Action.C\n",
    "D = axl.Action.D\n",
    "\n",
    "# config game rules\n",
    "GAME_LEN = 20 + 1\n",
    "GAME = axl.Game(r=3, s=0, t=5, p=1)\n",
    "Match = set_match(game=GAME, turns=GAME_LEN)\n",
    "play = set_play(Match)"
   ]
  },
  {
   "cell_type": "code",
   "execution_count": 14,
   "id": "celtic-danish",
   "metadata": {},
   "outputs": [
    {
     "name": "stdout",
     "output_type": "stream",
     "text": [
      "[(3, 3), (1, 1), (3, 3), (5, 0), (0, 5), (1, 1), (3, 3), (5, 0), (3, 3), (1, 1), (3, 3), (5, 0), (0, 5), (5, 0), (3, 3), (1, 1), (3, 3), (5, 0), (0, 5), (5, 0)]\n",
      "Player 1 score = 55\n",
      "Player 2 score = 40\n",
      "[(3, 3), (3, 3), (5, 0), (0, 5), (5, 0), (1, 1), (1, 1), (0, 5), (3, 3), (5, 0), (0, 5), (5, 0), (0, 5), (3, 3), (5, 0), (0, 5), (5, 0), (1, 1), (0, 5), (5, 0)]\n",
      "Player 1 score = 50\n",
      "Player 2 score = 45\n"
     ]
    }
   ],
   "source": [
    "play(axl.Alternator(), axl.Random())\n",
    "game = play(axl.Prober4(), axl.TitForTat())"
   ]
  },
  {
   "cell_type": "code",
   "execution_count": 6,
   "id": "cd140c92-09ae-489d-b65e-439334887219",
   "metadata": {},
   "outputs": [
    {
     "name": "stdout",
     "output_type": "stream",
     "text": [
      "[[[-1 -1 -1 -1 -1 -1 -1 -1 -1 -1 -1 -1 -1 -1 -1 -1 -1 -1 -1 -1 -1]\n",
      "  [-1 -1 -1 -1 -1 -1 -1 -1 -1 -1 -1 -1 -1 -1 -1 -1 -1 -1 -1 -1 -1]]]\n",
      "[deque([-1, -1, -1, -1, -1, -1, -1, -1, -1, -1, -1, -1, -1, -1, -1, -1, -1, -1, -1, -1, 1], maxlen=21),\n",
      " deque([-1, -1, -1, -1, -1, -1, -1, -1, -1, -1, -1, -1, -1, -1, -1, -1, -1, -1, -1, -1, 0], maxlen=21)]\n"
     ]
    }
   ],
   "source": [
    "s = State(GAME_LEN)\n",
    "print(s.values())\n",
    "\n",
    "s.push(C, D)\n",
    "print(s)"
   ]
  },
  {
   "cell_type": "code",
   "execution_count": 11,
   "id": "sunset-latex",
   "metadata": {},
   "outputs": [
    {
     "name": "stdout",
     "output_type": "stream",
     "text": [
      "Network reinitialized.\n"
     ]
    }
   ],
   "source": [
    "dqn = DQN([\n",
    "#                     network.Flatten_layer(),\n",
    "#                     network.Maxout_layer(GAME_LEN*2, 100),\n",
    "#                     network.Maxout_layer(100, 40),\n",
    "#                     network.Maxout_layer(40, 20),\n",
    "#                     network.Maxout_layer(20, 2),\n",
    "    \n",
    "                    network.Flatten_layer(),\n",
    "                    network.Linear_layer(GAME_LEN*2, 100, bias=0.01),\n",
    "                    network.Activation_layer('ReLU'),\n",
    "                    network.Linear_layer(100, 200),\n",
    "                    network.Activation_layer('ReLU'),\n",
    "                    network.Linear_layer(200, 100),\n",
    "                    network.Activation_layer('ReLU'),\n",
    "                    network.Linear_layer(100, 40),\n",
    "                    network.Activation_layer('ReLU'),\n",
    "                    network.Linear_layer(40, 2),\n",
    "                    ])\n",
    "p1 = NNplayer(dqn, ReplayMemory(2000), State(GAME_LEN), gamma=0.9)\n",
    "del dqn\n",
    "gc.collect()\n",
    "\n",
    "param = {\"lr\": 1e-5, 'batch': 16, \"momentum\": 0.9, \"mode\": \"train\", \"eps\": 1e-16, \"beta\":(0.9, 0.999), \n",
    "         \"epoch\": 0, 'optimizer': 'adam', 't': 1, 'clip': 1.0, 'decay': 0.0}"
   ]
  },
  {
   "cell_type": "code",
   "execution_count": 8,
   "id": "e0ff68de-e82a-4b48-b3c5-ee94c93e5021",
   "metadata": {
    "scrolled": true,
    "tags": []
   },
   "outputs": [
    {
     "name": "stdout",
     "output_type": "stream",
     "text": [
      "[[ 1.386 -1.123]]\n",
      "[[ 1.328 -1.604]]\n",
      "[[ 1.232 -1.389]]\n",
      "[[ 1.363 -1.384]]\n",
      "[[ 1.364 -1.65 ]]\n",
      "[[ 1.157 -0.751]]\n",
      "[[ 1.361 -1.387]]\n",
      "[[ 1.314 -0.828]]\n",
      "[[ 1.007 -0.126]]\n",
      "[[ 0.864 -0.619]]\n",
      "[[ 0.569 -0.753]]\n",
      "[[ 0.517 -0.686]]\n",
      "[[ 0.704 -1.353]]\n",
      "[[ 0.529 -1.071]]\n",
      "[[ 0.588 -0.961]]\n",
      "[[ 0.627 -0.737]]\n",
      "[[ 0.907 -1.1  ]]\n",
      "[[ 0.832 -0.811]]\n",
      "[[ 0.823 -1.668]]\n",
      "[[ 0.777 -1.18 ]]\n",
      "[[ 1.067 -0.888]]\n"
     ]
    }
   ],
   "source": [
    "# enable test mode\n",
    "with p1:\n",
    "    players = (p1, axl.TitForTat())\n",
    "    game = Match(players)\n",
    "    game.play()\n",
    "    \n",
    "# initial Q_values:"
   ]
  },
  {
   "cell_type": "code",
   "execution_count": 9,
   "id": "b07b1e17-0946-4374-9408-ec08dda8c1bb",
   "metadata": {},
   "outputs": [],
   "source": [
    "# initial experience\n",
    "# high greedy -> more random exploration\n",
    "\n",
    "p1.greedy = 0.5\n",
    "for i in range(60):\n",
    "    players = (p1, axl.TitForTat())\n",
    "    game = Match(players)\n",
    "    game.play()\n",
    "p1.greedy = 0.2"
   ]
  },
  {
   "cell_type": "code",
   "execution_count": 13,
   "id": "808f28f2-d526-4f78-b7ee-5fc158c90f8f",
   "metadata": {
    "scrolled": true,
    "tags": []
   },
   "outputs": [
    {
     "name": "stdout",
     "output_type": "stream",
     "text": [
      "loss: [0.46  0.367],            time: +18.09 sec\n",
      "loss: [0.352 0.22 ],            time: +21.38 sec\n",
      "loss: [0.171 0.174],            time: +26.97 sec\n",
      "loss: [0.121 0.12 ],            time: +27.51 sec\n",
      "loss: [0.099 0.103],            time: +32.78 sec\n",
      "loss: [0.095 0.075],            time: +27.78 sec\n",
      "loss: [0.065 0.062],            time: +33.30 sec\n",
      "loss: [0.04  0.049],            time: +36.42 sec\n"
     ]
    },
    {
     "ename": "KeyboardInterrupt",
     "evalue": "",
     "output_type": "error",
     "traceback": [
      "\u001b[1;31m---------------------------------------------------------------------------\u001b[0m",
      "\u001b[1;31mKeyboardInterrupt\u001b[0m                         Traceback (most recent call last)",
      "\u001b[1;32m~\\AppData\\Local\\Temp/ipykernel_8212/1163479366.py\u001b[0m in \u001b[0;36m<module>\u001b[1;34m\u001b[0m\n\u001b[0;32m      1\u001b[0m \u001b[1;32mfor\u001b[0m \u001b[0m_\u001b[0m \u001b[1;32min\u001b[0m \u001b[0mrange\u001b[0m\u001b[1;33m(\u001b[0m\u001b[1;36m40\u001b[0m\u001b[1;33m)\u001b[0m\u001b[1;33m:\u001b[0m\u001b[1;33m\u001b[0m\u001b[1;33m\u001b[0m\u001b[0m\n\u001b[0;32m      2\u001b[0m     \u001b[0mstart\u001b[0m \u001b[1;33m=\u001b[0m \u001b[0mtime\u001b[0m\u001b[1;33m(\u001b[0m\u001b[1;33m)\u001b[0m\u001b[1;33m\u001b[0m\u001b[1;33m\u001b[0m\u001b[0m\n\u001b[1;32m----> 3\u001b[1;33m     \u001b[0mp1\u001b[0m\u001b[1;33m.\u001b[0m\u001b[0mtrain\u001b[0m\u001b[1;33m(\u001b[0m\u001b[1;36m60\u001b[0m\u001b[1;33m,\u001b[0m \u001b[0mparam\u001b[0m\u001b[1;33m)\u001b[0m\u001b[1;33m\u001b[0m\u001b[1;33m\u001b[0m\u001b[0m\n\u001b[0m\u001b[0;32m      4\u001b[0m \u001b[1;33m\u001b[0m\u001b[0m\n\u001b[0;32m      5\u001b[0m     \u001b[1;31m# collect new experience with trained network\u001b[0m\u001b[1;33m\u001b[0m\u001b[1;33m\u001b[0m\u001b[1;33m\u001b[0m\u001b[0m\n",
      "\u001b[1;32m~\\Documents\\一个普通的文件夹.exe\\Unimelb\\2021 S2\\ANN\\Project\\The-Evolution-of-Defection\\axl_utils\\nnplayer.py\u001b[0m in \u001b[0;36mtrain\u001b[1;34m(self, epoch, param)\u001b[0m\n\u001b[0;32m    131\u001b[0m \u001b[1;33m\u001b[0m\u001b[0m\n\u001b[0;32m    132\u001b[0m             \u001b[1;31m# pass to network\u001b[0m\u001b[1;33m\u001b[0m\u001b[1;33m\u001b[0m\u001b[1;33m\u001b[0m\u001b[0m\n\u001b[1;32m--> 133\u001b[1;33m             \u001b[0mself\u001b[0m\u001b[1;33m.\u001b[0m\u001b[0mnetwork\u001b[0m\u001b[1;33m.\u001b[0m\u001b[0mlearn\u001b[0m\u001b[1;33m(\u001b[0m\u001b[1;33m(\u001b[0m\u001b[0mss\u001b[0m\u001b[1;33m,\u001b[0m \u001b[0mss_\u001b[0m\u001b[1;33m,\u001b[0m \u001b[0mats\u001b[0m\u001b[1;33m,\u001b[0m \u001b[0mrs\u001b[0m\u001b[1;33m)\u001b[0m\u001b[1;33m,\u001b[0m \u001b[0mparam\u001b[0m\u001b[1;33m,\u001b[0m \u001b[0mself\u001b[0m\u001b[1;33m.\u001b[0m\u001b[0mgamma\u001b[0m\u001b[1;33m)\u001b[0m\u001b[1;33m\u001b[0m\u001b[1;33m\u001b[0m\u001b[0m\n\u001b[0m\u001b[0;32m    134\u001b[0m         \u001b[0mself\u001b[0m\u001b[1;33m.\u001b[0m\u001b[0mnetwork\u001b[0m\u001b[1;33m.\u001b[0m\u001b[0mupdate_target\u001b[0m\u001b[1;33m(\u001b[0m\u001b[1;33m)\u001b[0m\u001b[1;33m\u001b[0m\u001b[1;33m\u001b[0m\u001b[0m\n\u001b[0;32m    135\u001b[0m \u001b[1;33m\u001b[0m\u001b[0m\n",
      "\u001b[1;32m~\\Documents\\一个普通的文件夹.exe\\Unimelb\\2021 S2\\ANN\\Project\\The-Evolution-of-Defection\\network\\dqn.py\u001b[0m in \u001b[0;36mlearn\u001b[1;34m(self, data, param, gamma)\u001b[0m\n\u001b[0;32m     59\u001b[0m             \u001b[0mloss\u001b[0m\u001b[1;33m,\u001b[0m \u001b[0m_\u001b[0m \u001b[1;33m=\u001b[0m \u001b[0mself\u001b[0m\u001b[1;33m.\u001b[0m\u001b[0mpolicy_net\u001b[0m\u001b[1;33m.\u001b[0m\u001b[0mloss_fn\u001b[0m\u001b[1;33m(\u001b[0m\u001b[0mE_values\u001b[0m\u001b[1;33m,\u001b[0m \u001b[0mQ_values\u001b[0m\u001b[1;33m)\u001b[0m\u001b[1;33m\u001b[0m\u001b[1;33m\u001b[0m\u001b[0m\n\u001b[0;32m     60\u001b[0m             \u001b[0mloss\u001b[0m \u001b[1;33m=\u001b[0m \u001b[0mloss\u001b[0m \u001b[1;33m*\u001b[0m \u001b[0mat\u001b[0m  \u001b[1;31m# relocate loss to action taken\u001b[0m\u001b[1;33m\u001b[0m\u001b[1;33m\u001b[0m\u001b[0m\n\u001b[1;32m---> 61\u001b[1;33m             \u001b[0mself\u001b[0m\u001b[1;33m.\u001b[0m\u001b[0mpolicy_net\u001b[0m\u001b[1;33m.\u001b[0m\u001b[0mbackprop\u001b[0m\u001b[1;33m(\u001b[0m\u001b[0mloss\u001b[0m\u001b[1;33m,\u001b[0m \u001b[0mparam\u001b[0m\u001b[1;33m)\u001b[0m\u001b[1;33m\u001b[0m\u001b[1;33m\u001b[0m\u001b[0m\n\u001b[0m\u001b[0;32m     62\u001b[0m \u001b[1;33m\u001b[0m\u001b[0m\n\u001b[0;32m     63\u001b[0m             \u001b[1;31m# track training loss\u001b[0m\u001b[1;33m\u001b[0m\u001b[1;33m\u001b[0m\u001b[1;33m\u001b[0m\u001b[0m\n",
      "\u001b[1;32m~\\Documents\\一个普通的文件夹.exe\\Unimelb\\2021 S2\\ANN\\Project\\The-Evolution-of-Defection\\network\\network.py\u001b[0m in \u001b[0;36mbackprop\u001b[1;34m(self, dout, param)\u001b[0m\n\u001b[0;32m    117\u001b[0m             \u001b[1;32mif\u001b[0m \u001b[0mmagnitude\u001b[0m \u001b[1;33m>\u001b[0m \u001b[0mclip\u001b[0m\u001b[1;33m:\u001b[0m\u001b[1;33m\u001b[0m\u001b[1;33m\u001b[0m\u001b[0m\n\u001b[0;32m    118\u001b[0m                 \u001b[0mdout\u001b[0m \u001b[1;33m=\u001b[0m \u001b[0mdout\u001b[0m \u001b[1;33m/\u001b[0m \u001b[0mmagnitude\u001b[0m \u001b[1;33m*\u001b[0m \u001b[0mclip\u001b[0m\u001b[1;33m\u001b[0m\u001b[1;33m\u001b[0m\u001b[0m\n\u001b[1;32m--> 119\u001b[1;33m             \u001b[0mdout\u001b[0m \u001b[1;33m=\u001b[0m \u001b[0mlayer\u001b[0m\u001b[1;33m.\u001b[0m\u001b[0mbackward\u001b[0m\u001b[1;33m(\u001b[0m\u001b[0mdout\u001b[0m\u001b[1;33m,\u001b[0m \u001b[0mparam\u001b[0m\u001b[1;33m)\u001b[0m\u001b[1;33m\u001b[0m\u001b[1;33m\u001b[0m\u001b[0m\n\u001b[0m\u001b[0;32m    120\u001b[0m \u001b[1;33m\u001b[0m\u001b[0m\n\u001b[0;32m    121\u001b[0m     \u001b[1;32mdef\u001b[0m \u001b[0mvalidate\u001b[0m\u001b[1;33m(\u001b[0m\u001b[0mself\u001b[0m\u001b[1;33m,\u001b[0m \u001b[0mX_t\u001b[0m\u001b[1;33m,\u001b[0m \u001b[0my_t\u001b[0m\u001b[1;33m,\u001b[0m \u001b[0mparam\u001b[0m\u001b[1;33m)\u001b[0m\u001b[1;33m:\u001b[0m\u001b[1;33m\u001b[0m\u001b[1;33m\u001b[0m\u001b[0m\n",
      "\u001b[1;32m~\\Documents\\一个普通的文件夹.exe\\Unimelb\\2021 S2\\ANN\\Project\\The-Evolution-of-Defection\\network\\layers\\basics.py\u001b[0m in \u001b[0;36mbackward\u001b[1;34m(self, dout, param)\u001b[0m\n\u001b[0;32m    154\u001b[0m \u001b[1;33m\u001b[0m\u001b[0m\n\u001b[0;32m    155\u001b[0m     \u001b[1;32mdef\u001b[0m \u001b[0mbackward\u001b[0m\u001b[1;33m(\u001b[0m\u001b[0mself\u001b[0m\u001b[1;33m,\u001b[0m \u001b[0mdout\u001b[0m\u001b[1;33m,\u001b[0m \u001b[0mparam\u001b[0m\u001b[1;33m)\u001b[0m\u001b[1;33m:\u001b[0m\u001b[1;33m\u001b[0m\u001b[1;33m\u001b[0m\u001b[0m\n\u001b[1;32m--> 156\u001b[1;33m         \u001b[1;32mreturn\u001b[0m \u001b[0mself\u001b[0m\u001b[1;33m.\u001b[0m\u001b[0mfunc_backward\u001b[0m\u001b[1;33m(\u001b[0m\u001b[0mself\u001b[0m\u001b[1;33m.\u001b[0m\u001b[0mcache\u001b[0m\u001b[1;33m.\u001b[0m\u001b[0mx\u001b[0m\u001b[1;33m,\u001b[0m \u001b[0mself\u001b[0m\u001b[1;33m.\u001b[0m\u001b[0mcache\u001b[0m\u001b[1;33m.\u001b[0m\u001b[0my\u001b[0m\u001b[1;33m,\u001b[0m \u001b[0mdout\u001b[0m\u001b[1;33m)\u001b[0m\u001b[1;33m\u001b[0m\u001b[1;33m\u001b[0m\u001b[0m\n\u001b[0m",
      "\u001b[1;32m~\\Documents\\一个普通的文件夹.exe\\Unimelb\\2021 S2\\ANN\\Project\\The-Evolution-of-Defection\\network\\layers\\functions.py\u001b[0m in \u001b[0;36m<lambda>\u001b[1;34m(x, y, dy)\u001b[0m\n\u001b[0;32m     36\u001b[0m \u001b[1;31m# ReLU\u001b[0m\u001b[1;33m\u001b[0m\u001b[1;33m\u001b[0m\u001b[1;33m\u001b[0m\u001b[0m\n\u001b[0;32m     37\u001b[0m \u001b[0mrelu\u001b[0m  \u001b[1;33m=\u001b[0m \u001b[1;32mlambda\u001b[0m \u001b[0mx\u001b[0m\u001b[1;33m:\u001b[0m \u001b[0mx\u001b[0m \u001b[1;33m*\u001b[0m \u001b[1;33m(\u001b[0m\u001b[0mx\u001b[0m\u001b[1;33m>=\u001b[0m\u001b[1;36m0\u001b[0m\u001b[1;33m)\u001b[0m\u001b[1;33m\u001b[0m\u001b[1;33m\u001b[0m\u001b[0m\n\u001b[1;32m---> 38\u001b[1;33m \u001b[0mrelu_\u001b[0m \u001b[1;33m=\u001b[0m \u001b[1;32mlambda\u001b[0m \u001b[0mx\u001b[0m\u001b[1;33m,\u001b[0m \u001b[0my\u001b[0m\u001b[1;33m,\u001b[0m \u001b[0mdy\u001b[0m\u001b[1;33m:\u001b[0m \u001b[0mdy\u001b[0m \u001b[1;33m*\u001b[0m \u001b[1;33m(\u001b[0m\u001b[0mx\u001b[0m\u001b[1;33m>=\u001b[0m\u001b[1;36m0\u001b[0m\u001b[1;33m)\u001b[0m\u001b[1;33m\u001b[0m\u001b[1;33m\u001b[0m\u001b[0m\n\u001b[0m\u001b[0;32m     39\u001b[0m \u001b[1;33m\u001b[0m\u001b[0m\n\u001b[0;32m     40\u001b[0m \u001b[1;33m\u001b[0m\u001b[0m\n",
      "\u001b[1;31mKeyboardInterrupt\u001b[0m: "
     ]
    }
   ],
   "source": [
    "for _ in range(40):\n",
    "    start = time()\n",
    "    p1.train(60, param)\n",
    "    \n",
    "    # collect new experience with trained network\n",
    "    [Match((p1, axl.TitForTat())).play() for _ in range(10)]\n",
    "    \n",
    "    print(f'loss: {p1.network.loss},            time: +{time()-start:.2f} sec')\n",
    "    \n",
    "# left: loss for cooperation\n",
    "# right: loss for defection"
   ]
  },
  {
   "cell_type": "code",
   "execution_count": 14,
   "id": "46870776-b3e2-4bcd-a08f-c06c96624cca",
   "metadata": {},
   "outputs": [
    {
     "name": "stdout",
     "output_type": "stream",
     "text": [
      "[[19.566 18.782]]\n",
      "[[19.687 19.013]]\n",
      "[[19.486 18.797]]\n",
      "[[19.675 19.021]]\n",
      "[[19.595 18.94 ]]\n",
      "[[19.483 18.894]]\n",
      "[[19.481 18.785]]\n",
      "[[19.76  19.277]]\n",
      "[[19.583 18.872]]\n",
      "[[19.843 18.971]]\n",
      "[[19.813 19.193]]\n",
      "[[19.191 18.497]]\n",
      "[[17.471 16.602]]\n",
      "[[16.034 15.192]]\n",
      "[[14.678 14.   ]]\n",
      "[[13.256 12.297]]\n",
      "[[11.61  10.871]]\n",
      "[[9.721 9.029]]\n",
      "[[7.52  5.789]]\n",
      "[[3.079 4.996]]\n",
      "[[ 0.01 -0.11]]\n",
      "[(3, 3), (3, 3), (3, 3), (3, 3), (3, 3), (3, 3), (3, 3), (3, 3), (3, 3), (3, 3), (3, 3), (3, 3), (3, 3), (3, 3), (3, 3), (3, 3), (3, 3), (3, 3), (3, 3), (5, 0)]\n",
      "Player 1 score = 62\n",
      "Player 2 score = 57\n"
     ]
    }
   ],
   "source": [
    "with p1:\n",
    "    play(p1, axl.TitForTat(), Match)"
   ]
  },
  {
   "cell_type": "code",
   "execution_count": 15,
   "id": "6c178b65-3778-4265-a506-9e248211325f",
   "metadata": {},
   "outputs": [
    {
     "name": "stdout",
     "output_type": "stream",
     "text": [
      "26.35\n",
      "25.95\n",
      "25.50\n",
      "25.00\n",
      "24.44\n",
      "23.82\n",
      "23.14\n",
      "22.37\n",
      "21.53\n",
      "20.59\n",
      "19.54\n",
      "18.38\n",
      "17.09\n",
      "15.65\n",
      "14.06\n",
      "12.29\n",
      "10.32\n",
      "8.13\n",
      "5.70\n",
      "3.00\n"
     ]
    }
   ],
   "source": [
    "# theoritical Q values\n",
    "# assuming both player cooperate to the end\n",
    "for i in range(20):\n",
    "    print(f'{3.0+3.0/(1/9) * (1.0 - 1.0/(1.0+1/9)**(19-i)):.2f}')"
   ]
  },
  {
   "cell_type": "code",
   "execution_count": 16,
   "id": "a093cf70-eea9-4400-84b7-8daa6f0ba6b2",
   "metadata": {},
   "outputs": [
    {
     "data": {
      "image/png": "[encoded data removed]",
      "text/plain": [
       "<Figure size 800x640 with 1 Axes>"
      ]
     },
     "metadata": {
      "needs_background": "light"
     },
     "output_type": "display_data"
    }
   ],
   "source": [
    "p1.plot()\n",
    "#p1.plot(min_ran=600, max_ran=-1)"
   ]
  },
  {
   "cell_type": "code",
   "execution_count": null,
   "id": "2a7cbbd6-8ba5-479d-9cca-d1129242110e",
   "metadata": {},
   "outputs": [],
   "source": []
  },
  {
   "cell_type": "code",
   "execution_count": null,
   "id": "9bf29516-6bc2-4616-a93c-6329243425fa",
   "metadata": {},
   "outputs": [],
   "source": []
  },
  {
   "cell_type": "code",
   "execution_count": null,
   "id": "77a091f6-91e1-4905-9c53-971b1149ee94",
   "metadata": {},
   "outputs": [],
   "source": []
  },
  {
   "cell_type": "code",
   "execution_count": null,
   "id": "e55150cb-5d03-469b-82c8-973ce8164f6b",
   "metadata": {},
   "outputs": [],
   "source": []
  },
  {
   "cell_type": "code",
   "execution_count": null,
   "id": "116d850b-7f97-43df-b76a-06f110c0c5bd",
   "metadata": {},
   "outputs": [],
   "source": []
  },
  {
   "cell_type": "code",
   "execution_count": 137,
   "id": "c7ae7325-33db-4034-84a8-8d276b53af40",
   "metadata": {
    "scrolled": true,
    "tags": []
   },
   "outputs": [],
   "source": [
    "# initial experience\n",
    "# high greedy -> more random exploration\n",
    "p1.greedy = 0.5\n",
    "for i in range(60):\n",
    "    players = (p1, axl.TitForTat())\n",
    "    game = Match(players)\n",
    "    game.play()\n",
    "    \n",
    "    players = (p1, axl.Alternator())\n",
    "    game = Match(players)\n",
    "    game.play()\n",
    "p1.greedy = 0.2"
   ]
  },
  {
   "cell_type": "code",
   "execution_count": 138,
   "id": "a9fed84f-a412-4c5b-976b-b56c16a976c7",
   "metadata": {
    "scrolled": true,
    "tags": []
   },
   "outputs": [
    {
     "name": "stdout",
     "output_type": "stream",
     "text": [
      "loss: [0.767 0.937],            time: +21.21 sec\n",
      "loss: [0.675 0.709],            time: +23.82 sec\n",
      "loss: [0.52  0.748],            time: +25.93 sec\n",
      "loss: [0.424 0.61 ],            time: +24.19 sec\n",
      "loss: [0.446 0.615],            time: +22.05 sec\n",
      "loss: [0.251 0.453],            time: +21.76 sec\n",
      "loss: [0.307 0.332],            time: +20.27 sec\n",
      "loss: [0.313 0.43 ],            time: +25.13 sec\n",
      "loss: [0.324 0.348],            time: +32.55 sec\n",
      "loss: [0.365 0.294],            time: +21.24 sec\n",
      "loss: [0.321 0.27 ],            time: +23.25 sec\n",
      "loss: [0.321 0.387],            time: +21.15 sec\n",
      "loss: [0.402 0.352],            time: +19.79 sec\n",
      "loss: [0.341 0.362],            time: +19.91 sec\n",
      "loss: [0.28  0.457],            time: +18.30 sec\n",
      "loss: [0.258 0.339],            time: +19.29 sec\n",
      "loss: [0.235 0.259],            time: +19.72 sec\n",
      "loss: [0.233 0.317],            time: +19.21 sec\n",
      "loss: [0.206 0.289],            time: +21.12 sec\n",
      "loss: [0.248 0.399],            time: +22.08 sec\n"
     ]
    }
   ],
   "source": [
    "for _ in range(20):\n",
    "    start = time()\n",
    "    p1.train(60, param)\n",
    "    \n",
    "    # collect new experience with trained network\n",
    "    [Match((p1, axl.TitForTat())).play() for _ in range(10)]\n",
    "    [Match((p1, axl.Alternator())).play() for _ in range(10)]\n",
    "    \n",
    "    print(f'loss: {p1.network.loss},            time: +{time()-start:.2f} sec')\n",
    "    \n",
    "# left: loss for cooperation\n",
    "# right: loss for defection"
   ]
  },
  {
   "cell_type": "code",
   "execution_count": 143,
   "id": "977df5c7-3a31-4911-809a-e65c35e2fa20",
   "metadata": {
    "tags": []
   },
   "outputs": [
    {
     "data": {
      "image/png": "[encoded data removed]",
      "text/plain": [
       "<Figure size 800x640 with 1 Axes>"
      ]
     },
     "metadata": {
      "needs_background": "light"
     },
     "output_type": "display_data"
    },
    {
     "data": {
      "image/png": "[encoded data removed]",
      "text/plain": [
       "<Figure size 800x640 with 1 Axes>"
      ]
     },
     "metadata": {
      "needs_background": "light"
     },
     "output_type": "display_data"
    }
   ],
   "source": [
    "p1.plot()\n",
    "p1.plot(min_ran=600, max_ran=-1)"
   ]
  },
  {
   "cell_type": "code",
   "execution_count": 90,
   "id": "tamil-international",
   "metadata": {},
   "outputs": [
    {
     "name": "stdout",
     "output_type": "stream",
     "text": [
      "[[21.    21.773]]\n",
      "[[19.068 18.405]]\n",
      "[[21.088 22.93 ]]\n",
      "[[18.243 20.158]]\n",
      "[[20.065 22.231]]\n",
      "[[18.925 18.039]]\n",
      "[[20.972 21.3  ]]\n",
      "[[18.836 18.577]]\n",
      "[[20.985 20.929]]\n",
      "[[18.597 18.596]]\n",
      "[[18.869 18.779]]\n",
      "[[18.184 16.995]]\n",
      "[[17.498 16.494]]\n",
      "[[16.48  15.439]]\n",
      "[[15.297 13.593]]\n",
      "[[14.176 12.158]]\n",
      "[[12.693 12.135]]\n",
      "[[11.219  9.098]]\n",
      "[[7.297 5.733]]\n",
      "[[3.437 4.822]]\n",
      "[[-0.116 -0.58 ]]\n",
      "[(5, 0), (0, 5), (5, 0), (1, 1), (1, 1), (0, 5), (5, 0), (0, 5), (3, 3), (3, 3), (3, 3), (3, 3), (3, 3), (3, 3), (3, 3), (3, 3), (3, 3), (3, 3), (3, 3), (5, 0)]\n",
      "Player 1 score = 55\n",
      "Player 2 score = 50\n"
     ]
    }
   ],
   "source": [
    "with p1:\n",
    "    play(p1, axl.TitForTat(), Match)"
   ]
  },
  {
   "cell_type": "code",
   "execution_count": 77,
   "id": "fce16b90-908b-4c9f-b58e-af0c2945215b",
   "metadata": {},
   "outputs": [
    {
     "name": "stdout",
     "output_type": "stream",
     "text": [
      "[[22.74 23.02]]\n",
      "[[20.55 21.13]]\n",
      "[[21.83 24.69]]\n",
      "[[20.84 22.59]]\n",
      "[[23.04 24.98]]\n",
      "[[20.73 22.54]]\n",
      "[[21.77 24.23]]\n",
      "[[20.   21.45]]\n",
      "[[20.8  22.51]]\n",
      "[[18.52 19.39]]\n",
      "[[18.46 20.41]]\n",
      "[[16.02 17.14]]\n",
      "[[15.74 17.97]]\n",
      "[[13.47 14.23]]\n",
      "[[12.3  14.59]]\n",
      "[[ 9.7  10.72]]\n",
      "[[ 8.54 10.7 ]]\n",
      "[[5.34 6.39]]\n",
      "[[3.69 5.95]]\n",
      "[[0.29 1.04]]\n",
      "[[ 0.03 -0.13]]\n",
      "[(5, 0), (1, 1), (5, 0), (1, 1), (5, 0), (1, 1), (5, 0), (1, 1), (5, 0), (1, 1), (5, 0), (1, 1), (5, 0), (1, 1), (5, 0), (1, 1), (5, 0), (1, 1), (5, 0), (1, 1)]\n",
      "Player 1 score = 60\n",
      "Player 2 score = 10\n"
     ]
    }
   ],
   "source": [
    "with p1:\n",
    "    play(p1, axl.Alternator(), Match)"
   ]
  },
  {
   "cell_type": "code",
   "execution_count": 123,
   "id": "16542903-6930-41f4-b2bc-2909515c5357",
   "metadata": {},
   "outputs": [
    {
     "name": "stdout",
     "output_type": "stream",
     "text": [
      "[(3, 3), (0, 5), (5, 0), (0, 5), (5, 0), (0, 5), (5, 0), (0, 5), (5, 0), (0, 5), (5, 0), (0, 5), (5, 0), (0, 5), (5, 0), (0, 5), (5, 0), (0, 5), (5, 0), (0, 5)]\n",
      "Player 1 score = 48\n",
      "Player 2 score = 53\n"
     ]
    },
    {
     "data": {
      "text/plain": [
       "<axelrod.match.Match at 0x25a34f8fb80>"
      ]
     },
     "execution_count": 123,
     "metadata": {},
     "output_type": "execute_result"
    }
   ],
   "source": [
    "play(axl.TitForTat(), axl.Alternator(), Match)\n",
    "\n",
    "play(axl.TitForTat(), axl.TitForTat(), Match)"
   ]
  },
  {
   "cell_type": "code",
   "execution_count": 46,
   "id": "7d55d9d0-cb91-401d-82ba-f0b6b0e6a8ca",
   "metadata": {},
   "outputs": [
    {
     "name": "stdout",
     "output_type": "stream",
     "text": [
      "26.35\n",
      "25.95\n",
      "25.50\n",
      "25.00\n",
      "24.44\n",
      "23.82\n",
      "23.14\n",
      "22.37\n",
      "21.53\n",
      "20.59\n",
      "19.54\n",
      "18.38\n",
      "17.09\n",
      "15.65\n",
      "14.06\n",
      "12.29\n",
      "10.32\n",
      "8.13\n",
      "5.70\n",
      "3.00\n"
     ]
    }
   ],
   "source": [
    "# theoritical Q values\n",
    "# assuming both player cooperate to the end\n",
    "for i in range(20):\n",
    "    print(f'{3.0+3.0/(1/9) * (1.0 - 1.0/(1.0+1/9)**(19-i)):.2f}')"
   ]
  },
  {
   "cell_type": "code",
   "execution_count": 28,
   "id": "concerned-planet",
   "metadata": {
    "scrolled": true,
    "tags": []
   },
   "outputs": [
    {
     "name": "stdout",
     "output_type": "stream",
     "text": [
      "--0--\n",
      "Printing flatten layer:\n",
      "{'shape': (1, 2, 21), 'type': 'flatten'}\n",
      "--1--\n",
      "Printing linear layer:\n",
      "{'bias': 0.01,\n",
      " 'input': array([[-1.,  1.,  1.,  1.,  1.,  1.,  1.,  1.,  1.,  1.,  1.,  1.,  0.,\n",
      "         1.,  1.,  1.,  1.,  1.,  1.,  1.,  0., -1.,  1.,  0.,  1.,  0.,\n",
      "         1.,  0.,  1.,  0.,  1.,  0.,  1.,  0.,  1.,  0.,  1.,  0.,  1.,\n",
      "         0.,  1.,  0.,  1.]]),\n",
      " 'input_nodes': 42,\n",
      " 'm1': array([[ 0.01, -0.01,  0.  , ..., -0.  ,  0.  ,  0.01],\n",
      "       [ 0.01, -0.01,  0.  , ..., -0.  ,  0.  ,  0.01],\n",
      "       [ 0.01, -0.01,  0.01, ..., -0.  ,  0.  ,  0.01],\n",
      "       ...,\n",
      "       [-0.01,  0.01, -0.  , ...,  0.  , -0.  ,  0.  ],\n",
      "       [-0.01,  0.01,  0.  , ..., -0.  ,  0.  ,  0.  ],\n",
      "       [-0.01,  0.01, -0.  , ...,  0.  , -0.  , -0.01]]),\n",
      " 'm2': array([[0.01, 0.  , 0.  , ..., 0.  , 0.  , 0.  ],\n",
      "       [0.01, 0.  , 0.  , ..., 0.  , 0.  , 0.  ],\n",
      "       [0.01, 0.  , 0.  , ..., 0.  , 0.  , 0.  ],\n",
      "       ...,\n",
      "       [0.  , 0.  , 0.  , ..., 0.  , 0.  , 0.  ],\n",
      "       [0.  , 0.  , 0.  , ..., 0.  , 0.  , 0.  ],\n",
      "       [0.01, 0.  , 0.  , ..., 0.  , 0.  , 0.  ]]),\n",
      " 'output': array([[ 0.11,  0.76, -0.14, -1.12, -0.56,  2.1 , -0.37,  0.26,  0.12,\n",
      "        -0.38, -2.05,  0.97,  0.34,  0.46, -0.58,  0.1 , -0.04, -1.01,\n",
      "        -0.36, -0.08,  1.21, -1.03,  0.86,  0.35,  0.32, -2.67,  0.02,\n",
      "         0.3 ,  0.33, -0.68,  0.73, -1.2 ,  0.69, -3.6 ,  2.11,  1.03,\n",
      "         0.51, -0.25, -0.72, -0.22, -0.3 ,  3.11,  0.01, -1.56,  0.94,\n",
      "         1.95,  0.68,  1.98,  1.01,  1.28,  0.47,  1.73, -0.9 , -0.33,\n",
      "        -0.38,  0.06, -0.82, -0.13, -1.33,  1.  ,  0.38,  1.25,  0.91,\n",
      "        -0.04, -0.81,  0.22,  2.14,  0.42, -0.71,  0.92, -0.57, -2.07,\n",
      "        -1.73,  2.83, -0.26,  2.25,  1.89, -1.39,  0.22, -1.42, -1.08,\n",
      "        -1.01, -1.41, -1.16,  0.23,  1.4 , -0.73,  2.09, -2.32, -0.67,\n",
      "         2.29, -0.36,  0.06,  0.73, -1.65,  0.26,  0.25, -0.33, -0.62,\n",
      "         0.01]]),\n",
      " 'output_nodes': 100,\n",
      " 'type': 'linear',\n",
      " 'weights': array([[ 0.42,  0.26, -0.04, ...,  0.04, -0.5 , -0.3 ],\n",
      "       [-0.2 ,  0.4 , -0.28, ...,  0.02,  0.15, -0.22],\n",
      "       [-0.44,  0.17, -0.01, ..., -0.2 , -0.07, -0.53],\n",
      "       ...,\n",
      "       [ 0.03,  0.25, -0.19, ...,  0.21, -0.05,  0.05],\n",
      "       [ 0.03, -0.12,  0.05, ..., -0.37, -0.38,  0.04],\n",
      "       [ 0.04,  0.02,  0.03, ...,  0.01,  0.05,  0.03]]),\n",
      " 'with_bias': True}\n",
      "--2--\n",
      "Printing activation layer:\n",
      "{'cache': cache(x=array([[ 0.11,  0.76, -0.14, -1.12, -0.56,  2.1 , -0.37,  0.26,  0.12,\n",
      "        -0.38, -2.05,  0.97,  0.34,  0.46, -0.58,  0.1 , -0.04, -1.01,\n",
      "        -0.36, -0.08,  1.21, -1.03,  0.86,  0.35,  0.32, -2.67,  0.02,\n",
      "         0.3 ,  0.33, -0.68,  0.73, -1.2 ,  0.69, -3.6 ,  2.11,  1.03,\n",
      "         0.51, -0.25, -0.72, -0.22, -0.3 ,  3.11,  0.01, -1.56,  0.94,\n",
      "         1.95,  0.68,  1.98,  1.01,  1.28,  0.47,  1.73, -0.9 , -0.33,\n",
      "        -0.38,  0.06, -0.82, -0.13, -1.33,  1.  ,  0.38,  1.25,  0.91,\n",
      "        -0.04, -0.81,  0.22,  2.14,  0.42, -0.71,  0.92, -0.57, -2.07,\n",
      "        -1.73,  2.83, -0.26,  2.25,  1.89, -1.39,  0.22, -1.42, -1.08,\n",
      "        -1.01, -1.41, -1.16,  0.23,  1.4 , -0.73,  2.09, -2.32, -0.67,\n",
      "         2.29, -0.36,  0.06,  0.73, -1.65,  0.26,  0.25, -0.33, -0.62,\n",
      "         0.01]]), y=array([[ 0.11,  0.76, -0.  , -0.  , -0.  ,  2.1 , -0.  ,  0.26,  0.12,\n",
      "        -0.  , -0.  ,  0.97,  0.34,  0.46, -0.  ,  0.1 , -0.  , -0.  ,\n",
      "        -0.  , -0.  ,  1.21, -0.  ,  0.86,  0.35,  0.32, -0.  ,  0.02,\n",
      "         0.3 ,  0.33, -0.  ,  0.73, -0.  ,  0.69, -0.  ,  2.11,  1.03,\n",
      "         0.51, -0.  , -0.  , -0.  , -0.  ,  3.11,  0.01, -0.  ,  0.94,\n",
      "         1.95,  0.68,  1.98,  1.01,  1.28,  0.47,  1.73, -0.  , -0.  ,\n",
      "        -0.  ,  0.06, -0.  , -0.  , -0.  ,  1.  ,  0.38,  1.25,  0.91,\n",
      "        -0.  , -0.  ,  0.22,  2.14,  0.42, -0.  ,  0.92, -0.  , -0.  ,\n",
      "        -0.  ,  2.83, -0.  ,  2.25,  1.89, -0.  ,  0.22, -0.  , -0.  ,\n",
      "        -0.  , -0.  , -0.  ,  0.23,  1.4 , -0.  ,  2.09, -0.  , -0.  ,\n",
      "         2.29, -0.  ,  0.06,  0.73, -0.  ,  0.26,  0.25, -0.  , -0.  ,\n",
      "         0.01]])),\n",
      " 'func_backward': <function <lambda> at 0x0000025A541F4DC0>,\n",
      " 'func_forward': <function <lambda> at 0x0000025A541F4D30>,\n",
      " 'func_name': 'relu',\n",
      " 'type': 'activation'}\n",
      "--3--\n",
      "Printing linear layer:\n",
      "{'bias': 0,\n",
      " 'input': array([[ 0.11,  0.76, -0.  , -0.  , -0.  ,  2.1 , -0.  ,  0.26,  0.12,\n",
      "        -0.  , -0.  ,  0.97,  0.34,  0.46, -0.  ,  0.1 , -0.  , -0.  ,\n",
      "        -0.  , -0.  ,  1.21, -0.  ,  0.86,  0.35,  0.32, -0.  ,  0.02,\n",
      "         0.3 ,  0.33, -0.  ,  0.73, -0.  ,  0.69, -0.  ,  2.11,  1.03,\n",
      "         0.51, -0.  , -0.  , -0.  , -0.  ,  3.11,  0.01, -0.  ,  0.94,\n",
      "         1.95,  0.68,  1.98,  1.01,  1.28,  0.47,  1.73, -0.  , -0.  ,\n",
      "        -0.  ,  0.06, -0.  , -0.  , -0.  ,  1.  ,  0.38,  1.25,  0.91,\n",
      "        -0.  , -0.  ,  0.22,  2.14,  0.42, -0.  ,  0.92, -0.  , -0.  ,\n",
      "        -0.  ,  2.83, -0.  ,  2.25,  1.89, -0.  ,  0.22, -0.  , -0.  ,\n",
      "        -0.  , -0.  , -0.  ,  0.23,  1.4 , -0.  ,  2.09, -0.  , -0.  ,\n",
      "         2.29, -0.  ,  0.06,  0.73, -0.  ,  0.26,  0.25, -0.  , -0.  ,\n",
      "         0.01]]),\n",
      " 'input_nodes': 100,\n",
      " 'm1': array([[-2.27e-003,  3.16e-003,  3.61e-003, ..., -5.83e-003,  1.50e-005,\n",
      "         3.68e-003],\n",
      "       [-2.89e-003, -3.53e-004, -1.45e-003, ..., -1.21e-003,  2.47e-323,\n",
      "        -7.74e-004],\n",
      "       [-1.64e-002,  5.19e-003, -2.04e-003, ..., -2.51e-002, -1.70e-004,\n",
      "         6.28e-003],\n",
      "       ...,\n",
      "       [-8.69e-003, -5.76e-008, -3.36e-003, ..., -6.98e-003, -6.17e-004,\n",
      "        -1.17e-003],\n",
      "       [-5.90e-003,  1.62e-005, -1.50e-004, ..., -7.25e-003, -2.89e-004,\n",
      "        -4.80e-005],\n",
      "       [ 1.90e-003,  3.83e-003,  5.70e-003, ..., -4.60e-003, -5.66e-004,\n",
      "         9.52e-003]]),\n",
      " 'm2': array([[3.48e-03, 3.05e-04, 1.03e-03, ..., 3.35e-03, 4.42e-06, 3.85e-04],\n",
      "       [2.06e-04, 2.50e-05, 1.72e-04, ..., 1.24e-04, 1.11e-18, 6.45e-05],\n",
      "       [1.87e-02, 9.24e-04, 5.97e-03, ..., 1.81e-02, 4.42e-05, 1.20e-03],\n",
      "       ...,\n",
      "       [1.40e-03, 2.05e-08, 1.43e-04, ..., 1.84e-03, 1.03e-05, 3.17e-05],\n",
      "       [5.61e-04, 3.55e-06, 6.82e-05, ..., 7.48e-04, 1.78e-06, 1.54e-05],\n",
      "       [1.35e-02, 8.39e-04, 3.99e-03, ..., 1.39e-02, 5.58e-05, 1.00e-03]]),\n",
      " 'output': array([[ 1.71,  0.17, -0.09,  0.51,  1.35,  1.42, -0.03,  1.04,  3.18,\n",
      "         0.16,  2.84, -0.71, -0.21, -1.89,  1.31,  2.18,  0.02,  0.93,\n",
      "        -0.54,  1.31, -1.47,  0.69, -0.65, -0.25,  2.55, -1.17,  0.62,\n",
      "         0.96, -1.72,  1.82, -0.86, -0.2 , -0.76,  0.4 , -1.47, -1.  ,\n",
      "         0.68,  1.32,  0.06, -2.33,  0.19, -0.54, -0.37,  0.19,  1.46,\n",
      "         2.19,  1.06,  1.13,  0.86, -1.34, -0.94, -0.09,  1.61,  0.2 ,\n",
      "         1.62,  0.63, -1.99,  0.28, -0.27,  2.34,  3.7 ,  0.13, -0.53,\n",
      "         0.49, -2.14,  0.11,  0.41,  2.65,  0.39, -0.21,  0.29,  1.49,\n",
      "         1.69, -0.41, -2.77, -1.31,  1.07,  0.56, -2.1 , -0.53, -2.08,\n",
      "         0.66,  2.59,  0.15,  0.61,  1.95,  0.18, -0.16,  1.68,  0.4 ,\n",
      "        -0.05, -0.8 ,  0.11, -0.31,  0.17,  1.17, -0.55,  1.44,  0.62,\n",
      "         0.17, -1.64, -1.81,  0.67,  0.36,  1.71, -0.14, -0.42,  0.55,\n",
      "        -1.59, -0.84, -1.48, -1.34, -0.09, -2.31, -3.36,  0.64,  0.6 ,\n",
      "         1.32, -0.01,  2.68,  2.28, -1.02,  0.46, -2.69, -0.96,  0.35,\n",
      "        -0.09, -1.75, -1.92, -1.97, -1.21, -1.05,  0.45,  2.34,  0.31,\n",
      "        -1.23,  0.98,  0.97,  0.74, -0.68,  2.46,  2.32,  0.78,  1.71,\n",
      "        -1.76,  1.92, -0.23,  0.06,  1.09, -0.65,  0.26, -0.28, -0.01,\n",
      "        -0.73,  2.15,  1.68, -0.22, -0.12, -0.84,  0.63,  0.58,  1.5 ,\n",
      "        -2.6 ,  0.32, -0.8 ,  2.23, -2.84, -0.15,  1.25,  0.8 , -0.47,\n",
      "         2.78, -1.27, -0.37,  0.75,  0.67, -2.64, -3.17, -0.78,  1.49,\n",
      "        -1.05, -0.49,  2.51,  1.13, -0.28, -0.13,  3.02, -3.71, -0.68,\n",
      "         1.48,  0.09,  0.01,  1.15,  1.74, -1.43, -1.04, -2.06,  0.25,\n",
      "        -1.06, -0.63]]),\n",
      " 'output_nodes': 200,\n",
      " 'type': 'linear',\n",
      " 'weights': array([[-0.24, -0.1 ,  0.17, ...,  0.06, -0.06,  0.13],\n",
      "       [ 0.14,  0.25, -0.02, ...,  0.13,  0.  , -0.04],\n",
      "       [ 0.02, -0.16,  0.11, ..., -0.03, -0.  ,  0.1 ],\n",
      "       ...,\n",
      "       [-0.1 ,  0.07,  0.26, ...,  0.08, -0.1 , -0.23],\n",
      "       [-0.01, -0.11,  0.28, ...,  0.3 , -0.15, -0.01],\n",
      "       [ 0.17,  0.13,  0.08, ...,  0.2 , -0.26,  0.14]]),\n",
      " 'with_bias': True}\n",
      "--4--\n",
      "Printing activation layer:\n",
      "{'cache': cache(x=array([[ 1.71,  0.17, -0.09,  0.51,  1.35,  1.42, -0.03,  1.04,  3.18,\n",
      "         0.16,  2.84, -0.71, -0.21, -1.89,  1.31,  2.18,  0.02,  0.93,\n",
      "        -0.54,  1.31, -1.47,  0.69, -0.65, -0.25,  2.55, -1.17,  0.62,\n",
      "         0.96, -1.72,  1.82, -0.86, -0.2 , -0.76,  0.4 , -1.47, -1.  ,\n",
      "         0.68,  1.32,  0.06, -2.33,  0.19, -0.54, -0.37,  0.19,  1.46,\n",
      "         2.19,  1.06,  1.13,  0.86, -1.34, -0.94, -0.09,  1.61,  0.2 ,\n",
      "         1.62,  0.63, -1.99,  0.28, -0.27,  2.34,  3.7 ,  0.13, -0.53,\n",
      "         0.49, -2.14,  0.11,  0.41,  2.65,  0.39, -0.21,  0.29,  1.49,\n",
      "         1.69, -0.41, -2.77, -1.31,  1.07,  0.56, -2.1 , -0.53, -2.08,\n",
      "         0.66,  2.59,  0.15,  0.61,  1.95,  0.18, -0.16,  1.68,  0.4 ,\n",
      "        -0.05, -0.8 ,  0.11, -0.31,  0.17,  1.17, -0.55,  1.44,  0.62,\n",
      "         0.17, -1.64, -1.81,  0.67,  0.36,  1.71, -0.14, -0.42,  0.55,\n",
      "        -1.59, -0.84, -1.48, -1.34, -0.09, -2.31, -3.36,  0.64,  0.6 ,\n",
      "         1.32, -0.01,  2.68,  2.28, -1.02,  0.46, -2.69, -0.96,  0.35,\n",
      "        -0.09, -1.75, -1.92, -1.97, -1.21, -1.05,  0.45,  2.34,  0.31,\n",
      "        -1.23,  0.98,  0.97,  0.74, -0.68,  2.46,  2.32,  0.78,  1.71,\n",
      "        -1.76,  1.92, -0.23,  0.06,  1.09, -0.65,  0.26, -0.28, -0.01,\n",
      "        -0.73,  2.15,  1.68, -0.22, -0.12, -0.84,  0.63,  0.58,  1.5 ,\n",
      "        -2.6 ,  0.32, -0.8 ,  2.23, -2.84, -0.15,  1.25,  0.8 , -0.47,\n",
      "         2.78, -1.27, -0.37,  0.75,  0.67, -2.64, -3.17, -0.78,  1.49,\n",
      "        -1.05, -0.49,  2.51,  1.13, -0.28, -0.13,  3.02, -3.71, -0.68,\n",
      "         1.48,  0.09,  0.01,  1.15,  1.74, -1.43, -1.04, -2.06,  0.25,\n",
      "        -1.06, -0.63]]), y=array([[ 1.71,  0.17, -0.  ,  0.51,  1.35,  1.42, -0.  ,  1.04,  3.18,\n",
      "         0.16,  2.84, -0.  , -0.  , -0.  ,  1.31,  2.18,  0.02,  0.93,\n",
      "        -0.  ,  1.31, -0.  ,  0.69, -0.  , -0.  ,  2.55, -0.  ,  0.62,\n",
      "         0.96, -0.  ,  1.82, -0.  , -0.  , -0.  ,  0.4 , -0.  , -0.  ,\n",
      "         0.68,  1.32,  0.06, -0.  ,  0.19, -0.  , -0.  ,  0.19,  1.46,\n",
      "         2.19,  1.06,  1.13,  0.86, -0.  , -0.  , -0.  ,  1.61,  0.2 ,\n",
      "         1.62,  0.63, -0.  ,  0.28, -0.  ,  2.34,  3.7 ,  0.13, -0.  ,\n",
      "         0.49, -0.  ,  0.11,  0.41,  2.65,  0.39, -0.  ,  0.29,  1.49,\n",
      "         1.69, -0.  , -0.  , -0.  ,  1.07,  0.56, -0.  , -0.  , -0.  ,\n",
      "         0.66,  2.59,  0.15,  0.61,  1.95,  0.18, -0.  ,  1.68,  0.4 ,\n",
      "        -0.  , -0.  ,  0.11, -0.  ,  0.17,  1.17, -0.  ,  1.44,  0.62,\n",
      "         0.17, -0.  , -0.  ,  0.67,  0.36,  1.71, -0.  , -0.  ,  0.55,\n",
      "        -0.  , -0.  , -0.  , -0.  , -0.  , -0.  , -0.  ,  0.64,  0.6 ,\n",
      "         1.32, -0.  ,  2.68,  2.28, -0.  ,  0.46, -0.  , -0.  ,  0.35,\n",
      "        -0.  , -0.  , -0.  , -0.  , -0.  , -0.  ,  0.45,  2.34,  0.31,\n",
      "        -0.  ,  0.98,  0.97,  0.74, -0.  ,  2.46,  2.32,  0.78,  1.71,\n",
      "        -0.  ,  1.92, -0.  ,  0.06,  1.09, -0.  ,  0.26, -0.  , -0.  ,\n",
      "        -0.  ,  2.15,  1.68, -0.  , -0.  , -0.  ,  0.63,  0.58,  1.5 ,\n",
      "        -0.  ,  0.32, -0.  ,  2.23, -0.  , -0.  ,  1.25,  0.8 , -0.  ,\n",
      "         2.78, -0.  , -0.  ,  0.75,  0.67, -0.  , -0.  , -0.  ,  1.49,\n",
      "        -0.  , -0.  ,  2.51,  1.13, -0.  , -0.  ,  3.02, -0.  , -0.  ,\n",
      "         1.48,  0.09,  0.01,  1.15,  1.74, -0.  , -0.  , -0.  ,  0.25,\n",
      "        -0.  , -0.  ]])),\n",
      " 'func_backward': <function <lambda> at 0x0000025A541F4DC0>,\n",
      " 'func_forward': <function <lambda> at 0x0000025A541F4D30>,\n",
      " 'func_name': 'relu',\n",
      " 'type': 'activation'}\n",
      "--5--\n",
      "Printing linear layer:\n",
      "{'bias': 0,\n",
      " 'input': array([[ 1.71,  0.17, -0.  ,  0.51,  1.35,  1.42, -0.  ,  1.04,  3.18,\n",
      "         0.16,  2.84, -0.  , -0.  , -0.  ,  1.31,  2.18,  0.02,  0.93,\n",
      "        -0.  ,  1.31, -0.  ,  0.69, -0.  , -0.  ,  2.55, -0.  ,  0.62,\n",
      "         0.96, -0.  ,  1.82, -0.  , -0.  , -0.  ,  0.4 , -0.  , -0.  ,\n",
      "         0.68,  1.32,  0.06, -0.  ,  0.19, -0.  , -0.  ,  0.19,  1.46,\n",
      "         2.19,  1.06,  1.13,  0.86, -0.  , -0.  , -0.  ,  1.61,  0.2 ,\n",
      "         1.62,  0.63, -0.  ,  0.28, -0.  ,  2.34,  3.7 ,  0.13, -0.  ,\n",
      "         0.49, -0.  ,  0.11,  0.41,  2.65,  0.39, -0.  ,  0.29,  1.49,\n",
      "         1.69, -0.  , -0.  , -0.  ,  1.07,  0.56, -0.  , -0.  , -0.  ,\n",
      "         0.66,  2.59,  0.15,  0.61,  1.95,  0.18, -0.  ,  1.68,  0.4 ,\n",
      "        -0.  , -0.  ,  0.11, -0.  ,  0.17,  1.17, -0.  ,  1.44,  0.62,\n",
      "         0.17, -0.  , -0.  ,  0.67,  0.36,  1.71, -0.  , -0.  ,  0.55,\n",
      "        -0.  , -0.  , -0.  , -0.  , -0.  , -0.  , -0.  ,  0.64,  0.6 ,\n",
      "         1.32, -0.  ,  2.68,  2.28, -0.  ,  0.46, -0.  , -0.  ,  0.35,\n",
      "        -0.  , -0.  , -0.  , -0.  , -0.  , -0.  ,  0.45,  2.34,  0.31,\n",
      "        -0.  ,  0.98,  0.97,  0.74, -0.  ,  2.46,  2.32,  0.78,  1.71,\n",
      "        -0.  ,  1.92, -0.  ,  0.06,  1.09, -0.  ,  0.26, -0.  , -0.  ,\n",
      "        -0.  ,  2.15,  1.68, -0.  , -0.  , -0.  ,  0.63,  0.58,  1.5 ,\n",
      "        -0.  ,  0.32, -0.  ,  2.23, -0.  , -0.  ,  1.25,  0.8 , -0.  ,\n",
      "         2.78, -0.  , -0.  ,  0.75,  0.67, -0.  , -0.  , -0.  ,  1.49,\n",
      "        -0.  , -0.  ,  2.51,  1.13, -0.  , -0.  ,  3.02, -0.  , -0.  ,\n",
      "         1.48,  0.09,  0.01,  1.15,  1.74, -0.  , -0.  , -0.  ,  0.25,\n",
      "        -0.  , -0.  ]]),\n",
      " 'input_nodes': 200,\n",
      " 'm1': array([[-3.06e-003,  9.77e-003,  8.16e-003, ...,  2.19e-004,  5.21e-003,\n",
      "        -8.27e-003],\n",
      "       [-7.17e-004,  8.68e-003,  5.61e-003, ...,  8.61e-004,  5.00e-003,\n",
      "        -6.50e-003],\n",
      "       [-1.48e-003,  9.93e-003,  6.35e-003, ...,  3.71e-004,  6.16e-003,\n",
      "        -8.74e-003],\n",
      "       ...,\n",
      "       [-1.62e-004, -2.38e-002, -1.75e-002, ...,  2.06e-003, -8.59e-003,\n",
      "        -2.00e-003],\n",
      "       [ 2.47e-323, -1.19e-003, -9.96e-004, ..., -2.47e-323, -3.41e-004,\n",
      "        -9.48e-006],\n",
      "       [ 1.64e-003, -1.77e-002, -1.18e-002, ...,  7.70e-004, -6.28e-003,\n",
      "        -4.62e-003]]),\n",
      " 'm2': array([[3.72e-03, 8.22e-03, 5.61e-03, ..., 3.26e-03, 1.02e-03, 5.45e-04],\n",
      "       [8.12e-04, 9.06e-04, 5.90e-04, ..., 9.24e-04, 1.26e-04, 7.93e-05],\n",
      "       [1.69e-03, 4.84e-03, 3.14e-03, ..., 3.08e-03, 6.53e-04, 3.56e-04],\n",
      "       ...,\n",
      "       [1.66e-04, 3.30e-03, 1.98e-03, ..., 1.46e-04, 4.83e-04, 9.98e-05],\n",
      "       [8.65e-15, 1.89e-05, 9.18e-06, ..., 8.34e-17, 3.39e-06, 1.63e-08],\n",
      "       [1.58e-03, 1.11e-02, 7.25e-03, ..., 3.70e-03, 1.46e-03, 4.61e-04]]),\n",
      " 'output': array([[ 3.18, -1.29, -0.2 ,  3.06,  0.42,  2.38,  3.69,  3.62,  1.93,\n",
      "         2.44,  0.51, -1.03,  1.37,  0.35,  2.  , -2.25, -1.4 ,  0.88,\n",
      "         2.86, -0.13, -2.27, -0.51, -1.1 , -0.72,  1.64,  1.48,  0.44,\n",
      "        -3.55,  0.9 , -0.42,  0.94,  1.18,  0.96, -0.41, -1.4 ,  4.13,\n",
      "        -0.11,  0.46,  1.34, -0.4 ]]),\n",
      " 'output_nodes': 40,\n",
      " 'type': 'linear',\n",
      " 'weights': array([[ 0.13,  0.2 , -0.09, ..., -0.09, -0.03, -0.28],\n",
      "       [ 0.12, -0.02,  0.08, ...,  0.1 ,  0.14,  0.11],\n",
      "       [-0.11, -0.13,  0.04, ...,  0.1 ,  0.2 , -0.09],\n",
      "       ...,\n",
      "       [-0.01, -0.03,  0.19, ..., -0.12,  0.08,  0.16],\n",
      "       [-0.12,  0.05,  0.15, ..., -0.05, -0.06, -0.2 ],\n",
      "       [-0.19, -0.03, -0.1 , ...,  0.13,  0.12,  0.01]]),\n",
      " 'with_bias': True}\n",
      "--6--\n",
      "Printing activation layer:\n",
      "{'cache': cache(x=array([[ 3.18, -1.29, -0.2 ,  3.06,  0.42,  2.38,  3.69,  3.62,  1.93,\n",
      "         2.44,  0.51, -1.03,  1.37,  0.35,  2.  , -2.25, -1.4 ,  0.88,\n",
      "         2.86, -0.13, -2.27, -0.51, -1.1 , -0.72,  1.64,  1.48,  0.44,\n",
      "        -3.55,  0.9 , -0.42,  0.94,  1.18,  0.96, -0.41, -1.4 ,  4.13,\n",
      "        -0.11,  0.46,  1.34, -0.4 ]]), y=array([[ 3.18, -0.  , -0.  ,  3.06,  0.42,  2.38,  3.69,  3.62,  1.93,\n",
      "         2.44,  0.51, -0.  ,  1.37,  0.35,  2.  , -0.  , -0.  ,  0.88,\n",
      "         2.86, -0.  , -0.  , -0.  , -0.  , -0.  ,  1.64,  1.48,  0.44,\n",
      "        -0.  ,  0.9 , -0.  ,  0.94,  1.18,  0.96, -0.  , -0.  ,  4.13,\n",
      "        -0.  ,  0.46,  1.34, -0.  ]])),\n",
      " 'func_backward': <function <lambda> at 0x0000025A541F4DC0>,\n",
      " 'func_forward': <function <lambda> at 0x0000025A541F4D30>,\n",
      " 'func_name': 'relu',\n",
      " 'type': 'activation'}\n",
      "--7--\n",
      "Printing linear layer:\n",
      "{'bias': 0,\n",
      " 'input': array([[ 3.18, -0.  , -0.  ,  3.06,  0.42,  2.38,  3.69,  3.62,  1.93,\n",
      "         2.44,  0.51, -0.  ,  1.37,  0.35,  2.  , -0.  , -0.  ,  0.88,\n",
      "         2.86, -0.  , -0.  , -0.  , -0.  , -0.  ,  1.64,  1.48,  0.44,\n",
      "        -0.  ,  0.9 , -0.  ,  0.94,  1.18,  0.96, -0.  , -0.  ,  4.13,\n",
      "        -0.  ,  0.46,  1.34, -0.  ]]),\n",
      " 'input_nodes': 40,\n",
      " 'm1': array([[ 1.12e-02,  8.70e-04],\n",
      "       [-1.18e-01, -1.07e-01],\n",
      "       [-7.38e-02, -1.32e-01],\n",
      "       [ 3.38e-02,  4.00e-02],\n",
      "       [-4.16e-05,  2.76e-07],\n",
      "       [-4.67e-02, -6.41e-02],\n",
      "       [-9.69e-02, -1.38e-01],\n",
      "       [ 1.86e-02, -4.14e-02],\n",
      "       [ 1.35e-02,  2.02e-03],\n",
      "       [-1.49e-02, -4.02e-02],\n",
      "       [ 1.92e-02,  3.05e-02],\n",
      "       [-5.41e-03,  6.24e-04],\n",
      "       [ 3.02e-02,  9.60e-03],\n",
      "       [-2.76e-02, -2.28e-02],\n",
      "       [ 2.38e-02,  3.32e-03],\n",
      "       [-9.80e-02, -1.75e-01],\n",
      "       [-1.05e-01, -1.51e-01],\n",
      "       [ 2.17e-02,  2.05e-02],\n",
      "       [-2.66e-02, -5.49e-02],\n",
      "       [-5.96e-03,  1.17e-02],\n",
      "       [-3.42e-02, -7.70e-02],\n",
      "       [-2.13e-03,  1.40e-03],\n",
      "       [-5.54e-03, -1.80e-04],\n",
      "       [-2.97e-02,  1.76e-03],\n",
      "       [-9.63e-02, -8.24e-02],\n",
      "       [-4.53e-02, -1.15e-01],\n",
      "       [ 9.19e-03, -7.78e-04],\n",
      "       [-3.65e-03,  2.11e-04],\n",
      "       [-6.80e-02, -6.99e-02],\n",
      "       [-2.55e-02, -5.82e-02],\n",
      "       [ 3.65e-02,  6.79e-03],\n",
      "       [-5.39e-02, -1.41e-01],\n",
      "       [-4.97e-02, -6.09e-02],\n",
      "       [ 1.44e-02, -9.39e-03],\n",
      "       [-7.04e-02, -5.84e-02],\n",
      "       [ 3.98e-02,  4.62e-02],\n",
      "       [ 1.71e-04,  1.31e-04],\n",
      "       [ 9.02e-03,  4.13e-03],\n",
      "       [-7.81e-02, -8.14e-02],\n",
      "       [ 6.18e-03,  2.42e-02]]),\n",
      " 'm2': array([[7.88e-03, 1.47e-03],\n",
      "       [2.37e+00, 1.20e+00],\n",
      "       [7.79e-01, 4.36e-01],\n",
      "       [6.15e-02, 2.38e-02],\n",
      "       [8.55e-06, 4.98e-06],\n",
      "       [1.03e+00, 5.23e-01],\n",
      "       [3.54e+00, 1.78e+00],\n",
      "       [4.82e-01, 2.17e-01],\n",
      "       [8.58e-04, 3.79e-04],\n",
      "       [5.65e-01, 2.50e-01],\n",
      "       [5.44e-03, 2.98e-03],\n",
      "       [1.48e-03, 3.30e-04],\n",
      "       [1.88e-02, 1.04e-02],\n",
      "       [2.93e-01, 1.40e-01],\n",
      "       [5.02e-03, 1.44e-03],\n",
      "       [6.50e-01, 3.53e-01],\n",
      "       [1.57e+00, 8.26e-01],\n",
      "       [2.16e-02, 1.14e-02],\n",
      "       [8.29e-01, 3.83e-01],\n",
      "       [3.10e-03, 2.59e-03],\n",
      "       [2.51e-01, 2.12e-01],\n",
      "       [1.23e-03, 1.27e-03],\n",
      "       [4.23e-04, 4.57e-04],\n",
      "       [6.17e-02, 5.73e-02],\n",
      "       [1.68e+00, 8.00e-01],\n",
      "       [1.82e+00, 8.68e-01],\n",
      "       [1.45e-03, 3.13e-04],\n",
      "       [2.48e-04, 1.43e-04],\n",
      "       [5.83e-01, 3.18e-01],\n",
      "       [4.55e-01, 1.78e-01],\n",
      "       [4.47e-02, 1.36e-02],\n",
      "       [1.68e+00, 8.24e-01],\n",
      "       [4.75e-01, 2.73e-01],\n",
      "       [5.17e-03, 1.30e-03],\n",
      "       [4.04e-01, 2.41e-01],\n",
      "       [9.68e-02, 3.67e-02],\n",
      "       [2.62e-04, 4.46e-05],\n",
      "       [3.68e-03, 1.30e-03],\n",
      "       [1.11e+00, 5.69e-01],\n",
      "       [1.22e-03, 9.68e-04]]),\n",
      " 'output': array([[ 0.27, -1.93]]),\n",
      " 'output_nodes': 2,\n",
      " 'type': 'linear',\n",
      " 'weights': array([[-0.37, -0.17],\n",
      "       [ 0.19,  0.31],\n",
      "       [ 0.19,  0.17],\n",
      "       [ 0.23, -0.44],\n",
      "       [ 0.19,  0.31],\n",
      "       [ 0.05,  0.18],\n",
      "       [ 0.32,  0.17],\n",
      "       [ 0.08, -0.28],\n",
      "       [-0.34, -0.06],\n",
      "       [ 0.11, -0.08],\n",
      "       [-0.19, -0.08],\n",
      "       [ 0.09, -0.45],\n",
      "       [-0.11, -0.2 ],\n",
      "       [ 0.19, -0.21],\n",
      "       [-0.28, -0.22],\n",
      "       [ 0.23,  0.09],\n",
      "       [ 0.19,  0.07],\n",
      "       [-0.37, -0.24],\n",
      "       [ 0.2 , -0.06],\n",
      "       [ 0.05,  0.36],\n",
      "       [ 0.28,  0.31],\n",
      "       [-0.35, -0.22],\n",
      "       [-0.51, -0.05],\n",
      "       [ 0.27, -0.09],\n",
      "       [ 0.04,  0.12],\n",
      "       [ 0.16,  0.35],\n",
      "       [-0.15,  0.03],\n",
      "       [-0.12, -0.2 ],\n",
      "       [ 0.07,  0.16],\n",
      "       [ 0.2 ,  0.45],\n",
      "       [-0.63,  0.17],\n",
      "       [ 0.28,  0.38],\n",
      "       [ 0.17,  0.  ],\n",
      "       [-0.14,  0.11],\n",
      "       [-0.05,  0.28],\n",
      "       [-0.02, -0.08],\n",
      "       [-0.09, -0.06],\n",
      "       [-0.36,  0.02],\n",
      "       [ 0.03,  0.14],\n",
      "       [ 0.11, -0.19]]),\n",
      " 'with_bias': True}\n"
     ]
    }
   ],
   "source": [
    "p1.network.policy_net.print_parameters()"
   ]
  },
  {
   "cell_type": "code",
   "execution_count": null,
   "id": "1a91685e-ebba-4dd3-95a8-5d61d76f9513",
   "metadata": {},
   "outputs": [],
   "source": []
  }
 ],
 "metadata": {
  "kernelspec": {
   "display_name": "Python 3 (ipykernel)",
   "language": "python",
   "name": "python3"
  },
  "language_info": {
   "codemirror_mode": {
    "name": "ipython",
    "version": 3
   },
   "file_extension": ".py",
   "mimetype": "text/x-python",
   "name": "python",
   "nbconvert_exporter": "python",
   "pygments_lexer": "ipython3",
   "version": "3.8.10"
  }
 },
 "nbformat": 4,
 "nbformat_minor": 5
}
