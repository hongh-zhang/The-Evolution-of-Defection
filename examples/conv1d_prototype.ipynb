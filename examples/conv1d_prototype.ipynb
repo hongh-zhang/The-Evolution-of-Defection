{
 "cells": [
  {
   "cell_type": "code",
   "execution_count": null,
   "id": "f9379901-55c9-4883-b00b-a176c30633f4",
   "metadata": {},
   "outputs": [],
   "source": [
    "\"\"\"some notes in developing the conv1d layer\"\"\""
   ]
  },
  {
   "cell_type": "code",
   "execution_count": 1,
   "id": "45d906cb-13c3-49ba-b9a2-d20a1f198fad",
   "metadata": {},
   "outputs": [],
   "source": [
    "import numpy as np\n",
    "from pprint import pprint"
   ]
  },
  {
   "cell_type": "code",
   "execution_count": 3,
   "id": "1159fa80-eb76-4f0d-b94c-dbbd1c5784b0",
   "metadata": {},
   "outputs": [],
   "source": [
    "def correlate1(X, K):\n",
    "    \"\"\"1d correlation\"\"\"\n",
    "    \n",
    "    xw = len(X)\n",
    "    kw = len(K)\n",
    "    ow = xw - kw + 1\n",
    "    \n",
    "    if ow >= 1:\n",
    "        return np.fromiter((np.sum(X[i:i+kw] * K) for i in range(ow)), dtype=float)\n",
    "    else:\n",
    "        return correlate1(K, X)\n",
    "\n",
    "def convolve1(X, K):\n",
    "    return correlate1(X, np.flip(K))"
   ]
  },
  {
   "cell_type": "code",
   "execution_count": 4,
   "id": "c5b915df-77d9-4185-99ee-0778a45d24db",
   "metadata": {},
   "outputs": [
    {
     "data": {
      "text/plain": [
       "array([1., 2., 3.])"
      ]
     },
     "execution_count": 4,
     "metadata": {},
     "output_type": "execute_result"
    }
   ],
   "source": [
    "convolve1(np.array([1,2,3]), np.array([1]))"
   ]
  },
  {
   "cell_type": "code",
   "execution_count": 5,
   "id": "2182e545-30c2-4438-9b39-155a64457b71",
   "metadata": {},
   "outputs": [
    {
     "data": {
      "text/plain": [
       "[1, 2]"
      ]
     },
     "execution_count": 5,
     "metadata": {},
     "output_type": "execute_result"
    }
   ],
   "source": [
    "def correlate2(X, K):\n",
    "    \"\"\"handles 1d convolution with height (2d)\"\"\"\n",
    "    \n",
    "    xw = X.shape[1]\n",
    "    kw = K.shape[1]\n",
    "    ow = xw - kw + 1\n",
    "    \n",
    "    if ow >= 1:\n",
    "        return [np.sum(X[:, i:i+kw] * K) for i in range(ow)]\n",
    "    else:\n",
    "        return correlate2(K, X)  # correlation is commutative\n",
    "\n",
    "def convolve2(X, K):\n",
    "    return correlate2(X, np.flip(K, axis=1))\n",
    "\n",
    "correlate2(np.array([[1,2,3]]), np.array([[1,0]]))"
   ]
  },
  {
   "cell_type": "code",
   "execution_count": 17,
   "id": "5433fa63-2256-4deb-aedc-de759c24da4d",
   "metadata": {},
   "outputs": [],
   "source": [
    "def correlate3(XS, KS):\n",
    "    \"\"\"handles 1d convolution with batches & multiple kernels (3d)\"\"\"\n",
    "#     print(\"XS:\", XS)\n",
    "#     print(XS.shape)\n",
    "#     print(\"KS:\", KS)\n",
    "#     print(KS.shape)\n",
    "    xshape = XS.shape\n",
    "    kshape = KS.shape\n",
    "    \n",
    "    assert (len(xshape)==3 and len(kshape)==3), \"3d input required\"\n",
    "    assert xshape[1] == kshape[1], \"kernels not spanning input height\"\n",
    "    \n",
    "    return np.array([[correlate2(x, k) for k in KS] for x in XS])\n",
    "\n",
    "# for loop equivalent:\n",
    "#     ys = []\n",
    "#     for x in XS:\n",
    "#         y = []\n",
    "#         for k in KS:\n",
    "#             y.append(convolve2(x, k))\n",
    "#         ys.append(y)\n",
    "#    return ys\n",
    "\n",
    "def convolve3(XS, KS):\n",
    "    return correlate3(XS, np.flip(KS, axis=1))"
   ]
  },
  {
   "cell_type": "code",
   "execution_count": 7,
   "id": "d72b9836-a1c3-4e45-9b4b-a3f18a1b3991",
   "metadata": {},
   "outputs": [
    {
     "name": "stdout",
     "output_type": "stream",
     "text": [
      "XS: [[[ 1  2  3]\n",
      "  [ 0  0  0]]\n",
      "\n",
      " [[-1 -1 -1]\n",
      "  [ 2  3  4]]]\n",
      "(2, 2, 3)\n",
      "KS: [[[1 0]\n",
      "  [0 1]]\n",
      "\n",
      " [[0 0]\n",
      "  [0 0]]]\n",
      "(2, 2, 2)\n"
     ]
    },
    {
     "data": {
      "text/plain": [
       "array([[[1, 2],\n",
       "        [0, 0]],\n",
       "\n",
       "       [[2, 3],\n",
       "        [0, 0]]])"
      ]
     },
     "execution_count": 7,
     "metadata": {},
     "output_type": "execute_result"
    }
   ],
   "source": [
    "correlate3(np.array([[[1,2,3], [0,0,0]], [[-1,-1,-1],[2,3,4]]]), np.array([[[1,0],[0,1]], [[0,0],[0,0]]]))"
   ]
  },
  {
   "cell_type": "code",
   "execution_count": 8,
   "id": "47200ce7-6ba4-461e-b5fc-6f1af1d0b722",
   "metadata": {},
   "outputs": [],
   "source": [
    "# flatten layer:\n",
    "# forward: flatten, save shape\n",
    "# backward: reshape\n",
    "\n",
    "# maxpool\n",
    "# forward: apply max kernel, save position\n",
    "# backward: pass dout directly to saved position?"
   ]
  },
  {
   "cell_type": "code",
   "execution_count": 9,
   "id": "c57fe3cf-8c27-4f71-b0ad-05c62a9dafcf",
   "metadata": {},
   "outputs": [],
   "source": [
    "%load_ext autoreload\n",
    "%autoreload 2\n",
    "\n",
    "import sys\n",
    "import os\n",
    "parent = os.path.dirname(os.path.abspath(''))\n",
    "sys.path.append(parent)\n",
    "\n",
    "from network.layers.layer import Layer"
   ]
  },
  {
   "cell_type": "code",
   "execution_count": 10,
   "id": "5b1a96c5-1463-490a-b823-e9e6ccbf6885",
   "metadata": {},
   "outputs": [],
   "source": [
    "class Flatten_layer(Layer):\n",
    "    \n",
    "    def __init__(self):\n",
    "        self.type = \"flatten\"\n",
    "    \n",
    "    def forward(self, X, param):\n",
    "        self.shape = X.shape\n",
    "        return np.reshape(X, (self.shape[0],-1))\n",
    "    \n",
    "    def backward(self, dout, param):\n",
    "        return dout.reshape(self.shape)"
   ]
  },
  {
   "cell_type": "markdown",
   "id": "fc792cd8-a1e2-4615-bb2c-825c95c3712b",
   "metadata": {},
   "source": [
    "# test"
   ]
  },
  {
   "cell_type": "code",
   "execution_count": 11,
   "id": "9dcd72f4-c804-4e23-9963-b2d7f0483b85",
   "metadata": {},
   "outputs": [],
   "source": [
    "import network"
   ]
  },
  {
   "cell_type": "code",
   "execution_count": 12,
   "id": "5cc85158-0fcd-48f2-afeb-1c4b7822fa6b",
   "metadata": {},
   "outputs": [],
   "source": [
    "X = np.arange(100).reshape(25, 1, 4)\n",
    "y = np.sum(X, axis=2)"
   ]
  },
  {
   "cell_type": "code",
   "execution_count": 233,
   "id": "3cc935f4-815e-45c1-a408-f384daccb5d7",
   "metadata": {},
   "outputs": [],
   "source": [
    "class Conv1d_layer():\n",
    "    \n",
    "    def __init__(self, in_channels, out_channels, kernel_wid, stride=1):\n",
    "        \n",
    "        self.type = 'conv1d'\n",
    "        self.ic = in_channels  # height\n",
    "        self.oc = out_channels  # number of kernels\n",
    "        self.kw = kernel_wid  # width\n",
    "        self.stride = stride\n",
    "        \n",
    "        self.kernels = np.random.randn(self.oc, self.ic, self.kw) / np.sqrt(self.oc/2)  # what is the best initialization for kernels?\n",
    "        # oc is used here since it's analogous to input_nodes in linear layers (i.e., the number of units in a layer)\n",
    "        \n",
    "    def forward(self, X, param):\n",
    "        \n",
    "        self.inputs = X\n",
    "        return correlate3(X, self.kernels)\n",
    "    \n",
    "    def backward(self, douts, param):\n",
    "        \n",
    "        lr = param.get('lr', 1e-5)\n",
    "        clip = param.get('clip', 1.0)\n",
    "        \n",
    "        #print(f\"incoming dout: {dout}\")\n",
    "        \n",
    "        \n",
    "        # calculate dx to pass to next layer\n",
    "        dxs = []\n",
    "        for dy in douts:\n",
    "            dx = [[convolve1(d, row) for row in k] for d, k in zip(dy, self.kernels)]\n",
    "            dx = np.sum(np.array(dx), axis=0)\n",
    "            dxs.append(dx)\n",
    "        \n",
    "        # calculate dw to update\n",
    "        dws = []\n",
    "        for x, dout in zip(self.inputs, douts):\n",
    "            for error in dout:  # each error come from one kernel\n",
    "                dws.append([convolve1(row, error) for row in x])\n",
    "                \n",
    "        dws = np.array(dws)\n",
    "        num = len(self.kernels)  # number of kernels\n",
    "        \n",
    "        # sum all dw to each kernel\n",
    "        dks = []\n",
    "        for i in range(num):\n",
    "            dks.append(np.sum(dws[i::num, :, :], axis=0))\n",
    "        \n",
    "        # update\n",
    "        for i in range(num):\n",
    "            dk = dks[i] * lr\n",
    "            magnitude = np.linalg.norm(dk)\n",
    "            if magnitude > clip:\n",
    "                dk = dk / magnitude * clip\n",
    "            self.kernels[i] -= dk\n",
    "        \n",
    "        return dxs\n",
    "\n",
    "    def print_parameters(self):\n",
    "        pprint(vars(self))"
   ]
  },
  {
   "cell_type": "code",
   "execution_count": 263,
   "id": "f80a3000-466a-4576-a03f-c083c775ea0f",
   "metadata": {},
   "outputs": [],
   "source": [
    "nn = network.NeuralNetwork([\n",
    "                            Conv1d_layer(1, 2, 4),\n",
    "                            Flatten_layer(),\n",
    "                            network.Linear_layer(2, 1)\n",
    "                            ])\n",
    "param = {\"lr\": 3e-5, 'batch': 8, \"mode\": \"train\", \"eps\": 1e-9, \"beta\":(0.9, 0.999), \n",
    "         \"epoch\": 0, 'optimizer': 'Adam', 't': 1, 'clip': 1.0, 'decay': 0.0}"
   ]
  },
  {
   "cell_type": "code",
   "execution_count": 264,
   "id": "8ada9ab4-9b6b-406e-9c89-cddb74bbc508",
   "metadata": {
    "scrolled": true,
    "tags": []
   },
   "outputs": [
    {
     "name": "stdout",
     "output_type": "stream",
     "text": [
      "--0--\n",
      "{'ic': 1,\n",
      " 'kernels': array([[[-0.16977704,  0.05058232, -0.07279522,  0.82372131]],\n",
      "\n",
      "       [[ 0.3268527 ,  0.89538112,  1.73980184,  0.19081756]]]),\n",
      " 'kw': 4,\n",
      " 'oc': 2,\n",
      " 'stride': 1,\n",
      " 'type': 'conv1d'}\n",
      "--1--\n",
      "Printing flatten layer:\n",
      "{'type': 'flatten'}\n",
      "--2--\n",
      "Printing linear layer:\n",
      "{'bias': 0,\n",
      " 'input_nodes': 2,\n",
      " 'm1': array([[0.],\n",
      "       [0.]]),\n",
      " 'm2': array([[0.],\n",
      "       [0.]]),\n",
      " 'output_nodes': 1,\n",
      " 'type': 'linear',\n",
      " 'weights': array([[ 0.10308278],\n",
      "       [-1.59627314]])}\n"
     ]
    }
   ],
   "source": [
    "nn.print_parameters()"
   ]
  },
  {
   "cell_type": "code",
   "execution_count": 265,
   "id": "805cb5e6-1ab4-4f2f-a90f-20eceb2d6cf4",
   "metadata": {
    "scrolled": true,
    "tags": []
   },
   "outputs": [
    {
     "name": "stdout",
     "output_type": "stream",
     "text": [
      "Average loss = 264254.543972.\n",
      "Average loss = 258074.008383.\n",
      "Average loss = 249561.341142.\n",
      "Average loss = 246268.871193.\n",
      "Average loss = 240123.635979.\n",
      "Average loss = 230581.350790.\n",
      "Average loss = 233587.367978.\n",
      "Average loss = 227475.004720.\n",
      "Average loss = 220174.459633.\n",
      "Average loss = 215923.567425.\n",
      "Average loss = 211339.501807.\n",
      "Average loss = 206618.010331.\n",
      "Average loss = 198591.916620.\n",
      "Average loss = 197717.440710.\n",
      "Average loss = 188047.047302.\n",
      "Average loss = 186929.295350.\n",
      "Average loss = 181713.461707.\n",
      "Average loss = 175563.604734.\n",
      "Average loss = 173063.626607.\n",
      "Average loss = 167418.346260.\n",
      "Average loss = 163380.025420.\n",
      "Average loss = 156899.075359.\n",
      "Average loss = 155106.187291.\n",
      "Average loss = 148649.243476.\n",
      "Average loss = 145349.576825.\n",
      "Average loss = 142252.744909.\n",
      "Average loss = 137365.356750.\n",
      "Average loss = 134010.731401.\n",
      "Average loss = 128903.991324.\n",
      "Average loss = 126277.154866.\n",
      "Average loss = 121123.563712.\n",
      "Average loss = 118084.409857.\n",
      "Average loss = 115074.971005.\n",
      "Average loss = 109204.625533.\n",
      "Average loss = 107129.190512.\n",
      "Average loss = 104653.890310.\n",
      "Average loss = 100065.115546.\n",
      "Average loss = 95646.614370.\n",
      "Average loss = 93957.925188.\n",
      "Average loss = 89896.837893.\n",
      "Average loss = 86523.208996.\n",
      "Average loss = 85009.530046.\n",
      "Average loss = 80141.650485.\n",
      "Average loss = 78476.868480.\n",
      "Average loss = 75029.378893.\n",
      "Average loss = 71769.656041.\n",
      "Average loss = 69315.755860.\n",
      "Average loss = 66514.542440.\n",
      "Average loss = 65206.434646.\n",
      "Average loss = 61226.434587.\n",
      "Average loss = 57886.251773.\n",
      "Average loss = 55519.217376.\n",
      "Average loss = 51989.198244.\n",
      "Average loss = 50338.145110.\n",
      "Average loss = 48569.933842.\n",
      "Average loss = 45443.850132.\n",
      "Average loss = 43901.907747.\n",
      "Average loss = 41236.086124.\n",
      "Average loss = 38827.607193.\n",
      "Average loss = 37059.071815.\n",
      "Average loss = 34936.050218.\n",
      "Average loss = 32785.775918.\n",
      "Average loss = 31291.276433.\n",
      "Average loss = 29040.154932.\n",
      "Average loss = 27479.475407.\n",
      "Average loss = 25363.259687.\n",
      "Average loss = 23996.927892.\n",
      "Average loss = 21957.680015.\n",
      "Average loss = 20556.549159.\n",
      "Average loss = 19278.604049.\n",
      "Average loss = 17788.284707.\n",
      "Average loss = 16379.686190.\n",
      "Average loss = 15037.129799.\n",
      "Average loss = 13658.363160.\n",
      "Average loss = 12357.602433.\n",
      "Average loss = 11357.855986.\n",
      "Average loss = 10128.368560.\n",
      "Average loss = 9009.217382.\n",
      "Average loss = 7965.322670.\n",
      "Average loss = 7061.938452.\n",
      "Average loss = 6249.348972.\n",
      "Average loss = 5409.641972.\n",
      "Average loss = 4592.052122.\n",
      "Average loss = 3903.113896.\n",
      "Average loss = 3264.671900.\n",
      "Average loss = 2636.908841.\n",
      "Average loss = 2149.706333.\n",
      "Average loss = 1660.069359.\n",
      "Average loss = 1253.021849.\n",
      "Average loss = 913.421139.\n",
      "Average loss = 614.941765.\n",
      "Average loss = 373.018119.\n",
      "Average loss = 192.991111.\n",
      "Average loss = 71.681288.\n",
      "Average loss = 10.437076.\n",
      "Average loss = 0.013680.\n",
      "Average loss = 0.000120.\n",
      "Average loss = 0.000084.\n",
      "Average loss = 0.000070.\n",
      "Average loss = 0.000074.\n",
      "Average loss = 0.000073.\n",
      "Average loss = 0.000068.\n",
      "Average loss = 0.000066.\n",
      "Average loss = 0.000066.\n",
      "Average loss = 0.000083.\n",
      "Average loss = 0.000062.\n",
      "Average loss = 0.000071.\n",
      "Average loss = 0.000096.\n",
      "Average loss = 0.000064.\n",
      "Average loss = 0.000065.\n",
      "Average loss = 0.000071.\n",
      "Average loss = 0.000074.\n",
      "Average loss = 0.000065.\n",
      "Average loss = 0.000072.\n",
      "Average loss = 0.000075.\n",
      "Average loss = 0.000066.\n",
      "Average loss = 0.000068.\n",
      "Average loss = 0.000075.\n",
      "Average loss = 0.000067.\n",
      "Average loss = 0.000073.\n",
      "Average loss = 0.000064.\n",
      "Average loss = 0.000067.\n",
      "Average loss = 0.000066.\n",
      "Average loss = 0.000067.\n",
      "Average loss = 0.000066.\n",
      "Average loss = 0.000073.\n",
      "Average loss = 0.000068.\n",
      "Average loss = 0.000066.\n",
      "Average loss = 0.000063.\n",
      "Average loss = 0.000066.\n",
      "Average loss = 0.000065.\n",
      "Average loss = 0.000065.\n",
      "Average loss = 0.000069.\n",
      "Average loss = 0.000068.\n",
      "Average loss = 0.000066.\n",
      "Average loss = 0.000067.\n",
      "Average loss = 0.000066.\n",
      "Average loss = 0.000064.\n",
      "Average loss = 0.000064.\n",
      "Average loss = 0.000073.\n",
      "Average loss = 0.000061.\n",
      "Average loss = 0.000069.\n",
      "Average loss = 0.000065.\n",
      "Average loss = 0.000066.\n",
      "Average loss = 0.000066.\n",
      "Average loss = 0.000063.\n",
      "Average loss = 0.000068.\n",
      "Average loss = 0.000064.\n",
      "Average loss = 0.000066.\n",
      "Average loss = 0.000064.\n",
      "Average loss = 0.000063.\n",
      "Average loss = 0.000064.\n",
      "Average loss = 0.000065.\n",
      "Average loss = 0.000065.\n",
      "Average loss = 0.000071.\n",
      "Average loss = 0.000063.\n",
      "Average loss = 0.000068.\n",
      "Average loss = 0.000072.\n",
      "Average loss = 0.000062.\n",
      "Average loss = 0.000066.\n",
      "Average loss = 0.000063.\n",
      "Average loss = 0.000065.\n",
      "Average loss = 0.000064.\n",
      "Average loss = 0.000063.\n",
      "Average loss = 0.000061.\n",
      "Average loss = 0.000062.\n",
      "Average loss = 0.000065.\n",
      "Average loss = 0.000063.\n",
      "Average loss = 0.000062.\n",
      "Average loss = 0.000062.\n",
      "Average loss = 0.000062.\n",
      "Average loss = 0.000061.\n",
      "Average loss = 0.000064.\n",
      "Average loss = 0.000065.\n",
      "Average loss = 0.000066.\n",
      "Average loss = 0.000062.\n",
      "Average loss = 0.000068.\n",
      "Average loss = 0.000062.\n",
      "Average loss = 0.000064.\n",
      "Average loss = 0.000068.\n",
      "Average loss = 0.000064.\n",
      "Average loss = 0.000065.\n",
      "Average loss = 0.000061.\n",
      "Average loss = 0.000064.\n",
      "Average loss = 0.000067.\n",
      "Average loss = 0.000061.\n",
      "Average loss = 0.000067.\n",
      "Average loss = 0.000060.\n",
      "Average loss = 0.000061.\n",
      "Average loss = 0.000062.\n",
      "Average loss = 0.000062.\n",
      "Average loss = 0.000063.\n",
      "Average loss = 0.000064.\n",
      "Average loss = 0.000068.\n",
      "Average loss = 0.000064.\n",
      "Average loss = 0.000063.\n",
      "Average loss = 0.000061.\n",
      "Average loss = 0.000084.\n",
      "Average loss = 0.000060.\n",
      "Average loss = 0.000068.\n"
     ]
    }
   ],
   "source": [
    "for _ in range(200):\n",
    "    nn.train(X, y, param, loss_func='mse')"
   ]
  },
  {
   "cell_type": "code",
   "execution_count": 266,
   "id": "bff5b461-5a49-4627-ace5-3bd4ecfefe6c",
   "metadata": {
    "scrolled": true,
    "tags": []
   },
   "outputs": [
    {
     "name": "stdout",
     "output_type": "stream",
     "text": [
      "--0--\n",
      "{'ic': 1,\n",
      " 'inputs': array([[[88, 89, 90, 91]],\n",
      "\n",
      "       [[28, 29, 30, 31]],\n",
      "\n",
      "       [[80, 81, 82, 83]],\n",
      "\n",
      "       [[64, 65, 66, 67]],\n",
      "\n",
      "       [[20, 21, 22, 23]],\n",
      "\n",
      "       [[68, 69, 70, 71]],\n",
      "\n",
      "       [[ 4,  5,  6,  7]],\n",
      "\n",
      "       [[12, 13, 14, 15]]]),\n",
      " 'kernels': array([[[-0.07766144,  0.1441434 ,  0.02221136,  0.92017338]],\n",
      "\n",
      "       [[-1.03809431, -0.490981  ,  0.33202462, -1.23837478]]]),\n",
      " 'kw': 4,\n",
      " 'oc': 2,\n",
      " 'stride': 1,\n",
      " 'type': 'conv1d'}\n",
      "--1--\n",
      "Printing flatten layer:\n",
      "{'shape': (8, 2, 1), 'type': 'flatten'}\n",
      "--2--\n",
      "Printing linear layer:\n",
      "{'bias': 0,\n",
      " 'input': array([[  91.72918201, -217.85703026],\n",
      "       [  31.19729648,  -71.73315496],\n",
      "       [  83.65826394, -198.37384688],\n",
      "       [  67.5164278 , -159.40748014],\n",
      "       [  23.12637841,  -52.24997158],\n",
      "       [  71.55188683, -169.14907182],\n",
      "       [   6.98454227,  -13.28360484],\n",
      "       [  15.05546034,  -32.76678821]]),\n",
      " 'input_nodes': 2,\n",
      " 'm1': array([[-0.00566196],\n",
      "       [-0.00111646]]),\n",
      " 'm2': array([[ 3599.6211919 ],\n",
      "       [13042.57902568]]),\n",
      " 'output': array([[358.00101196],\n",
      "       [117.98998764],\n",
      "       [325.99954205],\n",
      "       [261.99660223],\n",
      "       [ 85.98851773],\n",
      "       [277.99733718],\n",
      "       [ 21.98557791],\n",
      "       [ 53.98704782]]),\n",
      " 'output_nodes': 1,\n",
      " 'type': 'linear',\n",
      " 'weights': array([[ 0.11271699],\n",
      "       [-1.59582445]])}\n"
     ]
    }
   ],
   "source": [
    "nn.print_parameters()"
   ]
  },
  {
   "cell_type": "code",
   "execution_count": 267,
   "id": "591e994f-f316-49d9-8183-5a983fe3a6ad",
   "metadata": {
    "scrolled": true,
    "tags": []
   },
   "outputs": [
    {
     "data": {
      "image/png": "[encoded data removed]",
      "text/plain": [
       "<Figure size 800x640 with 1 Axes>"
      ]
     },
     "metadata": {
      "needs_background": "light"
     },
     "output_type": "display_data"
    }
   ],
   "source": [
    "nn.plot_loss()"
   ]
  },
  {
   "cell_type": "markdown",
   "id": "54e17a0e-57e2-46a3-8e6d-6d2a7362cdd4",
   "metadata": {},
   "source": [
    "# dy/dweight"
   ]
  },
  {
   "cell_type": "code",
   "execution_count": 2,
   "id": "c385e72f-dc47-4502-b4ca-e14d82ad0a27",
   "metadata": {},
   "outputs": [
    {
     "data": {
      "text/plain": [
       "'The derivative of a convolution is the convolution with its kernel FLIPPED'"
      ]
     },
     "execution_count": 2,
     "metadata": {},
     "output_type": "execute_result"
    }
   ],
   "source": [
    "# backprop mathematically:\n",
    "# note the * means convolve, not multiply\n",
    "\n",
    "# dOut/dx = dOut/dy * (flip w)\n",
    "\"\"\"The derivative of a convolution is the convolution with its kernel FLIPPED\"\"\"\n",
    "\n",
    "# dOut/dW = dOut/dy * (flip x)\n",
    "\n",
    "# dOut/db = dOut/dy I guess?"
   ]
  },
  {
   "cell_type": "code",
   "execution_count": null,
   "id": "8ffe8543-41a7-496f-a16a-37f22daf1518",
   "metadata": {},
   "outputs": [],
   "source": [
    "# shape = shape of kernels"
   ]
  },
  {
   "cell_type": "code",
   "execution_count": 44,
   "id": "03575ea2-db99-41e0-b32e-4896f9458933",
   "metadata": {},
   "outputs": [],
   "source": [
    "inputs = np.array([[[1,2,3,4],[1,1,1,1]],[[2,2,3,4],[2,2,2,2]], [[3,2,3,4],[3,3,3,3]]])"
   ]
  },
  {
   "cell_type": "code",
   "execution_count": 45,
   "id": "ce5cc00d-f0f4-4f21-b40b-80134add8ba7",
   "metadata": {},
   "outputs": [],
   "source": [
    "douts = np.array([[[1,1],[2,2]], [[-1,-1],[-2,-2]], [[10,10],[20,20]]])"
   ]
  },
  {
   "cell_type": "code",
   "execution_count": 55,
   "id": "24e1e5f3-ba17-4533-894a-15d458ec6933",
   "metadata": {},
   "outputs": [
    {
     "name": "stdout",
     "output_type": "stream",
     "text": [
      "[1 2 3 4] [1 1]\n",
      "[1 1 1 1] [1 1]\n",
      "[1 2 3 4] [2 2]\n",
      "[1 1 1 1] [2 2]\n",
      "[2 2 3 4] [-1 -1]\n",
      "[2 2 2 2] [-1 -1]\n",
      "[2 2 3 4] [-2 -2]\n",
      "[2 2 2 2] [-2 -2]\n",
      "[3 2 3 4] [10 10]\n",
      "[3 3 3 3] [10 10]\n",
      "[3 2 3 4] [20 20]\n",
      "[3 3 3 3] [20 20]\n"
     ]
    }
   ],
   "source": [
    "num_kernel = douts.shape[1]\n",
    "\n",
    "dws = []\n",
    "for x, dout in zip(inputs, douts):\n",
    "    for error in dout:  # each dout come from one kernel\n",
    "        dw = []\n",
    "        for row in x:\n",
    "            print(row, error)\n",
    "            dw.append(convolve1(row, error))\n",
    "        # partial weight update for one kernel\n",
    "        \n",
    "        dws.append(np.array(dw))"
   ]
  },
  {
   "cell_type": "code",
   "execution_count": 62,
   "id": "e4e55119-cb15-4826-a7b2-c66c50359354",
   "metadata": {},
   "outputs": [
    {
     "name": "stdout",
     "output_type": "stream",
     "text": [
      "[[[  3.   5.   7.]\n",
      "  [  2.   2.   2.]]\n",
      "\n",
      " [[  6.  10.  14.]\n",
      "  [  4.   4.   4.]]\n",
      "\n",
      " [[ -4.  -5.  -7.]\n",
      "  [ -4.  -4.  -4.]]\n",
      "\n",
      " [[ -8. -10. -14.]\n",
      "  [ -8.  -8.  -8.]]\n",
      "\n",
      " [[ 50.  50.  70.]\n",
      "  [ 60.  60.  60.]]\n",
      "\n",
      " [[100. 100. 140.]\n",
      "  [120. 120. 120.]]]\n"
     ]
    }
   ],
   "source": [
    "dws = np.array(dws)\n",
    "print(dws)\n",
    "# dw in the form\n",
    "# dw for k1\n",
    "# dw for k2\n",
    "# dw for k1\n",
    "# ..."
   ]
  },
  {
   "cell_type": "code",
   "execution_count": 66,
   "id": "ac3f4fed-ab0a-46a9-b8c9-9716c3a34623",
   "metadata": {},
   "outputs": [
    {
     "name": "stdout",
     "output_type": "stream",
     "text": [
      "[[49. 50. 70.]\n",
      " [58. 58. 58.]]\n",
      "[[ 98. 100. 140.]\n",
      " [116. 116. 116.]]\n"
     ]
    }
   ],
   "source": [
    "# sum to each kernel\n",
    "# dks = \n",
    "for i in range(num_kernel):\n",
    "    print(np.sum(dws[i::num_kernel, :, :], axis=0))\n",
    "\n",
    "    \n",
    "# for i in range(len(dks)):\n",
    "#     self.kernels[i] += dks[i]"
   ]
  },
  {
   "cell_type": "markdown",
   "id": "bde49a53-baa8-4595-b354-f2372fb97b3b",
   "metadata": {},
   "source": [
    "# dy/dx"
   ]
  },
  {
   "cell_type": "code",
   "execution_count": null,
   "id": "f5219872-9dd1-4777-aaa8-efebd173f313",
   "metadata": {},
   "outputs": [],
   "source": [
    "# shape = inputs shape"
   ]
  },
  {
   "cell_type": "code",
   "execution_count": 107,
   "id": "25dcfa74-3622-45e8-88ab-1c4760014b2c",
   "metadata": {},
   "outputs": [
    {
     "name": "stdout",
     "output_type": "stream",
     "text": [
      "inputs: [[[1 1 1 1]\n",
      "  [2 2 2 2]]\n",
      "\n",
      " [[3 3 3 3]\n",
      "  [4 4 4 4]]]\n",
      "kernels: [[[0 1]\n",
      "  [1 0]]\n",
      "\n",
      " [[2 2]\n",
      "  [2 2]]]\n"
     ]
    },
    {
     "data": {
      "text/plain": [
       "array([[[ 3,  3,  3],\n",
       "        [12, 12, 12]],\n",
       "\n",
       "       [[ 7,  7,  7],\n",
       "        [28, 28, 28]]])"
      ]
     },
     "execution_count": 107,
     "metadata": {},
     "output_type": "execute_result"
    }
   ],
   "source": [
    "inputs = np.array([[[1,1,1,1],[2,2,2,2]],[[3,3,3,3],[4,4,4,4]]])\n",
    "print(\"inputs:\", inputs)\n",
    "kernels = np.array([[[0,1],[1,0]], [[2,2],[2,2]]])\n",
    "print(\"kernels:\", kernels)\n",
    "convolve3(inputs, kernels)"
   ]
  },
  {
   "cell_type": "code",
   "execution_count": 116,
   "id": "8953ca09-ffd5-4f41-8b36-704bd17bd072",
   "metadata": {},
   "outputs": [
    {
     "data": {
      "text/plain": [
       "array([[[ 1,  1,  1],\n",
       "        [ 2,  2,  2]],\n",
       "\n",
       "       [[-1, -1, -1],\n",
       "        [-2, -2, -2]]])"
      ]
     },
     "execution_count": 116,
     "metadata": {},
     "output_type": "execute_result"
    }
   ],
   "source": [
    "douts = np.array([[[1,1,1],[2,2,2]],[[-1,-1,-1],[-2,-2,-2]]])\n",
    "douts"
   ]
  },
  {
   "cell_type": "code",
   "execution_count": 138,
   "id": "ed1c176f-83bf-4659-b3a6-4cd0aadf7cb3",
   "metadata": {},
   "outputs": [
    {
     "data": {
      "text/plain": [
       "array([[[ 0,  1,  1,  1,  0],\n",
       "        [ 0,  2,  2,  2,  0]],\n",
       "\n",
       "       [[ 0, -1, -1, -1,  0],\n",
       "        [ 0, -2, -2, -2,  0]]])"
      ]
     },
     "execution_count": 138,
     "metadata": {},
     "output_type": "execute_result"
    }
   ],
   "source": [
    "# zero padding\n",
    "douts = np.pad(douts, 1)[1:-1, 1:-1, :]\n",
    "douts"
   ]
  },
  {
   "cell_type": "code",
   "execution_count": 156,
   "id": "ccdc02ed-c929-41d5-849a-2083b13bb5da",
   "metadata": {},
   "outputs": [],
   "source": [
    "# full loop\n",
    "\n",
    "dxs = []\n",
    "for dy in douts:  # -> each y (2d)\n",
    "    \n",
    "    x0 = []  # stores partial dx\n",
    "    for d, k in zip(dy, kernels):  # -> each kernel (2d) and corresponding dy (1d)\n",
    "        \n",
    "        x1 = []  # stores rows of the partial dx\n",
    "        for row in k:  # -> each row in the kernel (1d)\n",
    "            x1.append(convolve1(d, row))\n",
    "        \n",
    "        x0.append(x1)  # concat the rows & add to x0\n",
    "    \n",
    "    # sum the result from all kernels\n",
    "    x0 = np.sum(np.array(x0), axis=0)\n",
    "    \n",
    "    dxs.append(x0)\n",
    "    # jump to next x (dout)"
   ]
  },
  {
   "cell_type": "code",
   "execution_count": 157,
   "id": "26fe8967-0d39-460c-a875-a4cfb7188cec",
   "metadata": {},
   "outputs": [
    {
     "data": {
      "text/plain": [
       "[array([[4., 9., 9., 5.],\n",
       "        [5., 9., 9., 4.]]),\n",
       " array([[-4., -9., -9., -5.],\n",
       "        [-5., -9., -9., -4.]])]"
      ]
     },
     "execution_count": 157,
     "metadata": {},
     "output_type": "execute_result"
    }
   ],
   "source": [
    "dxs"
   ]
  },
  {
   "cell_type": "code",
   "execution_count": 158,
   "id": "3a669d99-c98e-47e2-bb97-b9863e86a60a",
   "metadata": {},
   "outputs": [],
   "source": [
    "dxs = []\n",
    "for dy in douts:\n",
    "    dx = [[convolve1(d, row) for row in k] for d, k in zip(dy, kernels)]\n",
    "    dx = np.sum(np.array(dx), axis=0)\n",
    "    dxs.append(dx)"
   ]
  },
  {
   "cell_type": "code",
   "execution_count": 159,
   "id": "887ca912-1b4e-42fb-ab85-d53fb262c085",
   "metadata": {},
   "outputs": [
    {
     "data": {
      "text/plain": [
       "[array([[-4., -9., -9., -5.],\n",
       "        [-5., -9., -9., -4.]]),\n",
       " array([[-4., -9., -9., -5.],\n",
       "        [-5., -9., -9., -4.]])]"
      ]
     },
     "execution_count": 159,
     "metadata": {},
     "output_type": "execute_result"
    }
   ],
   "source": [
    "dxs"
   ]
  },
  {
   "cell_type": "code",
   "execution_count": 160,
   "id": "f4026f13-0ea5-4742-847a-be6d59f042f0",
   "metadata": {},
   "outputs": [
    {
     "data": {
      "text/plain": [
       "array([[[-4., -9., -9., -5.],\n",
       "        [-5., -9., -9., -4.]],\n",
       "\n",
       "       [[-4., -9., -9., -5.],\n",
       "        [-5., -9., -9., -4.]]])"
      ]
     },
     "execution_count": 160,
     "metadata": {},
     "output_type": "execute_result"
    }
   ],
   "source": [
    "np.array(dxs)"
   ]
  },
  {
   "cell_type": "code",
   "execution_count": 161,
   "id": "b689365d-ce96-4f1e-9a1a-778b10236f06",
   "metadata": {},
   "outputs": [
    {
     "data": {
      "text/plain": [
       "array([[[1, 1, 1, 1],\n",
       "        [2, 2, 2, 2]],\n",
       "\n",
       "       [[3, 3, 3, 3],\n",
       "        [4, 4, 4, 4]]])"
      ]
     },
     "execution_count": 161,
     "metadata": {},
     "output_type": "execute_result"
    }
   ],
   "source": [
    "inputs"
   ]
  },
  {
   "cell_type": "code",
   "execution_count": null,
   "id": "dda9ee6e-5462-4da3-bd66-e75d4af994e7",
   "metadata": {},
   "outputs": [],
   "source": []
  }
 ],
 "metadata": {
  "kernelspec": {
   "display_name": "Python 3 (ipykernel)",
   "language": "python",
   "name": "python3"
  },
  "language_info": {
   "codemirror_mode": {
    "name": "ipython",
    "version": 3
   },
   "file_extension": ".py",
   "mimetype": "text/x-python",
   "name": "python",
   "nbconvert_exporter": "python",
   "pygments_lexer": "ipython3",
   "version": "3.8.10"
  }
 },
 "nbformat": 4,
 "nbformat_minor": 5
}
