{
 "cells": [
  {
   "cell_type": "code",
   "execution_count": null,
   "id": "0a12f7fb-e239-4277-9e8e-f461015c063d",
   "metadata": {},
   "outputs": [],
   "source": [
    "\"\"\"some notes in optimizing activation functions\"\"\""
   ]
  },
  {
   "cell_type": "code",
   "execution_count": 1,
   "id": "southeast-belarus",
   "metadata": {},
   "outputs": [],
   "source": [
    "from functions import *\n",
    "\n",
    "import numpy as np\n",
    "import scipy.special"
   ]
  },
  {
   "cell_type": "code",
   "execution_count": 8,
   "id": "focused-victoria",
   "metadata": {},
   "outputs": [
    {
     "name": "stdout",
     "output_type": "stream",
     "text": [
      "[[-4 -3 -2]\n",
      " [-1  0  1]\n",
      " [ 2  3  4]]\n",
      "[[-5000 -4999 -4998 ... -4903 -4902 -4901]\n",
      " [-4900 -4899 -4898 ... -4803 -4802 -4801]\n",
      " [-4800 -4799 -4798 ... -4703 -4702 -4701]\n",
      " ...\n",
      " [ 4700  4701  4702 ...  4797  4798  4799]\n",
      " [ 4800  4801  4802 ...  4897  4898  4899]\n",
      " [ 4900  4901  4902 ...  4997  4998  4999]]\n"
     ]
    }
   ],
   "source": [
    "small = np.arange(9).reshape(3,3) - 4\n",
    "print(small)\n",
    "large = np.arange(10000).reshape(100,100)-5000\n",
    "print(large)"
   ]
  },
  {
   "cell_type": "code",
   "execution_count": 9,
   "id": "leading-disney",
   "metadata": {},
   "outputs": [],
   "source": [
    "# relu, leaky relu, elu, tanh, softmax\n",
    "\n",
    "# forward: x -> y\n",
    "# backward: x -> y -> dy -> dx"
   ]
  },
  {
   "cell_type": "code",
   "execution_count": 10,
   "id": "miniature-freight",
   "metadata": {},
   "outputs": [],
   "source": [
    "relu = lambda x: x * (x>=0)\n",
    "relu_ = lambda x, y, dy: dy * (x>=0).astype(int)\n",
    "\n",
    "relu2 = np.vectorize(lambda x: x if x>=0 else 0)\n",
    "relu2_ = np.vectorize(lambda x, y, dy: dy if x>=0 else 0)\n",
    "\n",
    "relu3 = lambda x: np.maximum(x, 0.0)"
   ]
  },
  {
   "cell_type": "code",
   "execution_count": 30,
   "id": "south-rabbit",
   "metadata": {},
   "outputs": [
    {
     "name": "stdout",
     "output_type": "stream",
     "text": [
      "26.4 µs ± 3.17 µs per loop (mean ± std. dev. of 7 runs, 10000 loops each)\n",
      "1.23 ms ± 43.6 µs per loop (mean ± std. dev. of 7 runs, 1000 loops each)\n",
      "30.4 µs ± 751 ns per loop (mean ± std. dev. of 7 runs, 10000 loops each)\n"
     ]
    }
   ],
   "source": [
    "%timeit relu(large)\n",
    "%timeit relu2(large)\n",
    "%timeit relu3(large)"
   ]
  },
  {
   "cell_type": "code",
   "execution_count": 31,
   "id": "endless-computer",
   "metadata": {},
   "outputs": [
    {
     "name": "stdout",
     "output_type": "stream",
     "text": [
      "22.3 µs ± 909 ns per loop (mean ± std. dev. of 7 runs, 10000 loops each)\n",
      "1.9 ms ± 54.1 µs per loop (mean ± std. dev. of 7 runs, 1000 loops each)\n"
     ]
    }
   ],
   "source": [
    "%timeit relu_(large, large, large)\n",
    "%timeit relu2_(large, large, large)"
   ]
  },
  {
   "cell_type": "code",
   "execution_count": null,
   "id": "dramatic-power",
   "metadata": {},
   "outputs": [],
   "source": [
    "lrelu = lambda x, alpha=0.001: np.maximum(x, alpha*x)\n",
    "lrelu_ = lambda x, y, dy, alpha=0.001: dy * ((x<0)*alpha + 1-alpha)"
   ]
  },
  {
   "cell_type": "code",
   "execution_count": null,
   "id": "tracked-basic",
   "metadata": {},
   "outputs": [],
   "source": [
    "# efficiency: vectorize < built-in < basic operators\n",
    "# but use vectorize to avoid exponential on entire array"
   ]
  },
  {
   "cell_type": "code",
   "execution_count": null,
   "id": "alpha-boutique",
   "metadata": {},
   "outputs": [],
   "source": [
    "elu = np.vectorize(lambda x, alpha=1.0: x if x >= 0 else alpha*(exp(x)-1.0))\n",
    "elu_ = np.vectorize(lambda x, y, dy, alpha=1.0: dy if x >= 0 else exp(x)*dy)"
   ]
  },
  {
   "cell_type": "code",
   "execution_count": null,
   "id": "color-clothing",
   "metadata": {},
   "outputs": [],
   "source": [
    "def single_elu(x, alpha=1.0):\n",
    "    return x if x>=0 else alpha*(exp(x)-1.0)\n",
    "\n",
    "def single_elu_(x, y, dy, alpha=1.0):\n",
    "    return dy if y>0 else exp(x)*dy\n",
    "\n",
    "elu  = np.vectorize(single_elu)\n",
    "elu_ = np.vectorize(single_elu_)"
   ]
  },
  {
   "cell_type": "code",
   "execution_count": null,
   "id": "anticipated-agency",
   "metadata": {},
   "outputs": [],
   "source": [
    "tanh = lambda x: np.tanh(x)\n",
    "sech = lambda x: 1 / np.cosh(x)"
   ]
  },
  {
   "cell_type": "code",
   "execution_count": 38,
   "id": "favorite-subcommittee",
   "metadata": {},
   "outputs": [
    {
     "name": "stdout",
     "output_type": "stream",
     "text": [
      "507 µs ± 2.22 µs per loop (mean ± std. dev. of 7 runs, 1000 loops each)\n"
     ]
    }
   ],
   "source": [
    "%timeit np.dot(large, large)"
   ]
  },
  {
   "cell_type": "code",
   "execution_count": null,
   "id": "favorite-richards",
   "metadata": {},
   "outputs": [],
   "source": [
    "softmax"
   ]
  }
 ],
 "metadata": {
  "kernelspec": {
   "display_name": "Python 3 (ipykernel)",
   "language": "python",
   "name": "python3"
  },
  "language_info": {
   "codemirror_mode": {
    "name": "ipython",
    "version": 3
   },
   "file_extension": ".py",
   "mimetype": "text/x-python",
   "name": "python",
   "nbconvert_exporter": "python",
   "pygments_lexer": "ipython3",
   "version": "3.8.10"
  }
 },
 "nbformat": 4,
 "nbformat_minor": 5
}
