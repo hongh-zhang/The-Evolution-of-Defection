{
 "cells": [
  {
   "cell_type": "code",
   "execution_count": 1,
   "id": "abf5587c-e92b-47dc-991c-b58d944046c9",
   "metadata": {},
   "outputs": [],
   "source": [
    "# a notebook for verifying DQN implementation\n",
    "# + investigate how (well) it learns\n",
    "\n",
    "# remember to install the Axelrod library before running the following code\n",
    "# also, have a look on network.ipynb first"
   ]
  },
  {
   "cell_type": "code",
   "execution_count": 2,
   "id": "amazing-electricity",
   "metadata": {},
   "outputs": [],
   "source": [
    "%load_ext autoreload\n",
    "%autoreload 2\n",
    "\n",
    "import gc\n",
    "import numpy as np\n",
    "import axelrod as axl  # https://axelrod.readthedocs.io/en/stable/index.html\n",
    "from time import time\n",
    "from pprint import pprint\n",
    "import matplotlib.pyplot as plt\n",
    "\n",
    "np.set_printoptions(precision=3)\n",
    "\n",
    "# the following imports are from network / axl_utils folder\n",
    "import network\n",
    "from axl_utils import NNplayer, State, set_match, set_play"
   ]
  },
  {
   "cell_type": "code",
   "execution_count": 3,
   "id": "phantom-inside",
   "metadata": {},
   "outputs": [],
   "source": [
    "C = axl.Action.C\n",
    "D = axl.Action.D\n",
    "\n",
    "# config game rules\n",
    "# set_match & set_play function could be found inside axl_utils/game.py\n",
    "GAME_LEN = 20\n",
    "GAME = axl.Game(r=3, s=0, t=5, p=1)\n",
    "Match = set_match(game=GAME, turns=GAME_LEN)\n",
    "play = set_play(Match)"
   ]
  },
  {
   "cell_type": "code",
   "execution_count": 4,
   "id": "celtic-danish",
   "metadata": {},
   "outputs": [
    {
     "name": "stdout",
     "output_type": "stream",
     "text": [
      "[(3, 3), (3, 3), (5, 0), (0, 5), (5, 0), (1, 1), (1, 1), (0, 5), (3, 3), (5, 0), (0, 5), (5, 0), (0, 5), (3, 3), (5, 0), (0, 5), (5, 0), (1, 1), (0, 5)]\n",
      "Player 1 score = 45\n",
      "Player 2 score = 45\n"
     ]
    },
    {
     "data": {
      "text/plain": [
       "<axelrod.match.Match at 0x271b7e69f70>"
      ]
     },
     "execution_count": 4,
     "metadata": {},
     "output_type": "execute_result"
    }
   ],
   "source": [
    "# the play function set up match between 2 players, print the result then return the match object\n",
    "game = play(axl.Prober4(), axl.TitForTat())\n",
    "game"
   ]
  },
  {
   "cell_type": "markdown",
   "id": "027fef86-1a2b-4105-80c5-68f47184b1a4",
   "metadata": {},
   "source": [
    "### Section 0: data"
   ]
  },
  {
   "cell_type": "code",
   "execution_count": 5,
   "id": "cd140c92-09ae-489d-b65e-439334887219",
   "metadata": {},
   "outputs": [
    {
     "name": "stdout",
     "output_type": "stream",
     "text": [
      "(1) current state\n",
      "[[[-1 -1 -1 -1 -1 -1 -1 -1 -1 -1 -1 -1 -1 -1 -1 -1 -1 -1 -1 -1]\n",
      "  [-1 -1 -1 -1 -1 -1 -1 -1 -1 -1 -1 -1 -1 -1 -1 -1 -1 -1 -1 -1]]]\n",
      "\n",
      "(2) next state\n",
      "[[[-1.  -1.  -1.  -1.  -1.  -1.  -1.  -1.  -1.  -1.  -1.  -1.  -1.  -1.\n",
      "   -1.  -1.  -1.  -1.  -1.   1. ]\n",
      "  [-1.  -1.  -1.  -1.  -1.  -1.  -1.  -1.  -1.  -1.  -1.  -1.  -1.  -1.\n",
      "   -1.  -1.  -1.  -1.  -1.   0.1]]]\n",
      "\n",
      "(3) Transition\n",
      "Transition(state=array([[[-1, -1, -1, -1, -1, -1, -1, -1, -1, -1, -1, -1, -1, -1, -1, -1,\n",
      "         -1, -1, -1, -1],\n",
      "        [-1, -1, -1, -1, -1, -1, -1, -1, -1, -1, -1, -1, -1, -1, -1, -1,\n",
      "         -1, -1, -1, -1]]]), action=C, next_state=array([[[-1. , -1. , -1. , -1. , -1. , -1. , -1. , -1. , -1. , -1. ,\n",
      "         -1. , -1. , -1. , -1. , -1. , -1. , -1. , -1. , -1. ,  1. ],\n",
      "        [-1. , -1. , -1. , -1. , -1. , -1. , -1. , -1. , -1. , -1. ,\n",
      "         -1. , -1. , -1. , -1. , -1. , -1. , -1. , -1. , -1. ,  0.1]]]), reward=0, done=False)\n",
      "\n",
      "(4) Memory\n",
      "deque([Transition(state=array([[[-1, -1, -1, -1, -1, -1, -1, -1, -1, -1, -1, -1, -1, -1, -1, -1,\n",
      "         -1, -1, -1, -1],\n",
      "        [-1, -1, -1, -1, -1, -1, -1, -1, -1, -1, -1, -1, -1, -1, -1, -1,\n",
      "         -1, -1, -1, -1]]]),\n",
      "action=C, next_state=array([[[-1. , -1. , -1. , -1. , -1. , -1. , -1. , -1. , -1. , -1. ,\n",
      "         -1. , -1. , -1. , -1. , -1. , -1. , -1. , -1. , -1. ,  1. ],\n",
      "        [-1. , -1. , -1. , -1. , -1. , -1. , -1. , -1. , -1. , -1. ,\n",
      "         -1. , -1. , -1. , -1. , -1. , -1. , -1. , -1. , -1. ,  0.1]]]),\n",
      "reward=0, done=False),\n",
      "Transition(state=array([[[-1, -1, -1, -1, -1, -1, -1, -1, -1, -1, -1, -1, -1, -1, -1, -1,\n",
      "         -1, -1, -1, -1],\n",
      "        [-1, -1, -1, -1, -1, -1, -1, -1, -1, -1, -1, -1, -1, -1, -1, -1,\n",
      "         -1, -1, -1, -1]]]),\n",
      "action=C, next_state=array([[[-1. , -1. , -1. , -1. , -1. , -1. , -1. , -1. , -1. , -1. ,\n",
      "         -1. , -1. , -1. , -1. , -1. , -1. , -1. , -1. , -1. ,  1. ],\n",
      "        [-1. , -1. , -1. , -1. , -1. , -1. , -1. , -1. , -1. , -1. ,\n",
      "         -1. , -1. , -1. , -1. , -1. , -1. , -1. , -1. , -1. ,  0.1]]]),\n",
      "reward=0, done=False)], maxlen=2)\n"
     ]
    }
   ],
   "source": [
    "# an brief intro to the data\n",
    "\n",
    "# State class could be found under axl_utils/nnplayer.py\n",
    "# create a state container by\n",
    "state = State(GAME_LEN, C=1, D=0.1, N=-1)\n",
    "# the hyperparameters specify how we encode the environment\n",
    "# '1' represent cooperation\n",
    "# '0.1' represent defection\n",
    "# '-1' means the turn has not happened yet\n",
    "\n",
    "# this created a empty state that looks like this\n",
    "current_state = state.values()\n",
    "print(\"(1) current state\")\n",
    "print(current_state)\n",
    "\n",
    "\n",
    "# assume we have a interaction between players, where we cooperated, and the opponent defected\n",
    "# thus our action = C\n",
    "# reward = 0 from the standard payoff matrix\n",
    "action = C\n",
    "reward = 0\n",
    "# to record this interaction into the state:\n",
    "state.push(C, D)\n",
    "\n",
    "# updated state looks like this\n",
    "next_state = state.values()\n",
    "print(\"\\n(2) next state\")\n",
    "print(next_state)\n",
    "# New interactions are pushed to the *END* of the array\n",
    "# this way the latest interaction is always fixed on the same positioin\n",
    "# I hope this would help our algorithm to learn tit-for-tat\n",
    "\n",
    "\n",
    "# Transition records what occured in the game, for our neural network to learn\n",
    "# a Transition = (current_state, action, next_state, reward)\n",
    "# so the above transition would be\n",
    "from network.dqn import Transition\n",
    "transition = Transition(current_state, action, next_state, reward, False)\n",
    "print(\"\\n(3) Transition\")\n",
    "print(transition)\n",
    "# these form the data in this project\n",
    "\n",
    "\n",
    "# a ReplayMemory is just a container to store the Transitions and feed to our neural network\n",
    "memory = network.ReplayMemory(2)  # <- control the size\n",
    "[memory.push(*transition) for i in '1234'];\n",
    "print(\"\\n(4) Memory\")\n",
    "print(memory)\n",
    "\n",
    "# (check the code in axl_utils/nnplayer.py & network/dqn for details)\n",
    "\n",
    "del memory, transition, Transition, current_state, action, next_state, reward"
   ]
  },
  {
   "cell_type": "markdown",
   "id": "7ae1a802-2d70-47ef-95c1-105aebe6b7cd",
   "metadata": {},
   "source": [
    "### Section 1: DQN"
   ]
  },
  {
   "cell_type": "code",
   "execution_count": 6,
   "id": "sunset-latex",
   "metadata": {},
   "outputs": [],
   "source": [
    "# DQN class is inside network/dqn.py\n",
    "# it defines how the network make decision + how it learns\n",
    "# the implementation are not mentioned in this notebook\n",
    "# please have a look at the .py file directly\n",
    "# I've commented most of them\n",
    "\n",
    "dqn = network.DQN([\n",
    "                    network.Flatten_layer(),\n",
    "                    network.Linear_layer(GAME_LEN*2, 100),\n",
    "                    network.Activation_layer('ReLU'),\n",
    "                    network.Linear_layer(100, 200),\n",
    "                    network.Activation_layer('ReLU'),\n",
    "                    network.Linear_layer(200, 100),\n",
    "                    network.Activation_layer('ReLU'),\n",
    "                    network.Linear_layer(100, 2),\n",
    "                    ],\n",
    "            network.ReplayMemory(2000), gamma=0.9, greedy=0.2)\n",
    "\n",
    "# NNplayer class is inside axl_utils/nnplayer.py\n",
    "# it integrates our DQN with the axl library\n",
    "# to allow it play under axl's environment\n",
    "\n",
    "p1 = NNplayer(dqn, State(GAME_LEN))\n",
    "del dqn\n",
    "gc.collect()\n",
    "\n",
    "param = {\"lr\": 1e-4, 'batch': 64, \"mode\": \"train\", \"eps\": 1e-16, \"epoch\": 0, 't': 1, 'clip': 1.0,\n",
    "         'optimizer': ('Adam', 0.9, 0.999), 'regularizer': None, \"loss_fn\":\"mse\"}"
   ]
  },
  {
   "cell_type": "code",
   "execution_count": 7,
   "id": "e0ff68de-e82a-4b48-b3c5-ee94c93e5021",
   "metadata": {
    "scrolled": true,
    "tags": []
   },
   "outputs": [
    {
     "name": "stdout",
     "output_type": "stream",
     "text": [
      "[[-1.919 -0.854]]\n",
      "[[-1.933 -1.694]]\n",
      "[[-2.171 -1.149]]\n",
      "[[-1.988 -1.308]]\n",
      "[[-1.934 -1.204]]\n",
      "[[-0.998 -0.795]]\n",
      "[[-1.433 -1.369]]\n",
      "[[-1.835 -1.065]]\n",
      "[[-1.983 -1.572]]\n",
      "[[-1.553 -1.389]]\n",
      "[[-1.328 -1.259]]\n",
      "[[-1.523 -0.844]]\n",
      "[[-1.181 -0.978]]\n",
      "[[-1.043 -0.282]]\n",
      "[[-0.608 -0.703]]\n",
      "[[-0.052 -0.034]]\n",
      "[[-0.272 -0.533]]\n",
      "[[-0.306 -0.657]]\n",
      "[[-0.445 -0.518]]\n",
      "[[-0.087 -0.382]]\n"
     ]
    }
   ],
   "source": [
    "# 'with' statement makes my DQN enter test mode\n",
    "# where its episilon-greedy is set to 0 (no random exploration)\n",
    "# + printing our the estimated Q-value\n",
    "\n",
    "with p1:\n",
    "    players = (p1, axl.TitForTat())\n",
    "    game = Match(players)\n",
    "    game.play()\n",
    "    \n",
    "# initial Q_value predictions:"
   ]
  },
  {
   "cell_type": "code",
   "execution_count": 8,
   "id": "b07b1e17-0946-4374-9408-ec08dda8c1bb",
   "metadata": {},
   "outputs": [],
   "source": [
    "# collecting initial experience\n",
    "# high greedy -> more random exploration\n",
    "\n",
    "p1.network.greedy= 0.8\n",
    "for i in range(60):\n",
    "    players = (p1, axl.TitForTat())\n",
    "    game = Match(players)\n",
    "    game.play()\n",
    "p1.network.greedy= 0.2"
   ]
  },
  {
   "cell_type": "code",
   "execution_count": 21,
   "id": "6c178b65-3778-4265-a506-9e248211325f",
   "metadata": {},
   "outputs": [
    {
     "name": "stdout",
     "output_type": "stream",
     "text": [
      "28.35\n",
      "27.95\n",
      "27.50\n",
      "27.00\n",
      "26.44\n",
      "25.82\n",
      "25.14\n",
      "24.37\n",
      "23.53\n",
      "22.59\n",
      "21.54\n",
      "20.38\n",
      "19.09\n",
      "17.65\n",
      "16.06\n",
      "14.29\n",
      "12.32\n",
      "10.13\n",
      "7.70\n",
      "5.00\n"
     ]
    }
   ],
   "source": [
    "# theoritical Q values\n",
    "# assuming the player cooperate til the last turn, then defect\n",
    "# apply annuity formula with cashflow = 3.0, interest rate = 1/9, periods = 20 turns\n",
    "# * the (1/9) come from our hyperparameter gamma, which is set to 0.9 by default\n",
    "# then compensate the defection in 2nd last turn, and hard code the 21st turn to 0.0 (last turn must be 0 for DQN to learn)\n",
    "true_Q = np.array([3.0/(1/9) * (1.0 - 1.0/(1.0+1/9)**(19-i)) + 5.0 for i in range(20)])\n",
    "[print(f'{i:.2f}') for i in true_Q];"
   ]
  },
  {
   "cell_type": "code",
   "execution_count": 10,
   "id": "808f28f2-d526-4f78-b7ee-5fc158c90f8f",
   "metadata": {
    "scrolled": true,
    "tags": []
   },
   "outputs": [
    {
     "name": "stdout",
     "output_type": "stream",
     "text": [
      "loss: [0.284 0.289],            time: +3.63 sec\n",
      "loss: [0.195 0.167],            time: +4.78 sec\n",
      "loss: [0.123 0.106],            time: +4.48 sec\n",
      "loss: [0.08  0.078],            time: +4.94 sec\n",
      "loss: [0.063 0.06 ],            time: +5.03 sec\n",
      "loss: [0.051 0.055],            time: +5.54 sec\n",
      "loss: [0.041 0.042],            time: +12.78 sec\n",
      "loss: [0.028 0.031],            time: +5.39 sec\n",
      "loss: [0.025 0.027],            time: +4.98 sec\n",
      "loss: [0.023 0.025],            time: +4.64 sec\n",
      "loss: [0.024 0.033],            time: +4.40 sec\n",
      "loss: [0.024 0.044],            time: +4.40 sec\n",
      "loss: [0.019 0.027],            time: +4.35 sec\n",
      "loss: [0.017 0.024],            time: +4.29 sec\n",
      "loss: [0.019 0.028],            time: +4.35 sec\n",
      "loss: [0.026 0.03 ],            time: +4.35 sec\n",
      "loss: [0.017 0.026],            time: +4.38 sec\n",
      "loss: [0.014 0.029],            time: +4.36 sec\n",
      "loss: [0.013 0.022],            time: +4.51 sec\n",
      "loss: [0.013 0.018],            time: +4.35 sec\n"
     ]
    }
   ],
   "source": [
    "# training loop\n",
    "\n",
    "score_ls = []\n",
    "errors = []\n",
    "for _ in range(20):\n",
    "    start = time()\n",
    "    \n",
    "    # calling train method bound to NNplayer/DQN class\n",
    "    # detailed documentation are in .py files\n",
    "    p1.train(30, param)\n",
    "    \n",
    "    # collect new experience with the trained network\n",
    "    [Match((p1, axl.TitForTat())).play() for _ in range(10)]\n",
    "    \n",
    "    print(f'loss: {p1.network.loss},            time: +{time()-start:.2f} sec')\n",
    "    \n",
    "    # calculating Q-value error for later use\n",
    "    # a bit tedious here but I'm too lazy to fix\n",
    "    values = []\n",
    "    state = State(GAME_LEN)\n",
    "    for i in range(20):\n",
    "        value = p1.network(state.values())[0]\n",
    "        if i != 19:\n",
    "            values.append(value[0])\n",
    "        else:\n",
    "            values.append(value[1])  # defection on 20th turn\n",
    "        state.push(C, C) \n",
    "    error = true_Q - np.array(values)\n",
    "    errors.append(error)\n",
    "\n",
    "\n",
    "# left: running loss for cooperation\n",
    "# right: running loss for defection"
   ]
  },
  {
   "cell_type": "code",
   "execution_count": 11,
   "id": "46870776-b3e2-4bcd-a08f-c06c96624cca",
   "metadata": {},
   "outputs": [
    {
     "name": "stdout",
     "output_type": "stream",
     "text": [
      "[[26.67  25.998]]\n",
      "[[26.328 25.711]]\n",
      "[[25.849 25.176]]\n",
      "[[25.392 24.678]]\n",
      "[[24.836 24.121]]\n",
      "[[24.245 23.527]]\n",
      "[[23.643 22.894]]\n",
      "[[22.97  22.327]]\n",
      "[[22.118 21.432]]\n",
      "[[21.262 20.577]]\n",
      "[[20.271 19.541]]\n",
      "[[19.301 18.466]]\n",
      "[[18.033 17.314]]\n",
      "[[16.716 16.046]]\n",
      "[[15.205 14.519]]\n",
      "[[13.588 12.941]]\n",
      "[[11.756 11.182]]\n",
      "[[9.694 9.033]]\n",
      "[[7.466 5.881]]\n",
      "[[3.02  5.051]]\n",
      "[(3, 3), (3, 3), (3, 3), (3, 3), (3, 3), (3, 3), (3, 3), (3, 3), (3, 3), (3, 3), (3, 3), (3, 3), (3, 3), (3, 3), (3, 3), (3, 3), (3, 3), (3, 3), (3, 3)]\n",
      "Player 1 score = 57\n",
      "Player 2 score = 57\n"
     ]
    }
   ],
   "source": [
    "with p1:\n",
    "    play(p1, axl.TitForTat())\n",
    "# predicted Q-values after training:\n",
    "\n",
    "# * 21st turn is dropped by my 'play' function\n",
    "# because our DQN cannot learn it\n",
    "# so the following results are for a 20 turn IPD"
   ]
  },
  {
   "cell_type": "code",
   "execution_count": 12,
   "id": "a093cf70-eea9-4400-84b7-8daa6f0ba6b2",
   "metadata": {},
   "outputs": [
    {
     "data": {
      "image/png": "[encoded data removed]",
      "text/plain": [
       "<Figure size 800x640 with 1 Axes>"
      ]
     },
     "metadata": {
      "needs_background": "light"
     },
     "output_type": "display_data"
    }
   ],
   "source": [
    "# training loss\n",
    "# the beauty of double DQN\n",
    "p1.plot()"
   ]
  },
  {
   "cell_type": "code",
   "execution_count": 22,
   "id": "c9a99d06-7b2c-4d10-b023-13c1d7a476f4",
   "metadata": {},
   "outputs": [
    {
     "data": {
      "image/png": "[encoded data removed]",
      "text/plain": [
       "<Figure size 640x480 with 1 Axes>"
      ]
     },
     "metadata": {
      "needs_background": "light"
     },
     "output_type": "display_data"
    }
   ],
   "source": [
    "# visualize how fit our estimated Q-values is compared to theoretical values\n",
    "plt.figure(figsize=(8, 6), dpi=80)\n",
    "plt.plot(range(20), true_Q, '--', c='tab:blue', label='theoritical Q-values')\n",
    "plt.plot(range(20), values, c='tab:red', label='estimated Q-values')\n",
    "plt.xlabel('Turns')\n",
    "plt.ylabel('Q-values')\n",
    "plt.legend(loc='upper right')\n",
    "plt.show()"
   ]
  },
  {
   "cell_type": "code",
   "execution_count": 14,
   "id": "a7772e27-5179-4999-bf0c-c97540442489",
   "metadata": {},
   "outputs": [
    {
     "data": {
      "image/png": "[encoded data removed]",
      "text/plain": [
       "<Figure size 800x640 with 1 Axes>"
      ]
     },
     "metadata": {
      "needs_background": "light"
     },
     "output_type": "display_data"
    }
   ],
   "source": [
    "# visualizing the recursion nature of Bellman's equation,\n",
    "# where the later states has to be learnt prior to learning preceding states\n",
    "\n",
    "# plotting the error between our prediction against the theoritical Q-value\n",
    "errors = np.array(errors)\n",
    "plt.figure(figsize=(10, 8), dpi=80)\n",
    "plt.scatter(range(len(errors)), errors[:,0], c='tab:orange', marker='x', label='1st turn')\n",
    "plt.scatter(range(len(errors)), errors[:,4], c='tab:blue', marker='x', label='5th turn')\n",
    "plt.scatter(range(len(errors)), errors[:,9], c='tab:red', marker='x', label='10th turn')\n",
    "plt.scatter(range(len(errors)), errors[:,14], c='tab:blue', marker='x', label='15th turn')\n",
    "plt.scatter(range(len(errors)), errors[:,19], c='tab:orange', marker='x', label='20th turn')\n",
    "plt.legend(loc='upper right')\n",
    "plt.xlabel('Epochs')\n",
    "plt.ylabel('Q-value Error')\n",
    "plt.show()\n",
    "\n",
    "# due to the recursion\n",
    "# V(current) is dependent on V(next)\n",
    "# meaning that 1st turn will not be correctly learnt until the 2nd got the right value\n",
    "# resulting in the gaps below\n",
    "\n",
    "# this is similar to how tabular Q learning works via dynamic programming"
   ]
  },
  {
   "cell_type": "markdown",
   "id": "c058f015-1b6b-4657-a3aa-bb16bdbd1466",
   "metadata": {},
   "source": [
    "### Section 2: DQN without fixed target (single DQN)"
   ]
  },
  {
   "cell_type": "code",
   "execution_count": 15,
   "id": "4fe1c92a-48c9-4815-9ae5-8480617cc997",
   "metadata": {
    "scrolled": true,
    "tags": []
   },
   "outputs": [
    {
     "name": "stdout",
     "output_type": "stream",
     "text": [
      "loss: [1.473 4.65 ],            time: +0.30 sec\n",
      "loss: [1.843 5.026],            time: +0.32 sec\n",
      "loss: [1.85  4.658],            time: +0.34 sec\n",
      "loss: [1.869 4.381],            time: +0.35 sec\n",
      "loss: [1.815 4.027],            time: +0.37 sec\n",
      "loss: [1.77  3.897],            time: +0.36 sec\n",
      "loss: [1.781 3.23 ],            time: +0.37 sec\n",
      "loss: [1.877 3.114],            time: +0.37 sec\n",
      "loss: [1.873 2.667],            time: +0.39 sec\n",
      "loss: [1.958 2.64 ],            time: +0.37 sec\n",
      "loss: [2.212 2.484],            time: +0.37 sec\n",
      "loss: [2.415 2.65 ],            time: +0.37 sec\n",
      "loss: [2.733 2.82 ],            time: +0.36 sec\n",
      "loss: [3.122 2.986],            time: +0.40 sec\n",
      "loss: [3.392 3.189],            time: +0.45 sec\n",
      "loss: [3.743 3.647],            time: +0.38 sec\n",
      "loss: [4.206 4.038],            time: +0.47 sec\n",
      "loss: [4.835 4.718],            time: +0.48 sec\n",
      "loss: [5.21  5.667],            time: +0.39 sec\n",
      "loss: [6.193 6.533],            time: +0.43 sec\n",
      "loss: [6.976 7.726],            time: +0.41 sec\n",
      "loss: [7.529 8.596],            time: +0.44 sec\n",
      "loss: [ 9.115 10.698],            time: +0.42 sec\n",
      "loss: [10.678 12.467],            time: +0.44 sec\n",
      "loss: [12.63  13.863],            time: +0.41 sec\n",
      "loss: [13.424 15.9  ],            time: +0.39 sec\n",
      "loss: [14.221 18.469],            time: +0.42 sec\n",
      "loss: [15.741 21.044],            time: +0.40 sec\n",
      "loss: [19.416 23.228],            time: +0.39 sec\n",
      "loss: [21.228 26.284],            time: +0.38 sec\n",
      "loss: [24.23  30.128],            time: +0.38 sec\n",
      "loss: [27.991 34.954],            time: +0.36 sec\n",
      "loss: [30.288 38.787],            time: +0.37 sec\n",
      "loss: [32.18  44.213],            time: +0.37 sec\n",
      "loss: [39.827 52.562],            time: +0.39 sec\n",
      "loss: [45.952 58.567],            time: +0.37 sec\n",
      "loss: [53.294 64.257],            time: +0.38 sec\n",
      "loss: [55.913 74.309],            time: +0.37 sec\n",
      "loss: [63.925 80.882],            time: +0.37 sec\n",
      "loss: [68.584 91.808],            time: +0.37 sec\n",
      "loss: [ 78.026 116.933],            time: +0.37 sec\n",
      "loss: [ 84.301 121.521],            time: +0.37 sec\n",
      "loss: [ 91.884 117.627],            time: +0.36 sec\n",
      "loss: [101.377 118.665],            time: +0.37 sec\n",
      "loss: [111.849 128.503],            time: +0.37 sec\n",
      "loss: [118.673 138.301],            time: +0.39 sec\n",
      "loss: [128.039 138.658],            time: +0.37 sec\n",
      "loss: [141.898 167.78 ],            time: +0.37 sec\n",
      "loss: [159.188 154.565],            time: +0.38 sec\n",
      "loss: [168.61  167.475],            time: +0.37 sec\n",
      "loss: [187.771 168.541],            time: +0.37 sec\n",
      "loss: [208.017 191.721],            time: +0.36 sec\n",
      "loss: [226.834 220.277],            time: +0.37 sec\n",
      "loss: [247.251 230.404],            time: +0.38 sec\n",
      "loss: [265.177 256.768],            time: +0.37 sec\n",
      "loss: [285.099 313.603],            time: +0.36 sec\n",
      "loss: [299.47  301.385],            time: +0.39 sec\n",
      "loss: [326.145 364.201],            time: +0.38 sec\n",
      "loss: [353.127 336.055],            time: +0.37 sec\n",
      "loss: [375.129 373.14 ],            time: +0.38 sec\n",
      "loss: [396.872 400.46 ],            time: +0.38 sec\n",
      "loss: [431.048 398.355],            time: +0.44 sec\n",
      "loss: [459.233 440.221],            time: +0.40 sec\n",
      "loss: [490.391 478.475],            time: +0.42 sec\n",
      "loss: [530.877 519.061],            time: +0.43 sec\n",
      "loss: [562.18  555.272],            time: +0.43 sec\n",
      "loss: [608.092 659.431],            time: +0.38 sec\n",
      "loss: [657.382 724.172],            time: +0.37 sec\n",
      "loss: [687.301 747.689],            time: +0.37 sec\n",
      "loss: [744.68  865.559],            time: +0.37 sec\n",
      "loss: [799.489 919.065],            time: +0.43 sec\n",
      "loss: [888.437 998.212],            time: +0.36 sec\n",
      "loss: [ 957.095 1082.743],            time: +0.37 sec\n",
      "loss: [1021.945 1110.832],            time: +0.36 sec\n",
      "loss: [1145.425 1191.899],            time: +0.36 sec\n",
      "loss: [1226.526 1252.978],            time: +0.37 sec\n",
      "loss: [1300.09 1265.01],            time: +0.36 sec\n",
      "loss: [1417.917 1262.567],            time: +0.36 sec\n",
      "loss: [1489.607 1364.907],            time: +0.36 sec\n",
      "loss: [1658.014 1447.585],            time: +0.35 sec\n",
      "loss: [1824.241 1498.814],            time: +0.38 sec\n",
      "loss: [2040.132 1614.203],            time: +0.37 sec\n",
      "loss: [2203.559 1664.354],            time: +0.38 sec\n",
      "loss: [2362.054 1769.156],            time: +0.37 sec\n",
      "loss: [2523.959 1890.637],            time: +0.36 sec\n",
      "loss: [2753.531 1938.47 ],            time: +0.40 sec\n",
      "loss: [2959.169 2009.788],            time: +0.44 sec\n",
      "loss: [3255.649 2152.077],            time: +0.38 sec\n",
      "loss: [3449.112 2266.537],            time: +0.44 sec\n",
      "loss: [3404.809 2304.076],            time: +0.39 sec\n",
      "loss: [3458.634 2350.615],            time: +0.45 sec\n",
      "loss: [3373.994 2364.493],            time: +0.39 sec\n",
      "loss: [2925.008 2475.403],            time: +0.43 sec\n",
      "loss: [2583.69  2565.498],            time: +0.46 sec\n",
      "loss: [2917.72  2644.441],            time: +0.43 sec\n",
      "loss: [2560.337 2725.066],            time: +0.39 sec\n",
      "loss: [3025.379 2872.487],            time: +0.37 sec\n",
      "loss: [3113.387 3068.037],            time: +0.38 sec\n",
      "loss: [3230.737 3162.671],            time: +0.40 sec\n",
      "loss: [3512.261 3314.01 ],            time: +0.40 sec\n"
     ]
    }
   ],
   "source": [
    "dqn2 = network.DQN([\n",
    "                    network.Flatten_layer(),\n",
    "                    network.Linear_layer(GAME_LEN*2, 100),\n",
    "                    network.Activation_layer('ReLU'),\n",
    "                    network.Linear_layer(100, 200),\n",
    "                    network.Activation_layer('ReLU'),\n",
    "                    network.Linear_layer(200, 100),\n",
    "                    network.Activation_layer('ReLU'),\n",
    "                    network.Linear_layer(100, 2),\n",
    "                    ],\n",
    "            network.ReplayMemory(2000), gamma=0.9, greedy=0.2)\n",
    "p2 = NNplayer(dqn2, State(GAME_LEN))\n",
    "del dqn2\n",
    "gc.collect()\n",
    "\n",
    "param = {\"lr\": 1e-4, 'batch': 64, \"mode\": \"train\", \"eps\": 1e-16, \"epoch\": 0, 't': 1, 'clip': 1.0,\n",
    "         'optimizer': ('Adam', 0.9, 0.999), 'regularizer': None, \"loss_fn\":\"mse\"}\n",
    "\n",
    "p2.set_greedy(0.8)\n",
    "for i in range(60):\n",
    "    players = (p2, axl.TitForTat())\n",
    "    game = Match(players)\n",
    "    game.play()\n",
    "p2.set_greedy(0.2)\n",
    "\n",
    "for _ in range(100):\n",
    "    start = time()\n",
    "    \n",
    "    p2.train(1, param)  # my train function updates target net at the end via deepcopy, we can overwrite this by\n",
    "    p2.network.target_net = p2.network.policy_net  # shallow copy policy net to target net\n",
    "    \n",
    "    [Match((p2, axl.TitForTat())).play() for _ in range(10)]\n",
    "    print(f'loss: {p2.network.loss},            time: +{time()-start:.2f} sec')"
   ]
  },
  {
   "cell_type": "code",
   "execution_count": 16,
   "id": "6a7517cb-0c5c-44e2-aeb5-f2c907cfc1ca",
   "metadata": {},
   "outputs": [
    {
     "data": {
      "image/png": "[encoded data removed]",
      "text/plain": [
       "<Figure size 800x640 with 1 Axes>"
      ]
     },
     "metadata": {
      "needs_background": "light"
     },
     "output_type": "display_data"
    }
   ],
   "source": [
    "# see how loss grows exponentially without fixed target\n",
    "p2.plot()"
   ]
  },
  {
   "cell_type": "code",
   "execution_count": 17,
   "id": "16412a30-5e00-4f12-a0b7-78ef04388d86",
   "metadata": {},
   "outputs": [
    {
     "name": "stdout",
     "output_type": "stream",
     "text": [
      "[[1895.781 2224.981]]\n",
      "[[4509.652 4849.993]]\n",
      "[[-2325.622 -1951.222]]\n",
      "[[5065.524 5399.772]]\n",
      "[[-1253.18   -831.701]]\n",
      "[[1857.644 2253.477]]\n",
      "[[2749.836 3138.486]]\n",
      "[[2115.037 2519.162]]\n",
      "[[-126.599  294.846]]\n",
      "[[1711.601 2097.568]]\n",
      "[[2462.761 2878.531]]\n",
      "[[-2544.518 -2109.69 ]]\n",
      "[[4786.542 5144.551]]\n",
      "[[-1133.749  -719.015]]\n",
      "[[ 790.844 1146.44 ]]\n",
      "[[1524.503 1815.945]]\n",
      "[[3151.942 3363.987]]\n",
      "[[-685.803 -440.333]]\n",
      "[[1103.357 1251.631]]\n",
      "[[-73.823  11.889]]\n",
      "[(5, 0), (1, 1), (1, 1), (1, 1), (1, 1), (1, 1), (1, 1), (1, 1), (1, 1), (1, 1), (1, 1), (1, 1), (1, 1), (1, 1), (1, 1), (1, 1), (1, 1), (1, 1), (1, 1)]\n",
      "Player 1 score = 23\n",
      "Player 2 score = 18\n"
     ]
    }
   ],
   "source": [
    "# result:\n",
    "with p2:\n",
    "    play(p2, axl.TitForTat())\n",
    "    \n",
    "# incorrect Q-values -> bad/random policy\n",
    "# (run this section serveral time to see how the policy is effectively random)"
   ]
  },
  {
   "cell_type": "code",
   "execution_count": 18,
   "id": "67b0965d-648b-46d6-b0b3-1c0da4c08e11",
   "metadata": {},
   "outputs": [],
   "source": [
    "del p2"
   ]
  },
  {
   "cell_type": "markdown",
   "id": "b63ca61c-56ce-4fbf-9e45-64793bb1e5b3",
   "metadata": {
    "tags": []
   },
   "source": [
    "### Section 3: testing the off-policyness"
   ]
  },
  {
   "cell_type": "code",
   "execution_count": 19,
   "id": "f635e6ca-462f-4a45-84b7-49f11babd630",
   "metadata": {},
   "outputs": [],
   "source": [
    "from axl_utils.extract import extract"
   ]
  },
  {
   "cell_type": "code",
   "execution_count": 20,
   "id": "1f11f83d-fee2-4c0f-9bda-edb4505f5e7f",
   "metadata": {},
   "outputs": [
    {
     "ename": "TypeError",
     "evalue": "__new__() missing 1 required positional argument: 'done'",
     "output_type": "error",
     "traceback": [
      "\u001b[1;31m---------------------------------------------------------------------------\u001b[0m",
      "\u001b[1;31mTypeError\u001b[0m                                 Traceback (most recent call last)",
      "\u001b[1;32m~\\AppData\\Local\\Temp/ipykernel_15268/4108511570.py\u001b[0m in \u001b[0;36m<module>\u001b[1;34m\u001b[0m\n\u001b[0;32m      3\u001b[0m \u001b[1;32mfor\u001b[0m \u001b[0m_\u001b[0m \u001b[1;32min\u001b[0m \u001b[0mrange\u001b[0m\u001b[1;33m(\u001b[0m\u001b[1;36m500\u001b[0m\u001b[1;33m)\u001b[0m\u001b[1;33m:\u001b[0m\u001b[1;33m\u001b[0m\u001b[1;33m\u001b[0m\u001b[0m\n\u001b[0;32m      4\u001b[0m     \u001b[0mgame\u001b[0m \u001b[1;33m=\u001b[0m \u001b[0mplay\u001b[0m\u001b[1;33m(\u001b[0m\u001b[0maxl\u001b[0m\u001b[1;33m.\u001b[0m\u001b[0mRandom\u001b[0m\u001b[1;33m(\u001b[0m\u001b[1;33m)\u001b[0m\u001b[1;33m,\u001b[0m \u001b[0maxl\u001b[0m\u001b[1;33m.\u001b[0m\u001b[0mTitForTat\u001b[0m\u001b[1;33m(\u001b[0m\u001b[1;33m)\u001b[0m\u001b[1;33m,\u001b[0m \u001b[0mshow\u001b[0m\u001b[1;33m=\u001b[0m\u001b[1;32mFalse\u001b[0m\u001b[1;33m)\u001b[0m\u001b[1;33m\u001b[0m\u001b[1;33m\u001b[0m\u001b[0m\n\u001b[1;32m----> 5\u001b[1;33m     \u001b[0mextract\u001b[0m\u001b[1;33m(\u001b[0m\u001b[0mgame\u001b[0m\u001b[1;33m,\u001b[0m \u001b[0mmemory\u001b[0m\u001b[1;33m)\u001b[0m\u001b[1;33m\u001b[0m\u001b[1;33m\u001b[0m\u001b[0m\n\u001b[0m\u001b[0;32m      6\u001b[0m \u001b[1;33m\u001b[0m\u001b[0m\n\u001b[0;32m      7\u001b[0m \u001b[0mprint\u001b[0m\u001b[1;33m(\u001b[0m\u001b[0mlen\u001b[0m\u001b[1;33m(\u001b[0m\u001b[0mmemory\u001b[0m\u001b[1;33m)\u001b[0m\u001b[1;33m)\u001b[0m\u001b[1;33m\u001b[0m\u001b[1;33m\u001b[0m\u001b[0m\n",
      "\u001b[1;32m~\\Documents\\Files\\Unimelb\\2021 S2\\ANN\\Project\\The-Evolution-of-Defection\\axl_utils\\extract.py\u001b[0m in \u001b[0;36mextract\u001b[1;34m(game, memory, depth)\u001b[0m\n\u001b[0;32m     24\u001b[0m         \u001b[0ms_\u001b[0m \u001b[1;33m=\u001b[0m \u001b[0mstate\u001b[0m\u001b[1;33m.\u001b[0m\u001b[0mpush\u001b[0m\u001b[1;33m(\u001b[0m\u001b[1;33m*\u001b[0m\u001b[0ma_\u001b[0m\u001b[1;33m)\u001b[0m\u001b[1;33m\u001b[0m\u001b[1;33m\u001b[0m\u001b[0m\n\u001b[0;32m     25\u001b[0m         \u001b[0ma_\u001b[0m \u001b[1;33m=\u001b[0m \u001b[1;33m[\u001b[0m\u001b[1;32mTrue\u001b[0m\u001b[1;33m,\u001b[0m \u001b[1;32mFalse\u001b[0m\u001b[1;33m]\u001b[0m \u001b[1;32mif\u001b[0m \u001b[0ma_\u001b[0m\u001b[1;33m[\u001b[0m\u001b[1;36m0\u001b[0m\u001b[1;33m]\u001b[0m\u001b[1;33m==\u001b[0m\u001b[0maxl\u001b[0m\u001b[1;33m.\u001b[0m\u001b[0mAction\u001b[0m\u001b[1;33m.\u001b[0m\u001b[0mC\u001b[0m \u001b[1;32melse\u001b[0m \u001b[1;33m[\u001b[0m\u001b[1;32mFalse\u001b[0m\u001b[1;33m,\u001b[0m \u001b[1;32mTrue\u001b[0m\u001b[1;33m]\u001b[0m\u001b[1;33m\u001b[0m\u001b[1;33m\u001b[0m\u001b[0m\n\u001b[1;32m---> 26\u001b[1;33m         \u001b[0mmemory\u001b[0m\u001b[1;33m.\u001b[0m\u001b[0mpush\u001b[0m\u001b[1;33m(\u001b[0m\u001b[0ms\u001b[0m\u001b[1;33m,\u001b[0m \u001b[0ma_\u001b[0m\u001b[1;33m,\u001b[0m \u001b[0ms_\u001b[0m\u001b[1;33m,\u001b[0m \u001b[0mr_\u001b[0m\u001b[1;33m[\u001b[0m\u001b[1;36m0\u001b[0m\u001b[1;33m]\u001b[0m\u001b[1;33m)\u001b[0m\u001b[1;33m\u001b[0m\u001b[1;33m\u001b[0m\u001b[0m\n\u001b[0m\u001b[0;32m     27\u001b[0m         \u001b[0ms\u001b[0m\u001b[1;33m,\u001b[0m \u001b[0ma\u001b[0m\u001b[1;33m,\u001b[0m \u001b[0mr\u001b[0m \u001b[1;33m=\u001b[0m \u001b[1;33m(\u001b[0m\u001b[0ms_\u001b[0m\u001b[1;33m,\u001b[0m \u001b[0ma_\u001b[0m\u001b[1;33m,\u001b[0m \u001b[0mr_\u001b[0m\u001b[1;33m)\u001b[0m\u001b[1;33m\u001b[0m\u001b[1;33m\u001b[0m\u001b[0m\n\u001b[0;32m     28\u001b[0m \u001b[1;33m\u001b[0m\u001b[0m\n",
      "\u001b[1;32m~\\Documents\\Files\\Unimelb\\2021 S2\\ANN\\Project\\The-Evolution-of-Defection\\network\\dqn.py\u001b[0m in \u001b[0;36mpush\u001b[1;34m(self, *args)\u001b[0m\n\u001b[0;32m     46\u001b[0m \u001b[1;33m\u001b[0m\u001b[0m\n\u001b[0;32m     47\u001b[0m         \"\"\"\n\u001b[1;32m---> 48\u001b[1;33m         \u001b[0mself\u001b[0m\u001b[1;33m.\u001b[0m\u001b[0mmemory\u001b[0m\u001b[1;33m.\u001b[0m\u001b[0mappend\u001b[0m\u001b[1;33m(\u001b[0m\u001b[0mTransition\u001b[0m\u001b[1;33m(\u001b[0m\u001b[1;33m*\u001b[0m\u001b[0margs\u001b[0m\u001b[1;33m)\u001b[0m\u001b[1;33m)\u001b[0m\u001b[1;33m\u001b[0m\u001b[1;33m\u001b[0m\u001b[0m\n\u001b[0m\u001b[0;32m     49\u001b[0m \u001b[1;33m\u001b[0m\u001b[0m\n\u001b[0;32m     50\u001b[0m     \u001b[1;32mdef\u001b[0m \u001b[0msample\u001b[0m\u001b[1;33m(\u001b[0m\u001b[0mself\u001b[0m\u001b[1;33m,\u001b[0m \u001b[0mn\u001b[0m\u001b[1;33m)\u001b[0m\u001b[1;33m:\u001b[0m\u001b[1;33m\u001b[0m\u001b[1;33m\u001b[0m\u001b[0m\n",
      "\u001b[1;31mTypeError\u001b[0m: __new__() missing 1 required positional argument: 'done'"
     ]
    }
   ],
   "source": [
    "# collecting experience from axl.Random\n",
    "memory = network.ReplayMemory(10000)\n",
    "for _ in range(500):\n",
    "    game = play(axl.Random(), axl.TitForTat(), show=False)\n",
    "    extract(game, memory)\n",
    "    \n",
    "print(len(memory))\n",
    "# we can then pass this memory into a fresh DQN"
   ]
  },
  {
   "cell_type": "code",
   "execution_count": null,
   "id": "660f2888-e127-4be6-8700-d92c1b01665b",
   "metadata": {},
   "outputs": [],
   "source": [
    "dqn3 = network.DQN([\n",
    "                    network.Flatten_layer(),\n",
    "                    network.Linear_layer(GAME_LEN*2, 100, bias=0.01),\n",
    "                    network.Activation_layer('ReLU'),\n",
    "                    network.Linear_layer(100, 200),\n",
    "                    network.Activation_layer('ReLU'),\n",
    "                    network.Linear_layer(200, 100),\n",
    "                    network.Activation_layer('ReLU'),\n",
    "                    network.Linear_layer(100, 2),\n",
    "                    ],\n",
    "            memory, gamma=0.9, greedy=0.2)  # <- feeding the memory from above\n",
    "p3 = NNplayer(dqn3, State(GAME_LEN))\n",
    "del dqn3\n",
    "gc.collect()\n",
    "\n",
    "param = {\"lr\": 1e-4, 'batch': 64, \"mode\": \"train\", \"eps\": 1e-16, \"epoch\": 0, 't': 1, 'clip': 1.0,\n",
    "         'optimizer': ('Adam', 0.9, 0.999), 'regularizer': None, \"loss_fn\":\"mse\"}"
   ]
  },
  {
   "cell_type": "code",
   "execution_count": null,
   "id": "62712d1a-2adc-4f97-b279-6519d86e719a",
   "metadata": {
    "scrolled": true,
    "tags": []
   },
   "outputs": [],
   "source": [
    "for _ in range(20):\n",
    "    start = time()\n",
    "    p3.train(5, param)\n",
    "    print(f'loss: {p3.network.loss},            time: +{time()-start:.2f} sec')"
   ]
  },
  {
   "cell_type": "code",
   "execution_count": null,
   "id": "a721478a-0a95-4123-a67a-02b8f2da5907",
   "metadata": {},
   "outputs": [],
   "source": [
    "with p3:\n",
    "    play(p3, axl.TitForTat())\n",
    "    \n",
    "# learns well, without ever playing the game"
   ]
  },
  {
   "cell_type": "code",
   "execution_count": null,
   "id": "90bd9834-c0c0-4329-bf1a-59eb73b7bfbe",
   "metadata": {},
   "outputs": [],
   "source": [
    "del p3"
   ]
  },
  {
   "cell_type": "markdown",
   "id": "d3c1ed14-9aa9-4f58-8418-0fca4d19543a",
   "metadata": {},
   "source": [
    "### Section 4: but what did it learn?"
   ]
  },
  {
   "cell_type": "code",
   "execution_count": null,
   "id": "0da9e622-893e-43cd-96c8-4b15f4972676",
   "metadata": {},
   "outputs": [],
   "source": [
    "# might be an obvious question but let's see what happens if our DQN meets provocative defection\n",
    "\n",
    "p1.network.greedy = 0.0\n",
    "play(p1, axl.HardProber());  # hard prober defects forever if its opponent does not retaliate"
   ]
  },
  {
   "cell_type": "code",
   "execution_count": null,
   "id": "bb34e617-c1e0-44c6-9624-25abe13ff14c",
   "metadata": {},
   "outputs": [],
   "source": [
    "play(axl.Cooperator(), axl.HardProber());  # => our DQN is basically a naive cooperator"
   ]
  },
  {
   "cell_type": "code",
   "execution_count": null,
   "id": "464fa231-ebe7-40a3-9041-6a97128f170a",
   "metadata": {},
   "outputs": [],
   "source": [
    "play(axl.TitForTat(), axl.HardProber());  # while TFT can generalize well to any opponent"
   ]
  },
  {
   "cell_type": "code",
   "execution_count": null,
   "id": "09be710f-a8fe-44e3-b8ad-0ffd3478afa0",
   "metadata": {},
   "outputs": [],
   "source": [
    "# => continue exploration on Stage 2"
   ]
  },
  {
   "cell_type": "markdown",
   "id": "5bc259d0-6dfe-4e3e-b968-faad8fb1c4b4",
   "metadata": {},
   "source": [
    "### Section 5: learning TFT with 2 perceptrons"
   ]
  },
  {
   "cell_type": "code",
   "execution_count": null,
   "id": "2b9c3805-7f27-4acd-9cbb-8435c102016a",
   "metadata": {},
   "outputs": [],
   "source": [
    "# possible states of last turn\n",
    "# where [1,1] means mutual cooperation\n",
    "last_turn = np.array([[1,1],[0,1],[1,0],[0,0]])\n",
    "\n",
    "# target\n",
    "# => copy opponent's action\n",
    "action = np.array([[1],[1],[0],[0]])\n",
    "\n",
    "nn = network.NeuralNetwork([network.Linear_layer(2, 1)])\n",
    "param = {\"lr\": 3e-2, 'batch': 2, \"mode\": \"train\", \"eps\": 1e-16, \"epoch\": 0, 't': 1, 'clip': 1.0,\n",
    "         'optimizer': ('Adam', 0.9, 0.999), 'regularizer': None, \"loss_fn\":\"mse\"}"
   ]
  },
  {
   "cell_type": "code",
   "execution_count": null,
   "id": "d306868a-df19-4a3a-87d1-1929d1abaf48",
   "metadata": {
    "scrolled": true,
    "tags": []
   },
   "outputs": [],
   "source": [
    "for i in range(40):\n",
    "    nn.train(last_turn, action, param)\n",
    "    action_ = np.round(nn(last_turn))\n",
    "    accuracy = np.sum(action_==action) / len(action)\n",
    "    print(f\"Epoch {i}, Accuracy = {accuracy}\")"
   ]
  },
  {
   "cell_type": "code",
   "execution_count": null,
   "id": "ff93d5d5-c8be-4d7e-b2f5-60339ea67292",
   "metadata": {},
   "outputs": [],
   "source": [
    "# but obviously this is human-learning instead of machine learning\n",
    "# will the DQN figure this out by itself?\n",
    "\n",
    "# also, the architecture is more of a policy-gradient approach\n",
    "# the regression nature of DQNs make it impossible to employ simple architecture"
   ]
  },
  {
   "cell_type": "code",
   "execution_count": null,
   "id": "ab68e357-4319-4f75-a1e4-c93bfa60a786",
   "metadata": {},
   "outputs": [],
   "source": []
  }
 ],
 "metadata": {
  "kernelspec": {
   "display_name": "Python 3 (ipykernel)",
   "language": "python",
   "name": "python3"
  },
  "language_info": {
   "codemirror_mode": {
    "name": "ipython",
    "version": 3
   },
   "file_extension": ".py",
   "mimetype": "text/x-python",
   "name": "python",
   "nbconvert_exporter": "python",
   "pygments_lexer": "ipython3",
   "version": "3.8.10"
  }
 },
 "nbformat": 4,
 "nbformat_minor": 5
}
